{
 "cells": [
  {
   "cell_type": "code",
   "execution_count": 1,
   "metadata": {},
   "outputs": [
    {
     "name": "stdout",
     "output_type": "stream",
     "text": [
      "Once deleted, variables cannot be recovered. Proceed (y/[n])? y\n"
     ]
    }
   ],
   "source": [
    "%reset"
   ]
  },
  {
   "cell_type": "markdown",
   "metadata": {},
   "source": [
    "# Data prepartion\n",
    "These scripts load the reports from source code metrics (NDepend), repository mining (PyDriller) and profiler (dotTrace) and filter and change the methods name in order to match the metrics. "
   ]
  },
  {
   "cell_type": "markdown",
   "metadata": {},
   "source": [
    "Import libraries"
   ]
  },
  {
   "cell_type": "code",
   "execution_count": 1,
   "metadata": {
    "pycharm": {
     "name": "#%%\n"
    }
   },
   "outputs": [],
   "source": [
    "import csv\n",
    "from xml.etree import ElementTree\n",
    "import pandas as pd\n",
    "from sklearn import preprocessing\n",
    "import matplotlib.pyplot as plt\n",
    "import numpy as np\n",
    "import os\n",
    "from matplotlib.ticker import StrMethodFormatter\n"
   ]
  },
  {
   "cell_type": "markdown",
   "metadata": {},
   "source": [
    "Locations:"
   ]
  },
  {
   "cell_type": "code",
   "execution_count": null,
   "metadata": {},
   "outputs": [],
   "source": [
    "source_code_metrics_file = \"C:/Users/aprodea/work/metrics-tax-compare/ndepend/export_query.csv\"\n",
    "repo_mining_file = \"C:/Users/aprodea/work/metrics-tax-compare/commits/commits.csv\"\n",
    "usage_folder = \"C:/Users/aprodea/work/metrics-tax-compare/profiler/usage\"\n",
    "\n",
    "test_coverage_file = \"C:/Users/aprodea/work/metrics-tax-compare/coverage/unit_tests.xml\"\n",
    "\n",
    "save_to_folder = \"C:/Users/aprodea/work/metrics-tax-compare/merged/\""
   ]
  },
  {
   "cell_type": "markdown",
   "metadata": {},
   "source": [
    "Helper methods to replace parameter types"
   ]
  },
  {
   "cell_type": "code",
   "execution_count": null,
   "metadata": {},
   "outputs": [],
   "source": [
    "type_dict = {'int': 'Int32', 'long': 'Int64', 'bool': 'Boolean', 'byte': 'Byte', 'decimal': 'Decimal',\n",
    "             'string': 'String', 'double': 'Double', 'object': 'Object', 'char': 'Char', 'uint': 'UInt32'}  # float missing\n",
    "def get_type_outbox(param_type):\n",
    "    if param_type in type_dict:\n",
    "        return type_dict[param_type]\n",
    "    return param_type\n",
    "\n",
    "\n",
    "def replace_by_token(param_type):\n",
    "    delims = \"<>,[]()\"\n",
    "    token = ''\n",
    "    new_param_type = ''\n",
    "    found_delim = False\n",
    "    for i in range(len(param_type)):\n",
    "        if param_type[i] in delims:\n",
    "            found_delim = True\n",
    "            replace = get_type_outbox(token)\n",
    "            token = ''\n",
    "            new_param_type += replace + param_type[i]\n",
    "        else:\n",
    "            token = token + param_type[i]\n",
    "    if found_delim is False:\n",
    "        return get_type_outbox(param_type)\n",
    "    return new_param_type\n",
    "\n",
    "\n",
    "def replace_types(param_type):\n",
    "    for k,v in type_dict.items():\n",
    "        if k in param_type:\n",
    "            param_type = param_type.replace(k, v)\n",
    "    return param_type\n",
    "\n",
    "\n",
    "def ctor_to_class_name(value):\n",
    "    if \"..ctor\" in value:\n",
    "        idx2 = value.rfind(\"..ctor\")\n",
    "        idx1 = value[:idx2].rfind(\".\")\n",
    "        cls_name = value[idx1:idx2]\n",
    "        # in case the class has generics keep only the class name\n",
    "        if '<' in cls_name:\n",
    "            cls_name = cls_name[:cls_name.find('<')]\n",
    "        value = value.replace(\"..ctor\", cls_name)\n",
    "    if \"..cctor\" in value:\n",
    "        idx2 = value.rfind(\"..cctor\")\n",
    "        idx1 = value[:idx2].rfind(\".\")\n",
    "        cls_name = value[idx1:idx2]\n",
    "        # in case the class has generics keep only the class name\n",
    "        if '<' in cls_name:\n",
    "            cls_name = cls_name[:cls_name.find('<')]\n",
    "        value = value.replace(\"..cctor\", cls_name)\n",
    "    return value"
   ]
  },
  {
   "cell_type": "markdown",
   "metadata": {},
   "source": [
    "## Source code metrics"
   ]
  },
  {
   "cell_type": "code",
   "execution_count": null,
   "metadata": {},
   "outputs": [],
   "source": [
    "def change_method_name_metrics(method):\n",
    "    # for inner classes\n",
    "    method = method.replace('+', '.')\n",
    "    method = method.replace('&', '')\n",
    "    return method\n",
    "\n",
    "\n",
    "def get_code_metrics_data():\n",
    "    data = pd.read_csv(file, sep=';', decimal=',')\n",
    "    data['FullName'] = data['FullName'].apply(change_method_name_metrics)\n",
    "    return data"
   ]
  },
  {
   "cell_type": "markdown",
   "metadata": {},
   "source": [
    "Load data"
   ]
  },
  {
   "cell_type": "code",
   "execution_count": null,
   "metadata": {},
   "outputs": [],
   "source": [
    "metrics_data = get_code_metrics_data()"
   ]
  },
  {
   "cell_type": "markdown",
   "metadata": {},
   "source": [
    "Prepare the data by excluding setter, getters, anonymous types and methods with LOC not set or 0.\n",
    "The final dataset contains the set of metrics used in the research."
   ]
  },
  {
   "cell_type": "code",
   "execution_count": 22,
   "metadata": {
    "pycharm": {
     "name": "#%%\n"
    }
   },
   "outputs": [],
   "source": [
    "metrics_data[\"NbLinesOfCode\"].replace({0: np.nan}, inplace=True)\n",
    "\n",
    "no_getters = metrics_data['IsPropertyGetter'] == False\n",
    "no_setters = metrics_data['IsPropertySetter'] == False\n",
    "no_empty_method = metrics_data['NbLinesOfCode'].notna()\n",
    "annonymous = metrics_data['FullName'].str.contains(\"f__AnonymousType\")\n",
    "\n",
    "filtered_metrics_data = metrics_data.copy()\n",
    "filtered_metrics_data = filtered_metrics_data[no_setters & no_getters & no_empty_method & ~annonymous].reset_index()\n",
    "\n",
    "new_df = filtered_metrics_data[[\"FullName\", \"NbLinesOfCode\", \"CyclomaticComplexity\", \"NbParameters\", \"NbVariables\",\n",
    "                                \"ILNestingDepth\", \"NbMethodsCallingMe\", \"NbMethodsCalledInternal\"]].copy()\n",
    "new_df.columns = [\"Method\", \"LOC\", \"CC\", \"NP\", \"NV\", \"NEST\", \"Ca\", \"Ce\"]\n",
    "\n",
    "# Constructors are listed as 'ctor' or 'cctor', replace these with the class name (the actual name of the constructor)\n",
    "new_df['Method'] = new_df['Method'].apply(ctor_to_class_name)"
   ]
  },
  {
   "cell_type": "markdown",
   "metadata": {},
   "source": [
    "## Repository mining metrics"
   ]
  },
  {
   "cell_type": "code",
   "execution_count": null,
   "metadata": {},
   "outputs": [],
   "source": [
    "def change_method_name_commits(method):\n",
    "    method = method.replace('::', '.')\n",
    "    start_parameters = method.rfind('(')\n",
    "    method_name = method[:start_parameters]\n",
    "    parameters_text = method[start_parameters:]\n",
    "    if len(parameters_text) > 2:\n",
    "        parameters_text = parameters_text[1:-1]  # remove ()\n",
    "        parameters = parameters_text.split(', ')\n",
    "        params_types = []\n",
    "        for param in parameters:\n",
    "            # remove potential spaces from start and end\n",
    "            if \"=\" in param:\n",
    "                param = param[:param.find(\"=\")]\n",
    "            if \".\" in param:\n",
    "                # System.Uri _ -> Uri\n",
    "                param = param[param.rfind(\".\") + 1:]\n",
    "            param = param.strip(\" \")\n",
    "            p = param.split(' ')\n",
    "            if \" ? \" in param:\n",
    "                # if int ? _ -> Nullable<Int32>\n",
    "                p_t = replace_by_token(p[0])\n",
    "                param_type = \"Nullable<\" + p_t + \">\"\n",
    "                if \"[]\" in ''.join(p[0:-1]):\n",
    "                    param_type = param_type + \"[]\"\n",
    "            else:\n",
    "                start = 0\n",
    "                end = -1\n",
    "                if (p[0] == \"params\") or (p[0] == \"this\") or (p[0] == \"out\") or (p[0] == \"in\") or (p[0] == \"ref\"):\n",
    "                    # if params string [] _ -> String[] or params Func<T,object> [] _ -> Func<T,Object>[]\n",
    "                    start = 1\n",
    "                p_t = ''.join(p[start:end])\n",
    "                param_type = replace_by_token(p_t)\n",
    "                if (p[0] == \"out\") or (p[0] == \"ref\"):  # example with in modifier is missing\n",
    "                    # out T returnedValue -> T&  or ref DateTime currencyDate -> DateTime&\n",
    "                    param_type = param_type  # + '&'\n",
    "\n",
    "            params_types.append(param_type)\n",
    "        parameters_text = '(' + ','.join(params_types) + ')'\n",
    "\n",
    "    new_name = method_name + parameters_text\n",
    "    return new_name\n",
    "\n",
    "\n",
    "def get_change_metrics_data():\n",
    "    data = pd.read_csv(repo_mining_file, sep=';')\n",
    "    data['Method_Parsed'] = data['Method'].apply(change_method_name_commits)\n",
    "    return data"
   ]
  },
  {
   "cell_type": "markdown",
   "metadata": {},
   "source": [
    "Load change metrics data"
   ]
  },
  {
   "cell_type": "code",
   "execution_count": null,
   "metadata": {},
   "outputs": [],
   "source": [
    "change_data = get_change_metrics_data()"
   ]
  },
  {
   "cell_type": "markdown",
   "metadata": {},
   "source": [
    "## Profiler metrics"
   ]
  },
  {
   "cell_type": "code",
   "execution_count": 19,
   "metadata": {
    "pycharm": {
     "name": "#%%\n"
    }
   },
   "outputs": [],
   "source": [
    "def change_method_name_usage(method):\n",
    "    if '`' in method:\n",
    "        idx = method.find('`')\n",
    "        part = method[idx+1:]\n",
    "        method = method[:idx] + part[part.find('.'):]\n",
    "    params_start = method.rfind('(')\n",
    "    method_name = method[:params_start]\n",
    "    params_text = method[params_start:]\n",
    "    if len(params_text) > 2:\n",
    "        parameters_text = params_text[1:-1]  # remove ()\n",
    "        parameters = parameters_text.split(',')\n",
    "        params_types = []\n",
    "        for param in parameters:\n",
    "            param = param.strip(\" \")\n",
    "            if param.startswith(\"params \"):\n",
    "                param = param[len(\"params\"):]\n",
    "            elif param.startswith(\"out \"):\n",
    "                param = param[len(\"out\"):]\n",
    "            elif param.startswith(\"ref \"):\n",
    "                param = param[len(\"ref\"):]\n",
    "            param = param.strip(\" \")\n",
    "            params_types.append(param)\n",
    "        params_text = '(' + ','.join(params_types) + ')'\n",
    "        \n",
    "    # for inner classes\n",
    "    method_name = method_name.replace('+', '.')\n",
    "\n",
    "    new_name = method_name + params_text\n",
    "    return new_name\n",
    "\n",
    "\n",
    "def get_profiler_metrics_data(file):\n",
    "    calls_metrics = {'Method': [], 'Calls': []}\n",
    "    root = ElementTree.parse(file).getroot()\n",
    "    for type_tag in root.findall('Function'):\n",
    "        method = type_tag.get('FQN')\n",
    "        calls = type_tag.get('Calls')\n",
    "\n",
    "        calls_metrics['Method'].append(str(method))\n",
    "        calls_metrics['Calls'].append(int(calls))\n",
    "    df = pd.DataFrame(data=calls_metrics)\n",
    "    df['Method'] = df['Method'].apply(change_method_name_usage)\n",
    "    return df\n",
    "\n",
    "\n",
    "def get_all_profiler_metrics_data():\n",
    "    calls_dfs = []\n",
    "    folder = usage_folder\n",
    "    with os.scandir(folder) as entries:\n",
    "        for entry in entries:\n",
    "            if entry.is_file() and entry.name.endswith('.xml'):\n",
    "                full_path = os.path.join(folder, entry.name)\n",
    "                calls_dfs.append(get_profiler_metrics_data(full_path))\n",
    "    df = pd.concat(calls_dfs)\n",
    "    df = df.groupby('Method')['Calls'].sum().reset_index()\n",
    "    return df\n"
   ]
  },
  {
   "cell_type": "markdown",
   "metadata": {},
   "source": [
    "Load the profiler metrics and replace 'ctor' and 'cctor' with the class name."
   ]
  },
  {
   "cell_type": "code",
   "execution_count": 25,
   "metadata": {
    "pycharm": {
     "name": "#%%\n"
    }
   },
   "outputs": [],
   "source": [
    "calls_data = get_all_profiler_metrics_data()\n",
    "\n",
    "calls_data['Method'] = calls_data['Method'].apply(ctor_to_class_name)"
   ]
  },
  {
   "cell_type": "markdown",
   "metadata": {},
   "source": [
    "Extra method to collect the metrics from Visual Studio Performance Profiler report"
   ]
  },
  {
   "cell_type": "code",
   "execution_count": null,
   "metadata": {},
   "outputs": [],
   "source": [
    "def get_vs_profiler_metrics_data():\n",
    "    file = \"C:/Users/aprodea/work/profiler/vs/Report20201015-1152_FunctionSummary.xml\"\n",
    "    calls_metrics = {'Method': [], 'Calls': [], 'SourceFile': []}\n",
    "    root = ElementTree.parse(file).getroot()\n",
    "    for type_tag in root.findall('FunctionSummary/Function'):\n",
    "        method = type_tag.get('FunctionName')\n",
    "        calls = type_tag.get('NumCalls')\n",
    "        source_file = type_tag.get('SourceFile')\n",
    "        # line_no = type_tag.get('LineNumber')\n",
    "\n",
    "        if method.startswith('GES_GRT'):\n",
    "            calls_metrics['Method'].append(str(method))\n",
    "            calls_metrics['Calls'].append(int(calls))\n",
    "            calls_metrics['SourceFile'].append(str(source_file))\n",
    "\n",
    "    return pd.DataFrame(data=calls_metrics)"
   ]
  },
  {
   "cell_type": "markdown",
   "metadata": {},
   "source": [
    "## Test coverage"
   ]
  },
  {
   "cell_type": "code",
   "execution_count": null,
   "metadata": {},
   "outputs": [],
   "source": [
    "test_coverage = {'Method': [], 'TotalStatements': [], 'CoveredStatements': []}\n",
    "\n",
    "def get_children(all_path, element):\n",
    "    name = element.get(\"Name\")\n",
    "    if element.tag in ['Method', 'Constructor']:\n",
    "        all_path += name\n",
    "        if \"DynamicQueryableExtensions\" in all_path:  print(all_path)\n",
    "        method_name = str(all_path)\n",
    "        idx = method_name.rfind(':')\n",
    "        if idx > 0:\n",
    "            method_name = method_name[:idx]\n",
    "        test_coverage['Method'].append(method_name)\n",
    "        test_coverage['TotalStatements'].append(int(element.get(\"TotalStatements\")))\n",
    "        test_coverage['CoveredStatements'].append(str(element.get(\"CoveredStatements\")))\n",
    "    elif name is not None:\n",
    "        all_path += name + '.'\n",
    "        \n",
    "    for el in list(element):\n",
    "        get_children(all_path, el)\n",
    "\n",
    "\n",
    "def change_name_coverage(method):\n",
    "    start_parameters = method.rfind('(')\n",
    "    method_name = method[:start_parameters]\n",
    "    parameters_text = method[start_parameters:]\n",
    "    if len(parameters_text) > 2:\n",
    "        parameters_text = parameters_text.replace('params ', '')\n",
    "        parameters_text = parameters_text.replace('out ', '')\n",
    "        parameters_text = parameters_text.replace('ref ', '')\n",
    "        parameters_text = parameters_text.replace('in ', '')\n",
    "        parameters_text = replace_by_token(parameters_text)\n",
    "        \n",
    "    method_name = method_name.replace('+', '.')\n",
    "\n",
    "    new_name = method_name + parameters_text\n",
    "    return new_name\n",
    "        \n",
    "        \n",
    "def get_test_coverage_data():\n",
    "    root = ElementTree.parse(test_coverage_file).getroot()\n",
    "\n",
    "    for type_tag in root.findall('Project/*'):\n",
    "        get_children('', type_tag)\n",
    "\n",
    "    df = pd.DataFrame(data=test_coverage)\n",
    "    df['Method'] = df['Method'].apply(change_name_coverage)\n",
    "    return df"
   ]
  },
  {
   "cell_type": "markdown",
   "metadata": {},
   "source": [
    "Load test coverage data"
   ]
  },
  {
   "cell_type": "code",
   "execution_count": 21,
   "metadata": {
    "pycharm": {
     "name": "#%%\n"
    }
   },
   "outputs": [],
   "source": [
    "test_coverage_data = get_test_coverage_data()"
   ]
  },
  {
   "cell_type": "markdown",
   "metadata": {},
   "source": [
    "Write the resulting datasets to file"
   ]
  },
  {
   "cell_type": "code",
   "execution_count": 27,
   "metadata": {
    "pycharm": {
     "name": "#%%\n"
    }
   },
   "outputs": [],
   "source": [
    "new_df.to_csv(save_to_folder + \"subset_metrics.csv\", sep=';', index=False)\n",
    "calls_data.to_csv(save_to_folder + \"all_calls.csv\", sep=';', index=False)\n",
    "change_data.to_csv(save_to_folder + \"all_changes.csv\", sep=';', index=False)\n",
    "\n",
    "test_coverage_data.to_csv(save_to_folder + \"test_coverage_org.csv\", sep=';', index=False)"
   ]
  },
  {
   "cell_type": "markdown",
   "metadata": {},
   "source": [
    "## Few checks"
   ]
  },
  {
   "cell_type": "code",
   "execution_count": 32,
   "metadata": {
    "pycharm": {
     "name": "#%%\n"
    }
   },
   "outputs": [],
   "source": [
    "diff_ch_and_metrics = change_data[~change_data['Method_Parsed'].isin(new_df['Method'])].dropna()\n",
    "# diff_ch_and_metrics.to_csv(save_to_folder + \"ch_not_found_in_metrics.csv\", sep=';', index=False, na_rep=0)"
   ]
  },
  {
   "cell_type": "code",
   "execution_count": 33,
   "metadata": {},
   "outputs": [
    {
     "data": {
      "text/html": [
       "<div>\n",
       "<style scoped>\n",
       "    .dataframe tbody tr th:only-of-type {\n",
       "        vertical-align: middle;\n",
       "    }\n",
       "\n",
       "    .dataframe tbody tr th {\n",
       "        vertical-align: top;\n",
       "    }\n",
       "\n",
       "    .dataframe thead th {\n",
       "        text-align: right;\n",
       "    }\n",
       "</style>\n",
       "<table border=\"1\" class=\"dataframe\">\n",
       "  <thead>\n",
       "    <tr style=\"text-align: right;\">\n",
       "      <th></th>\n",
       "      <th>Method</th>\n",
       "      <th>LOC</th>\n",
       "      <th>CC</th>\n",
       "      <th>NP</th>\n",
       "      <th>NV</th>\n",
       "      <th>NEST</th>\n",
       "      <th>Ca</th>\n",
       "      <th>Ce</th>\n",
       "    </tr>\n",
       "  </thead>\n",
       "  <tbody>\n",
       "  </tbody>\n",
       "</table>\n",
       "</div>"
      ],
      "text/plain": [
       "Empty DataFrame\n",
       "Columns: [Method, LOC, CC, NP, NV, NEST, Ca, Ce]\n",
       "Index: []"
      ]
     },
     "execution_count": 33,
     "metadata": {},
     "output_type": "execute_result"
    }
   ],
   "source": [
    "new_df[~new_df['Method'].isin(test_coverage_data['Method'])].dropna()"
   ]
  },
  {
   "cell_type": "markdown",
   "metadata": {},
   "source": [
    "## Merging data"
   ]
  },
  {
   "cell_type": "markdown",
   "metadata": {},
   "source": [
    "Select the change metrics we need and rename the columns, and sum the results (in case there are multiple rows for the same method)"
   ]
  },
  {
   "cell_type": "code",
   "execution_count": 29,
   "metadata": {
    "pycharm": {
     "name": "#%%\n"
    }
   },
   "outputs": [],
   "source": [
    "sub_change_data = change_data[['Method_Parsed', 'Changes']]\n",
    "sub_change_data.columns = ['Method', 'NChg']\n",
    "sub_change_data = sub_change_data.groupby('Method')['NChg'].sum().reset_index()\n",
    "sub_change_data"
   ]
  },
  {
   "cell_type": "markdown",
   "metadata": {},
   "source": [
    "### Merge change data to soure code metrics data"
   ]
  },
  {
   "cell_type": "code",
   "execution_count": 34,
   "metadata": {
    "pycharm": {
     "name": "#%%\n"
    }
   },
   "outputs": [
    {
     "data": {
      "text/html": [
       "<div>\n",
       "<style scoped>\n",
       "    .dataframe tbody tr th:only-of-type {\n",
       "        vertical-align: middle;\n",
       "    }\n",
       "\n",
       "    .dataframe tbody tr th {\n",
       "        vertical-align: top;\n",
       "    }\n",
       "\n",
       "    .dataframe thead th {\n",
       "        text-align: right;\n",
       "    }\n",
       "</style>\n",
       "<table border=\"1\" class=\"dataframe\">\n",
       "  <thead>\n",
       "    <tr style=\"text-align: right;\">\n",
       "      <th></th>\n",
       "      <th>Method</th>\n",
       "      <th>LOC</th>\n",
       "      <th>CC</th>\n",
       "      <th>NP</th>\n",
       "      <th>NV</th>\n",
       "      <th>NEST</th>\n",
       "      <th>Ca</th>\n",
       "      <th>Ce</th>\n",
       "      <th>NChg</th>\n",
       "    </tr>\n",
       "  </thead>\n",
       "  <tbody>\n",
       "    <tr>\n",
       "      <th>0</th>\n",
       "      <td>GES_GRT.GES_GRTCoreModule.PreInitialize()</td>\n",
       "      <td>14.0</td>\n",
       "      <td>3.0</td>\n",
       "      <td>0</td>\n",
       "      <td>1.0</td>\n",
       "      <td>1.0</td>\n",
       "      <td>0</td>\n",
       "      <td>2</td>\n",
       "      <td>2.0</td>\n",
       "    </tr>\n",
       "    <tr>\n",
       "      <th>1</th>\n",
       "      <td>GES_GRT.GES_GRTCoreModule.Initialize()</td>\n",
       "      <td>1.0</td>\n",
       "      <td>1.0</td>\n",
       "      <td>0</td>\n",
       "      <td>0.0</td>\n",
       "      <td>0.0</td>\n",
       "      <td>0</td>\n",
       "      <td>0</td>\n",
       "      <td>1.0</td>\n",
       "    </tr>\n",
       "    <tr>\n",
       "      <th>2</th>\n",
       "      <td>GES_GRT.GES_GRTCoreModule.PostInitialize()</td>\n",
       "      <td>2.0</td>\n",
       "      <td>1.0</td>\n",
       "      <td>0</td>\n",
       "      <td>0.0</td>\n",
       "      <td>0.0</td>\n",
       "      <td>0</td>\n",
       "      <td>1</td>\n",
       "      <td>1.0</td>\n",
       "    </tr>\n",
       "    <tr>\n",
       "      <th>3</th>\n",
       "      <td>GES_GRT.GES_GRTDomainServiceBase.GES_GRTDomain...</td>\n",
       "      <td>2.0</td>\n",
       "      <td>1.0</td>\n",
       "      <td>0</td>\n",
       "      <td>0.0</td>\n",
       "      <td>0.0</td>\n",
       "      <td>5</td>\n",
       "      <td>0</td>\n",
       "      <td>1.0</td>\n",
       "    </tr>\n",
       "    <tr>\n",
       "      <th>4</th>\n",
       "      <td>GES_GRT.GES_GRTServiceBase.GES_GRTServiceBase()</td>\n",
       "      <td>2.0</td>\n",
       "      <td>1.0</td>\n",
       "      <td>0</td>\n",
       "      <td>0.0</td>\n",
       "      <td>0.0</td>\n",
       "      <td>4</td>\n",
       "      <td>0</td>\n",
       "      <td>1.0</td>\n",
       "    </tr>\n",
       "    <tr>\n",
       "      <th>...</th>\n",
       "      <td>...</td>\n",
       "      <td>...</td>\n",
       "      <td>...</td>\n",
       "      <td>...</td>\n",
       "      <td>...</td>\n",
       "      <td>...</td>\n",
       "      <td>...</td>\n",
       "      <td>...</td>\n",
       "      <td>...</td>\n",
       "    </tr>\n",
       "    <tr>\n",
       "      <th>799</th>\n",
       "      <td>GES_GRT.Web.App.Startup.AppBundleConfig.Regist...</td>\n",
       "      <td>8.0</td>\n",
       "      <td>1.0</td>\n",
       "      <td>1</td>\n",
       "      <td>0.0</td>\n",
       "      <td>0.0</td>\n",
       "      <td>1</td>\n",
       "      <td>3</td>\n",
       "      <td>4.0</td>\n",
       "    </tr>\n",
       "    <tr>\n",
       "      <th>800</th>\n",
       "      <td>GES_GRT.Web.App.Startup.AppBundleConfig.AddApp...</td>\n",
       "      <td>1.0</td>\n",
       "      <td>3.0</td>\n",
       "      <td>2</td>\n",
       "      <td>0.0</td>\n",
       "      <td>1.0</td>\n",
       "      <td>1</td>\n",
       "      <td>2</td>\n",
       "      <td>1.0</td>\n",
       "    </tr>\n",
       "    <tr>\n",
       "      <th>801</th>\n",
       "      <td>GES_GRT.Web.App.Startup.AppBundleConfig.AddApp...</td>\n",
       "      <td>1.0</td>\n",
       "      <td>6.0</td>\n",
       "      <td>2</td>\n",
       "      <td>0.0</td>\n",
       "      <td>1.0</td>\n",
       "      <td>1</td>\n",
       "      <td>2</td>\n",
       "      <td>1.0</td>\n",
       "    </tr>\n",
       "    <tr>\n",
       "      <th>802</th>\n",
       "      <td>GES_GRT.Web.App.Startup.AppNavigationProvider....</td>\n",
       "      <td>2.0</td>\n",
       "      <td>1.0</td>\n",
       "      <td>1</td>\n",
       "      <td>0.0</td>\n",
       "      <td>0.0</td>\n",
       "      <td>0</td>\n",
       "      <td>1</td>\n",
       "      <td>17.0</td>\n",
       "    </tr>\n",
       "    <tr>\n",
       "      <th>803</th>\n",
       "      <td>GES_GRT.Web.App.Startup.AppNavigationProvider....</td>\n",
       "      <td>1.0</td>\n",
       "      <td>1.0</td>\n",
       "      <td>1</td>\n",
       "      <td>1.0</td>\n",
       "      <td>0.0</td>\n",
       "      <td>1</td>\n",
       "      <td>0</td>\n",
       "      <td>2.0</td>\n",
       "    </tr>\n",
       "  </tbody>\n",
       "</table>\n",
       "<p>804 rows × 9 columns</p>\n",
       "</div>"
      ],
      "text/plain": [
       "                                                Method   LOC   CC  NP   NV  \\\n",
       "0            GES_GRT.GES_GRTCoreModule.PreInitialize()  14.0  3.0   0  1.0   \n",
       "1               GES_GRT.GES_GRTCoreModule.Initialize()   1.0  1.0   0  0.0   \n",
       "2           GES_GRT.GES_GRTCoreModule.PostInitialize()   2.0  1.0   0  0.0   \n",
       "3    GES_GRT.GES_GRTDomainServiceBase.GES_GRTDomain...   2.0  1.0   0  0.0   \n",
       "4      GES_GRT.GES_GRTServiceBase.GES_GRTServiceBase()   2.0  1.0   0  0.0   \n",
       "..                                                 ...   ...  ...  ..  ...   \n",
       "799  GES_GRT.Web.App.Startup.AppBundleConfig.Regist...   8.0  1.0   1  0.0   \n",
       "800  GES_GRT.Web.App.Startup.AppBundleConfig.AddApp...   1.0  3.0   2  0.0   \n",
       "801  GES_GRT.Web.App.Startup.AppBundleConfig.AddApp...   1.0  6.0   2  0.0   \n",
       "802  GES_GRT.Web.App.Startup.AppNavigationProvider....   2.0  1.0   1  0.0   \n",
       "803  GES_GRT.Web.App.Startup.AppNavigationProvider....   1.0  1.0   1  1.0   \n",
       "\n",
       "     NEST  Ca  Ce  NChg  \n",
       "0     1.0   0   2   2.0  \n",
       "1     0.0   0   0   1.0  \n",
       "2     0.0   0   1   1.0  \n",
       "3     0.0   5   0   1.0  \n",
       "4     0.0   4   0   1.0  \n",
       "..    ...  ..  ..   ...  \n",
       "799   0.0   1   3   4.0  \n",
       "800   1.0   1   2   1.0  \n",
       "801   1.0   1   2   1.0  \n",
       "802   0.0   0   1  17.0  \n",
       "803   0.0   1   0   2.0  \n",
       "\n",
       "[804 rows x 9 columns]"
      ]
     },
     "execution_count": 34,
     "metadata": {},
     "output_type": "execute_result"
    }
   ],
   "source": [
    "merged_left_ch = pd.merge(left=new_df, right=sub_change_data, how='left', left_on='Method', right_on='Method')\n",
    "merged_left_ch"
   ]
  },
  {
   "cell_type": "code",
   "execution_count": 35,
   "metadata": {
    "pycharm": {
     "name": "#%%\n"
    }
   },
   "outputs": [],
   "source": [
    "missing_ch = merged_left_ch[pd.isnull(merged_left_ch['NChg'])]\n",
    "# missing_ch.to_csv(save_to_folder + \"missing_ch_in_merged.csv\", sep=';', index=False)"
   ]
  },
  {
   "cell_type": "markdown",
   "metadata": {},
   "source": [
    "On the merging result; remove the generics type of methods in order to match with the method names from profiler report "
   ]
  },
  {
   "cell_type": "code",
   "execution_count": null,
   "metadata": {
    "pycharm": {
     "name": "#%%\n"
    }
   },
   "outputs": [],
   "source": [
    "def remove_generics_as_in_calls(params_decl):\n",
    "    new_decl = ''\n",
    "    count = 0\n",
    "\n",
    "    for i in range(len(params_decl)):\n",
    "        c = params_decl[i]\n",
    "        if c == '<':\n",
    "            count += 1\n",
    "            continue\n",
    "        if c == '>':\n",
    "            count -= 1\n",
    "            continue\n",
    "        if c == '&':\n",
    "            continue\n",
    "        if count == 0:\n",
    "            new_decl += c\n",
    "\n",
    "    return new_decl\n",
    "\n",
    "\n",
    "merged_left_ch['Method_Parsed'] = merged_left_ch['Method'].apply(remove_generics_as_in_calls)"
   ]
  },
  {
   "cell_type": "markdown",
   "metadata": {},
   "source": [
    "Select the profiler metrics we need and rename the columns, and sum the results (in case there are multiple rows for the same method)"
   ]
  },
  {
   "cell_type": "code",
   "execution_count": 38,
   "metadata": {
    "pycharm": {
     "name": "#%%\n"
    }
   },
   "outputs": [
    {
     "data": {
      "text/html": [
       "<div>\n",
       "<style scoped>\n",
       "    .dataframe tbody tr th:only-of-type {\n",
       "        vertical-align: middle;\n",
       "    }\n",
       "\n",
       "    .dataframe tbody tr th {\n",
       "        vertical-align: top;\n",
       "    }\n",
       "\n",
       "    .dataframe thead th {\n",
       "        text-align: right;\n",
       "    }\n",
       "</style>\n",
       "<table border=\"1\" class=\"dataframe\">\n",
       "  <thead>\n",
       "    <tr style=\"text-align: right;\">\n",
       "      <th></th>\n",
       "      <th>Method_calls</th>\n",
       "      <th>NCall</th>\n",
       "    </tr>\n",
       "  </thead>\n",
       "  <tbody>\n",
       "    <tr>\n",
       "      <th>0</th>\n",
       "      <td>Castle.Proxies.Invocations.GES_GRTAppServiceBa...</td>\n",
       "      <td>9</td>\n",
       "    </tr>\n",
       "    <tr>\n",
       "      <th>1</th>\n",
       "      <td>Castle.Proxies.Invocations.GES_GRTAppServiceBa...</td>\n",
       "      <td>6</td>\n",
       "    </tr>\n",
       "    <tr>\n",
       "      <th>2</th>\n",
       "      <td>Castle.Proxies.Invocations.GES_GRTAppServiceBa...</td>\n",
       "      <td>40</td>\n",
       "    </tr>\n",
       "    <tr>\n",
       "      <th>3</th>\n",
       "      <td>Castle.Proxies.Invocations.GES_GRTAppServiceBa...</td>\n",
       "      <td>49</td>\n",
       "    </tr>\n",
       "    <tr>\n",
       "      <th>4</th>\n",
       "      <td>Castle.Proxies.Invocations.GES_GRTAppServiceBa...</td>\n",
       "      <td>136</td>\n",
       "    </tr>\n",
       "    <tr>\n",
       "      <th>...</th>\n",
       "      <td>...</td>\n",
       "      <td>...</td>\n",
       "    </tr>\n",
       "    <tr>\n",
       "      <th>2424</th>\n",
       "      <td>GES_GRT.WebApi.Helpers.ApiReflectionHelper.Get...</td>\n",
       "      <td>24</td>\n",
       "    </tr>\n",
       "    <tr>\n",
       "      <th>2425</th>\n",
       "      <td>GES_GRT.WebApi.Helpers.ApiReflectionHelper.Get...</td>\n",
       "      <td>24</td>\n",
       "    </tr>\n",
       "    <tr>\n",
       "      <th>2426</th>\n",
       "      <td>GES_GRT.WebApi.Helpers.ApiReflectionHelper.IsU...</td>\n",
       "      <td>24</td>\n",
       "    </tr>\n",
       "    <tr>\n",
       "      <th>2427</th>\n",
       "      <td>GES_GRT.WebApi.Helpers.TextResult.ExecuteAsync...</td>\n",
       "      <td>3</td>\n",
       "    </tr>\n",
       "    <tr>\n",
       "      <th>2428</th>\n",
       "      <td>GES_GRT.WebApi.Helpers.TextResult.TextResult(O...</td>\n",
       "      <td>3</td>\n",
       "    </tr>\n",
       "  </tbody>\n",
       "</table>\n",
       "<p>2429 rows × 2 columns</p>\n",
       "</div>"
      ],
      "text/plain": [
       "                                           Method_calls  NCall\n",
       "0     Castle.Proxies.Invocations.GES_GRTAppServiceBa...      9\n",
       "1     Castle.Proxies.Invocations.GES_GRTAppServiceBa...      6\n",
       "2     Castle.Proxies.Invocations.GES_GRTAppServiceBa...     40\n",
       "3     Castle.Proxies.Invocations.GES_GRTAppServiceBa...     49\n",
       "4     Castle.Proxies.Invocations.GES_GRTAppServiceBa...    136\n",
       "...                                                 ...    ...\n",
       "2424  GES_GRT.WebApi.Helpers.ApiReflectionHelper.Get...     24\n",
       "2425  GES_GRT.WebApi.Helpers.ApiReflectionHelper.Get...     24\n",
       "2426  GES_GRT.WebApi.Helpers.ApiReflectionHelper.IsU...     24\n",
       "2427  GES_GRT.WebApi.Helpers.TextResult.ExecuteAsync...      3\n",
       "2428  GES_GRT.WebApi.Helpers.TextResult.TextResult(O...      3\n",
       "\n",
       "[2429 rows x 2 columns]"
      ]
     },
     "execution_count": 38,
     "metadata": {},
     "output_type": "execute_result"
    }
   ],
   "source": [
    "sub_calls_data = calls_data[['Method', 'Calls']]\n",
    "sub_calls_data.columns = ['Method_calls', 'NCall']\n",
    "sub_calls_data = sub_calls_data.groupby('Method_calls')['NCall'].sum().reset_index()\n",
    "sub_calls_data"
   ]
  },
  {
   "cell_type": "markdown",
   "metadata": {},
   "source": [
    "### Merge also the profiler metrics based on the renamed variable"
   ]
  },
  {
   "cell_type": "code",
   "execution_count": 39,
   "metadata": {
    "pycharm": {
     "name": "#%%\n"
    }
   },
   "outputs": [
    {
     "data": {
      "text/html": [
       "<div>\n",
       "<style scoped>\n",
       "    .dataframe tbody tr th:only-of-type {\n",
       "        vertical-align: middle;\n",
       "    }\n",
       "\n",
       "    .dataframe tbody tr th {\n",
       "        vertical-align: top;\n",
       "    }\n",
       "\n",
       "    .dataframe thead th {\n",
       "        text-align: right;\n",
       "    }\n",
       "</style>\n",
       "<table border=\"1\" class=\"dataframe\">\n",
       "  <thead>\n",
       "    <tr style=\"text-align: right;\">\n",
       "      <th></th>\n",
       "      <th>Method</th>\n",
       "      <th>LOC</th>\n",
       "      <th>CC</th>\n",
       "      <th>NP</th>\n",
       "      <th>NV</th>\n",
       "      <th>NEST</th>\n",
       "      <th>Ca</th>\n",
       "      <th>Ce</th>\n",
       "      <th>NChg</th>\n",
       "      <th>Method_Parsed</th>\n",
       "      <th>Method_calls</th>\n",
       "      <th>NCall</th>\n",
       "    </tr>\n",
       "  </thead>\n",
       "  <tbody>\n",
       "    <tr>\n",
       "      <th>0</th>\n",
       "      <td>GES_GRT.GES_GRTCoreModule.PreInitialize()</td>\n",
       "      <td>14.0</td>\n",
       "      <td>3.0</td>\n",
       "      <td>0</td>\n",
       "      <td>1.0</td>\n",
       "      <td>1.0</td>\n",
       "      <td>0</td>\n",
       "      <td>2</td>\n",
       "      <td>2.0</td>\n",
       "      <td>GES_GRT.GES_GRTCoreModule.PreInitialize()</td>\n",
       "      <td>GES_GRT.GES_GRTCoreModule.PreInitialize()</td>\n",
       "      <td>4.0</td>\n",
       "    </tr>\n",
       "    <tr>\n",
       "      <th>1</th>\n",
       "      <td>GES_GRT.GES_GRTCoreModule.Initialize()</td>\n",
       "      <td>1.0</td>\n",
       "      <td>1.0</td>\n",
       "      <td>0</td>\n",
       "      <td>0.0</td>\n",
       "      <td>0.0</td>\n",
       "      <td>0</td>\n",
       "      <td>0</td>\n",
       "      <td>1.0</td>\n",
       "      <td>GES_GRT.GES_GRTCoreModule.Initialize()</td>\n",
       "      <td>GES_GRT.GES_GRTCoreModule.Initialize()</td>\n",
       "      <td>4.0</td>\n",
       "    </tr>\n",
       "    <tr>\n",
       "      <th>2</th>\n",
       "      <td>GES_GRT.GES_GRTCoreModule.PostInitialize()</td>\n",
       "      <td>2.0</td>\n",
       "      <td>1.0</td>\n",
       "      <td>0</td>\n",
       "      <td>0.0</td>\n",
       "      <td>0.0</td>\n",
       "      <td>0</td>\n",
       "      <td>1</td>\n",
       "      <td>1.0</td>\n",
       "      <td>GES_GRT.GES_GRTCoreModule.PostInitialize()</td>\n",
       "      <td>GES_GRT.GES_GRTCoreModule.PostInitialize()</td>\n",
       "      <td>4.0</td>\n",
       "    </tr>\n",
       "    <tr>\n",
       "      <th>3</th>\n",
       "      <td>GES_GRT.GES_GRTDomainServiceBase.GES_GRTDomain...</td>\n",
       "      <td>2.0</td>\n",
       "      <td>1.0</td>\n",
       "      <td>0</td>\n",
       "      <td>0.0</td>\n",
       "      <td>0.0</td>\n",
       "      <td>5</td>\n",
       "      <td>0</td>\n",
       "      <td>1.0</td>\n",
       "      <td>GES_GRT.GES_GRTDomainServiceBase.GES_GRTDomain...</td>\n",
       "      <td>GES_GRT.GES_GRTDomainServiceBase.GES_GRTDomain...</td>\n",
       "      <td>3707.0</td>\n",
       "    </tr>\n",
       "    <tr>\n",
       "      <th>4</th>\n",
       "      <td>GES_GRT.GES_GRTServiceBase.GES_GRTServiceBase()</td>\n",
       "      <td>2.0</td>\n",
       "      <td>1.0</td>\n",
       "      <td>0</td>\n",
       "      <td>0.0</td>\n",
       "      <td>0.0</td>\n",
       "      <td>4</td>\n",
       "      <td>0</td>\n",
       "      <td>1.0</td>\n",
       "      <td>GES_GRT.GES_GRTServiceBase.GES_GRTServiceBase()</td>\n",
       "      <td>GES_GRT.GES_GRTServiceBase.GES_GRTServiceBase()</td>\n",
       "      <td>2358.0</td>\n",
       "    </tr>\n",
       "    <tr>\n",
       "      <th>...</th>\n",
       "      <td>...</td>\n",
       "      <td>...</td>\n",
       "      <td>...</td>\n",
       "      <td>...</td>\n",
       "      <td>...</td>\n",
       "      <td>...</td>\n",
       "      <td>...</td>\n",
       "      <td>...</td>\n",
       "      <td>...</td>\n",
       "      <td>...</td>\n",
       "      <td>...</td>\n",
       "      <td>...</td>\n",
       "    </tr>\n",
       "    <tr>\n",
       "      <th>799</th>\n",
       "      <td>GES_GRT.Web.App.Startup.AppBundleConfig.Regist...</td>\n",
       "      <td>8.0</td>\n",
       "      <td>1.0</td>\n",
       "      <td>1</td>\n",
       "      <td>0.0</td>\n",
       "      <td>0.0</td>\n",
       "      <td>1</td>\n",
       "      <td>3</td>\n",
       "      <td>4.0</td>\n",
       "      <td>GES_GRT.Web.App.Startup.AppBundleConfig.Regist...</td>\n",
       "      <td>GES_GRT.Web.App.Startup.AppBundleConfig.Regist...</td>\n",
       "      <td>4.0</td>\n",
       "    </tr>\n",
       "    <tr>\n",
       "      <th>800</th>\n",
       "      <td>GES_GRT.Web.App.Startup.AppBundleConfig.AddApp...</td>\n",
       "      <td>1.0</td>\n",
       "      <td>3.0</td>\n",
       "      <td>2</td>\n",
       "      <td>0.0</td>\n",
       "      <td>1.0</td>\n",
       "      <td>1</td>\n",
       "      <td>2</td>\n",
       "      <td>1.0</td>\n",
       "      <td>GES_GRT.Web.App.Startup.AppBundleConfig.AddApp...</td>\n",
       "      <td>GES_GRT.Web.App.Startup.AppBundleConfig.AddApp...</td>\n",
       "      <td>8.0</td>\n",
       "    </tr>\n",
       "    <tr>\n",
       "      <th>801</th>\n",
       "      <td>GES_GRT.Web.App.Startup.AppBundleConfig.AddApp...</td>\n",
       "      <td>1.0</td>\n",
       "      <td>6.0</td>\n",
       "      <td>2</td>\n",
       "      <td>0.0</td>\n",
       "      <td>1.0</td>\n",
       "      <td>1</td>\n",
       "      <td>2</td>\n",
       "      <td>1.0</td>\n",
       "      <td>GES_GRT.Web.App.Startup.AppBundleConfig.AddApp...</td>\n",
       "      <td>GES_GRT.Web.App.Startup.AppBundleConfig.AddApp...</td>\n",
       "      <td>8.0</td>\n",
       "    </tr>\n",
       "    <tr>\n",
       "      <th>802</th>\n",
       "      <td>GES_GRT.Web.App.Startup.AppNavigationProvider....</td>\n",
       "      <td>2.0</td>\n",
       "      <td>1.0</td>\n",
       "      <td>1</td>\n",
       "      <td>0.0</td>\n",
       "      <td>0.0</td>\n",
       "      <td>0</td>\n",
       "      <td>1</td>\n",
       "      <td>17.0</td>\n",
       "      <td>GES_GRT.Web.App.Startup.AppNavigationProvider....</td>\n",
       "      <td>GES_GRT.Web.App.Startup.AppNavigationProvider....</td>\n",
       "      <td>4.0</td>\n",
       "    </tr>\n",
       "    <tr>\n",
       "      <th>803</th>\n",
       "      <td>GES_GRT.Web.App.Startup.AppNavigationProvider....</td>\n",
       "      <td>1.0</td>\n",
       "      <td>1.0</td>\n",
       "      <td>1</td>\n",
       "      <td>1.0</td>\n",
       "      <td>0.0</td>\n",
       "      <td>1</td>\n",
       "      <td>0</td>\n",
       "      <td>2.0</td>\n",
       "      <td>GES_GRT.Web.App.Startup.AppNavigationProvider....</td>\n",
       "      <td>GES_GRT.Web.App.Startup.AppNavigationProvider....</td>\n",
       "      <td>92.0</td>\n",
       "    </tr>\n",
       "  </tbody>\n",
       "</table>\n",
       "<p>804 rows × 12 columns</p>\n",
       "</div>"
      ],
      "text/plain": [
       "                                                Method   LOC   CC  NP   NV  \\\n",
       "0            GES_GRT.GES_GRTCoreModule.PreInitialize()  14.0  3.0   0  1.0   \n",
       "1               GES_GRT.GES_GRTCoreModule.Initialize()   1.0  1.0   0  0.0   \n",
       "2           GES_GRT.GES_GRTCoreModule.PostInitialize()   2.0  1.0   0  0.0   \n",
       "3    GES_GRT.GES_GRTDomainServiceBase.GES_GRTDomain...   2.0  1.0   0  0.0   \n",
       "4      GES_GRT.GES_GRTServiceBase.GES_GRTServiceBase()   2.0  1.0   0  0.0   \n",
       "..                                                 ...   ...  ...  ..  ...   \n",
       "799  GES_GRT.Web.App.Startup.AppBundleConfig.Regist...   8.0  1.0   1  0.0   \n",
       "800  GES_GRT.Web.App.Startup.AppBundleConfig.AddApp...   1.0  3.0   2  0.0   \n",
       "801  GES_GRT.Web.App.Startup.AppBundleConfig.AddApp...   1.0  6.0   2  0.0   \n",
       "802  GES_GRT.Web.App.Startup.AppNavigationProvider....   2.0  1.0   1  0.0   \n",
       "803  GES_GRT.Web.App.Startup.AppNavigationProvider....   1.0  1.0   1  1.0   \n",
       "\n",
       "     NEST  Ca  Ce  NChg                                      Method_Parsed  \\\n",
       "0     1.0   0   2   2.0          GES_GRT.GES_GRTCoreModule.PreInitialize()   \n",
       "1     0.0   0   0   1.0             GES_GRT.GES_GRTCoreModule.Initialize()   \n",
       "2     0.0   0   1   1.0         GES_GRT.GES_GRTCoreModule.PostInitialize()   \n",
       "3     0.0   5   0   1.0  GES_GRT.GES_GRTDomainServiceBase.GES_GRTDomain...   \n",
       "4     0.0   4   0   1.0    GES_GRT.GES_GRTServiceBase.GES_GRTServiceBase()   \n",
       "..    ...  ..  ..   ...                                                ...   \n",
       "799   0.0   1   3   4.0  GES_GRT.Web.App.Startup.AppBundleConfig.Regist...   \n",
       "800   1.0   1   2   1.0  GES_GRT.Web.App.Startup.AppBundleConfig.AddApp...   \n",
       "801   1.0   1   2   1.0  GES_GRT.Web.App.Startup.AppBundleConfig.AddApp...   \n",
       "802   0.0   0   1  17.0  GES_GRT.Web.App.Startup.AppNavigationProvider....   \n",
       "803   0.0   1   0   2.0  GES_GRT.Web.App.Startup.AppNavigationProvider....   \n",
       "\n",
       "                                          Method_calls   NCall  \n",
       "0            GES_GRT.GES_GRTCoreModule.PreInitialize()     4.0  \n",
       "1               GES_GRT.GES_GRTCoreModule.Initialize()     4.0  \n",
       "2           GES_GRT.GES_GRTCoreModule.PostInitialize()     4.0  \n",
       "3    GES_GRT.GES_GRTDomainServiceBase.GES_GRTDomain...  3707.0  \n",
       "4      GES_GRT.GES_GRTServiceBase.GES_GRTServiceBase()  2358.0  \n",
       "..                                                 ...     ...  \n",
       "799  GES_GRT.Web.App.Startup.AppBundleConfig.Regist...     4.0  \n",
       "800  GES_GRT.Web.App.Startup.AppBundleConfig.AddApp...     8.0  \n",
       "801  GES_GRT.Web.App.Startup.AppBundleConfig.AddApp...     8.0  \n",
       "802  GES_GRT.Web.App.Startup.AppNavigationProvider....     4.0  \n",
       "803  GES_GRT.Web.App.Startup.AppNavigationProvider....    92.0  \n",
       "\n",
       "[804 rows x 12 columns]"
      ]
     },
     "execution_count": 39,
     "metadata": {},
     "output_type": "execute_result"
    }
   ],
   "source": [
    "merged_left_ca = pd.merge(left=merged_left_ch, right=sub_calls_data, how='left', left_on='Method_Parsed', right_on='Method_calls')\n",
    "missing_merged_left_ca = merged_left_ca[pd.isnull(merged_left_ca['NCall'])]\n",
    "merged_left_ca\n"
   ]
  },
  {
   "cell_type": "markdown",
   "metadata": {},
   "source": [
    "Drop the renamed variable and the variable from the profiler, to keep only the previous method name"
   ]
  },
  {
   "cell_type": "code",
   "execution_count": 40,
   "metadata": {
    "pycharm": {
     "name": "#%%\n"
    }
   },
   "outputs": [
    {
     "data": {
      "text/html": [
       "<div>\n",
       "<style scoped>\n",
       "    .dataframe tbody tr th:only-of-type {\n",
       "        vertical-align: middle;\n",
       "    }\n",
       "\n",
       "    .dataframe tbody tr th {\n",
       "        vertical-align: top;\n",
       "    }\n",
       "\n",
       "    .dataframe thead th {\n",
       "        text-align: right;\n",
       "    }\n",
       "</style>\n",
       "<table border=\"1\" class=\"dataframe\">\n",
       "  <thead>\n",
       "    <tr style=\"text-align: right;\">\n",
       "      <th></th>\n",
       "      <th>Method</th>\n",
       "      <th>LOC</th>\n",
       "      <th>CC</th>\n",
       "      <th>NP</th>\n",
       "      <th>NV</th>\n",
       "      <th>NEST</th>\n",
       "      <th>Ca</th>\n",
       "      <th>Ce</th>\n",
       "      <th>NChg</th>\n",
       "      <th>NCall</th>\n",
       "    </tr>\n",
       "  </thead>\n",
       "  <tbody>\n",
       "    <tr>\n",
       "      <th>0</th>\n",
       "      <td>GES_GRT.GES_GRTCoreModule.PreInitialize()</td>\n",
       "      <td>14.0</td>\n",
       "      <td>3.0</td>\n",
       "      <td>0</td>\n",
       "      <td>1.0</td>\n",
       "      <td>1.0</td>\n",
       "      <td>0</td>\n",
       "      <td>2</td>\n",
       "      <td>2.0</td>\n",
       "      <td>4.0</td>\n",
       "    </tr>\n",
       "    <tr>\n",
       "      <th>1</th>\n",
       "      <td>GES_GRT.GES_GRTCoreModule.Initialize()</td>\n",
       "      <td>1.0</td>\n",
       "      <td>1.0</td>\n",
       "      <td>0</td>\n",
       "      <td>0.0</td>\n",
       "      <td>0.0</td>\n",
       "      <td>0</td>\n",
       "      <td>0</td>\n",
       "      <td>1.0</td>\n",
       "      <td>4.0</td>\n",
       "    </tr>\n",
       "    <tr>\n",
       "      <th>2</th>\n",
       "      <td>GES_GRT.GES_GRTCoreModule.PostInitialize()</td>\n",
       "      <td>2.0</td>\n",
       "      <td>1.0</td>\n",
       "      <td>0</td>\n",
       "      <td>0.0</td>\n",
       "      <td>0.0</td>\n",
       "      <td>0</td>\n",
       "      <td>1</td>\n",
       "      <td>1.0</td>\n",
       "      <td>4.0</td>\n",
       "    </tr>\n",
       "    <tr>\n",
       "      <th>3</th>\n",
       "      <td>GES_GRT.GES_GRTDomainServiceBase.GES_GRTDomain...</td>\n",
       "      <td>2.0</td>\n",
       "      <td>1.0</td>\n",
       "      <td>0</td>\n",
       "      <td>0.0</td>\n",
       "      <td>0.0</td>\n",
       "      <td>5</td>\n",
       "      <td>0</td>\n",
       "      <td>1.0</td>\n",
       "      <td>3707.0</td>\n",
       "    </tr>\n",
       "    <tr>\n",
       "      <th>4</th>\n",
       "      <td>GES_GRT.GES_GRTServiceBase.GES_GRTServiceBase()</td>\n",
       "      <td>2.0</td>\n",
       "      <td>1.0</td>\n",
       "      <td>0</td>\n",
       "      <td>0.0</td>\n",
       "      <td>0.0</td>\n",
       "      <td>4</td>\n",
       "      <td>0</td>\n",
       "      <td>1.0</td>\n",
       "      <td>2358.0</td>\n",
       "    </tr>\n",
       "    <tr>\n",
       "      <th>...</th>\n",
       "      <td>...</td>\n",
       "      <td>...</td>\n",
       "      <td>...</td>\n",
       "      <td>...</td>\n",
       "      <td>...</td>\n",
       "      <td>...</td>\n",
       "      <td>...</td>\n",
       "      <td>...</td>\n",
       "      <td>...</td>\n",
       "      <td>...</td>\n",
       "    </tr>\n",
       "    <tr>\n",
       "      <th>799</th>\n",
       "      <td>GES_GRT.Web.App.Startup.AppBundleConfig.Regist...</td>\n",
       "      <td>8.0</td>\n",
       "      <td>1.0</td>\n",
       "      <td>1</td>\n",
       "      <td>0.0</td>\n",
       "      <td>0.0</td>\n",
       "      <td>1</td>\n",
       "      <td>3</td>\n",
       "      <td>4.0</td>\n",
       "      <td>4.0</td>\n",
       "    </tr>\n",
       "    <tr>\n",
       "      <th>800</th>\n",
       "      <td>GES_GRT.Web.App.Startup.AppBundleConfig.AddApp...</td>\n",
       "      <td>1.0</td>\n",
       "      <td>3.0</td>\n",
       "      <td>2</td>\n",
       "      <td>0.0</td>\n",
       "      <td>1.0</td>\n",
       "      <td>1</td>\n",
       "      <td>2</td>\n",
       "      <td>1.0</td>\n",
       "      <td>8.0</td>\n",
       "    </tr>\n",
       "    <tr>\n",
       "      <th>801</th>\n",
       "      <td>GES_GRT.Web.App.Startup.AppBundleConfig.AddApp...</td>\n",
       "      <td>1.0</td>\n",
       "      <td>6.0</td>\n",
       "      <td>2</td>\n",
       "      <td>0.0</td>\n",
       "      <td>1.0</td>\n",
       "      <td>1</td>\n",
       "      <td>2</td>\n",
       "      <td>1.0</td>\n",
       "      <td>8.0</td>\n",
       "    </tr>\n",
       "    <tr>\n",
       "      <th>802</th>\n",
       "      <td>GES_GRT.Web.App.Startup.AppNavigationProvider....</td>\n",
       "      <td>2.0</td>\n",
       "      <td>1.0</td>\n",
       "      <td>1</td>\n",
       "      <td>0.0</td>\n",
       "      <td>0.0</td>\n",
       "      <td>0</td>\n",
       "      <td>1</td>\n",
       "      <td>17.0</td>\n",
       "      <td>4.0</td>\n",
       "    </tr>\n",
       "    <tr>\n",
       "      <th>803</th>\n",
       "      <td>GES_GRT.Web.App.Startup.AppNavigationProvider....</td>\n",
       "      <td>1.0</td>\n",
       "      <td>1.0</td>\n",
       "      <td>1</td>\n",
       "      <td>1.0</td>\n",
       "      <td>0.0</td>\n",
       "      <td>1</td>\n",
       "      <td>0</td>\n",
       "      <td>2.0</td>\n",
       "      <td>92.0</td>\n",
       "    </tr>\n",
       "  </tbody>\n",
       "</table>\n",
       "<p>804 rows × 10 columns</p>\n",
       "</div>"
      ],
      "text/plain": [
       "                                                Method   LOC   CC  NP   NV  \\\n",
       "0            GES_GRT.GES_GRTCoreModule.PreInitialize()  14.0  3.0   0  1.0   \n",
       "1               GES_GRT.GES_GRTCoreModule.Initialize()   1.0  1.0   0  0.0   \n",
       "2           GES_GRT.GES_GRTCoreModule.PostInitialize()   2.0  1.0   0  0.0   \n",
       "3    GES_GRT.GES_GRTDomainServiceBase.GES_GRTDomain...   2.0  1.0   0  0.0   \n",
       "4      GES_GRT.GES_GRTServiceBase.GES_GRTServiceBase()   2.0  1.0   0  0.0   \n",
       "..                                                 ...   ...  ...  ..  ...   \n",
       "799  GES_GRT.Web.App.Startup.AppBundleConfig.Regist...   8.0  1.0   1  0.0   \n",
       "800  GES_GRT.Web.App.Startup.AppBundleConfig.AddApp...   1.0  3.0   2  0.0   \n",
       "801  GES_GRT.Web.App.Startup.AppBundleConfig.AddApp...   1.0  6.0   2  0.0   \n",
       "802  GES_GRT.Web.App.Startup.AppNavigationProvider....   2.0  1.0   1  0.0   \n",
       "803  GES_GRT.Web.App.Startup.AppNavigationProvider....   1.0  1.0   1  1.0   \n",
       "\n",
       "     NEST  Ca  Ce  NChg   NCall  \n",
       "0     1.0   0   2   2.0     4.0  \n",
       "1     0.0   0   0   1.0     4.0  \n",
       "2     0.0   0   1   1.0     4.0  \n",
       "3     0.0   5   0   1.0  3707.0  \n",
       "4     0.0   4   0   1.0  2358.0  \n",
       "..    ...  ..  ..   ...     ...  \n",
       "799   0.0   1   3   4.0     4.0  \n",
       "800   1.0   1   2   1.0     8.0  \n",
       "801   1.0   1   2   1.0     8.0  \n",
       "802   0.0   0   1  17.0     4.0  \n",
       "803   0.0   1   0   2.0    92.0  \n",
       "\n",
       "[804 rows x 10 columns]"
      ]
     },
     "execution_count": 40,
     "metadata": {},
     "output_type": "execute_result"
    }
   ],
   "source": [
    "merged_left_ca.drop(['Method_Parsed', 'Method_calls'], axis=1, inplace=True)\n",
    "merged_left_ca"
   ]
  },
  {
   "cell_type": "markdown",
   "metadata": {},
   "source": [
    "Save the resulting dataset"
   ]
  },
  {
   "cell_type": "code",
   "execution_count": 41,
   "metadata": {
    "pycharm": {
     "name": "#%%\n"
    }
   },
   "outputs": [],
   "source": [
    "merged_left_ca.to_csv(save_to_folder + \"merged.csv\", sep=';', index=False)"
   ]
  },
  {
   "cell_type": "markdown",
   "metadata": {},
   "source": [
    "Check to see how many rows do not have values"
   ]
  },
  {
   "cell_type": "code",
   "execution_count": 47,
   "metadata": {},
   "outputs": [
    {
     "data": {
      "text/plain": [
       "Method    0\n",
       "LOC       0\n",
       "CC        0\n",
       "NP        0\n",
       "NV        0\n",
       "NEST      0\n",
       "Ca        0\n",
       "Ce        0\n",
       "NChg      0\n",
       "NCall     0\n",
       "dtype: int64"
      ]
     },
     "execution_count": 47,
     "metadata": {},
     "output_type": "execute_result"
    }
   ],
   "source": [
    "merged_left_ca.isna().sum()"
   ]
  },
  {
   "cell_type": "markdown",
   "metadata": {},
   "source": [
    "Replace missing rows with 1 for change (assuming that every method had at least the initial commit), and 0 for the rest"
   ]
  },
  {
   "cell_type": "code",
   "execution_count": 44,
   "metadata": {},
   "outputs": [],
   "source": [
    "merged_left_ca['NChg'].fillna(1, inplace=True)\n",
    "merged_left_ca['NCall'].fillna(0, inplace=True)"
   ]
  },
  {
   "cell_type": "code",
   "execution_count": 46,
   "metadata": {},
   "outputs": [
    {
     "data": {
      "text/plain": [
       "Method     object\n",
       "LOC       float64\n",
       "CC        float64\n",
       "NP          int64\n",
       "NV        float64\n",
       "NEST      float64\n",
       "Ca          int64\n",
       "Ce          int64\n",
       "NChg      float64\n",
       "NCall     float64\n",
       "dtype: object"
      ]
     },
     "execution_count": 46,
     "metadata": {},
     "output_type": "execute_result"
    }
   ],
   "source": [
    "merged_left_ca.dtypes"
   ]
  },
  {
   "cell_type": "markdown",
   "metadata": {},
   "source": [
    "Save the resulting dataset with filled missing variables"
   ]
  },
  {
   "cell_type": "code",
   "execution_count": 48,
   "metadata": {},
   "outputs": [],
   "source": [
    "merged_left_ca.to_csv(save_to_folder + \"merged_filledna.csv\", sep=';', index=False)"
   ]
  },
  {
   "cell_type": "markdown",
   "metadata": {},
   "source": [
    "### Merge metrics with test coverage"
   ]
  },
  {
   "cell_type": "code",
   "execution_count": 49,
   "metadata": {},
   "outputs": [
    {
     "data": {
      "text/html": [
       "<div>\n",
       "<style scoped>\n",
       "    .dataframe tbody tr th:only-of-type {\n",
       "        vertical-align: middle;\n",
       "    }\n",
       "\n",
       "    .dataframe tbody tr th {\n",
       "        vertical-align: top;\n",
       "    }\n",
       "\n",
       "    .dataframe thead th {\n",
       "        text-align: right;\n",
       "    }\n",
       "</style>\n",
       "<table border=\"1\" class=\"dataframe\">\n",
       "  <thead>\n",
       "    <tr style=\"text-align: right;\">\n",
       "      <th></th>\n",
       "      <th>Method</th>\n",
       "      <th>LOC</th>\n",
       "      <th>CC</th>\n",
       "      <th>NP</th>\n",
       "      <th>NV</th>\n",
       "      <th>NEST</th>\n",
       "      <th>Ca</th>\n",
       "      <th>Ce</th>\n",
       "      <th>NChg</th>\n",
       "      <th>NCall</th>\n",
       "      <th>TotalStatements</th>\n",
       "      <th>CoveredStatements</th>\n",
       "    </tr>\n",
       "  </thead>\n",
       "  <tbody>\n",
       "    <tr>\n",
       "      <th>0</th>\n",
       "      <td>GES_GRT.GES_GRTCoreModule.PreInitialize()</td>\n",
       "      <td>14.0</td>\n",
       "      <td>3.0</td>\n",
       "      <td>0</td>\n",
       "      <td>1.0</td>\n",
       "      <td>1.0</td>\n",
       "      <td>0</td>\n",
       "      <td>2</td>\n",
       "      <td>2.0</td>\n",
       "      <td>4.0</td>\n",
       "      <td>20</td>\n",
       "      <td>17</td>\n",
       "    </tr>\n",
       "    <tr>\n",
       "      <th>1</th>\n",
       "      <td>GES_GRT.GES_GRTCoreModule.Initialize()</td>\n",
       "      <td>1.0</td>\n",
       "      <td>1.0</td>\n",
       "      <td>0</td>\n",
       "      <td>0.0</td>\n",
       "      <td>0.0</td>\n",
       "      <td>0</td>\n",
       "      <td>0</td>\n",
       "      <td>1.0</td>\n",
       "      <td>4.0</td>\n",
       "      <td>3</td>\n",
       "      <td>3</td>\n",
       "    </tr>\n",
       "    <tr>\n",
       "      <th>2</th>\n",
       "      <td>GES_GRT.GES_GRTCoreModule.PostInitialize()</td>\n",
       "      <td>2.0</td>\n",
       "      <td>1.0</td>\n",
       "      <td>0</td>\n",
       "      <td>0.0</td>\n",
       "      <td>0.0</td>\n",
       "      <td>0</td>\n",
       "      <td>1</td>\n",
       "      <td>1.0</td>\n",
       "      <td>4.0</td>\n",
       "      <td>4</td>\n",
       "      <td>4</td>\n",
       "    </tr>\n",
       "    <tr>\n",
       "      <th>3</th>\n",
       "      <td>GES_GRT.GES_GRTDomainServiceBase.GES_GRTDomain...</td>\n",
       "      <td>2.0</td>\n",
       "      <td>1.0</td>\n",
       "      <td>0</td>\n",
       "      <td>0.0</td>\n",
       "      <td>0.0</td>\n",
       "      <td>5</td>\n",
       "      <td>0</td>\n",
       "      <td>1.0</td>\n",
       "      <td>3707.0</td>\n",
       "      <td>4</td>\n",
       "      <td>4</td>\n",
       "    </tr>\n",
       "    <tr>\n",
       "      <th>4</th>\n",
       "      <td>GES_GRT.GES_GRTServiceBase.GES_GRTServiceBase()</td>\n",
       "      <td>2.0</td>\n",
       "      <td>1.0</td>\n",
       "      <td>0</td>\n",
       "      <td>0.0</td>\n",
       "      <td>0.0</td>\n",
       "      <td>4</td>\n",
       "      <td>0</td>\n",
       "      <td>1.0</td>\n",
       "      <td>2358.0</td>\n",
       "      <td>4</td>\n",
       "      <td>4</td>\n",
       "    </tr>\n",
       "    <tr>\n",
       "      <th>...</th>\n",
       "      <td>...</td>\n",
       "      <td>...</td>\n",
       "      <td>...</td>\n",
       "      <td>...</td>\n",
       "      <td>...</td>\n",
       "      <td>...</td>\n",
       "      <td>...</td>\n",
       "      <td>...</td>\n",
       "      <td>...</td>\n",
       "      <td>...</td>\n",
       "      <td>...</td>\n",
       "      <td>...</td>\n",
       "    </tr>\n",
       "    <tr>\n",
       "      <th>799</th>\n",
       "      <td>GES_GRT.Web.App.Startup.AppBundleConfig.Regist...</td>\n",
       "      <td>8.0</td>\n",
       "      <td>1.0</td>\n",
       "      <td>1</td>\n",
       "      <td>0.0</td>\n",
       "      <td>0.0</td>\n",
       "      <td>1</td>\n",
       "      <td>3</td>\n",
       "      <td>4.0</td>\n",
       "      <td>4.0</td>\n",
       "      <td>10</td>\n",
       "      <td>0</td>\n",
       "    </tr>\n",
       "    <tr>\n",
       "      <th>800</th>\n",
       "      <td>GES_GRT.Web.App.Startup.AppBundleConfig.AddApp...</td>\n",
       "      <td>1.0</td>\n",
       "      <td>3.0</td>\n",
       "      <td>2</td>\n",
       "      <td>0.0</td>\n",
       "      <td>1.0</td>\n",
       "      <td>1</td>\n",
       "      <td>2</td>\n",
       "      <td>1.0</td>\n",
       "      <td>8.0</td>\n",
       "      <td>3</td>\n",
       "      <td>0</td>\n",
       "    </tr>\n",
       "    <tr>\n",
       "      <th>801</th>\n",
       "      <td>GES_GRT.Web.App.Startup.AppBundleConfig.AddApp...</td>\n",
       "      <td>1.0</td>\n",
       "      <td>6.0</td>\n",
       "      <td>2</td>\n",
       "      <td>0.0</td>\n",
       "      <td>1.0</td>\n",
       "      <td>1</td>\n",
       "      <td>2</td>\n",
       "      <td>1.0</td>\n",
       "      <td>8.0</td>\n",
       "      <td>3</td>\n",
       "      <td>0</td>\n",
       "    </tr>\n",
       "    <tr>\n",
       "      <th>802</th>\n",
       "      <td>GES_GRT.Web.App.Startup.AppNavigationProvider....</td>\n",
       "      <td>2.0</td>\n",
       "      <td>1.0</td>\n",
       "      <td>1</td>\n",
       "      <td>0.0</td>\n",
       "      <td>0.0</td>\n",
       "      <td>0</td>\n",
       "      <td>1</td>\n",
       "      <td>17.0</td>\n",
       "      <td>4.0</td>\n",
       "      <td>4</td>\n",
       "      <td>0</td>\n",
       "    </tr>\n",
       "    <tr>\n",
       "      <th>803</th>\n",
       "      <td>GES_GRT.Web.App.Startup.AppNavigationProvider....</td>\n",
       "      <td>1.0</td>\n",
       "      <td>1.0</td>\n",
       "      <td>1</td>\n",
       "      <td>1.0</td>\n",
       "      <td>0.0</td>\n",
       "      <td>1</td>\n",
       "      <td>0</td>\n",
       "      <td>2.0</td>\n",
       "      <td>92.0</td>\n",
       "      <td>3</td>\n",
       "      <td>0</td>\n",
       "    </tr>\n",
       "  </tbody>\n",
       "</table>\n",
       "<p>804 rows × 12 columns</p>\n",
       "</div>"
      ],
      "text/plain": [
       "                                                Method   LOC   CC  NP   NV  \\\n",
       "0            GES_GRT.GES_GRTCoreModule.PreInitialize()  14.0  3.0   0  1.0   \n",
       "1               GES_GRT.GES_GRTCoreModule.Initialize()   1.0  1.0   0  0.0   \n",
       "2           GES_GRT.GES_GRTCoreModule.PostInitialize()   2.0  1.0   0  0.0   \n",
       "3    GES_GRT.GES_GRTDomainServiceBase.GES_GRTDomain...   2.0  1.0   0  0.0   \n",
       "4      GES_GRT.GES_GRTServiceBase.GES_GRTServiceBase()   2.0  1.0   0  0.0   \n",
       "..                                                 ...   ...  ...  ..  ...   \n",
       "799  GES_GRT.Web.App.Startup.AppBundleConfig.Regist...   8.0  1.0   1  0.0   \n",
       "800  GES_GRT.Web.App.Startup.AppBundleConfig.AddApp...   1.0  3.0   2  0.0   \n",
       "801  GES_GRT.Web.App.Startup.AppBundleConfig.AddApp...   1.0  6.0   2  0.0   \n",
       "802  GES_GRT.Web.App.Startup.AppNavigationProvider....   2.0  1.0   1  0.0   \n",
       "803  GES_GRT.Web.App.Startup.AppNavigationProvider....   1.0  1.0   1  1.0   \n",
       "\n",
       "     NEST  Ca  Ce  NChg   NCall  TotalStatements  CoveredStatements  \n",
       "0     1.0   0   2   2.0     4.0               20                 17  \n",
       "1     0.0   0   0   1.0     4.0                3                  3  \n",
       "2     0.0   0   1   1.0     4.0                4                  4  \n",
       "3     0.0   5   0   1.0  3707.0                4                  4  \n",
       "4     0.0   4   0   1.0  2358.0                4                  4  \n",
       "..    ...  ..  ..   ...     ...              ...                ...  \n",
       "799   0.0   1   3   4.0     4.0               10                  0  \n",
       "800   1.0   1   2   1.0     8.0                3                  0  \n",
       "801   1.0   1   2   1.0     8.0                3                  0  \n",
       "802   0.0   0   1  17.0     4.0                4                  0  \n",
       "803   0.0   1   0   2.0    92.0                3                  0  \n",
       "\n",
       "[804 rows x 12 columns]"
      ]
     },
     "execution_count": 49,
     "metadata": {},
     "output_type": "execute_result"
    }
   ],
   "source": [
    "# merge metrics with the test_coverage\n",
    "\n",
    "metrics_file = save_to_folder + \"merged_filledna.csv\"\n",
    "metrics_data = pd.read_csv(metrics_file, sep=';')\n",
    "\n",
    "test_cov_file = save_to_folder + \"test_coverage_org.csv\"\n",
    "test_data = pd.read_csv(test_cov_file, sep=';')\n",
    "\n",
    "data_combined = pd.merge(metrics_data, test_data, on='Method', how='left')\n",
    "\n",
    "data_combined.to_csv(save_to_folder + \"merged_complete.csv\", sep=';', index=False)\n",
    "\n",
    "data_combined"
   ]
  },
  {
   "cell_type": "code",
   "execution_count": 50,
   "metadata": {},
   "outputs": [
    {
     "data": {
      "text/plain": [
       "Method               0\n",
       "LOC                  0\n",
       "CC                   0\n",
       "NP                   0\n",
       "NV                   0\n",
       "NEST                 0\n",
       "Ca                   0\n",
       "Ce                   0\n",
       "NChg                 0\n",
       "NCall                0\n",
       "TotalStatements      0\n",
       "CoveredStatements    0\n",
       "dtype: int64"
      ]
     },
     "execution_count": 50,
     "metadata": {},
     "output_type": "execute_result"
    }
   ],
   "source": [
    "data_combined.isna().sum()"
   ]
  },
  {
   "cell_type": "markdown",
   "metadata": {},
   "source": [
    "## Check and visualise the data"
   ]
  },
  {
   "cell_type": "code",
   "execution_count": 105,
   "metadata": {},
   "outputs": [
    {
     "data": {
      "text/plain": [
       "(804, 10)"
      ]
     },
     "execution_count": 105,
     "metadata": {},
     "output_type": "execute_result"
    }
   ],
   "source": [
    "merged_left_ca.shape"
   ]
  },
  {
   "cell_type": "code",
   "execution_count": null,
   "metadata": {},
   "outputs": [],
   "source": [
    "list_columns = merged_left_ca.columns.tolist()\n",
    "list_columns.remove('Method')"
   ]
  },
  {
   "cell_type": "code",
   "execution_count": 41,
   "metadata": {
    "pycharm": {
     "name": "#%%\n"
    }
   },
   "outputs": [
    {
     "data": {
      "text/html": [
       "<div>\n",
       "<style scoped>\n",
       "    .dataframe tbody tr th:only-of-type {\n",
       "        vertical-align: middle;\n",
       "    }\n",
       "\n",
       "    .dataframe tbody tr th {\n",
       "        vertical-align: top;\n",
       "    }\n",
       "\n",
       "    .dataframe thead th {\n",
       "        text-align: right;\n",
       "    }\n",
       "</style>\n",
       "<table border=\"1\" class=\"dataframe\">\n",
       "  <thead>\n",
       "    <tr style=\"text-align: right;\">\n",
       "      <th></th>\n",
       "      <th>LOC</th>\n",
       "      <th>CC</th>\n",
       "      <th>NP</th>\n",
       "      <th>NV</th>\n",
       "      <th>NEST</th>\n",
       "      <th>Ca</th>\n",
       "      <th>Ce</th>\n",
       "      <th>NChg</th>\n",
       "      <th>NCall</th>\n",
       "    </tr>\n",
       "  </thead>\n",
       "  <tbody>\n",
       "    <tr>\n",
       "      <th>count</th>\n",
       "      <td>804.000000</td>\n",
       "      <td>804.000000</td>\n",
       "      <td>804.000000</td>\n",
       "      <td>804.000000</td>\n",
       "      <td>804.000000</td>\n",
       "      <td>804.000000</td>\n",
       "      <td>804.000000</td>\n",
       "      <td>804.000000</td>\n",
       "      <td>804.000000</td>\n",
       "    </tr>\n",
       "    <tr>\n",
       "      <th>mean</th>\n",
       "      <td>6.980100</td>\n",
       "      <td>3.231343</td>\n",
       "      <td>1.427861</td>\n",
       "      <td>2.347015</td>\n",
       "      <td>0.871891</td>\n",
       "      <td>0.880597</td>\n",
       "      <td>3.718905</td>\n",
       "      <td>1.947761</td>\n",
       "      <td>291.502488</td>\n",
       "    </tr>\n",
       "    <tr>\n",
       "      <th>std</th>\n",
       "      <td>9.758458</td>\n",
       "      <td>4.925974</td>\n",
       "      <td>1.655519</td>\n",
       "      <td>4.278910</td>\n",
       "      <td>0.920098</td>\n",
       "      <td>2.566801</td>\n",
       "      <td>7.098706</td>\n",
       "      <td>2.820448</td>\n",
       "      <td>1808.195530</td>\n",
       "    </tr>\n",
       "    <tr>\n",
       "      <th>min</th>\n",
       "      <td>1.000000</td>\n",
       "      <td>1.000000</td>\n",
       "      <td>0.000000</td>\n",
       "      <td>0.000000</td>\n",
       "      <td>0.000000</td>\n",
       "      <td>0.000000</td>\n",
       "      <td>0.000000</td>\n",
       "      <td>1.000000</td>\n",
       "      <td>0.000000</td>\n",
       "    </tr>\n",
       "    <tr>\n",
       "      <th>25%</th>\n",
       "      <td>2.000000</td>\n",
       "      <td>1.000000</td>\n",
       "      <td>1.000000</td>\n",
       "      <td>0.000000</td>\n",
       "      <td>0.000000</td>\n",
       "      <td>0.000000</td>\n",
       "      <td>0.000000</td>\n",
       "      <td>1.000000</td>\n",
       "      <td>0.000000</td>\n",
       "    </tr>\n",
       "    <tr>\n",
       "      <th>50%</th>\n",
       "      <td>4.000000</td>\n",
       "      <td>2.000000</td>\n",
       "      <td>1.000000</td>\n",
       "      <td>1.000000</td>\n",
       "      <td>1.000000</td>\n",
       "      <td>0.000000</td>\n",
       "      <td>1.000000</td>\n",
       "      <td>1.000000</td>\n",
       "      <td>0.000000</td>\n",
       "    </tr>\n",
       "    <tr>\n",
       "      <th>75%</th>\n",
       "      <td>8.000000</td>\n",
       "      <td>4.000000</td>\n",
       "      <td>2.000000</td>\n",
       "      <td>2.000000</td>\n",
       "      <td>1.000000</td>\n",
       "      <td>1.000000</td>\n",
       "      <td>4.000000</td>\n",
       "      <td>2.000000</td>\n",
       "      <td>4.000000</td>\n",
       "    </tr>\n",
       "    <tr>\n",
       "      <th>max</th>\n",
       "      <td>93.000000</td>\n",
       "      <td>71.000000</td>\n",
       "      <td>14.000000</td>\n",
       "      <td>49.000000</td>\n",
       "      <td>10.000000</td>\n",
       "      <td>43.000000</td>\n",
       "      <td>78.000000</td>\n",
       "      <td>39.000000</td>\n",
       "      <td>34659.000000</td>\n",
       "    </tr>\n",
       "  </tbody>\n",
       "</table>\n",
       "</div>"
      ],
      "text/plain": [
       "              LOC          CC          NP          NV        NEST          Ca  \\\n",
       "count  804.000000  804.000000  804.000000  804.000000  804.000000  804.000000   \n",
       "mean     6.980100    3.231343    1.427861    2.347015    0.871891    0.880597   \n",
       "std      9.758458    4.925974    1.655519    4.278910    0.920098    2.566801   \n",
       "min      1.000000    1.000000    0.000000    0.000000    0.000000    0.000000   \n",
       "25%      2.000000    1.000000    1.000000    0.000000    0.000000    0.000000   \n",
       "50%      4.000000    2.000000    1.000000    1.000000    1.000000    0.000000   \n",
       "75%      8.000000    4.000000    2.000000    2.000000    1.000000    1.000000   \n",
       "max     93.000000   71.000000   14.000000   49.000000   10.000000   43.000000   \n",
       "\n",
       "               Ce        NChg         NCall  \n",
       "count  804.000000  804.000000    804.000000  \n",
       "mean     3.718905    1.947761    291.502488  \n",
       "std      7.098706    2.820448   1808.195530  \n",
       "min      0.000000    1.000000      0.000000  \n",
       "25%      0.000000    1.000000      0.000000  \n",
       "50%      1.000000    1.000000      0.000000  \n",
       "75%      4.000000    2.000000      4.000000  \n",
       "max     78.000000   39.000000  34659.000000  "
      ]
     },
     "execution_count": 41,
     "metadata": {},
     "output_type": "execute_result"
    }
   ],
   "source": [
    "merged_left_ca[list_columns].describe()"
   ]
  },
  {
   "cell_type": "code",
   "execution_count": 42,
   "metadata": {},
   "outputs": [
    {
     "data": {
      "text/plain": [
       "5612.0"
      ]
     },
     "execution_count": 42,
     "metadata": {},
     "output_type": "execute_result"
    }
   ],
   "source": [
    "merged_left_ca['LOC'].sum()"
   ]
  },
  {
   "cell_type": "code",
   "execution_count": 104,
   "metadata": {
    "pycharm": {
     "name": "#%%\n"
    }
   },
   "outputs": [],
   "source": [
    "import statsmodels.api as sm\n",
    "import matplotlib.pyplot as plt\n",
    "import scipy.stats as stats\n"
   ]
  },
  {
   "cell_type": "code",
   "execution_count": 109,
   "metadata": {
    "pycharm": {
     "name": "#%%\n"
    }
   },
   "outputs": [
    {
     "data": {
      "image/png": "[encoded data removed]",
      "text/plain": [
       "<Figure size 1440x720 with 9 Axes>"
      ]
     },
     "metadata": {
      "needs_background": "light"
     },
     "output_type": "display_data"
    }
   ],
   "source": [
    "fig, axes = plt.subplots(nrows=3, ncols=3, figsize=(20,10))\n",
    "ax= axes.flatten()\n",
    "for i in range(len(list_columns)):\n",
    "    # ax = plt.subplot(10, 1, i+1)\n",
    "    col_name = list_columns[i]\n",
    "    sm.qqplot(merged_left_ca[col_name], marker='o', markerfacecolor='none', markeredgecolor='k', alpha=0.5,\n",
    "              ax = ax[i])\n",
    "    ax[i].set_ylabel(col)\n",
    "\n",
    "# plt.tight_layout(pad=1.5)\n",
    "# plt.show()\n",
    "\n",
    "plt.savefig(save_to_folder + '/plots/qqplots_unscaled.pdf', bbox_inches = 'tight', pad_inches = 0)"
   ]
  },
  {
   "cell_type": "code",
   "execution_count": 45,
   "metadata": {
    "pycharm": {
     "name": "#%%\n"
    }
   },
   "outputs": [
    {
     "data": {
      "image/png": "[encoded data removed]",
      "text/plain": [
       "<Figure size 432x288 with 1 Axes>"
      ]
     },
     "metadata": {
      "needs_background": "light"
     },
     "output_type": "display_data"
    }
   ],
   "source": [
    "stats.probplot(change_data['Changes'], dist=\"norm\", plot=plt)\n",
    "plt.show()"
   ]
  },
  {
   "cell_type": "markdown",
   "metadata": {},
   "source": [
    "## Scale data"
   ]
  },
  {
   "cell_type": "code",
   "execution_count": 124,
   "metadata": {},
   "outputs": [],
   "source": [
    "from pyclustertend import hopkins, vat, assess_tendency_by_mean_metric_score\n",
    "from sklearn.preprocessing import scale, MinMaxScaler, minmax_scale, RobustScaler,robust_scale\n"
   ]
  },
  {
   "cell_type": "code",
   "execution_count": 125,
   "metadata": {},
   "outputs": [
    {
     "data": {
      "text/plain": [
       "0.010457677955034758"
      ]
     },
     "execution_count": 125,
     "metadata": {},
     "output_type": "execute_result"
    }
   ],
   "source": [
    "X = robust_scale(merged_left_ca[list_columns])\n",
    "hopkins(X, 804)"
   ]
  },
  {
   "cell_type": "code",
   "execution_count": 139,
   "metadata": {},
   "outputs": [
    {
     "data": {
      "text/plain": [
       "0.039625570742455464"
      ]
     },
     "execution_count": 139,
     "metadata": {},
     "output_type": "execute_result"
    }
   ],
   "source": [
    "X = minmax_scale(merged_left_ca[list_columns])\n",
    "hopkins(X, 804)"
   ]
  },
  {
   "cell_type": "code",
   "execution_count": 156,
   "metadata": {},
   "outputs": [],
   "source": [
    "scaled_data = merged_left_ca.copy()\n",
    "\n",
    "for col_name in list_columns:\n",
    "    col = scaled_data[col_name]\n",
    "    min_col, max_col = col.min(), col.max()\n",
    "#     print(col_name, min_col, max_col)\n",
    "    scaled_data[col_name] = (col - min_col) / (max_col - min_col)\n",
    "    \n",
    "scaled_data"
   ]
  },
  {
   "cell_type": "code",
   "execution_count": 163,
   "metadata": {},
   "outputs": [
    {
     "data": {
      "text/plain": [
       "0.03998474414274387"
      ]
     },
     "execution_count": 163,
     "metadata": {},
     "output_type": "execute_result"
    }
   ],
   "source": [
    "hopkins(scaled_data[list_columns], scaled_data.shape[0])"
   ]
  },
  {
   "cell_type": "code",
   "execution_count": 165,
   "metadata": {},
   "outputs": [
    {
     "data": {
      "image/png": "[encoded data removed]",
      "text/plain": [
       "<Figure size 1440x720 with 9 Axes>"
      ]
     },
     "metadata": {
      "needs_background": "light"
     },
     "output_type": "display_data"
    }
   ],
   "source": [
    "fig, axes = plt.subplots(nrows=3, ncols=3, figsize=(20,10))\n",
    "ax= axes.flatten()\n",
    "for i in range(len(list_columns)):\n",
    "    col_name = list_columns[i]\n",
    "    sm.qqplot(scaled_data[col_name], marker='o', markerfacecolor='none', markeredgecolor='k', alpha=0.5,\n",
    "              ax = ax[i])\n",
    "    ax[i].set_ylabel(col_name)\n",
    "\n",
    "# plt.tight_layout(pad=1.5)\n",
    "# plt.show()\n",
    "\n",
    "plt.savefig(save_to_folder + '/plots/qqplots_scaled.pdf', bbox_inches = 'tight', pad_inches = 0)"
   ]
  },
  {
   "cell_type": "code",
   "execution_count": 82,
   "metadata": {
    "pycharm": {
     "name": "#%%\n"
    }
   },
   "outputs": [
    {
     "name": "stdout",
     "output_type": "stream",
     "text": [
      "Counter({1.0: 2683, 2.0: 154, 3.0: 92, 4.0: 55, 5.0: 45, 6.0: 18, 7.0: 17, 8.0: 14, 10.0: 11, 12.0: 7, 9.0: 7, 18.0: 3, 14.0: 3, 16.0: 2, 19.0: 2, 17.0: 2, 11.0: 2, 22.0: 2, 13.0: 2, 20.0: 2, 24.0: 2, 15.0: 1, 23.0: 1, 28.0: 1, 71.0: 1, 40.0: 1, 34.0: 1, 54.0: 1})\n"
     ]
    }
   ],
   "source": [
    "from collections import Counter\n",
    "\n",
    "x = merged_left_ca['CC']\n",
    "x = x[~np.isnan(x)]\n",
    "print(Counter(x))\n",
    "\n",
    "# plt.hist(x)"
   ]
  },
  {
   "cell_type": "code",
   "execution_count": null,
   "metadata": {},
   "outputs": [],
   "source": []
  }
 ],
 "metadata": {
  "kernelspec": {
   "display_name": "Python 3",
   "language": "python",
   "name": "python3"
  },
  "language_info": {
   "codemirror_mode": {
    "name": "ipython",
    "version": 3
   },
   "file_extension": ".py",
   "mimetype": "text/x-python",
   "name": "python",
   "nbconvert_exporter": "python",
   "pygments_lexer": "ipython3",
   "version": "3.8.5"
  }
 },
 "nbformat": 4,
 "nbformat_minor": 1
}
