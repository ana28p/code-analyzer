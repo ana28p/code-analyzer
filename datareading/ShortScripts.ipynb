{
 "cells": [
  {
   "cell_type": "code",
   "execution_count": 4,
   "metadata": {
    "collapsed": true
   },
   "outputs": [
    {
     "name": "stdout",
     "output_type": "stream",
     "text": [
      "aaa, aa, aa, aa \n"
     ]
    }
   ],
   "source": [
    "s = 'aaa<aa,aa>, aa, aa<<aa>, <aa,aa>>, aa <aa>'\n",
    "\n",
    "news = ''\n",
    "add = True\n",
    "count = 0\n",
    "\n",
    "for i in range(len(s)):\n",
    "    c = s[i]\n",
    "    if c == '<':\n",
    "        count += 1\n",
    "        continue\n",
    "    if c == '>':\n",
    "        count -= 1\n",
    "        continue\n",
    "    if count == 0:\n",
    "        news += c\n",
    "\n",
    "print(news)"
   ]
  },
  {
   "cell_type": "code",
   "execution_count": 9,
   "metadata": {
    "pycharm": {
     "name": "#%%\n"
    }
   },
   "outputs": [
    {
     "name": "stdout",
     "output_type": "stream",
     "text": [
      "DataFrame:\n",
      "   m  two\n",
      "0  a    1\n",
      "1  b    2\n",
      "2  c    1\n",
      "3  d    4\n",
      "\n",
      "column types:\n",
      "m      object\n",
      "two     int64\n",
      "dtype: object\n"
     ]
    }
   ],
   "source": [
    "import pandas as pd\n",
    "\n",
    "data_dict = {'m': pd.Series([\"a\", \"b\", \"c\", \"d\"]),\n",
    "             'two': pd.Series([1, 2, 1, 4])}\n",
    "\n",
    "df = pd.DataFrame(data_dict)\n",
    "\n",
    "print(f\"DataFrame:\\n{df}\\n\")\n",
    "print(f\"column types:\\n{df.dtypes}\")\n",
    "\n",
    "col_one_list = df['m'].tolist()\n",
    "\n",
    "col_one_arr = df['m'].to_numpy()\n"
   ]
  },
  {
   "cell_type": "code",
   "execution_count": 11,
   "metadata": {},
   "outputs": [
    {
     "data": {
      "text/html": [
       "<div>\n",
       "<style scoped>\n",
       "    .dataframe tbody tr th:only-of-type {\n",
       "        vertical-align: middle;\n",
       "    }\n",
       "\n",
       "    .dataframe tbody tr th {\n",
       "        vertical-align: top;\n",
       "    }\n",
       "\n",
       "    .dataframe thead th {\n",
       "        text-align: right;\n",
       "    }\n",
       "</style>\n",
       "<table border=\"1\" class=\"dataframe\">\n",
       "  <thead>\n",
       "    <tr style=\"text-align: right;\">\n",
       "      <th></th>\n",
       "      <th>m</th>\n",
       "      <th>n</th>\n",
       "    </tr>\n",
       "  </thead>\n",
       "  <tbody>\n",
       "    <tr>\n",
       "      <th>0</th>\n",
       "      <td>a</td>\n",
       "      <td>1</td>\n",
       "    </tr>\n",
       "    <tr>\n",
       "      <th>1</th>\n",
       "      <td>b</td>\n",
       "      <td>2</td>\n",
       "    </tr>\n",
       "    <tr>\n",
       "      <th>2</th>\n",
       "      <td>c</td>\n",
       "      <td>1</td>\n",
       "    </tr>\n",
       "    <tr>\n",
       "      <th>3</th>\n",
       "      <td>d</td>\n",
       "      <td>4</td>\n",
       "    </tr>\n",
       "  </tbody>\n",
       "</table>\n",
       "</div>"
      ],
      "text/plain": [
       "   m  n\n",
       "0  a  1\n",
       "1  b  2\n",
       "2  c  1\n",
       "3  d  4"
      ]
     },
     "execution_count": 11,
     "metadata": {},
     "output_type": "execute_result"
    }
   ],
   "source": [
    "df.columns = [\"m\", \"n\"]\n",
    "df"
   ]
  },
  {
   "cell_type": "code",
   "execution_count": null,
   "metadata": {
    "pycharm": {
     "name": "#%%\n"
    }
   },
   "outputs": [],
   "source": [
    "df[df['two'] == 1]['m'].to_numpy()"
   ]
  },
  {
   "cell_type": "code",
   "execution_count": 10,
   "metadata": {},
   "outputs": [
    {
     "data": {
      "text/plain": [
       "array(['a', 'c'], dtype=object)"
      ]
     },
     "execution_count": 10,
     "metadata": {},
     "output_type": "execute_result"
    }
   ],
   "source": [
    "from pprint import pprint\n",
    "from difflib import SequenceMatcher, Differ\n",
    "\n",
    "# public static double Add(int a, int b)\n",
    "text1 = '''\n",
    "{\n",
    "  return a+b;\n",
    "}\n",
    "'''.splitlines(True)\n",
    "\n",
    "# public static double Add(double a, double b)\n",
    "text2 = '''\n",
    "{\n",
    "  // return sum of two numbers\n",
    "  return a+b;\n",
    "}\n",
    "'''.splitlines(True)\n",
    "\n",
    "# sim = SequenceMatcher(None, text1, text2).ratio()\n",
    "# print(sim)\n",
    "\n",
    "d = Differ()\n",
    "result = list(d.compare(text1, text2))\n",
    "pprint(result)\n",
    "\n",
    "eq_lines = sum(l.startswith(' ') for l in result)\n",
    "\n",
    "print(eq_lines)"
   ]
  },
  {
   "cell_type": "code",
   "execution_count": null,
   "metadata": {
    "pycharm": {
     "name": "#%%\n"
    }
   },
   "outputs": [],
   "source": [
    "from pprint import pprint\n",
    "from difflib import SequenceMatcher, Differ\n",
    "\n",
    "# public static double Add(int a, int b)\n",
    "text1 = '''\n",
    "{\n",
    "  return a+b;\n",
    "}\n",
    "'''.splitlines(True)\n",
    "\n",
    "# public static double Add(double a, double b)\n",
    "text2 = '''\n",
    "{\n",
    "  // return sum of two numbers\n",
    "  return a+b;\n",
    "}\n",
    "'''.splitlines(True)\n",
    "\n",
    "# sim = SequenceMatcher(None, text1, text2).ratio()\n",
    "# print(sim)\n",
    "\n",
    "d = Differ()\n",
    "result = list(d.compare(text1, text2))\n",
    "pprint(result)\n",
    "\n",
    "eq_lines = sum(l.startswith(' ') for l in result)\n",
    "\n",
    "print(eq_lines)"
   ]
  },
  {
   "cell_type": "code",
   "execution_count": 44,
   "metadata": {
    "pycharm": {
     "name": "#%%\n"
    }
   },
   "outputs": [],
   "source": [
    "type_dict = {'int': 'Int32', 'long': 'Int64', 'bool': 'Boolean', 'byte': 'Byte', 'decimal': 'Decimal',\n",
    "             'string': 'String', 'double': 'Double', 'object': 'Object', 'char': 'Char'}  # float missing\n",
    "def get_type_outbox(param_type):\n",
    "    if param_type in type_dict:\n",
    "        return type_dict[param_type]\n",
    "    return param_type\n",
    "\n",
    "\n",
    "def replace_by_token(param_type):\n",
    "    delims = \"<>,[]\"\n",
    "    token = ''\n",
    "    new_param_type = ''\n",
    "    found_delim = False\n",
    "    for i in range(len(param_type)):\n",
    "        if param_type[i] in delims:\n",
    "            found_delim = True\n",
    "            replace = get_type_outbox(token)\n",
    "            token = ''\n",
    "            new_param_type = new_param_type + replace + param_type[i]\n",
    "        else:\n",
    "            token = token + param_type[i]\n",
    "    if found_delim is False:\n",
    "        return get_type_outbox(param_type)\n",
    "    return new_param_type\n",
    "\n",
    "\n",
    "def replace_types(param_type):\n",
    "    for k,v in type_dict.items():\n",
    "        if k in param_type:\n",
    "            param_type = param_type.replace(k, v)\n",
    "    return param_type\n",
    "\n",
    "\n",
    "def change_method_name_commits(method):\n",
    "    method = method.replace('::', '.')\n",
    "    start_parameters = method.rfind('(')\n",
    "    method_name = method[:start_parameters]\n",
    "    parameters_text = method[start_parameters:]\n",
    "    if len(parameters_text) > 2:\n",
    "        parameters_text = parameters_text[1:-1]  # remove ()\n",
    "        parameters = parameters_text.split(', ')\n",
    "        params_types = []\n",
    "        for param in parameters:\n",
    "            # remove potential spaces from start and end\n",
    "            if \"=\" in param:\n",
    "                param = param[:param.find(\"=\")]\n",
    "            if \".\" in param:\n",
    "                param = param[param.rfind(\".\") + 1:]\n",
    "            param = param.strip(\" \")\n",
    "            p = param.split(' ')\n",
    "            # System.Uri _ -> Uri\n",
    "            # out T returnedValue -> T&  or out DateTime currencyDate -> DateTime&\n",
    "            if \" ? \" in param:\n",
    "                # if int ? _ -> Nullable<Int32>\n",
    "                p_t = replace_by_token(p[0])\n",
    "                param_type = \"Nullable<\" + p_t + \">\"\n",
    "                if \"[]\" in ''.join(p[0:-1]):\n",
    "                    param_type = param_type + \"[]\"\n",
    "            else:\n",
    "                start = 0\n",
    "                end = -1\n",
    "                if (p[0] == \"params\") or (p[0] == \"this\") or (p[0] == \"out\") or (p[0] == \"ref\"):\n",
    "                    # if params string [] _ -> String[] or params Func<T,object> [] _ -> Func<T,Object>[]\n",
    "                    start = 1\n",
    "                p_t = ''.join(p[start:end])\n",
    "                param_type = replace_by_token(p_t)\n",
    "                if (p[0] == \"out\") or (p[0] == \"ref\"):\n",
    "                    param_type = param_type + '&'\n",
    "\n",
    "            params_types.append(param_type)\n",
    "        parameters_text = '(' + ','.join(params_types) + ')'\n",
    "\n",
    "    new_name = method_name + parameters_text\n",
    "    return new_name\n",
    "\n",
    "\n",
    "methods = '''\n",
    "GES_GRT.Authorization.Permissions::PermissionAppService::AddPermission( Permission permission , IReadOnlyList<Permission> allPermissions , List<FlatPermissionWithLevelDto> result , int level)\n",
    "GES_GRT.Authorization.Roles::RoleAppService::UpdateGrantedPermissionsAsync( Role role , List<string> grantedPermissionNames)\n",
    "GES_GRT.Authorization.Users::LinkedUserDto::GetShownLoginName( bool multiTenancyEnabled)\n",
    "GES_GRT.DataExporting.Excel.EpPlus::EpPlusExcelExporterBase::AddHeader( ExcelWorksheet sheet , params string [ ] headerTexts)\n",
    "GES_GRT.Editions::EditionAppService::GetEditionComboboxItems( int ? selectedEditionId = null)\n",
    "GES_GRT.WebApi.Controllers::ImportIncomeComponentsController::ParseIncomeComponentRows( Range [ ] parsedClientIncomeComponentData)\n",
    "GES_GRT.Employees.Exporting::EmployeeListExcelExporter::ExportToXlsmFile( List<EmployeeOutputDto> employeeOutputDtos , DateTime ? start , DateTime ? end , User user)\n",
    "GES_GRT.DataExporting.Excel.EpPlus::EpPlusExcelExporterBase::AddObjects<T>( ExcelWorksheet sheet , int startRowIndex , IList<T> items , params Func<T,object> [ ] propertySelectors)\n",
    "GES_GRT.Auditing::AuditLogAppService::AuditLogAppService( IRepository<AuditLog,long> auditLogRepository , IRepository<User,long> userRepository , IAuditLogListExcelExporter auditLogListExcelExporter , INamespaceStripper namespaceStripper)\n",
    "'''.splitlines()\n",
    "\n",
    "# for m in methods:\n",
    "#     print(\"from: \", m)\n",
    "#     print(\"to: \", change_method_name_commits(m))"
   ]
  },
  {
   "cell_type": "code",
   "execution_count": 1,
   "metadata": {
    "pycharm": {
     "name": "#%%\n"
    }
   },
   "outputs": [
    {
     "name": "stdout",
     "output_type": "stream",
     "text": [
      "False\n"
     ]
    }
   ],
   "source": [
    "test = \"Int32\"\n",
    "print('int' in test)"
   ]
  },
  {
   "cell_type": "code",
   "execution_count": 48,
   "metadata": {
    "pycharm": {
     "name": "#%%\n"
    }
   },
   "outputs": [
    {
     "name": "stdout",
     "output_type": "stream",
     "text": [
      "GES_GRT.Authorization.Users.UserEmailer.SendEmailActivationLinkAsync(User<String,String[]>,String)\n",
      "GES_GRT.Authorization.Users.UserEmailer.SendEmailActivationLinkAsync(User,String)\n",
      "GES_GRT.Authorization.Users.UserEmailer.SendEmailActivationLinkAsync(User&,Nullable<String>[])\n",
      "GES_GRT.Web.Helpers.CustomMultipartFormDataStreamProvider.GetLocalFileName(HttpContentHeaders)\n",
      "JuliusSweetland.OptiKey.Services.InputService.remove_selectionResultEvent(EventHandler<Tuple<List<Point>,KeyValue,List<String>>>)\n"
     ]
    }
   ],
   "source": [
    "print(change_method_name_commits(\"GES_GRT.Authorization.Users::UserEmailer::SendEmailActivationLinkAsync( User<String,String[]> user , params string plainPassword = null)\"))\n",
    "print(change_method_name_commits(\"GES_GRT.Authorization.Users::UserEmailer::SendEmailActivationLinkAsync( this User user , string plainPassword = null)\"))\n",
    "print(change_method_name_commits(\"GES_GRT.Authorization.Users::UserEmailer::SendEmailActivationLinkAsync( out User user , string ? [ ] plainPassword = null)\"))\n",
    "print(change_method_name_commits(\"GES_GRT.Web.Helpers::CustomMultipartFormDataStreamProvider::GetLocalFileName( System . Net . Http . Headers . HttpContentHeaders headers)\"))\n",
    "print(change_method_name_commits(\"JuliusSweetland.OptiKey.Services::InputService::remove_selectionResultEvent(EventHandler<Tuple<List<Point>,KeyValue,List<String>>> test)\"))"
   ]
  },
  {
   "cell_type": "code",
   "execution_count": 50,
   "metadata": {
    "pycharm": {
     "name": "#%%\n"
    }
   },
   "outputs": [
    {
     "name": "stdout",
     "output_type": "stream",
     "text": [
      "GES_GRT.Web.Views.GES_GRTWebViewPageBase.get_AbpSession()\n",
      "GES_GRT.Extensions.Enum+&lt;&gt;c..cctor()\n",
      "GES_GRT.DataExporting.Excel.EpPlus.EpPlusExcelExporterBase.AddHeader(ExcelWorksheet,String[])\n"
     ]
    }
   ],
   "source": [
    "def change_method_name_usage(method):\n",
    "    if '`' in method:\n",
    "        idx = method.find('`')\n",
    "        part = method[idx+1:]\n",
    "        method = method[:idx] + part[part.find('.'):]\n",
    "    params_start = method.rfind('(')\n",
    "    method_name = method[:params_start]\n",
    "    params_text = method[params_start:]\n",
    "    if len(params_text) > 2:\n",
    "        parameters_text = params_text[1:-1]  # remove ()\n",
    "        parameters = parameters_text.split(',')\n",
    "        params_types = []\n",
    "        for param in parameters:\n",
    "            param = param.strip(\" \")\n",
    "            if param.startswith(\"params\"):\n",
    "                param = param[len(\"params\"):]\n",
    "                param = param.strip(\" \")\n",
    "            params_types.append(param)\n",
    "        params_text = '(' + ','.join(params_types) + ')'\n",
    "\n",
    "    new_name = method_name + params_text\n",
    "    return new_name\n",
    "\n",
    "print(change_method_name_usage(\"GES_GRT.Web.Views.GES_GRTWebViewPageBase`1.get_AbpSession()\"))\n",
    "print(change_method_name_usage(\"GES_GRT.Extensions.Enum+&lt;&gt;c`1..cctor()\"))\n",
    "print(change_method_name_usage(\"GES_GRT.DataExporting.Excel.EpPlus.EpPlusExcelExporterBase.AddHeader(ExcelWorksheet, params String[])\"))"
   ]
  },
  {
   "cell_type": "code",
   "execution_count": null,
   "metadata": {},
   "outputs": [],
   "source": [
    "import sklearn.metrics as compute_metrics\n",
    "import matplotlib.pyplot as plt\n",
    "\n",
    "real_labels_file = \"C:/Users/aprodea/work/metrics-tax-compare/classification/methods_labelled.csv\"\n",
    "real_labels_data = pd.read_csv(real_labels_file, sep=';')\n",
    "\n",
    "metrics_labelled_file = \"C:/Users/aprodea/work/metrics-tax-compare/classification/1_all_labels.csv\"\n",
    "metrics_labelled_data = pd.read_csv(metrics_labelled_file, sep=';')\n",
    "\n",
    "data_combined = pd.merge(left=real_labels_data,\n",
    "                         right=metrics_labelled_data[['Method', 'CLevel_threshold', 'CLevel_k_means', 'CLevel_em']],\n",
    "                         on='Method', how='left')\n",
    "\n",
    "\n",
    "labels = ['high', 'regular', 'low']\n",
    "conf_matrix = compute_metrics.confusion_matrix(y_true=data_combined['CLevel'], y_pred=data_combined['CLevel_em'], labels=labels)\n",
    "print(conf_matrix)\n",
    "\n",
    "disp = compute_metrics.ConfusionMatrixDisplay(confusion_matrix=conf_matrix, display_labels=labels)\n",
    "disp = disp.plot(include_values=True, ax=None, xticks_rotation='horizontal')\n",
    "plt.show()"
   ]
  }
 ],
 "metadata": {
  "kernelspec": {
   "display_name": "Python 3",
   "language": "python",
   "name": "python3"
  },
  "language_info": {
   "codemirror_mode": {
    "name": "ipython",
    "version": 3
   },
   "file_extension": ".py",
   "mimetype": "text/x-python",
   "name": "python",
   "nbconvert_exporter": "python",
   "pygments_lexer": "ipython3",
   "version": "3.8.5"
  }
 },
 "nbformat": 4,
 "nbformat_minor": 1
}
