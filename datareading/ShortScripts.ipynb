{
 "cells": [
  {
   "cell_type": "code",
   "execution_count": 4,
   "metadata": {
    "collapsed": true
   },
   "outputs": [
    {
     "name": "stdout",
     "output_type": "stream",
     "text": [
      "aaa, aa, aa, aa \n"
     ]
    }
   ],
   "source": [
    "s = 'aaa<aa,aa>, aa, aa<<aa>, <aa,aa>>, aa <aa>'\n",
    "\n",
    "news = ''\n",
    "add = True\n",
    "count = 0\n",
    "\n",
    "for i in range(len(s)):\n",
    "    c = s[i]\n",
    "    if c == '<':\n",
    "        count += 1\n",
    "        continue\n",
    "    if c == '>':\n",
    "        count -= 1\n",
    "        continue\n",
    "    if count == 0:\n",
    "        news += c\n",
    "\n",
    "print(news)\n",
    "\n"
   ]
  }
 ],
 "metadata": {
  "kernelspec": {
   "display_name": "Python 3",
   "language": "python",
   "name": "python3"
  },
  "language_info": {
   "codemirror_mode": {
    "name": "ipython",
    "version": 2
   },
   "file_extension": ".py",
   "mimetype": "text/x-python",
   "name": "python",
   "nbconvert_exporter": "python",
   "pygments_lexer": "ipython2",
   "version": "2.7.6"
  }
 },
 "nbformat": 4,
 "nbformat_minor": 0
}