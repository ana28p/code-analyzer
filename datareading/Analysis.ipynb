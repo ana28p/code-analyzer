{
 "cells": [
  {
   "cell_type": "code",
   "execution_count": 2,
   "metadata": {},
   "outputs": [],
   "source": [
    "import csv\n",
    "from xml.etree import ElementTree\n",
    "import pandas as pd\n",
    "from sklearn import preprocessing\n",
    "import matplotlib.pyplot as plt\n",
    "import numpy as np\n",
    "import os\n",
    "from matplotlib.ticker import StrMethodFormatter\n",
    "import statsmodels.api as sm\n",
    "import matplotlib.pyplot as plt\n",
    "import scipy.stats as stats\n",
    "from pyclustertend import hopkins, vat, assess_tendency_by_mean_metric_score\n",
    "from sklearn.preprocessing import scale, MinMaxScaler, minmax_scale, RobustScaler,robust_scale"
   ]
  },
  {
   "cell_type": "code",
   "execution_count": 3,
   "metadata": {},
   "outputs": [
    {
     "data": {
      "text/html": [
       "<div>\n",
       "<style scoped>\n",
       "    .dataframe tbody tr th:only-of-type {\n",
       "        vertical-align: middle;\n",
       "    }\n",
       "\n",
       "    .dataframe tbody tr th {\n",
       "        vertical-align: top;\n",
       "    }\n",
       "\n",
       "    .dataframe thead th {\n",
       "        text-align: right;\n",
       "    }\n",
       "</style>\n",
       "<table border=\"1\" class=\"dataframe\">\n",
       "  <thead>\n",
       "    <tr style=\"text-align: right;\">\n",
       "      <th></th>\n",
       "      <th>Method</th>\n",
       "      <th>LOC</th>\n",
       "      <th>CC</th>\n",
       "      <th>NP</th>\n",
       "      <th>NV</th>\n",
       "      <th>NEST</th>\n",
       "      <th>Ca</th>\n",
       "      <th>Ce</th>\n",
       "      <th>NChg</th>\n",
       "      <th>NCall</th>\n",
       "    </tr>\n",
       "  </thead>\n",
       "  <tbody>\n",
       "    <tr>\n",
       "      <th>0</th>\n",
       "      <td>GES_GRT.GES_GRTCoreModule.PreInitialize()</td>\n",
       "      <td>14.0</td>\n",
       "      <td>3.0</td>\n",
       "      <td>0</td>\n",
       "      <td>1.0</td>\n",
       "      <td>1.0</td>\n",
       "      <td>0</td>\n",
       "      <td>2</td>\n",
       "      <td>2.0</td>\n",
       "      <td>4.0</td>\n",
       "    </tr>\n",
       "    <tr>\n",
       "      <th>1</th>\n",
       "      <td>GES_GRT.GES_GRTCoreModule.Initialize()</td>\n",
       "      <td>1.0</td>\n",
       "      <td>1.0</td>\n",
       "      <td>0</td>\n",
       "      <td>0.0</td>\n",
       "      <td>0.0</td>\n",
       "      <td>0</td>\n",
       "      <td>0</td>\n",
       "      <td>1.0</td>\n",
       "      <td>4.0</td>\n",
       "    </tr>\n",
       "    <tr>\n",
       "      <th>2</th>\n",
       "      <td>GES_GRT.GES_GRTCoreModule.PostInitialize()</td>\n",
       "      <td>2.0</td>\n",
       "      <td>1.0</td>\n",
       "      <td>0</td>\n",
       "      <td>0.0</td>\n",
       "      <td>0.0</td>\n",
       "      <td>0</td>\n",
       "      <td>1</td>\n",
       "      <td>1.0</td>\n",
       "      <td>4.0</td>\n",
       "    </tr>\n",
       "    <tr>\n",
       "      <th>3</th>\n",
       "      <td>GES_GRT.GES_GRTDomainServiceBase.GES_GRTDomain...</td>\n",
       "      <td>2.0</td>\n",
       "      <td>1.0</td>\n",
       "      <td>0</td>\n",
       "      <td>0.0</td>\n",
       "      <td>0.0</td>\n",
       "      <td>5</td>\n",
       "      <td>0</td>\n",
       "      <td>1.0</td>\n",
       "      <td>3707.0</td>\n",
       "    </tr>\n",
       "    <tr>\n",
       "      <th>4</th>\n",
       "      <td>GES_GRT.GES_GRTServiceBase.GES_GRTServiceBase()</td>\n",
       "      <td>2.0</td>\n",
       "      <td>1.0</td>\n",
       "      <td>0</td>\n",
       "      <td>0.0</td>\n",
       "      <td>0.0</td>\n",
       "      <td>4</td>\n",
       "      <td>0</td>\n",
       "      <td>1.0</td>\n",
       "      <td>2358.0</td>\n",
       "    </tr>\n",
       "    <tr>\n",
       "      <th>...</th>\n",
       "      <td>...</td>\n",
       "      <td>...</td>\n",
       "      <td>...</td>\n",
       "      <td>...</td>\n",
       "      <td>...</td>\n",
       "      <td>...</td>\n",
       "      <td>...</td>\n",
       "      <td>...</td>\n",
       "      <td>...</td>\n",
       "      <td>...</td>\n",
       "    </tr>\n",
       "    <tr>\n",
       "      <th>799</th>\n",
       "      <td>GES_GRT.Web.App.Startup.AppBundleConfig.Regist...</td>\n",
       "      <td>8.0</td>\n",
       "      <td>1.0</td>\n",
       "      <td>1</td>\n",
       "      <td>0.0</td>\n",
       "      <td>0.0</td>\n",
       "      <td>1</td>\n",
       "      <td>3</td>\n",
       "      <td>4.0</td>\n",
       "      <td>4.0</td>\n",
       "    </tr>\n",
       "    <tr>\n",
       "      <th>800</th>\n",
       "      <td>GES_GRT.Web.App.Startup.AppBundleConfig.AddApp...</td>\n",
       "      <td>1.0</td>\n",
       "      <td>3.0</td>\n",
       "      <td>2</td>\n",
       "      <td>0.0</td>\n",
       "      <td>1.0</td>\n",
       "      <td>1</td>\n",
       "      <td>2</td>\n",
       "      <td>1.0</td>\n",
       "      <td>8.0</td>\n",
       "    </tr>\n",
       "    <tr>\n",
       "      <th>801</th>\n",
       "      <td>GES_GRT.Web.App.Startup.AppBundleConfig.AddApp...</td>\n",
       "      <td>1.0</td>\n",
       "      <td>6.0</td>\n",
       "      <td>2</td>\n",
       "      <td>0.0</td>\n",
       "      <td>1.0</td>\n",
       "      <td>1</td>\n",
       "      <td>2</td>\n",
       "      <td>1.0</td>\n",
       "      <td>8.0</td>\n",
       "    </tr>\n",
       "    <tr>\n",
       "      <th>802</th>\n",
       "      <td>GES_GRT.Web.App.Startup.AppNavigationProvider....</td>\n",
       "      <td>2.0</td>\n",
       "      <td>1.0</td>\n",
       "      <td>1</td>\n",
       "      <td>0.0</td>\n",
       "      <td>0.0</td>\n",
       "      <td>0</td>\n",
       "      <td>1</td>\n",
       "      <td>17.0</td>\n",
       "      <td>4.0</td>\n",
       "    </tr>\n",
       "    <tr>\n",
       "      <th>803</th>\n",
       "      <td>GES_GRT.Web.App.Startup.AppNavigationProvider....</td>\n",
       "      <td>1.0</td>\n",
       "      <td>1.0</td>\n",
       "      <td>1</td>\n",
       "      <td>1.0</td>\n",
       "      <td>0.0</td>\n",
       "      <td>1</td>\n",
       "      <td>0</td>\n",
       "      <td>2.0</td>\n",
       "      <td>92.0</td>\n",
       "    </tr>\n",
       "  </tbody>\n",
       "</table>\n",
       "<p>804 rows × 10 columns</p>\n",
       "</div>"
      ],
      "text/plain": [
       "                                                Method   LOC   CC  NP   NV  \\\n",
       "0            GES_GRT.GES_GRTCoreModule.PreInitialize()  14.0  3.0   0  1.0   \n",
       "1               GES_GRT.GES_GRTCoreModule.Initialize()   1.0  1.0   0  0.0   \n",
       "2           GES_GRT.GES_GRTCoreModule.PostInitialize()   2.0  1.0   0  0.0   \n",
       "3    GES_GRT.GES_GRTDomainServiceBase.GES_GRTDomain...   2.0  1.0   0  0.0   \n",
       "4      GES_GRT.GES_GRTServiceBase.GES_GRTServiceBase()   2.0  1.0   0  0.0   \n",
       "..                                                 ...   ...  ...  ..  ...   \n",
       "799  GES_GRT.Web.App.Startup.AppBundleConfig.Regist...   8.0  1.0   1  0.0   \n",
       "800  GES_GRT.Web.App.Startup.AppBundleConfig.AddApp...   1.0  3.0   2  0.0   \n",
       "801  GES_GRT.Web.App.Startup.AppBundleConfig.AddApp...   1.0  6.0   2  0.0   \n",
       "802  GES_GRT.Web.App.Startup.AppNavigationProvider....   2.0  1.0   1  0.0   \n",
       "803  GES_GRT.Web.App.Startup.AppNavigationProvider....   1.0  1.0   1  1.0   \n",
       "\n",
       "     NEST  Ca  Ce  NChg   NCall  \n",
       "0     1.0   0   2   2.0     4.0  \n",
       "1     0.0   0   0   1.0     4.0  \n",
       "2     0.0   0   1   1.0     4.0  \n",
       "3     0.0   5   0   1.0  3707.0  \n",
       "4     0.0   4   0   1.0  2358.0  \n",
       "..    ...  ..  ..   ...     ...  \n",
       "799   0.0   1   3   4.0     4.0  \n",
       "800   1.0   1   2   1.0     8.0  \n",
       "801   1.0   1   2   1.0     8.0  \n",
       "802   0.0   0   1  17.0     4.0  \n",
       "803   0.0   1   0   2.0    92.0  \n",
       "\n",
       "[804 rows x 10 columns]"
      ]
     },
     "execution_count": 3,
     "metadata": {},
     "output_type": "execute_result"
    }
   ],
   "source": [
    "def get_data():\n",
    "    file = \"C:/Users/aprodea/work/metrics-tax-compare/merged/merged_filledna.csv\"\n",
    "    data = pd.read_csv(file, sep=';')\n",
    "    return data\n",
    "\n",
    "merged_data = get_data()\n",
    "merged_data"
   ]
  },
  {
   "cell_type": "code",
   "execution_count": 4,
   "metadata": {},
   "outputs": [
    {
     "data": {
      "text/plain": [
       "['LOC', 'CC', 'NP', 'NV', 'NEST', 'Ca', 'Ce', 'NChg', 'NCall']"
      ]
     },
     "execution_count": 4,
     "metadata": {},
     "output_type": "execute_result"
    }
   ],
   "source": [
    "list_columns = merged_data.columns.tolist()\n",
    "list_columns.remove('Method')\n",
    "list_columns"
   ]
  },
  {
   "cell_type": "code",
   "execution_count": 7,
   "metadata": {},
   "outputs": [
    {
     "data": {
      "image/png": "[encoded data removed]",
      "text/plain": [
       "<Figure size 1440x720 with 9 Axes>"
      ]
     },
     "metadata": {
      "needs_background": "light"
     },
     "output_type": "display_data"
    }
   ],
   "source": [
    "fig, axes = plt.subplots(nrows=3, ncols=3, figsize=(20,10))\n",
    "ax = axes.flatten()\n",
    "for i in range(len(list_columns)):\n",
    "    col_name = list_columns[i]\n",
    "    sm.qqplot(merged_data[col_name], marker='o', markerfacecolor='none', markeredgecolor='k', alpha=0.5,\n",
    "              ax = ax[i])\n",
    "    ax[i].set_ylabel(col_name)\n",
    "\n",
    "# plt.tight_layout(pad=1.5)\n",
    "plt.show()\n",
    "\n",
    "# plt.savefig('C:/Users/aprodea/work/metrics-tax-compare/qqplots_unnormalised_1.pdf', bbox_inches = 'tight', pad_inches = 0)"
   ]
  },
  {
   "cell_type": "code",
   "execution_count": 9,
   "metadata": {},
   "outputs": [
    {
     "data": {
      "text/html": [
       "<div>\n",
       "<style scoped>\n",
       "    .dataframe tbody tr th:only-of-type {\n",
       "        vertical-align: middle;\n",
       "    }\n",
       "\n",
       "    .dataframe tbody tr th {\n",
       "        vertical-align: top;\n",
       "    }\n",
       "\n",
       "    .dataframe thead th {\n",
       "        text-align: right;\n",
       "    }\n",
       "</style>\n",
       "<table border=\"1\" class=\"dataframe\">\n",
       "  <thead>\n",
       "    <tr style=\"text-align: right;\">\n",
       "      <th></th>\n",
       "      <th>Method</th>\n",
       "      <th>LOC</th>\n",
       "      <th>CC</th>\n",
       "      <th>NP</th>\n",
       "      <th>NV</th>\n",
       "      <th>NEST</th>\n",
       "      <th>Ca</th>\n",
       "      <th>Ce</th>\n",
       "      <th>NChg</th>\n",
       "      <th>NCall</th>\n",
       "    </tr>\n",
       "  </thead>\n",
       "  <tbody>\n",
       "    <tr>\n",
       "      <th>0</th>\n",
       "      <td>GES_GRT.GES_GRTCoreModule.PreInitialize()</td>\n",
       "      <td>0.150538</td>\n",
       "      <td>0.042254</td>\n",
       "      <td>0.000000</td>\n",
       "      <td>0.020408</td>\n",
       "      <td>0.1</td>\n",
       "      <td>0.000000</td>\n",
       "      <td>0.025641</td>\n",
       "      <td>0.051282</td>\n",
       "      <td>0.000115</td>\n",
       "    </tr>\n",
       "    <tr>\n",
       "      <th>1</th>\n",
       "      <td>GES_GRT.GES_GRTCoreModule.Initialize()</td>\n",
       "      <td>0.010753</td>\n",
       "      <td>0.014085</td>\n",
       "      <td>0.000000</td>\n",
       "      <td>0.000000</td>\n",
       "      <td>0.0</td>\n",
       "      <td>0.000000</td>\n",
       "      <td>0.000000</td>\n",
       "      <td>0.025641</td>\n",
       "      <td>0.000115</td>\n",
       "    </tr>\n",
       "    <tr>\n",
       "      <th>2</th>\n",
       "      <td>GES_GRT.GES_GRTCoreModule.PostInitialize()</td>\n",
       "      <td>0.021505</td>\n",
       "      <td>0.014085</td>\n",
       "      <td>0.000000</td>\n",
       "      <td>0.000000</td>\n",
       "      <td>0.0</td>\n",
       "      <td>0.000000</td>\n",
       "      <td>0.012821</td>\n",
       "      <td>0.025641</td>\n",
       "      <td>0.000115</td>\n",
       "    </tr>\n",
       "    <tr>\n",
       "      <th>3</th>\n",
       "      <td>GES_GRT.GES_GRTDomainServiceBase.GES_GRTDomain...</td>\n",
       "      <td>0.021505</td>\n",
       "      <td>0.014085</td>\n",
       "      <td>0.000000</td>\n",
       "      <td>0.000000</td>\n",
       "      <td>0.0</td>\n",
       "      <td>0.116279</td>\n",
       "      <td>0.000000</td>\n",
       "      <td>0.025641</td>\n",
       "      <td>0.106956</td>\n",
       "    </tr>\n",
       "    <tr>\n",
       "      <th>4</th>\n",
       "      <td>GES_GRT.GES_GRTServiceBase.GES_GRTServiceBase()</td>\n",
       "      <td>0.021505</td>\n",
       "      <td>0.014085</td>\n",
       "      <td>0.000000</td>\n",
       "      <td>0.000000</td>\n",
       "      <td>0.0</td>\n",
       "      <td>0.093023</td>\n",
       "      <td>0.000000</td>\n",
       "      <td>0.025641</td>\n",
       "      <td>0.068034</td>\n",
       "    </tr>\n",
       "    <tr>\n",
       "      <th>...</th>\n",
       "      <td>...</td>\n",
       "      <td>...</td>\n",
       "      <td>...</td>\n",
       "      <td>...</td>\n",
       "      <td>...</td>\n",
       "      <td>...</td>\n",
       "      <td>...</td>\n",
       "      <td>...</td>\n",
       "      <td>...</td>\n",
       "      <td>...</td>\n",
       "    </tr>\n",
       "    <tr>\n",
       "      <th>799</th>\n",
       "      <td>GES_GRT.Web.App.Startup.AppBundleConfig.Regist...</td>\n",
       "      <td>0.086022</td>\n",
       "      <td>0.014085</td>\n",
       "      <td>0.071429</td>\n",
       "      <td>0.000000</td>\n",
       "      <td>0.0</td>\n",
       "      <td>0.023256</td>\n",
       "      <td>0.038462</td>\n",
       "      <td>0.102564</td>\n",
       "      <td>0.000115</td>\n",
       "    </tr>\n",
       "    <tr>\n",
       "      <th>800</th>\n",
       "      <td>GES_GRT.Web.App.Startup.AppBundleConfig.AddApp...</td>\n",
       "      <td>0.010753</td>\n",
       "      <td>0.042254</td>\n",
       "      <td>0.142857</td>\n",
       "      <td>0.000000</td>\n",
       "      <td>0.1</td>\n",
       "      <td>0.023256</td>\n",
       "      <td>0.025641</td>\n",
       "      <td>0.025641</td>\n",
       "      <td>0.000231</td>\n",
       "    </tr>\n",
       "    <tr>\n",
       "      <th>801</th>\n",
       "      <td>GES_GRT.Web.App.Startup.AppBundleConfig.AddApp...</td>\n",
       "      <td>0.010753</td>\n",
       "      <td>0.084507</td>\n",
       "      <td>0.142857</td>\n",
       "      <td>0.000000</td>\n",
       "      <td>0.1</td>\n",
       "      <td>0.023256</td>\n",
       "      <td>0.025641</td>\n",
       "      <td>0.025641</td>\n",
       "      <td>0.000231</td>\n",
       "    </tr>\n",
       "    <tr>\n",
       "      <th>802</th>\n",
       "      <td>GES_GRT.Web.App.Startup.AppNavigationProvider....</td>\n",
       "      <td>0.021505</td>\n",
       "      <td>0.014085</td>\n",
       "      <td>0.071429</td>\n",
       "      <td>0.000000</td>\n",
       "      <td>0.0</td>\n",
       "      <td>0.000000</td>\n",
       "      <td>0.012821</td>\n",
       "      <td>0.435897</td>\n",
       "      <td>0.000115</td>\n",
       "    </tr>\n",
       "    <tr>\n",
       "      <th>803</th>\n",
       "      <td>GES_GRT.Web.App.Startup.AppNavigationProvider....</td>\n",
       "      <td>0.010753</td>\n",
       "      <td>0.014085</td>\n",
       "      <td>0.071429</td>\n",
       "      <td>0.020408</td>\n",
       "      <td>0.0</td>\n",
       "      <td>0.023256</td>\n",
       "      <td>0.000000</td>\n",
       "      <td>0.051282</td>\n",
       "      <td>0.002654</td>\n",
       "    </tr>\n",
       "  </tbody>\n",
       "</table>\n",
       "<p>804 rows × 10 columns</p>\n",
       "</div>"
      ],
      "text/plain": [
       "                                                Method       LOC        CC  \\\n",
       "0            GES_GRT.GES_GRTCoreModule.PreInitialize()  0.150538  0.042254   \n",
       "1               GES_GRT.GES_GRTCoreModule.Initialize()  0.010753  0.014085   \n",
       "2           GES_GRT.GES_GRTCoreModule.PostInitialize()  0.021505  0.014085   \n",
       "3    GES_GRT.GES_GRTDomainServiceBase.GES_GRTDomain...  0.021505  0.014085   \n",
       "4      GES_GRT.GES_GRTServiceBase.GES_GRTServiceBase()  0.021505  0.014085   \n",
       "..                                                 ...       ...       ...   \n",
       "799  GES_GRT.Web.App.Startup.AppBundleConfig.Regist...  0.086022  0.014085   \n",
       "800  GES_GRT.Web.App.Startup.AppBundleConfig.AddApp...  0.010753  0.042254   \n",
       "801  GES_GRT.Web.App.Startup.AppBundleConfig.AddApp...  0.010753  0.084507   \n",
       "802  GES_GRT.Web.App.Startup.AppNavigationProvider....  0.021505  0.014085   \n",
       "803  GES_GRT.Web.App.Startup.AppNavigationProvider....  0.010753  0.014085   \n",
       "\n",
       "           NP        NV  NEST        Ca        Ce      NChg     NCall  \n",
       "0    0.000000  0.020408   0.1  0.000000  0.025641  0.051282  0.000115  \n",
       "1    0.000000  0.000000   0.0  0.000000  0.000000  0.025641  0.000115  \n",
       "2    0.000000  0.000000   0.0  0.000000  0.012821  0.025641  0.000115  \n",
       "3    0.000000  0.000000   0.0  0.116279  0.000000  0.025641  0.106956  \n",
       "4    0.000000  0.000000   0.0  0.093023  0.000000  0.025641  0.068034  \n",
       "..        ...       ...   ...       ...       ...       ...       ...  \n",
       "799  0.071429  0.000000   0.0  0.023256  0.038462  0.102564  0.000115  \n",
       "800  0.142857  0.000000   0.1  0.023256  0.025641  0.025641  0.000231  \n",
       "801  0.142857  0.000000   0.1  0.023256  0.025641  0.025641  0.000231  \n",
       "802  0.071429  0.000000   0.0  0.000000  0.012821  0.435897  0.000115  \n",
       "803  0.071429  0.020408   0.0  0.023256  0.000000  0.051282  0.002654  \n",
       "\n",
       "[804 rows x 10 columns]"
      ]
     },
     "execution_count": 9,
     "metadata": {},
     "output_type": "execute_result"
    }
   ],
   "source": [
    "scaled_data = merged_data.copy()\n",
    "\n",
    "for col_name in list_columns:\n",
    "    col = scaled_data[col_name]\n",
    "    min_col, max_col = col.min(), col.max()\n",
    "    min_col = 0  # consider min as 0 to perserve the importance of values; eg LOC 25, 50 -> 0.5, 1 \n",
    "#     print(col_name, min_col, max_col)\n",
    "    scaled_data[col_name] = (col - min_col) / (max_col - min_col)\n",
    "    \n",
    "scaled_data"
   ]
  },
  {
   "cell_type": "code",
   "execution_count": 10,
   "metadata": {},
   "outputs": [
    {
     "data": {
      "text/plain": [
       "0.03921157792987885"
      ]
     },
     "execution_count": 10,
     "metadata": {},
     "output_type": "execute_result"
    }
   ],
   "source": [
    "hopkins(scaled_data.loc[:, ~scaled_data.columns.isin(['Method'])], scaled_data.shape[0])"
   ]
  },
  {
   "cell_type": "code",
   "execution_count": 44,
   "metadata": {},
   "outputs": [
    {
     "data": {
      "image/png": "[encoded data removed]",
      "text/plain": [
       "<Figure size 1440x720 with 9 Axes>"
      ]
     },
     "metadata": {
      "needs_background": "light"
     },
     "output_type": "display_data"
    }
   ],
   "source": [
    "fig, axes = plt.subplots(nrows=3, ncols=3, figsize=(20,10))\n",
    "ax= axes.flatten()\n",
    "for i in range(len(list_columns)):\n",
    "    col_name = list_columns[i]\n",
    "    sm.qqplot(scaled_data[col_name], marker='o', markerfacecolor='none', markeredgecolor='k', alpha=0.5,\n",
    "              ax = ax[i])\n",
    "    ax[i].set_ylabel(col_name)\n",
    "\n",
    "# plt.tight_layout(pad=1.5)\n",
    "plt.show()"
   ]
  },
  {
   "cell_type": "code",
   "execution_count": 11,
   "metadata": {},
   "outputs": [
    {
     "name": "stdout",
     "output_type": "stream",
     "text": [
      "NCall 0.05047822085532217 5.124198792132304\n"
     ]
    },
    {
     "data": {
      "text/html": [
       "<div>\n",
       "<style scoped>\n",
       "    .dataframe tbody tr th:only-of-type {\n",
       "        vertical-align: middle;\n",
       "    }\n",
       "\n",
       "    .dataframe tbody tr th {\n",
       "        vertical-align: top;\n",
       "    }\n",
       "\n",
       "    .dataframe thead th {\n",
       "        text-align: right;\n",
       "    }\n",
       "</style>\n",
       "<table border=\"1\" class=\"dataframe\">\n",
       "  <thead>\n",
       "    <tr style=\"text-align: right;\">\n",
       "      <th></th>\n",
       "      <th>Method</th>\n",
       "      <th>LOC</th>\n",
       "      <th>CC</th>\n",
       "      <th>NP</th>\n",
       "      <th>NV</th>\n",
       "      <th>NEST</th>\n",
       "      <th>Ca</th>\n",
       "      <th>Ce</th>\n",
       "      <th>NChg</th>\n",
       "      <th>NCall</th>\n",
       "      <th>CRank</th>\n",
       "    </tr>\n",
       "  </thead>\n",
       "  <tbody>\n",
       "    <tr>\n",
       "      <th>0</th>\n",
       "      <td>GES_GRT.GES_GRTCoreModule.PreInitialize()</td>\n",
       "      <td>0.150538</td>\n",
       "      <td>0.042254</td>\n",
       "      <td>0.000000</td>\n",
       "      <td>0.020408</td>\n",
       "      <td>0.1</td>\n",
       "      <td>0.000000</td>\n",
       "      <td>0.025641</td>\n",
       "      <td>0.051282</td>\n",
       "      <td>0.000115</td>\n",
       "      <td>0.390238</td>\n",
       "    </tr>\n",
       "    <tr>\n",
       "      <th>1</th>\n",
       "      <td>GES_GRT.GES_GRTCoreModule.Initialize()</td>\n",
       "      <td>0.010753</td>\n",
       "      <td>0.014085</td>\n",
       "      <td>0.000000</td>\n",
       "      <td>0.000000</td>\n",
       "      <td>0.0</td>\n",
       "      <td>0.000000</td>\n",
       "      <td>0.000000</td>\n",
       "      <td>0.025641</td>\n",
       "      <td>0.000115</td>\n",
       "      <td>0.050594</td>\n",
       "    </tr>\n",
       "    <tr>\n",
       "      <th>2</th>\n",
       "      <td>GES_GRT.GES_GRTCoreModule.PostInitialize()</td>\n",
       "      <td>0.021505</td>\n",
       "      <td>0.014085</td>\n",
       "      <td>0.000000</td>\n",
       "      <td>0.000000</td>\n",
       "      <td>0.0</td>\n",
       "      <td>0.000000</td>\n",
       "      <td>0.012821</td>\n",
       "      <td>0.025641</td>\n",
       "      <td>0.000115</td>\n",
       "      <td>0.074167</td>\n",
       "    </tr>\n",
       "    <tr>\n",
       "      <th>3</th>\n",
       "      <td>GES_GRT.GES_GRTDomainServiceBase.GES_GRTDomain...</td>\n",
       "      <td>0.021505</td>\n",
       "      <td>0.014085</td>\n",
       "      <td>0.000000</td>\n",
       "      <td>0.000000</td>\n",
       "      <td>0.0</td>\n",
       "      <td>0.116279</td>\n",
       "      <td>0.000000</td>\n",
       "      <td>0.025641</td>\n",
       "      <td>0.106956</td>\n",
       "      <td>0.284466</td>\n",
       "    </tr>\n",
       "    <tr>\n",
       "      <th>4</th>\n",
       "      <td>GES_GRT.GES_GRTServiceBase.GES_GRTServiceBase()</td>\n",
       "      <td>0.021505</td>\n",
       "      <td>0.014085</td>\n",
       "      <td>0.000000</td>\n",
       "      <td>0.000000</td>\n",
       "      <td>0.0</td>\n",
       "      <td>0.093023</td>\n",
       "      <td>0.000000</td>\n",
       "      <td>0.025641</td>\n",
       "      <td>0.068034</td>\n",
       "      <td>0.222288</td>\n",
       "    </tr>\n",
       "    <tr>\n",
       "      <th>...</th>\n",
       "      <td>...</td>\n",
       "      <td>...</td>\n",
       "      <td>...</td>\n",
       "      <td>...</td>\n",
       "      <td>...</td>\n",
       "      <td>...</td>\n",
       "      <td>...</td>\n",
       "      <td>...</td>\n",
       "      <td>...</td>\n",
       "      <td>...</td>\n",
       "      <td>...</td>\n",
       "    </tr>\n",
       "    <tr>\n",
       "      <th>799</th>\n",
       "      <td>GES_GRT.Web.App.Startup.AppBundleConfig.Regist...</td>\n",
       "      <td>0.086022</td>\n",
       "      <td>0.014085</td>\n",
       "      <td>0.071429</td>\n",
       "      <td>0.000000</td>\n",
       "      <td>0.0</td>\n",
       "      <td>0.023256</td>\n",
       "      <td>0.038462</td>\n",
       "      <td>0.102564</td>\n",
       "      <td>0.000115</td>\n",
       "      <td>0.335931</td>\n",
       "    </tr>\n",
       "    <tr>\n",
       "      <th>800</th>\n",
       "      <td>GES_GRT.Web.App.Startup.AppBundleConfig.AddApp...</td>\n",
       "      <td>0.010753</td>\n",
       "      <td>0.042254</td>\n",
       "      <td>0.142857</td>\n",
       "      <td>0.000000</td>\n",
       "      <td>0.1</td>\n",
       "      <td>0.023256</td>\n",
       "      <td>0.025641</td>\n",
       "      <td>0.025641</td>\n",
       "      <td>0.000231</td>\n",
       "      <td>0.370632</td>\n",
       "    </tr>\n",
       "    <tr>\n",
       "      <th>801</th>\n",
       "      <td>GES_GRT.Web.App.Startup.AppBundleConfig.AddApp...</td>\n",
       "      <td>0.010753</td>\n",
       "      <td>0.084507</td>\n",
       "      <td>0.142857</td>\n",
       "      <td>0.000000</td>\n",
       "      <td>0.1</td>\n",
       "      <td>0.023256</td>\n",
       "      <td>0.025641</td>\n",
       "      <td>0.025641</td>\n",
       "      <td>0.000231</td>\n",
       "      <td>0.412886</td>\n",
       "    </tr>\n",
       "    <tr>\n",
       "      <th>802</th>\n",
       "      <td>GES_GRT.Web.App.Startup.AppNavigationProvider....</td>\n",
       "      <td>0.021505</td>\n",
       "      <td>0.014085</td>\n",
       "      <td>0.071429</td>\n",
       "      <td>0.000000</td>\n",
       "      <td>0.0</td>\n",
       "      <td>0.000000</td>\n",
       "      <td>0.012821</td>\n",
       "      <td>0.435897</td>\n",
       "      <td>0.000115</td>\n",
       "      <td>0.555852</td>\n",
       "    </tr>\n",
       "    <tr>\n",
       "      <th>803</th>\n",
       "      <td>GES_GRT.Web.App.Startup.AppNavigationProvider....</td>\n",
       "      <td>0.010753</td>\n",
       "      <td>0.014085</td>\n",
       "      <td>0.071429</td>\n",
       "      <td>0.020408</td>\n",
       "      <td>0.0</td>\n",
       "      <td>0.023256</td>\n",
       "      <td>0.000000</td>\n",
       "      <td>0.051282</td>\n",
       "      <td>0.002654</td>\n",
       "      <td>0.193866</td>\n",
       "    </tr>\n",
       "  </tbody>\n",
       "</table>\n",
       "<p>804 rows × 11 columns</p>\n",
       "</div>"
      ],
      "text/plain": [
       "                                                Method       LOC        CC  \\\n",
       "0            GES_GRT.GES_GRTCoreModule.PreInitialize()  0.150538  0.042254   \n",
       "1               GES_GRT.GES_GRTCoreModule.Initialize()  0.010753  0.014085   \n",
       "2           GES_GRT.GES_GRTCoreModule.PostInitialize()  0.021505  0.014085   \n",
       "3    GES_GRT.GES_GRTDomainServiceBase.GES_GRTDomain...  0.021505  0.014085   \n",
       "4      GES_GRT.GES_GRTServiceBase.GES_GRTServiceBase()  0.021505  0.014085   \n",
       "..                                                 ...       ...       ...   \n",
       "799  GES_GRT.Web.App.Startup.AppBundleConfig.Regist...  0.086022  0.014085   \n",
       "800  GES_GRT.Web.App.Startup.AppBundleConfig.AddApp...  0.010753  0.042254   \n",
       "801  GES_GRT.Web.App.Startup.AppBundleConfig.AddApp...  0.010753  0.084507   \n",
       "802  GES_GRT.Web.App.Startup.AppNavigationProvider....  0.021505  0.014085   \n",
       "803  GES_GRT.Web.App.Startup.AppNavigationProvider....  0.010753  0.014085   \n",
       "\n",
       "           NP        NV  NEST        Ca        Ce      NChg     NCall  \\\n",
       "0    0.000000  0.020408   0.1  0.000000  0.025641  0.051282  0.000115   \n",
       "1    0.000000  0.000000   0.0  0.000000  0.000000  0.025641  0.000115   \n",
       "2    0.000000  0.000000   0.0  0.000000  0.012821  0.025641  0.000115   \n",
       "3    0.000000  0.000000   0.0  0.116279  0.000000  0.025641  0.106956   \n",
       "4    0.000000  0.000000   0.0  0.093023  0.000000  0.025641  0.068034   \n",
       "..        ...       ...   ...       ...       ...       ...       ...   \n",
       "799  0.071429  0.000000   0.0  0.023256  0.038462  0.102564  0.000115   \n",
       "800  0.142857  0.000000   0.1  0.023256  0.025641  0.025641  0.000231   \n",
       "801  0.142857  0.000000   0.1  0.023256  0.025641  0.025641  0.000231   \n",
       "802  0.071429  0.000000   0.0  0.000000  0.012821  0.435897  0.000115   \n",
       "803  0.071429  0.020408   0.0  0.023256  0.000000  0.051282  0.002654   \n",
       "\n",
       "        CRank  \n",
       "0    0.390238  \n",
       "1    0.050594  \n",
       "2    0.074167  \n",
       "3    0.284466  \n",
       "4    0.222288  \n",
       "..        ...  \n",
       "799  0.335931  \n",
       "800  0.370632  \n",
       "801  0.412886  \n",
       "802  0.555852  \n",
       "803  0.193866  \n",
       "\n",
       "[804 rows x 11 columns]"
      ]
     },
     "execution_count": 11,
     "metadata": {},
     "output_type": "execute_result"
    }
   ],
   "source": [
    "scaled_data[\"CRank\"] = scaled_data.sum(axis=1)\n",
    "min_col, max_col = scaled_data[\"CRank\"].min(), scaled_data[\"CRank\"].max()\n",
    "print(col_name, min_col, max_col)\n",
    "scaled_data"
   ]
  },
  {
   "cell_type": "code",
   "execution_count": 12,
   "metadata": {},
   "outputs": [],
   "source": [
    "scaled_data.to_csv(\"C:/Users/aprodea/work/metrics-tax-compare/merged/merged_normalised.csv\", sep=';', index=False)"
   ]
  },
  {
   "cell_type": "code",
   "execution_count": 12,
   "metadata": {},
   "outputs": [
    {
     "data": {
      "text/plain": [
       "count    804.000000\n",
       "mean       0.484155\n",
       "std        0.449198\n",
       "min        0.050478\n",
       "25%        0.229997\n",
       "50%        0.365581\n",
       "75%        0.573050\n",
       "max        5.124199\n",
       "Name: CRank, dtype: float64"
      ]
     },
     "execution_count": 12,
     "metadata": {},
     "output_type": "execute_result"
    }
   ],
   "source": [
    "scaled_data[\"CRank\"].describe()"
   ]
  },
  {
   "cell_type": "code",
   "execution_count": 13,
   "metadata": {},
   "outputs": [
    {
     "data": {
      "image/png": "[encoded data removed]",
      "text/plain": [
       "<Figure size 432x288 with 1 Axes>"
      ]
     },
     "metadata": {
      "needs_background": "light"
     },
     "output_type": "display_data"
    }
   ],
   "source": [
    "sm.qqplot(scaled_data[\"CRank\"], marker='o', markerfacecolor='none', markeredgecolor='k', alpha=0.5)\n",
    "plt.show()"
   ]
  },
  {
   "cell_type": "code",
   "execution_count": 14,
   "metadata": {},
   "outputs": [
    {
     "data": {
      "text/plain": [
       "<function matplotlib.pyplot.show(close=None, block=None)>"
      ]
     },
     "execution_count": 14,
     "metadata": {},
     "output_type": "execute_result"
    },
    {
     "data": {
      "image/png": "[encoded data removed]",
      "text/plain": [
       "<Figure size 432x288 with 1 Axes>"
      ]
     },
     "metadata": {
      "needs_background": "light"
     },
     "output_type": "display_data"
    }
   ],
   "source": [
    "scaled_data[\"CRank\"].hist(bins=50)\n",
    "plt.show"
   ]
  },
  {
   "cell_type": "code",
   "execution_count": 15,
   "metadata": {},
   "outputs": [
    {
     "data": {
      "text/html": [
       "<div>\n",
       "<style scoped>\n",
       "    .dataframe tbody tr th:only-of-type {\n",
       "        vertical-align: middle;\n",
       "    }\n",
       "\n",
       "    .dataframe tbody tr th {\n",
       "        vertical-align: top;\n",
       "    }\n",
       "\n",
       "    .dataframe thead th {\n",
       "        text-align: right;\n",
       "    }\n",
       "</style>\n",
       "<table border=\"1\" class=\"dataframe\">\n",
       "  <thead>\n",
       "    <tr style=\"text-align: right;\">\n",
       "      <th></th>\n",
       "      <th>Method</th>\n",
       "      <th>LOC</th>\n",
       "      <th>CC</th>\n",
       "      <th>NP</th>\n",
       "      <th>NV</th>\n",
       "      <th>NEST</th>\n",
       "      <th>Ca</th>\n",
       "      <th>Ce</th>\n",
       "      <th>NChg</th>\n",
       "      <th>NCall</th>\n",
       "      <th>CRank</th>\n",
       "    </tr>\n",
       "  </thead>\n",
       "  <tbody>\n",
       "    <tr>\n",
       "      <th>0</th>\n",
       "      <td>GES_GRT.ClientIncomeComponentGroups.Dto.Client...</td>\n",
       "      <td>0.010753</td>\n",
       "      <td>0.014085</td>\n",
       "      <td>0.000000</td>\n",
       "      <td>0.000000</td>\n",
       "      <td>0.0</td>\n",
       "      <td>0.000000</td>\n",
       "      <td>0.000000</td>\n",
       "      <td>0.025641</td>\n",
       "      <td>0.000000</td>\n",
       "      <td>0.050478</td>\n",
       "    </tr>\n",
       "    <tr>\n",
       "      <th>1</th>\n",
       "      <td>GES_GRT.Localization.Dto.GetLanguagesOutput.Ge...</td>\n",
       "      <td>0.010753</td>\n",
       "      <td>0.014085</td>\n",
       "      <td>0.000000</td>\n",
       "      <td>0.000000</td>\n",
       "      <td>0.0</td>\n",
       "      <td>0.000000</td>\n",
       "      <td>0.000000</td>\n",
       "      <td>0.025641</td>\n",
       "      <td>0.000000</td>\n",
       "      <td>0.050478</td>\n",
       "    </tr>\n",
       "    <tr>\n",
       "      <th>2</th>\n",
       "      <td>GES_GRT.Chat.ChatMessage.ChatMessage()</td>\n",
       "      <td>0.010753</td>\n",
       "      <td>0.014085</td>\n",
       "      <td>0.000000</td>\n",
       "      <td>0.000000</td>\n",
       "      <td>0.0</td>\n",
       "      <td>0.000000</td>\n",
       "      <td>0.000000</td>\n",
       "      <td>0.025641</td>\n",
       "      <td>0.000000</td>\n",
       "      <td>0.050478</td>\n",
       "    </tr>\n",
       "    <tr>\n",
       "      <th>3</th>\n",
       "      <td>GES_GRT.WebApi.Controllers.ImportClientIncomeC...</td>\n",
       "      <td>0.010753</td>\n",
       "      <td>0.014085</td>\n",
       "      <td>0.000000</td>\n",
       "      <td>0.000000</td>\n",
       "      <td>0.0</td>\n",
       "      <td>0.000000</td>\n",
       "      <td>0.000000</td>\n",
       "      <td>0.025641</td>\n",
       "      <td>0.000000</td>\n",
       "      <td>0.050478</td>\n",
       "    </tr>\n",
       "    <tr>\n",
       "      <th>4</th>\n",
       "      <td>GES_GRT.WebApi.Controllers.ImportExchangeRates...</td>\n",
       "      <td>0.010753</td>\n",
       "      <td>0.014085</td>\n",
       "      <td>0.000000</td>\n",
       "      <td>0.000000</td>\n",
       "      <td>0.0</td>\n",
       "      <td>0.000000</td>\n",
       "      <td>0.000000</td>\n",
       "      <td>0.025641</td>\n",
       "      <td>0.000000</td>\n",
       "      <td>0.050478</td>\n",
       "    </tr>\n",
       "    <tr>\n",
       "      <th>...</th>\n",
       "      <td>...</td>\n",
       "      <td>...</td>\n",
       "      <td>...</td>\n",
       "      <td>...</td>\n",
       "      <td>...</td>\n",
       "      <td>...</td>\n",
       "      <td>...</td>\n",
       "      <td>...</td>\n",
       "      <td>...</td>\n",
       "      <td>...</td>\n",
       "      <td>...</td>\n",
       "    </tr>\n",
       "    <tr>\n",
       "      <th>799</th>\n",
       "      <td>GES_GRT.Employees.Exporting.EmployeeListExcelE...</td>\n",
       "      <td>0.634409</td>\n",
       "      <td>0.563380</td>\n",
       "      <td>0.285714</td>\n",
       "      <td>0.367347</td>\n",
       "      <td>0.2</td>\n",
       "      <td>0.023256</td>\n",
       "      <td>0.435897</td>\n",
       "      <td>0.307692</td>\n",
       "      <td>0.000115</td>\n",
       "      <td>2.817811</td>\n",
       "    </tr>\n",
       "    <tr>\n",
       "      <th>800</th>\n",
       "      <td>GES_GRT.Employees.EmployeeAppService.SetEmploy...</td>\n",
       "      <td>0.612903</td>\n",
       "      <td>0.394366</td>\n",
       "      <td>0.142857</td>\n",
       "      <td>0.428571</td>\n",
       "      <td>0.3</td>\n",
       "      <td>0.023256</td>\n",
       "      <td>0.641026</td>\n",
       "      <td>0.384615</td>\n",
       "      <td>0.000115</td>\n",
       "      <td>2.927710</td>\n",
       "    </tr>\n",
       "    <tr>\n",
       "      <th>801</th>\n",
       "      <td>GES_GRT.Employees.Exporting.EmployeeListExcelE...</td>\n",
       "      <td>0.655914</td>\n",
       "      <td>1.000000</td>\n",
       "      <td>0.142857</td>\n",
       "      <td>0.163265</td>\n",
       "      <td>0.1</td>\n",
       "      <td>0.023256</td>\n",
       "      <td>0.602564</td>\n",
       "      <td>0.384615</td>\n",
       "      <td>0.000115</td>\n",
       "      <td>3.072587</td>\n",
       "    </tr>\n",
       "    <tr>\n",
       "      <th>802</th>\n",
       "      <td>GES_GRT.WebApi.Controllers.ImportEmployeesCont...</td>\n",
       "      <td>0.559140</td>\n",
       "      <td>0.338028</td>\n",
       "      <td>0.142857</td>\n",
       "      <td>0.714286</td>\n",
       "      <td>0.3</td>\n",
       "      <td>0.023256</td>\n",
       "      <td>0.743590</td>\n",
       "      <td>0.410256</td>\n",
       "      <td>0.000058</td>\n",
       "      <td>3.231470</td>\n",
       "    </tr>\n",
       "    <tr>\n",
       "      <th>803</th>\n",
       "      <td>GES_GRT.WebApi.Controllers.ImportLineItemsCont...</td>\n",
       "      <td>1.000000</td>\n",
       "      <td>0.760563</td>\n",
       "      <td>0.142857</td>\n",
       "      <td>1.000000</td>\n",
       "      <td>0.3</td>\n",
       "      <td>0.023256</td>\n",
       "      <td>0.897436</td>\n",
       "      <td>1.000000</td>\n",
       "      <td>0.000087</td>\n",
       "      <td>5.124199</td>\n",
       "    </tr>\n",
       "  </tbody>\n",
       "</table>\n",
       "<p>804 rows × 11 columns</p>\n",
       "</div>"
      ],
      "text/plain": [
       "                                                Method       LOC        CC  \\\n",
       "0    GES_GRT.ClientIncomeComponentGroups.Dto.Client...  0.010753  0.014085   \n",
       "1    GES_GRT.Localization.Dto.GetLanguagesOutput.Ge...  0.010753  0.014085   \n",
       "2               GES_GRT.Chat.ChatMessage.ChatMessage()  0.010753  0.014085   \n",
       "3    GES_GRT.WebApi.Controllers.ImportClientIncomeC...  0.010753  0.014085   \n",
       "4    GES_GRT.WebApi.Controllers.ImportExchangeRates...  0.010753  0.014085   \n",
       "..                                                 ...       ...       ...   \n",
       "799  GES_GRT.Employees.Exporting.EmployeeListExcelE...  0.634409  0.563380   \n",
       "800  GES_GRT.Employees.EmployeeAppService.SetEmploy...  0.612903  0.394366   \n",
       "801  GES_GRT.Employees.Exporting.EmployeeListExcelE...  0.655914  1.000000   \n",
       "802  GES_GRT.WebApi.Controllers.ImportEmployeesCont...  0.559140  0.338028   \n",
       "803  GES_GRT.WebApi.Controllers.ImportLineItemsCont...  1.000000  0.760563   \n",
       "\n",
       "           NP        NV  NEST        Ca        Ce      NChg     NCall  \\\n",
       "0    0.000000  0.000000   0.0  0.000000  0.000000  0.025641  0.000000   \n",
       "1    0.000000  0.000000   0.0  0.000000  0.000000  0.025641  0.000000   \n",
       "2    0.000000  0.000000   0.0  0.000000  0.000000  0.025641  0.000000   \n",
       "3    0.000000  0.000000   0.0  0.000000  0.000000  0.025641  0.000000   \n",
       "4    0.000000  0.000000   0.0  0.000000  0.000000  0.025641  0.000000   \n",
       "..        ...       ...   ...       ...       ...       ...       ...   \n",
       "799  0.285714  0.367347   0.2  0.023256  0.435897  0.307692  0.000115   \n",
       "800  0.142857  0.428571   0.3  0.023256  0.641026  0.384615  0.000115   \n",
       "801  0.142857  0.163265   0.1  0.023256  0.602564  0.384615  0.000115   \n",
       "802  0.142857  0.714286   0.3  0.023256  0.743590  0.410256  0.000058   \n",
       "803  0.142857  1.000000   0.3  0.023256  0.897436  1.000000  0.000087   \n",
       "\n",
       "        CRank  \n",
       "0    0.050478  \n",
       "1    0.050478  \n",
       "2    0.050478  \n",
       "3    0.050478  \n",
       "4    0.050478  \n",
       "..        ...  \n",
       "799  2.817811  \n",
       "800  2.927710  \n",
       "801  3.072587  \n",
       "802  3.231470  \n",
       "803  5.124199  \n",
       "\n",
       "[804 rows x 11 columns]"
      ]
     },
     "execution_count": 15,
     "metadata": {},
     "output_type": "execute_result"
    }
   ],
   "source": [
    "ordered_scaled_data = scaled_data.sort_values(by='CRank', ignore_index=True)\n",
    "ordered_scaled_data"
   ]
  },
  {
   "cell_type": "code",
   "execution_count": 23,
   "metadata": {},
   "outputs": [
    {
     "name": "stdout",
     "output_type": "stream",
     "text": [
      "563 724 804\n"
     ]
    },
    {
     "data": {
      "text/html": [
       "<div>\n",
       "<style scoped>\n",
       "    .dataframe tbody tr th:only-of-type {\n",
       "        vertical-align: middle;\n",
       "    }\n",
       "\n",
       "    .dataframe tbody tr th {\n",
       "        vertical-align: top;\n",
       "    }\n",
       "\n",
       "    .dataframe thead th {\n",
       "        text-align: right;\n",
       "    }\n",
       "</style>\n",
       "<table border=\"1\" class=\"dataframe\">\n",
       "  <thead>\n",
       "    <tr style=\"text-align: right;\">\n",
       "      <th></th>\n",
       "      <th>Method</th>\n",
       "      <th>LOC</th>\n",
       "      <th>CC</th>\n",
       "      <th>NP</th>\n",
       "      <th>NV</th>\n",
       "      <th>NEST</th>\n",
       "      <th>Ca</th>\n",
       "      <th>Ce</th>\n",
       "      <th>NChg</th>\n",
       "      <th>NCall</th>\n",
       "      <th>CRank</th>\n",
       "      <th>CLevel</th>\n",
       "    </tr>\n",
       "  </thead>\n",
       "  <tbody>\n",
       "    <tr>\n",
       "      <th>0</th>\n",
       "      <td>GES_GRT.ClientIncomeComponentGroups.Dto.Client...</td>\n",
       "      <td>0.010753</td>\n",
       "      <td>0.014085</td>\n",
       "      <td>0.000000</td>\n",
       "      <td>0.000000</td>\n",
       "      <td>0.0</td>\n",
       "      <td>0.000000</td>\n",
       "      <td>0.000000</td>\n",
       "      <td>0.025641</td>\n",
       "      <td>0.000000</td>\n",
       "      <td>0.050478</td>\n",
       "      <td>low</td>\n",
       "    </tr>\n",
       "    <tr>\n",
       "      <th>1</th>\n",
       "      <td>GES_GRT.Localization.Dto.GetLanguagesOutput.Ge...</td>\n",
       "      <td>0.010753</td>\n",
       "      <td>0.014085</td>\n",
       "      <td>0.000000</td>\n",
       "      <td>0.000000</td>\n",
       "      <td>0.0</td>\n",
       "      <td>0.000000</td>\n",
       "      <td>0.000000</td>\n",
       "      <td>0.025641</td>\n",
       "      <td>0.000000</td>\n",
       "      <td>0.050478</td>\n",
       "      <td>low</td>\n",
       "    </tr>\n",
       "    <tr>\n",
       "      <th>2</th>\n",
       "      <td>GES_GRT.Chat.ChatMessage.ChatMessage()</td>\n",
       "      <td>0.010753</td>\n",
       "      <td>0.014085</td>\n",
       "      <td>0.000000</td>\n",
       "      <td>0.000000</td>\n",
       "      <td>0.0</td>\n",
       "      <td>0.000000</td>\n",
       "      <td>0.000000</td>\n",
       "      <td>0.025641</td>\n",
       "      <td>0.000000</td>\n",
       "      <td>0.050478</td>\n",
       "      <td>low</td>\n",
       "    </tr>\n",
       "    <tr>\n",
       "      <th>3</th>\n",
       "      <td>GES_GRT.WebApi.Controllers.ImportClientIncomeC...</td>\n",
       "      <td>0.010753</td>\n",
       "      <td>0.014085</td>\n",
       "      <td>0.000000</td>\n",
       "      <td>0.000000</td>\n",
       "      <td>0.0</td>\n",
       "      <td>0.000000</td>\n",
       "      <td>0.000000</td>\n",
       "      <td>0.025641</td>\n",
       "      <td>0.000000</td>\n",
       "      <td>0.050478</td>\n",
       "      <td>low</td>\n",
       "    </tr>\n",
       "    <tr>\n",
       "      <th>4</th>\n",
       "      <td>GES_GRT.WebApi.Controllers.ImportExchangeRates...</td>\n",
       "      <td>0.010753</td>\n",
       "      <td>0.014085</td>\n",
       "      <td>0.000000</td>\n",
       "      <td>0.000000</td>\n",
       "      <td>0.0</td>\n",
       "      <td>0.000000</td>\n",
       "      <td>0.000000</td>\n",
       "      <td>0.025641</td>\n",
       "      <td>0.000000</td>\n",
       "      <td>0.050478</td>\n",
       "      <td>low</td>\n",
       "    </tr>\n",
       "    <tr>\n",
       "      <th>...</th>\n",
       "      <td>...</td>\n",
       "      <td>...</td>\n",
       "      <td>...</td>\n",
       "      <td>...</td>\n",
       "      <td>...</td>\n",
       "      <td>...</td>\n",
       "      <td>...</td>\n",
       "      <td>...</td>\n",
       "      <td>...</td>\n",
       "      <td>...</td>\n",
       "      <td>...</td>\n",
       "      <td>...</td>\n",
       "    </tr>\n",
       "    <tr>\n",
       "      <th>799</th>\n",
       "      <td>GES_GRT.Employees.Exporting.EmployeeListExcelE...</td>\n",
       "      <td>0.634409</td>\n",
       "      <td>0.563380</td>\n",
       "      <td>0.285714</td>\n",
       "      <td>0.367347</td>\n",
       "      <td>0.2</td>\n",
       "      <td>0.023256</td>\n",
       "      <td>0.435897</td>\n",
       "      <td>0.307692</td>\n",
       "      <td>0.000115</td>\n",
       "      <td>2.817811</td>\n",
       "      <td>high</td>\n",
       "    </tr>\n",
       "    <tr>\n",
       "      <th>800</th>\n",
       "      <td>GES_GRT.Employees.EmployeeAppService.SetEmploy...</td>\n",
       "      <td>0.612903</td>\n",
       "      <td>0.394366</td>\n",
       "      <td>0.142857</td>\n",
       "      <td>0.428571</td>\n",
       "      <td>0.3</td>\n",
       "      <td>0.023256</td>\n",
       "      <td>0.641026</td>\n",
       "      <td>0.384615</td>\n",
       "      <td>0.000115</td>\n",
       "      <td>2.927710</td>\n",
       "      <td>high</td>\n",
       "    </tr>\n",
       "    <tr>\n",
       "      <th>801</th>\n",
       "      <td>GES_GRT.Employees.Exporting.EmployeeListExcelE...</td>\n",
       "      <td>0.655914</td>\n",
       "      <td>1.000000</td>\n",
       "      <td>0.142857</td>\n",
       "      <td>0.163265</td>\n",
       "      <td>0.1</td>\n",
       "      <td>0.023256</td>\n",
       "      <td>0.602564</td>\n",
       "      <td>0.384615</td>\n",
       "      <td>0.000115</td>\n",
       "      <td>3.072587</td>\n",
       "      <td>high</td>\n",
       "    </tr>\n",
       "    <tr>\n",
       "      <th>802</th>\n",
       "      <td>GES_GRT.WebApi.Controllers.ImportEmployeesCont...</td>\n",
       "      <td>0.559140</td>\n",
       "      <td>0.338028</td>\n",
       "      <td>0.142857</td>\n",
       "      <td>0.714286</td>\n",
       "      <td>0.3</td>\n",
       "      <td>0.023256</td>\n",
       "      <td>0.743590</td>\n",
       "      <td>0.410256</td>\n",
       "      <td>0.000058</td>\n",
       "      <td>3.231470</td>\n",
       "      <td>high</td>\n",
       "    </tr>\n",
       "    <tr>\n",
       "      <th>803</th>\n",
       "      <td>GES_GRT.WebApi.Controllers.ImportLineItemsCont...</td>\n",
       "      <td>1.000000</td>\n",
       "      <td>0.760563</td>\n",
       "      <td>0.142857</td>\n",
       "      <td>1.000000</td>\n",
       "      <td>0.3</td>\n",
       "      <td>0.023256</td>\n",
       "      <td>0.897436</td>\n",
       "      <td>1.000000</td>\n",
       "      <td>0.000087</td>\n",
       "      <td>5.124199</td>\n",
       "      <td>high</td>\n",
       "    </tr>\n",
       "  </tbody>\n",
       "</table>\n",
       "<p>804 rows × 12 columns</p>\n",
       "</div>"
      ],
      "text/plain": [
       "                                                Method       LOC        CC  \\\n",
       "0    GES_GRT.ClientIncomeComponentGroups.Dto.Client...  0.010753  0.014085   \n",
       "1    GES_GRT.Localization.Dto.GetLanguagesOutput.Ge...  0.010753  0.014085   \n",
       "2               GES_GRT.Chat.ChatMessage.ChatMessage()  0.010753  0.014085   \n",
       "3    GES_GRT.WebApi.Controllers.ImportClientIncomeC...  0.010753  0.014085   \n",
       "4    GES_GRT.WebApi.Controllers.ImportExchangeRates...  0.010753  0.014085   \n",
       "..                                                 ...       ...       ...   \n",
       "799  GES_GRT.Employees.Exporting.EmployeeListExcelE...  0.634409  0.563380   \n",
       "800  GES_GRT.Employees.EmployeeAppService.SetEmploy...  0.612903  0.394366   \n",
       "801  GES_GRT.Employees.Exporting.EmployeeListExcelE...  0.655914  1.000000   \n",
       "802  GES_GRT.WebApi.Controllers.ImportEmployeesCont...  0.559140  0.338028   \n",
       "803  GES_GRT.WebApi.Controllers.ImportLineItemsCont...  1.000000  0.760563   \n",
       "\n",
       "           NP        NV  NEST        Ca        Ce      NChg     NCall  \\\n",
       "0    0.000000  0.000000   0.0  0.000000  0.000000  0.025641  0.000000   \n",
       "1    0.000000  0.000000   0.0  0.000000  0.000000  0.025641  0.000000   \n",
       "2    0.000000  0.000000   0.0  0.000000  0.000000  0.025641  0.000000   \n",
       "3    0.000000  0.000000   0.0  0.000000  0.000000  0.025641  0.000000   \n",
       "4    0.000000  0.000000   0.0  0.000000  0.000000  0.025641  0.000000   \n",
       "..        ...       ...   ...       ...       ...       ...       ...   \n",
       "799  0.285714  0.367347   0.2  0.023256  0.435897  0.307692  0.000115   \n",
       "800  0.142857  0.428571   0.3  0.023256  0.641026  0.384615  0.000115   \n",
       "801  0.142857  0.163265   0.1  0.023256  0.602564  0.384615  0.000115   \n",
       "802  0.142857  0.714286   0.3  0.023256  0.743590  0.410256  0.000058   \n",
       "803  0.142857  1.000000   0.3  0.023256  0.897436  1.000000  0.000087   \n",
       "\n",
       "        CRank CLevel  \n",
       "0    0.050478    low  \n",
       "1    0.050478    low  \n",
       "2    0.050478    low  \n",
       "3    0.050478    low  \n",
       "4    0.050478    low  \n",
       "..        ...    ...  \n",
       "799  2.817811   high  \n",
       "800  2.927710   high  \n",
       "801  3.072587   high  \n",
       "802  3.231470   high  \n",
       "803  5.124199   high  \n",
       "\n",
       "[804 rows x 12 columns]"
      ]
     },
     "execution_count": 23,
     "metadata": {},
     "output_type": "execute_result"
    }
   ],
   "source": [
    "n = ordered_scaled_data.shape[0]\n",
    "first_cut = round(n*0.7)\n",
    "second_cut = round(n*0.9)\n",
    "\n",
    "print(first_cut, second_cut, n)\n",
    "\n",
    "ordered_scaled_data.loc[:first_cut, \"CLevel\"] = \"low\"\n",
    "ordered_scaled_data.loc[first_cut:second_cut, \"CLevel\"] = \"regular\"\n",
    "ordered_scaled_data.loc[second_cut:, \"CLevel\"] = \"high\"\n",
    "ordered_scaled_data"
   ]
  },
  {
   "cell_type": "code",
   "execution_count": 52,
   "metadata": {},
   "outputs": [],
   "source": [
    "ordered_scaled_data.to_csv(\"C:/Users/aprodea/work/metrics-tax-compare/merged/ordered_scaled_data.csv\", sep=';', index=False)"
   ]
  },
  {
   "cell_type": "code",
   "execution_count": 17,
   "metadata": {},
   "outputs": [
    {
     "data": {
      "text/plain": [
       "Index(['Method', 'LOC', 'CC', 'NP', 'NV', 'NEST', 'Ca', 'Ce', 'NChg', 'NCall',\n",
       "       'CRank', 'CLevel'],\n",
       "      dtype='object')"
      ]
     },
     "execution_count": 17,
     "metadata": {},
     "output_type": "execute_result"
    }
   ],
   "source": [
    "ordered_scaled_data.columns"
   ]
  },
  {
   "cell_type": "code",
   "execution_count": 18,
   "metadata": {},
   "outputs": [
    {
     "name": "stdout",
     "output_type": "stream",
     "text": [
      "563 161 80\n"
     ]
    }
   ],
   "source": [
    "low_critical = len(ordered_scaled_data[ordered_scaled_data['CLevel'] == \"low\"])\n",
    "regular_critical = len(ordered_scaled_data[ordered_scaled_data['CLevel'] == \"regular\"]) \n",
    "high_critical = len(ordered_scaled_data[ordered_scaled_data['CLevel'] == \"high\"])\n",
    "\n",
    "print(low_critical, regular_critical, high_critical)"
   ]
  },
  {
   "cell_type": "code",
   "execution_count": 19,
   "metadata": {},
   "outputs": [
    {
     "data": {
      "text/html": [
       "<div>\n",
       "<style scoped>\n",
       "    .dataframe tbody tr th:only-of-type {\n",
       "        vertical-align: middle;\n",
       "    }\n",
       "\n",
       "    .dataframe tbody tr th {\n",
       "        vertical-align: top;\n",
       "    }\n",
       "\n",
       "    .dataframe thead th {\n",
       "        text-align: right;\n",
       "    }\n",
       "</style>\n",
       "<table border=\"1\" class=\"dataframe\">\n",
       "  <thead>\n",
       "    <tr style=\"text-align: right;\">\n",
       "      <th></th>\n",
       "      <th>index</th>\n",
       "      <th>Method</th>\n",
       "      <th>LOC</th>\n",
       "      <th>CC</th>\n",
       "      <th>NP</th>\n",
       "      <th>NV</th>\n",
       "      <th>NEST</th>\n",
       "      <th>Ca</th>\n",
       "      <th>Ce</th>\n",
       "      <th>NChg</th>\n",
       "      <th>NCall</th>\n",
       "      <th>CRank</th>\n",
       "      <th>CLevel</th>\n",
       "    </tr>\n",
       "  </thead>\n",
       "  <tbody>\n",
       "    <tr>\n",
       "      <th>0</th>\n",
       "      <td>724</td>\n",
       "      <td>GES_GRT.Employees.Exporting.EmployeeListExcelE...</td>\n",
       "      <td>0.118280</td>\n",
       "      <td>0.042254</td>\n",
       "      <td>0.285714</td>\n",
       "      <td>0.102041</td>\n",
       "      <td>0.1</td>\n",
       "      <td>0.000000</td>\n",
       "      <td>0.141026</td>\n",
       "      <td>0.153846</td>\n",
       "      <td>0.000115</td>\n",
       "      <td>0.943275</td>\n",
       "      <td>high</td>\n",
       "    </tr>\n",
       "    <tr>\n",
       "      <th>1</th>\n",
       "      <td>725</td>\n",
       "      <td>GES_GRT.Authorization.Users.UserAppService.Get...</td>\n",
       "      <td>0.301075</td>\n",
       "      <td>0.112676</td>\n",
       "      <td>0.071429</td>\n",
       "      <td>0.020408</td>\n",
       "      <td>0.1</td>\n",
       "      <td>0.000000</td>\n",
       "      <td>0.243590</td>\n",
       "      <td>0.102564</td>\n",
       "      <td>0.000058</td>\n",
       "      <td>0.951800</td>\n",
       "      <td>high</td>\n",
       "    </tr>\n",
       "    <tr>\n",
       "      <th>2</th>\n",
       "      <td>726</td>\n",
       "      <td>GES_GRT.DataExporting.Excel.EpPlus.EpPlusExcel...</td>\n",
       "      <td>0.096774</td>\n",
       "      <td>0.070423</td>\n",
       "      <td>0.285714</td>\n",
       "      <td>0.102041</td>\n",
       "      <td>0.2</td>\n",
       "      <td>0.186047</td>\n",
       "      <td>0.000000</td>\n",
       "      <td>0.025641</td>\n",
       "      <td>0.001818</td>\n",
       "      <td>0.968457</td>\n",
       "      <td>high</td>\n",
       "    </tr>\n",
       "    <tr>\n",
       "      <th>3</th>\n",
       "      <td>727</td>\n",
       "      <td>GES_GRT.Extensions.EnumExtension.GetValueFromD...</td>\n",
       "      <td>0.193548</td>\n",
       "      <td>0.112676</td>\n",
       "      <td>0.071429</td>\n",
       "      <td>0.265306</td>\n",
       "      <td>0.3</td>\n",
       "      <td>0.000000</td>\n",
       "      <td>0.000000</td>\n",
       "      <td>0.025641</td>\n",
       "      <td>0.000000</td>\n",
       "      <td>0.968600</td>\n",
       "      <td>high</td>\n",
       "    </tr>\n",
       "    <tr>\n",
       "      <th>4</th>\n",
       "      <td>728</td>\n",
       "      <td>GES_GRT.Extensions.EnumExtension.GetFlags&lt;T&gt;(T...</td>\n",
       "      <td>0.193548</td>\n",
       "      <td>0.140845</td>\n",
       "      <td>0.142857</td>\n",
       "      <td>0.224490</td>\n",
       "      <td>0.2</td>\n",
       "      <td>0.046512</td>\n",
       "      <td>0.000000</td>\n",
       "      <td>0.025641</td>\n",
       "      <td>0.000000</td>\n",
       "      <td>0.973893</td>\n",
       "      <td>high</td>\n",
       "    </tr>\n",
       "    <tr>\n",
       "      <th>...</th>\n",
       "      <td>...</td>\n",
       "      <td>...</td>\n",
       "      <td>...</td>\n",
       "      <td>...</td>\n",
       "      <td>...</td>\n",
       "      <td>...</td>\n",
       "      <td>...</td>\n",
       "      <td>...</td>\n",
       "      <td>...</td>\n",
       "      <td>...</td>\n",
       "      <td>...</td>\n",
       "      <td>...</td>\n",
       "      <td>...</td>\n",
       "    </tr>\n",
       "    <tr>\n",
       "      <th>75</th>\n",
       "      <td>799</td>\n",
       "      <td>GES_GRT.Employees.Exporting.EmployeeListExcelE...</td>\n",
       "      <td>0.634409</td>\n",
       "      <td>0.563380</td>\n",
       "      <td>0.285714</td>\n",
       "      <td>0.367347</td>\n",
       "      <td>0.2</td>\n",
       "      <td>0.023256</td>\n",
       "      <td>0.435897</td>\n",
       "      <td>0.307692</td>\n",
       "      <td>0.000115</td>\n",
       "      <td>2.817811</td>\n",
       "      <td>high</td>\n",
       "    </tr>\n",
       "    <tr>\n",
       "      <th>76</th>\n",
       "      <td>800</td>\n",
       "      <td>GES_GRT.Employees.EmployeeAppService.SetEmploy...</td>\n",
       "      <td>0.612903</td>\n",
       "      <td>0.394366</td>\n",
       "      <td>0.142857</td>\n",
       "      <td>0.428571</td>\n",
       "      <td>0.3</td>\n",
       "      <td>0.023256</td>\n",
       "      <td>0.641026</td>\n",
       "      <td>0.384615</td>\n",
       "      <td>0.000115</td>\n",
       "      <td>2.927710</td>\n",
       "      <td>high</td>\n",
       "    </tr>\n",
       "    <tr>\n",
       "      <th>77</th>\n",
       "      <td>801</td>\n",
       "      <td>GES_GRT.Employees.Exporting.EmployeeListExcelE...</td>\n",
       "      <td>0.655914</td>\n",
       "      <td>1.000000</td>\n",
       "      <td>0.142857</td>\n",
       "      <td>0.163265</td>\n",
       "      <td>0.1</td>\n",
       "      <td>0.023256</td>\n",
       "      <td>0.602564</td>\n",
       "      <td>0.384615</td>\n",
       "      <td>0.000115</td>\n",
       "      <td>3.072587</td>\n",
       "      <td>high</td>\n",
       "    </tr>\n",
       "    <tr>\n",
       "      <th>78</th>\n",
       "      <td>802</td>\n",
       "      <td>GES_GRT.WebApi.Controllers.ImportEmployeesCont...</td>\n",
       "      <td>0.559140</td>\n",
       "      <td>0.338028</td>\n",
       "      <td>0.142857</td>\n",
       "      <td>0.714286</td>\n",
       "      <td>0.3</td>\n",
       "      <td>0.023256</td>\n",
       "      <td>0.743590</td>\n",
       "      <td>0.410256</td>\n",
       "      <td>0.000058</td>\n",
       "      <td>3.231470</td>\n",
       "      <td>high</td>\n",
       "    </tr>\n",
       "    <tr>\n",
       "      <th>79</th>\n",
       "      <td>803</td>\n",
       "      <td>GES_GRT.WebApi.Controllers.ImportLineItemsCont...</td>\n",
       "      <td>1.000000</td>\n",
       "      <td>0.760563</td>\n",
       "      <td>0.142857</td>\n",
       "      <td>1.000000</td>\n",
       "      <td>0.3</td>\n",
       "      <td>0.023256</td>\n",
       "      <td>0.897436</td>\n",
       "      <td>1.000000</td>\n",
       "      <td>0.000087</td>\n",
       "      <td>5.124199</td>\n",
       "      <td>high</td>\n",
       "    </tr>\n",
       "  </tbody>\n",
       "</table>\n",
       "<p>80 rows × 13 columns</p>\n",
       "</div>"
      ],
      "text/plain": [
       "    index                                             Method       LOC  \\\n",
       "0     724  GES_GRT.Employees.Exporting.EmployeeListExcelE...  0.118280   \n",
       "1     725  GES_GRT.Authorization.Users.UserAppService.Get...  0.301075   \n",
       "2     726  GES_GRT.DataExporting.Excel.EpPlus.EpPlusExcel...  0.096774   \n",
       "3     727  GES_GRT.Extensions.EnumExtension.GetValueFromD...  0.193548   \n",
       "4     728  GES_GRT.Extensions.EnumExtension.GetFlags<T>(T...  0.193548   \n",
       "..    ...                                                ...       ...   \n",
       "75    799  GES_GRT.Employees.Exporting.EmployeeListExcelE...  0.634409   \n",
       "76    800  GES_GRT.Employees.EmployeeAppService.SetEmploy...  0.612903   \n",
       "77    801  GES_GRT.Employees.Exporting.EmployeeListExcelE...  0.655914   \n",
       "78    802  GES_GRT.WebApi.Controllers.ImportEmployeesCont...  0.559140   \n",
       "79    803  GES_GRT.WebApi.Controllers.ImportLineItemsCont...  1.000000   \n",
       "\n",
       "          CC        NP        NV  NEST        Ca        Ce      NChg  \\\n",
       "0   0.042254  0.285714  0.102041   0.1  0.000000  0.141026  0.153846   \n",
       "1   0.112676  0.071429  0.020408   0.1  0.000000  0.243590  0.102564   \n",
       "2   0.070423  0.285714  0.102041   0.2  0.186047  0.000000  0.025641   \n",
       "3   0.112676  0.071429  0.265306   0.3  0.000000  0.000000  0.025641   \n",
       "4   0.140845  0.142857  0.224490   0.2  0.046512  0.000000  0.025641   \n",
       "..       ...       ...       ...   ...       ...       ...       ...   \n",
       "75  0.563380  0.285714  0.367347   0.2  0.023256  0.435897  0.307692   \n",
       "76  0.394366  0.142857  0.428571   0.3  0.023256  0.641026  0.384615   \n",
       "77  1.000000  0.142857  0.163265   0.1  0.023256  0.602564  0.384615   \n",
       "78  0.338028  0.142857  0.714286   0.3  0.023256  0.743590  0.410256   \n",
       "79  0.760563  0.142857  1.000000   0.3  0.023256  0.897436  1.000000   \n",
       "\n",
       "       NCall     CRank CLevel  \n",
       "0   0.000115  0.943275   high  \n",
       "1   0.000058  0.951800   high  \n",
       "2   0.001818  0.968457   high  \n",
       "3   0.000000  0.968600   high  \n",
       "4   0.000000  0.973893   high  \n",
       "..       ...       ...    ...  \n",
       "75  0.000115  2.817811   high  \n",
       "76  0.000115  2.927710   high  \n",
       "77  0.000115  3.072587   high  \n",
       "78  0.000058  3.231470   high  \n",
       "79  0.000087  5.124199   high  \n",
       "\n",
       "[80 rows x 13 columns]"
      ]
     },
     "execution_count": 19,
     "metadata": {},
     "output_type": "execute_result"
    }
   ],
   "source": [
    "high_critical_data = ordered_scaled_data[ordered_scaled_data['CLevel'] == \"high\"].reset_index()\n",
    "high_critical_data"
   ]
  },
  {
   "cell_type": "code",
   "execution_count": 22,
   "metadata": {},
   "outputs": [],
   "source": [
    "high_critical_data.to_csv(\"C:/Users/aprodea/work/metrics-tax-compare/merged/high_critical_data.csv\", sep=';', index=False)"
   ]
  },
  {
   "cell_type": "code",
   "execution_count": 20,
   "metadata": {},
   "outputs": [
    {
     "data": {
      "image/png": "[encoded data removed]",
      "text/plain": [
       "<Waffle size 1440x720 with 1 Axes>"
      ]
     },
     "metadata": {},
     "output_type": "display_data"
    }
   ],
   "source": [
    "from pywaffle import Waffle\n",
    "\n",
    "data = {'Low critical': low_critical, 'Regular critical': regular_critical, 'High critical': high_critical}\n",
    "\n",
    "fig = plt.figure(\n",
    "    FigureClass=Waffle, \n",
    "    rows=10, \n",
    "    values=data, \n",
    "    colors=(\"#232066\", \"#DCB732\", \"#983D3D\"),\n",
    "    labels=['Low critical (<70%)', 'Regular critical (70-90%)', 'High critical (>90%)'],\n",
    "    legend={'loc': 'lower left', 'bbox_to_anchor': (0, -0.4), 'ncol': len(data), 'framealpha': 0},\n",
    "    interval_ratio_x=0.5,\n",
    "    interval_ratio_y=0.5,\n",
    "    figsize=(20,10)\n",
    ")\n",
    "fig.gca().set_facecolor('#EEEEEE')\n",
    "fig.set_facecolor('#EEEEEE')\n",
    "plt.show()"
   ]
  },
  {
   "cell_type": "code",
   "execution_count": 21,
   "metadata": {},
   "outputs": [
    {
     "data": {
      "text/html": [
       "<div>\n",
       "<style scoped>\n",
       "    .dataframe tbody tr th:only-of-type {\n",
       "        vertical-align: middle;\n",
       "    }\n",
       "\n",
       "    .dataframe tbody tr th {\n",
       "        vertical-align: top;\n",
       "    }\n",
       "\n",
       "    .dataframe thead th {\n",
       "        text-align: right;\n",
       "    }\n",
       "</style>\n",
       "<table border=\"1\" class=\"dataframe\">\n",
       "  <thead>\n",
       "    <tr style=\"text-align: right;\">\n",
       "      <th></th>\n",
       "      <th>index</th>\n",
       "      <th>LOC</th>\n",
       "      <th>CC</th>\n",
       "      <th>NP</th>\n",
       "      <th>NV</th>\n",
       "      <th>NEST</th>\n",
       "      <th>Ca</th>\n",
       "      <th>Ce</th>\n",
       "      <th>NChg</th>\n",
       "      <th>NCall</th>\n",
       "      <th>CRank</th>\n",
       "    </tr>\n",
       "  </thead>\n",
       "  <tbody>\n",
       "    <tr>\n",
       "      <th>count</th>\n",
       "      <td>80.0000</td>\n",
       "      <td>80.000000</td>\n",
       "      <td>80.000000</td>\n",
       "      <td>80.000000</td>\n",
       "      <td>80.000000</td>\n",
       "      <td>80.00000</td>\n",
       "      <td>80.000000</td>\n",
       "      <td>80.000000</td>\n",
       "      <td>80.000000</td>\n",
       "      <td>80.000000</td>\n",
       "      <td>80.000000</td>\n",
       "    </tr>\n",
       "    <tr>\n",
       "      <th>mean</th>\n",
       "      <td>763.5000</td>\n",
       "      <td>0.286559</td>\n",
       "      <td>0.166197</td>\n",
       "      <td>0.229464</td>\n",
       "      <td>0.212245</td>\n",
       "      <td>0.22500</td>\n",
       "      <td>0.039244</td>\n",
       "      <td>0.191827</td>\n",
       "      <td>0.141987</td>\n",
       "      <td>0.017345</td>\n",
       "      <td>1.509868</td>\n",
       "    </tr>\n",
       "    <tr>\n",
       "      <th>std</th>\n",
       "      <td>23.2379</td>\n",
       "      <td>0.196491</td>\n",
       "      <td>0.159653</td>\n",
       "      <td>0.223778</td>\n",
       "      <td>0.184707</td>\n",
       "      <td>0.15549</td>\n",
       "      <td>0.114923</td>\n",
       "      <td>0.208153</td>\n",
       "      <td>0.171348</td>\n",
       "      <td>0.113245</td>\n",
       "      <td>0.682985</td>\n",
       "    </tr>\n",
       "    <tr>\n",
       "      <th>min</th>\n",
       "      <td>724.0000</td>\n",
       "      <td>0.021505</td>\n",
       "      <td>0.014085</td>\n",
       "      <td>0.000000</td>\n",
       "      <td>0.000000</td>\n",
       "      <td>0.00000</td>\n",
       "      <td>0.000000</td>\n",
       "      <td>0.000000</td>\n",
       "      <td>0.025641</td>\n",
       "      <td>0.000000</td>\n",
       "      <td>0.943275</td>\n",
       "    </tr>\n",
       "    <tr>\n",
       "      <th>25%</th>\n",
       "      <td>743.7500</td>\n",
       "      <td>0.150538</td>\n",
       "      <td>0.066901</td>\n",
       "      <td>0.071429</td>\n",
       "      <td>0.076531</td>\n",
       "      <td>0.10000</td>\n",
       "      <td>0.000000</td>\n",
       "      <td>0.012821</td>\n",
       "      <td>0.025641</td>\n",
       "      <td>0.000000</td>\n",
       "      <td>1.091386</td>\n",
       "    </tr>\n",
       "    <tr>\n",
       "      <th>50%</th>\n",
       "      <td>763.5000</td>\n",
       "      <td>0.220430</td>\n",
       "      <td>0.126761</td>\n",
       "      <td>0.142857</td>\n",
       "      <td>0.173469</td>\n",
       "      <td>0.20000</td>\n",
       "      <td>0.023256</td>\n",
       "      <td>0.141026</td>\n",
       "      <td>0.076923</td>\n",
       "      <td>0.000087</td>\n",
       "      <td>1.250577</td>\n",
       "    </tr>\n",
       "    <tr>\n",
       "      <th>75%</th>\n",
       "      <td>783.2500</td>\n",
       "      <td>0.370968</td>\n",
       "      <td>0.204225</td>\n",
       "      <td>0.285714</td>\n",
       "      <td>0.306122</td>\n",
       "      <td>0.30000</td>\n",
       "      <td>0.023256</td>\n",
       "      <td>0.294872</td>\n",
       "      <td>0.179487</td>\n",
       "      <td>0.000433</td>\n",
       "      <td>1.670181</td>\n",
       "    </tr>\n",
       "    <tr>\n",
       "      <th>max</th>\n",
       "      <td>803.0000</td>\n",
       "      <td>1.000000</td>\n",
       "      <td>1.000000</td>\n",
       "      <td>1.000000</td>\n",
       "      <td>1.000000</td>\n",
       "      <td>1.00000</td>\n",
       "      <td>1.000000</td>\n",
       "      <td>1.000000</td>\n",
       "      <td>1.000000</td>\n",
       "      <td>1.000000</td>\n",
       "      <td>5.124199</td>\n",
       "    </tr>\n",
       "  </tbody>\n",
       "</table>\n",
       "</div>"
      ],
      "text/plain": [
       "          index        LOC         CC         NP         NV      NEST  \\\n",
       "count   80.0000  80.000000  80.000000  80.000000  80.000000  80.00000   \n",
       "mean   763.5000   0.286559   0.166197   0.229464   0.212245   0.22500   \n",
       "std     23.2379   0.196491   0.159653   0.223778   0.184707   0.15549   \n",
       "min    724.0000   0.021505   0.014085   0.000000   0.000000   0.00000   \n",
       "25%    743.7500   0.150538   0.066901   0.071429   0.076531   0.10000   \n",
       "50%    763.5000   0.220430   0.126761   0.142857   0.173469   0.20000   \n",
       "75%    783.2500   0.370968   0.204225   0.285714   0.306122   0.30000   \n",
       "max    803.0000   1.000000   1.000000   1.000000   1.000000   1.00000   \n",
       "\n",
       "              Ca         Ce       NChg      NCall      CRank  \n",
       "count  80.000000  80.000000  80.000000  80.000000  80.000000  \n",
       "mean    0.039244   0.191827   0.141987   0.017345   1.509868  \n",
       "std     0.114923   0.208153   0.171348   0.113245   0.682985  \n",
       "min     0.000000   0.000000   0.025641   0.000000   0.943275  \n",
       "25%     0.000000   0.012821   0.025641   0.000000   1.091386  \n",
       "50%     0.023256   0.141026   0.076923   0.000087   1.250577  \n",
       "75%     0.023256   0.294872   0.179487   0.000433   1.670181  \n",
       "max     1.000000   1.000000   1.000000   1.000000   5.124199  "
      ]
     },
     "execution_count": 21,
     "metadata": {},
     "output_type": "execute_result"
    }
   ],
   "source": [
    "high_critical_data.describe()"
   ]
  },
  {
   "cell_type": "code",
   "execution_count": null,
   "outputs": [],
   "source": [
    "data_class = pd.merge(merged_data, ordered_scaled_data[[\"Method\", \"CLevel\"]], on='Method', how='left')\n",
    "data_class"
   ],
   "metadata": {
    "collapsed": false,
    "pycharm": {
     "name": "#%%\n"
    }
   }
  },
  {
   "cell_type": "code",
   "execution_count": null,
   "outputs": [],
   "source": [
    "def split_at_last_point(s):\n",
    "    idx = s.rfind('.')\n",
    "    return s[:idx], s[idx+1:]\n",
    "def split_method_name(value):\n",
    "    parent, method_name = split_at_last_point(value)\n",
    "    parent, class_name = split_at_last_point(parent)\n",
    "    return pd.Series([parent, class_name, method_name])\n",
    "\n",
    "data_class[['Parent_class', 'Class', 'Method']] = data_class['Method'].apply(split_method_name)\n",
    "data_class"
   ],
   "metadata": {
    "collapsed": false,
    "pycharm": {
     "name": "#%%\n"
    }
   }
  },
  {
   "cell_type": "code",
   "execution_count": null,
   "outputs": [],
   "source": [
    "import plotly.express as px\n",
    "\n",
    "config = dict({'scrollZoom': True})\n",
    "\n",
    "fig = px.treemap(data_class, path=['Parent_class', 'Class', 'Method'], values='LOC', color='CLevel',\n",
    "                  color_discrete_map={'(?)':'black', 'low':'blue', 'regular':'yellow', 'high':'red'})\n",
    "fig.show(config=config)"
   ],
   "metadata": {
    "collapsed": false,
    "pycharm": {
     "name": "#%%\n"
    }
   }
  },
  {
   "cell_type": "code",
   "execution_count": 24,
   "metadata": {},
   "outputs": [
    {
     "data": {
      "text/html": [
       "<div>\n",
       "<style scoped>\n",
       "    .dataframe tbody tr th:only-of-type {\n",
       "        vertical-align: middle;\n",
       "    }\n",
       "\n",
       "    .dataframe tbody tr th {\n",
       "        vertical-align: top;\n",
       "    }\n",
       "\n",
       "    .dataframe thead th {\n",
       "        text-align: right;\n",
       "    }\n",
       "</style>\n",
       "<table border=\"1\" class=\"dataframe\">\n",
       "  <thead>\n",
       "    <tr style=\"text-align: right;\">\n",
       "      <th></th>\n",
       "      <th>Method</th>\n",
       "      <th>LOC</th>\n",
       "      <th>CC</th>\n",
       "      <th>NP</th>\n",
       "      <th>NV</th>\n",
       "      <th>NEST</th>\n",
       "      <th>Ca</th>\n",
       "      <th>Ce</th>\n",
       "      <th>NChg</th>\n",
       "      <th>NCall</th>\n",
       "      <th>CLevel</th>\n",
       "    </tr>\n",
       "  </thead>\n",
       "  <tbody>\n",
       "    <tr>\n",
       "      <th>0</th>\n",
       "      <td>GES_GRT.GES_GRTCoreModule.PreInitialize()</td>\n",
       "      <td>14.0</td>\n",
       "      <td>3.0</td>\n",
       "      <td>0</td>\n",
       "      <td>1.0</td>\n",
       "      <td>1.0</td>\n",
       "      <td>0</td>\n",
       "      <td>2</td>\n",
       "      <td>2.0</td>\n",
       "      <td>4.0</td>\n",
       "      <td>low</td>\n",
       "    </tr>\n",
       "    <tr>\n",
       "      <th>1</th>\n",
       "      <td>GES_GRT.GES_GRTCoreModule.Initialize()</td>\n",
       "      <td>1.0</td>\n",
       "      <td>1.0</td>\n",
       "      <td>0</td>\n",
       "      <td>0.0</td>\n",
       "      <td>0.0</td>\n",
       "      <td>0</td>\n",
       "      <td>0</td>\n",
       "      <td>1.0</td>\n",
       "      <td>4.0</td>\n",
       "      <td>low</td>\n",
       "    </tr>\n",
       "    <tr>\n",
       "      <th>2</th>\n",
       "      <td>GES_GRT.GES_GRTCoreModule.PostInitialize()</td>\n",
       "      <td>2.0</td>\n",
       "      <td>1.0</td>\n",
       "      <td>0</td>\n",
       "      <td>0.0</td>\n",
       "      <td>0.0</td>\n",
       "      <td>0</td>\n",
       "      <td>1</td>\n",
       "      <td>1.0</td>\n",
       "      <td>4.0</td>\n",
       "      <td>low</td>\n",
       "    </tr>\n",
       "    <tr>\n",
       "      <th>3</th>\n",
       "      <td>GES_GRT.GES_GRTDomainServiceBase.GES_GRTDomain...</td>\n",
       "      <td>2.0</td>\n",
       "      <td>1.0</td>\n",
       "      <td>0</td>\n",
       "      <td>0.0</td>\n",
       "      <td>0.0</td>\n",
       "      <td>5</td>\n",
       "      <td>0</td>\n",
       "      <td>1.0</td>\n",
       "      <td>3707.0</td>\n",
       "      <td>low</td>\n",
       "    </tr>\n",
       "    <tr>\n",
       "      <th>4</th>\n",
       "      <td>GES_GRT.GES_GRTServiceBase.GES_GRTServiceBase()</td>\n",
       "      <td>2.0</td>\n",
       "      <td>1.0</td>\n",
       "      <td>0</td>\n",
       "      <td>0.0</td>\n",
       "      <td>0.0</td>\n",
       "      <td>4</td>\n",
       "      <td>0</td>\n",
       "      <td>1.0</td>\n",
       "      <td>2358.0</td>\n",
       "      <td>low</td>\n",
       "    </tr>\n",
       "    <tr>\n",
       "      <th>...</th>\n",
       "      <td>...</td>\n",
       "      <td>...</td>\n",
       "      <td>...</td>\n",
       "      <td>...</td>\n",
       "      <td>...</td>\n",
       "      <td>...</td>\n",
       "      <td>...</td>\n",
       "      <td>...</td>\n",
       "      <td>...</td>\n",
       "      <td>...</td>\n",
       "      <td>...</td>\n",
       "    </tr>\n",
       "    <tr>\n",
       "      <th>799</th>\n",
       "      <td>GES_GRT.Web.App.Startup.AppBundleConfig.Regist...</td>\n",
       "      <td>8.0</td>\n",
       "      <td>1.0</td>\n",
       "      <td>1</td>\n",
       "      <td>0.0</td>\n",
       "      <td>0.0</td>\n",
       "      <td>1</td>\n",
       "      <td>3</td>\n",
       "      <td>4.0</td>\n",
       "      <td>4.0</td>\n",
       "      <td>low</td>\n",
       "    </tr>\n",
       "    <tr>\n",
       "      <th>800</th>\n",
       "      <td>GES_GRT.Web.App.Startup.AppBundleConfig.AddApp...</td>\n",
       "      <td>1.0</td>\n",
       "      <td>3.0</td>\n",
       "      <td>2</td>\n",
       "      <td>0.0</td>\n",
       "      <td>1.0</td>\n",
       "      <td>1</td>\n",
       "      <td>2</td>\n",
       "      <td>1.0</td>\n",
       "      <td>8.0</td>\n",
       "      <td>low</td>\n",
       "    </tr>\n",
       "    <tr>\n",
       "      <th>801</th>\n",
       "      <td>GES_GRT.Web.App.Startup.AppBundleConfig.AddApp...</td>\n",
       "      <td>1.0</td>\n",
       "      <td>6.0</td>\n",
       "      <td>2</td>\n",
       "      <td>0.0</td>\n",
       "      <td>1.0</td>\n",
       "      <td>1</td>\n",
       "      <td>2</td>\n",
       "      <td>1.0</td>\n",
       "      <td>8.0</td>\n",
       "      <td>low</td>\n",
       "    </tr>\n",
       "    <tr>\n",
       "      <th>802</th>\n",
       "      <td>GES_GRT.Web.App.Startup.AppNavigationProvider....</td>\n",
       "      <td>2.0</td>\n",
       "      <td>1.0</td>\n",
       "      <td>1</td>\n",
       "      <td>0.0</td>\n",
       "      <td>0.0</td>\n",
       "      <td>0</td>\n",
       "      <td>1</td>\n",
       "      <td>17.0</td>\n",
       "      <td>4.0</td>\n",
       "      <td>regular</td>\n",
       "    </tr>\n",
       "    <tr>\n",
       "      <th>803</th>\n",
       "      <td>GES_GRT.Web.App.Startup.AppNavigationProvider....</td>\n",
       "      <td>1.0</td>\n",
       "      <td>1.0</td>\n",
       "      <td>1</td>\n",
       "      <td>1.0</td>\n",
       "      <td>0.0</td>\n",
       "      <td>1</td>\n",
       "      <td>0</td>\n",
       "      <td>2.0</td>\n",
       "      <td>92.0</td>\n",
       "      <td>low</td>\n",
       "    </tr>\n",
       "  </tbody>\n",
       "</table>\n",
       "<p>804 rows × 11 columns</p>\n",
       "</div>"
      ],
      "text/plain": [
       "                                                Method   LOC   CC  NP   NV  \\\n",
       "0            GES_GRT.GES_GRTCoreModule.PreInitialize()  14.0  3.0   0  1.0   \n",
       "1               GES_GRT.GES_GRTCoreModule.Initialize()   1.0  1.0   0  0.0   \n",
       "2           GES_GRT.GES_GRTCoreModule.PostInitialize()   2.0  1.0   0  0.0   \n",
       "3    GES_GRT.GES_GRTDomainServiceBase.GES_GRTDomain...   2.0  1.0   0  0.0   \n",
       "4      GES_GRT.GES_GRTServiceBase.GES_GRTServiceBase()   2.0  1.0   0  0.0   \n",
       "..                                                 ...   ...  ...  ..  ...   \n",
       "799  GES_GRT.Web.App.Startup.AppBundleConfig.Regist...   8.0  1.0   1  0.0   \n",
       "800  GES_GRT.Web.App.Startup.AppBundleConfig.AddApp...   1.0  3.0   2  0.0   \n",
       "801  GES_GRT.Web.App.Startup.AppBundleConfig.AddApp...   1.0  6.0   2  0.0   \n",
       "802  GES_GRT.Web.App.Startup.AppNavigationProvider....   2.0  1.0   1  0.0   \n",
       "803  GES_GRT.Web.App.Startup.AppNavigationProvider....   1.0  1.0   1  1.0   \n",
       "\n",
       "     NEST  Ca  Ce  NChg   NCall   CLevel  \n",
       "0     1.0   0   2   2.0     4.0      low  \n",
       "1     0.0   0   0   1.0     4.0      low  \n",
       "2     0.0   0   1   1.0     4.0      low  \n",
       "3     0.0   5   0   1.0  3707.0      low  \n",
       "4     0.0   4   0   1.0  2358.0      low  \n",
       "..    ...  ..  ..   ...     ...      ...  \n",
       "799   0.0   1   3   4.0     4.0      low  \n",
       "800   1.0   1   2   1.0     8.0      low  \n",
       "801   1.0   1   2   1.0     8.0      low  \n",
       "802   0.0   0   1  17.0     4.0  regular  \n",
       "803   0.0   1   0   2.0    92.0      low  \n",
       "\n",
       "[804 rows x 11 columns]"
      ]
     },
     "execution_count": 24,
     "metadata": {},
     "output_type": "execute_result"
    }
   ],
   "source": [
    "ordered_scaled_data.boxplot(column='CLevel')"
   ]
  },
  {
   "cell_type": "code",
   "execution_count": 28,
   "metadata": {},
   "outputs": [
    {
     "data": {
      "text/html": [
       "<div>\n",
       "<style scoped>\n",
       "    .dataframe tbody tr th:only-of-type {\n",
       "        vertical-align: middle;\n",
       "    }\n",
       "\n",
       "    .dataframe tbody tr th {\n",
       "        vertical-align: top;\n",
       "    }\n",
       "\n",
       "    .dataframe thead th {\n",
       "        text-align: right;\n",
       "    }\n",
       "</style>\n",
       "<table border=\"1\" class=\"dataframe\">\n",
       "  <thead>\n",
       "    <tr style=\"text-align: right;\">\n",
       "      <th></th>\n",
       "      <th>Method</th>\n",
       "      <th>LOC</th>\n",
       "      <th>CC</th>\n",
       "      <th>NP</th>\n",
       "      <th>NV</th>\n",
       "      <th>NEST</th>\n",
       "      <th>Ca</th>\n",
       "      <th>Ce</th>\n",
       "      <th>NChg</th>\n",
       "      <th>NCall</th>\n",
       "      <th>CLevel</th>\n",
       "      <th>Parent_class</th>\n",
       "      <th>Class</th>\n",
       "    </tr>\n",
       "  </thead>\n",
       "  <tbody>\n",
       "    <tr>\n",
       "      <th>0</th>\n",
       "      <td>PreInitialize()</td>\n",
       "      <td>14.0</td>\n",
       "      <td>3.0</td>\n",
       "      <td>0</td>\n",
       "      <td>1.0</td>\n",
       "      <td>1.0</td>\n",
       "      <td>0</td>\n",
       "      <td>2</td>\n",
       "      <td>2.0</td>\n",
       "      <td>4.0</td>\n",
       "      <td>low</td>\n",
       "      <td>GES_GRT</td>\n",
       "      <td>GES_GRTCoreModule</td>\n",
       "    </tr>\n",
       "    <tr>\n",
       "      <th>1</th>\n",
       "      <td>Initialize()</td>\n",
       "      <td>1.0</td>\n",
       "      <td>1.0</td>\n",
       "      <td>0</td>\n",
       "      <td>0.0</td>\n",
       "      <td>0.0</td>\n",
       "      <td>0</td>\n",
       "      <td>0</td>\n",
       "      <td>1.0</td>\n",
       "      <td>4.0</td>\n",
       "      <td>low</td>\n",
       "      <td>GES_GRT</td>\n",
       "      <td>GES_GRTCoreModule</td>\n",
       "    </tr>\n",
       "    <tr>\n",
       "      <th>2</th>\n",
       "      <td>PostInitialize()</td>\n",
       "      <td>2.0</td>\n",
       "      <td>1.0</td>\n",
       "      <td>0</td>\n",
       "      <td>0.0</td>\n",
       "      <td>0.0</td>\n",
       "      <td>0</td>\n",
       "      <td>1</td>\n",
       "      <td>1.0</td>\n",
       "      <td>4.0</td>\n",
       "      <td>low</td>\n",
       "      <td>GES_GRT</td>\n",
       "      <td>GES_GRTCoreModule</td>\n",
       "    </tr>\n",
       "    <tr>\n",
       "      <th>3</th>\n",
       "      <td>GES_GRTDomainServiceBase()</td>\n",
       "      <td>2.0</td>\n",
       "      <td>1.0</td>\n",
       "      <td>0</td>\n",
       "      <td>0.0</td>\n",
       "      <td>0.0</td>\n",
       "      <td>5</td>\n",
       "      <td>0</td>\n",
       "      <td>1.0</td>\n",
       "      <td>3707.0</td>\n",
       "      <td>low</td>\n",
       "      <td>GES_GRT</td>\n",
       "      <td>GES_GRTDomainServiceBase</td>\n",
       "    </tr>\n",
       "    <tr>\n",
       "      <th>4</th>\n",
       "      <td>GES_GRTServiceBase()</td>\n",
       "      <td>2.0</td>\n",
       "      <td>1.0</td>\n",
       "      <td>0</td>\n",
       "      <td>0.0</td>\n",
       "      <td>0.0</td>\n",
       "      <td>4</td>\n",
       "      <td>0</td>\n",
       "      <td>1.0</td>\n",
       "      <td>2358.0</td>\n",
       "      <td>low</td>\n",
       "      <td>GES_GRT</td>\n",
       "      <td>GES_GRTServiceBase</td>\n",
       "    </tr>\n",
       "    <tr>\n",
       "      <th>...</th>\n",
       "      <td>...</td>\n",
       "      <td>...</td>\n",
       "      <td>...</td>\n",
       "      <td>...</td>\n",
       "      <td>...</td>\n",
       "      <td>...</td>\n",
       "      <td>...</td>\n",
       "      <td>...</td>\n",
       "      <td>...</td>\n",
       "      <td>...</td>\n",
       "      <td>...</td>\n",
       "      <td>...</td>\n",
       "      <td>...</td>\n",
       "    </tr>\n",
       "    <tr>\n",
       "      <th>799</th>\n",
       "      <td>RegisterBundles(BundleCollection)</td>\n",
       "      <td>8.0</td>\n",
       "      <td>1.0</td>\n",
       "      <td>1</td>\n",
       "      <td>0.0</td>\n",
       "      <td>0.0</td>\n",
       "      <td>1</td>\n",
       "      <td>3</td>\n",
       "      <td>4.0</td>\n",
       "      <td>4.0</td>\n",
       "      <td>low</td>\n",
       "      <td>GES_GRT.Web.App.Startup</td>\n",
       "      <td>AppBundleConfig</td>\n",
       "    </tr>\n",
       "    <tr>\n",
       "      <th>800</th>\n",
       "      <td>AddAppCssLibs(BundleCollection,Boolean)</td>\n",
       "      <td>1.0</td>\n",
       "      <td>3.0</td>\n",
       "      <td>2</td>\n",
       "      <td>0.0</td>\n",
       "      <td>1.0</td>\n",
       "      <td>1</td>\n",
       "      <td>2</td>\n",
       "      <td>1.0</td>\n",
       "      <td>8.0</td>\n",
       "      <td>low</td>\n",
       "      <td>GES_GRT.Web.App.Startup</td>\n",
       "      <td>AppBundleConfig</td>\n",
       "    </tr>\n",
       "    <tr>\n",
       "      <th>801</th>\n",
       "      <td>AddAppMetronicCss(BundleCollection,Boolean)</td>\n",
       "      <td>1.0</td>\n",
       "      <td>6.0</td>\n",
       "      <td>2</td>\n",
       "      <td>0.0</td>\n",
       "      <td>1.0</td>\n",
       "      <td>1</td>\n",
       "      <td>2</td>\n",
       "      <td>1.0</td>\n",
       "      <td>8.0</td>\n",
       "      <td>low</td>\n",
       "      <td>GES_GRT.Web.App.Startup</td>\n",
       "      <td>AppBundleConfig</td>\n",
       "    </tr>\n",
       "    <tr>\n",
       "      <th>802</th>\n",
       "      <td>SetNavigation(INavigationProviderContext)</td>\n",
       "      <td>2.0</td>\n",
       "      <td>1.0</td>\n",
       "      <td>1</td>\n",
       "      <td>0.0</td>\n",
       "      <td>0.0</td>\n",
       "      <td>0</td>\n",
       "      <td>1</td>\n",
       "      <td>17.0</td>\n",
       "      <td>4.0</td>\n",
       "      <td>regular</td>\n",
       "      <td>GES_GRT.Web.App.Startup</td>\n",
       "      <td>AppNavigationProvider</td>\n",
       "    </tr>\n",
       "    <tr>\n",
       "      <th>803</th>\n",
       "      <td>L(String)</td>\n",
       "      <td>1.0</td>\n",
       "      <td>1.0</td>\n",
       "      <td>1</td>\n",
       "      <td>1.0</td>\n",
       "      <td>0.0</td>\n",
       "      <td>1</td>\n",
       "      <td>0</td>\n",
       "      <td>2.0</td>\n",
       "      <td>92.0</td>\n",
       "      <td>low</td>\n",
       "      <td>GES_GRT.Web.App.Startup</td>\n",
       "      <td>AppNavigationProvider</td>\n",
       "    </tr>\n",
       "  </tbody>\n",
       "</table>\n",
       "<p>804 rows × 13 columns</p>\n",
       "</div>"
      ],
      "text/plain": [
       "                                          Method   LOC   CC  NP   NV  NEST  \\\n",
       "0                                PreInitialize()  14.0  3.0   0  1.0   1.0   \n",
       "1                                   Initialize()   1.0  1.0   0  0.0   0.0   \n",
       "2                               PostInitialize()   2.0  1.0   0  0.0   0.0   \n",
       "3                     GES_GRTDomainServiceBase()   2.0  1.0   0  0.0   0.0   \n",
       "4                           GES_GRTServiceBase()   2.0  1.0   0  0.0   0.0   \n",
       "..                                           ...   ...  ...  ..  ...   ...   \n",
       "799            RegisterBundles(BundleCollection)   8.0  1.0   1  0.0   0.0   \n",
       "800      AddAppCssLibs(BundleCollection,Boolean)   1.0  3.0   2  0.0   1.0   \n",
       "801  AddAppMetronicCss(BundleCollection,Boolean)   1.0  6.0   2  0.0   1.0   \n",
       "802    SetNavigation(INavigationProviderContext)   2.0  1.0   1  0.0   0.0   \n",
       "803                                    L(String)   1.0  1.0   1  1.0   0.0   \n",
       "\n",
       "     Ca  Ce  NChg   NCall   CLevel             Parent_class  \\\n",
       "0     0   2   2.0     4.0      low                  GES_GRT   \n",
       "1     0   0   1.0     4.0      low                  GES_GRT   \n",
       "2     0   1   1.0     4.0      low                  GES_GRT   \n",
       "3     5   0   1.0  3707.0      low                  GES_GRT   \n",
       "4     4   0   1.0  2358.0      low                  GES_GRT   \n",
       "..   ..  ..   ...     ...      ...                      ...   \n",
       "799   1   3   4.0     4.0      low  GES_GRT.Web.App.Startup   \n",
       "800   1   2   1.0     8.0      low  GES_GRT.Web.App.Startup   \n",
       "801   1   2   1.0     8.0      low  GES_GRT.Web.App.Startup   \n",
       "802   0   1  17.0     4.0  regular  GES_GRT.Web.App.Startup   \n",
       "803   1   0   2.0    92.0      low  GES_GRT.Web.App.Startup   \n",
       "\n",
       "                        Class  \n",
       "0           GES_GRTCoreModule  \n",
       "1           GES_GRTCoreModule  \n",
       "2           GES_GRTCoreModule  \n",
       "3    GES_GRTDomainServiceBase  \n",
       "4          GES_GRTServiceBase  \n",
       "..                        ...  \n",
       "799           AppBundleConfig  \n",
       "800           AppBundleConfig  \n",
       "801           AppBundleConfig  \n",
       "802     AppNavigationProvider  \n",
       "803     AppNavigationProvider  \n",
       "\n",
       "[804 rows x 13 columns]"
      ]
     },
     "execution_count": 28,
     "metadata": {},
     "output_type": "execute_result"
    }
   ],
   "source": [
    "def split_at_last_point(s):\n",
    "    idx = s.rfind('.')\n",
    "    return s[:idx], s[idx+1:]\n",
    "def split_method_name(value):\n",
    "    parent, method_name = split_at_last_point(value)\n",
    "    parent, class_name = split_at_last_point(parent)\n",
    "    return pd.Series([parent, class_name, method_name])\n",
    "\n",
    "data_class[['Parent_class', 'Class', 'Method']] = data_class['Method'].apply(split_method_name)\n",
    "data_class"
   ]
  },
  {
   "cell_type": "code",
   "execution_count": 33,
   "metadata": {},
   "outputs": [
    {
     "data": {
      "application/vnd.plotly.v1+json": {
       "config": {
        "plotlyServerURL": "https://plot.ly",
        "scrollZoom": true
       },
       "data": [
        {
         "branchvalues": "total",
         "customdata": [
          [
           "low"
          ],
          [
           "low"
          ],
          [
           "low"
          ],
          [
           "low"
          ],
          [
           "low"
          ],
          [
           "high"
          ],
          [
           "high"
          ],
          [
           "regular"
          ],
          [
           "low"
          ],
          [
           "low"
          ],
          [
           "low"
          ],
          [
           "regular"
          ],
          [
           "low"
          ],
          [
           "low"
          ],
          [
           "low"
          ],
          [
           "low"
          ],
          [
           "low"
          ],
          [
           "low"
          ],
          [
           "high"
          ],
          [
           "low"
          ],
          [
           "low"
          ],
          [
           "low"
          ],
          [
           "low"
          ],
          [
           "low"
          ],
          [
           "low"
          ],
          [
           "high"
          ],
          [
           "low"
          ],
          [
           "high"
          ],
          [
           "regular"
          ],
          [
           "low"
          ],
          [
           "low"
          ],
          [
           "low"
          ],
          [
           "low"
          ],
          [
           "regular"
          ],
          [
           "low"
          ],
          [
           "low"
          ],
          [
           "low"
          ],
          [
           "low"
          ],
          [
           "low"
          ],
          [
           "low"
          ],
          [
           "low"
          ],
          [
           "regular"
          ],
          [
           "high"
          ],
          [
           "high"
          ],
          [
           "low"
          ],
          [
           "regular"
          ],
          [
           "regular"
          ],
          [
           "high"
          ],
          [
           "low"
          ],
          [
           "low"
          ],
          [
           "low"
          ],
          [
           "low"
          ],
          [
           "high"
          ],
          [
           "regular"
          ],
          [
           "low"
          ],
          [
           "low"
          ],
          [
           "low"
          ],
          [
           "low"
          ],
          [
           "low"
          ],
          [
           "low"
          ],
          [
           "low"
          ],
          [
           "low"
          ],
          [
           "low"
          ],
          [
           "regular"
          ],
          [
           "low"
          ],
          [
           "regular"
          ],
          [
           "regular"
          ],
          [
           "high"
          ],
          [
           "low"
          ],
          [
           "high"
          ],
          [
           "low"
          ],
          [
           "low"
          ],
          [
           "low"
          ],
          [
           "regular"
          ],
          [
           "low"
          ],
          [
           "low"
          ],
          [
           "low"
          ],
          [
           "low"
          ],
          [
           "low"
          ],
          [
           "high"
          ],
          [
           "regular"
          ],
          [
           "low"
          ],
          [
           "regular"
          ],
          [
           "regular"
          ],
          [
           "low"
          ],
          [
           "low"
          ],
          [
           "low"
          ],
          [
           "low"
          ],
          [
           "low"
          ],
          [
           "low"
          ],
          [
           "low"
          ],
          [
           "low"
          ],
          [
           "low"
          ],
          [
           "low"
          ],
          [
           "low"
          ],
          [
           "high"
          ],
          [
           "low"
          ],
          [
           "low"
          ],
          [
           "regular"
          ],
          [
           "regular"
          ],
          [
           "low"
          ],
          [
           "low"
          ],
          [
           "low"
          ],
          [
           "low"
          ],
          [
           "low"
          ],
          [
           "low"
          ],
          [
           "low"
          ],
          [
           "low"
          ],
          [
           "low"
          ],
          [
           "low"
          ],
          [
           "low"
          ],
          [
           "low"
          ],
          [
           "low"
          ],
          [
           "low"
          ],
          [
           "high"
          ],
          [
           "regular"
          ],
          [
           "low"
          ],
          [
           "low"
          ],
          [
           "low"
          ],
          [
           "low"
          ],
          [
           "regular"
          ],
          [
           "low"
          ],
          [
           "low"
          ],
          [
           "low"
          ],
          [
           "low"
          ],
          [
           "low"
          ],
          [
           "low"
          ],
          [
           "low"
          ],
          [
           "low"
          ],
          [
           "low"
          ],
          [
           "low"
          ],
          [
           "regular"
          ],
          [
           "low"
          ],
          [
           "low"
          ],
          [
           "low"
          ],
          [
           "low"
          ],
          [
           "low"
          ],
          [
           "low"
          ],
          [
           "high"
          ],
          [
           "high"
          ],
          [
           "low"
          ],
          [
           "low"
          ],
          [
           "regular"
          ],
          [
           "low"
          ],
          [
           "regular"
          ],
          [
           "high"
          ],
          [
           "low"
          ],
          [
           "regular"
          ],
          [
           "low"
          ],
          [
           "low"
          ],
          [
           "low"
          ],
          [
           "low"
          ],
          [
           "regular"
          ],
          [
           "low"
          ],
          [
           "low"
          ],
          [
           "low"
          ],
          [
           "low"
          ],
          [
           "low"
          ],
          [
           "high"
          ],
          [
           "low"
          ],
          [
           "low"
          ],
          [
           "low"
          ],
          [
           "low"
          ],
          [
           "low"
          ],
          [
           "low"
          ],
          [
           "low"
          ],
          [
           "low"
          ],
          [
           "low"
          ],
          [
           "low"
          ],
          [
           "regular"
          ],
          [
           "low"
          ],
          [
           "low"
          ],
          [
           "low"
          ],
          [
           "low"
          ],
          [
           "low"
          ],
          [
           "low"
          ],
          [
           "regular"
          ],
          [
           "low"
          ],
          [
           "low"
          ],
          [
           "low"
          ],
          [
           "regular"
          ],
          [
           "low"
          ],
          [
           "low"
          ],
          [
           "low"
          ],
          [
           "low"
          ],
          [
           "low"
          ],
          [
           "low"
          ],
          [
           "low"
          ],
          [
           "low"
          ],
          [
           "low"
          ],
          [
           "low"
          ],
          [
           "low"
          ],
          [
           "low"
          ],
          [
           "low"
          ],
          [
           "high"
          ],
          [
           "regular"
          ],
          [
           "high"
          ],
          [
           "low"
          ],
          [
           "regular"
          ],
          [
           "low"
          ],
          [
           "regular"
          ],
          [
           "low"
          ],
          [
           "low"
          ],
          [
           "low"
          ],
          [
           "regular"
          ],
          [
           "low"
          ],
          [
           "low"
          ],
          [
           "low"
          ],
          [
           "low"
          ],
          [
           "low"
          ],
          [
           "low"
          ],
          [
           "high"
          ],
          [
           "low"
          ],
          [
           "low"
          ],
          [
           "high"
          ],
          [
           "low"
          ],
          [
           "regular"
          ],
          [
           "low"
          ],
          [
           "low"
          ],
          [
           "low"
          ],
          [
           "regular"
          ],
          [
           "high"
          ],
          [
           "low"
          ],
          [
           "low"
          ],
          [
           "low"
          ],
          [
           "high"
          ],
          [
           "low"
          ],
          [
           "high"
          ],
          [
           "regular"
          ],
          [
           "low"
          ],
          [
           "low"
          ],
          [
           "low"
          ],
          [
           "low"
          ],
          [
           "low"
          ],
          [
           "low"
          ],
          [
           "low"
          ],
          [
           "low"
          ],
          [
           "low"
          ],
          [
           "low"
          ],
          [
           "low"
          ],
          [
           "low"
          ],
          [
           "low"
          ],
          [
           "low"
          ],
          [
           "regular"
          ],
          [
           "high"
          ],
          [
           "regular"
          ],
          [
           "low"
          ],
          [
           "low"
          ],
          [
           "low"
          ],
          [
           "low"
          ],
          [
           "low"
          ],
          [
           "regular"
          ],
          [
           "low"
          ],
          [
           "high"
          ],
          [
           "low"
          ],
          [
           "low"
          ],
          [
           "regular"
          ],
          [
           "low"
          ],
          [
           "low"
          ],
          [
           "low"
          ],
          [
           "low"
          ],
          [
           "high"
          ],
          [
           "low"
          ],
          [
           "regular"
          ],
          [
           "low"
          ],
          [
           "low"
          ],
          [
           "regular"
          ],
          [
           "regular"
          ],
          [
           "low"
          ],
          [
           "low"
          ],
          [
           "low"
          ],
          [
           "regular"
          ],
          [
           "low"
          ],
          [
           "low"
          ],
          [
           "regular"
          ],
          [
           "regular"
          ],
          [
           "low"
          ],
          [
           "low"
          ],
          [
           "regular"
          ],
          [
           "low"
          ],
          [
           "low"
          ],
          [
           "low"
          ],
          [
           "low"
          ],
          [
           "regular"
          ],
          [
           "low"
          ],
          [
           "low"
          ],
          [
           "regular"
          ],
          [
           "low"
          ],
          [
           "low"
          ],
          [
           "regular"
          ],
          [
           "regular"
          ],
          [
           "low"
          ],
          [
           "low"
          ],
          [
           "low"
          ],
          [
           "low"
          ],
          [
           "regular"
          ],
          [
           "low"
          ],
          [
           "low"
          ],
          [
           "regular"
          ],
          [
           "low"
          ],
          [
           "high"
          ],
          [
           "regular"
          ],
          [
           "low"
          ],
          [
           "low"
          ],
          [
           "regular"
          ],
          [
           "low"
          ],
          [
           "low"
          ],
          [
           "low"
          ],
          [
           "low"
          ],
          [
           "low"
          ],
          [
           "regular"
          ],
          [
           "low"
          ],
          [
           "regular"
          ],
          [
           "low"
          ],
          [
           "regular"
          ],
          [
           "low"
          ],
          [
           "high"
          ],
          [
           "low"
          ],
          [
           "low"
          ],
          [
           "low"
          ],
          [
           "high"
          ],
          [
           "low"
          ],
          [
           "regular"
          ],
          [
           "high"
          ],
          [
           "high"
          ],
          [
           "high"
          ],
          [
           "high"
          ],
          [
           "low"
          ],
          [
           "low"
          ],
          [
           "low"
          ],
          [
           "low"
          ],
          [
           "low"
          ],
          [
           "low"
          ],
          [
           "low"
          ],
          [
           "low"
          ],
          [
           "low"
          ],
          [
           "low"
          ],
          [
           "low"
          ],
          [
           "low"
          ],
          [
           "low"
          ],
          [
           "low"
          ],
          [
           "low"
          ],
          [
           "high"
          ],
          [
           "low"
          ],
          [
           "high"
          ],
          [
           "low"
          ],
          [
           "high"
          ],
          [
           "high"
          ],
          [
           "low"
          ],
          [
           "regular"
          ],
          [
           "high"
          ],
          [
           "low"
          ],
          [
           "low"
          ],
          [
           "high"
          ],
          [
           "regular"
          ],
          [
           "low"
          ],
          [
           "high"
          ],
          [
           "high"
          ],
          [
           "low"
          ],
          [
           "low"
          ],
          [
           "low"
          ],
          [
           "regular"
          ],
          [
           "low"
          ],
          [
           "low"
          ],
          [
           "low"
          ],
          [
           "regular"
          ],
          [
           "low"
          ],
          [
           "low"
          ],
          [
           "regular"
          ],
          [
           "regular"
          ],
          [
           "low"
          ],
          [
           "regular"
          ],
          [
           "low"
          ],
          [
           "regular"
          ],
          [
           "regular"
          ],
          [
           "low"
          ],
          [
           "regular"
          ],
          [
           "regular"
          ],
          [
           "regular"
          ],
          [
           "low"
          ],
          [
           "regular"
          ],
          [
           "low"
          ],
          [
           "regular"
          ],
          [
           "low"
          ],
          [
           "regular"
          ],
          [
           "low"
          ],
          [
           "low"
          ],
          [
           "low"
          ],
          [
           "low"
          ],
          [
           "regular"
          ],
          [
           "low"
          ],
          [
           "low"
          ],
          [
           "low"
          ],
          [
           "low"
          ],
          [
           "low"
          ],
          [
           "low"
          ],
          [
           "low"
          ],
          [
           "regular"
          ],
          [
           "regular"
          ],
          [
           "low"
          ],
          [
           "low"
          ],
          [
           "low"
          ],
          [
           "low"
          ],
          [
           "low"
          ],
          [
           "low"
          ],
          [
           "regular"
          ],
          [
           "low"
          ],
          [
           "regular"
          ],
          [
           "regular"
          ],
          [
           "low"
          ],
          [
           "low"
          ],
          [
           "regular"
          ],
          [
           "regular"
          ],
          [
           "low"
          ],
          [
           "low"
          ],
          [
           "low"
          ],
          [
           "regular"
          ],
          [
           "low"
          ],
          [
           "low"
          ],
          [
           "low"
          ],
          [
           "low"
          ],
          [
           "low"
          ],
          [
           "low"
          ],
          [
           "low"
          ],
          [
           "high"
          ],
          [
           "regular"
          ],
          [
           "regular"
          ],
          [
           "low"
          ],
          [
           "low"
          ],
          [
           "low"
          ],
          [
           "low"
          ],
          [
           "low"
          ],
          [
           "low"
          ],
          [
           "low"
          ],
          [
           "low"
          ],
          [
           "regular"
          ],
          [
           "high"
          ],
          [
           "low"
          ],
          [
           "regular"
          ],
          [
           "low"
          ],
          [
           "low"
          ],
          [
           "low"
          ],
          [
           "regular"
          ],
          [
           "high"
          ],
          [
           "low"
          ],
          [
           "regular"
          ],
          [
           "low"
          ],
          [
           "low"
          ],
          [
           "low"
          ],
          [
           "low"
          ],
          [
           "low"
          ],
          [
           "low"
          ],
          [
           "low"
          ],
          [
           "low"
          ],
          [
           "low"
          ],
          [
           "low"
          ],
          [
           "low"
          ],
          [
           "low"
          ],
          [
           "regular"
          ],
          [
           "low"
          ],
          [
           "low"
          ],
          [
           "low"
          ],
          [
           "low"
          ],
          [
           "high"
          ],
          [
           "low"
          ],
          [
           "regular"
          ],
          [
           "regular"
          ],
          [
           "low"
          ],
          [
           "low"
          ],
          [
           "low"
          ],
          [
           "low"
          ],
          [
           "low"
          ],
          [
           "low"
          ],
          [
           "low"
          ],
          [
           "low"
          ],
          [
           "regular"
          ],
          [
           "low"
          ],
          [
           "low"
          ],
          [
           "low"
          ],
          [
           "low"
          ],
          [
           "low"
          ],
          [
           "low"
          ],
          [
           "low"
          ],
          [
           "low"
          ],
          [
           "low"
          ],
          [
           "low"
          ],
          [
           "low"
          ],
          [
           "regular"
          ],
          [
           "low"
          ],
          [
           "low"
          ],
          [
           "high"
          ],
          [
           "low"
          ],
          [
           "low"
          ],
          [
           "low"
          ],
          [
           "low"
          ],
          [
           "regular"
          ],
          [
           "low"
          ],
          [
           "low"
          ],
          [
           "low"
          ],
          [
           "high"
          ],
          [
           "low"
          ],
          [
           "high"
          ],
          [
           "low"
          ],
          [
           "low"
          ],
          [
           "low"
          ],
          [
           "low"
          ],
          [
           "low"
          ],
          [
           "low"
          ],
          [
           "low"
          ],
          [
           "low"
          ],
          [
           "low"
          ],
          [
           "regular"
          ],
          [
           "regular"
          ],
          [
           "low"
          ],
          [
           "low"
          ],
          [
           "low"
          ],
          [
           "low"
          ],
          [
           "low"
          ],
          [
           "low"
          ],
          [
           "high"
          ],
          [
           "high"
          ],
          [
           "low"
          ],
          [
           "regular"
          ],
          [
           "low"
          ],
          [
           "low"
          ],
          [
           "low"
          ],
          [
           "low"
          ],
          [
           "regular"
          ],
          [
           "low"
          ],
          [
           "low"
          ],
          [
           "high"
          ],
          [
           "low"
          ],
          [
           "low"
          ],
          [
           "low"
          ],
          [
           "low"
          ],
          [
           "low"
          ],
          [
           "low"
          ],
          [
           "low"
          ],
          [
           "low"
          ],
          [
           "low"
          ],
          [
           "regular"
          ],
          [
           "low"
          ],
          [
           "low"
          ],
          [
           "low"
          ],
          [
           "regular"
          ],
          [
           "low"
          ],
          [
           "low"
          ],
          [
           "low"
          ],
          [
           "regular"
          ],
          [
           "low"
          ],
          [
           "low"
          ],
          [
           "low"
          ],
          [
           "regular"
          ],
          [
           "regular"
          ],
          [
           "low"
          ],
          [
           "low"
          ],
          [
           "regular"
          ],
          [
           "high"
          ],
          [
           "regular"
          ],
          [
           "low"
          ],
          [
           "low"
          ],
          [
           "low"
          ],
          [
           "low"
          ],
          [
           "regular"
          ],
          [
           "regular"
          ],
          [
           "low"
          ],
          [
           "regular"
          ],
          [
           "low"
          ],
          [
           "high"
          ],
          [
           "regular"
          ],
          [
           "low"
          ],
          [
           "regular"
          ],
          [
           "low"
          ],
          [
           "low"
          ],
          [
           "regular"
          ],
          [
           "low"
          ],
          [
           "low"
          ],
          [
           "low"
          ],
          [
           "regular"
          ],
          [
           "low"
          ],
          [
           "low"
          ],
          [
           "low"
          ],
          [
           "low"
          ],
          [
           "low"
          ],
          [
           "low"
          ],
          [
           "low"
          ],
          [
           "regular"
          ],
          [
           "regular"
          ],
          [
           "low"
          ],
          [
           "regular"
          ],
          [
           "regular"
          ],
          [
           "low"
          ],
          [
           "regular"
          ],
          [
           "low"
          ],
          [
           "low"
          ],
          [
           "high"
          ],
          [
           "regular"
          ],
          [
           "low"
          ],
          [
           "regular"
          ],
          [
           "low"
          ],
          [
           "regular"
          ],
          [
           "low"
          ],
          [
           "high"
          ],
          [
           "low"
          ],
          [
           "low"
          ],
          [
           "low"
          ],
          [
           "low"
          ],
          [
           "low"
          ],
          [
           "low"
          ],
          [
           "low"
          ],
          [
           "low"
          ],
          [
           "high"
          ],
          [
           "low"
          ],
          [
           "low"
          ],
          [
           "low"
          ],
          [
           "low"
          ],
          [
           "regular"
          ],
          [
           "low"
          ],
          [
           "regular"
          ],
          [
           "low"
          ],
          [
           "low"
          ],
          [
           "low"
          ],
          [
           "regular"
          ],
          [
           "high"
          ],
          [
           "low"
          ],
          [
           "low"
          ],
          [
           "low"
          ],
          [
           "low"
          ],
          [
           "low"
          ],
          [
           "low"
          ],
          [
           "low"
          ],
          [
           "low"
          ],
          [
           "regular"
          ],
          [
           "low"
          ],
          [
           "low"
          ],
          [
           "low"
          ],
          [
           "regular"
          ],
          [
           "regular"
          ],
          [
           "high"
          ],
          [
           "low"
          ],
          [
           "low"
          ],
          [
           "low"
          ],
          [
           "regular"
          ],
          [
           "high"
          ],
          [
           "low"
          ],
          [
           "low"
          ],
          [
           "low"
          ],
          [
           "regular"
          ],
          [
           "regular"
          ],
          [
           "low"
          ],
          [
           "low"
          ],
          [
           "low"
          ],
          [
           "low"
          ],
          [
           "low"
          ],
          [
           "low"
          ],
          [
           "low"
          ],
          [
           "low"
          ],
          [
           "low"
          ],
          [
           "low"
          ],
          [
           "high"
          ],
          [
           "low"
          ],
          [
           "low"
          ],
          [
           "low"
          ],
          [
           "low"
          ],
          [
           "regular"
          ],
          [
           "regular"
          ],
          [
           "regular"
          ],
          [
           "high"
          ],
          [
           "low"
          ],
          [
           "low"
          ],
          [
           "low"
          ],
          [
           "regular"
          ],
          [
           "low"
          ],
          [
           "regular"
          ],
          [
           "high"
          ],
          [
           "regular"
          ],
          [
           "low"
          ],
          [
           "high"
          ],
          [
           "low"
          ],
          [
           "low"
          ],
          [
           "low"
          ],
          [
           "low"
          ],
          [
           "high"
          ],
          [
           "low"
          ],
          [
           "low"
          ],
          [
           "regular"
          ],
          [
           "regular"
          ],
          [
           "low"
          ],
          [
           "high"
          ],
          [
           "low"
          ],
          [
           "low"
          ],
          [
           "regular"
          ],
          [
           "low"
          ],
          [
           "low"
          ],
          [
           "low"
          ],
          [
           "low"
          ],
          [
           "low"
          ],
          [
           "low"
          ],
          [
           "low"
          ],
          [
           "regular"
          ],
          [
           "regular"
          ],
          [
           "low"
          ],
          [
           "low"
          ],
          [
           "low"
          ],
          [
           "high"
          ],
          [
           "high"
          ],
          [
           "low"
          ],
          [
           "low"
          ],
          [
           "low"
          ],
          [
           "low"
          ],
          [
           "low"
          ],
          [
           "low"
          ],
          [
           "low"
          ],
          [
           "low"
          ],
          [
           "low"
          ],
          [
           "low"
          ],
          [
           "low"
          ],
          [
           "low"
          ],
          [
           "low"
          ],
          [
           "low"
          ],
          [
           "regular"
          ],
          [
           "regular"
          ],
          [
           "regular"
          ],
          [
           "high"
          ],
          [
           "low"
          ],
          [
           "low"
          ],
          [
           "regular"
          ],
          [
           "regular"
          ],
          [
           "regular"
          ],
          [
           "regular"
          ],
          [
           "regular"
          ],
          [
           "low"
          ],
          [
           "high"
          ],
          [
           "low"
          ],
          [
           "low"
          ],
          [
           "low"
          ],
          [
           "low"
          ],
          [
           "low"
          ],
          [
           "low"
          ],
          [
           "low"
          ],
          [
           "low"
          ],
          [
           "low"
          ],
          [
           "low"
          ],
          [
           "low"
          ],
          [
           "low"
          ],
          [
           "high"
          ],
          [
           "low"
          ],
          [
           "high"
          ],
          [
           "low"
          ],
          [
           "low"
          ],
          [
           "low"
          ],
          [
           "high"
          ],
          [
           "high"
          ],
          [
           "low"
          ],
          [
           "low"
          ],
          [
           "regular"
          ],
          [
           "low"
          ],
          [
           "regular"
          ],
          [
           "low"
          ],
          [
           "high"
          ],
          [
           "regular"
          ],
          [
           "low"
          ],
          [
           "high"
          ],
          [
           "low"
          ],
          [
           "regular"
          ],
          [
           "low"
          ],
          [
           "regular"
          ],
          [
           "regular"
          ],
          [
           "low"
          ],
          [
           "high"
          ],
          [
           "low"
          ],
          [
           "low"
          ],
          [
           "high"
          ],
          [
           "regular"
          ],
          [
           "low"
          ],
          [
           "regular"
          ],
          [
           "low"
          ],
          [
           "low"
          ],
          [
           "regular"
          ],
          [
           "low"
          ],
          [
           "low"
          ],
          [
           "regular"
          ],
          [
           "low"
          ],
          [
           "regular"
          ],
          [
           "low"
          ],
          [
           "low"
          ],
          [
           "regular"
          ],
          [
           "low"
          ],
          [
           "low"
          ],
          [
           "low"
          ],
          [
           "low"
          ],
          [
           "low"
          ],
          [
           "low"
          ],
          [
           "low"
          ],
          [
           "low"
          ],
          [
           "low"
          ],
          [
           "low"
          ],
          [
           "low"
          ],
          [
           "low"
          ],
          [
           "low"
          ],
          [
           "regular"
          ],
          [
           "low"
          ],
          [
           "regular"
          ],
          [
           "high"
          ],
          [
           "low"
          ],
          [
           "regular"
          ],
          [
           "(?)"
          ],
          [
           "low"
          ],
          [
           "(?)"
          ],
          [
           "(?)"
          ],
          [
           "low"
          ],
          [
           "low"
          ],
          [
           "low"
          ],
          [
           "low"
          ],
          [
           "(?)"
          ],
          [
           "low"
          ],
          [
           "low"
          ],
          [
           "low"
          ],
          [
           "low"
          ],
          [
           "low"
          ],
          [
           "low"
          ],
          [
           "low"
          ],
          [
           "low"
          ],
          [
           "(?)"
          ],
          [
           "(?)"
          ],
          [
           "low"
          ],
          [
           "low"
          ],
          [
           "low"
          ],
          [
           "low"
          ],
          [
           "low"
          ],
          [
           "(?)"
          ],
          [
           "(?)"
          ],
          [
           "(?)"
          ],
          [
           "(?)"
          ],
          [
           "(?)"
          ],
          [
           "(?)"
          ],
          [
           "low"
          ],
          [
           "(?)"
          ],
          [
           "(?)"
          ],
          [
           "low"
          ],
          [
           "(?)"
          ],
          [
           "low"
          ],
          [
           "low"
          ],
          [
           "(?)"
          ],
          [
           "low"
          ],
          [
           "low"
          ],
          [
           "low"
          ],
          [
           "low"
          ],
          [
           "low"
          ],
          [
           "low"
          ],
          [
           "low"
          ],
          [
           "low"
          ],
          [
           "low"
          ],
          [
           "low"
          ],
          [
           "low"
          ],
          [
           "low"
          ],
          [
           "low"
          ],
          [
           "low"
          ],
          [
           "low"
          ],
          [
           "low"
          ],
          [
           "low"
          ],
          [
           "low"
          ],
          [
           "low"
          ],
          [
           "(?)"
          ],
          [
           "low"
          ],
          [
           "low"
          ],
          [
           "low"
          ],
          [
           "low"
          ],
          [
           "(?)"
          ],
          [
           "low"
          ],
          [
           "low"
          ],
          [
           "low"
          ],
          [
           "low"
          ],
          [
           "low"
          ],
          [
           "low"
          ],
          [
           "low"
          ],
          [
           "(?)"
          ],
          [
           "low"
          ],
          [
           "(?)"
          ],
          [
           "low"
          ],
          [
           "low"
          ],
          [
           "(?)"
          ],
          [
           "(?)"
          ],
          [
           "(?)"
          ],
          [
           "low"
          ],
          [
           "low"
          ],
          [
           "(?)"
          ],
          [
           "low"
          ],
          [
           "regular"
          ],
          [
           "low"
          ],
          [
           "regular"
          ],
          [
           "low"
          ],
          [
           "low"
          ],
          [
           "low"
          ],
          [
           "low"
          ],
          [
           "(?)"
          ],
          [
           "(?)"
          ],
          [
           "low"
          ],
          [
           "(?)"
          ],
          [
           "low"
          ],
          [
           "low"
          ],
          [
           "(?)"
          ],
          [
           "low"
          ],
          [
           "(?)"
          ],
          [
           "low"
          ],
          [
           "(?)"
          ],
          [
           "low"
          ],
          [
           "low"
          ],
          [
           "low"
          ],
          [
           "low"
          ],
          [
           "low"
          ],
          [
           "low"
          ],
          [
           "(?)"
          ],
          [
           "low"
          ],
          [
           "low"
          ],
          [
           "low"
          ],
          [
           "low"
          ],
          [
           "low"
          ],
          [
           "low"
          ],
          [
           "low"
          ],
          [
           "low"
          ],
          [
           "low"
          ],
          [
           "low"
          ],
          [
           "low"
          ],
          [
           "low"
          ],
          [
           "low"
          ],
          [
           "low"
          ],
          [
           "low"
          ],
          [
           "low"
          ],
          [
           "low"
          ],
          [
           "low"
          ],
          [
           "low"
          ],
          [
           "low"
          ],
          [
           "low"
          ],
          [
           "low"
          ],
          [
           "low"
          ],
          [
           "low"
          ],
          [
           "low"
          ],
          [
           "(?)"
          ],
          [
           "low"
          ],
          [
           "low"
          ],
          [
           "low"
          ],
          [
           "(?)"
          ],
          [
           "(?)"
          ],
          [
           "(?)"
          ],
          [
           "(?)"
          ],
          [
           "(?)"
          ],
          [
           "(?)"
          ],
          [
           "low"
          ],
          [
           "(?)"
          ],
          [
           "low"
          ],
          [
           "low"
          ],
          [
           "(?)"
          ],
          [
           "(?)"
          ],
          [
           "low"
          ],
          [
           "(?)"
          ],
          [
           "low"
          ],
          [
           "(?)"
          ],
          [
           "low"
          ],
          [
           "low"
          ],
          [
           "(?)"
          ],
          [
           "low"
          ],
          [
           "low"
          ],
          [
           "low"
          ],
          [
           "low"
          ],
          [
           "low"
          ],
          [
           "low"
          ],
          [
           "low"
          ],
          [
           "low"
          ],
          [
           "low"
          ],
          [
           "(?)"
          ],
          [
           "low"
          ],
          [
           "low"
          ],
          [
           "(?)"
          ],
          [
           "low"
          ],
          [
           "low"
          ],
          [
           "low"
          ],
          [
           "low"
          ],
          [
           "high"
          ],
          [
           "low"
          ],
          [
           "regular"
          ],
          [
           "low"
          ],
          [
           "regular"
          ],
          [
           "(?)"
          ],
          [
           "low"
          ],
          [
           "(?)"
          ],
          [
           "(?)"
          ],
          [
           "low"
          ],
          [
           "(?)"
          ],
          [
           "low"
          ],
          [
           "low"
          ],
          [
           "low"
          ],
          [
           "regular"
          ],
          [
           "low"
          ],
          [
           "low"
          ],
          [
           "low"
          ],
          [
           "(?)"
          ],
          [
           "low"
          ],
          [
           "low"
          ],
          [
           "(?)"
          ],
          [
           "(?)"
          ],
          [
           "(?)"
          ],
          [
           "low"
          ],
          [
           "low"
          ],
          [
           "low"
          ],
          [
           "low"
          ],
          [
           "low"
          ],
          [
           "low"
          ],
          [
           "low"
          ],
          [
           "low"
          ],
          [
           "(?)"
          ],
          [
           "low"
          ],
          [
           "low"
          ],
          [
           "(?)"
          ],
          [
           "(?)"
          ],
          [
           "(?)"
          ],
          [
           "regular"
          ],
          [
           "low"
          ],
          [
           "low"
          ],
          [
           "low"
          ],
          [
           "low"
          ],
          [
           "high"
          ],
          [
           "low"
          ],
          [
           "low"
          ],
          [
           "low"
          ],
          [
           "low"
          ],
          [
           "(?)"
          ],
          [
           "(?)"
          ],
          [
           "low"
          ],
          [
           "(?)"
          ],
          [
           "(?)"
          ],
          [
           "low"
          ],
          [
           "(?)"
          ],
          [
           "low"
          ],
          [
           "(?)"
          ],
          [
           "low"
          ],
          [
           "regular"
          ],
          [
           "low"
          ],
          [
           "low"
          ],
          [
           "(?)"
          ],
          [
           "low"
          ],
          [
           "low"
          ],
          [
           "(?)"
          ],
          [
           "(?)"
          ],
          [
           "low"
          ],
          [
           "(?)"
          ],
          [
           "(?)"
          ],
          [
           "low"
          ],
          [
           "low"
          ],
          [
           "regular"
          ],
          [
           "(?)"
          ],
          [
           "(?)"
          ],
          [
           "low"
          ],
          [
           "(?)"
          ],
          [
           "(?)"
          ],
          [
           "low"
          ],
          [
           "(?)"
          ],
          [
           "low"
          ],
          [
           "(?)"
          ],
          [
           "low"
          ],
          [
           "(?)"
          ],
          [
           "low"
          ],
          [
           "(?)"
          ],
          [
           "low"
          ],
          [
           "(?)"
          ],
          [
           "low"
          ],
          [
           "low"
          ],
          [
           "low"
          ],
          [
           "(?)"
          ],
          [
           "(?)"
          ],
          [
           "regular"
          ],
          [
           "low"
          ],
          [
           "(?)"
          ],
          [
           "low"
          ],
          [
           "(?)"
          ],
          [
           "low"
          ],
          [
           "(?)"
          ],
          [
           "low"
          ],
          [
           "(?)"
          ],
          [
           "low"
          ],
          [
           "low"
          ],
          [
           "(?)"
          ],
          [
           "low"
          ],
          [
           "(?)"
          ],
          [
           "(?)"
          ],
          [
           "low"
          ],
          [
           "low"
          ],
          [
           "low"
          ],
          [
           "low"
          ],
          [
           "low"
          ],
          [
           "low"
          ],
          [
           "(?)"
          ],
          [
           "low"
          ],
          [
           "low"
          ],
          [
           "(?)"
          ],
          [
           "low"
          ],
          [
           "(?)"
          ],
          [
           "low"
          ],
          [
           "(?)"
          ],
          [
           "low"
          ],
          [
           "(?)"
          ],
          [
           "(?)"
          ],
          [
           "(?)"
          ],
          [
           "low"
          ],
          [
           "low"
          ],
          [
           "low"
          ],
          [
           "(?)"
          ],
          [
           "low"
          ],
          [
           "low"
          ],
          [
           "(?)"
          ],
          [
           "low"
          ],
          [
           "high"
          ],
          [
           "regular"
          ],
          [
           "low"
          ],
          [
           "low"
          ],
          [
           "low"
          ],
          [
           "low"
          ],
          [
           "low"
          ],
          [
           "(?)"
          ],
          [
           "low"
          ],
          [
           "(?)"
          ],
          [
           "(?)"
          ],
          [
           "low"
          ],
          [
           "(?)"
          ],
          [
           "low"
          ],
          [
           "low"
          ],
          [
           "low"
          ],
          [
           "low"
          ],
          [
           "low"
          ],
          [
           "low"
          ],
          [
           "low"
          ],
          [
           "low"
          ],
          [
           "low"
          ],
          [
           "low"
          ],
          [
           "(?)"
          ],
          [
           "(?)"
          ],
          [
           "(?)"
          ],
          [
           "(?)"
          ],
          [
           "low"
          ],
          [
           "low"
          ],
          [
           "low"
          ],
          [
           "low"
          ],
          [
           "(?)"
          ],
          [
           "low"
          ],
          [
           "low"
          ],
          [
           "low"
          ],
          [
           "low"
          ],
          [
           "(?)"
          ],
          [
           "low"
          ],
          [
           "(?)"
          ]
         ],
         "domain": {
          "x": [
           0,
           1
          ],
          "y": [
           0,
           1
          ]
         },
         "hovertemplate": "labels=%{label}<br>LOC=%{value}<br>parent=%{parent}<br>id=%{id}<br>CLevel=%{customdata[0]}<extra></extra>",
         "ids": [
          "GES_GRT.Web.Areas.Mpa.Controllers/TenantsController/EditModal(Int32)",
          "GES_GRT.Currencies/CurrencyAppService/GetCurrencies()",
          "GES_GRT.WebApi.Controllers/TemplateFileController/TemplateFileController(IAppFolders,IUnitOfWorkManager)",
          "GES_GRT.Authorization.Roles/RoleStore/RoleStore(IRepository<Role>,IRepository<UserRole,Int64>,IRepository<RolePermissionSetting,Int64>)",
          "GES_GRT.Web.Controllers/ApplicationController/Index()",
          "GES_GRT.LineItems/LineItemAppService/LineItemAppService(IRepository<LineItem>,IRepository<Client>,IRepository<Period>,IPermissionChecker,IUnitOfWorkManager,IRepository<Employee>,IRepository<Currency>,IRepository<ClientExchangeRate>,IRepository<ExchangeRate>,IRepository<ClientIncomeComponent>)",
          "GES_GRT.LineItems/LineItemAppService/ChangeWorkflowStep(LineItem,WorkflowStatus)",
          "GES_GRT.Authorization.Users/UserAppService/CreateUserAsync(CreateOrUpdateUserInput)",
          "GES_GRT.Web.Controllers/AboutController/Index()",
          "GES_GRT.Localization/FamFamFamFlagsHelper/GetCountryCode(String)",
          "GES_GRT.Extensions/DecimalPrecision/ConfigureModelBuilder(DbModelBuilder)",
          "GES_GRT.WebApi.Controllers/ImportExchangeRatesController/SaveExchangeRates(MultipartFormDataStreamProvider,Int32)",
          "GES_GRT.Web.Areas.Mpa.Controllers/AuditLogsController/Index()",
          "GES_GRT.Notifications/NotificationAppService/SetAllNotificationsAsRead()",
          "GES_GRT/CustomDtoMapper/CustomDtoMapper()",
          "GES_GRT.Web.Helpers/CustomMultipartFormDataStreamProvider/CustomMultipartFormDataStreamProvider(String)",
          "GES_GRT.Util/EnumJsonConverter/CanConvert(Type)",
          "GES_GRT.Web.Areas.Mpa.Controllers/ProfileController/ChangePictureModal()",
          "GES_GRT.Util/LineItemUtilities/CalculateLineItem(LineItem,IRepository<ExchangeRate>,IRepository<ClientExchangeRate>,IRepository<Period>)",
          "GES_GRT.ClientIncomeComponents/ClientIncomeComponentAppService/CreateOrUpdateClientIncomeComponent(ClientIncomeComponentInputDto)",
          "GES_GRT.Web.Areas.Mpa/MpaAreaRegistration/RegisterArea(AreaRegistrationContext)",
          "GES_GRT/GES_GRTAppServiceBase/GetCurrentUser()",
          "GES_GRT.WebApi.Controllers/ImportExchangeRatesController/ImportExchangeRatesController()",
          "GES_GRT/GES_GRTAppServiceBase/GetCurrentUserClientIds()",
          "GES_GRT.Authorization.Users.Profile/ProfileAppService/GetCurrentUserProfileForEdit()",
          "GES_GRT/GES_GRTAppServiceBase/CheckUserClientPermission(Int32)",
          "GES_GRT.Web.Controllers/TenantRegistrationController/CheckTenantRegistrationIsEnabled()",
          "GES_GRT.Util/ExcelUtilities/GetData(WorksheetPart,WorkbookPart,String,String,Dictionary<String,CellValues>,UInt32)",
          "GES_GRT.Friendships/ChatUserStateWatcher/NotifyUserConnectionStateChange(UserIdentifier,Boolean)",
          "GES_GRT/GES_GRTAppServiceBase/GetCurrentTenant()",
          "GES_GRT.Emailing/EmailTemplateProvider/GetDefaultTemplate()",
          "GES_GRT.ExchangeRates/ExchangeRateAppService/CheckIfPeriodHasExchangeRates(Int32)",
          "GES_GRT.ClientIncomeComponentGroups/ClientIncomeComponentGroupAppService/GetClientIncomeComponentGroups(GetClientIncomeComponentGroupsInput)",
          "GES_GRT.Friendships.Cache/UserFriendsCache/IncreaseUnreadMessageCount(UserIdentifier,UserIdentifier,Int32)",
          "GES_GRT.Sessions/SessionAppService/GetCurrentLoginInformations()",
          "GES_GRT.IncomeComponents/IncomeComponentAppService/CreateIncomeComponentAsync(IncomeComponentInputDto)",
          "GES_GRT.Web.Areas.Mpa.Controllers/HostSettingsController/HostSettingsController(IHostSettingsAppService,UserManager,IEditionAppService,ITimingAppService)",
          "GES_GRT.Web.Controllers/ProfileController/GetDefaultProfilePicture()",
          "GES_GRT.WebApi.Controllers/ImportIncomeComponentsController/ImportIncomeComponentsController(IRepository<IncomeComponent>,IUnitOfWorkManager)",
          "GES_GRT.Web.Areas.Mpa.Controllers/DashboardController/Index()",
          "GES_GRT.LineItems.Dto/GetCommentInput/Normalize()",
          "GES_GRT.Authorization.Permissions/PermissionAppService/AddPermission(Permission,IReadOnlyList<Permission>,List<FlatPermissionWithLevelDto>,Int32)",
          "GES_GRT.WebApi.Controllers/ImportEmployeesController/ParseEmployeeRows(Client,Range[])",
          "GES_GRT.WebApi.Controllers/ImportEmployeesController/ParseEmployeeFileData(Collection<MultipartFileData>,Int32)",
          "GES_GRT.LineItems/LineItemAppService/DistinctBy<TSource,TKey>(IEnumerable<TSource>,Func<TSource,TKey>)",
          "GES_GRT.IncomeComponents/IncomeComponentAppService/NotifyClientsOfChanges(IncomeComponent)",
          "GES_GRT.Logging/WebLogAppService/DownloadWebLogs()",
          "GES_GRT.Util/ExcelUtilities/Parse(String,Range[])",
          "GES_GRT.Authorization.Roles/RoleAppService/DeleteRole(EntityRequestInput)",
          "GES_GRT.Extensions/Enum<T>/Parse(String,Boolean)",
          "GES_GRT.Dto/PagedAndFilteredInputDto/PagedAndFilteredInputDto()",
          "GES_GRT.Web.Areas.Mpa.Controllers/OrganizationUnitsController/OrganizationUnitsController(IRepository<OrganizationUnit,Int64>)",
          "GES_GRT.ClientIncomeComponentGroups/ClientIncomeComponentGroupAppService/EditClientIncomeComponentGroupAsync(ClientIncomeComponentGroupInputDto)",
          "GES_GRT.Extensions/DynamicQueryableExtensions/OrderBy<T>(IQueryable<T>,String,Object[])",
          "GES_GRT.Web.Areas.Mpa.Models.Tenants/EditTenantViewModel/EditTenantViewModel(TenantEditDto,IReadOnlyList<ComboboxItemDto>)",
          "GES_GRT.WebApi.Helpers/ApiReflectionHelper/GetParamNames(MethodInfo)",
          "GES_GRT.Friendships/ChatUserStateWatcher/OnlineClientManager_UserConnected(Object,OnlineUserEventArgs)",
          "GES_GRT.Dto/PagedInputDto/PagedInputDto()",
          "GES_GRT.Web.Areas.Mpa.Controllers/EditionsController/Index()",
          "GES_GRT.Organizations/OrganizationUnitAppService/DeleteOrganizationUnit(IdInput<Int64>)",
          "GES_GRT.Editions/EditionAppService/EditionAppService(EditionManager)",
          "GES_GRT.Authorization.Impersonation/ImpersonationCacheManagerExtensions/GetImpersonationCache(ICacheManager)",
          "GES_GRT.Util/LineItemUtilities/GetCompanyCarClientIncomeComponent(Client)",
          "GES_GRT.LineItems/LineItemAppService/GetComments(GetCommentInput)",
          "GES_GRT.Extensions/EnumExtension/GetIndividualFlags<T>(T)",
          "GES_GRT.Localization/LanguageAppService/GetLanguageForEdit(NullableIdInput)",
          "GES_GRT.Friendships/FriendshipManager/BanFriend(UserIdentifier,UserIdentifier)",
          "GES_GRT.Configuration.Tenants/TenantSettingsAppService/GetAllSettings()",
          "GES_GRT.LineItems.Dto/GetLineItemInput/Normalize()",
          "GES_GRT.WebApi.Controllers/ImportExchangeRatesController/ParseExchangeRateFileData(Collection<MultipartFileData>,Int32)",
          "GES_GRT.Authorization.Users.Dto/GetLinkedUsersInput/Normalize()",
          "GES_GRT.Employees/EmployeeAppService/DeleteEmployee(EntityDto)",
          "GES_GRT.Web.Areas.Mpa.Controllers/HomeController/Index()",
          "GES_GRT.Authorization.Users/UserLinkAppService/CreateLinkedUsersQuery(UserAccount,String)",
          "GES_GRT.Web.Controllers/AccountController/EmailActivation()",
          "GES_GRT.Authorization.Users.Dto/GetUsersInput/Normalize()",
          "GES_GRT.Web.Controllers/AccountController/GetTenantIdOrDefault(String)",
          "GES_GRT.Editions/EditionManager/EditionManager(IRepository<Edition>,IAbpZeroFeatureValueStore)",
          "GES_GRT.Editions/EditionAppService/DeleteEdition(EntityRequestInput)",
          "GES_GRT.WebApi.Controllers/ImportLineItemsController/ImportLineItemsController(IRepository<LineItem>,IRepository<Client>,IUnitOfWorkManager,IRepository<Period>,IEmployeeRepository,IRepository<Currency>,IRepository<ClientIncomeComponent>,IRepository<ClientExchangeRate>,IRepository<ExchangeRate>,IRepository<SourceIndication>)",
          "GES_GRT.Employees/EmployeeAppService/LinkRelatedEntities(EmployeeInputDto,Employee)",
          "GES_GRT.Web.Areas.Mpa.Controllers/LanguagesController/LanguagesController(ILanguageAppService,ILanguageManager,IApplicationLanguageTextManager)",
          "GES_GRT.ClientIncomeComponents/ClientIncomeComponentAppService/LinkRelatedEntities(ClientIncomeComponentInputDto,ClientIncomeComponent)",
          "GES_GRT.ClientIncomeComponentGroups/ClientIncomeComponentGroupAppService/LinkRelatedEntities(ClientIncomeComponentGroupInputDto,ClientIncomeComponentGroup)",
          "GES_GRT.ClientExchangeRates/ClientExchangeRateAppService/LinkRelatedEntities(ClientExchangeRateInputDto,ClientExchangeRate)",
          "GES_GRT.Web.Areas.Mpa.Controllers/ProfileController/LinkAccountModal()",
          "GES_GRT.Authorization.Users/UserLinkManager/Link(User,User)",
          "GES_GRT.Util/LineItemUtilities/LineItemUtilities()",
          "GES_GRT.LineItems.Dto/LineItemOutputDto/LineItemOutputDto()",
          "GES_GRT.Web.Areas.Mpa.Controllers/LayoutController/LayoutController(ISessionAppService,IUserNavigationManager,IMultiTenancyConfig)",
          "GES_GRT.Web.Controllers/AccountController/Languages()",
          "GES_GRT.Localization/LanguageAppService/LanguageAppService(IApplicationLanguageManager,IApplicationLanguageTextManager,IRepository<ApplicationLanguage>)",
          "GES_GRT.Web.Areas.Mpa.Startup/MpaNavigationProvider/L(String)",
          "GES_GRT.Web.Controllers/GES_GRTControllerBase/L(String)",
          "GES_GRT.Web.Navigation/FrontEndNavigationProvider/L(String)",
          "GES_GRT.Util/EnumJsonConverter/L(String)",
          "GES_GRT.Clients/ClientAppService/LinkRelatedEntities(ClientInputDto,Client)",
          "GES_GRT.GeneralComments/GeneralCommentAppService/LinkRelatedEntities(GeneralCommentInputDto,GeneralComment)",
          "GES_GRT.Web.Controllers/AccountController/Login(String,String,String)",
          "GES_GRT.ReconciliationComments/ReconciliationCommentAppService/LinkRelatedEntities(ReconciliationCommentInputDto,ReconciliationComment)",
          "GES_GRT.MultiTenancy.Dto/GetTenantsInput/Normalize()",
          "GES_GRT.Organizations.Dto/GetOrganizationUnitUsersInput/Normalize()",
          "GES_GRT.IncomeComponents.Dto/GetIncomeComponentsInput/Normalize()",
          "GES_GRT.ExchangeRates.Dto/GetExchangeRatesInput/Normalize()",
          "GES_GRT.Employees.Dto/GetEmployeesInput/Normalize()",
          "GES_GRT.ClientIncomeComponentGroups.Dto/GetClientIncomeComponentGroupsInput/Normalize()",
          "GES_GRT.ClientExchangeRates.Dto/GetClientExchangeRatesInput/Normalize()",
          "GES_GRT.Auditing.Dto/GetAuditLogsInput/Normalize()",
          "GES_GRT.LineItems.Dto/GetAlertInput/Normalize()",
          "GES_GRT.Notifications/AppNotifier/NewUserRegisteredAsync(User)",
          "GES_GRT.Notifications/AppNotifier/NewTenantRegisteredAsync(Tenant)",
          "GES_GRT.Web.Areas.Mpa.Models.Profile/MySettingsViewModel/MySettingsViewModel(CurrentUserProfileEditDto)",
          "GES_GRT.Organizations/OrganizationUnitAppService/MoveOrganizationUnit(MoveOrganizationUnitInput)",
          "GES_GRT.Web.Areas.Mpa.Models.Common.Modals/ModalHeaderViewModel/ModalHeaderViewModel(String)",
          "GES_GRT.LineItems/LineItemAppService/MaximizeOwnContributionCompanyCar(Int32)",
          "GES_GRT.LineItems/LineItemAppService/MarkCommentAsRead(Int32)",
          "GES_GRT.Web.Areas.Mpa.Controllers/MaintenanceController/MaintenanceController(ICachingAppService)",
          "GES_GRT.Web.Areas.Mpa.Controllers/CommonController/LookupModal(LookupModalViewModel)",
          "GES_GRT.Web.Controllers/AccountController/Logout()",
          "GES_GRT.Web.Areas.Mpa.Controllers/UsersController/LoginAttemptsModal()",
          "GES_GRT.Web.Controllers/AccountController/Login(LoginViewModel,String,String)",
          "GES_GRT.LineItems/LineItemAppService/LogAndThrowExchangeRateError(LineItem)",
          "GES_GRT.WebApi.Controllers/ImportLineItemsController/LogAndThrowExchangeRateError(LineItem)",
          "GES_GRT.Web.Areas.Mpa.Controllers/ProfileController/LinkedAccountsModal()",
          "GES_GRT.Authorization.Users/UserLinkAppService/LinkToUser(LinkToUserInput)",
          "GES_GRT.IncomeComponents/IncomeComponentAppService/LinkRelatedEntities(IncomeComponentInputDto,IncomeComponent)",
          "GES_GRT.Notifications/AppNotificationProvider/L(String)",
          "GES_GRT.Friendships/FriendshipAppService/AcceptFriendshipRequest(AcceptFriendshipRequestInput)",
          "GES_GRT.ClientIncomeComponents/ClientIncomeComponentAppService/IsUnique(ClientIncomeComponentInputDto)",
          "GES_GRT.Timing/TimingAppService/GetTimezoneComboboxItems(GetTimezoneComboboxItemsInput)",
          "GES_GRT.Timing/TimingAppService/GetTimezoneInfos(SettingScopes)",
          "GES_GRT.Chat/ChatMessageManager/GetUnreadMessageCount(UserIdentifier,UserIdentifier)",
          "GES_GRT.Authorization.Users/UserLinkManager/GetUserAccountAsync(UserIdentifier)",
          "GES_GRT.Authorization.Users/UserManager/GetUserAsync(UserIdentifier)",
          "GES_GRT.Web.Controllers/AccountController/GetUserByChecking(String)",
          "GES_GRT.Chat/ChatAppService/GetUserChatFriendsWithSettings()",
          "GES_GRT.Chat.Dto/GetUserChatFriendsWithSettingsOutput/GetUserChatFriendsWithSettingsOutput()",
          "GES_GRT.Chat/ChatAppService/GetUserChatMessages(GetUserChatMessagesInput)",
          "GES_GRT.Authorization.Users/UserAppService/GetUserForEdit(NullableIdInput<Int64>)",
          "GES_GRT.Friendships.Cache/UserFriendsCache/GetUserFriendsCacheItemInternal(UserIdentifier)",
          "GES_GRT.Notifications/NotificationAppService/GetUserNotifications(GetUserNotificationsInput)",
          "GES_GRT.Authorization.Users/UserAppService/GetUserPermissionsForEdit(IdInput<Int64>)",
          "GES_GRT.Authorization.Users/UserAppService/GetUsers(GetUsersInput)",
          "GES_GRT.Authorization.Users/UserAppService/GetUsersToExcel()",
          "GES_GRT.Extensions/EnumExtension/GetValue<T>(String)",
          "GES_GRT.Extensions/EnumExtension/GetValueFromDescription<T>(String)",
          "GES_GRT.Auditing/NamespaceStripper/GetTextAfterLastDot(String)",
          "GES_GRT.Util/ExcelUtilities/GetWorksheet(WorkbookPart,String)",
          "GES_GRT.MultiTenancy/TenantAppService/GetTenants(GetTenantsInput)",
          "GES_GRT.MultiTenancy/TenantAppService/GetTenantFeaturesForEdit(EntityRequestInput)",
          "GES_GRT.Web.Controllers/ProfileController/GetProfilePictureById(Guid)",
          "GES_GRT.MultiTenancy.Demo/TenantDemoDataBuilder/GetRandomProfilePictureBytes()",
          "GES_GRT.MultiTenancy.Demo/RandomUserGenerator/GetRandomUsers(Int32,Int32)",
          "GES_GRT.Authorization.Users/UserLoginAppService/GetRecentUserLoginAttempts()",
          "GES_GRT.Authorization.Users/UserLinkAppService/GetRecentlyUsedLinkedUsers()",
          "GES_GRT.ReconciliationComments/ReconciliationCommentAppService/GetReconciliationComments(GetReconciliationCommentsInput)",
          "GES_GRT.Authorization.Roles/RoleAppService/GetRoleForEdit(NullableIdInput)",
          "GES_GRT.Authorization.Roles/RoleAppService/GetRoles(GetRolesInput)",
          "GES_GRT.Web.Controllers/GES_GRTControllerBase/GetScripts()",
          "GES_GRT.Configuration/AppSettingProvider/GetSettingDefinitions(SettingDefinitionProviderContext)",
          "GES_GRT.Extensions/EnumExtension/GetShortNames(Enum,String)",
          "GES_GRT.Web.Areas.Mpa.Models.Layout/HeaderViewModel/GetShownLoginName()",
          "GES_GRT.Web.Models.Layout/HeaderViewModel/GetShownLoginName()",
          "GES_GRT.Authorization.Users/LinkedUserDto/GetShownLoginName(Boolean)",
          "GES_GRT.Web.Chat.SignalR/SignalRChatCommunicator/GetSignalRClientOrNull(IOnlineClient)",
          "GES_GRT.Web/WebUrlService/GetSiteRootAddress(String)",
          "GES_GRT.Clients/ClientAppService/GetSourceIndications(Int32)",
          "GES_GRT.MultiTenancy/TenantAppService/GetTenantForEdit(EntityRequestInput)",
          "GES_GRT.WebApi.Helpers/ApiReflectionHelper/IsUpload(MethodInfo)",
          "GES_GRT.Organizations/OrganizationUnitAppService/GiveClientRights(Int32,Int64)",
          "GES_GRT.Friendships.Cache/UserFriendCacheSyncronizer/HandleEvent(EntityCreatedEventData<Friendship>)",
          "GES_GRT.Web.Areas.Mpa.Controllers/RolesController/Index()",
          "GES_GRT.Web.Controllers/TenantRegistrationController/Index()",
          "GES_GRT.Web.Areas.Mpa.Controllers/TenantsController/Index()",
          "GES_GRT.Web.Areas.Mpa.Controllers/UsersController/Index()",
          "GES_GRT.Web.Areas.Mpa.Controllers/WelcomeController/Index()",
          "GES_GRT.Web.Controllers/GALoginController/Index(String)",
          "GES_GRT/GES_GRTApplicationModule/Initialize()",
          "GES_GRT.WebApi/GES_GRTWebApiModule/Initialize()",
          "GES_GRT.Web/GES_GRTWebModule/Initialize()",
          "GES_GRT.Util/ExcelUtilities/InsertCellInWorksheet(UInt32,Int32,WorksheetPart)",
          "GES_GRT.WebApi.Helpers/ApiReflectionHelper/IsDownload(MethodInfo)",
          "GES_GRT.Web.Controllers/AccountController/IsImpersonatedLogin()",
          "GES_GRT.Organizations/OrganizationUnitAppService/IsInOrganizationUnit(UserToOrganizationUnitInput)",
          "GES_GRT.Util/EnumJsonConverter/IsNullableType(Type)",
          "GES_GRT.Web.Views/UrlChecker/IsRooted(String)",
          "GES_GRT.Web.Controllers/AccountController/IsSelfRegistrationEnabled()",
          "GES_GRT.ClientIncomeComponentGroups/ClientIncomeComponentGroupAppService/IsUnique(ClientIncomeComponentGroupInputDto)",
          "GES_GRT.Web.Areas.Mpa.Controllers/OrganizationUnitsController/Index()",
          "GES_GRT.Friendships.Cache/UserFriendCacheSyncronizer/HandleEvent(EntityCreatedEventData<ChatMessage>)",
          "GES_GRT.Web.Areas.Mpa.Controllers/NotificationsController/Index()",
          "GES_GRT.Web.Areas.Mpa.Controllers/LanguagesController/Index()",
          "GES_GRT.Friendships.Cache/UserFriendCacheSyncronizer/HandleEvent(EntityDeletedEventData<Friendship>)",
          "GES_GRT.Friendships.Cache/UserFriendCacheSyncronizer/HandleEvent(EntityUpdatedEventData<Friendship>)",
          "GES_GRT.Chat/ChatMessageManager/HandleReceiverToSender(UserIdentifier,UserIdentifier,String)",
          "GES_GRT.Chat/ChatMessageManager/HandleSenderToReceiver(UserIdentifier,UserIdentifier,String)",
          "GES_GRT.Chat/ChatMessageManager/HandleSenderUserInfoChange(UserIdentifier,UserIdentifier,String,String,Nullable<Guid>)",
          "GES_GRT.Web.Areas.Mpa.Controllers/LayoutController/Header()",
          "GES_GRT.Web.Controllers/LayoutController/Header(String)",
          "GES_GRT.Configuration.Host/HostSettingsAppService/HostSettingsAppService(IEmailSender,EditionManager,ITimeZoneService,ISettingDefinitionManager)",
          "GES_GRT.Web.Controllers/AccountController/ImpersonateSignIn(String)",
          "GES_GRT.Authorization.Impersonation/ImpersonationCacheItem/ImpersonationCacheItem()",
          "GES_GRT.Authorization.Impersonation/ImpersonationCacheItem/ImpersonationCacheItem(Nullable<Int32>,Int64,Boolean)",
          "GES_GRT.WebApi.Controllers/ImportClientIncomeComponentsController/ImportClientIncomeComponentsController()",
          "GES_GRT.WebApi.Controllers/ImportClientIncomeComponentsController/ImportClientIncomeComponentsController(IRepository<Client>,IRepository<LineItem>,IRepository<IncomeComponent>,IRepository<ClientIncomeComponent>,IRepository<ClientIncomeComponentGroup>,IRepository<Country>,IUnitOfWorkManager)",
          "GES_GRT.WebApi.Controllers/ImportEmployeesController/ImportEmployeesController()",
          "GES_GRT.GRT.IncomeComponents/IncomeComponent/IncomeComponent()",
          "GES_GRT.Web.Controllers/HomeController/Index()",
          "GES_GRT.Web.Areas.Mpa.Controllers/HostSettingsController/Index()",
          "GES_GRT.Web.Areas.Mpa.Controllers/MaintenanceController/Index()",
          "GES_GRT.Web.Areas.Mpa.Controllers/SettingsController/Index()",
          "GES_GRT.WebApi.Controllers/ImportExchangeRatesController/ParseExchangeRateRows(Period,Range[])",
          "GES_GRT.Friendships/ChatUserStateWatcher/OnlineClientManager_UserDisconnected(Object,OnlineUserEventArgs)",
          "GES_GRT.Friendships/FriendshipExtensions/ToUserIdentifier(Friendship)",
          "GES_GRT.Web.Controllers/AccountController/TryExtractNameAndSurnameFromClaims(List<Claim>,String&,String&)",
          "GES_GRT.Extensions/Enum<T>/TryParse(String,T&,Boolean)",
          "GES_GRT.Authorization.Users/UserEmailer/TryToSendChatMessageMail(User,String,String,ChatMessage)",
          "GES_GRT.Friendships/FriendshipAppService/UnblockUser(UnblockUserInput)",
          "GES_GRT.Authorization.Users/UserLinkManager/Unlink(UserIdentifier)",
          "GES_GRT.Authorization.Users/UserLinkAppService/UnlinkUser(UnlinkUserInput)",
          "GES_GRT.Configuration.Host/HostSettingsAppService/UpdateAllSettings(HostSettingsEditDto)",
          "GES_GRT.Configuration.Tenants/TenantSettingsAppService/UpdateAllSettings(TenantSettingsEditDto)",
          "GES_GRT.LineItems/LineItemAppService/UpdateCarLineItem(Employee,EmployeeCar,LineItem)",
          "GES_GRT.Authorization.Users.Profile/ProfileAppService/UpdateCurrentUserProfile(CurrentUserProfileEditDto)",
          "GES_GRT.Editions/EditionAppService/UpdateEditionAsync(CreateOrUpdateEditionDto)",
          "GES_GRT.WebApi.Controllers/ImportClientIncomeComponentsController/UpdateExistingClientIncomeComponent(ClientIncomeComponent,ClientIncomeComponent)",
          "GES_GRT.WebApi.Controllers/ImportIncomeComponentsController/UpdateExistingIncomeComponent(IncomeComponent,IncomeComponent)",
          "GES_GRT.WebApi.Controllers/ImportLineItemsController/UpdateExistingLineItem(LineItem,LineItem)",
          "GES_GRT.Friendships.Cache/UserFriendsCache/UpdateFriend(UserIdentifier,FriendCacheItem)",
          "GES_GRT.Friendships/FriendshipManager/UpdateFriendship(Friendship)",
          "GES_GRT.Authorization.Users.Dto/UnlinkUserInput/ToUserIdentifier()",
          "GES_GRT.Web.Models.Account/SwitchToLinkedAccountModel/ToUserIdentifier()",
          "GES_GRT.Chat.Dto/MarkAllUnreadMessagesOfUserAsReadInput/ToUserIdentifier()",
          "GES_GRT.Extensions/Enum<T>/ToJsonObject(Func<String,String>)",
          "GES_GRT.Auditing/NamespaceStripper/StripNameSpace(String)",
          "GES_GRT.Web.Controllers/AccountController/SwitchToLinkedAccount(SwitchToLinkedAccountModel)",
          "GES_GRT.Authorization.Users/SwitchToLinkedAccountCacheItem/SwitchToLinkedAccountCacheItem()",
          "GES_GRT.Authorization.Users/SwitchToLinkedAccountCacheItem/SwitchToLinkedAccountCacheItem(Nullable<Int32>,Int64,Nullable<Int32>,Nullable<Int64>)",
          "GES_GRT.Util/TableRange/TableRange()",
          "GES_GRT.MultiTenancy/Tenant/Tenant()",
          "GES_GRT.MultiTenancy/Tenant/Tenant(String,String)",
          "GES_GRT.MultiTenancy/TenantAppService/TenantAppService(TenantManager)",
          "GES_GRT.Authorization.Roles/RoleAppService/UpdateGrantedPermissionsAsync(Role,List<String>)",
          "GES_GRT.MultiTenancy.Demo/TenantDemoDataBuilder/TenantDemoDataBuilder(OrganizationUnitManager,UserManager,RandomUserGenerator,IBinaryObjectManager,IAppFolders,IFriendshipManager,IChatMessageManager,IRepository<ChatMessage,Int64>)",
          "GES_GRT.MultiTenancy/TenantManager/TenantManager(IRepository<Tenant>,IRepository<TenantFeatureSetting,Int64>,EditionManager,IUnitOfWorkManager,RoleManager,IUserEmailer,TenantDemoDataBuilder,UserManager,INotificationSubscriptionManager,IAppNotifier,IAbpZeroFeatureValueStore,IAbpZeroDbMigrator,ITenantCache)",
          "GES_GRT.Web.Areas.Mpa.Controllers/LanguagesController/Texts(String,String,String,String,String)",
          "GES_GRT.Timing/TimeZoneService/TimeZoneService(ISettingManager,ISettingDefinitionManager)",
          "GES_GRT.Timing/TimingAppService/TimingAppService(ITimeZoneService)",
          "GES_GRT.Employees.Exporting/EmployeeListExcelExporter/ToFileFromUri(Uri)",
          "GES_GRT.Friendships/FriendshipExtensions/ToFriendIdentifier(Friendship)",
          "GES_GRT.Extensions/Enum<T>/ToJson()",
          "GES_GRT.Extensions/EnumExtension/ToJson(Enum,Func<String,String>)",
          "GES_GRT.Web.Areas.Mpa.Models.Tenants/TenantFeaturesEditViewModel/TenantFeaturesEditViewModel(Tenant,GetTenantFeaturesForEditOutput)",
          "GES_GRT.Auditing/NamespaceStripper/StripGenericNamespace(String)",
          "GES_GRT.Localization/LanguageAppService/UpdateLanguageAsync(CreateOrUpdateLanguageInput)",
          "GES_GRT.Notifications/NotificationAppService/UpdateNotificationSettings(UpdateNotificationSettingsInput)",
          "GES_GRT.Friendships.Cache/UserFriendsCache/UserFriendsCache(ICacheManager,IRepository<Friendship,Int64>,IRepository<ChatMessage,Int64>,ITenantCache,UserManager,IUnitOfWorkManager)",
          "GES_GRT.Authorization.Users/UserLinkAppService/UserLinkAppService(AbpLoginResultTypeHelper,IUserLinkManager,IRepository<Tenant>,IRepository<UserAccount,Int64>)",
          "GES_GRT.Authorization.Users/UserLinkManager/UserLinkManager(IRepository<UserAccount,Int64>)",
          "GES_GRT.Authorization.Users.Exporting/UserListExcelExporter/UserListExcelExporter(ITimeZoneConverter,IAbpSession)",
          "GES_GRT.Authorization.Users/UserLoginAppService/UserLoginAppService(IRepository<UserLoginAttempt,Int64>)",
          "GES_GRT.Authorization.Users/UserManager/UserManager(UserStore,RoleManager,IRepository<Tenant>,IMultiTenancyConfig,IPermissionManager,IUnitOfWorkManager,ISettingManager,IUserManagementConfig,IIocResolver,ICacheManager,IRepository<OrganizationUnit,Int64>,IRepository<UserOrganizationUnit,Int64>,IOrganizationUnitSettings,IRepository<UserLoginAttempt,Int64>)",
          "GES_GRT.Web.Areas.Mpa.Models.Users/UserPermissionsEditViewModel/UserPermissionsEditViewModel(GetUserPermissionsForEditOutput,User)",
          "GES_GRT.Authorization.Users/UserStore/UserStore(IRepository<User,Int64>,IRepository<UserLogin,Int64>,IRepository<UserRole,Int64>,IRepository<Role>,IRepository<UserPermissionSetting,Int64>,IUnitOfWorkManager)",
          "GES_GRT.Web.Areas.Mpa.Controllers/UsersController/UsersController(IUserAppService,UserManager,IUserLoginAppService,IRoleAppService,IPermissionAppService)",
          "GES_GRT.Web.Models.Account/RegisterViewModel/Validate(ValidationContext)",
          "GES_GRT.Employees/EmployeeAppService/ValidateElfProef(Int32)",
          "GES_GRT.Configuration.Tenants.Dto/TenantSettingsEditDto/ValidateHostSettings()",
          "GES_GRT.Logging/WebLogAppService/WebLogAppService(IAppFolders)",
          "GES_GRT.Web/WebUrlService/WebUrlService(ISettingManager)",
          "GES_GRT.Notifications/AppNotifier/WelcomeToTheApplicationAsync(User)",
          "GES_GRT.Util/EnumJsonConverter/WriteJson(JsonWriter,Object,JsonSerializer)",
          "GES_GRT.Extensions/EnumExtension/Yield<T>(T)",
          "GES_GRT.Friendships.Cache/UserFriendCacheSyncronizer/UserFriendCacheSyncronizer(IUserFriendsCache)",
          "GES_GRT.Authorization.Users/UserEmailer/UserEmailer(IEmailTemplateProvider,IEmailSender,IWebUrlService,IRepository<Tenant>,ICurrentUnitOfWorkProvider)",
          "GES_GRT.Authorization.Users/UserAppService/UserAppService(RoleManager,IUserEmailer,IUserListExcelExporter,INotificationSubscriptionManager,IAppNotifier,IRepository<RolePermissionSetting,Int64>,IRepository<UserPermissionSetting,Int64>,IRepository<Client>,IRepository<UserRole,Int64>)",
          "GES_GRT.Web.Controllers/TenantRegistrationController/UseCaptchaOnRegistration()",
          "GES_GRT.Organizations/OrganizationUnitAppService/UpdateOrganizationUnit(UpdateOrganizationUnitInput)",
          "GES_GRT.Authorization.Users.Profile/ProfileAppService/UpdateProfilePicture(UpdateProfilePictureInput)",
          "GES_GRT.Authorization.Roles/RoleAppService/UpdateRoleAsync(CreateOrUpdateRoleInput)",
          "GES_GRT.GRT.LineItems/LineItem/UpdateStatus(WorkflowStatus)",
          "GES_GRT.MultiTenancy/TenantAppService/UpdateTenant(TenantEditDto)",
          "GES_GRT.MultiTenancy/TenantAppService/UpdateTenantFeatures(UpdateTenantFeaturesInput)",
          "GES_GRT.Authorization.Users/UserAppService/UpdateUserAsync(CreateOrUpdateUserInput)",
          "GES_GRT.Authorization.Users/UserAppService/UpdateUserPermissions(UpdateUserPermissionsInput)",
          "GES_GRT.Localization/LanguageAppService/UpdateLanguageText(UpdateLanguageTextInput)",
          "GES_GRT.WebApi.Controllers/ImportClientIncomeComponentsController/UploadClientIncomeComponents()",
          "GES_GRT.WebApi.Controllers/ImportExchangeRatesController/UploadExchangeRates()",
          "GES_GRT.WebApi.Controllers/ImportIncomeComponentsController/UploadIncomeComponents()",
          "GES_GRT.WebApi.Controllers/ImportLineItemsController/UploadLineItems()",
          "GES_GRT.Web.Controllers/ProfileController/UploadProfilePicture()",
          "GES_GRT.WebApi.Controllers.Dto/UploadResultDto/UploadResultDto()",
          "GES_GRT.WebApi.Controllers/TemplateFileController/UploadTemplateFile()",
          "GES_GRT.Web.Views/UrlChecker/UrlChecker()",
          "GES_GRT.Web.Controllers/AccountController/UseCaptchaOnRegistration()",
          "GES_GRT.WebApi.Controllers/ImportEmployeesController/UploadEmployees()",
          "GES_GRT.Web.Chat.SignalR/SignalRChatCommunicator/SignalRChatCommunicator()",
          "GES_GRT.Web.Controllers/TenantRegistrationController/SignInAsync(User,ClaimsIdentity,Boolean)",
          "GES_GRT.Web.Controllers/AccountController/SignInAsync(User,ClaimsIdentity,Boolean)",
          "GES_GRT.IO/AppFileHelper/ReadLines(String)",
          "GES_GRT.LineItems/LineItemAppService/RecalculateLineItems(RecalculateLineItemsInputDto)",
          "GES_GRT.LineItems/LineItemAppService/RecalculateLineItemsByPopup(RecalculateLineItemsByPopupInputDto)",
          "GES_GRT.ReconciliationComments/ReconciliationCommentAppService/ReconciliationCommentAppService(IRepository<Employee>,IRepository<Client>,IRepository<Period>,IRepository<ReconciliationComment>)",
          "GES_GRT.Web.Controllers/AccountController/Register()",
          "GES_GRT.Web.Controllers/TenantRegistrationController/Register(TenantRegistrationViewModel)",
          "GES_GRT.Web.App.Startup/AppBundleConfig/RegisterBundles(BundleCollection)",
          "GES_GRT.Web.Bundling/CommonBundleConfig/RegisterBundles(BundleCollection)",
          "GES_GRT.Web.Bundling/FrontEndBundleConfig/RegisterBundles(BundleCollection)",
          "GES_GRT.Web.Areas.Mpa.Startup/MpaBundleConfig/RegisterBundles(BundleCollection)",
          "GES_GRT.Web.Routing/RouteConfig/RegisterRoutes(RouteCollection)",
          "GES_GRT.Web.Controllers/AccountController/RegisterView(ExternalLoginInfo,String)",
          "GES_GRT.Web.Controllers/AccountController/RegisterView(RegisterViewModel)",
          "GES_GRT.Friendships.Cache/UserFriendsCache/RemoveFriend(UserIdentifier,FriendCacheItem)",
          "GES_GRT.Organizations/OrganizationUnitAppService/RemoveUserFromOrganizationUnit(UserToOrganizationUnitInput)",
          "GES_GRT.Web.Controllers/AccountController/ResetPassword(ResetPasswordFormViewModel)",
          "GES_GRT.Web.Controllers/AccountController/ResetPassword(ResetPasswordViewModel)",
          "GES_GRT.Util/EnumJsonConverter/ReadJson(JsonReader,Type,Object,JsonSerializer)",
          "GES_GRT.Util/Range/Range()",
          "GES_GRT.MultiTenancy.Demo/RandomUserGenerator/RandomUserGenerator()",
          "GES_GRT.Web.Controllers/ProfileController/ProfileController(UserManager,IBinaryObjectManager,IAppFolders,IFriendshipManager)",
          "GES_GRT.WebApi.Controllers/ImportEmployeesController/ParseCarRows(Client,Range[])",
          "GES_GRT.Periods/PeriodAppService/GetPeriods(Int32)",
          "GES_GRT.WebApi.Controllers/ImportIncomeComponentsController/ParseIncomeComponentFileData(Collection<MultipartFileData>)",
          "GES_GRT.WebApi.Controllers/ImportIncomeComponentsController/ParseIncomeComponentRows(Range[])",
          "GES_GRT.WebApi.Controllers/ImportLineItemsController/ParseLineItemFileData(Collection<MultipartFileData>,Int32)",
          "GES_GRT.WebApi.Controllers/ImportLineItemsController/ParseLineItemRows(Client,Range[])",
          "GES_GRT.WebApi.Controllers/ImportEmployeesController/ParseWorkdayRows(Client,Range[])",
          "GES_GRT.Periods/PeriodAppService/PeriodAppService(IRepository<Period>,IRepository<Client>)",
          "GES_GRT.MultiTenancy/TenantAppService/ResetTenantSpecificFeatures(EntityRequestInput)",
          "GES_GRT.Authorization/PermissionChecker/PermissionChecker(UserManager)",
          "GES_GRT.Web/GES_GRTWebModule/PostInitialize()",
          "GES_GRT/GES_GRTApplicationModule/PreInitialize()",
          "GES_GRT/GES_GRTCoreModule/PreInitialize()",
          "GES_GRT.WebApi/GES_GRTWebApiModule/PreInitialize()",
          "GES_GRT.Web/GES_GRTWebModule/PreInitialize()",
          "GES_GRT.Web.Bundling/CssRewriteUrlWithVirtualDirectoryTransform/Process(String,String)",
          "GES_GRT.Authorization.Users.Profile/ProfileAppService/ProfileAppService(IAppFolders,IBinaryObjectManager,ITimeZoneService)",
          "GES_GRT.Web.Areas.Mpa.Controllers/ProfileController/ProfileController(IProfileAppService,ITimingAppService)",
          "GES_GRT.Web.Areas.Mpa.Controllers/UsersController/PermissionsModal(Int64)",
          "GES_GRT.Authorization.Users/UserAppService/ResetUserSpecificPermissions(IdInput<Int64>)",
          "GES_GRT.Web/MvcApplication/RestoreUserLanguage()",
          "GES_GRT.Authorization.Roles/Role/Role(Nullable<Int32>,String,String)",
          "GES_GRT.Employees.Exporting/EmployeeListExcelExporter/SetClientIncomeComponentSheet(ExcelPackage,List<EmployeeOutputDto>)",
          "GES_GRT.Util/Range/SetColumnType(String,CellValues)",
          "GES_GRT.Util/LineItemUtilities/SetContractTypeAmounts(LineItem,Decimal)",
          "GES_GRT.Localization/LanguageAppService/SetDefaultLanguage(SetDefaultLanguageInput)",
          "GES_GRT.Employees/EmployeeAppService/SetEmployeeCars(EmployeeInputDto,Employee)",
          "GES_GRT.Employees.Exporting/EmployeeListExcelExporter/SetEmployeeSheet(ExcelPackage,List<EmployeeOutputDto>)",
          "GES_GRT.Editions/EditionAppService/SetFeatureValues(Edition,List<NameValueDto>)",
          "GES_GRT.Web.App.Startup/AppNavigationProvider/SetNavigation(INavigationProviderContext)",
          "GES_GRT.LineItems/LineItemAppService/SetAllStatusesTo(Int32,Int32,Int32)",
          "GES_GRT.Web.Navigation/FrontEndNavigationProvider/SetNavigation(INavigationProviderContext)",
          "GES_GRT.Notifications/NotificationAppService/SetNotificationAsRead(IdInput<Guid>)",
          "GES_GRT.Authorization/AppAuthorizationProvider/SetPermissions(IPermissionDefinitionContext)",
          "GES_GRT.LineItems/LineItemAppService/SetSingleStatusTo(Int32,Int32)",
          "GES_GRT.Web/MvcApplication/SetTentantId()",
          "GES_GRT.Employees/EmployeeAppService/SetWorkdayAllocations(EmployeeInputDto,Employee)",
          "GES_GRT.Employees.Exporting/EmployeeListExcelExporter/SetWorkdaysSheet(ExcelPackage,List<EmployeeOutputDto>,Nullable<DateTime>,Nullable<DateTime>)",
          "GES_GRT.Web.Areas.Mpa.Controllers/SettingsController/SettingsController(ITenantSettingsAppService,IMultiTenancyConfig,ITimingAppService)",
          "GES_GRT.Web.Areas.Mpa.Controllers/NotificationsController/SettingsModal()",
          "GES_GRT.Web.Areas.Mpa.Startup/MpaNavigationProvider/SetNavigation(INavigationProviderContext)",
          "GES_GRT.Util/LineItemUtilities/OnMappingChanged(ClientIncomeComponent,IRepository<LineItem>)",
          "GES_GRT.Web/MvcApplication/Session_Start(Object,EventArgs)",
          "GES_GRT.Authorization.Users/UserEmailer/SendPasswordResetLinkAsync(User)",
          "GES_GRT.Authorization.Roles/RoleAppService/RoleAppService(RoleManager)",
          "GES_GRT.Authorization.Roles/RoleManager/RoleManager(RoleStore,IPermissionManager,IRoleManagementConfig,ICacheManager,IUnitOfWorkManager)",
          "GES_GRT.DataExporting.Excel.EpPlus/EpPlusExcelExporterBase/Save(ExcelPackage,FileDto)",
          "GES_GRT.Storage/DbBinaryObjectManager/SaveAsync(BinaryObject)",
          "GES_GRT.WebApi.Controllers/ImportClientIncomeComponentsController/SaveClientIncomeComponents(MultipartFormDataStreamProvider,Int32)",
          "GES_GRT.WebApi.Controllers/ImportEmployeesController/SaveEmployees(MultipartFormDataStreamProvider,Int32)",
          "GES_GRT.WebApi.Controllers/TemplateFileController/SaveFile(MultipartFormDataStreamProvider)",
          "GES_GRT.Web.Controllers/AccountController/SaveImpersonationTokenAndGetTargetUrl(Nullable<Int32>,Int64,Boolean)",
          "GES_GRT.Configuration.Host/HostSettingsAppService/SendTestEmail(SendTestEmailInput)",
          "GES_GRT.WebApi.Controllers/ImportIncomeComponentsController/SaveIncomeComponents(MultipartFormDataStreamProvider)",
          "GES_GRT.Web.Chat.SignalR/SignalRChatCommunicator/SendAllUnreadMessagesOfUserReadToClients(IReadOnlyList<IOnlineClient>,UserIdentifier)",
          "GES_GRT.Web.Controllers/AccountController/SendEmailActivationLink(SendEmailActivationLinkViewModel)",
          "GES_GRT.Web.Chat.SignalR/SignalRChatCommunicator/SendFriendshipRequestToClient(IReadOnlyList<IOnlineClient>,Friendship,Boolean,Boolean)",
          "GES_GRT.Web.Chat.SignalR/ChatHub/SendMessage(SendChatMessageInput)",
          "GES_GRT.Chat/ChatMessageManager/SendMessage(UserIdentifier,UserIdentifier,String,String,String,Nullable<Guid>)",
          "GES_GRT.Notifications/AppNotifier/SendMessageAsync(UserIdentifier,String,NotificationSeverity)",
          "GES_GRT.Web.Chat.SignalR/SignalRChatCommunicator/SendMessageToClient(IReadOnlyList<IOnlineClient>,ChatMessage)",
          "GES_GRT.Web.Controllers/AccountController/SendPasswordResetLink(SendPasswordResetLinkViewModel)",
          "GES_GRT.WebApi.Controllers/ImportLineItemsController/SaveLineItems(MultipartFormDataStreamProvider,Int32)",
          "GES_GRT.Periods/PeriodAppService/GetPeriodOverview()",
          "GES_GRT.Extensions/EnumExtension/GetShortName(Enum)",
          "GES_GRT.Util/LineItemUtilities/GetPayCycleDenominator(LineItem)",
          "GES_GRT.GeneralComments/GeneralCommentAppService/CreateOrUpdateGeneralComment(GeneralCommentInputDto)",
          "GES_GRT.IncomeComponents/IncomeComponentAppService/CreateOrUpdateIncomeComponent(IncomeComponentInputDto)",
          "GES_GRT.Localization/LanguageAppService/CreateOrUpdateLanguage(CreateOrUpdateLanguageInput)",
          "GES_GRT.LineItems/LineItemAppService/CreateOrUpdateLineItem(LineItemInputDto)",
          "GES_GRT.Authorization.Roles/RoleAppService/CreateOrUpdateRole(CreateOrUpdateRoleInput)",
          "GES_GRT.Authorization.Users/UserAppService/CreateOrUpdateUser(CreateOrUpdateUserInput)",
          "GES_GRT.Organizations/OrganizationUnitAppService/CreateOrganizationUnit(CreateOrganizationUnitInput)",
          "GES_GRT.Editions/EditionAppService/CreateOrUpdateEdition(CreateOrUpdateEditionDto)",
          "GES_GRT.Web.Areas.Mpa.Models.OrganizationUnits/CreateOrganizationUnitModalViewModel/CreateOrganizationUnitModalViewModel(Nullable<Int64>)",
          "GES_GRT.ReconciliationComments/ReconciliationCommentAppService/CreateReconciliationComment(ReconciliationCommentInputDto)",
          "GES_GRT.Authorization.Roles/RoleAppService/CreateRoleAsync(CreateOrUpdateRoleInput)",
          "GES_GRT.Util/ExcelUtilities/CreateRow(Object[],Nullable<CellValues>[],UInt32,Int32,Int32,WorksheetPart)",
          "GES_GRT.Employees/EmployeeAppService/CreateStatutoryDirectorComment(String,String,Employee)",
          "GES_GRT.MultiTenancy/TenantAppService/CreateTenant(CreateTenantInput)",
          "GES_GRT.Authorization.Users/User/CreateTenantAdminUser(Int32,String,String)",
          "GES_GRT.Web.Areas.Mpa.Models.Tenants/CreateTenantViewModel/CreateTenantViewModel(IReadOnlyList<ComboboxItemDto>)",
          "GES_GRT.Authorization.Users/User/CreateRandomPassword()",
          "GES_GRT.Web/Startup/CreateTwitterAuthOptions()",
          "GES_GRT.ClientIncomeComponentGroups/ClientIncomeComponentGroupAppService/CreateOrUpdateClientIncomeComponentGroup(ClientIncomeComponentGroupInputDto)",
          "GES_GRT.Clients/ClientAppService/CreateOrUpdateClient(ClientInputDto)",
          "GES_GRT.Editions/EditionAppService/CreateEditionAsync(CreateOrUpdateEditionDto)",
          "GES_GRT.Employees/EmployeeAppService/CreateEmployeeAsync(EmployeeInputDto)",
          "GES_GRT.Authorization/AbpLoginResultTypeHelper/CreateExceptionForFailedLoginAttempt(AbpLoginResultType,String,String)",
          "GES_GRT.Web/Startup/CreateFacebookAuthOptions()",
          "GES_GRT.Localization/LanguageAppService/CreateLanguageAsync(CreateOrUpdateLanguageInput)",
          "GES_GRT.LineItems/LineItemAppService/CreateLineItemAsync(LineItemInputDto)",
          "GES_GRT/CustomDtoMapper/CreateMappings(IMapperConfigurationExpression)",
          "GES_GRT.ClientExchangeRates/ClientExchangeRateAppService/CreateOrUpdateClientExchangeRate(ClientExchangeRateInputDto)",
          "GES_GRT/CustomDtoMapper/CreateMappingsInternal(IMapperConfigurationExpression)",
          "GES_GRT.Web.Areas.Mpa.Controllers/OrganizationUnitsController/CreateModal(Nullable<Int64>)",
          "GES_GRT.ClientIncomeComponents/ClientIncomeComponentAppService/CreateMultipleClientIncomeComponents(List<Int32>,Int32)",
          "GES_GRT.Web.Areas.Mpa.Controllers/EditionsController/CreateOrEditModal(Nullable<Int32>)",
          "GES_GRT.Web.Areas.Mpa.Controllers/RolesController/CreateOrEditModal(Nullable<Int32>)",
          "GES_GRT.Web.Areas.Mpa.Controllers/UsersController/CreateOrEditModal(Nullable<Int64>)",
          "GES_GRT.Web.Areas.Mpa.Models.Roles/CreateOrEditRoleModalViewModel/CreateOrEditRoleModalViewModel(GetRoleForEditOutput)",
          "GES_GRT.Web.Areas.Mpa.Models.Users/CreateOrEditUserModalViewModel/CreateOrEditUserModalViewModel(GetUserForEditOutput)",
          "GES_GRT.Web.Areas.Mpa.Controllers/TenantsController/CreateModal()",
          "GES_GRT.MultiTenancy.Demo/RandomUserGenerator/CreateUser(Nullable<Int32>,String)",
          "GES_GRT.MultiTenancy/TenantManager/CreateWithAdminUserAsync(String,String,String,String,String,Boolean,Nullable<Int32>,Boolean,Boolean)",
          "GES_GRT.DataExporting.Excel.EpPlus/EpPlusExcelExporterBase/CreateXlsmExcelPackageFromTemplateFile(FileInfo,Action<ExcelPackage>)",
          "GES_GRT.Employees.Exporting/EmployeeListExcelExporter/EmployeeListExcelExporter(IRepository<LineItem>,IRepository<ClientIncomeComponent>,IRepository<GeneralComment>,IRepository<Employee>,IAppFolders)",
          "GES_GRT.Employees.Dto/EmployeeOutputDto/EmployeeOutputDto()",
          "GES_GRT.Util/EnumJsonConverter/EnumJsonConverter()",
          "GES_GRT.Extensions/DynamicQueryableExtensions+SimpleTypeComparer/Equals(Type,Type)",
          "GES_GRT.Util/ExcelData/ExcelData()",
          "GES_GRT.ExchangeRates/ExchangeRateAppService/ExchangeRateAppService(IRepository<ExchangeRate>,IRepository<Currency>,IRepository<Period>)",
          "GES_GRT.WebApi.Helpers/TextResult/ExecuteAsync(CancellationToken)",
          "GES_GRT.Employees.Dto/EmployeeInputDto/EmployeeInputDto()",
          "GES_GRT.Web.Controllers.Results/ChallengeResult/ExecuteResult(ControllerContext)",
          "GES_GRT.Authorization.Users.Exporting/UserListExcelExporter/ExportToFile(List<UserListDto>)",
          "GES_GRT.Employees.Exporting/EmployeeListExcelExporter/ExportToXlsmFile(List<EmployeeOutputDto>,Nullable<DateTime>,Nullable<DateTime>,User)",
          "GES_GRT.Web.Controllers/AccountController/ExternalLogin(String,String)",
          "GES_GRT.Web.Controllers/AccountController/ExternalLoginCallback(String,String)",
          "GES_GRT.Localization/FamFamFamFlagsHelper/FamFamFamFlagsHelper()",
          "GES_GRT.Web.Areas.Mpa.Controllers/TenantsController/FeaturesModal(Int32)",
          "GES_GRT.Web.Controllers/FileController/FileController(IAppFolders)",
          "GES_GRT.Auditing.Exporting/AuditLogListExcelExporter/ExportToFile(List<AuditLogListDto>)",
          "GES_GRT.Employees/EmployeeAppService/EmployeeAppService(IRepository<Employee>,IRepository<Country>,IRepository<Client>,IRepository<EmployeeCar>,IRepository<Period>,IEmployeeListExcelExporter,IRepository<ExchangeRate>,IRepository<ClientExchangeRate>,IRepository<LineItem>,IRepository<IncomeComponent>,IRepository<ClientIncomeComponent>,IRepository<GeneralComment>)",
          "GES_GRT.Web.Controllers/AccountController/EmailConfirmation(EmailConfirmationViewModel)",
          "GES_GRT.Web.Areas.Mpa.Controllers/LanguagesController/EditTextModal(String,String,String,String)",
          "GES_GRT.Web.Bundling/CssRewriteUrlWithVirtualDirectoryTransform/CssRewriteUrlWithVirtualDirectoryTransform()",
          "GES_GRT.Storage/DbBinaryObjectManager/DbBinaryObjectManager(IRepository<BinaryObject,Guid>)",
          "GES_GRT.Extensions/DecimalPrecision/DecimalPrecision(Byte,Byte)",
          "GES_GRT.Storage/DbBinaryObjectManager/DeleteAsync(Guid)",
          "GES_GRT.Clients/ClientAppService/DeleteClient(EntityDto)",
          "GES_GRT.ClientExchangeRates/ClientExchangeRateAppService/DeleteClientExchangeRate(EntityDto)",
          "GES_GRT.ClientIncomeComponents/ClientIncomeComponentAppService/DeleteClientIncomeComponent(EntityDto)",
          "GES_GRT.ClientIncomeComponentGroups/ClientIncomeComponentGroupAppService/DeleteClientIncomeComponentFromGroup(ClientIncomeComponentGroup,Int32)",
          "GES_GRT.ClientIncomeComponentGroups/ClientIncomeComponentGroupAppService/DeleteClientIncomeComponentGroup(EntityDto)",
          "GES_GRT.GeneralComments/GeneralCommentAppService/DeleteGeneralComment(EntityDto)",
          "GES_GRT.IncomeComponents/IncomeComponentAppService/DeleteIncomeComponent(EntityDto)",
          "GES_GRT.LineItems/LineItemAppService/DeleteLineItem(EntityDto)",
          "GES_GRT.LineItems/LineItemAppService/DeleteLineItemsByPeriod(DeletePeriodLineItemsDto)",
          "GES_GRT.Clients/ClientAppService/GetPayLocations(Int32)",
          "GES_GRT.ClientExchangeRates/ClientExchangeRateAppService/EditClientExchangeRateAsync(ClientExchangeRateInputDto)",
          "GES_GRT.GeneralComments/GeneralCommentAppService/EditGeneralComment(GeneralCommentInputDto)",
          "GES_GRT.IncomeComponents/IncomeComponentAppService/EditIncomeComponentAsync(IncomeComponentInputDto)",
          "GES_GRT.LineItems/LineItemAppService/CreateCompanyCarLineItems(Int32)",
          "GES_GRT.Dto/FileDto/FileDto()",
          "GES_GRT.ClientIncomeComponentGroups/ClientIncomeComponentGroupAppService/CreateClientIncomeComponentGroupAsync(ClientIncomeComponentGroupInputDto)",
          "GES_GRT.ClientExchangeRates/ClientExchangeRateAppService/CreateClientExchangeRateAsync(ClientExchangeRateInputDto)",
          "GES_GRT.Web.Auth/ApplicationSignInManager/ApplicationSignInManager(UserManager,IAuthenticationManager)",
          "GES_GRT.Web/MvcApplication/Application_AuthenticateRequest(Object,EventArgs)",
          "GES_GRT.Web/MvcApplication/Application_Start(Object,EventArgs)",
          "GES_GRT.Authorization.Users/UserLinkManager/AreUsersLinked(UserIdentifier,UserIdentifier)",
          "GES_GRT.Runtime.Session/AspNetZeroAbpSession/AspNetZeroAbpSession(IMultiTenancyConfig)",
          "GES_GRT.Auditing/AuditLogAppService/AuditLogAppService(IRepository<AuditLog,Int64>,IRepository<User,Int64>,IAuditLogListExcelExporter,INamespaceStripper)",
          "GES_GRT.WebApi.Controllers/AccountController/Authenticate(LoginModel)",
          "GES_GRT.Notifications/AppNotifier/AppNotifier(INotificationPublisher)",
          "GES_GRT.Employees/EmployeeAppService/AutoGenerateEmployeeId(EmployeeInputDto)",
          "GES_GRT.Storage/BinaryObject/BinaryObject(Nullable<Int32>,Byte[])",
          "GES_GRT.Friendships/FriendshipAppService/BlockUser(BlockUserInput)",
          "GES_GRT.Employees/EmployeeAppService/BulkDeleteEmployees(List<Int32>)",
          "GES_GRT.Clients/ClientAppService/CanSaveClient(Int32,String)",
          "GES_GRT.IncomeComponents/IncomeComponentAppService/CanSaveIncomeComponentWithLabelAndStartDate(Int32,String,DateTime)",
          "GES_GRT.Web.Controllers.Results/ChallengeResult/ChallengeResult(String,String)",
          "GES_GRT.Web.Controllers.Results/ChallengeResult/ChallengeResult(String,String,String)",
          "GES_GRT.Web.Controllers/AccountController/BackToImpersonator()",
          "GES_GRT.Authorization.Users.Profile/ProfileAppService/ChangePassword(ChangePasswordInput)",
          "GES_GRT.Authorization.Ldap/AppLdapAuthenticationSource/AppLdapAuthenticationSource(ILdapSettings,IAbpZeroLdapModuleConfig)",
          "GES_GRT.Authorization/AppAuthorizationProvider/AppAuthorizationProvider(Boolean)",
          "GES_GRT.Friendships/FriendshipManager/AcceptFriendshipRequest(UserIdentifier,UserIdentifier)",
          "GES_GRT.WebApi.Controllers/AccountController/AccountController()",
          "GES_GRT.WebApi.Controllers/AccountController/AccountController(UserManager,AbpLoginResultTypeHelper)",
          "GES_GRT.Web.Controllers/AccountController/AccountController(UserManager,IMultiTenancyConfig,IUserEmailer,RoleManager,TenantManager,IUnitOfWorkManager,ITenancyNameFinder,ICacheManager,IAppNotifier,IWebUrlService,AbpLoginResultTypeHelper,IUserLinkManager,INotificationSubscriptionManager)",
          "GES_GRT.Web.App.Startup/AppBundleConfig/AddAppCssLibs(BundleCollection,Boolean)",
          "GES_GRT.Web.Areas.Mpa.Startup/MpaBundleConfig/AddAppMetrinicCss(BundleCollection,Boolean)",
          "GES_GRT.Web.App.Startup/AppBundleConfig/AddAppMetronicCss(BundleCollection,Boolean)",
          "GES_GRT.Authorization/AppAuthorizationProvider/AppAuthorizationProvider(IMultiTenancyConfig)",
          "GES_GRT.Friendships.Cache/UserFriendsCache/AddFriend(UserIdentifier,FriendCacheItem)",
          "GES_GRT.Web.Bundling/FrontEndBundleConfig/AddFrontendCssMetronic(BundleCollection,Boolean)",
          "GES_GRT.DataExporting.Excel.EpPlus/EpPlusExcelExporterBase/AddHeader(ExcelWorksheet,Int32,String)",
          "GES_GRT.DataExporting.Excel.EpPlus/EpPlusExcelExporterBase/AddHeader(ExcelWorksheet,String[])",
          "GES_GRT.LineItems/LineItemAppService/AddManualValueForLineItem(AddManualValueLineItemDto)",
          "GES_GRT.Web.Areas.Mpa.Startup/MpaBundleConfig/AddMpaCssLibs(BundleCollection,Boolean)",
          "GES_GRT.DataExporting.Excel.EpPlus/EpPlusExcelExporterBase/AddObjects<T>(ExcelWorksheet,Int32,IList<T>,Func<T,Object>[])",
          "GES_GRT.Organizations/OrganizationUnitAppService/AddUserToOrganizationUnit(UserToOrganizationUnitInput)",
          "GES_GRT.Web.Bundling/FrontEndBundleConfig/AddFrontendCssLibs(BundleCollection,Boolean)",
          "GES_GRT.Web.Areas.Mpa.Controllers/ProfileController/ChangePasswordModal()",
          "GES_GRT.Web.Controllers/ProfileController/ChangeProfilePicture()",
          "GES_GRT.Web.Chat.SignalR/ChatHub/ChatHub(IChatMessageManager,ILocalizationManager)",
          "GES_GRT.ClientIncomeComponents.Dto/ClientIncomeComponentOutputDto/ClientIncomeComponentOutputDto()",
          "GES_GRT.Clients.Dto/ClientInputDto/ClientInputDto()",
          "GES_GRT.Clients.Dto/ClientOutputDto/ClientOutputDto()",
          "GES_GRT.Common/CommonLookupAppService/CommonLookupAppService(EditionManager,IRepository<Client>)",
          "GES_GRT.Util/ExcelUtilities/CompareColumn(String,String)",
          "GES_GRT.Web/Startup/Configuration(IAppBuilder)",
          "GES_GRT.Authorization.Roles/AppRoleConfig/Configure(IRoleManagementConfig)",
          "GES_GRT.ClientIncomeComponents.Dto/ClientIncomeComponentInputDto/ClientIncomeComponentInputDto()",
          "GES_GRT.WebApi/GES_GRTWebApiModule/ConfigureOData()",
          "GES_GRT.Friendships.Cache/FriendCacheItemExtensions/ContainsFriend(List<FriendCacheItem>,FriendCacheItem)",
          "GES_GRT.Auditing/AuditLogAppService/ConvertToAuditLogListDtos(List<AuditLogAndUser>)",
          "GES_GRT.Settings/CountryAppService/CountryAppService(IRepository<Country>)",
          "GES_GRT.LineItems/LineItemAppService/CreateCarLineItemForPeriod(Employee,ClientIncomeComponent,EmployeeCar,Period,Currency,LineItem)",
          "GES_GRT.Util/ExcelUtilities/CreateCell(Object,Nullable<CellValues>,UInt32,Int32,WorksheetPart)",
          "GES_GRT.Util/ImportUtilities/CreateCellRanges(String,String)",
          "GES_GRT.Web.Controllers/GALoginController/CreateClaimsIdentity(User,String)",
          "GES_GRT.WebApi/GES_GRTWebApiModule/ConfigureSwaggerUi()",
          "GES_GRT.ClientIncomeComponentGroups.Dto/ClientIncomeComponentGroupSuperSimpleDto/ClientIncomeComponentGroupSuperSimpleDto()",
          "GES_GRT.ClientIncomeComponentGroups.Dto/ClientIncomeComponentGroupSimpleDto/ClientIncomeComponentGroupSimpleDto()",
          "GES_GRT.ClientIncomeComponentGroups.Dto/ClientIncomeComponentGroupInputDto/ClientIncomeComponentGroupInputDto()",
          "GES_GRT.Chat/ChatMessage/ChatMessage(UserIdentifier,UserIdentifier,ChatSide,String,ChatMessageReadState)",
          "GES_GRT.Friendships/ChatUserStateWatcher/ChatUserStateWatcher(IChatCommunicator,IUserFriendsCache,IOnlineClientManager)",
          "GES_GRT.Chat/ChatFeatureChecker/CheckChatFeatures(Nullable<Int32>,Nullable<Int32>)",
          "GES_GRT.Chat/ChatFeatureChecker/CheckChatFeaturesInternal(Nullable<Int32>,Nullable<Int32>,ChatSide)",
          "GES_GRT/GES_GRTAppServiceBase/CheckErrors(IdentityResult)",
          "GES_GRT.Web.Controllers/GES_GRTControllerBase/CheckErrors(IdentityResult)",
          "GES_GRT.MultiTenancy/TenantManager/CheckErrors(IdentityResult)",
          "GES_GRT.Localization/LanguageAppService/CheckLanguageIfAlreadyExists(String,Nullable<Int32>)",
          "GES_GRT.LineItems/LineItemAppService/CheckLineItemsForRecalculation(RecalculateCheckInputDto)",
          "GES_GRT.Authorization.Users.Profile/ProfileAppService/CheckPasswordComplexity(String)",
          "GES_GRT.Web.Controllers/AccountController/CheckSelfRegistrationIsEnabled()",
          "GES_GRT.Caching/CachingAppService/ClearAllCaches()",
          "GES_GRT.GRT.Clients/Client/Client()",
          "GES_GRT.Clients/ClientAppService/ClientAppService(IRepository<Client>,IRepository<Country>,IRepository<PayLocation>,IRepository<SourceIndication>)",
          "GES_GRT.ClientExchangeRates/ClientExchangeRateAppService/ClientExchangeRateAppService(IRepository<ClientExchangeRate>,IRepository<Client>,IRepository<Currency>,IRepository<Period>)",
          "GES_GRT.GRT.ClientIncomeComponents/ClientIncomeComponent/ClientIncomeComponent()",
          "GES_GRT.ClientIncomeComponents.Dto/ClientIncomeComponentExportOutputDto/ClientIncomeComponentExportOutputDto()",
          "GES_GRT.ClientIncomeComponents/ClientIncomeComponentAppService/CreateClientIncomeComponentAsync(ClientIncomeComponentInputDto)",
          "GES_GRT.Dto/FileDto/FileDto(String,String)",
          "GES_GRT.Organizations/OrganizationUnitAppService/hasPermission(User,Client)",
          "GES_GRT.Common/CommonLookupAppService/FindClients(FindClientsInput)",
          "GES_GRT.WebApi.Helpers/ApiReflectionHelper/GetHttpMethod(MethodInfo)",
          "GES_GRT.ClientExchangeRates/ClientExchangeRateAppService/GetClientExchangeRates(GetClientExchangeRatesInput)",
          "GES_GRT.ClientExchangeRates/ClientExchangeRateAppService/GetClientExchangeRateForEdit(NullableIdInput<Int32>)",
          "GES_GRT.IncomeComponents/IncomeComponentAppService/GetIncomeComponentForEdit(NullableIdInput<Int32>)",
          "GES_GRT.Util/ImportUtilities/GetCellValue(Object[],Int32,Boolean)",
          "GES_GRT.Util/ImportUtilities/GetCellStringValue(Object[],Int32,Boolean)",
          "GES_GRT.Util/ExcelUtilities/GetCellName(Int32,UInt32)",
          "GES_GRT.IncomeComponents/IncomeComponentAppService/GetIncomeComponents(GetIncomeComponentsInput)",
          "GES_GRT.Util/ImportUtilities/GetCellDecimalValue(Object[],Int32,Boolean)",
          "GES_GRT.Util/ImportUtilities/GetCellDateTimeValue(Object[],Int32,Boolean)",
          "GES_GRT.Util/ImportUtilities/GetCellBooleanValue(Object[],Int32,Boolean)",
          "GES_GRT.Clients/ClientAppService/GetClientForEdit(NullableIdInput<Int32>)",
          "GES_GRT.Friendships.Cache/UserFriendsCache/GetCacheItemOrNull(UserIdentifier)",
          "GES_GRT.Auditing/AuditLogAppService/GetAuditLogs(GetAuditLogsInput)",
          "GES_GRT.WebApi.Helpers/ApiReflectionHelper/GetApiControllers()",
          "GES_GRT.Localization/LanguageAppService/GetLanguageTexts(GetLanguageTextsInput)",
          "GES_GRT.Configuration.Host/HostSettingsAppService/GetAllSettings()",
          "GES_GRT.Localization.Dto/GetLanguagesOutput/GetLanguagesOutput(IReadOnlyList<ApplicationLanguageListDto>,String)",
          "GES_GRT.Authorization.Permissions/PermissionAppService/GetAllPermissions()",
          "GES_GRT.Employees/EmployeeAppService/GetAllEmployees(Int32)",
          "GES_GRT.Logging/WebLogAppService/GetLatestWebLogs()",
          "GES_GRT.LineItems/LineItemAppService/GetLineItemForEdit(NullableIdInput<Int32>)",
          "GES_GRT.Caching/CachingAppService/GetAllCaches()",
          "GES_GRT.LineItems/LineItemAppService/GetAlerts(GetAlertInput)",
          "GES_GRT.Friendships.Cache/UserFriendsCache/GetCacheItem(UserIdentifier)",
          "GES_GRT.ClientIncomeComponents/ClientIncomeComponentAppService/GetClientIncomeComponentForEdit(NullableIdInput<Int32>)",
          "GES_GRT.ClientIncomeComponentGroups/ClientIncomeComponentGroupAppService/GetClientIncomeComponentGroupForEdit(NullableIdInput<Int32>)",
          "GES_GRT.Extensions/DynamicQueryableExtensions+SimpleTypeComparer/GetHashCode(Type)",
          "GES_GRT.Timing/TimeZoneService/GetDefaultTimezoneAsync(SettingScopes,Nullable<Int32>)",
          "GES_GRT.Util/EnumJsonConverter/GetDefaultValue(Type)",
          "GES_GRT.Extensions/EnumExtension/GetDescription(Enum)",
          "GES_GRT.Extensions/EnumExtension/GetDescriptions(Enum,String)",
          "GES_GRT.Editions/EditionAppService/GetEditionComboboxItems(Nullable<Int32>)",
          "GES_GRT.Editions/EditionAppService/GetEditionForEdit(NullableIdInput)",
          "GES_GRT.Editions/EditionAppService/GetEditions()",
          "GES_GRT.Employees/EmployeeAppService/GetEmployeeForEdit(NullableIdInput<Int32>)",
          "GES_GRT.Web.MultiTenancy/TenantIdAccessor/GetCurrentTenantIdOrNull(Boolean)",
          "GES_GRT.Employees/EmployeeAppService/GetEmployeeWithCars(NullableIdInput<Int32>)",
          "GES_GRT.Employees/EmployeeAppService/GetEmployees(GetEmployeesInput)",
          "GES_GRT.Employees/EmployeeAppService/GetEmployeesToExcel(GetExportEmployeesInput)",
          "GES_GRT.ExchangeRates/ExchangeRateAppService/GetExchangeRates(GetExchangeRatesInput)",
          "GES_GRT.Util/LineItemUtilities/GetFiscalAdditionPercentage(TaxationType,Boolean)",
          "GES_GRT.Authorization.Users/UserAppService/FillRoleNames(List<UserListDto>)",
          "GES_GRT.Web.MultiTenancy/SubdomainTenancyNameFinder/GetCurrentSiteRootAddress()",
          "GES_GRT.Services/ExchangeRateService/GetCurrencyListFromWeb(DateTime&)",
          "GES_GRT.Extensions/EnumExtension/GetFlagValues<T>()",
          "GES_GRT.Extensions/EnumExtension/GetFlags<T>(T)",
          "GES_GRT.Extensions/EnumExtension/GetFlags<T>(T,T[])",
          "GES_GRT.WebApi.Helpers/ApiReflectionHelper/GetConventionalServiceName(Type)",
          "GES_GRT.Web.Controllers/ProfileController/GetFriendProfilePictureById(Int64,Nullable<Int32>,String)",
          "GES_GRT.Friendships/FriendshipManager/GetFriendshipOrNull(UserIdentifier,UserIdentifier)",
          "GES_GRT.GeneralComments/GeneralCommentAppService/GetGeneralCommentForEdit(NullableIdInput<Int32>)",
          "GES_GRT.GeneralComments/GeneralCommentAppService/GetGeneralComments(GetGeneralCommentsInput)",
          "GES_GRT.Web.Controllers/AccountController/GetActiveTenantAsync(String)",
          "GES_GRT.Web.Auth/TwitterEmailRetriever/Get(String,String,String,String)",
          "GES_GRT.Auditing/AuditLogAppService/GetAuditLogsToExcel(GetAuditLogsInput)",
          "GES_GRT.MultiTenancy.Demo/RandomUserGenerator/GenerateUsername(String)",
          "GES_GRT.Web.Bundling/ScriptPaths/GetLocalizationFileForjQueryValidationOrNull(String)",
          "GES_GRT.Web.Controllers/AccountController/GetLoginResultAsync(String,String,String)",
          "GES_GRT.WebApi.Controllers/AccountController/GetLoginResultAsync(String,String,String)",
          "GES_GRT.Web.Controllers/TenantRegistrationController/GetLoginResultAsync(String,String,String)",
          "GES_GRT.Tenants.Dashboard/TenantDashboardAppService/GetMemberActivity()",
          "GES_GRT.Web.Views/GES_GRTWebViewPageBase<TModel>/GES_GRTWebViewPageBase()",
          "GES_GRT.Extensions/DynamicQueryableExtensions/GetMethodEx(Type,String,Type[],Int32)",
          "GES_GRT/GES_GRTServiceBase/GES_GRTServiceBase()",
          "GES_GRT.Notifications.Dto/GetNotificationsOutput/GetNotificationsOutput(Int32,Int32,List<UserNotification>)",
          "GES_GRT/GES_GRTDomainServiceBase/GES_GRTDomainServiceBase()",
          "GES_GRT.Storage/DbBinaryObjectManager/GetOrNullAsync(Guid)",
          "GES_GRT.Web.Controllers/GES_GRTControllerBase/GES_GRTControllerBase()",
          "GES_GRT.GeneralComments/GeneralCommentAppService/GeneralCommentAppService(IRepository<Employee>,IRepository<Client>,IRepository<GeneralComment>)",
          "GES_GRT/GES_GRTAppServiceBase/GES_GRTAppServiceBase()",
          "GES_GRT.Web.Controllers/GALoginController/GALoginController(UserManager,IRepository<User,Int64>)",
          "GES_GRT.GRT.Employees/Employee/FullName()",
          "GES_GRT.Friendships/FriendshipManager/FriendshipManager(IRepository<Friendship,Int64>)",
          "GES_GRT.Util/LineItemUtilities/GetOverlappingDays(DateTime,DateTime,DateTime,DateTime)",
          "GES_GRT.Friendships/Friendship/Friendship(UserIdentifier,UserIdentifier,String,String,Nullable<Guid>,FriendshipState)",
          "GES_GRT.Friendships/Friendship/Friendship()",
          "GES_GRT.Authorization.Users.Profile/ProfileAppService/GetPasswordComplexitySetting()",
          "GES_GRT.Web.Controllers/AccountController/ForgotPassword()",
          "GES_GRT.Web.Bundling/BundleExtensions/ForceOrdered(Bundle)",
          "GES_GRT.Web.Areas.Mpa.Controllers/LayoutController/Footer()",
          "GES_GRT.Common/CommonLookupAppService/FindUsers(FindUsersInput)",
          "GES_GRT.Web.Controllers/AccountController/FindPossibleTenantsOfUserAsync(UserLoginInfo)",
          "GES_GRT.WebApi/GES_GRTApiControllerBase/GES_GRTApiControllerBase()",
          "GES_GRT.Web.Bundling/ScriptPaths/GetLocalizationFileForjAngularOrNull(String)",
          "GES_GRT.Common/CommonLookupAppService/GetDefaultEditionName()",
          "GES_GRT.Web.Helpers/CustomMultipartFormDataStreamProvider/GetLocalFileName(HttpContentHeaders)",
          "GES_GRT.Web.Bundling/ScriptPaths/GetLocalizationFileForJTableOrNull(String)",
          "GES_GRT.WebApi.Helpers/ApiReflectionHelper/GeneratePostData(MethodInfo)",
          "GES_GRT.Web.Bundling/ScriptPaths/GetLocalizationFileForBootstrapSelect(String)",
          "GES_GRT.LineItems/LineItemAppService/GetLineItemsByEmployeeForOverview(GetLineItemInputByEmployeeForOverview)",
          "GES_GRT.MultiTenancy.Demo/RandomUserGenerator/GenerateEmail(String)",
          "GES_GRT.Authorization.Users/UserLinkAppService/GetLinkedUsers(GetLinkedUsersInput)",
          "GES_GRT.WebApi.Helpers/ApiReflectionHelper/GenerateJsMethodParameterList(MethodInfo)",
          "GES_GRT.LineItems/LineItemAppService/GetLineItems(GetLineItemInput)",
          "GES_GRT.Util/LineItemUtilities/GetExchangeRate(LineItem,IRepository<ExchangeRate>,IRepository<ClientExchangeRate>)",
          "GES_GRT.ClientIncomeComponentGroups/ClientIncomeComponentGroupAppService/ClientIncomeComponentGroupAppService(IRepository<ClientIncomeComponent>,IRepository<IncomeComponent>,IRepository<Client>,IRepository<LineItem>,IRepository<ClientIncomeComponentGroup>)",
          "GES_GRT.GRT.ClientIncomeComponentGroups/ClientIncomeComponentGroup/ClientIncomeComponentGroup()",
          "GES_GRT.Web.MultiTenancy/TenantIdAccessor/TenantIdAccessor(ITenancyNameFinder,ITenantCache,IIocResolver)",
          "GES_GRT.ClientIncomeComponents/ClientIncomeComponentAppService/ClientIncomeComponentAppService(IRepository<ClientIncomeComponent>,IRepository<IncomeComponent>,IRepository<Client>,IRepository<LineItem>,IRepository<Country>)",
          "GES_GRT.Web.Controllers/TenantRegistrationController/TenantRegistrationController(IMultiTenancyConfig,TenantManager,EditionManager,IAppNotifier,UserManager,AbpLoginResultTypeHelper)",
          "GES_GRT.Configuration.Tenants/TenantSettingsAppService/TenantSettingsAppService(IMultiTenancyConfig,IAbpZeroLdapModuleConfig,ITimeZoneService)",
          "GES_GRT.Web.Areas.Mpa.Controllers/TenantsController/TenantsController(ITenantAppService,TenantManager,IEditionAppService,ICommonLookupAppService)",
          "GES_GRT.Timing/TimingAppService/GetTimezones(GetTimezonesInput)",
          "GES_GRT.Storage/BinaryObject/BinaryObject()",
          "GES_GRT.Localization.Dto/GetLanguageForEditOutput/GetLanguageForEditOutput()",
          "GES_GRT.Web.Controllers/ProfileController/GetProfilePictureById(String)",
          "GES_GRT.Web.Controllers/AccountController/TestNotification(String,String)",
          "GES_GRT.Caching/CachingAppService/CachingAppService(ICacheManager)",
          "GES_GRT.Common/CommonLookupAppService/GetEditionsForCombobox()",
          "GES_GRT.Web.MultiTenancy/SubdomainTenancyNameFinder/SubdomainTenancyNameFinder(ISettingManager,IMultiTenancyConfig)",
          "GES_GRT.LineItems/LineItemAppService/GetLineItemsByEmployee(GetLineItemInputByEmployee)",
          "GES_GRT.Web.Controllers/AccountController/Impersonate(ImpersonateModel)",
          "GES_GRT.Web.Controllers/ProfileController/GetProfilePicture()",
          "GES_GRT.Web.Areas.Mpa.Models.Layout/FooterViewModel/GetProductNameWithEdition()",
          "GES_GRT.Web.Areas.Mpa.Controllers/LayoutController/Sidebar(String)",
          "GES_GRT.Authorization.Permissions/PermissionManagerExtensions/GetPermissionsFromNamesByValidating(IPermissionManager,IEnumerable<String>)",
          "GES_GRT.MultiTenancy.Demo/TenantDemoDataBuilder/BuildForInternalAsync(Tenant)",
          "GES_GRT.Web.Controllers/AccountController/SwitchToLinkedAccountSignIn(String)",
          "GES_GRT.Util/LineItemUtilities/CalculateForCarLineItem(LineItem)",
          "GES_GRT.Organizations/OrganizationUnitAppService/GetOrganizationUnits()",
          "GES_GRT.Chat/ChatFeatureChecker/ChatFeatureChecker(IFeatureChecker)",
          "GES_GRT.Chat/ChatMessage/ChatMessage()",
          "GES_GRT.Web.Bundling/ScriptPaths/GetLocalizationFileForjQueryTimeagoOrNull(String)",
          "GES_GRT.Web.Areas.Mpa.Controllers/LayoutController/ChatBar()",
          "GES_GRT.Chat/ChatMessageManager/ChatMessageManager(IFriendshipManager,IChatCommunicator,IOnlineClientManager,UserManager,ITenantCache,IUserFriendsCache,IUserEmailer,IRepository<ChatMessage,Int64>,IChatFeatureChecker)",
          "GES_GRT.WebApi.Controllers/ImportEmployeesController/UpdateExistingEmployee(Employee,Employee)",
          "GES_GRT.GeneralComments/GeneralCommentAppService/getSixMonthExpirationEmployees(Int32)",
          "GES_GRT.WebApi.Controllers/ImportExchangeRatesController/UpdateExistingExchangeRate(ExchangeRate,ExchangeRate)",
          "GES_GRT.Security/PasswordComplexityChecker/Check(PasswordComplexitySetting,String)",
          "GES_GRT.Chat/ChatAppService/ChatAppService(IRepository<ChatMessage,Int64>,IUserFriendsCache,IOnlineClientManager,IChatCommunicator)",
          "GES_GRT.Util/ExcelUtilities/GetRowIndex(String)",
          "GES_GRT.Chat/ChatMessage/ChangeReadState(ChatMessageReadState)",
          "GES_GRT.Authorization.Users/SwitchToLinkedAccountCacheManagerExtensions/GetSwitchToLinkedAccountCache(ICacheManager)",
          "GES_GRT.LineItems/LineItemAppService/CopyLineItemsByPeriod(CopyLineItemPeriodInputDto)",
          "GES_GRT.WebApi.Helpers/TextResult/TextResult(Object)",
          "GES_GRT.MultiTenancy.Demo/TenantDemoDataBuilder/BuildForAsync(Tenant)",
          "GES_GRT.Extensions/EnumExtension/GetGroupName(Enum)",
          "GES_GRT.Employees/EmployeeAppService/CheckIfPayRollEmployeeIdIsUniqueWithinClient(EmployeeInputDto)",
          "GES_GRT.Notifications/NotificationAppService/GetNotificationSettings()",
          "GES_GRT.Util/LineItemUtilities/GetTaxability(LineItem,IRepository<Period>)",
          "GES_GRT.Authorization.Users/UserEmailer/GetTenancyNameOrNull(Nullable<Int32>)",
          "GES_GRT.Auditing.Exporting/AuditLogListExcelExporter/AuditLogListExcelExporter(ITimeZoneConverter,IAbpSession)",
          "GES_GRT.Extensions/EnumExtension/GetValueFromShortName<T>(String)",
          "GES_GRT.Caching/CachingAppService/ClearCache(IdInput<String>)",
          "GES_GRT.Extensions/EnumExtension/GetValues<T>(Enum)",
          "GES_GRT.Localization/LanguageAppService/GetLanguages()",
          "GES_GRT.Localization.Dto/GetLanguagesOutput/GetLanguagesOutput()",
          "GES_GRT.Authorization.Users/UserManager/GetUser(UserIdentifier)",
          "GES_GRT.Organizations/OrganizationUnitAppService/GetOrganizationUnitUsers(GetOrganizationUnitUsersInput)",
          "GES_GRT.Extensions/EnumExtension/GetGroupNames(Enum,String)",
          "GES_GRT.Friendships/FriendshipAppService/GetUserIdentifier(String,String)",
          "GES_GRT.Web.Chat.SignalR/SignalRChatCommunicator/SendUserStateChangeToClients(IReadOnlyList<IOnlineClient>,UserIdentifier,FriendshipState)",
          "GES_GRT.MultiTenancy.Demo/TenantDemoDataBuilder/SetRandomProfilePictureAsync(User)",
          "GES_GRT.Extensions/DynamicQueryableExtensions/DynamicQueryableExtensions()",
          "GES_GRT.Web.Controllers/FileController/DownloadTempFile(FileDto)",
          "GES_GRT.WebApi.Controllers/ImportClientIncomeComponentsController/ParseClientIncomeComponentFileData(Collection<MultipartFileData>,Int32)",
          "GES_GRT.WebApi.Controllers/ImportClientIncomeComponentsController/ParseClientIncomeComponentRows(Client,Range[])",
          "GES_GRT.Authorization.Users/UserAppService/DeleteUser(IdInput<Int64>)",
          "GES_GRT.MultiTenancy/TenantAppService/DeleteTenant(EntityRequestInput)",
          "GES_GRT.LineItems/LineItemAppService/DeleteManualValueForLineItem(DeleteManualValueLineItemDto)",
          "GES_GRT.Localization/LanguageAppService/DeleteLanguage(IdInput)",
          "GES_GRT.IO/AppFileHelper/DeleteFilesInFolderIfExists(String,String)",
          "GES_GRT.Web.App.Startup/AppNavigationProvider/L(String)",
          "GES_GRT.Web.Controllers/ErrorController/E404()",
          "GES_GRT/GES_GRTCoreModule/PostInitialize()",
          "GES_GRT.Authorization/AppAuthorizationProvider/L(String)",
          "GES_GRT.Employees/EmployeeAppService/IsValidEmployeeNumber(Int32,Nullable<Int32>,Int32)",
          "GES_GRT.Currencies/CurrencyAppService/CurrencyAppService(IRepository<Currency>)",
          "GES_GRT.Web/Startup/IsTrue(String)",
          "GES_GRT.Web/Startup/CreateWsFederationAuthOptions()",
          "GES_GRT.Web.Controllers/TenantRegistrationController/IsSelfRegistrationEnabled()",
          "GES_GRT.Util/LineItemUtilities/GetAllocation(LineItem)",
          "GES_GRT.WebApi.Controllers/ImportEmployeesController/CreateStatutoryDirectorComment(String,String,Employee)",
          "GES_GRT.Extensions/EnumExtension/IsHidden(Enum)",
          "GES_GRT.Web.Controllers/AccountController/Register(RegisterViewModel)",
          "GES_GRT.Features/AppFeatureProvider/L(String)",
          "GES_GRT.Validation/ValidationHelper/IsEmail(String)",
          "GES_GRT.Clients/ClientAppService/EditClientAsync(ClientInputDto)",
          "GES_GRT.ClientIncomeComponents/ClientIncomeComponentAppService/EditClientIncomeComponentAsync(ClientIncomeComponentInputDto)",
          "GES_GRT.LineItems/LineItemAppService/MarkAlertAsRead(Int32)",
          "GES_GRT.Chat/ChatAppService/MarkAllUnreadMessagesOfUserAsRead(MarkAllUnreadMessagesOfUserAsReadInput)",
          "GES_GRT.Editions/FeatureValueStore/FeatureValueStore(ICacheManager,IRepository<TenantFeatureSetting,Int64>,IRepository<Tenant>,IRepository<EditionFeatureSetting,Int64>,IFeatureManager,IUnitOfWorkManager)",
          "GES_GRT.Web.Areas.Mpa.Controllers/ProfileController/MySettingsModal()",
          "GES_GRT.LineItems/LineItemAppService/LinkRelatedEntities(LineItemInputDto,LineItem)",
          "GES_GRT.Friendships/FriendshipAppService/FriendshipAppService(IFriendshipManager,IOnlineClientManager,IChatCommunicator,ITenantCache,IChatFeatureChecker)",
          "GES_GRT.ClientIncomeComponents.Dto/GetClientIncomeComponentsInput/Normalize()",
          "GES_GRT.Clients.Dto/GetClientsInput/Normalize()",
          "GES_GRT.GeneralComments.Dto/GetGeneralCommentsInput/Normalize()",
          "GES_GRT.Localization/GetLanguageTextsInput/Normalize()",
          "GES_GRT.Dto/PagedAndSortedInputDto/PagedAndSortedInputDto()",
          "GES_GRT.LineItems.Dto/LineItemReconciliationOutputDto/LineItemReconciliationOutputDto()",
          "GES_GRT.Web.Areas.Mpa.Controllers/EditionsController/EditionsController(IEditionAppService)",
          "GES_GRT.Notifications/NotificationAppService/NotificationAppService(INotificationDefinitionManager,IUserNotificationManager,INotificationSubscriptionManager)",
          "GES_GRT.Web.Areas.Mpa.Controllers/NotificationsController/NotificationsController(INotificationAppService)",
          "GES_GRT.GRT.LineItems/LineItem/LineItem()",
          "GES_GRT.Web.Areas.Mpa.Controllers/OrganizationUnitsController/EditModal(Int64)",
          "GES_GRT.LineItems/LineItemAppService/EditLineItemAsync(LineItemInputDto)",
          "GES_GRT.Web.Controllers/LayoutController/LayoutController(ISessionAppService,IUserNavigationManager,IMultiTenancyConfig)",
          "GES_GRT.Employees/EmployeeAppService/EditEmployeeAsync(EmployeeInputDto)",
          "GES_GRT.Web.Bundling/AsIsBundleOrderer/OrderFiles(BundleContext,IEnumerable<BundleFile>)",
          "GES_GRT.Organizations/OrganizationUnitAppService/OrganizationUnitAppService(IRepository<Client>,OrganizationUnitManager,IRepository<OrganizationUnit,Int64>,IRepository<UserOrganizationUnit,Int64>)",
          "GES_GRT.GRT.Employees/Employee/Employee()",
          "GES_GRT.Util/ExcelUtilities/Create(String,Range[])",
          "GES_GRT.Util/LineItemUtilities/GetCalculatedValueForTaxationType(TaxationType,Double,Double,Double,Int32,Decimal,Decimal,Boolean)",
          "GES_GRT/GES_GRTCoreModule/Initialize()",
          "GES_GRT.IncomeComponents.Dto/IncomeComponentOutputDto/IncomeComponentOutputDto()",
          "GES_GRT.Web.Chat.SignalR/SignalRChatCommunicator/SendUserConnectionChangeToClients(IReadOnlyList<IOnlineClient>,UserIdentifier,Boolean)",
          "GES_GRT.IncomeComponents.Dto/IncomeComponentInputDto/IncomeComponentInputDto()",
          "GES_GRT.DataExporting.Excel.EpPlus/EpPlusExcelExporterBase/CreateExcelPackage(String,Action<ExcelPackage>)",
          "GES_GRT.IncomeComponents/IncomeComponentAppService/IncomeComponentAppService(IRepository<IncomeComponent>,IRepository<Country>,IRepository<GeneralComment>,IRepository<ClientIncomeComponent>)",
          "GES_GRT.Employees.Exporting/EmployeeListExcelExporter/SetCarSheet(ExcelPackage,List<EmployeeOutputDto>,Nullable<DateTime>,Nullable<DateTime>)",
          "GES_GRT.Web.MultiTenancy/SubdomainTenancyNameFinder/GetCurrentTenancyNameOrNull()",
          "GES_GRT/GES_GRTAppServiceBase/GetCurrentTenantAsync()",
          "GES_GRT.Employees.Exporting/EmployeeListExcelExporter/SetCommentsAndAlertsSheet(ExcelPackage,List<EmployeeOutputDto>,Nullable<DateTime>,Nullable<DateTime>)",
          "GES_GRT.WebApi.Controllers/ImportLineItemsController/ImportLineItemsController()",
          "GES_GRT.Friendships/FriendshipManager/CreateFriendship(Friendship)",
          "GES_GRT.Web.MultiTenancy/TenantIdAccessor/SetCurrentTenantId()",
          "GES_GRT.Clients/ClientAppService/CreateClientAsync(ClientInputDto)",
          "GES_GRT.WebApi.Controllers/ImportExchangeRatesController/ImportExchangeRatesController(IRepository<ExchangeRate>,IRepository<Currency>,IRepository<Period>,IUnitOfWorkManager)",
          "GES_GRT.Features/AppFeatureProvider/SetFeatures(IFeatureDefinitionContext)",
          "GES_GRT.Employees.Exporting/EmployeeListExcelExporter/SetLineItemSheet(ExcelPackage,List<EmployeeOutputDto>,Nullable<DateTime>,Nullable<DateTime>)",
          "GES_GRT/GES_GRTAppServiceBase/GetCurrentUserAsync()",
          "GES_GRT.ExchangeRates/ExchangeRateAppService/ImportExchangeRates(Int32)",
          "GES_GRT.WebApi.Controllers/ImportEmployeesController/ImportEmployeesController(IEmployeeRepository,IRepository<Client>,IUnitOfWorkManager,IRepository<Country>,IRepository<GeneralComment>,IRepository<Period>,IRepository<LineItem>,IRepository<ExchangeRate>,IRepository<ClientExchangeRate>)",
          "GES_GRT.Auditing/AuditLogAppService/CreateAuditLogAndUsersQuery(GetAuditLogsInput)",
          "GES_GRT.Notifications/AppNotificationProvider/SetNotifications(INotificationDefinitionContext)",
          "GES_GRT.MultiTenancy.Demo/TenantDemoDataBuilder/CreateAndSaveOrganizationUnit(List<OrganizationUnit>,Tenant,String,OrganizationUnit)",
          "GES_GRT.WebApi.Controllers/ImportIncomeComponentsController/ImportIncomeComponentsController()",
          "GES_GRT.Organizations/OrganizationUnitAppService/CreateOrganizationUnitDto(OrganizationUnit)",
          "GES_GRT.Friendships/FriendshipAppService/CreateFriendshipRequest(CreateFriendshipRequestInput)",
          "GES_GRT.GeneralComments/GeneralCommentAppService/CreateGeneralCommentAsync(GeneralCommentInputDto)",
          "GES_GRT.Friendships/ChatUserStateWatcher/Initialize()",
          "GES_GRT.Util/ImportUtilities/GetCellIntValue(Object[],Int32,Boolean)",
          "GES_GRT.Employees/EmployeeAppService/CreateOrUpdateEmployee(EmployeeInputDto)",
          "GES_GRT.Friendships.Cache/UserFriendsCache/ResetUnreadMessageCount(UserIdentifier,UserIdentifier)",
          "GES_GRT.Authorization.Roles/Role/Role()",
          "GES_GRT.Authorization.Roles/Role/Role(Nullable<Int32>,String)",
          "GES_GRT.ClientIncomeComponents/ClientIncomeComponentAppService/GetClientIncomeComponents(GetClientIncomeComponentsInput)",
          "GES_GRT.Web.Areas.Mpa.Controllers/RolesController/RolesController(IRoleAppService,IPermissionAppService)",
          "GES_GRT.Chat/ChatMessageManager/Save(ChatMessage)",
          "GES_GRT.Clients/ClientAppService/GetClients(GetClientsInput)",
          "GES_GRT.Friendships/FriendshipAppService/CreateFriendshipRequestByUserName(CreateFriendshipRequestByUserNameInput)",
          "GES_GRT.Web.Controllers/AccountController/SaveAccountSwitchTokenAndGetTargetUrl(Nullable<Int32>,Int64)",
          "GES_GRT.Web.Areas.Mpa.Controllers/LanguagesController/CreateOrEditModal(Nullable<Int32>)",
          "GES_GRT.Util/ExcelUtilities/GetColumnName(Int32)",
          "GES_GRT.Web.Areas.Mpa.Models.Languages/CreateOrEditLanguageModalViewModel/CreateOrEditLanguageModalViewModel(GetLanguageForEditOutput)",
          "GES_GRT.Web.Areas.Mpa.Models.Editions/CreateOrEditEditionModalViewModel/CreateOrEditEditionModalViewModel(GetEditionForEditOutput)",
          "GES_GRT.Util/ExcelUtilities/GetColumnName(String)",
          "GES_GRT.Util/LineItemUtilities/GetCompanyCarCorrectionClientIncomeComponent(Client)",
          "GES_GRT.Settings/CountryAppService/GetCountries()",
          "GES_GRT.Localization/LanguageAppService/GetCultureInfoByChecking(String)",
          "GES_GRT.Authorization.Users/UserEmailer/SendEmailActivationLinkAsync(User,String)",
          "GES_GRT.Web/Startup/CreateGoogleAuthOptions()",
          "GES_GRT.Util/ExcelUtilities/GetColumnIndex(String)",
          "GES_GRT.Util/ExcelUtilities/ParseCellValue(String,Nullable<CellValues>)",
          "GES_GRT.Web.Controllers/AboutController",
          "GES_GRT.Authorization/AbpLoginResultTypeHelper",
          "GES_GRT.Web.Controllers/AccountController",
          "GES_GRT.WebApi.Controllers/AccountController",
          "GES_GRT.WebApi.Helpers/ApiReflectionHelper",
          "GES_GRT.Authorization/AppAuthorizationProvider",
          "GES_GRT.Web.App.Startup/AppBundleConfig",
          "GES_GRT.Features/AppFeatureProvider",
          "GES_GRT.IO/AppFileHelper",
          "GES_GRT.Authorization.Ldap/AppLdapAuthenticationSource",
          "GES_GRT.Web.App.Startup/AppNavigationProvider",
          "GES_GRT.Notifications/AppNotificationProvider",
          "GES_GRT.Notifications/AppNotifier",
          "GES_GRT.Authorization.Roles/AppRoleConfig",
          "GES_GRT.Configuration/AppSettingProvider",
          "GES_GRT.Web.Controllers/ApplicationController",
          "GES_GRT.Web.Auth/ApplicationSignInManager",
          "GES_GRT.Web.Bundling/AsIsBundleOrderer",
          "GES_GRT.Runtime.Session/AspNetZeroAbpSession",
          "GES_GRT.Auditing/AuditLogAppService",
          "GES_GRT.Auditing.Exporting/AuditLogListExcelExporter",
          "GES_GRT.Web.Areas.Mpa.Controllers/AuditLogsController",
          "GES_GRT.Storage/BinaryObject",
          "GES_GRT.Web.Bundling/BundleExtensions",
          "GES_GRT.Caching/CachingAppService",
          "GES_GRT.Web.Controllers.Results/ChallengeResult",
          "GES_GRT.Chat/ChatAppService",
          "GES_GRT.Chat/ChatFeatureChecker",
          "GES_GRT.Web.Chat.SignalR/ChatHub",
          "GES_GRT.Chat/ChatMessage",
          "GES_GRT.Chat/ChatMessageManager",
          "GES_GRT.Friendships/ChatUserStateWatcher",
          "GES_GRT.GRT.Clients/Client",
          "GES_GRT.Clients/ClientAppService",
          "GES_GRT.ClientExchangeRates/ClientExchangeRateAppService",
          "GES_GRT.GRT.ClientIncomeComponents/ClientIncomeComponent",
          "GES_GRT.ClientIncomeComponents/ClientIncomeComponentAppService",
          "GES_GRT.ClientIncomeComponents.Dto/ClientIncomeComponentExportOutputDto",
          "GES_GRT.GRT.ClientIncomeComponentGroups/ClientIncomeComponentGroup",
          "GES_GRT.ClientIncomeComponentGroups/ClientIncomeComponentGroupAppService",
          "GES_GRT.ClientIncomeComponentGroups.Dto/ClientIncomeComponentGroupInputDto",
          "GES_GRT.ClientIncomeComponentGroups.Dto/ClientIncomeComponentGroupSimpleDto",
          "GES_GRT.ClientIncomeComponentGroups.Dto/ClientIncomeComponentGroupSuperSimpleDto",
          "GES_GRT.ClientIncomeComponents.Dto/ClientIncomeComponentInputDto",
          "GES_GRT.ClientIncomeComponents.Dto/ClientIncomeComponentOutputDto",
          "GES_GRT.Clients.Dto/ClientInputDto",
          "GES_GRT.Clients.Dto/ClientOutputDto",
          "GES_GRT.Web.Bundling/CommonBundleConfig",
          "GES_GRT.Web.Areas.Mpa.Controllers/CommonController",
          "GES_GRT.Common/CommonLookupAppService",
          "GES_GRT.Settings/CountryAppService",
          "GES_GRT.Web.Areas.Mpa.Models.Editions/CreateOrEditEditionModalViewModel",
          "GES_GRT.Web.Areas.Mpa.Models.Languages/CreateOrEditLanguageModalViewModel",
          "GES_GRT.Web.Areas.Mpa.Models.Roles/CreateOrEditRoleModalViewModel",
          "GES_GRT.Web.Areas.Mpa.Models.Users/CreateOrEditUserModalViewModel",
          "GES_GRT.Web.Areas.Mpa.Models.OrganizationUnits/CreateOrganizationUnitModalViewModel",
          "GES_GRT.Web.Areas.Mpa.Models.Tenants/CreateTenantViewModel",
          "GES_GRT.Web.Bundling/CssRewriteUrlWithVirtualDirectoryTransform",
          "GES_GRT.Currencies/CurrencyAppService",
          "GES_GRT/CustomDtoMapper",
          "GES_GRT.Web.Helpers/CustomMultipartFormDataStreamProvider",
          "GES_GRT.Web.Areas.Mpa.Controllers/DashboardController",
          "GES_GRT.Storage/DbBinaryObjectManager",
          "GES_GRT.Extensions/DecimalPrecision",
          "GES_GRT.Extensions/DynamicQueryableExtensions",
          "GES_GRT.Extensions/DynamicQueryableExtensions+SimpleTypeComparer",
          "GES_GRT.Web.Areas.Mpa.Models.Tenants/EditTenantViewModel",
          "GES_GRT.Editions/EditionAppService",
          "GES_GRT.Editions/EditionManager",
          "GES_GRT.Web.Areas.Mpa.Controllers/EditionsController",
          "GES_GRT.Emailing/EmailTemplateProvider",
          "GES_GRT.GRT.Employees/Employee",
          "GES_GRT.Employees/EmployeeAppService",
          "GES_GRT.Employees.Dto/EmployeeInputDto",
          "GES_GRT.Employees.Exporting/EmployeeListExcelExporter",
          "GES_GRT.Employees.Dto/EmployeeOutputDto",
          "GES_GRT.Extensions/Enum<T>",
          "GES_GRT.Extensions/EnumExtension",
          "GES_GRT.Util/EnumJsonConverter",
          "GES_GRT.DataExporting.Excel.EpPlus/EpPlusExcelExporterBase",
          "GES_GRT.Web.Controllers/ErrorController",
          "GES_GRT.Util/ExcelData",
          "GES_GRT.Util/ExcelUtilities",
          "GES_GRT.ExchangeRates/ExchangeRateAppService",
          "GES_GRT.Services/ExchangeRateService",
          "GES_GRT.Localization/FamFamFamFlagsHelper",
          "GES_GRT.Editions/FeatureValueStore",
          "GES_GRT.Web.Controllers/FileController",
          "GES_GRT.Dto/FileDto",
          "GES_GRT.Web.Areas.Mpa.Models.Layout/FooterViewModel",
          "GES_GRT.Friendships.Cache/FriendCacheItemExtensions",
          "GES_GRT.Friendships/Friendship",
          "GES_GRT.Friendships/FriendshipAppService",
          "GES_GRT.Friendships/FriendshipExtensions",
          "GES_GRT.Friendships/FriendshipManager",
          "GES_GRT.Web.Bundling/FrontEndBundleConfig",
          "GES_GRT.Web.Navigation/FrontEndNavigationProvider",
          "GES_GRT.Web.Controllers/GALoginController",
          "GES_GRT.WebApi/GES_GRTApiControllerBase",
          "GES_GRT/GES_GRTAppServiceBase",
          "GES_GRT/GES_GRTApplicationModule",
          "GES_GRT.Web.Controllers/GES_GRTControllerBase",
          "GES_GRT/GES_GRTCoreModule",
          "GES_GRT/GES_GRTDomainServiceBase",
          "GES_GRT/GES_GRTServiceBase",
          "GES_GRT.WebApi/GES_GRTWebApiModule",
          "GES_GRT.Web/GES_GRTWebModule",
          "GES_GRT.Web.Views/GES_GRTWebViewPageBase<TModel>",
          "GES_GRT.GeneralComments/GeneralCommentAppService",
          "GES_GRT.LineItems.Dto/GetAlertInput",
          "GES_GRT.Auditing.Dto/GetAuditLogsInput",
          "GES_GRT.ClientExchangeRates.Dto/GetClientExchangeRatesInput",
          "GES_GRT.ClientIncomeComponentGroups.Dto/GetClientIncomeComponentGroupsInput",
          "GES_GRT.ClientIncomeComponents.Dto/GetClientIncomeComponentsInput",
          "GES_GRT.Clients.Dto/GetClientsInput",
          "GES_GRT.LineItems.Dto/GetCommentInput",
          "GES_GRT.Employees.Dto/GetEmployeesInput",
          "GES_GRT.ExchangeRates.Dto/GetExchangeRatesInput",
          "GES_GRT.GeneralComments.Dto/GetGeneralCommentsInput",
          "GES_GRT.IncomeComponents.Dto/GetIncomeComponentsInput",
          "GES_GRT.Localization.Dto/GetLanguageForEditOutput",
          "GES_GRT.Localization/GetLanguageTextsInput",
          "GES_GRT.Localization.Dto/GetLanguagesOutput",
          "GES_GRT.LineItems.Dto/GetLineItemInput",
          "GES_GRT.Authorization.Users.Dto/GetLinkedUsersInput",
          "GES_GRT.Notifications.Dto/GetNotificationsOutput",
          "GES_GRT.Organizations.Dto/GetOrganizationUnitUsersInput",
          "GES_GRT.MultiTenancy.Dto/GetTenantsInput",
          "GES_GRT.Chat.Dto/GetUserChatFriendsWithSettingsOutput",
          "GES_GRT.Authorization.Users.Dto/GetUsersInput",
          "GES_GRT.Web.Areas.Mpa.Models.Layout/HeaderViewModel",
          "GES_GRT.Web.Models.Layout/HeaderViewModel",
          "GES_GRT.Web.Areas.Mpa.Controllers/HomeController",
          "GES_GRT.Web.Controllers/HomeController",
          "GES_GRT.Configuration.Host/HostSettingsAppService",
          "GES_GRT.Web.Areas.Mpa.Controllers/HostSettingsController",
          "GES_GRT.Authorization.Impersonation/ImpersonationCacheItem",
          "GES_GRT.Authorization.Impersonation/ImpersonationCacheManagerExtensions",
          "GES_GRT.WebApi.Controllers/ImportClientIncomeComponentsController",
          "GES_GRT.WebApi.Controllers/ImportEmployeesController",
          "GES_GRT.WebApi.Controllers/ImportExchangeRatesController",
          "GES_GRT.WebApi.Controllers/ImportIncomeComponentsController",
          "GES_GRT.WebApi.Controllers/ImportLineItemsController",
          "GES_GRT.Util/ImportUtilities",
          "GES_GRT.GRT.IncomeComponents/IncomeComponent",
          "GES_GRT.IncomeComponents/IncomeComponentAppService",
          "GES_GRT.IncomeComponents.Dto/IncomeComponentInputDto",
          "GES_GRT.IncomeComponents.Dto/IncomeComponentOutputDto",
          "GES_GRT.Localization/LanguageAppService",
          "GES_GRT.Web.Areas.Mpa.Controllers/LanguagesController",
          "GES_GRT.Web.Areas.Mpa.Controllers/LayoutController",
          "GES_GRT.Web.Controllers/LayoutController",
          "GES_GRT.GRT.LineItems/LineItem",
          "GES_GRT.LineItems/LineItemAppService",
          "GES_GRT.LineItems.Dto/LineItemOutputDto",
          "GES_GRT.LineItems.Dto/LineItemReconciliationOutputDto",
          "GES_GRT.Util/LineItemUtilities",
          "GES_GRT.Authorization.Users/LinkedUserDto",
          "GES_GRT.Web.Areas.Mpa.Controllers/MaintenanceController",
          "GES_GRT.Chat.Dto/MarkAllUnreadMessagesOfUserAsReadInput",
          "GES_GRT.Web.Areas.Mpa.Models.Common.Modals/ModalHeaderViewModel",
          "GES_GRT.Web.Areas.Mpa/MpaAreaRegistration",
          "GES_GRT.Web.Areas.Mpa.Startup/MpaBundleConfig",
          "GES_GRT.Web.Areas.Mpa.Startup/MpaNavigationProvider",
          "GES_GRT.Web/MvcApplication",
          "GES_GRT.Web.Areas.Mpa.Models.Profile/MySettingsViewModel",
          "GES_GRT.Auditing/NamespaceStripper",
          "GES_GRT.Notifications/NotificationAppService",
          "GES_GRT.Web.Areas.Mpa.Controllers/NotificationsController",
          "GES_GRT.Organizations/OrganizationUnitAppService",
          "GES_GRT.Web.Areas.Mpa.Controllers/OrganizationUnitsController",
          "GES_GRT.Dto/PagedAndFilteredInputDto",
          "GES_GRT.Dto/PagedAndSortedInputDto",
          "GES_GRT.Dto/PagedInputDto",
          "GES_GRT.Security/PasswordComplexityChecker",
          "GES_GRT.Periods/PeriodAppService",
          "GES_GRT.Authorization.Permissions/PermissionAppService",
          "GES_GRT.Authorization/PermissionChecker",
          "GES_GRT.Authorization.Permissions/PermissionManagerExtensions",
          "GES_GRT.Authorization.Users.Profile/ProfileAppService",
          "GES_GRT.Web.Areas.Mpa.Controllers/ProfileController",
          "GES_GRT.Web.Controllers/ProfileController",
          "GES_GRT.MultiTenancy.Demo/RandomUserGenerator",
          "GES_GRT.Util/Range",
          "GES_GRT.ReconciliationComments/ReconciliationCommentAppService",
          "GES_GRT.Web.Models.Account/RegisterViewModel",
          "GES_GRT.Authorization.Roles/Role",
          "GES_GRT.Authorization.Roles/RoleAppService",
          "GES_GRT.Authorization.Roles/RoleManager",
          "GES_GRT.Authorization.Roles/RoleStore",
          "GES_GRT.Web.Areas.Mpa.Controllers/RolesController",
          "GES_GRT.Web.Routing/RouteConfig",
          "GES_GRT.Web.Bundling/ScriptPaths",
          "GES_GRT.Sessions/SessionAppService",
          "GES_GRT.Web.Areas.Mpa.Controllers/SettingsController",
          "GES_GRT.Web.Chat.SignalR/SignalRChatCommunicator",
          "GES_GRT.Web/Startup",
          "GES_GRT.Web.MultiTenancy/SubdomainTenancyNameFinder",
          "GES_GRT.Authorization.Users/SwitchToLinkedAccountCacheItem",
          "GES_GRT.Authorization.Users/SwitchToLinkedAccountCacheManagerExtensions",
          "GES_GRT.Web.Models.Account/SwitchToLinkedAccountModel",
          "GES_GRT.Util/TableRange",
          "GES_GRT.WebApi.Controllers/TemplateFileController",
          "GES_GRT.MultiTenancy/Tenant",
          "GES_GRT.MultiTenancy/TenantAppService",
          "GES_GRT.Tenants.Dashboard/TenantDashboardAppService",
          "GES_GRT.MultiTenancy.Demo/TenantDemoDataBuilder",
          "GES_GRT.Web.Areas.Mpa.Models.Tenants/TenantFeaturesEditViewModel",
          "GES_GRT.Web.MultiTenancy/TenantIdAccessor",
          "GES_GRT.MultiTenancy/TenantManager",
          "GES_GRT.Web.Controllers/TenantRegistrationController",
          "GES_GRT.Configuration.Tenants/TenantSettingsAppService",
          "GES_GRT.Configuration.Tenants.Dto/TenantSettingsEditDto",
          "GES_GRT.Web.Areas.Mpa.Controllers/TenantsController",
          "GES_GRT.WebApi.Helpers/TextResult",
          "GES_GRT.Timing/TimeZoneService",
          "GES_GRT.Timing/TimingAppService",
          "GES_GRT.Web.Auth/TwitterEmailRetriever",
          "GES_GRT.Authorization.Users.Dto/UnlinkUserInput",
          "GES_GRT.WebApi.Controllers.Dto/UploadResultDto",
          "GES_GRT.Web.Views/UrlChecker",
          "GES_GRT.Authorization.Users/User",
          "GES_GRT.Authorization.Users/UserAppService",
          "GES_GRT.Authorization.Users/UserEmailer",
          "GES_GRT.Friendships.Cache/UserFriendCacheSyncronizer",
          "GES_GRT.Friendships.Cache/UserFriendsCache",
          "GES_GRT.Authorization.Users/UserLinkAppService",
          "GES_GRT.Authorization.Users/UserLinkManager",
          "GES_GRT.Authorization.Users.Exporting/UserListExcelExporter",
          "GES_GRT.Authorization.Users/UserLoginAppService",
          "GES_GRT.Authorization.Users/UserManager",
          "GES_GRT.Web.Areas.Mpa.Models.Users/UserPermissionsEditViewModel",
          "GES_GRT.Authorization.Users/UserStore",
          "GES_GRT.Web.Areas.Mpa.Controllers/UsersController",
          "GES_GRT.Validation/ValidationHelper",
          "GES_GRT.Logging/WebLogAppService",
          "GES_GRT.Web/WebUrlService",
          "GES_GRT.Web.Areas.Mpa.Controllers/WelcomeController",
          "GES_GRT",
          "GES_GRT.Auditing",
          "GES_GRT.Auditing.Dto",
          "GES_GRT.Auditing.Exporting",
          "GES_GRT.Authorization",
          "GES_GRT.Authorization.Impersonation",
          "GES_GRT.Authorization.Ldap",
          "GES_GRT.Authorization.Permissions",
          "GES_GRT.Authorization.Roles",
          "GES_GRT.Authorization.Users",
          "GES_GRT.Authorization.Users.Dto",
          "GES_GRT.Authorization.Users.Exporting",
          "GES_GRT.Authorization.Users.Profile",
          "GES_GRT.Caching",
          "GES_GRT.Chat",
          "GES_GRT.Chat.Dto",
          "GES_GRT.ClientExchangeRates",
          "GES_GRT.ClientExchangeRates.Dto",
          "GES_GRT.ClientIncomeComponentGroups",
          "GES_GRT.ClientIncomeComponentGroups.Dto",
          "GES_GRT.ClientIncomeComponents",
          "GES_GRT.ClientIncomeComponents.Dto",
          "GES_GRT.Clients",
          "GES_GRT.Clients.Dto",
          "GES_GRT.Common",
          "GES_GRT.Configuration",
          "GES_GRT.Configuration.Host",
          "GES_GRT.Configuration.Tenants",
          "GES_GRT.Configuration.Tenants.Dto",
          "GES_GRT.Currencies",
          "GES_GRT.DataExporting.Excel.EpPlus",
          "GES_GRT.Dto",
          "GES_GRT.Editions",
          "GES_GRT.Emailing",
          "GES_GRT.Employees",
          "GES_GRT.Employees.Dto",
          "GES_GRT.Employees.Exporting",
          "GES_GRT.ExchangeRates",
          "GES_GRT.ExchangeRates.Dto",
          "GES_GRT.Extensions",
          "GES_GRT.Features",
          "GES_GRT.Friendships",
          "GES_GRT.Friendships.Cache",
          "GES_GRT.GRT.ClientIncomeComponentGroups",
          "GES_GRT.GRT.ClientIncomeComponents",
          "GES_GRT.GRT.Clients",
          "GES_GRT.GRT.Employees",
          "GES_GRT.GRT.IncomeComponents",
          "GES_GRT.GRT.LineItems",
          "GES_GRT.GeneralComments",
          "GES_GRT.GeneralComments.Dto",
          "GES_GRT.IO",
          "GES_GRT.IncomeComponents",
          "GES_GRT.IncomeComponents.Dto",
          "GES_GRT.LineItems",
          "GES_GRT.LineItems.Dto",
          "GES_GRT.Localization",
          "GES_GRT.Localization.Dto",
          "GES_GRT.Logging",
          "GES_GRT.MultiTenancy",
          "GES_GRT.MultiTenancy.Demo",
          "GES_GRT.MultiTenancy.Dto",
          "GES_GRT.Notifications",
          "GES_GRT.Notifications.Dto",
          "GES_GRT.Organizations",
          "GES_GRT.Organizations.Dto",
          "GES_GRT.Periods",
          "GES_GRT.ReconciliationComments",
          "GES_GRT.Runtime.Session",
          "GES_GRT.Security",
          "GES_GRT.Services",
          "GES_GRT.Sessions",
          "GES_GRT.Settings",
          "GES_GRT.Storage",
          "GES_GRT.Tenants.Dashboard",
          "GES_GRT.Timing",
          "GES_GRT.Util",
          "GES_GRT.Validation",
          "GES_GRT.Web",
          "GES_GRT.Web.App.Startup",
          "GES_GRT.Web.Areas.Mpa",
          "GES_GRT.Web.Areas.Mpa.Controllers",
          "GES_GRT.Web.Areas.Mpa.Models.Common.Modals",
          "GES_GRT.Web.Areas.Mpa.Models.Editions",
          "GES_GRT.Web.Areas.Mpa.Models.Languages",
          "GES_GRT.Web.Areas.Mpa.Models.Layout",
          "GES_GRT.Web.Areas.Mpa.Models.OrganizationUnits",
          "GES_GRT.Web.Areas.Mpa.Models.Profile",
          "GES_GRT.Web.Areas.Mpa.Models.Roles",
          "GES_GRT.Web.Areas.Mpa.Models.Tenants",
          "GES_GRT.Web.Areas.Mpa.Models.Users",
          "GES_GRT.Web.Areas.Mpa.Startup",
          "GES_GRT.Web.Auth",
          "GES_GRT.Web.Bundling",
          "GES_GRT.Web.Chat.SignalR",
          "GES_GRT.Web.Controllers",
          "GES_GRT.Web.Controllers.Results",
          "GES_GRT.Web.Helpers",
          "GES_GRT.Web.Models.Account",
          "GES_GRT.Web.Models.Layout",
          "GES_GRT.Web.MultiTenancy",
          "GES_GRT.Web.Navigation",
          "GES_GRT.Web.Routing",
          "GES_GRT.Web.Views",
          "GES_GRT.WebApi",
          "GES_GRT.WebApi.Controllers",
          "GES_GRT.WebApi.Controllers.Dto",
          "GES_GRT.WebApi.Helpers"
         ],
         "labels": [
          "EditModal(Int32)",
          "GetCurrencies()",
          "TemplateFileController(IAppFolders,IUnitOfWorkManager)",
          "RoleStore(IRepository<Role>,IRepository<UserRole,Int64>,IRepository<RolePermissionSetting,Int64>)",
          "Index()",
          "LineItemAppService(IRepository<LineItem>,IRepository<Client>,IRepository<Period>,IPermissionChecker,IUnitOfWorkManager,IRepository<Employee>,IRepository<Currency>,IRepository<ClientExchangeRate>,IRepository<ExchangeRate>,IRepository<ClientIncomeComponent>)",
          "ChangeWorkflowStep(LineItem,WorkflowStatus)",
          "CreateUserAsync(CreateOrUpdateUserInput)",
          "Index()",
          "GetCountryCode(String)",
          "ConfigureModelBuilder(DbModelBuilder)",
          "SaveExchangeRates(MultipartFormDataStreamProvider,Int32)",
          "Index()",
          "SetAllNotificationsAsRead()",
          "CustomDtoMapper()",
          "CustomMultipartFormDataStreamProvider(String)",
          "CanConvert(Type)",
          "ChangePictureModal()",
          "CalculateLineItem(LineItem,IRepository<ExchangeRate>,IRepository<ClientExchangeRate>,IRepository<Period>)",
          "CreateOrUpdateClientIncomeComponent(ClientIncomeComponentInputDto)",
          "RegisterArea(AreaRegistrationContext)",
          "GetCurrentUser()",
          "ImportExchangeRatesController()",
          "GetCurrentUserClientIds()",
          "GetCurrentUserProfileForEdit()",
          "CheckUserClientPermission(Int32)",
          "CheckTenantRegistrationIsEnabled()",
          "GetData(WorksheetPart,WorkbookPart,String,String,Dictionary<String,CellValues>,UInt32)",
          "NotifyUserConnectionStateChange(UserIdentifier,Boolean)",
          "GetCurrentTenant()",
          "GetDefaultTemplate()",
          "CheckIfPeriodHasExchangeRates(Int32)",
          "GetClientIncomeComponentGroups(GetClientIncomeComponentGroupsInput)",
          "IncreaseUnreadMessageCount(UserIdentifier,UserIdentifier,Int32)",
          "GetCurrentLoginInformations()",
          "CreateIncomeComponentAsync(IncomeComponentInputDto)",
          "HostSettingsController(IHostSettingsAppService,UserManager,IEditionAppService,ITimingAppService)",
          "GetDefaultProfilePicture()",
          "ImportIncomeComponentsController(IRepository<IncomeComponent>,IUnitOfWorkManager)",
          "Index()",
          "Normalize()",
          "AddPermission(Permission,IReadOnlyList<Permission>,List<FlatPermissionWithLevelDto>,Int32)",
          "ParseEmployeeRows(Client,Range[])",
          "ParseEmployeeFileData(Collection<MultipartFileData>,Int32)",
          "DistinctBy<TSource,TKey>(IEnumerable<TSource>,Func<TSource,TKey>)",
          "NotifyClientsOfChanges(IncomeComponent)",
          "DownloadWebLogs()",
          "Parse(String,Range[])",
          "DeleteRole(EntityRequestInput)",
          "Parse(String,Boolean)",
          "PagedAndFilteredInputDto()",
          "OrganizationUnitsController(IRepository<OrganizationUnit,Int64>)",
          "EditClientIncomeComponentGroupAsync(ClientIncomeComponentGroupInputDto)",
          "OrderBy<T>(IQueryable<T>,String,Object[])",
          "EditTenantViewModel(TenantEditDto,IReadOnlyList<ComboboxItemDto>)",
          "GetParamNames(MethodInfo)",
          "OnlineClientManager_UserConnected(Object,OnlineUserEventArgs)",
          "PagedInputDto()",
          "Index()",
          "DeleteOrganizationUnit(IdInput<Int64>)",
          "EditionAppService(EditionManager)",
          "GetImpersonationCache(ICacheManager)",
          "GetCompanyCarClientIncomeComponent(Client)",
          "GetComments(GetCommentInput)",
          "GetIndividualFlags<T>(T)",
          "GetLanguageForEdit(NullableIdInput)",
          "BanFriend(UserIdentifier,UserIdentifier)",
          "GetAllSettings()",
          "Normalize()",
          "ParseExchangeRateFileData(Collection<MultipartFileData>,Int32)",
          "Normalize()",
          "DeleteEmployee(EntityDto)",
          "Index()",
          "CreateLinkedUsersQuery(UserAccount,String)",
          "EmailActivation()",
          "Normalize()",
          "GetTenantIdOrDefault(String)",
          "EditionManager(IRepository<Edition>,IAbpZeroFeatureValueStore)",
          "DeleteEdition(EntityRequestInput)",
          "ImportLineItemsController(IRepository<LineItem>,IRepository<Client>,IUnitOfWorkManager,IRepository<Period>,IEmployeeRepository,IRepository<Currency>,IRepository<ClientIncomeComponent>,IRepository<ClientExchangeRate>,IRepository<ExchangeRate>,IRepository<SourceIndication>)",
          "LinkRelatedEntities(EmployeeInputDto,Employee)",
          "LanguagesController(ILanguageAppService,ILanguageManager,IApplicationLanguageTextManager)",
          "LinkRelatedEntities(ClientIncomeComponentInputDto,ClientIncomeComponent)",
          "LinkRelatedEntities(ClientIncomeComponentGroupInputDto,ClientIncomeComponentGroup)",
          "LinkRelatedEntities(ClientExchangeRateInputDto,ClientExchangeRate)",
          "LinkAccountModal()",
          "Link(User,User)",
          "LineItemUtilities()",
          "LineItemOutputDto()",
          "LayoutController(ISessionAppService,IUserNavigationManager,IMultiTenancyConfig)",
          "Languages()",
          "LanguageAppService(IApplicationLanguageManager,IApplicationLanguageTextManager,IRepository<ApplicationLanguage>)",
          "L(String)",
          "L(String)",
          "L(String)",
          "L(String)",
          "LinkRelatedEntities(ClientInputDto,Client)",
          "LinkRelatedEntities(GeneralCommentInputDto,GeneralComment)",
          "Login(String,String,String)",
          "LinkRelatedEntities(ReconciliationCommentInputDto,ReconciliationComment)",
          "Normalize()",
          "Normalize()",
          "Normalize()",
          "Normalize()",
          "Normalize()",
          "Normalize()",
          "Normalize()",
          "Normalize()",
          "Normalize()",
          "NewUserRegisteredAsync(User)",
          "NewTenantRegisteredAsync(Tenant)",
          "MySettingsViewModel(CurrentUserProfileEditDto)",
          "MoveOrganizationUnit(MoveOrganizationUnitInput)",
          "ModalHeaderViewModel(String)",
          "MaximizeOwnContributionCompanyCar(Int32)",
          "MarkCommentAsRead(Int32)",
          "MaintenanceController(ICachingAppService)",
          "LookupModal(LookupModalViewModel)",
          "Logout()",
          "LoginAttemptsModal()",
          "Login(LoginViewModel,String,String)",
          "LogAndThrowExchangeRateError(LineItem)",
          "LogAndThrowExchangeRateError(LineItem)",
          "LinkedAccountsModal()",
          "LinkToUser(LinkToUserInput)",
          "LinkRelatedEntities(IncomeComponentInputDto,IncomeComponent)",
          "L(String)",
          "AcceptFriendshipRequest(AcceptFriendshipRequestInput)",
          "IsUnique(ClientIncomeComponentInputDto)",
          "GetTimezoneComboboxItems(GetTimezoneComboboxItemsInput)",
          "GetTimezoneInfos(SettingScopes)",
          "GetUnreadMessageCount(UserIdentifier,UserIdentifier)",
          "GetUserAccountAsync(UserIdentifier)",
          "GetUserAsync(UserIdentifier)",
          "GetUserByChecking(String)",
          "GetUserChatFriendsWithSettings()",
          "GetUserChatFriendsWithSettingsOutput()",
          "GetUserChatMessages(GetUserChatMessagesInput)",
          "GetUserForEdit(NullableIdInput<Int64>)",
          "GetUserFriendsCacheItemInternal(UserIdentifier)",
          "GetUserNotifications(GetUserNotificationsInput)",
          "GetUserPermissionsForEdit(IdInput<Int64>)",
          "GetUsers(GetUsersInput)",
          "GetUsersToExcel()",
          "GetValue<T>(String)",
          "GetValueFromDescription<T>(String)",
          "GetTextAfterLastDot(String)",
          "GetWorksheet(WorkbookPart,String)",
          "GetTenants(GetTenantsInput)",
          "GetTenantFeaturesForEdit(EntityRequestInput)",
          "GetProfilePictureById(Guid)",
          "GetRandomProfilePictureBytes()",
          "GetRandomUsers(Int32,Int32)",
          "GetRecentUserLoginAttempts()",
          "GetRecentlyUsedLinkedUsers()",
          "GetReconciliationComments(GetReconciliationCommentsInput)",
          "GetRoleForEdit(NullableIdInput)",
          "GetRoles(GetRolesInput)",
          "GetScripts()",
          "GetSettingDefinitions(SettingDefinitionProviderContext)",
          "GetShortNames(Enum,String)",
          "GetShownLoginName()",
          "GetShownLoginName()",
          "GetShownLoginName(Boolean)",
          "GetSignalRClientOrNull(IOnlineClient)",
          "GetSiteRootAddress(String)",
          "GetSourceIndications(Int32)",
          "GetTenantForEdit(EntityRequestInput)",
          "IsUpload(MethodInfo)",
          "GiveClientRights(Int32,Int64)",
          "HandleEvent(EntityCreatedEventData<Friendship>)",
          "Index()",
          "Index()",
          "Index()",
          "Index()",
          "Index()",
          "Index(String)",
          "Initialize()",
          "Initialize()",
          "Initialize()",
          "InsertCellInWorksheet(UInt32,Int32,WorksheetPart)",
          "IsDownload(MethodInfo)",
          "IsImpersonatedLogin()",
          "IsInOrganizationUnit(UserToOrganizationUnitInput)",
          "IsNullableType(Type)",
          "IsRooted(String)",
          "IsSelfRegistrationEnabled()",
          "IsUnique(ClientIncomeComponentGroupInputDto)",
          "Index()",
          "HandleEvent(EntityCreatedEventData<ChatMessage>)",
          "Index()",
          "Index()",
          "HandleEvent(EntityDeletedEventData<Friendship>)",
          "HandleEvent(EntityUpdatedEventData<Friendship>)",
          "HandleReceiverToSender(UserIdentifier,UserIdentifier,String)",
          "HandleSenderToReceiver(UserIdentifier,UserIdentifier,String)",
          "HandleSenderUserInfoChange(UserIdentifier,UserIdentifier,String,String,Nullable<Guid>)",
          "Header()",
          "Header(String)",
          "HostSettingsAppService(IEmailSender,EditionManager,ITimeZoneService,ISettingDefinitionManager)",
          "ImpersonateSignIn(String)",
          "ImpersonationCacheItem()",
          "ImpersonationCacheItem(Nullable<Int32>,Int64,Boolean)",
          "ImportClientIncomeComponentsController()",
          "ImportClientIncomeComponentsController(IRepository<Client>,IRepository<LineItem>,IRepository<IncomeComponent>,IRepository<ClientIncomeComponent>,IRepository<ClientIncomeComponentGroup>,IRepository<Country>,IUnitOfWorkManager)",
          "ImportEmployeesController()",
          "IncomeComponent()",
          "Index()",
          "Index()",
          "Index()",
          "Index()",
          "ParseExchangeRateRows(Period,Range[])",
          "OnlineClientManager_UserDisconnected(Object,OnlineUserEventArgs)",
          "ToUserIdentifier(Friendship)",
          "TryExtractNameAndSurnameFromClaims(List<Claim>,String&,String&)",
          "TryParse(String,T&,Boolean)",
          "TryToSendChatMessageMail(User,String,String,ChatMessage)",
          "UnblockUser(UnblockUserInput)",
          "Unlink(UserIdentifier)",
          "UnlinkUser(UnlinkUserInput)",
          "UpdateAllSettings(HostSettingsEditDto)",
          "UpdateAllSettings(TenantSettingsEditDto)",
          "UpdateCarLineItem(Employee,EmployeeCar,LineItem)",
          "UpdateCurrentUserProfile(CurrentUserProfileEditDto)",
          "UpdateEditionAsync(CreateOrUpdateEditionDto)",
          "UpdateExistingClientIncomeComponent(ClientIncomeComponent,ClientIncomeComponent)",
          "UpdateExistingIncomeComponent(IncomeComponent,IncomeComponent)",
          "UpdateExistingLineItem(LineItem,LineItem)",
          "UpdateFriend(UserIdentifier,FriendCacheItem)",
          "UpdateFriendship(Friendship)",
          "ToUserIdentifier()",
          "ToUserIdentifier()",
          "ToUserIdentifier()",
          "ToJsonObject(Func<String,String>)",
          "StripNameSpace(String)",
          "SwitchToLinkedAccount(SwitchToLinkedAccountModel)",
          "SwitchToLinkedAccountCacheItem()",
          "SwitchToLinkedAccountCacheItem(Nullable<Int32>,Int64,Nullable<Int32>,Nullable<Int64>)",
          "TableRange()",
          "Tenant()",
          "Tenant(String,String)",
          "TenantAppService(TenantManager)",
          "UpdateGrantedPermissionsAsync(Role,List<String>)",
          "TenantDemoDataBuilder(OrganizationUnitManager,UserManager,RandomUserGenerator,IBinaryObjectManager,IAppFolders,IFriendshipManager,IChatMessageManager,IRepository<ChatMessage,Int64>)",
          "TenantManager(IRepository<Tenant>,IRepository<TenantFeatureSetting,Int64>,EditionManager,IUnitOfWorkManager,RoleManager,IUserEmailer,TenantDemoDataBuilder,UserManager,INotificationSubscriptionManager,IAppNotifier,IAbpZeroFeatureValueStore,IAbpZeroDbMigrator,ITenantCache)",
          "Texts(String,String,String,String,String)",
          "TimeZoneService(ISettingManager,ISettingDefinitionManager)",
          "TimingAppService(ITimeZoneService)",
          "ToFileFromUri(Uri)",
          "ToFriendIdentifier(Friendship)",
          "ToJson()",
          "ToJson(Enum,Func<String,String>)",
          "TenantFeaturesEditViewModel(Tenant,GetTenantFeaturesForEditOutput)",
          "StripGenericNamespace(String)",
          "UpdateLanguageAsync(CreateOrUpdateLanguageInput)",
          "UpdateNotificationSettings(UpdateNotificationSettingsInput)",
          "UserFriendsCache(ICacheManager,IRepository<Friendship,Int64>,IRepository<ChatMessage,Int64>,ITenantCache,UserManager,IUnitOfWorkManager)",
          "UserLinkAppService(AbpLoginResultTypeHelper,IUserLinkManager,IRepository<Tenant>,IRepository<UserAccount,Int64>)",
          "UserLinkManager(IRepository<UserAccount,Int64>)",
          "UserListExcelExporter(ITimeZoneConverter,IAbpSession)",
          "UserLoginAppService(IRepository<UserLoginAttempt,Int64>)",
          "UserManager(UserStore,RoleManager,IRepository<Tenant>,IMultiTenancyConfig,IPermissionManager,IUnitOfWorkManager,ISettingManager,IUserManagementConfig,IIocResolver,ICacheManager,IRepository<OrganizationUnit,Int64>,IRepository<UserOrganizationUnit,Int64>,IOrganizationUnitSettings,IRepository<UserLoginAttempt,Int64>)",
          "UserPermissionsEditViewModel(GetUserPermissionsForEditOutput,User)",
          "UserStore(IRepository<User,Int64>,IRepository<UserLogin,Int64>,IRepository<UserRole,Int64>,IRepository<Role>,IRepository<UserPermissionSetting,Int64>,IUnitOfWorkManager)",
          "UsersController(IUserAppService,UserManager,IUserLoginAppService,IRoleAppService,IPermissionAppService)",
          "Validate(ValidationContext)",
          "ValidateElfProef(Int32)",
          "ValidateHostSettings()",
          "WebLogAppService(IAppFolders)",
          "WebUrlService(ISettingManager)",
          "WelcomeToTheApplicationAsync(User)",
          "WriteJson(JsonWriter,Object,JsonSerializer)",
          "Yield<T>(T)",
          "UserFriendCacheSyncronizer(IUserFriendsCache)",
          "UserEmailer(IEmailTemplateProvider,IEmailSender,IWebUrlService,IRepository<Tenant>,ICurrentUnitOfWorkProvider)",
          "UserAppService(RoleManager,IUserEmailer,IUserListExcelExporter,INotificationSubscriptionManager,IAppNotifier,IRepository<RolePermissionSetting,Int64>,IRepository<UserPermissionSetting,Int64>,IRepository<Client>,IRepository<UserRole,Int64>)",
          "UseCaptchaOnRegistration()",
          "UpdateOrganizationUnit(UpdateOrganizationUnitInput)",
          "UpdateProfilePicture(UpdateProfilePictureInput)",
          "UpdateRoleAsync(CreateOrUpdateRoleInput)",
          "UpdateStatus(WorkflowStatus)",
          "UpdateTenant(TenantEditDto)",
          "UpdateTenantFeatures(UpdateTenantFeaturesInput)",
          "UpdateUserAsync(CreateOrUpdateUserInput)",
          "UpdateUserPermissions(UpdateUserPermissionsInput)",
          "UpdateLanguageText(UpdateLanguageTextInput)",
          "UploadClientIncomeComponents()",
          "UploadExchangeRates()",
          "UploadIncomeComponents()",
          "UploadLineItems()",
          "UploadProfilePicture()",
          "UploadResultDto()",
          "UploadTemplateFile()",
          "UrlChecker()",
          "UseCaptchaOnRegistration()",
          "UploadEmployees()",
          "SignalRChatCommunicator()",
          "SignInAsync(User,ClaimsIdentity,Boolean)",
          "SignInAsync(User,ClaimsIdentity,Boolean)",
          "ReadLines(String)",
          "RecalculateLineItems(RecalculateLineItemsInputDto)",
          "RecalculateLineItemsByPopup(RecalculateLineItemsByPopupInputDto)",
          "ReconciliationCommentAppService(IRepository<Employee>,IRepository<Client>,IRepository<Period>,IRepository<ReconciliationComment>)",
          "Register()",
          "Register(TenantRegistrationViewModel)",
          "RegisterBundles(BundleCollection)",
          "RegisterBundles(BundleCollection)",
          "RegisterBundles(BundleCollection)",
          "RegisterBundles(BundleCollection)",
          "RegisterRoutes(RouteCollection)",
          "RegisterView(ExternalLoginInfo,String)",
          "RegisterView(RegisterViewModel)",
          "RemoveFriend(UserIdentifier,FriendCacheItem)",
          "RemoveUserFromOrganizationUnit(UserToOrganizationUnitInput)",
          "ResetPassword(ResetPasswordFormViewModel)",
          "ResetPassword(ResetPasswordViewModel)",
          "ReadJson(JsonReader,Type,Object,JsonSerializer)",
          "Range()",
          "RandomUserGenerator()",
          "ProfileController(UserManager,IBinaryObjectManager,IAppFolders,IFriendshipManager)",
          "ParseCarRows(Client,Range[])",
          "GetPeriods(Int32)",
          "ParseIncomeComponentFileData(Collection<MultipartFileData>)",
          "ParseIncomeComponentRows(Range[])",
          "ParseLineItemFileData(Collection<MultipartFileData>,Int32)",
          "ParseLineItemRows(Client,Range[])",
          "ParseWorkdayRows(Client,Range[])",
          "PeriodAppService(IRepository<Period>,IRepository<Client>)",
          "ResetTenantSpecificFeatures(EntityRequestInput)",
          "PermissionChecker(UserManager)",
          "PostInitialize()",
          "PreInitialize()",
          "PreInitialize()",
          "PreInitialize()",
          "PreInitialize()",
          "Process(String,String)",
          "ProfileAppService(IAppFolders,IBinaryObjectManager,ITimeZoneService)",
          "ProfileController(IProfileAppService,ITimingAppService)",
          "PermissionsModal(Int64)",
          "ResetUserSpecificPermissions(IdInput<Int64>)",
          "RestoreUserLanguage()",
          "Role(Nullable<Int32>,String,String)",
          "SetClientIncomeComponentSheet(ExcelPackage,List<EmployeeOutputDto>)",
          "SetColumnType(String,CellValues)",
          "SetContractTypeAmounts(LineItem,Decimal)",
          "SetDefaultLanguage(SetDefaultLanguageInput)",
          "SetEmployeeCars(EmployeeInputDto,Employee)",
          "SetEmployeeSheet(ExcelPackage,List<EmployeeOutputDto>)",
          "SetFeatureValues(Edition,List<NameValueDto>)",
          "SetNavigation(INavigationProviderContext)",
          "SetAllStatusesTo(Int32,Int32,Int32)",
          "SetNavigation(INavigationProviderContext)",
          "SetNotificationAsRead(IdInput<Guid>)",
          "SetPermissions(IPermissionDefinitionContext)",
          "SetSingleStatusTo(Int32,Int32)",
          "SetTentantId()",
          "SetWorkdayAllocations(EmployeeInputDto,Employee)",
          "SetWorkdaysSheet(ExcelPackage,List<EmployeeOutputDto>,Nullable<DateTime>,Nullable<DateTime>)",
          "SettingsController(ITenantSettingsAppService,IMultiTenancyConfig,ITimingAppService)",
          "SettingsModal()",
          "SetNavigation(INavigationProviderContext)",
          "OnMappingChanged(ClientIncomeComponent,IRepository<LineItem>)",
          "Session_Start(Object,EventArgs)",
          "SendPasswordResetLinkAsync(User)",
          "RoleAppService(RoleManager)",
          "RoleManager(RoleStore,IPermissionManager,IRoleManagementConfig,ICacheManager,IUnitOfWorkManager)",
          "Save(ExcelPackage,FileDto)",
          "SaveAsync(BinaryObject)",
          "SaveClientIncomeComponents(MultipartFormDataStreamProvider,Int32)",
          "SaveEmployees(MultipartFormDataStreamProvider,Int32)",
          "SaveFile(MultipartFormDataStreamProvider)",
          "SaveImpersonationTokenAndGetTargetUrl(Nullable<Int32>,Int64,Boolean)",
          "SendTestEmail(SendTestEmailInput)",
          "SaveIncomeComponents(MultipartFormDataStreamProvider)",
          "SendAllUnreadMessagesOfUserReadToClients(IReadOnlyList<IOnlineClient>,UserIdentifier)",
          "SendEmailActivationLink(SendEmailActivationLinkViewModel)",
          "SendFriendshipRequestToClient(IReadOnlyList<IOnlineClient>,Friendship,Boolean,Boolean)",
          "SendMessage(SendChatMessageInput)",
          "SendMessage(UserIdentifier,UserIdentifier,String,String,String,Nullable<Guid>)",
          "SendMessageAsync(UserIdentifier,String,NotificationSeverity)",
          "SendMessageToClient(IReadOnlyList<IOnlineClient>,ChatMessage)",
          "SendPasswordResetLink(SendPasswordResetLinkViewModel)",
          "SaveLineItems(MultipartFormDataStreamProvider,Int32)",
          "GetPeriodOverview()",
          "GetShortName(Enum)",
          "GetPayCycleDenominator(LineItem)",
          "CreateOrUpdateGeneralComment(GeneralCommentInputDto)",
          "CreateOrUpdateIncomeComponent(IncomeComponentInputDto)",
          "CreateOrUpdateLanguage(CreateOrUpdateLanguageInput)",
          "CreateOrUpdateLineItem(LineItemInputDto)",
          "CreateOrUpdateRole(CreateOrUpdateRoleInput)",
          "CreateOrUpdateUser(CreateOrUpdateUserInput)",
          "CreateOrganizationUnit(CreateOrganizationUnitInput)",
          "CreateOrUpdateEdition(CreateOrUpdateEditionDto)",
          "CreateOrganizationUnitModalViewModel(Nullable<Int64>)",
          "CreateReconciliationComment(ReconciliationCommentInputDto)",
          "CreateRoleAsync(CreateOrUpdateRoleInput)",
          "CreateRow(Object[],Nullable<CellValues>[],UInt32,Int32,Int32,WorksheetPart)",
          "CreateStatutoryDirectorComment(String,String,Employee)",
          "CreateTenant(CreateTenantInput)",
          "CreateTenantAdminUser(Int32,String,String)",
          "CreateTenantViewModel(IReadOnlyList<ComboboxItemDto>)",
          "CreateRandomPassword()",
          "CreateTwitterAuthOptions()",
          "CreateOrUpdateClientIncomeComponentGroup(ClientIncomeComponentGroupInputDto)",
          "CreateOrUpdateClient(ClientInputDto)",
          "CreateEditionAsync(CreateOrUpdateEditionDto)",
          "CreateEmployeeAsync(EmployeeInputDto)",
          "CreateExceptionForFailedLoginAttempt(AbpLoginResultType,String,String)",
          "CreateFacebookAuthOptions()",
          "CreateLanguageAsync(CreateOrUpdateLanguageInput)",
          "CreateLineItemAsync(LineItemInputDto)",
          "CreateMappings(IMapperConfigurationExpression)",
          "CreateOrUpdateClientExchangeRate(ClientExchangeRateInputDto)",
          "CreateMappingsInternal(IMapperConfigurationExpression)",
          "CreateModal(Nullable<Int64>)",
          "CreateMultipleClientIncomeComponents(List<Int32>,Int32)",
          "CreateOrEditModal(Nullable<Int32>)",
          "CreateOrEditModal(Nullable<Int32>)",
          "CreateOrEditModal(Nullable<Int64>)",
          "CreateOrEditRoleModalViewModel(GetRoleForEditOutput)",
          "CreateOrEditUserModalViewModel(GetUserForEditOutput)",
          "CreateModal()",
          "CreateUser(Nullable<Int32>,String)",
          "CreateWithAdminUserAsync(String,String,String,String,String,Boolean,Nullable<Int32>,Boolean,Boolean)",
          "CreateXlsmExcelPackageFromTemplateFile(FileInfo,Action<ExcelPackage>)",
          "EmployeeListExcelExporter(IRepository<LineItem>,IRepository<ClientIncomeComponent>,IRepository<GeneralComment>,IRepository<Employee>,IAppFolders)",
          "EmployeeOutputDto()",
          "EnumJsonConverter()",
          "Equals(Type,Type)",
          "ExcelData()",
          "ExchangeRateAppService(IRepository<ExchangeRate>,IRepository<Currency>,IRepository<Period>)",
          "ExecuteAsync(CancellationToken)",
          "EmployeeInputDto()",
          "ExecuteResult(ControllerContext)",
          "ExportToFile(List<UserListDto>)",
          "ExportToXlsmFile(List<EmployeeOutputDto>,Nullable<DateTime>,Nullable<DateTime>,User)",
          "ExternalLogin(String,String)",
          "ExternalLoginCallback(String,String)",
          "FamFamFamFlagsHelper()",
          "FeaturesModal(Int32)",
          "FileController(IAppFolders)",
          "ExportToFile(List<AuditLogListDto>)",
          "EmployeeAppService(IRepository<Employee>,IRepository<Country>,IRepository<Client>,IRepository<EmployeeCar>,IRepository<Period>,IEmployeeListExcelExporter,IRepository<ExchangeRate>,IRepository<ClientExchangeRate>,IRepository<LineItem>,IRepository<IncomeComponent>,IRepository<ClientIncomeComponent>,IRepository<GeneralComment>)",
          "EmailConfirmation(EmailConfirmationViewModel)",
          "EditTextModal(String,String,String,String)",
          "CssRewriteUrlWithVirtualDirectoryTransform()",
          "DbBinaryObjectManager(IRepository<BinaryObject,Guid>)",
          "DecimalPrecision(Byte,Byte)",
          "DeleteAsync(Guid)",
          "DeleteClient(EntityDto)",
          "DeleteClientExchangeRate(EntityDto)",
          "DeleteClientIncomeComponent(EntityDto)",
          "DeleteClientIncomeComponentFromGroup(ClientIncomeComponentGroup,Int32)",
          "DeleteClientIncomeComponentGroup(EntityDto)",
          "DeleteGeneralComment(EntityDto)",
          "DeleteIncomeComponent(EntityDto)",
          "DeleteLineItem(EntityDto)",
          "DeleteLineItemsByPeriod(DeletePeriodLineItemsDto)",
          "GetPayLocations(Int32)",
          "EditClientExchangeRateAsync(ClientExchangeRateInputDto)",
          "EditGeneralComment(GeneralCommentInputDto)",
          "EditIncomeComponentAsync(IncomeComponentInputDto)",
          "CreateCompanyCarLineItems(Int32)",
          "FileDto()",
          "CreateClientIncomeComponentGroupAsync(ClientIncomeComponentGroupInputDto)",
          "CreateClientExchangeRateAsync(ClientExchangeRateInputDto)",
          "ApplicationSignInManager(UserManager,IAuthenticationManager)",
          "Application_AuthenticateRequest(Object,EventArgs)",
          "Application_Start(Object,EventArgs)",
          "AreUsersLinked(UserIdentifier,UserIdentifier)",
          "AspNetZeroAbpSession(IMultiTenancyConfig)",
          "AuditLogAppService(IRepository<AuditLog,Int64>,IRepository<User,Int64>,IAuditLogListExcelExporter,INamespaceStripper)",
          "Authenticate(LoginModel)",
          "AppNotifier(INotificationPublisher)",
          "AutoGenerateEmployeeId(EmployeeInputDto)",
          "BinaryObject(Nullable<Int32>,Byte[])",
          "BlockUser(BlockUserInput)",
          "BulkDeleteEmployees(List<Int32>)",
          "CanSaveClient(Int32,String)",
          "CanSaveIncomeComponentWithLabelAndStartDate(Int32,String,DateTime)",
          "ChallengeResult(String,String)",
          "ChallengeResult(String,String,String)",
          "BackToImpersonator()",
          "ChangePassword(ChangePasswordInput)",
          "AppLdapAuthenticationSource(ILdapSettings,IAbpZeroLdapModuleConfig)",
          "AppAuthorizationProvider(Boolean)",
          "AcceptFriendshipRequest(UserIdentifier,UserIdentifier)",
          "AccountController()",
          "AccountController(UserManager,AbpLoginResultTypeHelper)",
          "AccountController(UserManager,IMultiTenancyConfig,IUserEmailer,RoleManager,TenantManager,IUnitOfWorkManager,ITenancyNameFinder,ICacheManager,IAppNotifier,IWebUrlService,AbpLoginResultTypeHelper,IUserLinkManager,INotificationSubscriptionManager)",
          "AddAppCssLibs(BundleCollection,Boolean)",
          "AddAppMetrinicCss(BundleCollection,Boolean)",
          "AddAppMetronicCss(BundleCollection,Boolean)",
          "AppAuthorizationProvider(IMultiTenancyConfig)",
          "AddFriend(UserIdentifier,FriendCacheItem)",
          "AddFrontendCssMetronic(BundleCollection,Boolean)",
          "AddHeader(ExcelWorksheet,Int32,String)",
          "AddHeader(ExcelWorksheet,String[])",
          "AddManualValueForLineItem(AddManualValueLineItemDto)",
          "AddMpaCssLibs(BundleCollection,Boolean)",
          "AddObjects<T>(ExcelWorksheet,Int32,IList<T>,Func<T,Object>[])",
          "AddUserToOrganizationUnit(UserToOrganizationUnitInput)",
          "AddFrontendCssLibs(BundleCollection,Boolean)",
          "ChangePasswordModal()",
          "ChangeProfilePicture()",
          "ChatHub(IChatMessageManager,ILocalizationManager)",
          "ClientIncomeComponentOutputDto()",
          "ClientInputDto()",
          "ClientOutputDto()",
          "CommonLookupAppService(EditionManager,IRepository<Client>)",
          "CompareColumn(String,String)",
          "Configuration(IAppBuilder)",
          "Configure(IRoleManagementConfig)",
          "ClientIncomeComponentInputDto()",
          "ConfigureOData()",
          "ContainsFriend(List<FriendCacheItem>,FriendCacheItem)",
          "ConvertToAuditLogListDtos(List<AuditLogAndUser>)",
          "CountryAppService(IRepository<Country>)",
          "CreateCarLineItemForPeriod(Employee,ClientIncomeComponent,EmployeeCar,Period,Currency,LineItem)",
          "CreateCell(Object,Nullable<CellValues>,UInt32,Int32,WorksheetPart)",
          "CreateCellRanges(String,String)",
          "CreateClaimsIdentity(User,String)",
          "ConfigureSwaggerUi()",
          "ClientIncomeComponentGroupSuperSimpleDto()",
          "ClientIncomeComponentGroupSimpleDto()",
          "ClientIncomeComponentGroupInputDto()",
          "ChatMessage(UserIdentifier,UserIdentifier,ChatSide,String,ChatMessageReadState)",
          "ChatUserStateWatcher(IChatCommunicator,IUserFriendsCache,IOnlineClientManager)",
          "CheckChatFeatures(Nullable<Int32>,Nullable<Int32>)",
          "CheckChatFeaturesInternal(Nullable<Int32>,Nullable<Int32>,ChatSide)",
          "CheckErrors(IdentityResult)",
          "CheckErrors(IdentityResult)",
          "CheckErrors(IdentityResult)",
          "CheckLanguageIfAlreadyExists(String,Nullable<Int32>)",
          "CheckLineItemsForRecalculation(RecalculateCheckInputDto)",
          "CheckPasswordComplexity(String)",
          "CheckSelfRegistrationIsEnabled()",
          "ClearAllCaches()",
          "Client()",
          "ClientAppService(IRepository<Client>,IRepository<Country>,IRepository<PayLocation>,IRepository<SourceIndication>)",
          "ClientExchangeRateAppService(IRepository<ClientExchangeRate>,IRepository<Client>,IRepository<Currency>,IRepository<Period>)",
          "ClientIncomeComponent()",
          "ClientIncomeComponentExportOutputDto()",
          "CreateClientIncomeComponentAsync(ClientIncomeComponentInputDto)",
          "FileDto(String,String)",
          "hasPermission(User,Client)",
          "FindClients(FindClientsInput)",
          "GetHttpMethod(MethodInfo)",
          "GetClientExchangeRates(GetClientExchangeRatesInput)",
          "GetClientExchangeRateForEdit(NullableIdInput<Int32>)",
          "GetIncomeComponentForEdit(NullableIdInput<Int32>)",
          "GetCellValue(Object[],Int32,Boolean)",
          "GetCellStringValue(Object[],Int32,Boolean)",
          "GetCellName(Int32,UInt32)",
          "GetIncomeComponents(GetIncomeComponentsInput)",
          "GetCellDecimalValue(Object[],Int32,Boolean)",
          "GetCellDateTimeValue(Object[],Int32,Boolean)",
          "GetCellBooleanValue(Object[],Int32,Boolean)",
          "GetClientForEdit(NullableIdInput<Int32>)",
          "GetCacheItemOrNull(UserIdentifier)",
          "GetAuditLogs(GetAuditLogsInput)",
          "GetApiControllers()",
          "GetLanguageTexts(GetLanguageTextsInput)",
          "GetAllSettings()",
          "GetLanguagesOutput(IReadOnlyList<ApplicationLanguageListDto>,String)",
          "GetAllPermissions()",
          "GetAllEmployees(Int32)",
          "GetLatestWebLogs()",
          "GetLineItemForEdit(NullableIdInput<Int32>)",
          "GetAllCaches()",
          "GetAlerts(GetAlertInput)",
          "GetCacheItem(UserIdentifier)",
          "GetClientIncomeComponentForEdit(NullableIdInput<Int32>)",
          "GetClientIncomeComponentGroupForEdit(NullableIdInput<Int32>)",
          "GetHashCode(Type)",
          "GetDefaultTimezoneAsync(SettingScopes,Nullable<Int32>)",
          "GetDefaultValue(Type)",
          "GetDescription(Enum)",
          "GetDescriptions(Enum,String)",
          "GetEditionComboboxItems(Nullable<Int32>)",
          "GetEditionForEdit(NullableIdInput)",
          "GetEditions()",
          "GetEmployeeForEdit(NullableIdInput<Int32>)",
          "GetCurrentTenantIdOrNull(Boolean)",
          "GetEmployeeWithCars(NullableIdInput<Int32>)",
          "GetEmployees(GetEmployeesInput)",
          "GetEmployeesToExcel(GetExportEmployeesInput)",
          "GetExchangeRates(GetExchangeRatesInput)",
          "GetFiscalAdditionPercentage(TaxationType,Boolean)",
          "FillRoleNames(List<UserListDto>)",
          "GetCurrentSiteRootAddress()",
          "GetCurrencyListFromWeb(DateTime&)",
          "GetFlagValues<T>()",
          "GetFlags<T>(T)",
          "GetFlags<T>(T,T[])",
          "GetConventionalServiceName(Type)",
          "GetFriendProfilePictureById(Int64,Nullable<Int32>,String)",
          "GetFriendshipOrNull(UserIdentifier,UserIdentifier)",
          "GetGeneralCommentForEdit(NullableIdInput<Int32>)",
          "GetGeneralComments(GetGeneralCommentsInput)",
          "GetActiveTenantAsync(String)",
          "Get(String,String,String,String)",
          "GetAuditLogsToExcel(GetAuditLogsInput)",
          "GenerateUsername(String)",
          "GetLocalizationFileForjQueryValidationOrNull(String)",
          "GetLoginResultAsync(String,String,String)",
          "GetLoginResultAsync(String,String,String)",
          "GetLoginResultAsync(String,String,String)",
          "GetMemberActivity()",
          "GES_GRTWebViewPageBase()",
          "GetMethodEx(Type,String,Type[],Int32)",
          "GES_GRTServiceBase()",
          "GetNotificationsOutput(Int32,Int32,List<UserNotification>)",
          "GES_GRTDomainServiceBase()",
          "GetOrNullAsync(Guid)",
          "GES_GRTControllerBase()",
          "GeneralCommentAppService(IRepository<Employee>,IRepository<Client>,IRepository<GeneralComment>)",
          "GES_GRTAppServiceBase()",
          "GALoginController(UserManager,IRepository<User,Int64>)",
          "FullName()",
          "FriendshipManager(IRepository<Friendship,Int64>)",
          "GetOverlappingDays(DateTime,DateTime,DateTime,DateTime)",
          "Friendship(UserIdentifier,UserIdentifier,String,String,Nullable<Guid>,FriendshipState)",
          "Friendship()",
          "GetPasswordComplexitySetting()",
          "ForgotPassword()",
          "ForceOrdered(Bundle)",
          "Footer()",
          "FindUsers(FindUsersInput)",
          "FindPossibleTenantsOfUserAsync(UserLoginInfo)",
          "GES_GRTApiControllerBase()",
          "GetLocalizationFileForjAngularOrNull(String)",
          "GetDefaultEditionName()",
          "GetLocalFileName(HttpContentHeaders)",
          "GetLocalizationFileForJTableOrNull(String)",
          "GeneratePostData(MethodInfo)",
          "GetLocalizationFileForBootstrapSelect(String)",
          "GetLineItemsByEmployeeForOverview(GetLineItemInputByEmployeeForOverview)",
          "GenerateEmail(String)",
          "GetLinkedUsers(GetLinkedUsersInput)",
          "GenerateJsMethodParameterList(MethodInfo)",
          "GetLineItems(GetLineItemInput)",
          "GetExchangeRate(LineItem,IRepository<ExchangeRate>,IRepository<ClientExchangeRate>)",
          "ClientIncomeComponentGroupAppService(IRepository<ClientIncomeComponent>,IRepository<IncomeComponent>,IRepository<Client>,IRepository<LineItem>,IRepository<ClientIncomeComponentGroup>)",
          "ClientIncomeComponentGroup()",
          "TenantIdAccessor(ITenancyNameFinder,ITenantCache,IIocResolver)",
          "ClientIncomeComponentAppService(IRepository<ClientIncomeComponent>,IRepository<IncomeComponent>,IRepository<Client>,IRepository<LineItem>,IRepository<Country>)",
          "TenantRegistrationController(IMultiTenancyConfig,TenantManager,EditionManager,IAppNotifier,UserManager,AbpLoginResultTypeHelper)",
          "TenantSettingsAppService(IMultiTenancyConfig,IAbpZeroLdapModuleConfig,ITimeZoneService)",
          "TenantsController(ITenantAppService,TenantManager,IEditionAppService,ICommonLookupAppService)",
          "GetTimezones(GetTimezonesInput)",
          "BinaryObject()",
          "GetLanguageForEditOutput()",
          "GetProfilePictureById(String)",
          "TestNotification(String,String)",
          "CachingAppService(ICacheManager)",
          "GetEditionsForCombobox()",
          "SubdomainTenancyNameFinder(ISettingManager,IMultiTenancyConfig)",
          "GetLineItemsByEmployee(GetLineItemInputByEmployee)",
          "Impersonate(ImpersonateModel)",
          "GetProfilePicture()",
          "GetProductNameWithEdition()",
          "Sidebar(String)",
          "GetPermissionsFromNamesByValidating(IPermissionManager,IEnumerable<String>)",
          "BuildForInternalAsync(Tenant)",
          "SwitchToLinkedAccountSignIn(String)",
          "CalculateForCarLineItem(LineItem)",
          "GetOrganizationUnits()",
          "ChatFeatureChecker(IFeatureChecker)",
          "ChatMessage()",
          "GetLocalizationFileForjQueryTimeagoOrNull(String)",
          "ChatBar()",
          "ChatMessageManager(IFriendshipManager,IChatCommunicator,IOnlineClientManager,UserManager,ITenantCache,IUserFriendsCache,IUserEmailer,IRepository<ChatMessage,Int64>,IChatFeatureChecker)",
          "UpdateExistingEmployee(Employee,Employee)",
          "getSixMonthExpirationEmployees(Int32)",
          "UpdateExistingExchangeRate(ExchangeRate,ExchangeRate)",
          "Check(PasswordComplexitySetting,String)",
          "ChatAppService(IRepository<ChatMessage,Int64>,IUserFriendsCache,IOnlineClientManager,IChatCommunicator)",
          "GetRowIndex(String)",
          "ChangeReadState(ChatMessageReadState)",
          "GetSwitchToLinkedAccountCache(ICacheManager)",
          "CopyLineItemsByPeriod(CopyLineItemPeriodInputDto)",
          "TextResult(Object)",
          "BuildForAsync(Tenant)",
          "GetGroupName(Enum)",
          "CheckIfPayRollEmployeeIdIsUniqueWithinClient(EmployeeInputDto)",
          "GetNotificationSettings()",
          "GetTaxability(LineItem,IRepository<Period>)",
          "GetTenancyNameOrNull(Nullable<Int32>)",
          "AuditLogListExcelExporter(ITimeZoneConverter,IAbpSession)",
          "GetValueFromShortName<T>(String)",
          "ClearCache(IdInput<String>)",
          "GetValues<T>(Enum)",
          "GetLanguages()",
          "GetLanguagesOutput()",
          "GetUser(UserIdentifier)",
          "GetOrganizationUnitUsers(GetOrganizationUnitUsersInput)",
          "GetGroupNames(Enum,String)",
          "GetUserIdentifier(String,String)",
          "SendUserStateChangeToClients(IReadOnlyList<IOnlineClient>,UserIdentifier,FriendshipState)",
          "SetRandomProfilePictureAsync(User)",
          "DynamicQueryableExtensions()",
          "DownloadTempFile(FileDto)",
          "ParseClientIncomeComponentFileData(Collection<MultipartFileData>,Int32)",
          "ParseClientIncomeComponentRows(Client,Range[])",
          "DeleteUser(IdInput<Int64>)",
          "DeleteTenant(EntityRequestInput)",
          "DeleteManualValueForLineItem(DeleteManualValueLineItemDto)",
          "DeleteLanguage(IdInput)",
          "DeleteFilesInFolderIfExists(String,String)",
          "L(String)",
          "E404()",
          "PostInitialize()",
          "L(String)",
          "IsValidEmployeeNumber(Int32,Nullable<Int32>,Int32)",
          "CurrencyAppService(IRepository<Currency>)",
          "IsTrue(String)",
          "CreateWsFederationAuthOptions()",
          "IsSelfRegistrationEnabled()",
          "GetAllocation(LineItem)",
          "CreateStatutoryDirectorComment(String,String,Employee)",
          "IsHidden(Enum)",
          "Register(RegisterViewModel)",
          "L(String)",
          "IsEmail(String)",
          "EditClientAsync(ClientInputDto)",
          "EditClientIncomeComponentAsync(ClientIncomeComponentInputDto)",
          "MarkAlertAsRead(Int32)",
          "MarkAllUnreadMessagesOfUserAsRead(MarkAllUnreadMessagesOfUserAsReadInput)",
          "FeatureValueStore(ICacheManager,IRepository<TenantFeatureSetting,Int64>,IRepository<Tenant>,IRepository<EditionFeatureSetting,Int64>,IFeatureManager,IUnitOfWorkManager)",
          "MySettingsModal()",
          "LinkRelatedEntities(LineItemInputDto,LineItem)",
          "FriendshipAppService(IFriendshipManager,IOnlineClientManager,IChatCommunicator,ITenantCache,IChatFeatureChecker)",
          "Normalize()",
          "Normalize()",
          "Normalize()",
          "Normalize()",
          "PagedAndSortedInputDto()",
          "LineItemReconciliationOutputDto()",
          "EditionsController(IEditionAppService)",
          "NotificationAppService(INotificationDefinitionManager,IUserNotificationManager,INotificationSubscriptionManager)",
          "NotificationsController(INotificationAppService)",
          "LineItem()",
          "EditModal(Int64)",
          "EditLineItemAsync(LineItemInputDto)",
          "LayoutController(ISessionAppService,IUserNavigationManager,IMultiTenancyConfig)",
          "EditEmployeeAsync(EmployeeInputDto)",
          "OrderFiles(BundleContext,IEnumerable<BundleFile>)",
          "OrganizationUnitAppService(IRepository<Client>,OrganizationUnitManager,IRepository<OrganizationUnit,Int64>,IRepository<UserOrganizationUnit,Int64>)",
          "Employee()",
          "Create(String,Range[])",
          "GetCalculatedValueForTaxationType(TaxationType,Double,Double,Double,Int32,Decimal,Decimal,Boolean)",
          "Initialize()",
          "IncomeComponentOutputDto()",
          "SendUserConnectionChangeToClients(IReadOnlyList<IOnlineClient>,UserIdentifier,Boolean)",
          "IncomeComponentInputDto()",
          "CreateExcelPackage(String,Action<ExcelPackage>)",
          "IncomeComponentAppService(IRepository<IncomeComponent>,IRepository<Country>,IRepository<GeneralComment>,IRepository<ClientIncomeComponent>)",
          "SetCarSheet(ExcelPackage,List<EmployeeOutputDto>,Nullable<DateTime>,Nullable<DateTime>)",
          "GetCurrentTenancyNameOrNull()",
          "GetCurrentTenantAsync()",
          "SetCommentsAndAlertsSheet(ExcelPackage,List<EmployeeOutputDto>,Nullable<DateTime>,Nullable<DateTime>)",
          "ImportLineItemsController()",
          "CreateFriendship(Friendship)",
          "SetCurrentTenantId()",
          "CreateClientAsync(ClientInputDto)",
          "ImportExchangeRatesController(IRepository<ExchangeRate>,IRepository<Currency>,IRepository<Period>,IUnitOfWorkManager)",
          "SetFeatures(IFeatureDefinitionContext)",
          "SetLineItemSheet(ExcelPackage,List<EmployeeOutputDto>,Nullable<DateTime>,Nullable<DateTime>)",
          "GetCurrentUserAsync()",
          "ImportExchangeRates(Int32)",
          "ImportEmployeesController(IEmployeeRepository,IRepository<Client>,IUnitOfWorkManager,IRepository<Country>,IRepository<GeneralComment>,IRepository<Period>,IRepository<LineItem>,IRepository<ExchangeRate>,IRepository<ClientExchangeRate>)",
          "CreateAuditLogAndUsersQuery(GetAuditLogsInput)",
          "SetNotifications(INotificationDefinitionContext)",
          "CreateAndSaveOrganizationUnit(List<OrganizationUnit>,Tenant,String,OrganizationUnit)",
          "ImportIncomeComponentsController()",
          "CreateOrganizationUnitDto(OrganizationUnit)",
          "CreateFriendshipRequest(CreateFriendshipRequestInput)",
          "CreateGeneralCommentAsync(GeneralCommentInputDto)",
          "Initialize()",
          "GetCellIntValue(Object[],Int32,Boolean)",
          "CreateOrUpdateEmployee(EmployeeInputDto)",
          "ResetUnreadMessageCount(UserIdentifier,UserIdentifier)",
          "Role()",
          "Role(Nullable<Int32>,String)",
          "GetClientIncomeComponents(GetClientIncomeComponentsInput)",
          "RolesController(IRoleAppService,IPermissionAppService)",
          "Save(ChatMessage)",
          "GetClients(GetClientsInput)",
          "CreateFriendshipRequestByUserName(CreateFriendshipRequestByUserNameInput)",
          "SaveAccountSwitchTokenAndGetTargetUrl(Nullable<Int32>,Int64)",
          "CreateOrEditModal(Nullable<Int32>)",
          "GetColumnName(Int32)",
          "CreateOrEditLanguageModalViewModel(GetLanguageForEditOutput)",
          "CreateOrEditEditionModalViewModel(GetEditionForEditOutput)",
          "GetColumnName(String)",
          "GetCompanyCarCorrectionClientIncomeComponent(Client)",
          "GetCountries()",
          "GetCultureInfoByChecking(String)",
          "SendEmailActivationLinkAsync(User,String)",
          "CreateGoogleAuthOptions()",
          "GetColumnIndex(String)",
          "ParseCellValue(String,Nullable<CellValues>)",
          "AboutController",
          "AbpLoginResultTypeHelper",
          "AccountController",
          "AccountController",
          "ApiReflectionHelper",
          "AppAuthorizationProvider",
          "AppBundleConfig",
          "AppFeatureProvider",
          "AppFileHelper",
          "AppLdapAuthenticationSource",
          "AppNavigationProvider",
          "AppNotificationProvider",
          "AppNotifier",
          "AppRoleConfig",
          "AppSettingProvider",
          "ApplicationController",
          "ApplicationSignInManager",
          "AsIsBundleOrderer",
          "AspNetZeroAbpSession",
          "AuditLogAppService",
          "AuditLogListExcelExporter",
          "AuditLogsController",
          "BinaryObject",
          "BundleExtensions",
          "CachingAppService",
          "ChallengeResult",
          "ChatAppService",
          "ChatFeatureChecker",
          "ChatHub",
          "ChatMessage",
          "ChatMessageManager",
          "ChatUserStateWatcher",
          "Client",
          "ClientAppService",
          "ClientExchangeRateAppService",
          "ClientIncomeComponent",
          "ClientIncomeComponentAppService",
          "ClientIncomeComponentExportOutputDto",
          "ClientIncomeComponentGroup",
          "ClientIncomeComponentGroupAppService",
          "ClientIncomeComponentGroupInputDto",
          "ClientIncomeComponentGroupSimpleDto",
          "ClientIncomeComponentGroupSuperSimpleDto",
          "ClientIncomeComponentInputDto",
          "ClientIncomeComponentOutputDto",
          "ClientInputDto",
          "ClientOutputDto",
          "CommonBundleConfig",
          "CommonController",
          "CommonLookupAppService",
          "CountryAppService",
          "CreateOrEditEditionModalViewModel",
          "CreateOrEditLanguageModalViewModel",
          "CreateOrEditRoleModalViewModel",
          "CreateOrEditUserModalViewModel",
          "CreateOrganizationUnitModalViewModel",
          "CreateTenantViewModel",
          "CssRewriteUrlWithVirtualDirectoryTransform",
          "CurrencyAppService",
          "CustomDtoMapper",
          "CustomMultipartFormDataStreamProvider",
          "DashboardController",
          "DbBinaryObjectManager",
          "DecimalPrecision",
          "DynamicQueryableExtensions",
          "DynamicQueryableExtensions+SimpleTypeComparer",
          "EditTenantViewModel",
          "EditionAppService",
          "EditionManager",
          "EditionsController",
          "EmailTemplateProvider",
          "Employee",
          "EmployeeAppService",
          "EmployeeInputDto",
          "EmployeeListExcelExporter",
          "EmployeeOutputDto",
          "Enum<T>",
          "EnumExtension",
          "EnumJsonConverter",
          "EpPlusExcelExporterBase",
          "ErrorController",
          "ExcelData",
          "ExcelUtilities",
          "ExchangeRateAppService",
          "ExchangeRateService",
          "FamFamFamFlagsHelper",
          "FeatureValueStore",
          "FileController",
          "FileDto",
          "FooterViewModel",
          "FriendCacheItemExtensions",
          "Friendship",
          "FriendshipAppService",
          "FriendshipExtensions",
          "FriendshipManager",
          "FrontEndBundleConfig",
          "FrontEndNavigationProvider",
          "GALoginController",
          "GES_GRTApiControllerBase",
          "GES_GRTAppServiceBase",
          "GES_GRTApplicationModule",
          "GES_GRTControllerBase",
          "GES_GRTCoreModule",
          "GES_GRTDomainServiceBase",
          "GES_GRTServiceBase",
          "GES_GRTWebApiModule",
          "GES_GRTWebModule",
          "GES_GRTWebViewPageBase<TModel>",
          "GeneralCommentAppService",
          "GetAlertInput",
          "GetAuditLogsInput",
          "GetClientExchangeRatesInput",
          "GetClientIncomeComponentGroupsInput",
          "GetClientIncomeComponentsInput",
          "GetClientsInput",
          "GetCommentInput",
          "GetEmployeesInput",
          "GetExchangeRatesInput",
          "GetGeneralCommentsInput",
          "GetIncomeComponentsInput",
          "GetLanguageForEditOutput",
          "GetLanguageTextsInput",
          "GetLanguagesOutput",
          "GetLineItemInput",
          "GetLinkedUsersInput",
          "GetNotificationsOutput",
          "GetOrganizationUnitUsersInput",
          "GetTenantsInput",
          "GetUserChatFriendsWithSettingsOutput",
          "GetUsersInput",
          "HeaderViewModel",
          "HeaderViewModel",
          "HomeController",
          "HomeController",
          "HostSettingsAppService",
          "HostSettingsController",
          "ImpersonationCacheItem",
          "ImpersonationCacheManagerExtensions",
          "ImportClientIncomeComponentsController",
          "ImportEmployeesController",
          "ImportExchangeRatesController",
          "ImportIncomeComponentsController",
          "ImportLineItemsController",
          "ImportUtilities",
          "IncomeComponent",
          "IncomeComponentAppService",
          "IncomeComponentInputDto",
          "IncomeComponentOutputDto",
          "LanguageAppService",
          "LanguagesController",
          "LayoutController",
          "LayoutController",
          "LineItem",
          "LineItemAppService",
          "LineItemOutputDto",
          "LineItemReconciliationOutputDto",
          "LineItemUtilities",
          "LinkedUserDto",
          "MaintenanceController",
          "MarkAllUnreadMessagesOfUserAsReadInput",
          "ModalHeaderViewModel",
          "MpaAreaRegistration",
          "MpaBundleConfig",
          "MpaNavigationProvider",
          "MvcApplication",
          "MySettingsViewModel",
          "NamespaceStripper",
          "NotificationAppService",
          "NotificationsController",
          "OrganizationUnitAppService",
          "OrganizationUnitsController",
          "PagedAndFilteredInputDto",
          "PagedAndSortedInputDto",
          "PagedInputDto",
          "PasswordComplexityChecker",
          "PeriodAppService",
          "PermissionAppService",
          "PermissionChecker",
          "PermissionManagerExtensions",
          "ProfileAppService",
          "ProfileController",
          "ProfileController",
          "RandomUserGenerator",
          "Range",
          "ReconciliationCommentAppService",
          "RegisterViewModel",
          "Role",
          "RoleAppService",
          "RoleManager",
          "RoleStore",
          "RolesController",
          "RouteConfig",
          "ScriptPaths",
          "SessionAppService",
          "SettingsController",
          "SignalRChatCommunicator",
          "Startup",
          "SubdomainTenancyNameFinder",
          "SwitchToLinkedAccountCacheItem",
          "SwitchToLinkedAccountCacheManagerExtensions",
          "SwitchToLinkedAccountModel",
          "TableRange",
          "TemplateFileController",
          "Tenant",
          "TenantAppService",
          "TenantDashboardAppService",
          "TenantDemoDataBuilder",
          "TenantFeaturesEditViewModel",
          "TenantIdAccessor",
          "TenantManager",
          "TenantRegistrationController",
          "TenantSettingsAppService",
          "TenantSettingsEditDto",
          "TenantsController",
          "TextResult",
          "TimeZoneService",
          "TimingAppService",
          "TwitterEmailRetriever",
          "UnlinkUserInput",
          "UploadResultDto",
          "UrlChecker",
          "User",
          "UserAppService",
          "UserEmailer",
          "UserFriendCacheSyncronizer",
          "UserFriendsCache",
          "UserLinkAppService",
          "UserLinkManager",
          "UserListExcelExporter",
          "UserLoginAppService",
          "UserManager",
          "UserPermissionsEditViewModel",
          "UserStore",
          "UsersController",
          "ValidationHelper",
          "WebLogAppService",
          "WebUrlService",
          "WelcomeController",
          "GES_GRT",
          "GES_GRT.Auditing",
          "GES_GRT.Auditing.Dto",
          "GES_GRT.Auditing.Exporting",
          "GES_GRT.Authorization",
          "GES_GRT.Authorization.Impersonation",
          "GES_GRT.Authorization.Ldap",
          "GES_GRT.Authorization.Permissions",
          "GES_GRT.Authorization.Roles",
          "GES_GRT.Authorization.Users",
          "GES_GRT.Authorization.Users.Dto",
          "GES_GRT.Authorization.Users.Exporting",
          "GES_GRT.Authorization.Users.Profile",
          "GES_GRT.Caching",
          "GES_GRT.Chat",
          "GES_GRT.Chat.Dto",
          "GES_GRT.ClientExchangeRates",
          "GES_GRT.ClientExchangeRates.Dto",
          "GES_GRT.ClientIncomeComponentGroups",
          "GES_GRT.ClientIncomeComponentGroups.Dto",
          "GES_GRT.ClientIncomeComponents",
          "GES_GRT.ClientIncomeComponents.Dto",
          "GES_GRT.Clients",
          "GES_GRT.Clients.Dto",
          "GES_GRT.Common",
          "GES_GRT.Configuration",
          "GES_GRT.Configuration.Host",
          "GES_GRT.Configuration.Tenants",
          "GES_GRT.Configuration.Tenants.Dto",
          "GES_GRT.Currencies",
          "GES_GRT.DataExporting.Excel.EpPlus",
          "GES_GRT.Dto",
          "GES_GRT.Editions",
          "GES_GRT.Emailing",
          "GES_GRT.Employees",
          "GES_GRT.Employees.Dto",
          "GES_GRT.Employees.Exporting",
          "GES_GRT.ExchangeRates",
          "GES_GRT.ExchangeRates.Dto",
          "GES_GRT.Extensions",
          "GES_GRT.Features",
          "GES_GRT.Friendships",
          "GES_GRT.Friendships.Cache",
          "GES_GRT.GRT.ClientIncomeComponentGroups",
          "GES_GRT.GRT.ClientIncomeComponents",
          "GES_GRT.GRT.Clients",
          "GES_GRT.GRT.Employees",
          "GES_GRT.GRT.IncomeComponents",
          "GES_GRT.GRT.LineItems",
          "GES_GRT.GeneralComments",
          "GES_GRT.GeneralComments.Dto",
          "GES_GRT.IO",
          "GES_GRT.IncomeComponents",
          "GES_GRT.IncomeComponents.Dto",
          "GES_GRT.LineItems",
          "GES_GRT.LineItems.Dto",
          "GES_GRT.Localization",
          "GES_GRT.Localization.Dto",
          "GES_GRT.Logging",
          "GES_GRT.MultiTenancy",
          "GES_GRT.MultiTenancy.Demo",
          "GES_GRT.MultiTenancy.Dto",
          "GES_GRT.Notifications",
          "GES_GRT.Notifications.Dto",
          "GES_GRT.Organizations",
          "GES_GRT.Organizations.Dto",
          "GES_GRT.Periods",
          "GES_GRT.ReconciliationComments",
          "GES_GRT.Runtime.Session",
          "GES_GRT.Security",
          "GES_GRT.Services",
          "GES_GRT.Sessions",
          "GES_GRT.Settings",
          "GES_GRT.Storage",
          "GES_GRT.Tenants.Dashboard",
          "GES_GRT.Timing",
          "GES_GRT.Util",
          "GES_GRT.Validation",
          "GES_GRT.Web",
          "GES_GRT.Web.App.Startup",
          "GES_GRT.Web.Areas.Mpa",
          "GES_GRT.Web.Areas.Mpa.Controllers",
          "GES_GRT.Web.Areas.Mpa.Models.Common.Modals",
          "GES_GRT.Web.Areas.Mpa.Models.Editions",
          "GES_GRT.Web.Areas.Mpa.Models.Languages",
          "GES_GRT.Web.Areas.Mpa.Models.Layout",
          "GES_GRT.Web.Areas.Mpa.Models.OrganizationUnits",
          "GES_GRT.Web.Areas.Mpa.Models.Profile",
          "GES_GRT.Web.Areas.Mpa.Models.Roles",
          "GES_GRT.Web.Areas.Mpa.Models.Tenants",
          "GES_GRT.Web.Areas.Mpa.Models.Users",
          "GES_GRT.Web.Areas.Mpa.Startup",
          "GES_GRT.Web.Auth",
          "GES_GRT.Web.Bundling",
          "GES_GRT.Web.Chat.SignalR",
          "GES_GRT.Web.Controllers",
          "GES_GRT.Web.Controllers.Results",
          "GES_GRT.Web.Helpers",
          "GES_GRT.Web.Models.Account",
          "GES_GRT.Web.Models.Layout",
          "GES_GRT.Web.MultiTenancy",
          "GES_GRT.Web.Navigation",
          "GES_GRT.Web.Routing",
          "GES_GRT.Web.Views",
          "GES_GRT.WebApi",
          "GES_GRT.WebApi.Controllers",
          "GES_GRT.WebApi.Controllers.Dto",
          "GES_GRT.WebApi.Helpers"
         ],
         "marker": {
          "colors": [
           "blue",
           "blue",
           "blue",
           "blue",
           "blue",
           "red",
           "red",
           "yellow",
           "blue",
           "blue",
           "blue",
           "yellow",
           "blue",
           "blue",
           "blue",
           "blue",
           "blue",
           "blue",
           "red",
           "blue",
           "blue",
           "blue",
           "blue",
           "blue",
           "blue",
           "red",
           "blue",
           "red",
           "yellow",
           "blue",
           "blue",
           "blue",
           "blue",
           "yellow",
           "blue",
           "blue",
           "blue",
           "blue",
           "blue",
           "blue",
           "blue",
           "yellow",
           "red",
           "red",
           "blue",
           "yellow",
           "yellow",
           "red",
           "blue",
           "blue",
           "blue",
           "blue",
           "red",
           "yellow",
           "blue",
           "blue",
           "blue",
           "blue",
           "blue",
           "blue",
           "blue",
           "blue",
           "blue",
           "yellow",
           "blue",
           "yellow",
           "yellow",
           "red",
           "blue",
           "red",
           "blue",
           "blue",
           "blue",
           "yellow",
           "blue",
           "blue",
           "blue",
           "blue",
           "blue",
           "red",
           "yellow",
           "blue",
           "yellow",
           "yellow",
           "blue",
           "blue",
           "blue",
           "blue",
           "blue",
           "blue",
           "blue",
           "blue",
           "blue",
           "blue",
           "blue",
           "red",
           "blue",
           "blue",
           "yellow",
           "yellow",
           "blue",
           "blue",
           "blue",
           "blue",
           "blue",
           "blue",
           "blue",
           "blue",
           "blue",
           "blue",
           "blue",
           "blue",
           "blue",
           "blue",
           "red",
           "yellow",
           "blue",
           "blue",
           "blue",
           "blue",
           "yellow",
           "blue",
           "blue",
           "blue",
           "blue",
           "blue",
           "blue",
           "blue",
           "blue",
           "blue",
           "blue",
           "yellow",
           "blue",
           "blue",
           "blue",
           "blue",
           "blue",
           "blue",
           "red",
           "red",
           "blue",
           "blue",
           "yellow",
           "blue",
           "yellow",
           "red",
           "blue",
           "yellow",
           "blue",
           "blue",
           "blue",
           "blue",
           "yellow",
           "blue",
           "blue",
           "blue",
           "blue",
           "blue",
           "red",
           "blue",
           "blue",
           "blue",
           "blue",
           "blue",
           "blue",
           "blue",
           "blue",
           "blue",
           "blue",
           "yellow",
           "blue",
           "blue",
           "blue",
           "blue",
           "blue",
           "blue",
           "yellow",
           "blue",
           "blue",
           "blue",
           "yellow",
           "blue",
           "blue",
           "blue",
           "blue",
           "blue",
           "blue",
           "blue",
           "blue",
           "blue",
           "blue",
           "blue",
           "blue",
           "blue",
           "red",
           "yellow",
           "red",
           "blue",
           "yellow",
           "blue",
           "yellow",
           "blue",
           "blue",
           "blue",
           "yellow",
           "blue",
           "blue",
           "blue",
           "blue",
           "blue",
           "blue",
           "red",
           "blue",
           "blue",
           "red",
           "blue",
           "yellow",
           "blue",
           "blue",
           "blue",
           "yellow",
           "red",
           "blue",
           "blue",
           "blue",
           "red",
           "blue",
           "red",
           "yellow",
           "blue",
           "blue",
           "blue",
           "blue",
           "blue",
           "blue",
           "blue",
           "blue",
           "blue",
           "blue",
           "blue",
           "blue",
           "blue",
           "blue",
           "yellow",
           "red",
           "yellow",
           "blue",
           "blue",
           "blue",
           "blue",
           "blue",
           "yellow",
           "blue",
           "red",
           "blue",
           "blue",
           "yellow",
           "blue",
           "blue",
           "blue",
           "blue",
           "red",
           "blue",
           "yellow",
           "blue",
           "blue",
           "yellow",
           "yellow",
           "blue",
           "blue",
           "blue",
           "yellow",
           "blue",
           "blue",
           "yellow",
           "yellow",
           "blue",
           "blue",
           "yellow",
           "blue",
           "blue",
           "blue",
           "blue",
           "yellow",
           "blue",
           "blue",
           "yellow",
           "blue",
           "blue",
           "yellow",
           "yellow",
           "blue",
           "blue",
           "blue",
           "blue",
           "yellow",
           "blue",
           "blue",
           "yellow",
           "blue",
           "red",
           "yellow",
           "blue",
           "blue",
           "yellow",
           "blue",
           "blue",
           "blue",
           "blue",
           "blue",
           "yellow",
           "blue",
           "yellow",
           "blue",
           "yellow",
           "blue",
           "red",
           "blue",
           "blue",
           "blue",
           "red",
           "blue",
           "yellow",
           "red",
           "red",
           "red",
           "red",
           "blue",
           "blue",
           "blue",
           "blue",
           "blue",
           "blue",
           "blue",
           "blue",
           "blue",
           "blue",
           "blue",
           "blue",
           "blue",
           "blue",
           "blue",
           "red",
           "blue",
           "red",
           "blue",
           "red",
           "red",
           "blue",
           "yellow",
           "red",
           "blue",
           "blue",
           "red",
           "yellow",
           "blue",
           "red",
           "red",
           "blue",
           "blue",
           "blue",
           "yellow",
           "blue",
           "blue",
           "blue",
           "yellow",
           "blue",
           "blue",
           "yellow",
           "yellow",
           "blue",
           "yellow",
           "blue",
           "yellow",
           "yellow",
           "blue",
           "yellow",
           "yellow",
           "yellow",
           "blue",
           "yellow",
           "blue",
           "yellow",
           "blue",
           "yellow",
           "blue",
           "blue",
           "blue",
           "blue",
           "yellow",
           "blue",
           "blue",
           "blue",
           "blue",
           "blue",
           "blue",
           "blue",
           "yellow",
           "yellow",
           "blue",
           "blue",
           "blue",
           "blue",
           "blue",
           "blue",
           "yellow",
           "blue",
           "yellow",
           "yellow",
           "blue",
           "blue",
           "yellow",
           "yellow",
           "blue",
           "blue",
           "blue",
           "yellow",
           "blue",
           "blue",
           "blue",
           "blue",
           "blue",
           "blue",
           "blue",
           "red",
           "yellow",
           "yellow",
           "blue",
           "blue",
           "blue",
           "blue",
           "blue",
           "blue",
           "blue",
           "blue",
           "yellow",
           "red",
           "blue",
           "yellow",
           "blue",
           "blue",
           "blue",
           "yellow",
           "red",
           "blue",
           "yellow",
           "blue",
           "blue",
           "blue",
           "blue",
           "blue",
           "blue",
           "blue",
           "blue",
           "blue",
           "blue",
           "blue",
           "blue",
           "yellow",
           "blue",
           "blue",
           "blue",
           "blue",
           "red",
           "blue",
           "yellow",
           "yellow",
           "blue",
           "blue",
           "blue",
           "blue",
           "blue",
           "blue",
           "blue",
           "blue",
           "yellow",
           "blue",
           "blue",
           "blue",
           "blue",
           "blue",
           "blue",
           "blue",
           "blue",
           "blue",
           "blue",
           "blue",
           "yellow",
           "blue",
           "blue",
           "red",
           "blue",
           "blue",
           "blue",
           "blue",
           "yellow",
           "blue",
           "blue",
           "blue",
           "red",
           "blue",
           "red",
           "blue",
           "blue",
           "blue",
           "blue",
           "blue",
           "blue",
           "blue",
           "blue",
           "blue",
           "yellow",
           "yellow",
           "blue",
           "blue",
           "blue",
           "blue",
           "blue",
           "blue",
           "red",
           "red",
           "blue",
           "yellow",
           "blue",
           "blue",
           "blue",
           "blue",
           "yellow",
           "blue",
           "blue",
           "red",
           "blue",
           "blue",
           "blue",
           "blue",
           "blue",
           "blue",
           "blue",
           "blue",
           "blue",
           "yellow",
           "blue",
           "blue",
           "blue",
           "yellow",
           "blue",
           "blue",
           "blue",
           "yellow",
           "blue",
           "blue",
           "blue",
           "yellow",
           "yellow",
           "blue",
           "blue",
           "yellow",
           "red",
           "yellow",
           "blue",
           "blue",
           "blue",
           "blue",
           "yellow",
           "yellow",
           "blue",
           "yellow",
           "blue",
           "red",
           "yellow",
           "blue",
           "yellow",
           "blue",
           "blue",
           "yellow",
           "blue",
           "blue",
           "blue",
           "yellow",
           "blue",
           "blue",
           "blue",
           "blue",
           "blue",
           "blue",
           "blue",
           "yellow",
           "yellow",
           "blue",
           "yellow",
           "yellow",
           "blue",
           "yellow",
           "blue",
           "blue",
           "red",
           "yellow",
           "blue",
           "yellow",
           "blue",
           "yellow",
           "blue",
           "red",
           "blue",
           "blue",
           "blue",
           "blue",
           "blue",
           "blue",
           "blue",
           "blue",
           "red",
           "blue",
           "blue",
           "blue",
           "blue",
           "yellow",
           "blue",
           "yellow",
           "blue",
           "blue",
           "blue",
           "yellow",
           "red",
           "blue",
           "blue",
           "blue",
           "blue",
           "blue",
           "blue",
           "blue",
           "blue",
           "yellow",
           "blue",
           "blue",
           "blue",
           "yellow",
           "yellow",
           "red",
           "blue",
           "blue",
           "blue",
           "yellow",
           "red",
           "blue",
           "blue",
           "blue",
           "yellow",
           "yellow",
           "blue",
           "blue",
           "blue",
           "blue",
           "blue",
           "blue",
           "blue",
           "blue",
           "blue",
           "blue",
           "red",
           "blue",
           "blue",
           "blue",
           "blue",
           "yellow",
           "yellow",
           "yellow",
           "red",
           "blue",
           "blue",
           "blue",
           "yellow",
           "blue",
           "yellow",
           "red",
           "yellow",
           "blue",
           "red",
           "blue",
           "blue",
           "blue",
           "blue",
           "red",
           "blue",
           "blue",
           "yellow",
           "yellow",
           "blue",
           "red",
           "blue",
           "blue",
           "yellow",
           "blue",
           "blue",
           "blue",
           "blue",
           "blue",
           "blue",
           "blue",
           "yellow",
           "yellow",
           "blue",
           "blue",
           "blue",
           "red",
           "red",
           "blue",
           "blue",
           "blue",
           "blue",
           "blue",
           "blue",
           "blue",
           "blue",
           "blue",
           "blue",
           "blue",
           "blue",
           "blue",
           "blue",
           "yellow",
           "yellow",
           "yellow",
           "red",
           "blue",
           "blue",
           "yellow",
           "yellow",
           "yellow",
           "yellow",
           "yellow",
           "blue",
           "red",
           "blue",
           "blue",
           "blue",
           "blue",
           "blue",
           "blue",
           "blue",
           "blue",
           "blue",
           "blue",
           "blue",
           "blue",
           "red",
           "blue",
           "red",
           "blue",
           "blue",
           "blue",
           "red",
           "red",
           "blue",
           "blue",
           "yellow",
           "blue",
           "yellow",
           "blue",
           "red",
           "yellow",
           "blue",
           "red",
           "blue",
           "yellow",
           "blue",
           "yellow",
           "yellow",
           "blue",
           "red",
           "blue",
           "blue",
           "red",
           "yellow",
           "blue",
           "yellow",
           "blue",
           "blue",
           "yellow",
           "blue",
           "blue",
           "yellow",
           "blue",
           "yellow",
           "blue",
           "blue",
           "yellow",
           "blue",
           "blue",
           "blue",
           "blue",
           "blue",
           "blue",
           "blue",
           "blue",
           "blue",
           "blue",
           "blue",
           "blue",
           "blue",
           "yellow",
           "blue",
           "yellow",
           "red",
           "blue",
           "yellow",
           "black",
           "blue",
           "black",
           "black",
           "blue",
           "blue",
           "blue",
           "blue",
           "black",
           "blue",
           "blue",
           "blue",
           "blue",
           "blue",
           "blue",
           "blue",
           "blue",
           "black",
           "black",
           "blue",
           "blue",
           "blue",
           "blue",
           "blue",
           "black",
           "black",
           "black",
           "black",
           "black",
           "black",
           "blue",
           "black",
           "black",
           "blue",
           "black",
           "blue",
           "blue",
           "black",
           "blue",
           "blue",
           "blue",
           "blue",
           "blue",
           "blue",
           "blue",
           "blue",
           "blue",
           "blue",
           "blue",
           "blue",
           "blue",
           "blue",
           "blue",
           "blue",
           "blue",
           "blue",
           "blue",
           "black",
           "blue",
           "blue",
           "blue",
           "blue",
           "black",
           "blue",
           "blue",
           "blue",
           "blue",
           "blue",
           "blue",
           "blue",
           "black",
           "blue",
           "black",
           "blue",
           "blue",
           "black",
           "black",
           "black",
           "blue",
           "blue",
           "black",
           "blue",
           "yellow",
           "blue",
           "yellow",
           "blue",
           "blue",
           "blue",
           "blue",
           "black",
           "black",
           "blue",
           "black",
           "blue",
           "blue",
           "black",
           "blue",
           "black",
           "blue",
           "black",
           "blue",
           "blue",
           "blue",
           "blue",
           "blue",
           "blue",
           "black",
           "blue",
           "blue",
           "blue",
           "blue",
           "blue",
           "blue",
           "blue",
           "blue",
           "blue",
           "blue",
           "blue",
           "blue",
           "blue",
           "blue",
           "blue",
           "blue",
           "blue",
           "blue",
           "blue",
           "blue",
           "blue",
           "blue",
           "blue",
           "blue",
           "blue",
           "black",
           "blue",
           "blue",
           "blue",
           "black",
           "black",
           "black",
           "black",
           "black",
           "black",
           "blue",
           "black",
           "blue",
           "blue",
           "black",
           "black",
           "blue",
           "black",
           "blue",
           "black",
           "blue",
           "blue",
           "black",
           "blue",
           "blue",
           "blue",
           "blue",
           "blue",
           "blue",
           "blue",
           "blue",
           "blue",
           "black",
           "blue",
           "blue",
           "black",
           "blue",
           "blue",
           "blue",
           "blue",
           "red",
           "blue",
           "yellow",
           "blue",
           "yellow",
           "black",
           "blue",
           "black",
           "black",
           "blue",
           "black",
           "blue",
           "blue",
           "blue",
           "yellow",
           "blue",
           "blue",
           "blue",
           "black",
           "blue",
           "blue",
           "black",
           "black",
           "black",
           "blue",
           "blue",
           "blue",
           "blue",
           "blue",
           "blue",
           "blue",
           "blue",
           "black",
           "blue",
           "blue",
           "black",
           "black",
           "black",
           "yellow",
           "blue",
           "blue",
           "blue",
           "blue",
           "red",
           "blue",
           "blue",
           "blue",
           "blue",
           "black",
           "black",
           "blue",
           "black",
           "black",
           "blue",
           "black",
           "blue",
           "black",
           "blue",
           "yellow",
           "blue",
           "blue",
           "black",
           "blue",
           "blue",
           "black",
           "black",
           "blue",
           "black",
           "black",
           "blue",
           "blue",
           "yellow",
           "black",
           "black",
           "blue",
           "black",
           "black",
           "blue",
           "black",
           "blue",
           "black",
           "blue",
           "black",
           "blue",
           "black",
           "blue",
           "black",
           "blue",
           "blue",
           "blue",
           "black",
           "black",
           "yellow",
           "blue",
           "black",
           "blue",
           "black",
           "blue",
           "black",
           "blue",
           "black",
           "blue",
           "blue",
           "black",
           "blue",
           "black",
           "black",
           "blue",
           "blue",
           "blue",
           "blue",
           "blue",
           "blue",
           "black",
           "blue",
           "blue",
           "black",
           "blue",
           "black",
           "blue",
           "black",
           "blue",
           "black",
           "black",
           "black",
           "blue",
           "blue",
           "blue",
           "black",
           "blue",
           "blue",
           "black",
           "blue",
           "red",
           "yellow",
           "blue",
           "blue",
           "blue",
           "blue",
           "blue",
           "black",
           "blue",
           "black",
           "black",
           "blue",
           "black",
           "blue",
           "blue",
           "blue",
           "blue",
           "blue",
           "blue",
           "blue",
           "blue",
           "blue",
           "blue",
           "black",
           "black",
           "black",
           "black",
           "blue",
           "blue",
           "blue",
           "blue",
           "black",
           "blue",
           "blue",
           "blue",
           "blue",
           "black",
           "blue",
           "black"
          ]
         },
         "name": "",
         "parents": [
          "GES_GRT.Web.Areas.Mpa.Controllers/TenantsController",
          "GES_GRT.Currencies/CurrencyAppService",
          "GES_GRT.WebApi.Controllers/TemplateFileController",
          "GES_GRT.Authorization.Roles/RoleStore",
          "GES_GRT.Web.Controllers/ApplicationController",
          "GES_GRT.LineItems/LineItemAppService",
          "GES_GRT.LineItems/LineItemAppService",
          "GES_GRT.Authorization.Users/UserAppService",
          "GES_GRT.Web.Controllers/AboutController",
          "GES_GRT.Localization/FamFamFamFlagsHelper",
          "GES_GRT.Extensions/DecimalPrecision",
          "GES_GRT.WebApi.Controllers/ImportExchangeRatesController",
          "GES_GRT.Web.Areas.Mpa.Controllers/AuditLogsController",
          "GES_GRT.Notifications/NotificationAppService",
          "GES_GRT/CustomDtoMapper",
          "GES_GRT.Web.Helpers/CustomMultipartFormDataStreamProvider",
          "GES_GRT.Util/EnumJsonConverter",
          "GES_GRT.Web.Areas.Mpa.Controllers/ProfileController",
          "GES_GRT.Util/LineItemUtilities",
          "GES_GRT.ClientIncomeComponents/ClientIncomeComponentAppService",
          "GES_GRT.Web.Areas.Mpa/MpaAreaRegistration",
          "GES_GRT/GES_GRTAppServiceBase",
          "GES_GRT.WebApi.Controllers/ImportExchangeRatesController",
          "GES_GRT/GES_GRTAppServiceBase",
          "GES_GRT.Authorization.Users.Profile/ProfileAppService",
          "GES_GRT/GES_GRTAppServiceBase",
          "GES_GRT.Web.Controllers/TenantRegistrationController",
          "GES_GRT.Util/ExcelUtilities",
          "GES_GRT.Friendships/ChatUserStateWatcher",
          "GES_GRT/GES_GRTAppServiceBase",
          "GES_GRT.Emailing/EmailTemplateProvider",
          "GES_GRT.ExchangeRates/ExchangeRateAppService",
          "GES_GRT.ClientIncomeComponentGroups/ClientIncomeComponentGroupAppService",
          "GES_GRT.Friendships.Cache/UserFriendsCache",
          "GES_GRT.Sessions/SessionAppService",
          "GES_GRT.IncomeComponents/IncomeComponentAppService",
          "GES_GRT.Web.Areas.Mpa.Controllers/HostSettingsController",
          "GES_GRT.Web.Controllers/ProfileController",
          "GES_GRT.WebApi.Controllers/ImportIncomeComponentsController",
          "GES_GRT.Web.Areas.Mpa.Controllers/DashboardController",
          "GES_GRT.LineItems.Dto/GetCommentInput",
          "GES_GRT.Authorization.Permissions/PermissionAppService",
          "GES_GRT.WebApi.Controllers/ImportEmployeesController",
          "GES_GRT.WebApi.Controllers/ImportEmployeesController",
          "GES_GRT.LineItems/LineItemAppService",
          "GES_GRT.IncomeComponents/IncomeComponentAppService",
          "GES_GRT.Logging/WebLogAppService",
          "GES_GRT.Util/ExcelUtilities",
          "GES_GRT.Authorization.Roles/RoleAppService",
          "GES_GRT.Extensions/Enum<T>",
          "GES_GRT.Dto/PagedAndFilteredInputDto",
          "GES_GRT.Web.Areas.Mpa.Controllers/OrganizationUnitsController",
          "GES_GRT.ClientIncomeComponentGroups/ClientIncomeComponentGroupAppService",
          "GES_GRT.Extensions/DynamicQueryableExtensions",
          "GES_GRT.Web.Areas.Mpa.Models.Tenants/EditTenantViewModel",
          "GES_GRT.WebApi.Helpers/ApiReflectionHelper",
          "GES_GRT.Friendships/ChatUserStateWatcher",
          "GES_GRT.Dto/PagedInputDto",
          "GES_GRT.Web.Areas.Mpa.Controllers/EditionsController",
          "GES_GRT.Organizations/OrganizationUnitAppService",
          "GES_GRT.Editions/EditionAppService",
          "GES_GRT.Authorization.Impersonation/ImpersonationCacheManagerExtensions",
          "GES_GRT.Util/LineItemUtilities",
          "GES_GRT.LineItems/LineItemAppService",
          "GES_GRT.Extensions/EnumExtension",
          "GES_GRT.Localization/LanguageAppService",
          "GES_GRT.Friendships/FriendshipManager",
          "GES_GRT.Configuration.Tenants/TenantSettingsAppService",
          "GES_GRT.LineItems.Dto/GetLineItemInput",
          "GES_GRT.WebApi.Controllers/ImportExchangeRatesController",
          "GES_GRT.Authorization.Users.Dto/GetLinkedUsersInput",
          "GES_GRT.Employees/EmployeeAppService",
          "GES_GRT.Web.Areas.Mpa.Controllers/HomeController",
          "GES_GRT.Authorization.Users/UserLinkAppService",
          "GES_GRT.Web.Controllers/AccountController",
          "GES_GRT.Authorization.Users.Dto/GetUsersInput",
          "GES_GRT.Web.Controllers/AccountController",
          "GES_GRT.Editions/EditionManager",
          "GES_GRT.Editions/EditionAppService",
          "GES_GRT.WebApi.Controllers/ImportLineItemsController",
          "GES_GRT.Employees/EmployeeAppService",
          "GES_GRT.Web.Areas.Mpa.Controllers/LanguagesController",
          "GES_GRT.ClientIncomeComponents/ClientIncomeComponentAppService",
          "GES_GRT.ClientIncomeComponentGroups/ClientIncomeComponentGroupAppService",
          "GES_GRT.ClientExchangeRates/ClientExchangeRateAppService",
          "GES_GRT.Web.Areas.Mpa.Controllers/ProfileController",
          "GES_GRT.Authorization.Users/UserLinkManager",
          "GES_GRT.Util/LineItemUtilities",
          "GES_GRT.LineItems.Dto/LineItemOutputDto",
          "GES_GRT.Web.Areas.Mpa.Controllers/LayoutController",
          "GES_GRT.Web.Controllers/AccountController",
          "GES_GRT.Localization/LanguageAppService",
          "GES_GRT.Web.Areas.Mpa.Startup/MpaNavigationProvider",
          "GES_GRT.Web.Controllers/GES_GRTControllerBase",
          "GES_GRT.Web.Navigation/FrontEndNavigationProvider",
          "GES_GRT.Util/EnumJsonConverter",
          "GES_GRT.Clients/ClientAppService",
          "GES_GRT.GeneralComments/GeneralCommentAppService",
          "GES_GRT.Web.Controllers/AccountController",
          "GES_GRT.ReconciliationComments/ReconciliationCommentAppService",
          "GES_GRT.MultiTenancy.Dto/GetTenantsInput",
          "GES_GRT.Organizations.Dto/GetOrganizationUnitUsersInput",
          "GES_GRT.IncomeComponents.Dto/GetIncomeComponentsInput",
          "GES_GRT.ExchangeRates.Dto/GetExchangeRatesInput",
          "GES_GRT.Employees.Dto/GetEmployeesInput",
          "GES_GRT.ClientIncomeComponentGroups.Dto/GetClientIncomeComponentGroupsInput",
          "GES_GRT.ClientExchangeRates.Dto/GetClientExchangeRatesInput",
          "GES_GRT.Auditing.Dto/GetAuditLogsInput",
          "GES_GRT.LineItems.Dto/GetAlertInput",
          "GES_GRT.Notifications/AppNotifier",
          "GES_GRT.Notifications/AppNotifier",
          "GES_GRT.Web.Areas.Mpa.Models.Profile/MySettingsViewModel",
          "GES_GRT.Organizations/OrganizationUnitAppService",
          "GES_GRT.Web.Areas.Mpa.Models.Common.Modals/ModalHeaderViewModel",
          "GES_GRT.LineItems/LineItemAppService",
          "GES_GRT.LineItems/LineItemAppService",
          "GES_GRT.Web.Areas.Mpa.Controllers/MaintenanceController",
          "GES_GRT.Web.Areas.Mpa.Controllers/CommonController",
          "GES_GRT.Web.Controllers/AccountController",
          "GES_GRT.Web.Areas.Mpa.Controllers/UsersController",
          "GES_GRT.Web.Controllers/AccountController",
          "GES_GRT.LineItems/LineItemAppService",
          "GES_GRT.WebApi.Controllers/ImportLineItemsController",
          "GES_GRT.Web.Areas.Mpa.Controllers/ProfileController",
          "GES_GRT.Authorization.Users/UserLinkAppService",
          "GES_GRT.IncomeComponents/IncomeComponentAppService",
          "GES_GRT.Notifications/AppNotificationProvider",
          "GES_GRT.Friendships/FriendshipAppService",
          "GES_GRT.ClientIncomeComponents/ClientIncomeComponentAppService",
          "GES_GRT.Timing/TimingAppService",
          "GES_GRT.Timing/TimingAppService",
          "GES_GRT.Chat/ChatMessageManager",
          "GES_GRT.Authorization.Users/UserLinkManager",
          "GES_GRT.Authorization.Users/UserManager",
          "GES_GRT.Web.Controllers/AccountController",
          "GES_GRT.Chat/ChatAppService",
          "GES_GRT.Chat.Dto/GetUserChatFriendsWithSettingsOutput",
          "GES_GRT.Chat/ChatAppService",
          "GES_GRT.Authorization.Users/UserAppService",
          "GES_GRT.Friendships.Cache/UserFriendsCache",
          "GES_GRT.Notifications/NotificationAppService",
          "GES_GRT.Authorization.Users/UserAppService",
          "GES_GRT.Authorization.Users/UserAppService",
          "GES_GRT.Authorization.Users/UserAppService",
          "GES_GRT.Extensions/EnumExtension",
          "GES_GRT.Extensions/EnumExtension",
          "GES_GRT.Auditing/NamespaceStripper",
          "GES_GRT.Util/ExcelUtilities",
          "GES_GRT.MultiTenancy/TenantAppService",
          "GES_GRT.MultiTenancy/TenantAppService",
          "GES_GRT.Web.Controllers/ProfileController",
          "GES_GRT.MultiTenancy.Demo/TenantDemoDataBuilder",
          "GES_GRT.MultiTenancy.Demo/RandomUserGenerator",
          "GES_GRT.Authorization.Users/UserLoginAppService",
          "GES_GRT.Authorization.Users/UserLinkAppService",
          "GES_GRT.ReconciliationComments/ReconciliationCommentAppService",
          "GES_GRT.Authorization.Roles/RoleAppService",
          "GES_GRT.Authorization.Roles/RoleAppService",
          "GES_GRT.Web.Controllers/GES_GRTControllerBase",
          "GES_GRT.Configuration/AppSettingProvider",
          "GES_GRT.Extensions/EnumExtension",
          "GES_GRT.Web.Areas.Mpa.Models.Layout/HeaderViewModel",
          "GES_GRT.Web.Models.Layout/HeaderViewModel",
          "GES_GRT.Authorization.Users/LinkedUserDto",
          "GES_GRT.Web.Chat.SignalR/SignalRChatCommunicator",
          "GES_GRT.Web/WebUrlService",
          "GES_GRT.Clients/ClientAppService",
          "GES_GRT.MultiTenancy/TenantAppService",
          "GES_GRT.WebApi.Helpers/ApiReflectionHelper",
          "GES_GRT.Organizations/OrganizationUnitAppService",
          "GES_GRT.Friendships.Cache/UserFriendCacheSyncronizer",
          "GES_GRT.Web.Areas.Mpa.Controllers/RolesController",
          "GES_GRT.Web.Controllers/TenantRegistrationController",
          "GES_GRT.Web.Areas.Mpa.Controllers/TenantsController",
          "GES_GRT.Web.Areas.Mpa.Controllers/UsersController",
          "GES_GRT.Web.Areas.Mpa.Controllers/WelcomeController",
          "GES_GRT.Web.Controllers/GALoginController",
          "GES_GRT/GES_GRTApplicationModule",
          "GES_GRT.WebApi/GES_GRTWebApiModule",
          "GES_GRT.Web/GES_GRTWebModule",
          "GES_GRT.Util/ExcelUtilities",
          "GES_GRT.WebApi.Helpers/ApiReflectionHelper",
          "GES_GRT.Web.Controllers/AccountController",
          "GES_GRT.Organizations/OrganizationUnitAppService",
          "GES_GRT.Util/EnumJsonConverter",
          "GES_GRT.Web.Views/UrlChecker",
          "GES_GRT.Web.Controllers/AccountController",
          "GES_GRT.ClientIncomeComponentGroups/ClientIncomeComponentGroupAppService",
          "GES_GRT.Web.Areas.Mpa.Controllers/OrganizationUnitsController",
          "GES_GRT.Friendships.Cache/UserFriendCacheSyncronizer",
          "GES_GRT.Web.Areas.Mpa.Controllers/NotificationsController",
          "GES_GRT.Web.Areas.Mpa.Controllers/LanguagesController",
          "GES_GRT.Friendships.Cache/UserFriendCacheSyncronizer",
          "GES_GRT.Friendships.Cache/UserFriendCacheSyncronizer",
          "GES_GRT.Chat/ChatMessageManager",
          "GES_GRT.Chat/ChatMessageManager",
          "GES_GRT.Chat/ChatMessageManager",
          "GES_GRT.Web.Areas.Mpa.Controllers/LayoutController",
          "GES_GRT.Web.Controllers/LayoutController",
          "GES_GRT.Configuration.Host/HostSettingsAppService",
          "GES_GRT.Web.Controllers/AccountController",
          "GES_GRT.Authorization.Impersonation/ImpersonationCacheItem",
          "GES_GRT.Authorization.Impersonation/ImpersonationCacheItem",
          "GES_GRT.WebApi.Controllers/ImportClientIncomeComponentsController",
          "GES_GRT.WebApi.Controllers/ImportClientIncomeComponentsController",
          "GES_GRT.WebApi.Controllers/ImportEmployeesController",
          "GES_GRT.GRT.IncomeComponents/IncomeComponent",
          "GES_GRT.Web.Controllers/HomeController",
          "GES_GRT.Web.Areas.Mpa.Controllers/HostSettingsController",
          "GES_GRT.Web.Areas.Mpa.Controllers/MaintenanceController",
          "GES_GRT.Web.Areas.Mpa.Controllers/SettingsController",
          "GES_GRT.WebApi.Controllers/ImportExchangeRatesController",
          "GES_GRT.Friendships/ChatUserStateWatcher",
          "GES_GRT.Friendships/FriendshipExtensions",
          "GES_GRT.Web.Controllers/AccountController",
          "GES_GRT.Extensions/Enum<T>",
          "GES_GRT.Authorization.Users/UserEmailer",
          "GES_GRT.Friendships/FriendshipAppService",
          "GES_GRT.Authorization.Users/UserLinkManager",
          "GES_GRT.Authorization.Users/UserLinkAppService",
          "GES_GRT.Configuration.Host/HostSettingsAppService",
          "GES_GRT.Configuration.Tenants/TenantSettingsAppService",
          "GES_GRT.LineItems/LineItemAppService",
          "GES_GRT.Authorization.Users.Profile/ProfileAppService",
          "GES_GRT.Editions/EditionAppService",
          "GES_GRT.WebApi.Controllers/ImportClientIncomeComponentsController",
          "GES_GRT.WebApi.Controllers/ImportIncomeComponentsController",
          "GES_GRT.WebApi.Controllers/ImportLineItemsController",
          "GES_GRT.Friendships.Cache/UserFriendsCache",
          "GES_GRT.Friendships/FriendshipManager",
          "GES_GRT.Authorization.Users.Dto/UnlinkUserInput",
          "GES_GRT.Web.Models.Account/SwitchToLinkedAccountModel",
          "GES_GRT.Chat.Dto/MarkAllUnreadMessagesOfUserAsReadInput",
          "GES_GRT.Extensions/Enum<T>",
          "GES_GRT.Auditing/NamespaceStripper",
          "GES_GRT.Web.Controllers/AccountController",
          "GES_GRT.Authorization.Users/SwitchToLinkedAccountCacheItem",
          "GES_GRT.Authorization.Users/SwitchToLinkedAccountCacheItem",
          "GES_GRT.Util/TableRange",
          "GES_GRT.MultiTenancy/Tenant",
          "GES_GRT.MultiTenancy/Tenant",
          "GES_GRT.MultiTenancy/TenantAppService",
          "GES_GRT.Authorization.Roles/RoleAppService",
          "GES_GRT.MultiTenancy.Demo/TenantDemoDataBuilder",
          "GES_GRT.MultiTenancy/TenantManager",
          "GES_GRT.Web.Areas.Mpa.Controllers/LanguagesController",
          "GES_GRT.Timing/TimeZoneService",
          "GES_GRT.Timing/TimingAppService",
          "GES_GRT.Employees.Exporting/EmployeeListExcelExporter",
          "GES_GRT.Friendships/FriendshipExtensions",
          "GES_GRT.Extensions/Enum<T>",
          "GES_GRT.Extensions/EnumExtension",
          "GES_GRT.Web.Areas.Mpa.Models.Tenants/TenantFeaturesEditViewModel",
          "GES_GRT.Auditing/NamespaceStripper",
          "GES_GRT.Localization/LanguageAppService",
          "GES_GRT.Notifications/NotificationAppService",
          "GES_GRT.Friendships.Cache/UserFriendsCache",
          "GES_GRT.Authorization.Users/UserLinkAppService",
          "GES_GRT.Authorization.Users/UserLinkManager",
          "GES_GRT.Authorization.Users.Exporting/UserListExcelExporter",
          "GES_GRT.Authorization.Users/UserLoginAppService",
          "GES_GRT.Authorization.Users/UserManager",
          "GES_GRT.Web.Areas.Mpa.Models.Users/UserPermissionsEditViewModel",
          "GES_GRT.Authorization.Users/UserStore",
          "GES_GRT.Web.Areas.Mpa.Controllers/UsersController",
          "GES_GRT.Web.Models.Account/RegisterViewModel",
          "GES_GRT.Employees/EmployeeAppService",
          "GES_GRT.Configuration.Tenants.Dto/TenantSettingsEditDto",
          "GES_GRT.Logging/WebLogAppService",
          "GES_GRT.Web/WebUrlService",
          "GES_GRT.Notifications/AppNotifier",
          "GES_GRT.Util/EnumJsonConverter",
          "GES_GRT.Extensions/EnumExtension",
          "GES_GRT.Friendships.Cache/UserFriendCacheSyncronizer",
          "GES_GRT.Authorization.Users/UserEmailer",
          "GES_GRT.Authorization.Users/UserAppService",
          "GES_GRT.Web.Controllers/TenantRegistrationController",
          "GES_GRT.Organizations/OrganizationUnitAppService",
          "GES_GRT.Authorization.Users.Profile/ProfileAppService",
          "GES_GRT.Authorization.Roles/RoleAppService",
          "GES_GRT.GRT.LineItems/LineItem",
          "GES_GRT.MultiTenancy/TenantAppService",
          "GES_GRT.MultiTenancy/TenantAppService",
          "GES_GRT.Authorization.Users/UserAppService",
          "GES_GRT.Authorization.Users/UserAppService",
          "GES_GRT.Localization/LanguageAppService",
          "GES_GRT.WebApi.Controllers/ImportClientIncomeComponentsController",
          "GES_GRT.WebApi.Controllers/ImportExchangeRatesController",
          "GES_GRT.WebApi.Controllers/ImportIncomeComponentsController",
          "GES_GRT.WebApi.Controllers/ImportLineItemsController",
          "GES_GRT.Web.Controllers/ProfileController",
          "GES_GRT.WebApi.Controllers.Dto/UploadResultDto",
          "GES_GRT.WebApi.Controllers/TemplateFileController",
          "GES_GRT.Web.Views/UrlChecker",
          "GES_GRT.Web.Controllers/AccountController",
          "GES_GRT.WebApi.Controllers/ImportEmployeesController",
          "GES_GRT.Web.Chat.SignalR/SignalRChatCommunicator",
          "GES_GRT.Web.Controllers/TenantRegistrationController",
          "GES_GRT.Web.Controllers/AccountController",
          "GES_GRT.IO/AppFileHelper",
          "GES_GRT.LineItems/LineItemAppService",
          "GES_GRT.LineItems/LineItemAppService",
          "GES_GRT.ReconciliationComments/ReconciliationCommentAppService",
          "GES_GRT.Web.Controllers/AccountController",
          "GES_GRT.Web.Controllers/TenantRegistrationController",
          "GES_GRT.Web.App.Startup/AppBundleConfig",
          "GES_GRT.Web.Bundling/CommonBundleConfig",
          "GES_GRT.Web.Bundling/FrontEndBundleConfig",
          "GES_GRT.Web.Areas.Mpa.Startup/MpaBundleConfig",
          "GES_GRT.Web.Routing/RouteConfig",
          "GES_GRT.Web.Controllers/AccountController",
          "GES_GRT.Web.Controllers/AccountController",
          "GES_GRT.Friendships.Cache/UserFriendsCache",
          "GES_GRT.Organizations/OrganizationUnitAppService",
          "GES_GRT.Web.Controllers/AccountController",
          "GES_GRT.Web.Controllers/AccountController",
          "GES_GRT.Util/EnumJsonConverter",
          "GES_GRT.Util/Range",
          "GES_GRT.MultiTenancy.Demo/RandomUserGenerator",
          "GES_GRT.Web.Controllers/ProfileController",
          "GES_GRT.WebApi.Controllers/ImportEmployeesController",
          "GES_GRT.Periods/PeriodAppService",
          "GES_GRT.WebApi.Controllers/ImportIncomeComponentsController",
          "GES_GRT.WebApi.Controllers/ImportIncomeComponentsController",
          "GES_GRT.WebApi.Controllers/ImportLineItemsController",
          "GES_GRT.WebApi.Controllers/ImportLineItemsController",
          "GES_GRT.WebApi.Controllers/ImportEmployeesController",
          "GES_GRT.Periods/PeriodAppService",
          "GES_GRT.MultiTenancy/TenantAppService",
          "GES_GRT.Authorization/PermissionChecker",
          "GES_GRT.Web/GES_GRTWebModule",
          "GES_GRT/GES_GRTApplicationModule",
          "GES_GRT/GES_GRTCoreModule",
          "GES_GRT.WebApi/GES_GRTWebApiModule",
          "GES_GRT.Web/GES_GRTWebModule",
          "GES_GRT.Web.Bundling/CssRewriteUrlWithVirtualDirectoryTransform",
          "GES_GRT.Authorization.Users.Profile/ProfileAppService",
          "GES_GRT.Web.Areas.Mpa.Controllers/ProfileController",
          "GES_GRT.Web.Areas.Mpa.Controllers/UsersController",
          "GES_GRT.Authorization.Users/UserAppService",
          "GES_GRT.Web/MvcApplication",
          "GES_GRT.Authorization.Roles/Role",
          "GES_GRT.Employees.Exporting/EmployeeListExcelExporter",
          "GES_GRT.Util/Range",
          "GES_GRT.Util/LineItemUtilities",
          "GES_GRT.Localization/LanguageAppService",
          "GES_GRT.Employees/EmployeeAppService",
          "GES_GRT.Employees.Exporting/EmployeeListExcelExporter",
          "GES_GRT.Editions/EditionAppService",
          "GES_GRT.Web.App.Startup/AppNavigationProvider",
          "GES_GRT.LineItems/LineItemAppService",
          "GES_GRT.Web.Navigation/FrontEndNavigationProvider",
          "GES_GRT.Notifications/NotificationAppService",
          "GES_GRT.Authorization/AppAuthorizationProvider",
          "GES_GRT.LineItems/LineItemAppService",
          "GES_GRT.Web/MvcApplication",
          "GES_GRT.Employees/EmployeeAppService",
          "GES_GRT.Employees.Exporting/EmployeeListExcelExporter",
          "GES_GRT.Web.Areas.Mpa.Controllers/SettingsController",
          "GES_GRT.Web.Areas.Mpa.Controllers/NotificationsController",
          "GES_GRT.Web.Areas.Mpa.Startup/MpaNavigationProvider",
          "GES_GRT.Util/LineItemUtilities",
          "GES_GRT.Web/MvcApplication",
          "GES_GRT.Authorization.Users/UserEmailer",
          "GES_GRT.Authorization.Roles/RoleAppService",
          "GES_GRT.Authorization.Roles/RoleManager",
          "GES_GRT.DataExporting.Excel.EpPlus/EpPlusExcelExporterBase",
          "GES_GRT.Storage/DbBinaryObjectManager",
          "GES_GRT.WebApi.Controllers/ImportClientIncomeComponentsController",
          "GES_GRT.WebApi.Controllers/ImportEmployeesController",
          "GES_GRT.WebApi.Controllers/TemplateFileController",
          "GES_GRT.Web.Controllers/AccountController",
          "GES_GRT.Configuration.Host/HostSettingsAppService",
          "GES_GRT.WebApi.Controllers/ImportIncomeComponentsController",
          "GES_GRT.Web.Chat.SignalR/SignalRChatCommunicator",
          "GES_GRT.Web.Controllers/AccountController",
          "GES_GRT.Web.Chat.SignalR/SignalRChatCommunicator",
          "GES_GRT.Web.Chat.SignalR/ChatHub",
          "GES_GRT.Chat/ChatMessageManager",
          "GES_GRT.Notifications/AppNotifier",
          "GES_GRT.Web.Chat.SignalR/SignalRChatCommunicator",
          "GES_GRT.Web.Controllers/AccountController",
          "GES_GRT.WebApi.Controllers/ImportLineItemsController",
          "GES_GRT.Periods/PeriodAppService",
          "GES_GRT.Extensions/EnumExtension",
          "GES_GRT.Util/LineItemUtilities",
          "GES_GRT.GeneralComments/GeneralCommentAppService",
          "GES_GRT.IncomeComponents/IncomeComponentAppService",
          "GES_GRT.Localization/LanguageAppService",
          "GES_GRT.LineItems/LineItemAppService",
          "GES_GRT.Authorization.Roles/RoleAppService",
          "GES_GRT.Authorization.Users/UserAppService",
          "GES_GRT.Organizations/OrganizationUnitAppService",
          "GES_GRT.Editions/EditionAppService",
          "GES_GRT.Web.Areas.Mpa.Models.OrganizationUnits/CreateOrganizationUnitModalViewModel",
          "GES_GRT.ReconciliationComments/ReconciliationCommentAppService",
          "GES_GRT.Authorization.Roles/RoleAppService",
          "GES_GRT.Util/ExcelUtilities",
          "GES_GRT.Employees/EmployeeAppService",
          "GES_GRT.MultiTenancy/TenantAppService",
          "GES_GRT.Authorization.Users/User",
          "GES_GRT.Web.Areas.Mpa.Models.Tenants/CreateTenantViewModel",
          "GES_GRT.Authorization.Users/User",
          "GES_GRT.Web/Startup",
          "GES_GRT.ClientIncomeComponentGroups/ClientIncomeComponentGroupAppService",
          "GES_GRT.Clients/ClientAppService",
          "GES_GRT.Editions/EditionAppService",
          "GES_GRT.Employees/EmployeeAppService",
          "GES_GRT.Authorization/AbpLoginResultTypeHelper",
          "GES_GRT.Web/Startup",
          "GES_GRT.Localization/LanguageAppService",
          "GES_GRT.LineItems/LineItemAppService",
          "GES_GRT/CustomDtoMapper",
          "GES_GRT.ClientExchangeRates/ClientExchangeRateAppService",
          "GES_GRT/CustomDtoMapper",
          "GES_GRT.Web.Areas.Mpa.Controllers/OrganizationUnitsController",
          "GES_GRT.ClientIncomeComponents/ClientIncomeComponentAppService",
          "GES_GRT.Web.Areas.Mpa.Controllers/EditionsController",
          "GES_GRT.Web.Areas.Mpa.Controllers/RolesController",
          "GES_GRT.Web.Areas.Mpa.Controllers/UsersController",
          "GES_GRT.Web.Areas.Mpa.Models.Roles/CreateOrEditRoleModalViewModel",
          "GES_GRT.Web.Areas.Mpa.Models.Users/CreateOrEditUserModalViewModel",
          "GES_GRT.Web.Areas.Mpa.Controllers/TenantsController",
          "GES_GRT.MultiTenancy.Demo/RandomUserGenerator",
          "GES_GRT.MultiTenancy/TenantManager",
          "GES_GRT.DataExporting.Excel.EpPlus/EpPlusExcelExporterBase",
          "GES_GRT.Employees.Exporting/EmployeeListExcelExporter",
          "GES_GRT.Employees.Dto/EmployeeOutputDto",
          "GES_GRT.Util/EnumJsonConverter",
          "GES_GRT.Extensions/DynamicQueryableExtensions+SimpleTypeComparer",
          "GES_GRT.Util/ExcelData",
          "GES_GRT.ExchangeRates/ExchangeRateAppService",
          "GES_GRT.WebApi.Helpers/TextResult",
          "GES_GRT.Employees.Dto/EmployeeInputDto",
          "GES_GRT.Web.Controllers.Results/ChallengeResult",
          "GES_GRT.Authorization.Users.Exporting/UserListExcelExporter",
          "GES_GRT.Employees.Exporting/EmployeeListExcelExporter",
          "GES_GRT.Web.Controllers/AccountController",
          "GES_GRT.Web.Controllers/AccountController",
          "GES_GRT.Localization/FamFamFamFlagsHelper",
          "GES_GRT.Web.Areas.Mpa.Controllers/TenantsController",
          "GES_GRT.Web.Controllers/FileController",
          "GES_GRT.Auditing.Exporting/AuditLogListExcelExporter",
          "GES_GRT.Employees/EmployeeAppService",
          "GES_GRT.Web.Controllers/AccountController",
          "GES_GRT.Web.Areas.Mpa.Controllers/LanguagesController",
          "GES_GRT.Web.Bundling/CssRewriteUrlWithVirtualDirectoryTransform",
          "GES_GRT.Storage/DbBinaryObjectManager",
          "GES_GRT.Extensions/DecimalPrecision",
          "GES_GRT.Storage/DbBinaryObjectManager",
          "GES_GRT.Clients/ClientAppService",
          "GES_GRT.ClientExchangeRates/ClientExchangeRateAppService",
          "GES_GRT.ClientIncomeComponents/ClientIncomeComponentAppService",
          "GES_GRT.ClientIncomeComponentGroups/ClientIncomeComponentGroupAppService",
          "GES_GRT.ClientIncomeComponentGroups/ClientIncomeComponentGroupAppService",
          "GES_GRT.GeneralComments/GeneralCommentAppService",
          "GES_GRT.IncomeComponents/IncomeComponentAppService",
          "GES_GRT.LineItems/LineItemAppService",
          "GES_GRT.LineItems/LineItemAppService",
          "GES_GRT.Clients/ClientAppService",
          "GES_GRT.ClientExchangeRates/ClientExchangeRateAppService",
          "GES_GRT.GeneralComments/GeneralCommentAppService",
          "GES_GRT.IncomeComponents/IncomeComponentAppService",
          "GES_GRT.LineItems/LineItemAppService",
          "GES_GRT.Dto/FileDto",
          "GES_GRT.ClientIncomeComponentGroups/ClientIncomeComponentGroupAppService",
          "GES_GRT.ClientExchangeRates/ClientExchangeRateAppService",
          "GES_GRT.Web.Auth/ApplicationSignInManager",
          "GES_GRT.Web/MvcApplication",
          "GES_GRT.Web/MvcApplication",
          "GES_GRT.Authorization.Users/UserLinkManager",
          "GES_GRT.Runtime.Session/AspNetZeroAbpSession",
          "GES_GRT.Auditing/AuditLogAppService",
          "GES_GRT.WebApi.Controllers/AccountController",
          "GES_GRT.Notifications/AppNotifier",
          "GES_GRT.Employees/EmployeeAppService",
          "GES_GRT.Storage/BinaryObject",
          "GES_GRT.Friendships/FriendshipAppService",
          "GES_GRT.Employees/EmployeeAppService",
          "GES_GRT.Clients/ClientAppService",
          "GES_GRT.IncomeComponents/IncomeComponentAppService",
          "GES_GRT.Web.Controllers.Results/ChallengeResult",
          "GES_GRT.Web.Controllers.Results/ChallengeResult",
          "GES_GRT.Web.Controllers/AccountController",
          "GES_GRT.Authorization.Users.Profile/ProfileAppService",
          "GES_GRT.Authorization.Ldap/AppLdapAuthenticationSource",
          "GES_GRT.Authorization/AppAuthorizationProvider",
          "GES_GRT.Friendships/FriendshipManager",
          "GES_GRT.WebApi.Controllers/AccountController",
          "GES_GRT.WebApi.Controllers/AccountController",
          "GES_GRT.Web.Controllers/AccountController",
          "GES_GRT.Web.App.Startup/AppBundleConfig",
          "GES_GRT.Web.Areas.Mpa.Startup/MpaBundleConfig",
          "GES_GRT.Web.App.Startup/AppBundleConfig",
          "GES_GRT.Authorization/AppAuthorizationProvider",
          "GES_GRT.Friendships.Cache/UserFriendsCache",
          "GES_GRT.Web.Bundling/FrontEndBundleConfig",
          "GES_GRT.DataExporting.Excel.EpPlus/EpPlusExcelExporterBase",
          "GES_GRT.DataExporting.Excel.EpPlus/EpPlusExcelExporterBase",
          "GES_GRT.LineItems/LineItemAppService",
          "GES_GRT.Web.Areas.Mpa.Startup/MpaBundleConfig",
          "GES_GRT.DataExporting.Excel.EpPlus/EpPlusExcelExporterBase",
          "GES_GRT.Organizations/OrganizationUnitAppService",
          "GES_GRT.Web.Bundling/FrontEndBundleConfig",
          "GES_GRT.Web.Areas.Mpa.Controllers/ProfileController",
          "GES_GRT.Web.Controllers/ProfileController",
          "GES_GRT.Web.Chat.SignalR/ChatHub",
          "GES_GRT.ClientIncomeComponents.Dto/ClientIncomeComponentOutputDto",
          "GES_GRT.Clients.Dto/ClientInputDto",
          "GES_GRT.Clients.Dto/ClientOutputDto",
          "GES_GRT.Common/CommonLookupAppService",
          "GES_GRT.Util/ExcelUtilities",
          "GES_GRT.Web/Startup",
          "GES_GRT.Authorization.Roles/AppRoleConfig",
          "GES_GRT.ClientIncomeComponents.Dto/ClientIncomeComponentInputDto",
          "GES_GRT.WebApi/GES_GRTWebApiModule",
          "GES_GRT.Friendships.Cache/FriendCacheItemExtensions",
          "GES_GRT.Auditing/AuditLogAppService",
          "GES_GRT.Settings/CountryAppService",
          "GES_GRT.LineItems/LineItemAppService",
          "GES_GRT.Util/ExcelUtilities",
          "GES_GRT.Util/ImportUtilities",
          "GES_GRT.Web.Controllers/GALoginController",
          "GES_GRT.WebApi/GES_GRTWebApiModule",
          "GES_GRT.ClientIncomeComponentGroups.Dto/ClientIncomeComponentGroupSuperSimpleDto",
          "GES_GRT.ClientIncomeComponentGroups.Dto/ClientIncomeComponentGroupSimpleDto",
          "GES_GRT.ClientIncomeComponentGroups.Dto/ClientIncomeComponentGroupInputDto",
          "GES_GRT.Chat/ChatMessage",
          "GES_GRT.Friendships/ChatUserStateWatcher",
          "GES_GRT.Chat/ChatFeatureChecker",
          "GES_GRT.Chat/ChatFeatureChecker",
          "GES_GRT/GES_GRTAppServiceBase",
          "GES_GRT.Web.Controllers/GES_GRTControllerBase",
          "GES_GRT.MultiTenancy/TenantManager",
          "GES_GRT.Localization/LanguageAppService",
          "GES_GRT.LineItems/LineItemAppService",
          "GES_GRT.Authorization.Users.Profile/ProfileAppService",
          "GES_GRT.Web.Controllers/AccountController",
          "GES_GRT.Caching/CachingAppService",
          "GES_GRT.GRT.Clients/Client",
          "GES_GRT.Clients/ClientAppService",
          "GES_GRT.ClientExchangeRates/ClientExchangeRateAppService",
          "GES_GRT.GRT.ClientIncomeComponents/ClientIncomeComponent",
          "GES_GRT.ClientIncomeComponents.Dto/ClientIncomeComponentExportOutputDto",
          "GES_GRT.ClientIncomeComponents/ClientIncomeComponentAppService",
          "GES_GRT.Dto/FileDto",
          "GES_GRT.Organizations/OrganizationUnitAppService",
          "GES_GRT.Common/CommonLookupAppService",
          "GES_GRT.WebApi.Helpers/ApiReflectionHelper",
          "GES_GRT.ClientExchangeRates/ClientExchangeRateAppService",
          "GES_GRT.ClientExchangeRates/ClientExchangeRateAppService",
          "GES_GRT.IncomeComponents/IncomeComponentAppService",
          "GES_GRT.Util/ImportUtilities",
          "GES_GRT.Util/ImportUtilities",
          "GES_GRT.Util/ExcelUtilities",
          "GES_GRT.IncomeComponents/IncomeComponentAppService",
          "GES_GRT.Util/ImportUtilities",
          "GES_GRT.Util/ImportUtilities",
          "GES_GRT.Util/ImportUtilities",
          "GES_GRT.Clients/ClientAppService",
          "GES_GRT.Friendships.Cache/UserFriendsCache",
          "GES_GRT.Auditing/AuditLogAppService",
          "GES_GRT.WebApi.Helpers/ApiReflectionHelper",
          "GES_GRT.Localization/LanguageAppService",
          "GES_GRT.Configuration.Host/HostSettingsAppService",
          "GES_GRT.Localization.Dto/GetLanguagesOutput",
          "GES_GRT.Authorization.Permissions/PermissionAppService",
          "GES_GRT.Employees/EmployeeAppService",
          "GES_GRT.Logging/WebLogAppService",
          "GES_GRT.LineItems/LineItemAppService",
          "GES_GRT.Caching/CachingAppService",
          "GES_GRT.LineItems/LineItemAppService",
          "GES_GRT.Friendships.Cache/UserFriendsCache",
          "GES_GRT.ClientIncomeComponents/ClientIncomeComponentAppService",
          "GES_GRT.ClientIncomeComponentGroups/ClientIncomeComponentGroupAppService",
          "GES_GRT.Extensions/DynamicQueryableExtensions+SimpleTypeComparer",
          "GES_GRT.Timing/TimeZoneService",
          "GES_GRT.Util/EnumJsonConverter",
          "GES_GRT.Extensions/EnumExtension",
          "GES_GRT.Extensions/EnumExtension",
          "GES_GRT.Editions/EditionAppService",
          "GES_GRT.Editions/EditionAppService",
          "GES_GRT.Editions/EditionAppService",
          "GES_GRT.Employees/EmployeeAppService",
          "GES_GRT.Web.MultiTenancy/TenantIdAccessor",
          "GES_GRT.Employees/EmployeeAppService",
          "GES_GRT.Employees/EmployeeAppService",
          "GES_GRT.Employees/EmployeeAppService",
          "GES_GRT.ExchangeRates/ExchangeRateAppService",
          "GES_GRT.Util/LineItemUtilities",
          "GES_GRT.Authorization.Users/UserAppService",
          "GES_GRT.Web.MultiTenancy/SubdomainTenancyNameFinder",
          "GES_GRT.Services/ExchangeRateService",
          "GES_GRT.Extensions/EnumExtension",
          "GES_GRT.Extensions/EnumExtension",
          "GES_GRT.Extensions/EnumExtension",
          "GES_GRT.WebApi.Helpers/ApiReflectionHelper",
          "GES_GRT.Web.Controllers/ProfileController",
          "GES_GRT.Friendships/FriendshipManager",
          "GES_GRT.GeneralComments/GeneralCommentAppService",
          "GES_GRT.GeneralComments/GeneralCommentAppService",
          "GES_GRT.Web.Controllers/AccountController",
          "GES_GRT.Web.Auth/TwitterEmailRetriever",
          "GES_GRT.Auditing/AuditLogAppService",
          "GES_GRT.MultiTenancy.Demo/RandomUserGenerator",
          "GES_GRT.Web.Bundling/ScriptPaths",
          "GES_GRT.Web.Controllers/AccountController",
          "GES_GRT.WebApi.Controllers/AccountController",
          "GES_GRT.Web.Controllers/TenantRegistrationController",
          "GES_GRT.Tenants.Dashboard/TenantDashboardAppService",
          "GES_GRT.Web.Views/GES_GRTWebViewPageBase<TModel>",
          "GES_GRT.Extensions/DynamicQueryableExtensions",
          "GES_GRT/GES_GRTServiceBase",
          "GES_GRT.Notifications.Dto/GetNotificationsOutput",
          "GES_GRT/GES_GRTDomainServiceBase",
          "GES_GRT.Storage/DbBinaryObjectManager",
          "GES_GRT.Web.Controllers/GES_GRTControllerBase",
          "GES_GRT.GeneralComments/GeneralCommentAppService",
          "GES_GRT/GES_GRTAppServiceBase",
          "GES_GRT.Web.Controllers/GALoginController",
          "GES_GRT.GRT.Employees/Employee",
          "GES_GRT.Friendships/FriendshipManager",
          "GES_GRT.Util/LineItemUtilities",
          "GES_GRT.Friendships/Friendship",
          "GES_GRT.Friendships/Friendship",
          "GES_GRT.Authorization.Users.Profile/ProfileAppService",
          "GES_GRT.Web.Controllers/AccountController",
          "GES_GRT.Web.Bundling/BundleExtensions",
          "GES_GRT.Web.Areas.Mpa.Controllers/LayoutController",
          "GES_GRT.Common/CommonLookupAppService",
          "GES_GRT.Web.Controllers/AccountController",
          "GES_GRT.WebApi/GES_GRTApiControllerBase",
          "GES_GRT.Web.Bundling/ScriptPaths",
          "GES_GRT.Common/CommonLookupAppService",
          "GES_GRT.Web.Helpers/CustomMultipartFormDataStreamProvider",
          "GES_GRT.Web.Bundling/ScriptPaths",
          "GES_GRT.WebApi.Helpers/ApiReflectionHelper",
          "GES_GRT.Web.Bundling/ScriptPaths",
          "GES_GRT.LineItems/LineItemAppService",
          "GES_GRT.MultiTenancy.Demo/RandomUserGenerator",
          "GES_GRT.Authorization.Users/UserLinkAppService",
          "GES_GRT.WebApi.Helpers/ApiReflectionHelper",
          "GES_GRT.LineItems/LineItemAppService",
          "GES_GRT.Util/LineItemUtilities",
          "GES_GRT.ClientIncomeComponentGroups/ClientIncomeComponentGroupAppService",
          "GES_GRT.GRT.ClientIncomeComponentGroups/ClientIncomeComponentGroup",
          "GES_GRT.Web.MultiTenancy/TenantIdAccessor",
          "GES_GRT.ClientIncomeComponents/ClientIncomeComponentAppService",
          "GES_GRT.Web.Controllers/TenantRegistrationController",
          "GES_GRT.Configuration.Tenants/TenantSettingsAppService",
          "GES_GRT.Web.Areas.Mpa.Controllers/TenantsController",
          "GES_GRT.Timing/TimingAppService",
          "GES_GRT.Storage/BinaryObject",
          "GES_GRT.Localization.Dto/GetLanguageForEditOutput",
          "GES_GRT.Web.Controllers/ProfileController",
          "GES_GRT.Web.Controllers/AccountController",
          "GES_GRT.Caching/CachingAppService",
          "GES_GRT.Common/CommonLookupAppService",
          "GES_GRT.Web.MultiTenancy/SubdomainTenancyNameFinder",
          "GES_GRT.LineItems/LineItemAppService",
          "GES_GRT.Web.Controllers/AccountController",
          "GES_GRT.Web.Controllers/ProfileController",
          "GES_GRT.Web.Areas.Mpa.Models.Layout/FooterViewModel",
          "GES_GRT.Web.Areas.Mpa.Controllers/LayoutController",
          "GES_GRT.Authorization.Permissions/PermissionManagerExtensions",
          "GES_GRT.MultiTenancy.Demo/TenantDemoDataBuilder",
          "GES_GRT.Web.Controllers/AccountController",
          "GES_GRT.Util/LineItemUtilities",
          "GES_GRT.Organizations/OrganizationUnitAppService",
          "GES_GRT.Chat/ChatFeatureChecker",
          "GES_GRT.Chat/ChatMessage",
          "GES_GRT.Web.Bundling/ScriptPaths",
          "GES_GRT.Web.Areas.Mpa.Controllers/LayoutController",
          "GES_GRT.Chat/ChatMessageManager",
          "GES_GRT.WebApi.Controllers/ImportEmployeesController",
          "GES_GRT.GeneralComments/GeneralCommentAppService",
          "GES_GRT.WebApi.Controllers/ImportExchangeRatesController",
          "GES_GRT.Security/PasswordComplexityChecker",
          "GES_GRT.Chat/ChatAppService",
          "GES_GRT.Util/ExcelUtilities",
          "GES_GRT.Chat/ChatMessage",
          "GES_GRT.Authorization.Users/SwitchToLinkedAccountCacheManagerExtensions",
          "GES_GRT.LineItems/LineItemAppService",
          "GES_GRT.WebApi.Helpers/TextResult",
          "GES_GRT.MultiTenancy.Demo/TenantDemoDataBuilder",
          "GES_GRT.Extensions/EnumExtension",
          "GES_GRT.Employees/EmployeeAppService",
          "GES_GRT.Notifications/NotificationAppService",
          "GES_GRT.Util/LineItemUtilities",
          "GES_GRT.Authorization.Users/UserEmailer",
          "GES_GRT.Auditing.Exporting/AuditLogListExcelExporter",
          "GES_GRT.Extensions/EnumExtension",
          "GES_GRT.Caching/CachingAppService",
          "GES_GRT.Extensions/EnumExtension",
          "GES_GRT.Localization/LanguageAppService",
          "GES_GRT.Localization.Dto/GetLanguagesOutput",
          "GES_GRT.Authorization.Users/UserManager",
          "GES_GRT.Organizations/OrganizationUnitAppService",
          "GES_GRT.Extensions/EnumExtension",
          "GES_GRT.Friendships/FriendshipAppService",
          "GES_GRT.Web.Chat.SignalR/SignalRChatCommunicator",
          "GES_GRT.MultiTenancy.Demo/TenantDemoDataBuilder",
          "GES_GRT.Extensions/DynamicQueryableExtensions",
          "GES_GRT.Web.Controllers/FileController",
          "GES_GRT.WebApi.Controllers/ImportClientIncomeComponentsController",
          "GES_GRT.WebApi.Controllers/ImportClientIncomeComponentsController",
          "GES_GRT.Authorization.Users/UserAppService",
          "GES_GRT.MultiTenancy/TenantAppService",
          "GES_GRT.LineItems/LineItemAppService",
          "GES_GRT.Localization/LanguageAppService",
          "GES_GRT.IO/AppFileHelper",
          "GES_GRT.Web.App.Startup/AppNavigationProvider",
          "GES_GRT.Web.Controllers/ErrorController",
          "GES_GRT/GES_GRTCoreModule",
          "GES_GRT.Authorization/AppAuthorizationProvider",
          "GES_GRT.Employees/EmployeeAppService",
          "GES_GRT.Currencies/CurrencyAppService",
          "GES_GRT.Web/Startup",
          "GES_GRT.Web/Startup",
          "GES_GRT.Web.Controllers/TenantRegistrationController",
          "GES_GRT.Util/LineItemUtilities",
          "GES_GRT.WebApi.Controllers/ImportEmployeesController",
          "GES_GRT.Extensions/EnumExtension",
          "GES_GRT.Web.Controllers/AccountController",
          "GES_GRT.Features/AppFeatureProvider",
          "GES_GRT.Validation/ValidationHelper",
          "GES_GRT.Clients/ClientAppService",
          "GES_GRT.ClientIncomeComponents/ClientIncomeComponentAppService",
          "GES_GRT.LineItems/LineItemAppService",
          "GES_GRT.Chat/ChatAppService",
          "GES_GRT.Editions/FeatureValueStore",
          "GES_GRT.Web.Areas.Mpa.Controllers/ProfileController",
          "GES_GRT.LineItems/LineItemAppService",
          "GES_GRT.Friendships/FriendshipAppService",
          "GES_GRT.ClientIncomeComponents.Dto/GetClientIncomeComponentsInput",
          "GES_GRT.Clients.Dto/GetClientsInput",
          "GES_GRT.GeneralComments.Dto/GetGeneralCommentsInput",
          "GES_GRT.Localization/GetLanguageTextsInput",
          "GES_GRT.Dto/PagedAndSortedInputDto",
          "GES_GRT.LineItems.Dto/LineItemReconciliationOutputDto",
          "GES_GRT.Web.Areas.Mpa.Controllers/EditionsController",
          "GES_GRT.Notifications/NotificationAppService",
          "GES_GRT.Web.Areas.Mpa.Controllers/NotificationsController",
          "GES_GRT.GRT.LineItems/LineItem",
          "GES_GRT.Web.Areas.Mpa.Controllers/OrganizationUnitsController",
          "GES_GRT.LineItems/LineItemAppService",
          "GES_GRT.Web.Controllers/LayoutController",
          "GES_GRT.Employees/EmployeeAppService",
          "GES_GRT.Web.Bundling/AsIsBundleOrderer",
          "GES_GRT.Organizations/OrganizationUnitAppService",
          "GES_GRT.GRT.Employees/Employee",
          "GES_GRT.Util/ExcelUtilities",
          "GES_GRT.Util/LineItemUtilities",
          "GES_GRT/GES_GRTCoreModule",
          "GES_GRT.IncomeComponents.Dto/IncomeComponentOutputDto",
          "GES_GRT.Web.Chat.SignalR/SignalRChatCommunicator",
          "GES_GRT.IncomeComponents.Dto/IncomeComponentInputDto",
          "GES_GRT.DataExporting.Excel.EpPlus/EpPlusExcelExporterBase",
          "GES_GRT.IncomeComponents/IncomeComponentAppService",
          "GES_GRT.Employees.Exporting/EmployeeListExcelExporter",
          "GES_GRT.Web.MultiTenancy/SubdomainTenancyNameFinder",
          "GES_GRT/GES_GRTAppServiceBase",
          "GES_GRT.Employees.Exporting/EmployeeListExcelExporter",
          "GES_GRT.WebApi.Controllers/ImportLineItemsController",
          "GES_GRT.Friendships/FriendshipManager",
          "GES_GRT.Web.MultiTenancy/TenantIdAccessor",
          "GES_GRT.Clients/ClientAppService",
          "GES_GRT.WebApi.Controllers/ImportExchangeRatesController",
          "GES_GRT.Features/AppFeatureProvider",
          "GES_GRT.Employees.Exporting/EmployeeListExcelExporter",
          "GES_GRT/GES_GRTAppServiceBase",
          "GES_GRT.ExchangeRates/ExchangeRateAppService",
          "GES_GRT.WebApi.Controllers/ImportEmployeesController",
          "GES_GRT.Auditing/AuditLogAppService",
          "GES_GRT.Notifications/AppNotificationProvider",
          "GES_GRT.MultiTenancy.Demo/TenantDemoDataBuilder",
          "GES_GRT.WebApi.Controllers/ImportIncomeComponentsController",
          "GES_GRT.Organizations/OrganizationUnitAppService",
          "GES_GRT.Friendships/FriendshipAppService",
          "GES_GRT.GeneralComments/GeneralCommentAppService",
          "GES_GRT.Friendships/ChatUserStateWatcher",
          "GES_GRT.Util/ImportUtilities",
          "GES_GRT.Employees/EmployeeAppService",
          "GES_GRT.Friendships.Cache/UserFriendsCache",
          "GES_GRT.Authorization.Roles/Role",
          "GES_GRT.Authorization.Roles/Role",
          "GES_GRT.ClientIncomeComponents/ClientIncomeComponentAppService",
          "GES_GRT.Web.Areas.Mpa.Controllers/RolesController",
          "GES_GRT.Chat/ChatMessageManager",
          "GES_GRT.Clients/ClientAppService",
          "GES_GRT.Friendships/FriendshipAppService",
          "GES_GRT.Web.Controllers/AccountController",
          "GES_GRT.Web.Areas.Mpa.Controllers/LanguagesController",
          "GES_GRT.Util/ExcelUtilities",
          "GES_GRT.Web.Areas.Mpa.Models.Languages/CreateOrEditLanguageModalViewModel",
          "GES_GRT.Web.Areas.Mpa.Models.Editions/CreateOrEditEditionModalViewModel",
          "GES_GRT.Util/ExcelUtilities",
          "GES_GRT.Util/LineItemUtilities",
          "GES_GRT.Settings/CountryAppService",
          "GES_GRT.Localization/LanguageAppService",
          "GES_GRT.Authorization.Users/UserEmailer",
          "GES_GRT.Web/Startup",
          "GES_GRT.Util/ExcelUtilities",
          "GES_GRT.Util/ExcelUtilities",
          "GES_GRT.Web.Controllers",
          "GES_GRT.Authorization",
          "GES_GRT.Web.Controllers",
          "GES_GRT.WebApi.Controllers",
          "GES_GRT.WebApi.Helpers",
          "GES_GRT.Authorization",
          "GES_GRT.Web.App.Startup",
          "GES_GRT.Features",
          "GES_GRT.IO",
          "GES_GRT.Authorization.Ldap",
          "GES_GRT.Web.App.Startup",
          "GES_GRT.Notifications",
          "GES_GRT.Notifications",
          "GES_GRT.Authorization.Roles",
          "GES_GRT.Configuration",
          "GES_GRT.Web.Controllers",
          "GES_GRT.Web.Auth",
          "GES_GRT.Web.Bundling",
          "GES_GRT.Runtime.Session",
          "GES_GRT.Auditing",
          "GES_GRT.Auditing.Exporting",
          "GES_GRT.Web.Areas.Mpa.Controllers",
          "GES_GRT.Storage",
          "GES_GRT.Web.Bundling",
          "GES_GRT.Caching",
          "GES_GRT.Web.Controllers.Results",
          "GES_GRT.Chat",
          "GES_GRT.Chat",
          "GES_GRT.Web.Chat.SignalR",
          "GES_GRT.Chat",
          "GES_GRT.Chat",
          "GES_GRT.Friendships",
          "GES_GRT.GRT.Clients",
          "GES_GRT.Clients",
          "GES_GRT.ClientExchangeRates",
          "GES_GRT.GRT.ClientIncomeComponents",
          "GES_GRT.ClientIncomeComponents",
          "GES_GRT.ClientIncomeComponents.Dto",
          "GES_GRT.GRT.ClientIncomeComponentGroups",
          "GES_GRT.ClientIncomeComponentGroups",
          "GES_GRT.ClientIncomeComponentGroups.Dto",
          "GES_GRT.ClientIncomeComponentGroups.Dto",
          "GES_GRT.ClientIncomeComponentGroups.Dto",
          "GES_GRT.ClientIncomeComponents.Dto",
          "GES_GRT.ClientIncomeComponents.Dto",
          "GES_GRT.Clients.Dto",
          "GES_GRT.Clients.Dto",
          "GES_GRT.Web.Bundling",
          "GES_GRT.Web.Areas.Mpa.Controllers",
          "GES_GRT.Common",
          "GES_GRT.Settings",
          "GES_GRT.Web.Areas.Mpa.Models.Editions",
          "GES_GRT.Web.Areas.Mpa.Models.Languages",
          "GES_GRT.Web.Areas.Mpa.Models.Roles",
          "GES_GRT.Web.Areas.Mpa.Models.Users",
          "GES_GRT.Web.Areas.Mpa.Models.OrganizationUnits",
          "GES_GRT.Web.Areas.Mpa.Models.Tenants",
          "GES_GRT.Web.Bundling",
          "GES_GRT.Currencies",
          "GES_GRT",
          "GES_GRT.Web.Helpers",
          "GES_GRT.Web.Areas.Mpa.Controllers",
          "GES_GRT.Storage",
          "GES_GRT.Extensions",
          "GES_GRT.Extensions",
          "GES_GRT.Extensions",
          "GES_GRT.Web.Areas.Mpa.Models.Tenants",
          "GES_GRT.Editions",
          "GES_GRT.Editions",
          "GES_GRT.Web.Areas.Mpa.Controllers",
          "GES_GRT.Emailing",
          "GES_GRT.GRT.Employees",
          "GES_GRT.Employees",
          "GES_GRT.Employees.Dto",
          "GES_GRT.Employees.Exporting",
          "GES_GRT.Employees.Dto",
          "GES_GRT.Extensions",
          "GES_GRT.Extensions",
          "GES_GRT.Util",
          "GES_GRT.DataExporting.Excel.EpPlus",
          "GES_GRT.Web.Controllers",
          "GES_GRT.Util",
          "GES_GRT.Util",
          "GES_GRT.ExchangeRates",
          "GES_GRT.Services",
          "GES_GRT.Localization",
          "GES_GRT.Editions",
          "GES_GRT.Web.Controllers",
          "GES_GRT.Dto",
          "GES_GRT.Web.Areas.Mpa.Models.Layout",
          "GES_GRT.Friendships.Cache",
          "GES_GRT.Friendships",
          "GES_GRT.Friendships",
          "GES_GRT.Friendships",
          "GES_GRT.Friendships",
          "GES_GRT.Web.Bundling",
          "GES_GRT.Web.Navigation",
          "GES_GRT.Web.Controllers",
          "GES_GRT.WebApi",
          "GES_GRT",
          "GES_GRT",
          "GES_GRT.Web.Controllers",
          "GES_GRT",
          "GES_GRT",
          "GES_GRT",
          "GES_GRT.WebApi",
          "GES_GRT.Web",
          "GES_GRT.Web.Views",
          "GES_GRT.GeneralComments",
          "GES_GRT.LineItems.Dto",
          "GES_GRT.Auditing.Dto",
          "GES_GRT.ClientExchangeRates.Dto",
          "GES_GRT.ClientIncomeComponentGroups.Dto",
          "GES_GRT.ClientIncomeComponents.Dto",
          "GES_GRT.Clients.Dto",
          "GES_GRT.LineItems.Dto",
          "GES_GRT.Employees.Dto",
          "GES_GRT.ExchangeRates.Dto",
          "GES_GRT.GeneralComments.Dto",
          "GES_GRT.IncomeComponents.Dto",
          "GES_GRT.Localization.Dto",
          "GES_GRT.Localization",
          "GES_GRT.Localization.Dto",
          "GES_GRT.LineItems.Dto",
          "GES_GRT.Authorization.Users.Dto",
          "GES_GRT.Notifications.Dto",
          "GES_GRT.Organizations.Dto",
          "GES_GRT.MultiTenancy.Dto",
          "GES_GRT.Chat.Dto",
          "GES_GRT.Authorization.Users.Dto",
          "GES_GRT.Web.Areas.Mpa.Models.Layout",
          "GES_GRT.Web.Models.Layout",
          "GES_GRT.Web.Areas.Mpa.Controllers",
          "GES_GRT.Web.Controllers",
          "GES_GRT.Configuration.Host",
          "GES_GRT.Web.Areas.Mpa.Controllers",
          "GES_GRT.Authorization.Impersonation",
          "GES_GRT.Authorization.Impersonation",
          "GES_GRT.WebApi.Controllers",
          "GES_GRT.WebApi.Controllers",
          "GES_GRT.WebApi.Controllers",
          "GES_GRT.WebApi.Controllers",
          "GES_GRT.WebApi.Controllers",
          "GES_GRT.Util",
          "GES_GRT.GRT.IncomeComponents",
          "GES_GRT.IncomeComponents",
          "GES_GRT.IncomeComponents.Dto",
          "GES_GRT.IncomeComponents.Dto",
          "GES_GRT.Localization",
          "GES_GRT.Web.Areas.Mpa.Controllers",
          "GES_GRT.Web.Areas.Mpa.Controllers",
          "GES_GRT.Web.Controllers",
          "GES_GRT.GRT.LineItems",
          "GES_GRT.LineItems",
          "GES_GRT.LineItems.Dto",
          "GES_GRT.LineItems.Dto",
          "GES_GRT.Util",
          "GES_GRT.Authorization.Users",
          "GES_GRT.Web.Areas.Mpa.Controllers",
          "GES_GRT.Chat.Dto",
          "GES_GRT.Web.Areas.Mpa.Models.Common.Modals",
          "GES_GRT.Web.Areas.Mpa",
          "GES_GRT.Web.Areas.Mpa.Startup",
          "GES_GRT.Web.Areas.Mpa.Startup",
          "GES_GRT.Web",
          "GES_GRT.Web.Areas.Mpa.Models.Profile",
          "GES_GRT.Auditing",
          "GES_GRT.Notifications",
          "GES_GRT.Web.Areas.Mpa.Controllers",
          "GES_GRT.Organizations",
          "GES_GRT.Web.Areas.Mpa.Controllers",
          "GES_GRT.Dto",
          "GES_GRT.Dto",
          "GES_GRT.Dto",
          "GES_GRT.Security",
          "GES_GRT.Periods",
          "GES_GRT.Authorization.Permissions",
          "GES_GRT.Authorization",
          "GES_GRT.Authorization.Permissions",
          "GES_GRT.Authorization.Users.Profile",
          "GES_GRT.Web.Areas.Mpa.Controllers",
          "GES_GRT.Web.Controllers",
          "GES_GRT.MultiTenancy.Demo",
          "GES_GRT.Util",
          "GES_GRT.ReconciliationComments",
          "GES_GRT.Web.Models.Account",
          "GES_GRT.Authorization.Roles",
          "GES_GRT.Authorization.Roles",
          "GES_GRT.Authorization.Roles",
          "GES_GRT.Authorization.Roles",
          "GES_GRT.Web.Areas.Mpa.Controllers",
          "GES_GRT.Web.Routing",
          "GES_GRT.Web.Bundling",
          "GES_GRT.Sessions",
          "GES_GRT.Web.Areas.Mpa.Controllers",
          "GES_GRT.Web.Chat.SignalR",
          "GES_GRT.Web",
          "GES_GRT.Web.MultiTenancy",
          "GES_GRT.Authorization.Users",
          "GES_GRT.Authorization.Users",
          "GES_GRT.Web.Models.Account",
          "GES_GRT.Util",
          "GES_GRT.WebApi.Controllers",
          "GES_GRT.MultiTenancy",
          "GES_GRT.MultiTenancy",
          "GES_GRT.Tenants.Dashboard",
          "GES_GRT.MultiTenancy.Demo",
          "GES_GRT.Web.Areas.Mpa.Models.Tenants",
          "GES_GRT.Web.MultiTenancy",
          "GES_GRT.MultiTenancy",
          "GES_GRT.Web.Controllers",
          "GES_GRT.Configuration.Tenants",
          "GES_GRT.Configuration.Tenants.Dto",
          "GES_GRT.Web.Areas.Mpa.Controllers",
          "GES_GRT.WebApi.Helpers",
          "GES_GRT.Timing",
          "GES_GRT.Timing",
          "GES_GRT.Web.Auth",
          "GES_GRT.Authorization.Users.Dto",
          "GES_GRT.WebApi.Controllers.Dto",
          "GES_GRT.Web.Views",
          "GES_GRT.Authorization.Users",
          "GES_GRT.Authorization.Users",
          "GES_GRT.Authorization.Users",
          "GES_GRT.Friendships.Cache",
          "GES_GRT.Friendships.Cache",
          "GES_GRT.Authorization.Users",
          "GES_GRT.Authorization.Users",
          "GES_GRT.Authorization.Users.Exporting",
          "GES_GRT.Authorization.Users",
          "GES_GRT.Authorization.Users",
          "GES_GRT.Web.Areas.Mpa.Models.Users",
          "GES_GRT.Authorization.Users",
          "GES_GRT.Web.Areas.Mpa.Controllers",
          "GES_GRT.Validation",
          "GES_GRT.Logging",
          "GES_GRT.Web",
          "GES_GRT.Web.Areas.Mpa.Controllers",
          "",
          "",
          "",
          "",
          "",
          "",
          "",
          "",
          "",
          "",
          "",
          "",
          "",
          "",
          "",
          "",
          "",
          "",
          "",
          "",
          "",
          "",
          "",
          "",
          "",
          "",
          "",
          "",
          "",
          "",
          "",
          "",
          "",
          "",
          "",
          "",
          "",
          "",
          "",
          "",
          "",
          "",
          "",
          "",
          "",
          "",
          "",
          "",
          "",
          "",
          "",
          "",
          "",
          "",
          "",
          "",
          "",
          "",
          "",
          "",
          "",
          "",
          "",
          "",
          "",
          "",
          "",
          "",
          "",
          "",
          "",
          "",
          "",
          "",
          "",
          "",
          "",
          "",
          "",
          "",
          "",
          "",
          "",
          "",
          "",
          "",
          "",
          "",
          "",
          "",
          "",
          "",
          "",
          "",
          "",
          "",
          "",
          "",
          "",
          "",
          "",
          "",
          "",
          "",
          "",
          "",
          "",
          ""
         ],
         "type": "treemap",
         "values": [
          4,
          2,
          3,
          1,
          1,
          11,
          10,
          29,
          1,
          1,
          3,
          12,
          1,
          1,
          1,
          1,
          1,
          1,
          14,
          4,
          1,
          4,
          1,
          2,
          8,
          5,
          4,
          46,
          9,
          2,
          3,
          1,
          5,
          9,
          4,
          3,
          5,
          1,
          6,
          1,
          2,
          12,
          52,
          34,
          7,
          7,
          18,
          22,
          2,
          1,
          2,
          2,
          23,
          1,
          3,
          2,
          1,
          2,
          1,
          1,
          2,
          1,
          3,
          6,
          1,
          11,
          5,
          23,
          2,
          21,
          2,
          5,
          6,
          2,
          3,
          2,
          1,
          1,
          2,
          13,
          9,
          4,
          7,
          19,
          3,
          1,
          8,
          1,
          1,
          4,
          1,
          4,
          1,
          3,
          1,
          3,
          2,
          4,
          5,
          9,
          3,
          2,
          2,
          2,
          2,
          2,
          2,
          5,
          2,
          4,
          3,
          2,
          2,
          2,
          16,
          7,
          2,
          1,
          2,
          3,
          13,
          2,
          2,
          1,
          8,
          2,
          1,
          6,
          1,
          9,
          7,
          2,
          1,
          6,
          4,
          8,
          2,
          4,
          28,
          5,
          4,
          6,
          9,
          4,
          10,
          18,
          2,
          6,
          4,
          5,
          4,
          5,
          7,
          3,
          6,
          3,
          10,
          5,
          56,
          2,
          3,
          4,
          3,
          3,
          5,
          8,
          5,
          3,
          1,
          13,
          1,
          5,
          4,
          2,
          11,
          1,
          16,
          1,
          4,
          10,
          18,
          1,
          1,
          1,
          3,
          5,
          6,
          1,
          1,
          3,
          1,
          2,
          1,
          2,
          15,
          11,
          16,
          3,
          12,
          5,
          14,
          1,
          4,
          1,
          11,
          1,
          2,
          1,
          6,
          2,
          5,
          20,
          1,
          1,
          26,
          5,
          12,
          6,
          3,
          6,
          24,
          31,
          1,
          8,
          4,
          15,
          4,
          17,
          8,
          3,
          1,
          1,
          1,
          9,
          5,
          5,
          1,
          5,
          2,
          1,
          1,
          2,
          2,
          8,
          10,
          14,
          3,
          2,
          4,
          1,
          6,
          1,
          3,
          22,
          8,
          8,
          8,
          5,
          2,
          3,
          2,
          2,
          3,
          1,
          6,
          3,
          9,
          13,
          2,
          2,
          1,
          4,
          1,
          2,
          6,
          10,
          3,
          4,
          19,
          5,
          1,
          4,
          2,
          20,
          3,
          3,
          14,
          12,
          14,
          14,
          18,
          3,
          15,
          1,
          8,
          15,
          2,
          4,
          4,
          4,
          20,
          14,
          5,
          1,
          31,
          8,
          2,
          6,
          7,
          4,
          7,
          4,
          6,
          1,
          14,
          9,
          17,
          2,
          2,
          5,
          33,
          5,
          17,
          18,
          25,
          93,
          53,
          3,
          1,
          1,
          9,
          3,
          14,
          1,
          4,
          4,
          4,
          3,
          4,
          2,
          8,
          1,
          26,
          3,
          16,
          1,
          57,
          61,
          2,
          2,
          13,
          3,
          4,
          64,
          4,
          4,
          47,
          29,
          4,
          2,
          2,
          6,
          2,
          17,
          2,
          1,
          2,
          1,
          12,
          12,
          3,
          11,
          3,
          12,
          8,
          6,
          10,
          12,
          7,
          1,
          8,
          6,
          12,
          2,
          3,
          9,
          3,
          5,
          3,
          4,
          3,
          3,
          4,
          3,
          2,
          3,
          4,
          7,
          5,
          1,
          1,
          2,
          1,
          9,
          4,
          6,
          4,
          16,
          9,
          4,
          3,
          8,
          5,
          4,
          3,
          1,
          12,
          3,
          3,
          3,
          2,
          2,
          8,
          1,
          36,
          5,
          6,
          4,
          1,
          1,
          1,
          4,
          2,
          4,
          4,
          23,
          11,
          1,
          20,
          1,
          4,
          2,
          23,
          13,
          11,
          13,
          2,
          2,
          3,
          1,
          2,
          4,
          4,
          5,
          10,
          1,
          1,
          4,
          8,
          5,
          4,
          3,
          4,
          48,
          1,
          10,
          6,
          1,
          2,
          7,
          5,
          1,
          5,
          6,
          2,
          7,
          3,
          6,
          5,
          1,
          1,
          1,
          4,
          5,
          3,
          1,
          2,
          5,
          1,
          3,
          14,
          1,
          1,
          1,
          2,
          6,
          1,
          2,
          6,
          7,
          1,
          9,
          1,
          1,
          1,
          14,
          5,
          2,
          4,
          4,
          3,
          5,
          13,
          3,
          2,
          1,
          2,
          5,
          2,
          21,
          46,
          2,
          18,
          4,
          1,
          1,
          1,
          9,
          4,
          2,
          12,
          1,
          1,
          1,
          7,
          3,
          6,
          2,
          6,
          2,
          5,
          5,
          2,
          2,
          6,
          4,
          1,
          8,
          9,
          5,
          5,
          4,
          8,
          7,
          1,
          4,
          6,
          31,
          6,
          5,
          1,
          5,
          3,
          24,
          12,
          2,
          11,
          2,
          18,
          7,
          3,
          6,
          2,
          5,
          12,
          1,
          10,
          1,
          8,
          3,
          12,
          11,
          2,
          5,
          3,
          6,
          6,
          18,
          4,
          6,
          20,
          2,
          13,
          12,
          1,
          18,
          12,
          4,
          2,
          4,
          26,
          6,
          28,
          3,
          1,
          6,
          4,
          4,
          4,
          3,
          3,
          14,
          2,
          2,
          2,
          1,
          2,
          4,
          2,
          3,
          1,
          2,
          5,
          16,
          1,
          3,
          3,
          2,
          3,
          8,
          6,
          2,
          6,
          1,
          2,
          6,
          14,
          10,
          29,
          1,
          8,
          3,
          7,
          11,
          6,
          1,
          6,
          6,
          7,
          4,
          5,
          2,
          2,
          3,
          3,
          4,
          2,
          3,
          3,
          42,
          10,
          4,
          4,
          3,
          14,
          43,
          15,
          29,
          6,
          2,
          1,
          6,
          1,
          10,
          41,
          12,
          1,
          23,
          5,
          3,
          1,
          1,
          14,
          3,
          5,
          3,
          4,
          9,
          16,
          4,
          3,
          14,
          2,
          1,
          4,
          1,
          2,
          7,
          3,
          12,
          8,
          5,
          2,
          7,
          25,
          44,
          4,
          2,
          6,
          2,
          7,
          1,
          1,
          2,
          1,
          1,
          2,
          1,
          12,
          1,
          2,
          5,
          6,
          61,
          1,
          4,
          16,
          8,
          7,
          15,
          1,
          4,
          17,
          6,
          2,
          2,
          2,
          2,
          2,
          1,
          2,
          4,
          2,
          2,
          3,
          9,
          4,
          15,
          1,
          5,
          4,
          59,
          12,
          1,
          2,
          8,
          2,
          5,
          5,
          37,
          15,
          2,
          73,
          1,
          5,
          5,
          4,
          7,
          3,
          59,
          4,
          10,
          12,
          3,
          2,
          5,
          1,
          3,
          25,
          3,
          2,
          6,
          6,
          9,
          1,
          1,
          5,
          3,
          2,
          5,
          2,
          8,
          3,
          7,
          2,
          2,
          3,
          3,
          3,
          4,
          19,
          1,
          11,
          16,
          1,
          9,
          321,
          14,
          45,
          69,
          10,
          4,
          11,
          1,
          3,
          3,
          11,
          3,
          2,
          1,
          1,
          1,
          1,
          21,
          26,
          1,
          5,
          2,
          13,
          9,
          32,
          16,
          17,
          11,
          63,
          17,
          2,
          56,
          36,
          2,
          58,
          2,
          1,
          95,
          1,
          1,
          1,
          2,
          2,
          4,
          4,
          2,
          1,
          23,
          5,
          2,
          2,
          2,
          2,
          2,
          2,
          6,
          4,
          9,
          3,
          1,
          5,
          6,
          17,
          2,
          3,
          42,
          1,
          6,
          3,
          5,
          236,
          4,
          306,
          4,
          21,
          106,
          30,
          29,
          1,
          1,
          250,
          19,
          13,
          2,
          1,
          9,
          5,
          4,
          2,
          17,
          63,
          2,
          22,
          8,
          4,
          37,
          2,
          22,
          4,
          62,
          17,
          2,
          2,
          10,
          23,
          3,
          60,
          2,
          5,
          2,
          2,
          2,
          2,
          2,
          2,
          2,
          2,
          2,
          3,
          2,
          3,
          2,
          2,
          2,
          2,
          3,
          2,
          2,
          4,
          3,
          6,
          1,
          44,
          11,
          5,
          1,
          122,
          258,
          74,
          72,
          177,
          66,
          2,
          36,
          2,
          2,
          74,
          36,
          14,
          16,
          3,
          358,
          1,
          1,
          133,
          3,
          4,
          1,
          2,
          1,
          9,
          3,
          23,
          2,
          29,
          30,
          5,
          49,
          7,
          2,
          2,
          2,
          23,
          10,
          23,
          1,
          14,
          51,
          11,
          53,
          12,
          5,
          20,
          3,
          3,
          33,
          1,
          1,
          11,
          4,
          34,
          4,
          9,
          49,
          40,
          20,
          6,
          1,
          1,
          2,
          21,
          2,
          24,
          3,
          71,
          3,
          14,
          47,
          58,
          58,
          13,
          23,
          5,
          13,
          20,
          28,
          1,
          3,
          6,
          2,
          138,
          58,
          9,
          54,
          35,
          19,
          26,
          5,
          10,
          3,
          1,
          27,
          4,
          38,
          10,
          1,
          56,
          50,
          5,
          26,
          79,
          6,
          1,
          37,
          41,
          278,
          5,
          26,
          51,
          13,
          122,
          3,
          36,
          2,
          95,
          5,
          58,
          8,
          56,
          10,
          23,
          2,
          44,
          58,
          13,
          4,
          29,
          11,
          44,
          3,
          236,
          10,
          306,
          19,
          2,
          152,
          4,
          121,
          65,
          1,
          2,
          2,
          5,
          2,
          3,
          60,
          2,
          11,
          36,
          6,
          358,
          8,
          78,
          6,
          38,
          73,
          83,
          3,
          44,
          2,
          49,
          2,
          10,
          20,
          1,
          23,
          13,
          4,
          5,
          10,
          3,
          33,
          487,
          4,
          96,
          13,
          1,
          174,
          2,
          2,
          2,
          8,
          2,
          2,
          2,
          8,
          5,
          12,
          29,
          53,
          66,
          560,
          9,
          3,
          4,
          3,
          34,
          4,
          4,
          9,
          12,
          738,
          3,
          50
         ]
        }
       ],
       "layout": {
        "legend": {
         "tracegroupgap": 0
        },
        "margin": {
         "t": 60
        },
        "template": {
         "data": {
          "bar": [
           {
            "error_x": {
             "color": "#2a3f5f"
            },
            "error_y": {
             "color": "#2a3f5f"
            },
            "marker": {
             "line": {
              "color": "#E5ECF6",
              "width": 0.5
             }
            },
            "type": "bar"
           }
          ],
          "barpolar": [
           {
            "marker": {
             "line": {
              "color": "#E5ECF6",
              "width": 0.5
             }
            },
            "type": "barpolar"
           }
          ],
          "carpet": [
           {
            "aaxis": {
             "endlinecolor": "#2a3f5f",
             "gridcolor": "white",
             "linecolor": "white",
             "minorgridcolor": "white",
             "startlinecolor": "#2a3f5f"
            },
            "baxis": {
             "endlinecolor": "#2a3f5f",
             "gridcolor": "white",
             "linecolor": "white",
             "minorgridcolor": "white",
             "startlinecolor": "#2a3f5f"
            },
            "type": "carpet"
           }
          ],
          "choropleth": [
           {
            "colorbar": {
             "outlinewidth": 0,
             "ticks": ""
            },
            "type": "choropleth"
           }
          ],
          "contour": [
           {
            "colorbar": {
             "outlinewidth": 0,
             "ticks": ""
            },
            "colorscale": [
             [
              0,
              "#0d0887"
             ],
             [
              0.1111111111111111,
              "#46039f"
             ],
             [
              0.2222222222222222,
              "#7201a8"
             ],
             [
              0.3333333333333333,
              "#9c179e"
             ],
             [
              0.4444444444444444,
              "#bd3786"
             ],
             [
              0.5555555555555556,
              "#d8576b"
             ],
             [
              0.6666666666666666,
              "#ed7953"
             ],
             [
              0.7777777777777778,
              "#fb9f3a"
             ],
             [
              0.8888888888888888,
              "#fdca26"
             ],
             [
              1,
              "#f0f921"
             ]
            ],
            "type": "contour"
           }
          ],
          "contourcarpet": [
           {
            "colorbar": {
             "outlinewidth": 0,
             "ticks": ""
            },
            "type": "contourcarpet"
           }
          ],
          "heatmap": [
           {
            "colorbar": {
             "outlinewidth": 0,
             "ticks": ""
            },
            "colorscale": [
             [
              0,
              "#0d0887"
             ],
             [
              0.1111111111111111,
              "#46039f"
             ],
             [
              0.2222222222222222,
              "#7201a8"
             ],
             [
              0.3333333333333333,
              "#9c179e"
             ],
             [
              0.4444444444444444,
              "#bd3786"
             ],
             [
              0.5555555555555556,
              "#d8576b"
             ],
             [
              0.6666666666666666,
              "#ed7953"
             ],
             [
              0.7777777777777778,
              "#fb9f3a"
             ],
             [
              0.8888888888888888,
              "#fdca26"
             ],
             [
              1,
              "#f0f921"
             ]
            ],
            "type": "heatmap"
           }
          ],
          "heatmapgl": [
           {
            "colorbar": {
             "outlinewidth": 0,
             "ticks": ""
            },
            "colorscale": [
             [
              0,
              "#0d0887"
             ],
             [
              0.1111111111111111,
              "#46039f"
             ],
             [
              0.2222222222222222,
              "#7201a8"
             ],
             [
              0.3333333333333333,
              "#9c179e"
             ],
             [
              0.4444444444444444,
              "#bd3786"
             ],
             [
              0.5555555555555556,
              "#d8576b"
             ],
             [
              0.6666666666666666,
              "#ed7953"
             ],
             [
              0.7777777777777778,
              "#fb9f3a"
             ],
             [
              0.8888888888888888,
              "#fdca26"
             ],
             [
              1,
              "#f0f921"
             ]
            ],
            "type": "heatmapgl"
           }
          ],
          "histogram": [
           {
            "marker": {
             "colorbar": {
              "outlinewidth": 0,
              "ticks": ""
             }
            },
            "type": "histogram"
           }
          ],
          "histogram2d": [
           {
            "colorbar": {
             "outlinewidth": 0,
             "ticks": ""
            },
            "colorscale": [
             [
              0,
              "#0d0887"
             ],
             [
              0.1111111111111111,
              "#46039f"
             ],
             [
              0.2222222222222222,
              "#7201a8"
             ],
             [
              0.3333333333333333,
              "#9c179e"
             ],
             [
              0.4444444444444444,
              "#bd3786"
             ],
             [
              0.5555555555555556,
              "#d8576b"
             ],
             [
              0.6666666666666666,
              "#ed7953"
             ],
             [
              0.7777777777777778,
              "#fb9f3a"
             ],
             [
              0.8888888888888888,
              "#fdca26"
             ],
             [
              1,
              "#f0f921"
             ]
            ],
            "type": "histogram2d"
           }
          ],
          "histogram2dcontour": [
           {
            "colorbar": {
             "outlinewidth": 0,
             "ticks": ""
            },
            "colorscale": [
             [
              0,
              "#0d0887"
             ],
             [
              0.1111111111111111,
              "#46039f"
             ],
             [
              0.2222222222222222,
              "#7201a8"
             ],
             [
              0.3333333333333333,
              "#9c179e"
             ],
             [
              0.4444444444444444,
              "#bd3786"
             ],
             [
              0.5555555555555556,
              "#d8576b"
             ],
             [
              0.6666666666666666,
              "#ed7953"
             ],
             [
              0.7777777777777778,
              "#fb9f3a"
             ],
             [
              0.8888888888888888,
              "#fdca26"
             ],
             [
              1,
              "#f0f921"
             ]
            ],
            "type": "histogram2dcontour"
           }
          ],
          "mesh3d": [
           {
            "colorbar": {
             "outlinewidth": 0,
             "ticks": ""
            },
            "type": "mesh3d"
           }
          ],
          "parcoords": [
           {
            "line": {
             "colorbar": {
              "outlinewidth": 0,
              "ticks": ""
             }
            },
            "type": "parcoords"
           }
          ],
          "pie": [
           {
            "automargin": true,
            "type": "pie"
           }
          ],
          "scatter": [
           {
            "marker": {
             "colorbar": {
              "outlinewidth": 0,
              "ticks": ""
             }
            },
            "type": "scatter"
           }
          ],
          "scatter3d": [
           {
            "line": {
             "colorbar": {
              "outlinewidth": 0,
              "ticks": ""
             }
            },
            "marker": {
             "colorbar": {
              "outlinewidth": 0,
              "ticks": ""
             }
            },
            "type": "scatter3d"
           }
          ],
          "scattercarpet": [
           {
            "marker": {
             "colorbar": {
              "outlinewidth": 0,
              "ticks": ""
             }
            },
            "type": "scattercarpet"
           }
          ],
          "scattergeo": [
           {
            "marker": {
             "colorbar": {
              "outlinewidth": 0,
              "ticks": ""
             }
            },
            "type": "scattergeo"
           }
          ],
          "scattergl": [
           {
            "marker": {
             "colorbar": {
              "outlinewidth": 0,
              "ticks": ""
             }
            },
            "type": "scattergl"
           }
          ],
          "scattermapbox": [
           {
            "marker": {
             "colorbar": {
              "outlinewidth": 0,
              "ticks": ""
             }
            },
            "type": "scattermapbox"
           }
          ],
          "scatterpolar": [
           {
            "marker": {
             "colorbar": {
              "outlinewidth": 0,
              "ticks": ""
             }
            },
            "type": "scatterpolar"
           }
          ],
          "scatterpolargl": [
           {
            "marker": {
             "colorbar": {
              "outlinewidth": 0,
              "ticks": ""
             }
            },
            "type": "scatterpolargl"
           }
          ],
          "scatterternary": [
           {
            "marker": {
             "colorbar": {
              "outlinewidth": 0,
              "ticks": ""
             }
            },
            "type": "scatterternary"
           }
          ],
          "surface": [
           {
            "colorbar": {
             "outlinewidth": 0,
             "ticks": ""
            },
            "colorscale": [
             [
              0,
              "#0d0887"
             ],
             [
              0.1111111111111111,
              "#46039f"
             ],
             [
              0.2222222222222222,
              "#7201a8"
             ],
             [
              0.3333333333333333,
              "#9c179e"
             ],
             [
              0.4444444444444444,
              "#bd3786"
             ],
             [
              0.5555555555555556,
              "#d8576b"
             ],
             [
              0.6666666666666666,
              "#ed7953"
             ],
             [
              0.7777777777777778,
              "#fb9f3a"
             ],
             [
              0.8888888888888888,
              "#fdca26"
             ],
             [
              1,
              "#f0f921"
             ]
            ],
            "type": "surface"
           }
          ],
          "table": [
           {
            "cells": {
             "fill": {
              "color": "#EBF0F8"
             },
             "line": {
              "color": "white"
             }
            },
            "header": {
             "fill": {
              "color": "#C8D4E3"
             },
             "line": {
              "color": "white"
             }
            },
            "type": "table"
           }
          ]
         },
         "layout": {
          "annotationdefaults": {
           "arrowcolor": "#2a3f5f",
           "arrowhead": 0,
           "arrowwidth": 1
          },
          "coloraxis": {
           "colorbar": {
            "outlinewidth": 0,
            "ticks": ""
           }
          },
          "colorscale": {
           "diverging": [
            [
             0,
             "#8e0152"
            ],
            [
             0.1,
             "#c51b7d"
            ],
            [
             0.2,
             "#de77ae"
            ],
            [
             0.3,
             "#f1b6da"
            ],
            [
             0.4,
             "#fde0ef"
            ],
            [
             0.5,
             "#f7f7f7"
            ],
            [
             0.6,
             "#e6f5d0"
            ],
            [
             0.7,
             "#b8e186"
            ],
            [
             0.8,
             "#7fbc41"
            ],
            [
             0.9,
             "#4d9221"
            ],
            [
             1,
             "#276419"
            ]
           ],
           "sequential": [
            [
             0,
             "#0d0887"
            ],
            [
             0.1111111111111111,
             "#46039f"
            ],
            [
             0.2222222222222222,
             "#7201a8"
            ],
            [
             0.3333333333333333,
             "#9c179e"
            ],
            [
             0.4444444444444444,
             "#bd3786"
            ],
            [
             0.5555555555555556,
             "#d8576b"
            ],
            [
             0.6666666666666666,
             "#ed7953"
            ],
            [
             0.7777777777777778,
             "#fb9f3a"
            ],
            [
             0.8888888888888888,
             "#fdca26"
            ],
            [
             1,
             "#f0f921"
            ]
           ],
           "sequentialminus": [
            [
             0,
             "#0d0887"
            ],
            [
             0.1111111111111111,
             "#46039f"
            ],
            [
             0.2222222222222222,
             "#7201a8"
            ],
            [
             0.3333333333333333,
             "#9c179e"
            ],
            [
             0.4444444444444444,
             "#bd3786"
            ],
            [
             0.5555555555555556,
             "#d8576b"
            ],
            [
             0.6666666666666666,
             "#ed7953"
            ],
            [
             0.7777777777777778,
             "#fb9f3a"
            ],
            [
             0.8888888888888888,
             "#fdca26"
            ],
            [
             1,
             "#f0f921"
            ]
           ]
          },
          "colorway": [
           "#636efa",
           "#EF553B",
           "#00cc96",
           "#ab63fa",
           "#FFA15A",
           "#19d3f3",
           "#FF6692",
           "#B6E880",
           "#FF97FF",
           "#FECB52"
          ],
          "font": {
           "color": "#2a3f5f"
          },
          "geo": {
           "bgcolor": "white",
           "lakecolor": "white",
           "landcolor": "#E5ECF6",
           "showlakes": true,
           "showland": true,
           "subunitcolor": "white"
          },
          "hoverlabel": {
           "align": "left"
          },
          "hovermode": "closest",
          "mapbox": {
           "style": "light"
          },
          "paper_bgcolor": "white",
          "plot_bgcolor": "#E5ECF6",
          "polar": {
           "angularaxis": {
            "gridcolor": "white",
            "linecolor": "white",
            "ticks": ""
           },
           "bgcolor": "#E5ECF6",
           "radialaxis": {
            "gridcolor": "white",
            "linecolor": "white",
            "ticks": ""
           }
          },
          "scene": {
           "xaxis": {
            "backgroundcolor": "#E5ECF6",
            "gridcolor": "white",
            "gridwidth": 2,
            "linecolor": "white",
            "showbackground": true,
            "ticks": "",
            "zerolinecolor": "white"
           },
           "yaxis": {
            "backgroundcolor": "#E5ECF6",
            "gridcolor": "white",
            "gridwidth": 2,
            "linecolor": "white",
            "showbackground": true,
            "ticks": "",
            "zerolinecolor": "white"
           },
           "zaxis": {
            "backgroundcolor": "#E5ECF6",
            "gridcolor": "white",
            "gridwidth": 2,
            "linecolor": "white",
            "showbackground": true,
            "ticks": "",
            "zerolinecolor": "white"
           }
          },
          "shapedefaults": {
           "line": {
            "color": "#2a3f5f"
           }
          },
          "ternary": {
           "aaxis": {
            "gridcolor": "white",
            "linecolor": "white",
            "ticks": ""
           },
           "baxis": {
            "gridcolor": "white",
            "linecolor": "white",
            "ticks": ""
           },
           "bgcolor": "#E5ECF6",
           "caxis": {
            "gridcolor": "white",
            "linecolor": "white",
            "ticks": ""
           }
          },
          "title": {
           "x": 0.05
          },
          "xaxis": {
           "automargin": true,
           "gridcolor": "white",
           "linecolor": "white",
           "ticks": "",
           "title": {
            "standoff": 15
           },
           "zerolinecolor": "white",
           "zerolinewidth": 2
          },
          "yaxis": {
           "automargin": true,
           "gridcolor": "white",
           "linecolor": "white",
           "ticks": "",
           "title": {
            "standoff": 15
           },
           "zerolinecolor": "white",
           "zerolinewidth": 2
          }
         }
        }
       }
      },
      "text/html": [
       "<div>                            <div id=\"5aa2d09b-fe63-4ef4-9391-2459f12fec9e\" class=\"plotly-graph-div\" style=\"height:525px; width:100%;\"></div>            <script type=\"text/javascript\">                require([\"plotly\"], function(Plotly) {                    window.PLOTLYENV=window.PLOTLYENV || {};                                    if (document.getElementById(\"5aa2d09b-fe63-4ef4-9391-2459f12fec9e\")) {                    Plotly.newPlot(                        \"5aa2d09b-fe63-4ef4-9391-2459f12fec9e\",                        [{\"branchvalues\": \"total\", \"customdata\": [[\"low\"], [\"low\"], [\"low\"], [\"low\"], [\"low\"], [\"high\"], [\"high\"], [\"regular\"], [\"low\"], [\"low\"], [\"low\"], [\"regular\"], [\"low\"], [\"low\"], [\"low\"], [\"low\"], [\"low\"], [\"low\"], [\"high\"], [\"low\"], [\"low\"], [\"low\"], [\"low\"], [\"low\"], [\"low\"], [\"high\"], [\"low\"], [\"high\"], [\"regular\"], [\"low\"], [\"low\"], [\"low\"], [\"low\"], [\"regular\"], [\"low\"], [\"low\"], [\"low\"], [\"low\"], [\"low\"], [\"low\"], [\"low\"], [\"regular\"], [\"high\"], [\"high\"], [\"low\"], [\"regular\"], [\"regular\"], [\"high\"], [\"low\"], [\"low\"], [\"low\"], [\"low\"], [\"high\"], [\"regular\"], [\"low\"], [\"low\"], [\"low\"], [\"low\"], [\"low\"], [\"low\"], [\"low\"], [\"low\"], [\"low\"], [\"regular\"], [\"low\"], [\"regular\"], [\"regular\"], [\"high\"], [\"low\"], [\"high\"], [\"low\"], [\"low\"], [\"low\"], [\"regular\"], [\"low\"], [\"low\"], [\"low\"], [\"low\"], [\"low\"], [\"high\"], [\"regular\"], [\"low\"], [\"regular\"], [\"regular\"], [\"low\"], [\"low\"], [\"low\"], [\"low\"], [\"low\"], [\"low\"], [\"low\"], [\"low\"], [\"low\"], [\"low\"], [\"low\"], [\"high\"], [\"low\"], [\"low\"], [\"regular\"], [\"regular\"], [\"low\"], [\"low\"], [\"low\"], [\"low\"], [\"low\"], [\"low\"], [\"low\"], [\"low\"], [\"low\"], [\"low\"], [\"low\"], [\"low\"], [\"low\"], [\"low\"], [\"high\"], [\"regular\"], [\"low\"], [\"low\"], [\"low\"], [\"low\"], [\"regular\"], [\"low\"], [\"low\"], [\"low\"], [\"low\"], [\"low\"], [\"low\"], [\"low\"], [\"low\"], [\"low\"], [\"low\"], [\"regular\"], [\"low\"], [\"low\"], [\"low\"], [\"low\"], [\"low\"], [\"low\"], [\"high\"], [\"high\"], [\"low\"], [\"low\"], [\"regular\"], [\"low\"], [\"regular\"], [\"high\"], [\"low\"], [\"regular\"], [\"low\"], [\"low\"], [\"low\"], [\"low\"], [\"regular\"], [\"low\"], [\"low\"], [\"low\"], [\"low\"], [\"low\"], [\"high\"], [\"low\"], [\"low\"], [\"low\"], [\"low\"], [\"low\"], [\"low\"], [\"low\"], [\"low\"], [\"low\"], [\"low\"], [\"regular\"], [\"low\"], [\"low\"], [\"low\"], [\"low\"], [\"low\"], [\"low\"], [\"regular\"], [\"low\"], [\"low\"], [\"low\"], [\"regular\"], [\"low\"], [\"low\"], [\"low\"], [\"low\"], [\"low\"], [\"low\"], [\"low\"], [\"low\"], [\"low\"], [\"low\"], [\"low\"], [\"low\"], [\"low\"], [\"high\"], [\"regular\"], [\"high\"], [\"low\"], [\"regular\"], [\"low\"], [\"regular\"], [\"low\"], [\"low\"], [\"low\"], [\"regular\"], [\"low\"], [\"low\"], [\"low\"], [\"low\"], [\"low\"], [\"low\"], [\"high\"], [\"low\"], [\"low\"], [\"high\"], [\"low\"], [\"regular\"], [\"low\"], [\"low\"], [\"low\"], [\"regular\"], [\"high\"], [\"low\"], [\"low\"], [\"low\"], [\"high\"], [\"low\"], [\"high\"], [\"regular\"], [\"low\"], [\"low\"], [\"low\"], [\"low\"], [\"low\"], [\"low\"], [\"low\"], [\"low\"], [\"low\"], [\"low\"], [\"low\"], [\"low\"], [\"low\"], [\"low\"], [\"regular\"], [\"high\"], [\"regular\"], [\"low\"], [\"low\"], [\"low\"], [\"low\"], [\"low\"], [\"regular\"], [\"low\"], [\"high\"], [\"low\"], [\"low\"], [\"regular\"], [\"low\"], [\"low\"], [\"low\"], [\"low\"], [\"high\"], [\"low\"], [\"regular\"], [\"low\"], [\"low\"], [\"regular\"], [\"regular\"], [\"low\"], [\"low\"], [\"low\"], [\"regular\"], [\"low\"], [\"low\"], [\"regular\"], [\"regular\"], [\"low\"], [\"low\"], [\"regular\"], [\"low\"], [\"low\"], [\"low\"], [\"low\"], [\"regular\"], [\"low\"], [\"low\"], [\"regular\"], [\"low\"], [\"low\"], [\"regular\"], [\"regular\"], [\"low\"], [\"low\"], [\"low\"], [\"low\"], [\"regular\"], [\"low\"], [\"low\"], [\"regular\"], [\"low\"], [\"high\"], [\"regular\"], [\"low\"], [\"low\"], [\"regular\"], [\"low\"], [\"low\"], [\"low\"], [\"low\"], [\"low\"], [\"regular\"], [\"low\"], [\"regular\"], [\"low\"], [\"regular\"], [\"low\"], [\"high\"], [\"low\"], [\"low\"], [\"low\"], [\"high\"], [\"low\"], [\"regular\"], [\"high\"], [\"high\"], [\"high\"], [\"high\"], [\"low\"], [\"low\"], [\"low\"], [\"low\"], [\"low\"], [\"low\"], [\"low\"], [\"low\"], [\"low\"], [\"low\"], [\"low\"], [\"low\"], [\"low\"], [\"low\"], [\"low\"], [\"high\"], [\"low\"], [\"high\"], [\"low\"], [\"high\"], [\"high\"], [\"low\"], [\"regular\"], [\"high\"], [\"low\"], [\"low\"], [\"high\"], [\"regular\"], [\"low\"], [\"high\"], [\"high\"], [\"low\"], [\"low\"], [\"low\"], [\"regular\"], [\"low\"], [\"low\"], [\"low\"], [\"regular\"], [\"low\"], [\"low\"], [\"regular\"], [\"regular\"], [\"low\"], [\"regular\"], [\"low\"], [\"regular\"], [\"regular\"], [\"low\"], [\"regular\"], [\"regular\"], [\"regular\"], [\"low\"], [\"regular\"], [\"low\"], [\"regular\"], [\"low\"], [\"regular\"], [\"low\"], [\"low\"], [\"low\"], [\"low\"], [\"regular\"], [\"low\"], [\"low\"], [\"low\"], [\"low\"], [\"low\"], [\"low\"], [\"low\"], [\"regular\"], [\"regular\"], [\"low\"], [\"low\"], [\"low\"], [\"low\"], [\"low\"], [\"low\"], [\"regular\"], [\"low\"], [\"regular\"], [\"regular\"], [\"low\"], [\"low\"], [\"regular\"], [\"regular\"], [\"low\"], [\"low\"], [\"low\"], [\"regular\"], [\"low\"], [\"low\"], [\"low\"], [\"low\"], [\"low\"], [\"low\"], [\"low\"], [\"high\"], [\"regular\"], [\"regular\"], [\"low\"], [\"low\"], [\"low\"], [\"low\"], [\"low\"], [\"low\"], [\"low\"], [\"low\"], [\"regular\"], [\"high\"], [\"low\"], [\"regular\"], [\"low\"], [\"low\"], [\"low\"], [\"regular\"], [\"high\"], [\"low\"], [\"regular\"], [\"low\"], [\"low\"], [\"low\"], [\"low\"], [\"low\"], [\"low\"], [\"low\"], [\"low\"], [\"low\"], [\"low\"], [\"low\"], [\"low\"], [\"regular\"], [\"low\"], [\"low\"], [\"low\"], [\"low\"], [\"high\"], [\"low\"], [\"regular\"], [\"regular\"], [\"low\"], [\"low\"], [\"low\"], [\"low\"], [\"low\"], [\"low\"], [\"low\"], [\"low\"], [\"regular\"], [\"low\"], [\"low\"], [\"low\"], [\"low\"], [\"low\"], [\"low\"], [\"low\"], [\"low\"], [\"low\"], [\"low\"], [\"low\"], [\"regular\"], [\"low\"], [\"low\"], [\"high\"], [\"low\"], [\"low\"], [\"low\"], [\"low\"], [\"regular\"], [\"low\"], [\"low\"], [\"low\"], [\"high\"], [\"low\"], [\"high\"], [\"low\"], [\"low\"], [\"low\"], [\"low\"], [\"low\"], [\"low\"], [\"low\"], [\"low\"], [\"low\"], [\"regular\"], [\"regular\"], [\"low\"], [\"low\"], [\"low\"], [\"low\"], [\"low\"], [\"low\"], [\"high\"], [\"high\"], [\"low\"], [\"regular\"], [\"low\"], [\"low\"], [\"low\"], [\"low\"], [\"regular\"], [\"low\"], [\"low\"], [\"high\"], [\"low\"], [\"low\"], [\"low\"], [\"low\"], [\"low\"], [\"low\"], [\"low\"], [\"low\"], [\"low\"], [\"regular\"], [\"low\"], [\"low\"], [\"low\"], [\"regular\"], [\"low\"], [\"low\"], [\"low\"], [\"regular\"], [\"low\"], [\"low\"], [\"low\"], [\"regular\"], [\"regular\"], [\"low\"], [\"low\"], [\"regular\"], [\"high\"], [\"regular\"], [\"low\"], [\"low\"], [\"low\"], [\"low\"], [\"regular\"], [\"regular\"], [\"low\"], [\"regular\"], [\"low\"], [\"high\"], [\"regular\"], [\"low\"], [\"regular\"], [\"low\"], [\"low\"], [\"regular\"], [\"low\"], [\"low\"], [\"low\"], [\"regular\"], [\"low\"], [\"low\"], [\"low\"], [\"low\"], [\"low\"], [\"low\"], [\"low\"], [\"regular\"], [\"regular\"], [\"low\"], [\"regular\"], [\"regular\"], [\"low\"], [\"regular\"], [\"low\"], [\"low\"], [\"high\"], [\"regular\"], [\"low\"], [\"regular\"], [\"low\"], [\"regular\"], [\"low\"], [\"high\"], [\"low\"], [\"low\"], [\"low\"], [\"low\"], [\"low\"], [\"low\"], [\"low\"], [\"low\"], [\"high\"], [\"low\"], [\"low\"], [\"low\"], [\"low\"], [\"regular\"], [\"low\"], [\"regular\"], [\"low\"], [\"low\"], [\"low\"], [\"regular\"], [\"high\"], [\"low\"], [\"low\"], [\"low\"], [\"low\"], [\"low\"], [\"low\"], [\"low\"], [\"low\"], [\"regular\"], [\"low\"], [\"low\"], [\"low\"], [\"regular\"], [\"regular\"], [\"high\"], [\"low\"], [\"low\"], [\"low\"], [\"regular\"], [\"high\"], [\"low\"], [\"low\"], [\"low\"], [\"regular\"], [\"regular\"], [\"low\"], [\"low\"], [\"low\"], [\"low\"], [\"low\"], [\"low\"], [\"low\"], [\"low\"], [\"low\"], [\"low\"], [\"high\"], [\"low\"], [\"low\"], [\"low\"], [\"low\"], [\"regular\"], [\"regular\"], [\"regular\"], [\"high\"], [\"low\"], [\"low\"], [\"low\"], [\"regular\"], [\"low\"], [\"regular\"], [\"high\"], [\"regular\"], [\"low\"], [\"high\"], [\"low\"], [\"low\"], [\"low\"], [\"low\"], [\"high\"], [\"low\"], [\"low\"], [\"regular\"], [\"regular\"], [\"low\"], [\"high\"], [\"low\"], [\"low\"], [\"regular\"], [\"low\"], [\"low\"], [\"low\"], [\"low\"], [\"low\"], [\"low\"], [\"low\"], [\"regular\"], [\"regular\"], [\"low\"], [\"low\"], [\"low\"], [\"high\"], [\"high\"], [\"low\"], [\"low\"], [\"low\"], [\"low\"], [\"low\"], [\"low\"], [\"low\"], [\"low\"], [\"low\"], [\"low\"], [\"low\"], [\"low\"], [\"low\"], [\"low\"], [\"regular\"], [\"regular\"], [\"regular\"], [\"high\"], [\"low\"], [\"low\"], [\"regular\"], [\"regular\"], [\"regular\"], [\"regular\"], [\"regular\"], [\"low\"], [\"high\"], [\"low\"], [\"low\"], [\"low\"], [\"low\"], [\"low\"], [\"low\"], [\"low\"], [\"low\"], [\"low\"], [\"low\"], [\"low\"], [\"low\"], [\"high\"], [\"low\"], [\"high\"], [\"low\"], [\"low\"], [\"low\"], [\"high\"], [\"high\"], [\"low\"], [\"low\"], [\"regular\"], [\"low\"], [\"regular\"], [\"low\"], [\"high\"], [\"regular\"], [\"low\"], [\"high\"], [\"low\"], [\"regular\"], [\"low\"], [\"regular\"], [\"regular\"], [\"low\"], [\"high\"], [\"low\"], [\"low\"], [\"high\"], [\"regular\"], [\"low\"], [\"regular\"], [\"low\"], [\"low\"], [\"regular\"], [\"low\"], [\"low\"], [\"regular\"], [\"low\"], [\"regular\"], [\"low\"], [\"low\"], [\"regular\"], [\"low\"], [\"low\"], [\"low\"], [\"low\"], [\"low\"], [\"low\"], [\"low\"], [\"low\"], [\"low\"], [\"low\"], [\"low\"], [\"low\"], [\"low\"], [\"regular\"], [\"low\"], [\"regular\"], [\"high\"], [\"low\"], [\"regular\"], [\"(?)\"], [\"low\"], [\"(?)\"], [\"(?)\"], [\"low\"], [\"low\"], [\"low\"], [\"low\"], [\"(?)\"], [\"low\"], [\"low\"], [\"low\"], [\"low\"], [\"low\"], [\"low\"], [\"low\"], [\"low\"], [\"(?)\"], [\"(?)\"], [\"low\"], [\"low\"], [\"low\"], [\"low\"], [\"low\"], [\"(?)\"], [\"(?)\"], [\"(?)\"], [\"(?)\"], [\"(?)\"], [\"(?)\"], [\"low\"], [\"(?)\"], [\"(?)\"], [\"low\"], [\"(?)\"], [\"low\"], [\"low\"], [\"(?)\"], [\"low\"], [\"low\"], [\"low\"], [\"low\"], [\"low\"], [\"low\"], [\"low\"], [\"low\"], [\"low\"], [\"low\"], [\"low\"], [\"low\"], [\"low\"], [\"low\"], [\"low\"], [\"low\"], [\"low\"], [\"low\"], [\"low\"], [\"(?)\"], [\"low\"], [\"low\"], [\"low\"], [\"low\"], [\"(?)\"], [\"low\"], [\"low\"], [\"low\"], [\"low\"], [\"low\"], [\"low\"], [\"low\"], [\"(?)\"], [\"low\"], [\"(?)\"], [\"low\"], [\"low\"], [\"(?)\"], [\"(?)\"], [\"(?)\"], [\"low\"], [\"low\"], [\"(?)\"], [\"low\"], [\"regular\"], [\"low\"], [\"regular\"], [\"low\"], [\"low\"], [\"low\"], [\"low\"], [\"(?)\"], [\"(?)\"], [\"low\"], [\"(?)\"], [\"low\"], [\"low\"], [\"(?)\"], [\"low\"], [\"(?)\"], [\"low\"], [\"(?)\"], [\"low\"], [\"low\"], [\"low\"], [\"low\"], [\"low\"], [\"low\"], [\"(?)\"], [\"low\"], [\"low\"], [\"low\"], [\"low\"], [\"low\"], [\"low\"], [\"low\"], [\"low\"], [\"low\"], [\"low\"], [\"low\"], [\"low\"], [\"low\"], [\"low\"], [\"low\"], [\"low\"], [\"low\"], [\"low\"], [\"low\"], [\"low\"], [\"low\"], [\"low\"], [\"low\"], [\"low\"], [\"low\"], [\"(?)\"], [\"low\"], [\"low\"], [\"low\"], [\"(?)\"], [\"(?)\"], [\"(?)\"], [\"(?)\"], [\"(?)\"], [\"(?)\"], [\"low\"], [\"(?)\"], [\"low\"], [\"low\"], [\"(?)\"], [\"(?)\"], [\"low\"], [\"(?)\"], [\"low\"], [\"(?)\"], [\"low\"], [\"low\"], [\"(?)\"], [\"low\"], [\"low\"], [\"low\"], [\"low\"], [\"low\"], [\"low\"], [\"low\"], [\"low\"], [\"low\"], [\"(?)\"], [\"low\"], [\"low\"], [\"(?)\"], [\"low\"], [\"low\"], [\"low\"], [\"low\"], [\"high\"], [\"low\"], [\"regular\"], [\"low\"], [\"regular\"], [\"(?)\"], [\"low\"], [\"(?)\"], [\"(?)\"], [\"low\"], [\"(?)\"], [\"low\"], [\"low\"], [\"low\"], [\"regular\"], [\"low\"], [\"low\"], [\"low\"], [\"(?)\"], [\"low\"], [\"low\"], [\"(?)\"], [\"(?)\"], [\"(?)\"], [\"low\"], [\"low\"], [\"low\"], [\"low\"], [\"low\"], [\"low\"], [\"low\"], [\"low\"], [\"(?)\"], [\"low\"], [\"low\"], [\"(?)\"], [\"(?)\"], [\"(?)\"], [\"regular\"], [\"low\"], [\"low\"], [\"low\"], [\"low\"], [\"high\"], [\"low\"], [\"low\"], [\"low\"], [\"low\"], [\"(?)\"], [\"(?)\"], [\"low\"], [\"(?)\"], [\"(?)\"], [\"low\"], [\"(?)\"], [\"low\"], [\"(?)\"], [\"low\"], [\"regular\"], [\"low\"], [\"low\"], [\"(?)\"], [\"low\"], [\"low\"], [\"(?)\"], [\"(?)\"], [\"low\"], [\"(?)\"], [\"(?)\"], [\"low\"], [\"low\"], [\"regular\"], [\"(?)\"], [\"(?)\"], [\"low\"], [\"(?)\"], [\"(?)\"], [\"low\"], [\"(?)\"], [\"low\"], [\"(?)\"], [\"low\"], [\"(?)\"], [\"low\"], [\"(?)\"], [\"low\"], [\"(?)\"], [\"low\"], [\"low\"], [\"low\"], [\"(?)\"], [\"(?)\"], [\"regular\"], [\"low\"], [\"(?)\"], [\"low\"], [\"(?)\"], [\"low\"], [\"(?)\"], [\"low\"], [\"(?)\"], [\"low\"], [\"low\"], [\"(?)\"], [\"low\"], [\"(?)\"], [\"(?)\"], [\"low\"], [\"low\"], [\"low\"], [\"low\"], [\"low\"], [\"low\"], [\"(?)\"], [\"low\"], [\"low\"], [\"(?)\"], [\"low\"], [\"(?)\"], [\"low\"], [\"(?)\"], [\"low\"], [\"(?)\"], [\"(?)\"], [\"(?)\"], [\"low\"], [\"low\"], [\"low\"], [\"(?)\"], [\"low\"], [\"low\"], [\"(?)\"], [\"low\"], [\"high\"], [\"regular\"], [\"low\"], [\"low\"], [\"low\"], [\"low\"], [\"low\"], [\"(?)\"], [\"low\"], [\"(?)\"], [\"(?)\"], [\"low\"], [\"(?)\"], [\"low\"], [\"low\"], [\"low\"], [\"low\"], [\"low\"], [\"low\"], [\"low\"], [\"low\"], [\"low\"], [\"low\"], [\"(?)\"], [\"(?)\"], [\"(?)\"], [\"(?)\"], [\"low\"], [\"low\"], [\"low\"], [\"low\"], [\"(?)\"], [\"low\"], [\"low\"], [\"low\"], [\"low\"], [\"(?)\"], [\"low\"], [\"(?)\"]], \"domain\": {\"x\": [0.0, 1.0], \"y\": [0.0, 1.0]}, \"hovertemplate\": \"labels=%{label}<br>LOC=%{value}<br>parent=%{parent}<br>id=%{id}<br>CLevel=%{customdata[0]}<extra></extra>\", \"ids\": [\"GES_GRT.Web.Areas.Mpa.Controllers/TenantsController/EditModal(Int32)\", \"GES_GRT.Currencies/CurrencyAppService/GetCurrencies()\", \"GES_GRT.WebApi.Controllers/TemplateFileController/TemplateFileController(IAppFolders,IUnitOfWorkManager)\", \"GES_GRT.Authorization.Roles/RoleStore/RoleStore(IRepository<Role>,IRepository<UserRole,Int64>,IRepository<RolePermissionSetting,Int64>)\", \"GES_GRT.Web.Controllers/ApplicationController/Index()\", \"GES_GRT.LineItems/LineItemAppService/LineItemAppService(IRepository<LineItem>,IRepository<Client>,IRepository<Period>,IPermissionChecker,IUnitOfWorkManager,IRepository<Employee>,IRepository<Currency>,IRepository<ClientExchangeRate>,IRepository<ExchangeRate>,IRepository<ClientIncomeComponent>)\", \"GES_GRT.LineItems/LineItemAppService/ChangeWorkflowStep(LineItem,WorkflowStatus)\", \"GES_GRT.Authorization.Users/UserAppService/CreateUserAsync(CreateOrUpdateUserInput)\", \"GES_GRT.Web.Controllers/AboutController/Index()\", \"GES_GRT.Localization/FamFamFamFlagsHelper/GetCountryCode(String)\", \"GES_GRT.Extensions/DecimalPrecision/ConfigureModelBuilder(DbModelBuilder)\", \"GES_GRT.WebApi.Controllers/ImportExchangeRatesController/SaveExchangeRates(MultipartFormDataStreamProvider,Int32)\", \"GES_GRT.Web.Areas.Mpa.Controllers/AuditLogsController/Index()\", \"GES_GRT.Notifications/NotificationAppService/SetAllNotificationsAsRead()\", \"GES_GRT/CustomDtoMapper/CustomDtoMapper()\", \"GES_GRT.Web.Helpers/CustomMultipartFormDataStreamProvider/CustomMultipartFormDataStreamProvider(String)\", \"GES_GRT.Util/EnumJsonConverter/CanConvert(Type)\", \"GES_GRT.Web.Areas.Mpa.Controllers/ProfileController/ChangePictureModal()\", \"GES_GRT.Util/LineItemUtilities/CalculateLineItem(LineItem,IRepository<ExchangeRate>,IRepository<ClientExchangeRate>,IRepository<Period>)\", \"GES_GRT.ClientIncomeComponents/ClientIncomeComponentAppService/CreateOrUpdateClientIncomeComponent(ClientIncomeComponentInputDto)\", \"GES_GRT.Web.Areas.Mpa/MpaAreaRegistration/RegisterArea(AreaRegistrationContext)\", \"GES_GRT/GES_GRTAppServiceBase/GetCurrentUser()\", \"GES_GRT.WebApi.Controllers/ImportExchangeRatesController/ImportExchangeRatesController()\", \"GES_GRT/GES_GRTAppServiceBase/GetCurrentUserClientIds()\", \"GES_GRT.Authorization.Users.Profile/ProfileAppService/GetCurrentUserProfileForEdit()\", \"GES_GRT/GES_GRTAppServiceBase/CheckUserClientPermission(Int32)\", \"GES_GRT.Web.Controllers/TenantRegistrationController/CheckTenantRegistrationIsEnabled()\", \"GES_GRT.Util/ExcelUtilities/GetData(WorksheetPart,WorkbookPart,String,String,Dictionary<String,CellValues>,UInt32)\", \"GES_GRT.Friendships/ChatUserStateWatcher/NotifyUserConnectionStateChange(UserIdentifier,Boolean)\", \"GES_GRT/GES_GRTAppServiceBase/GetCurrentTenant()\", \"GES_GRT.Emailing/EmailTemplateProvider/GetDefaultTemplate()\", \"GES_GRT.ExchangeRates/ExchangeRateAppService/CheckIfPeriodHasExchangeRates(Int32)\", \"GES_GRT.ClientIncomeComponentGroups/ClientIncomeComponentGroupAppService/GetClientIncomeComponentGroups(GetClientIncomeComponentGroupsInput)\", \"GES_GRT.Friendships.Cache/UserFriendsCache/IncreaseUnreadMessageCount(UserIdentifier,UserIdentifier,Int32)\", \"GES_GRT.Sessions/SessionAppService/GetCurrentLoginInformations()\", \"GES_GRT.IncomeComponents/IncomeComponentAppService/CreateIncomeComponentAsync(IncomeComponentInputDto)\", \"GES_GRT.Web.Areas.Mpa.Controllers/HostSettingsController/HostSettingsController(IHostSettingsAppService,UserManager,IEditionAppService,ITimingAppService)\", \"GES_GRT.Web.Controllers/ProfileController/GetDefaultProfilePicture()\", \"GES_GRT.WebApi.Controllers/ImportIncomeComponentsController/ImportIncomeComponentsController(IRepository<IncomeComponent>,IUnitOfWorkManager)\", \"GES_GRT.Web.Areas.Mpa.Controllers/DashboardController/Index()\", \"GES_GRT.LineItems.Dto/GetCommentInput/Normalize()\", \"GES_GRT.Authorization.Permissions/PermissionAppService/AddPermission(Permission,IReadOnlyList<Permission>,List<FlatPermissionWithLevelDto>,Int32)\", \"GES_GRT.WebApi.Controllers/ImportEmployeesController/ParseEmployeeRows(Client,Range[])\", \"GES_GRT.WebApi.Controllers/ImportEmployeesController/ParseEmployeeFileData(Collection<MultipartFileData>,Int32)\", \"GES_GRT.LineItems/LineItemAppService/DistinctBy<TSource,TKey>(IEnumerable<TSource>,Func<TSource,TKey>)\", \"GES_GRT.IncomeComponents/IncomeComponentAppService/NotifyClientsOfChanges(IncomeComponent)\", \"GES_GRT.Logging/WebLogAppService/DownloadWebLogs()\", \"GES_GRT.Util/ExcelUtilities/Parse(String,Range[])\", \"GES_GRT.Authorization.Roles/RoleAppService/DeleteRole(EntityRequestInput)\", \"GES_GRT.Extensions/Enum<T>/Parse(String,Boolean)\", \"GES_GRT.Dto/PagedAndFilteredInputDto/PagedAndFilteredInputDto()\", \"GES_GRT.Web.Areas.Mpa.Controllers/OrganizationUnitsController/OrganizationUnitsController(IRepository<OrganizationUnit,Int64>)\", \"GES_GRT.ClientIncomeComponentGroups/ClientIncomeComponentGroupAppService/EditClientIncomeComponentGroupAsync(ClientIncomeComponentGroupInputDto)\", \"GES_GRT.Extensions/DynamicQueryableExtensions/OrderBy<T>(IQueryable<T>,String,Object[])\", \"GES_GRT.Web.Areas.Mpa.Models.Tenants/EditTenantViewModel/EditTenantViewModel(TenantEditDto,IReadOnlyList<ComboboxItemDto>)\", \"GES_GRT.WebApi.Helpers/ApiReflectionHelper/GetParamNames(MethodInfo)\", \"GES_GRT.Friendships/ChatUserStateWatcher/OnlineClientManager_UserConnected(Object,OnlineUserEventArgs)\", \"GES_GRT.Dto/PagedInputDto/PagedInputDto()\", \"GES_GRT.Web.Areas.Mpa.Controllers/EditionsController/Index()\", \"GES_GRT.Organizations/OrganizationUnitAppService/DeleteOrganizationUnit(IdInput<Int64>)\", \"GES_GRT.Editions/EditionAppService/EditionAppService(EditionManager)\", \"GES_GRT.Authorization.Impersonation/ImpersonationCacheManagerExtensions/GetImpersonationCache(ICacheManager)\", \"GES_GRT.Util/LineItemUtilities/GetCompanyCarClientIncomeComponent(Client)\", \"GES_GRT.LineItems/LineItemAppService/GetComments(GetCommentInput)\", \"GES_GRT.Extensions/EnumExtension/GetIndividualFlags<T>(T)\", \"GES_GRT.Localization/LanguageAppService/GetLanguageForEdit(NullableIdInput)\", \"GES_GRT.Friendships/FriendshipManager/BanFriend(UserIdentifier,UserIdentifier)\", \"GES_GRT.Configuration.Tenants/TenantSettingsAppService/GetAllSettings()\", \"GES_GRT.LineItems.Dto/GetLineItemInput/Normalize()\", \"GES_GRT.WebApi.Controllers/ImportExchangeRatesController/ParseExchangeRateFileData(Collection<MultipartFileData>,Int32)\", \"GES_GRT.Authorization.Users.Dto/GetLinkedUsersInput/Normalize()\", \"GES_GRT.Employees/EmployeeAppService/DeleteEmployee(EntityDto)\", \"GES_GRT.Web.Areas.Mpa.Controllers/HomeController/Index()\", \"GES_GRT.Authorization.Users/UserLinkAppService/CreateLinkedUsersQuery(UserAccount,String)\", \"GES_GRT.Web.Controllers/AccountController/EmailActivation()\", \"GES_GRT.Authorization.Users.Dto/GetUsersInput/Normalize()\", \"GES_GRT.Web.Controllers/AccountController/GetTenantIdOrDefault(String)\", \"GES_GRT.Editions/EditionManager/EditionManager(IRepository<Edition>,IAbpZeroFeatureValueStore)\", \"GES_GRT.Editions/EditionAppService/DeleteEdition(EntityRequestInput)\", \"GES_GRT.WebApi.Controllers/ImportLineItemsController/ImportLineItemsController(IRepository<LineItem>,IRepository<Client>,IUnitOfWorkManager,IRepository<Period>,IEmployeeRepository,IRepository<Currency>,IRepository<ClientIncomeComponent>,IRepository<ClientExchangeRate>,IRepository<ExchangeRate>,IRepository<SourceIndication>)\", \"GES_GRT.Employees/EmployeeAppService/LinkRelatedEntities(EmployeeInputDto,Employee)\", \"GES_GRT.Web.Areas.Mpa.Controllers/LanguagesController/LanguagesController(ILanguageAppService,ILanguageManager,IApplicationLanguageTextManager)\", \"GES_GRT.ClientIncomeComponents/ClientIncomeComponentAppService/LinkRelatedEntities(ClientIncomeComponentInputDto,ClientIncomeComponent)\", \"GES_GRT.ClientIncomeComponentGroups/ClientIncomeComponentGroupAppService/LinkRelatedEntities(ClientIncomeComponentGroupInputDto,ClientIncomeComponentGroup)\", \"GES_GRT.ClientExchangeRates/ClientExchangeRateAppService/LinkRelatedEntities(ClientExchangeRateInputDto,ClientExchangeRate)\", \"GES_GRT.Web.Areas.Mpa.Controllers/ProfileController/LinkAccountModal()\", \"GES_GRT.Authorization.Users/UserLinkManager/Link(User,User)\", \"GES_GRT.Util/LineItemUtilities/LineItemUtilities()\", \"GES_GRT.LineItems.Dto/LineItemOutputDto/LineItemOutputDto()\", \"GES_GRT.Web.Areas.Mpa.Controllers/LayoutController/LayoutController(ISessionAppService,IUserNavigationManager,IMultiTenancyConfig)\", \"GES_GRT.Web.Controllers/AccountController/Languages()\", \"GES_GRT.Localization/LanguageAppService/LanguageAppService(IApplicationLanguageManager,IApplicationLanguageTextManager,IRepository<ApplicationLanguage>)\", \"GES_GRT.Web.Areas.Mpa.Startup/MpaNavigationProvider/L(String)\", \"GES_GRT.Web.Controllers/GES_GRTControllerBase/L(String)\", \"GES_GRT.Web.Navigation/FrontEndNavigationProvider/L(String)\", \"GES_GRT.Util/EnumJsonConverter/L(String)\", \"GES_GRT.Clients/ClientAppService/LinkRelatedEntities(ClientInputDto,Client)\", \"GES_GRT.GeneralComments/GeneralCommentAppService/LinkRelatedEntities(GeneralCommentInputDto,GeneralComment)\", \"GES_GRT.Web.Controllers/AccountController/Login(String,String,String)\", \"GES_GRT.ReconciliationComments/ReconciliationCommentAppService/LinkRelatedEntities(ReconciliationCommentInputDto,ReconciliationComment)\", \"GES_GRT.MultiTenancy.Dto/GetTenantsInput/Normalize()\", \"GES_GRT.Organizations.Dto/GetOrganizationUnitUsersInput/Normalize()\", \"GES_GRT.IncomeComponents.Dto/GetIncomeComponentsInput/Normalize()\", \"GES_GRT.ExchangeRates.Dto/GetExchangeRatesInput/Normalize()\", \"GES_GRT.Employees.Dto/GetEmployeesInput/Normalize()\", \"GES_GRT.ClientIncomeComponentGroups.Dto/GetClientIncomeComponentGroupsInput/Normalize()\", \"GES_GRT.ClientExchangeRates.Dto/GetClientExchangeRatesInput/Normalize()\", \"GES_GRT.Auditing.Dto/GetAuditLogsInput/Normalize()\", \"GES_GRT.LineItems.Dto/GetAlertInput/Normalize()\", \"GES_GRT.Notifications/AppNotifier/NewUserRegisteredAsync(User)\", \"GES_GRT.Notifications/AppNotifier/NewTenantRegisteredAsync(Tenant)\", \"GES_GRT.Web.Areas.Mpa.Models.Profile/MySettingsViewModel/MySettingsViewModel(CurrentUserProfileEditDto)\", \"GES_GRT.Organizations/OrganizationUnitAppService/MoveOrganizationUnit(MoveOrganizationUnitInput)\", \"GES_GRT.Web.Areas.Mpa.Models.Common.Modals/ModalHeaderViewModel/ModalHeaderViewModel(String)\", \"GES_GRT.LineItems/LineItemAppService/MaximizeOwnContributionCompanyCar(Int32)\", \"GES_GRT.LineItems/LineItemAppService/MarkCommentAsRead(Int32)\", \"GES_GRT.Web.Areas.Mpa.Controllers/MaintenanceController/MaintenanceController(ICachingAppService)\", \"GES_GRT.Web.Areas.Mpa.Controllers/CommonController/LookupModal(LookupModalViewModel)\", \"GES_GRT.Web.Controllers/AccountController/Logout()\", \"GES_GRT.Web.Areas.Mpa.Controllers/UsersController/LoginAttemptsModal()\", \"GES_GRT.Web.Controllers/AccountController/Login(LoginViewModel,String,String)\", \"GES_GRT.LineItems/LineItemAppService/LogAndThrowExchangeRateError(LineItem)\", \"GES_GRT.WebApi.Controllers/ImportLineItemsController/LogAndThrowExchangeRateError(LineItem)\", \"GES_GRT.Web.Areas.Mpa.Controllers/ProfileController/LinkedAccountsModal()\", \"GES_GRT.Authorization.Users/UserLinkAppService/LinkToUser(LinkToUserInput)\", \"GES_GRT.IncomeComponents/IncomeComponentAppService/LinkRelatedEntities(IncomeComponentInputDto,IncomeComponent)\", \"GES_GRT.Notifications/AppNotificationProvider/L(String)\", \"GES_GRT.Friendships/FriendshipAppService/AcceptFriendshipRequest(AcceptFriendshipRequestInput)\", \"GES_GRT.ClientIncomeComponents/ClientIncomeComponentAppService/IsUnique(ClientIncomeComponentInputDto)\", \"GES_GRT.Timing/TimingAppService/GetTimezoneComboboxItems(GetTimezoneComboboxItemsInput)\", \"GES_GRT.Timing/TimingAppService/GetTimezoneInfos(SettingScopes)\", \"GES_GRT.Chat/ChatMessageManager/GetUnreadMessageCount(UserIdentifier,UserIdentifier)\", \"GES_GRT.Authorization.Users/UserLinkManager/GetUserAccountAsync(UserIdentifier)\", \"GES_GRT.Authorization.Users/UserManager/GetUserAsync(UserIdentifier)\", \"GES_GRT.Web.Controllers/AccountController/GetUserByChecking(String)\", \"GES_GRT.Chat/ChatAppService/GetUserChatFriendsWithSettings()\", \"GES_GRT.Chat.Dto/GetUserChatFriendsWithSettingsOutput/GetUserChatFriendsWithSettingsOutput()\", \"GES_GRT.Chat/ChatAppService/GetUserChatMessages(GetUserChatMessagesInput)\", \"GES_GRT.Authorization.Users/UserAppService/GetUserForEdit(NullableIdInput<Int64>)\", \"GES_GRT.Friendships.Cache/UserFriendsCache/GetUserFriendsCacheItemInternal(UserIdentifier)\", \"GES_GRT.Notifications/NotificationAppService/GetUserNotifications(GetUserNotificationsInput)\", \"GES_GRT.Authorization.Users/UserAppService/GetUserPermissionsForEdit(IdInput<Int64>)\", \"GES_GRT.Authorization.Users/UserAppService/GetUsers(GetUsersInput)\", \"GES_GRT.Authorization.Users/UserAppService/GetUsersToExcel()\", \"GES_GRT.Extensions/EnumExtension/GetValue<T>(String)\", \"GES_GRT.Extensions/EnumExtension/GetValueFromDescription<T>(String)\", \"GES_GRT.Auditing/NamespaceStripper/GetTextAfterLastDot(String)\", \"GES_GRT.Util/ExcelUtilities/GetWorksheet(WorkbookPart,String)\", \"GES_GRT.MultiTenancy/TenantAppService/GetTenants(GetTenantsInput)\", \"GES_GRT.MultiTenancy/TenantAppService/GetTenantFeaturesForEdit(EntityRequestInput)\", \"GES_GRT.Web.Controllers/ProfileController/GetProfilePictureById(Guid)\", \"GES_GRT.MultiTenancy.Demo/TenantDemoDataBuilder/GetRandomProfilePictureBytes()\", \"GES_GRT.MultiTenancy.Demo/RandomUserGenerator/GetRandomUsers(Int32,Int32)\", \"GES_GRT.Authorization.Users/UserLoginAppService/GetRecentUserLoginAttempts()\", \"GES_GRT.Authorization.Users/UserLinkAppService/GetRecentlyUsedLinkedUsers()\", \"GES_GRT.ReconciliationComments/ReconciliationCommentAppService/GetReconciliationComments(GetReconciliationCommentsInput)\", \"GES_GRT.Authorization.Roles/RoleAppService/GetRoleForEdit(NullableIdInput)\", \"GES_GRT.Authorization.Roles/RoleAppService/GetRoles(GetRolesInput)\", \"GES_GRT.Web.Controllers/GES_GRTControllerBase/GetScripts()\", \"GES_GRT.Configuration/AppSettingProvider/GetSettingDefinitions(SettingDefinitionProviderContext)\", \"GES_GRT.Extensions/EnumExtension/GetShortNames(Enum,String)\", \"GES_GRT.Web.Areas.Mpa.Models.Layout/HeaderViewModel/GetShownLoginName()\", \"GES_GRT.Web.Models.Layout/HeaderViewModel/GetShownLoginName()\", \"GES_GRT.Authorization.Users/LinkedUserDto/GetShownLoginName(Boolean)\", \"GES_GRT.Web.Chat.SignalR/SignalRChatCommunicator/GetSignalRClientOrNull(IOnlineClient)\", \"GES_GRT.Web/WebUrlService/GetSiteRootAddress(String)\", \"GES_GRT.Clients/ClientAppService/GetSourceIndications(Int32)\", \"GES_GRT.MultiTenancy/TenantAppService/GetTenantForEdit(EntityRequestInput)\", \"GES_GRT.WebApi.Helpers/ApiReflectionHelper/IsUpload(MethodInfo)\", \"GES_GRT.Organizations/OrganizationUnitAppService/GiveClientRights(Int32,Int64)\", \"GES_GRT.Friendships.Cache/UserFriendCacheSyncronizer/HandleEvent(EntityCreatedEventData<Friendship>)\", \"GES_GRT.Web.Areas.Mpa.Controllers/RolesController/Index()\", \"GES_GRT.Web.Controllers/TenantRegistrationController/Index()\", \"GES_GRT.Web.Areas.Mpa.Controllers/TenantsController/Index()\", \"GES_GRT.Web.Areas.Mpa.Controllers/UsersController/Index()\", \"GES_GRT.Web.Areas.Mpa.Controllers/WelcomeController/Index()\", \"GES_GRT.Web.Controllers/GALoginController/Index(String)\", \"GES_GRT/GES_GRTApplicationModule/Initialize()\", \"GES_GRT.WebApi/GES_GRTWebApiModule/Initialize()\", \"GES_GRT.Web/GES_GRTWebModule/Initialize()\", \"GES_GRT.Util/ExcelUtilities/InsertCellInWorksheet(UInt32,Int32,WorksheetPart)\", \"GES_GRT.WebApi.Helpers/ApiReflectionHelper/IsDownload(MethodInfo)\", \"GES_GRT.Web.Controllers/AccountController/IsImpersonatedLogin()\", \"GES_GRT.Organizations/OrganizationUnitAppService/IsInOrganizationUnit(UserToOrganizationUnitInput)\", \"GES_GRT.Util/EnumJsonConverter/IsNullableType(Type)\", \"GES_GRT.Web.Views/UrlChecker/IsRooted(String)\", \"GES_GRT.Web.Controllers/AccountController/IsSelfRegistrationEnabled()\", \"GES_GRT.ClientIncomeComponentGroups/ClientIncomeComponentGroupAppService/IsUnique(ClientIncomeComponentGroupInputDto)\", \"GES_GRT.Web.Areas.Mpa.Controllers/OrganizationUnitsController/Index()\", \"GES_GRT.Friendships.Cache/UserFriendCacheSyncronizer/HandleEvent(EntityCreatedEventData<ChatMessage>)\", \"GES_GRT.Web.Areas.Mpa.Controllers/NotificationsController/Index()\", \"GES_GRT.Web.Areas.Mpa.Controllers/LanguagesController/Index()\", \"GES_GRT.Friendships.Cache/UserFriendCacheSyncronizer/HandleEvent(EntityDeletedEventData<Friendship>)\", \"GES_GRT.Friendships.Cache/UserFriendCacheSyncronizer/HandleEvent(EntityUpdatedEventData<Friendship>)\", \"GES_GRT.Chat/ChatMessageManager/HandleReceiverToSender(UserIdentifier,UserIdentifier,String)\", \"GES_GRT.Chat/ChatMessageManager/HandleSenderToReceiver(UserIdentifier,UserIdentifier,String)\", \"GES_GRT.Chat/ChatMessageManager/HandleSenderUserInfoChange(UserIdentifier,UserIdentifier,String,String,Nullable<Guid>)\", \"GES_GRT.Web.Areas.Mpa.Controllers/LayoutController/Header()\", \"GES_GRT.Web.Controllers/LayoutController/Header(String)\", \"GES_GRT.Configuration.Host/HostSettingsAppService/HostSettingsAppService(IEmailSender,EditionManager,ITimeZoneService,ISettingDefinitionManager)\", \"GES_GRT.Web.Controllers/AccountController/ImpersonateSignIn(String)\", \"GES_GRT.Authorization.Impersonation/ImpersonationCacheItem/ImpersonationCacheItem()\", \"GES_GRT.Authorization.Impersonation/ImpersonationCacheItem/ImpersonationCacheItem(Nullable<Int32>,Int64,Boolean)\", \"GES_GRT.WebApi.Controllers/ImportClientIncomeComponentsController/ImportClientIncomeComponentsController()\", \"GES_GRT.WebApi.Controllers/ImportClientIncomeComponentsController/ImportClientIncomeComponentsController(IRepository<Client>,IRepository<LineItem>,IRepository<IncomeComponent>,IRepository<ClientIncomeComponent>,IRepository<ClientIncomeComponentGroup>,IRepository<Country>,IUnitOfWorkManager)\", \"GES_GRT.WebApi.Controllers/ImportEmployeesController/ImportEmployeesController()\", \"GES_GRT.GRT.IncomeComponents/IncomeComponent/IncomeComponent()\", \"GES_GRT.Web.Controllers/HomeController/Index()\", \"GES_GRT.Web.Areas.Mpa.Controllers/HostSettingsController/Index()\", \"GES_GRT.Web.Areas.Mpa.Controllers/MaintenanceController/Index()\", \"GES_GRT.Web.Areas.Mpa.Controllers/SettingsController/Index()\", \"GES_GRT.WebApi.Controllers/ImportExchangeRatesController/ParseExchangeRateRows(Period,Range[])\", \"GES_GRT.Friendships/ChatUserStateWatcher/OnlineClientManager_UserDisconnected(Object,OnlineUserEventArgs)\", \"GES_GRT.Friendships/FriendshipExtensions/ToUserIdentifier(Friendship)\", \"GES_GRT.Web.Controllers/AccountController/TryExtractNameAndSurnameFromClaims(List<Claim>,String&,String&)\", \"GES_GRT.Extensions/Enum<T>/TryParse(String,T&,Boolean)\", \"GES_GRT.Authorization.Users/UserEmailer/TryToSendChatMessageMail(User,String,String,ChatMessage)\", \"GES_GRT.Friendships/FriendshipAppService/UnblockUser(UnblockUserInput)\", \"GES_GRT.Authorization.Users/UserLinkManager/Unlink(UserIdentifier)\", \"GES_GRT.Authorization.Users/UserLinkAppService/UnlinkUser(UnlinkUserInput)\", \"GES_GRT.Configuration.Host/HostSettingsAppService/UpdateAllSettings(HostSettingsEditDto)\", \"GES_GRT.Configuration.Tenants/TenantSettingsAppService/UpdateAllSettings(TenantSettingsEditDto)\", \"GES_GRT.LineItems/LineItemAppService/UpdateCarLineItem(Employee,EmployeeCar,LineItem)\", \"GES_GRT.Authorization.Users.Profile/ProfileAppService/UpdateCurrentUserProfile(CurrentUserProfileEditDto)\", \"GES_GRT.Editions/EditionAppService/UpdateEditionAsync(CreateOrUpdateEditionDto)\", \"GES_GRT.WebApi.Controllers/ImportClientIncomeComponentsController/UpdateExistingClientIncomeComponent(ClientIncomeComponent,ClientIncomeComponent)\", \"GES_GRT.WebApi.Controllers/ImportIncomeComponentsController/UpdateExistingIncomeComponent(IncomeComponent,IncomeComponent)\", \"GES_GRT.WebApi.Controllers/ImportLineItemsController/UpdateExistingLineItem(LineItem,LineItem)\", \"GES_GRT.Friendships.Cache/UserFriendsCache/UpdateFriend(UserIdentifier,FriendCacheItem)\", \"GES_GRT.Friendships/FriendshipManager/UpdateFriendship(Friendship)\", \"GES_GRT.Authorization.Users.Dto/UnlinkUserInput/ToUserIdentifier()\", \"GES_GRT.Web.Models.Account/SwitchToLinkedAccountModel/ToUserIdentifier()\", \"GES_GRT.Chat.Dto/MarkAllUnreadMessagesOfUserAsReadInput/ToUserIdentifier()\", \"GES_GRT.Extensions/Enum<T>/ToJsonObject(Func<String,String>)\", \"GES_GRT.Auditing/NamespaceStripper/StripNameSpace(String)\", \"GES_GRT.Web.Controllers/AccountController/SwitchToLinkedAccount(SwitchToLinkedAccountModel)\", \"GES_GRT.Authorization.Users/SwitchToLinkedAccountCacheItem/SwitchToLinkedAccountCacheItem()\", \"GES_GRT.Authorization.Users/SwitchToLinkedAccountCacheItem/SwitchToLinkedAccountCacheItem(Nullable<Int32>,Int64,Nullable<Int32>,Nullable<Int64>)\", \"GES_GRT.Util/TableRange/TableRange()\", \"GES_GRT.MultiTenancy/Tenant/Tenant()\", \"GES_GRT.MultiTenancy/Tenant/Tenant(String,String)\", \"GES_GRT.MultiTenancy/TenantAppService/TenantAppService(TenantManager)\", \"GES_GRT.Authorization.Roles/RoleAppService/UpdateGrantedPermissionsAsync(Role,List<String>)\", \"GES_GRT.MultiTenancy.Demo/TenantDemoDataBuilder/TenantDemoDataBuilder(OrganizationUnitManager,UserManager,RandomUserGenerator,IBinaryObjectManager,IAppFolders,IFriendshipManager,IChatMessageManager,IRepository<ChatMessage,Int64>)\", \"GES_GRT.MultiTenancy/TenantManager/TenantManager(IRepository<Tenant>,IRepository<TenantFeatureSetting,Int64>,EditionManager,IUnitOfWorkManager,RoleManager,IUserEmailer,TenantDemoDataBuilder,UserManager,INotificationSubscriptionManager,IAppNotifier,IAbpZeroFeatureValueStore,IAbpZeroDbMigrator,ITenantCache)\", \"GES_GRT.Web.Areas.Mpa.Controllers/LanguagesController/Texts(String,String,String,String,String)\", \"GES_GRT.Timing/TimeZoneService/TimeZoneService(ISettingManager,ISettingDefinitionManager)\", \"GES_GRT.Timing/TimingAppService/TimingAppService(ITimeZoneService)\", \"GES_GRT.Employees.Exporting/EmployeeListExcelExporter/ToFileFromUri(Uri)\", \"GES_GRT.Friendships/FriendshipExtensions/ToFriendIdentifier(Friendship)\", \"GES_GRT.Extensions/Enum<T>/ToJson()\", \"GES_GRT.Extensions/EnumExtension/ToJson(Enum,Func<String,String>)\", \"GES_GRT.Web.Areas.Mpa.Models.Tenants/TenantFeaturesEditViewModel/TenantFeaturesEditViewModel(Tenant,GetTenantFeaturesForEditOutput)\", \"GES_GRT.Auditing/NamespaceStripper/StripGenericNamespace(String)\", \"GES_GRT.Localization/LanguageAppService/UpdateLanguageAsync(CreateOrUpdateLanguageInput)\", \"GES_GRT.Notifications/NotificationAppService/UpdateNotificationSettings(UpdateNotificationSettingsInput)\", \"GES_GRT.Friendships.Cache/UserFriendsCache/UserFriendsCache(ICacheManager,IRepository<Friendship,Int64>,IRepository<ChatMessage,Int64>,ITenantCache,UserManager,IUnitOfWorkManager)\", \"GES_GRT.Authorization.Users/UserLinkAppService/UserLinkAppService(AbpLoginResultTypeHelper,IUserLinkManager,IRepository<Tenant>,IRepository<UserAccount,Int64>)\", \"GES_GRT.Authorization.Users/UserLinkManager/UserLinkManager(IRepository<UserAccount,Int64>)\", \"GES_GRT.Authorization.Users.Exporting/UserListExcelExporter/UserListExcelExporter(ITimeZoneConverter,IAbpSession)\", \"GES_GRT.Authorization.Users/UserLoginAppService/UserLoginAppService(IRepository<UserLoginAttempt,Int64>)\", \"GES_GRT.Authorization.Users/UserManager/UserManager(UserStore,RoleManager,IRepository<Tenant>,IMultiTenancyConfig,IPermissionManager,IUnitOfWorkManager,ISettingManager,IUserManagementConfig,IIocResolver,ICacheManager,IRepository<OrganizationUnit,Int64>,IRepository<UserOrganizationUnit,Int64>,IOrganizationUnitSettings,IRepository<UserLoginAttempt,Int64>)\", \"GES_GRT.Web.Areas.Mpa.Models.Users/UserPermissionsEditViewModel/UserPermissionsEditViewModel(GetUserPermissionsForEditOutput,User)\", \"GES_GRT.Authorization.Users/UserStore/UserStore(IRepository<User,Int64>,IRepository<UserLogin,Int64>,IRepository<UserRole,Int64>,IRepository<Role>,IRepository<UserPermissionSetting,Int64>,IUnitOfWorkManager)\", \"GES_GRT.Web.Areas.Mpa.Controllers/UsersController/UsersController(IUserAppService,UserManager,IUserLoginAppService,IRoleAppService,IPermissionAppService)\", \"GES_GRT.Web.Models.Account/RegisterViewModel/Validate(ValidationContext)\", \"GES_GRT.Employees/EmployeeAppService/ValidateElfProef(Int32)\", \"GES_GRT.Configuration.Tenants.Dto/TenantSettingsEditDto/ValidateHostSettings()\", \"GES_GRT.Logging/WebLogAppService/WebLogAppService(IAppFolders)\", \"GES_GRT.Web/WebUrlService/WebUrlService(ISettingManager)\", \"GES_GRT.Notifications/AppNotifier/WelcomeToTheApplicationAsync(User)\", \"GES_GRT.Util/EnumJsonConverter/WriteJson(JsonWriter,Object,JsonSerializer)\", \"GES_GRT.Extensions/EnumExtension/Yield<T>(T)\", \"GES_GRT.Friendships.Cache/UserFriendCacheSyncronizer/UserFriendCacheSyncronizer(IUserFriendsCache)\", \"GES_GRT.Authorization.Users/UserEmailer/UserEmailer(IEmailTemplateProvider,IEmailSender,IWebUrlService,IRepository<Tenant>,ICurrentUnitOfWorkProvider)\", \"GES_GRT.Authorization.Users/UserAppService/UserAppService(RoleManager,IUserEmailer,IUserListExcelExporter,INotificationSubscriptionManager,IAppNotifier,IRepository<RolePermissionSetting,Int64>,IRepository<UserPermissionSetting,Int64>,IRepository<Client>,IRepository<UserRole,Int64>)\", \"GES_GRT.Web.Controllers/TenantRegistrationController/UseCaptchaOnRegistration()\", \"GES_GRT.Organizations/OrganizationUnitAppService/UpdateOrganizationUnit(UpdateOrganizationUnitInput)\", \"GES_GRT.Authorization.Users.Profile/ProfileAppService/UpdateProfilePicture(UpdateProfilePictureInput)\", \"GES_GRT.Authorization.Roles/RoleAppService/UpdateRoleAsync(CreateOrUpdateRoleInput)\", \"GES_GRT.GRT.LineItems/LineItem/UpdateStatus(WorkflowStatus)\", \"GES_GRT.MultiTenancy/TenantAppService/UpdateTenant(TenantEditDto)\", \"GES_GRT.MultiTenancy/TenantAppService/UpdateTenantFeatures(UpdateTenantFeaturesInput)\", \"GES_GRT.Authorization.Users/UserAppService/UpdateUserAsync(CreateOrUpdateUserInput)\", \"GES_GRT.Authorization.Users/UserAppService/UpdateUserPermissions(UpdateUserPermissionsInput)\", \"GES_GRT.Localization/LanguageAppService/UpdateLanguageText(UpdateLanguageTextInput)\", \"GES_GRT.WebApi.Controllers/ImportClientIncomeComponentsController/UploadClientIncomeComponents()\", \"GES_GRT.WebApi.Controllers/ImportExchangeRatesController/UploadExchangeRates()\", \"GES_GRT.WebApi.Controllers/ImportIncomeComponentsController/UploadIncomeComponents()\", \"GES_GRT.WebApi.Controllers/ImportLineItemsController/UploadLineItems()\", \"GES_GRT.Web.Controllers/ProfileController/UploadProfilePicture()\", \"GES_GRT.WebApi.Controllers.Dto/UploadResultDto/UploadResultDto()\", \"GES_GRT.WebApi.Controllers/TemplateFileController/UploadTemplateFile()\", \"GES_GRT.Web.Views/UrlChecker/UrlChecker()\", \"GES_GRT.Web.Controllers/AccountController/UseCaptchaOnRegistration()\", \"GES_GRT.WebApi.Controllers/ImportEmployeesController/UploadEmployees()\", \"GES_GRT.Web.Chat.SignalR/SignalRChatCommunicator/SignalRChatCommunicator()\", \"GES_GRT.Web.Controllers/TenantRegistrationController/SignInAsync(User,ClaimsIdentity,Boolean)\", \"GES_GRT.Web.Controllers/AccountController/SignInAsync(User,ClaimsIdentity,Boolean)\", \"GES_GRT.IO/AppFileHelper/ReadLines(String)\", \"GES_GRT.LineItems/LineItemAppService/RecalculateLineItems(RecalculateLineItemsInputDto)\", \"GES_GRT.LineItems/LineItemAppService/RecalculateLineItemsByPopup(RecalculateLineItemsByPopupInputDto)\", \"GES_GRT.ReconciliationComments/ReconciliationCommentAppService/ReconciliationCommentAppService(IRepository<Employee>,IRepository<Client>,IRepository<Period>,IRepository<ReconciliationComment>)\", \"GES_GRT.Web.Controllers/AccountController/Register()\", \"GES_GRT.Web.Controllers/TenantRegistrationController/Register(TenantRegistrationViewModel)\", \"GES_GRT.Web.App.Startup/AppBundleConfig/RegisterBundles(BundleCollection)\", \"GES_GRT.Web.Bundling/CommonBundleConfig/RegisterBundles(BundleCollection)\", \"GES_GRT.Web.Bundling/FrontEndBundleConfig/RegisterBundles(BundleCollection)\", \"GES_GRT.Web.Areas.Mpa.Startup/MpaBundleConfig/RegisterBundles(BundleCollection)\", \"GES_GRT.Web.Routing/RouteConfig/RegisterRoutes(RouteCollection)\", \"GES_GRT.Web.Controllers/AccountController/RegisterView(ExternalLoginInfo,String)\", \"GES_GRT.Web.Controllers/AccountController/RegisterView(RegisterViewModel)\", \"GES_GRT.Friendships.Cache/UserFriendsCache/RemoveFriend(UserIdentifier,FriendCacheItem)\", \"GES_GRT.Organizations/OrganizationUnitAppService/RemoveUserFromOrganizationUnit(UserToOrganizationUnitInput)\", \"GES_GRT.Web.Controllers/AccountController/ResetPassword(ResetPasswordFormViewModel)\", \"GES_GRT.Web.Controllers/AccountController/ResetPassword(ResetPasswordViewModel)\", \"GES_GRT.Util/EnumJsonConverter/ReadJson(JsonReader,Type,Object,JsonSerializer)\", \"GES_GRT.Util/Range/Range()\", \"GES_GRT.MultiTenancy.Demo/RandomUserGenerator/RandomUserGenerator()\", \"GES_GRT.Web.Controllers/ProfileController/ProfileController(UserManager,IBinaryObjectManager,IAppFolders,IFriendshipManager)\", \"GES_GRT.WebApi.Controllers/ImportEmployeesController/ParseCarRows(Client,Range[])\", \"GES_GRT.Periods/PeriodAppService/GetPeriods(Int32)\", \"GES_GRT.WebApi.Controllers/ImportIncomeComponentsController/ParseIncomeComponentFileData(Collection<MultipartFileData>)\", \"GES_GRT.WebApi.Controllers/ImportIncomeComponentsController/ParseIncomeComponentRows(Range[])\", \"GES_GRT.WebApi.Controllers/ImportLineItemsController/ParseLineItemFileData(Collection<MultipartFileData>,Int32)\", \"GES_GRT.WebApi.Controllers/ImportLineItemsController/ParseLineItemRows(Client,Range[])\", \"GES_GRT.WebApi.Controllers/ImportEmployeesController/ParseWorkdayRows(Client,Range[])\", \"GES_GRT.Periods/PeriodAppService/PeriodAppService(IRepository<Period>,IRepository<Client>)\", \"GES_GRT.MultiTenancy/TenantAppService/ResetTenantSpecificFeatures(EntityRequestInput)\", \"GES_GRT.Authorization/PermissionChecker/PermissionChecker(UserManager)\", \"GES_GRT.Web/GES_GRTWebModule/PostInitialize()\", \"GES_GRT/GES_GRTApplicationModule/PreInitialize()\", \"GES_GRT/GES_GRTCoreModule/PreInitialize()\", \"GES_GRT.WebApi/GES_GRTWebApiModule/PreInitialize()\", \"GES_GRT.Web/GES_GRTWebModule/PreInitialize()\", \"GES_GRT.Web.Bundling/CssRewriteUrlWithVirtualDirectoryTransform/Process(String,String)\", \"GES_GRT.Authorization.Users.Profile/ProfileAppService/ProfileAppService(IAppFolders,IBinaryObjectManager,ITimeZoneService)\", \"GES_GRT.Web.Areas.Mpa.Controllers/ProfileController/ProfileController(IProfileAppService,ITimingAppService)\", \"GES_GRT.Web.Areas.Mpa.Controllers/UsersController/PermissionsModal(Int64)\", \"GES_GRT.Authorization.Users/UserAppService/ResetUserSpecificPermissions(IdInput<Int64>)\", \"GES_GRT.Web/MvcApplication/RestoreUserLanguage()\", \"GES_GRT.Authorization.Roles/Role/Role(Nullable<Int32>,String,String)\", \"GES_GRT.Employees.Exporting/EmployeeListExcelExporter/SetClientIncomeComponentSheet(ExcelPackage,List<EmployeeOutputDto>)\", \"GES_GRT.Util/Range/SetColumnType(String,CellValues)\", \"GES_GRT.Util/LineItemUtilities/SetContractTypeAmounts(LineItem,Decimal)\", \"GES_GRT.Localization/LanguageAppService/SetDefaultLanguage(SetDefaultLanguageInput)\", \"GES_GRT.Employees/EmployeeAppService/SetEmployeeCars(EmployeeInputDto,Employee)\", \"GES_GRT.Employees.Exporting/EmployeeListExcelExporter/SetEmployeeSheet(ExcelPackage,List<EmployeeOutputDto>)\", \"GES_GRT.Editions/EditionAppService/SetFeatureValues(Edition,List<NameValueDto>)\", \"GES_GRT.Web.App.Startup/AppNavigationProvider/SetNavigation(INavigationProviderContext)\", \"GES_GRT.LineItems/LineItemAppService/SetAllStatusesTo(Int32,Int32,Int32)\", \"GES_GRT.Web.Navigation/FrontEndNavigationProvider/SetNavigation(INavigationProviderContext)\", \"GES_GRT.Notifications/NotificationAppService/SetNotificationAsRead(IdInput<Guid>)\", \"GES_GRT.Authorization/AppAuthorizationProvider/SetPermissions(IPermissionDefinitionContext)\", \"GES_GRT.LineItems/LineItemAppService/SetSingleStatusTo(Int32,Int32)\", \"GES_GRT.Web/MvcApplication/SetTentantId()\", \"GES_GRT.Employees/EmployeeAppService/SetWorkdayAllocations(EmployeeInputDto,Employee)\", \"GES_GRT.Employees.Exporting/EmployeeListExcelExporter/SetWorkdaysSheet(ExcelPackage,List<EmployeeOutputDto>,Nullable<DateTime>,Nullable<DateTime>)\", \"GES_GRT.Web.Areas.Mpa.Controllers/SettingsController/SettingsController(ITenantSettingsAppService,IMultiTenancyConfig,ITimingAppService)\", \"GES_GRT.Web.Areas.Mpa.Controllers/NotificationsController/SettingsModal()\", \"GES_GRT.Web.Areas.Mpa.Startup/MpaNavigationProvider/SetNavigation(INavigationProviderContext)\", \"GES_GRT.Util/LineItemUtilities/OnMappingChanged(ClientIncomeComponent,IRepository<LineItem>)\", \"GES_GRT.Web/MvcApplication/Session_Start(Object,EventArgs)\", \"GES_GRT.Authorization.Users/UserEmailer/SendPasswordResetLinkAsync(User)\", \"GES_GRT.Authorization.Roles/RoleAppService/RoleAppService(RoleManager)\", \"GES_GRT.Authorization.Roles/RoleManager/RoleManager(RoleStore,IPermissionManager,IRoleManagementConfig,ICacheManager,IUnitOfWorkManager)\", \"GES_GRT.DataExporting.Excel.EpPlus/EpPlusExcelExporterBase/Save(ExcelPackage,FileDto)\", \"GES_GRT.Storage/DbBinaryObjectManager/SaveAsync(BinaryObject)\", \"GES_GRT.WebApi.Controllers/ImportClientIncomeComponentsController/SaveClientIncomeComponents(MultipartFormDataStreamProvider,Int32)\", \"GES_GRT.WebApi.Controllers/ImportEmployeesController/SaveEmployees(MultipartFormDataStreamProvider,Int32)\", \"GES_GRT.WebApi.Controllers/TemplateFileController/SaveFile(MultipartFormDataStreamProvider)\", \"GES_GRT.Web.Controllers/AccountController/SaveImpersonationTokenAndGetTargetUrl(Nullable<Int32>,Int64,Boolean)\", \"GES_GRT.Configuration.Host/HostSettingsAppService/SendTestEmail(SendTestEmailInput)\", \"GES_GRT.WebApi.Controllers/ImportIncomeComponentsController/SaveIncomeComponents(MultipartFormDataStreamProvider)\", \"GES_GRT.Web.Chat.SignalR/SignalRChatCommunicator/SendAllUnreadMessagesOfUserReadToClients(IReadOnlyList<IOnlineClient>,UserIdentifier)\", \"GES_GRT.Web.Controllers/AccountController/SendEmailActivationLink(SendEmailActivationLinkViewModel)\", \"GES_GRT.Web.Chat.SignalR/SignalRChatCommunicator/SendFriendshipRequestToClient(IReadOnlyList<IOnlineClient>,Friendship,Boolean,Boolean)\", \"GES_GRT.Web.Chat.SignalR/ChatHub/SendMessage(SendChatMessageInput)\", \"GES_GRT.Chat/ChatMessageManager/SendMessage(UserIdentifier,UserIdentifier,String,String,String,Nullable<Guid>)\", \"GES_GRT.Notifications/AppNotifier/SendMessageAsync(UserIdentifier,String,NotificationSeverity)\", \"GES_GRT.Web.Chat.SignalR/SignalRChatCommunicator/SendMessageToClient(IReadOnlyList<IOnlineClient>,ChatMessage)\", \"GES_GRT.Web.Controllers/AccountController/SendPasswordResetLink(SendPasswordResetLinkViewModel)\", \"GES_GRT.WebApi.Controllers/ImportLineItemsController/SaveLineItems(MultipartFormDataStreamProvider,Int32)\", \"GES_GRT.Periods/PeriodAppService/GetPeriodOverview()\", \"GES_GRT.Extensions/EnumExtension/GetShortName(Enum)\", \"GES_GRT.Util/LineItemUtilities/GetPayCycleDenominator(LineItem)\", \"GES_GRT.GeneralComments/GeneralCommentAppService/CreateOrUpdateGeneralComment(GeneralCommentInputDto)\", \"GES_GRT.IncomeComponents/IncomeComponentAppService/CreateOrUpdateIncomeComponent(IncomeComponentInputDto)\", \"GES_GRT.Localization/LanguageAppService/CreateOrUpdateLanguage(CreateOrUpdateLanguageInput)\", \"GES_GRT.LineItems/LineItemAppService/CreateOrUpdateLineItem(LineItemInputDto)\", \"GES_GRT.Authorization.Roles/RoleAppService/CreateOrUpdateRole(CreateOrUpdateRoleInput)\", \"GES_GRT.Authorization.Users/UserAppService/CreateOrUpdateUser(CreateOrUpdateUserInput)\", \"GES_GRT.Organizations/OrganizationUnitAppService/CreateOrganizationUnit(CreateOrganizationUnitInput)\", \"GES_GRT.Editions/EditionAppService/CreateOrUpdateEdition(CreateOrUpdateEditionDto)\", \"GES_GRT.Web.Areas.Mpa.Models.OrganizationUnits/CreateOrganizationUnitModalViewModel/CreateOrganizationUnitModalViewModel(Nullable<Int64>)\", \"GES_GRT.ReconciliationComments/ReconciliationCommentAppService/CreateReconciliationComment(ReconciliationCommentInputDto)\", \"GES_GRT.Authorization.Roles/RoleAppService/CreateRoleAsync(CreateOrUpdateRoleInput)\", \"GES_GRT.Util/ExcelUtilities/CreateRow(Object[],Nullable<CellValues>[],UInt32,Int32,Int32,WorksheetPart)\", \"GES_GRT.Employees/EmployeeAppService/CreateStatutoryDirectorComment(String,String,Employee)\", \"GES_GRT.MultiTenancy/TenantAppService/CreateTenant(CreateTenantInput)\", \"GES_GRT.Authorization.Users/User/CreateTenantAdminUser(Int32,String,String)\", \"GES_GRT.Web.Areas.Mpa.Models.Tenants/CreateTenantViewModel/CreateTenantViewModel(IReadOnlyList<ComboboxItemDto>)\", \"GES_GRT.Authorization.Users/User/CreateRandomPassword()\", \"GES_GRT.Web/Startup/CreateTwitterAuthOptions()\", \"GES_GRT.ClientIncomeComponentGroups/ClientIncomeComponentGroupAppService/CreateOrUpdateClientIncomeComponentGroup(ClientIncomeComponentGroupInputDto)\", \"GES_GRT.Clients/ClientAppService/CreateOrUpdateClient(ClientInputDto)\", \"GES_GRT.Editions/EditionAppService/CreateEditionAsync(CreateOrUpdateEditionDto)\", \"GES_GRT.Employees/EmployeeAppService/CreateEmployeeAsync(EmployeeInputDto)\", \"GES_GRT.Authorization/AbpLoginResultTypeHelper/CreateExceptionForFailedLoginAttempt(AbpLoginResultType,String,String)\", \"GES_GRT.Web/Startup/CreateFacebookAuthOptions()\", \"GES_GRT.Localization/LanguageAppService/CreateLanguageAsync(CreateOrUpdateLanguageInput)\", \"GES_GRT.LineItems/LineItemAppService/CreateLineItemAsync(LineItemInputDto)\", \"GES_GRT/CustomDtoMapper/CreateMappings(IMapperConfigurationExpression)\", \"GES_GRT.ClientExchangeRates/ClientExchangeRateAppService/CreateOrUpdateClientExchangeRate(ClientExchangeRateInputDto)\", \"GES_GRT/CustomDtoMapper/CreateMappingsInternal(IMapperConfigurationExpression)\", \"GES_GRT.Web.Areas.Mpa.Controllers/OrganizationUnitsController/CreateModal(Nullable<Int64>)\", \"GES_GRT.ClientIncomeComponents/ClientIncomeComponentAppService/CreateMultipleClientIncomeComponents(List<Int32>,Int32)\", \"GES_GRT.Web.Areas.Mpa.Controllers/EditionsController/CreateOrEditModal(Nullable<Int32>)\", \"GES_GRT.Web.Areas.Mpa.Controllers/RolesController/CreateOrEditModal(Nullable<Int32>)\", \"GES_GRT.Web.Areas.Mpa.Controllers/UsersController/CreateOrEditModal(Nullable<Int64>)\", \"GES_GRT.Web.Areas.Mpa.Models.Roles/CreateOrEditRoleModalViewModel/CreateOrEditRoleModalViewModel(GetRoleForEditOutput)\", \"GES_GRT.Web.Areas.Mpa.Models.Users/CreateOrEditUserModalViewModel/CreateOrEditUserModalViewModel(GetUserForEditOutput)\", \"GES_GRT.Web.Areas.Mpa.Controllers/TenantsController/CreateModal()\", \"GES_GRT.MultiTenancy.Demo/RandomUserGenerator/CreateUser(Nullable<Int32>,String)\", \"GES_GRT.MultiTenancy/TenantManager/CreateWithAdminUserAsync(String,String,String,String,String,Boolean,Nullable<Int32>,Boolean,Boolean)\", \"GES_GRT.DataExporting.Excel.EpPlus/EpPlusExcelExporterBase/CreateXlsmExcelPackageFromTemplateFile(FileInfo,Action<ExcelPackage>)\", \"GES_GRT.Employees.Exporting/EmployeeListExcelExporter/EmployeeListExcelExporter(IRepository<LineItem>,IRepository<ClientIncomeComponent>,IRepository<GeneralComment>,IRepository<Employee>,IAppFolders)\", \"GES_GRT.Employees.Dto/EmployeeOutputDto/EmployeeOutputDto()\", \"GES_GRT.Util/EnumJsonConverter/EnumJsonConverter()\", \"GES_GRT.Extensions/DynamicQueryableExtensions+SimpleTypeComparer/Equals(Type,Type)\", \"GES_GRT.Util/ExcelData/ExcelData()\", \"GES_GRT.ExchangeRates/ExchangeRateAppService/ExchangeRateAppService(IRepository<ExchangeRate>,IRepository<Currency>,IRepository<Period>)\", \"GES_GRT.WebApi.Helpers/TextResult/ExecuteAsync(CancellationToken)\", \"GES_GRT.Employees.Dto/EmployeeInputDto/EmployeeInputDto()\", \"GES_GRT.Web.Controllers.Results/ChallengeResult/ExecuteResult(ControllerContext)\", \"GES_GRT.Authorization.Users.Exporting/UserListExcelExporter/ExportToFile(List<UserListDto>)\", \"GES_GRT.Employees.Exporting/EmployeeListExcelExporter/ExportToXlsmFile(List<EmployeeOutputDto>,Nullable<DateTime>,Nullable<DateTime>,User)\", \"GES_GRT.Web.Controllers/AccountController/ExternalLogin(String,String)\", \"GES_GRT.Web.Controllers/AccountController/ExternalLoginCallback(String,String)\", \"GES_GRT.Localization/FamFamFamFlagsHelper/FamFamFamFlagsHelper()\", \"GES_GRT.Web.Areas.Mpa.Controllers/TenantsController/FeaturesModal(Int32)\", \"GES_GRT.Web.Controllers/FileController/FileController(IAppFolders)\", \"GES_GRT.Auditing.Exporting/AuditLogListExcelExporter/ExportToFile(List<AuditLogListDto>)\", \"GES_GRT.Employees/EmployeeAppService/EmployeeAppService(IRepository<Employee>,IRepository<Country>,IRepository<Client>,IRepository<EmployeeCar>,IRepository<Period>,IEmployeeListExcelExporter,IRepository<ExchangeRate>,IRepository<ClientExchangeRate>,IRepository<LineItem>,IRepository<IncomeComponent>,IRepository<ClientIncomeComponent>,IRepository<GeneralComment>)\", \"GES_GRT.Web.Controllers/AccountController/EmailConfirmation(EmailConfirmationViewModel)\", \"GES_GRT.Web.Areas.Mpa.Controllers/LanguagesController/EditTextModal(String,String,String,String)\", \"GES_GRT.Web.Bundling/CssRewriteUrlWithVirtualDirectoryTransform/CssRewriteUrlWithVirtualDirectoryTransform()\", \"GES_GRT.Storage/DbBinaryObjectManager/DbBinaryObjectManager(IRepository<BinaryObject,Guid>)\", \"GES_GRT.Extensions/DecimalPrecision/DecimalPrecision(Byte,Byte)\", \"GES_GRT.Storage/DbBinaryObjectManager/DeleteAsync(Guid)\", \"GES_GRT.Clients/ClientAppService/DeleteClient(EntityDto)\", \"GES_GRT.ClientExchangeRates/ClientExchangeRateAppService/DeleteClientExchangeRate(EntityDto)\", \"GES_GRT.ClientIncomeComponents/ClientIncomeComponentAppService/DeleteClientIncomeComponent(EntityDto)\", \"GES_GRT.ClientIncomeComponentGroups/ClientIncomeComponentGroupAppService/DeleteClientIncomeComponentFromGroup(ClientIncomeComponentGroup,Int32)\", \"GES_GRT.ClientIncomeComponentGroups/ClientIncomeComponentGroupAppService/DeleteClientIncomeComponentGroup(EntityDto)\", \"GES_GRT.GeneralComments/GeneralCommentAppService/DeleteGeneralComment(EntityDto)\", \"GES_GRT.IncomeComponents/IncomeComponentAppService/DeleteIncomeComponent(EntityDto)\", \"GES_GRT.LineItems/LineItemAppService/DeleteLineItem(EntityDto)\", \"GES_GRT.LineItems/LineItemAppService/DeleteLineItemsByPeriod(DeletePeriodLineItemsDto)\", \"GES_GRT.Clients/ClientAppService/GetPayLocations(Int32)\", \"GES_GRT.ClientExchangeRates/ClientExchangeRateAppService/EditClientExchangeRateAsync(ClientExchangeRateInputDto)\", \"GES_GRT.GeneralComments/GeneralCommentAppService/EditGeneralComment(GeneralCommentInputDto)\", \"GES_GRT.IncomeComponents/IncomeComponentAppService/EditIncomeComponentAsync(IncomeComponentInputDto)\", \"GES_GRT.LineItems/LineItemAppService/CreateCompanyCarLineItems(Int32)\", \"GES_GRT.Dto/FileDto/FileDto()\", \"GES_GRT.ClientIncomeComponentGroups/ClientIncomeComponentGroupAppService/CreateClientIncomeComponentGroupAsync(ClientIncomeComponentGroupInputDto)\", \"GES_GRT.ClientExchangeRates/ClientExchangeRateAppService/CreateClientExchangeRateAsync(ClientExchangeRateInputDto)\", \"GES_GRT.Web.Auth/ApplicationSignInManager/ApplicationSignInManager(UserManager,IAuthenticationManager)\", \"GES_GRT.Web/MvcApplication/Application_AuthenticateRequest(Object,EventArgs)\", \"GES_GRT.Web/MvcApplication/Application_Start(Object,EventArgs)\", \"GES_GRT.Authorization.Users/UserLinkManager/AreUsersLinked(UserIdentifier,UserIdentifier)\", \"GES_GRT.Runtime.Session/AspNetZeroAbpSession/AspNetZeroAbpSession(IMultiTenancyConfig)\", \"GES_GRT.Auditing/AuditLogAppService/AuditLogAppService(IRepository<AuditLog,Int64>,IRepository<User,Int64>,IAuditLogListExcelExporter,INamespaceStripper)\", \"GES_GRT.WebApi.Controllers/AccountController/Authenticate(LoginModel)\", \"GES_GRT.Notifications/AppNotifier/AppNotifier(INotificationPublisher)\", \"GES_GRT.Employees/EmployeeAppService/AutoGenerateEmployeeId(EmployeeInputDto)\", \"GES_GRT.Storage/BinaryObject/BinaryObject(Nullable<Int32>,Byte[])\", \"GES_GRT.Friendships/FriendshipAppService/BlockUser(BlockUserInput)\", \"GES_GRT.Employees/EmployeeAppService/BulkDeleteEmployees(List<Int32>)\", \"GES_GRT.Clients/ClientAppService/CanSaveClient(Int32,String)\", \"GES_GRT.IncomeComponents/IncomeComponentAppService/CanSaveIncomeComponentWithLabelAndStartDate(Int32,String,DateTime)\", \"GES_GRT.Web.Controllers.Results/ChallengeResult/ChallengeResult(String,String)\", \"GES_GRT.Web.Controllers.Results/ChallengeResult/ChallengeResult(String,String,String)\", \"GES_GRT.Web.Controllers/AccountController/BackToImpersonator()\", \"GES_GRT.Authorization.Users.Profile/ProfileAppService/ChangePassword(ChangePasswordInput)\", \"GES_GRT.Authorization.Ldap/AppLdapAuthenticationSource/AppLdapAuthenticationSource(ILdapSettings,IAbpZeroLdapModuleConfig)\", \"GES_GRT.Authorization/AppAuthorizationProvider/AppAuthorizationProvider(Boolean)\", \"GES_GRT.Friendships/FriendshipManager/AcceptFriendshipRequest(UserIdentifier,UserIdentifier)\", \"GES_GRT.WebApi.Controllers/AccountController/AccountController()\", \"GES_GRT.WebApi.Controllers/AccountController/AccountController(UserManager,AbpLoginResultTypeHelper)\", \"GES_GRT.Web.Controllers/AccountController/AccountController(UserManager,IMultiTenancyConfig,IUserEmailer,RoleManager,TenantManager,IUnitOfWorkManager,ITenancyNameFinder,ICacheManager,IAppNotifier,IWebUrlService,AbpLoginResultTypeHelper,IUserLinkManager,INotificationSubscriptionManager)\", \"GES_GRT.Web.App.Startup/AppBundleConfig/AddAppCssLibs(BundleCollection,Boolean)\", \"GES_GRT.Web.Areas.Mpa.Startup/MpaBundleConfig/AddAppMetrinicCss(BundleCollection,Boolean)\", \"GES_GRT.Web.App.Startup/AppBundleConfig/AddAppMetronicCss(BundleCollection,Boolean)\", \"GES_GRT.Authorization/AppAuthorizationProvider/AppAuthorizationProvider(IMultiTenancyConfig)\", \"GES_GRT.Friendships.Cache/UserFriendsCache/AddFriend(UserIdentifier,FriendCacheItem)\", \"GES_GRT.Web.Bundling/FrontEndBundleConfig/AddFrontendCssMetronic(BundleCollection,Boolean)\", \"GES_GRT.DataExporting.Excel.EpPlus/EpPlusExcelExporterBase/AddHeader(ExcelWorksheet,Int32,String)\", \"GES_GRT.DataExporting.Excel.EpPlus/EpPlusExcelExporterBase/AddHeader(ExcelWorksheet,String[])\", \"GES_GRT.LineItems/LineItemAppService/AddManualValueForLineItem(AddManualValueLineItemDto)\", \"GES_GRT.Web.Areas.Mpa.Startup/MpaBundleConfig/AddMpaCssLibs(BundleCollection,Boolean)\", \"GES_GRT.DataExporting.Excel.EpPlus/EpPlusExcelExporterBase/AddObjects<T>(ExcelWorksheet,Int32,IList<T>,Func<T,Object>[])\", \"GES_GRT.Organizations/OrganizationUnitAppService/AddUserToOrganizationUnit(UserToOrganizationUnitInput)\", \"GES_GRT.Web.Bundling/FrontEndBundleConfig/AddFrontendCssLibs(BundleCollection,Boolean)\", \"GES_GRT.Web.Areas.Mpa.Controllers/ProfileController/ChangePasswordModal()\", \"GES_GRT.Web.Controllers/ProfileController/ChangeProfilePicture()\", \"GES_GRT.Web.Chat.SignalR/ChatHub/ChatHub(IChatMessageManager,ILocalizationManager)\", \"GES_GRT.ClientIncomeComponents.Dto/ClientIncomeComponentOutputDto/ClientIncomeComponentOutputDto()\", \"GES_GRT.Clients.Dto/ClientInputDto/ClientInputDto()\", \"GES_GRT.Clients.Dto/ClientOutputDto/ClientOutputDto()\", \"GES_GRT.Common/CommonLookupAppService/CommonLookupAppService(EditionManager,IRepository<Client>)\", \"GES_GRT.Util/ExcelUtilities/CompareColumn(String,String)\", \"GES_GRT.Web/Startup/Configuration(IAppBuilder)\", \"GES_GRT.Authorization.Roles/AppRoleConfig/Configure(IRoleManagementConfig)\", \"GES_GRT.ClientIncomeComponents.Dto/ClientIncomeComponentInputDto/ClientIncomeComponentInputDto()\", \"GES_GRT.WebApi/GES_GRTWebApiModule/ConfigureOData()\", \"GES_GRT.Friendships.Cache/FriendCacheItemExtensions/ContainsFriend(List<FriendCacheItem>,FriendCacheItem)\", \"GES_GRT.Auditing/AuditLogAppService/ConvertToAuditLogListDtos(List<AuditLogAndUser>)\", \"GES_GRT.Settings/CountryAppService/CountryAppService(IRepository<Country>)\", \"GES_GRT.LineItems/LineItemAppService/CreateCarLineItemForPeriod(Employee,ClientIncomeComponent,EmployeeCar,Period,Currency,LineItem)\", \"GES_GRT.Util/ExcelUtilities/CreateCell(Object,Nullable<CellValues>,UInt32,Int32,WorksheetPart)\", \"GES_GRT.Util/ImportUtilities/CreateCellRanges(String,String)\", \"GES_GRT.Web.Controllers/GALoginController/CreateClaimsIdentity(User,String)\", \"GES_GRT.WebApi/GES_GRTWebApiModule/ConfigureSwaggerUi()\", \"GES_GRT.ClientIncomeComponentGroups.Dto/ClientIncomeComponentGroupSuperSimpleDto/ClientIncomeComponentGroupSuperSimpleDto()\", \"GES_GRT.ClientIncomeComponentGroups.Dto/ClientIncomeComponentGroupSimpleDto/ClientIncomeComponentGroupSimpleDto()\", \"GES_GRT.ClientIncomeComponentGroups.Dto/ClientIncomeComponentGroupInputDto/ClientIncomeComponentGroupInputDto()\", \"GES_GRT.Chat/ChatMessage/ChatMessage(UserIdentifier,UserIdentifier,ChatSide,String,ChatMessageReadState)\", \"GES_GRT.Friendships/ChatUserStateWatcher/ChatUserStateWatcher(IChatCommunicator,IUserFriendsCache,IOnlineClientManager)\", \"GES_GRT.Chat/ChatFeatureChecker/CheckChatFeatures(Nullable<Int32>,Nullable<Int32>)\", \"GES_GRT.Chat/ChatFeatureChecker/CheckChatFeaturesInternal(Nullable<Int32>,Nullable<Int32>,ChatSide)\", \"GES_GRT/GES_GRTAppServiceBase/CheckErrors(IdentityResult)\", \"GES_GRT.Web.Controllers/GES_GRTControllerBase/CheckErrors(IdentityResult)\", \"GES_GRT.MultiTenancy/TenantManager/CheckErrors(IdentityResult)\", \"GES_GRT.Localization/LanguageAppService/CheckLanguageIfAlreadyExists(String,Nullable<Int32>)\", \"GES_GRT.LineItems/LineItemAppService/CheckLineItemsForRecalculation(RecalculateCheckInputDto)\", \"GES_GRT.Authorization.Users.Profile/ProfileAppService/CheckPasswordComplexity(String)\", \"GES_GRT.Web.Controllers/AccountController/CheckSelfRegistrationIsEnabled()\", \"GES_GRT.Caching/CachingAppService/ClearAllCaches()\", \"GES_GRT.GRT.Clients/Client/Client()\", \"GES_GRT.Clients/ClientAppService/ClientAppService(IRepository<Client>,IRepository<Country>,IRepository<PayLocation>,IRepository<SourceIndication>)\", \"GES_GRT.ClientExchangeRates/ClientExchangeRateAppService/ClientExchangeRateAppService(IRepository<ClientExchangeRate>,IRepository<Client>,IRepository<Currency>,IRepository<Period>)\", \"GES_GRT.GRT.ClientIncomeComponents/ClientIncomeComponent/ClientIncomeComponent()\", \"GES_GRT.ClientIncomeComponents.Dto/ClientIncomeComponentExportOutputDto/ClientIncomeComponentExportOutputDto()\", \"GES_GRT.ClientIncomeComponents/ClientIncomeComponentAppService/CreateClientIncomeComponentAsync(ClientIncomeComponentInputDto)\", \"GES_GRT.Dto/FileDto/FileDto(String,String)\", \"GES_GRT.Organizations/OrganizationUnitAppService/hasPermission(User,Client)\", \"GES_GRT.Common/CommonLookupAppService/FindClients(FindClientsInput)\", \"GES_GRT.WebApi.Helpers/ApiReflectionHelper/GetHttpMethod(MethodInfo)\", \"GES_GRT.ClientExchangeRates/ClientExchangeRateAppService/GetClientExchangeRates(GetClientExchangeRatesInput)\", \"GES_GRT.ClientExchangeRates/ClientExchangeRateAppService/GetClientExchangeRateForEdit(NullableIdInput<Int32>)\", \"GES_GRT.IncomeComponents/IncomeComponentAppService/GetIncomeComponentForEdit(NullableIdInput<Int32>)\", \"GES_GRT.Util/ImportUtilities/GetCellValue(Object[],Int32,Boolean)\", \"GES_GRT.Util/ImportUtilities/GetCellStringValue(Object[],Int32,Boolean)\", \"GES_GRT.Util/ExcelUtilities/GetCellName(Int32,UInt32)\", \"GES_GRT.IncomeComponents/IncomeComponentAppService/GetIncomeComponents(GetIncomeComponentsInput)\", \"GES_GRT.Util/ImportUtilities/GetCellDecimalValue(Object[],Int32,Boolean)\", \"GES_GRT.Util/ImportUtilities/GetCellDateTimeValue(Object[],Int32,Boolean)\", \"GES_GRT.Util/ImportUtilities/GetCellBooleanValue(Object[],Int32,Boolean)\", \"GES_GRT.Clients/ClientAppService/GetClientForEdit(NullableIdInput<Int32>)\", \"GES_GRT.Friendships.Cache/UserFriendsCache/GetCacheItemOrNull(UserIdentifier)\", \"GES_GRT.Auditing/AuditLogAppService/GetAuditLogs(GetAuditLogsInput)\", \"GES_GRT.WebApi.Helpers/ApiReflectionHelper/GetApiControllers()\", \"GES_GRT.Localization/LanguageAppService/GetLanguageTexts(GetLanguageTextsInput)\", \"GES_GRT.Configuration.Host/HostSettingsAppService/GetAllSettings()\", \"GES_GRT.Localization.Dto/GetLanguagesOutput/GetLanguagesOutput(IReadOnlyList<ApplicationLanguageListDto>,String)\", \"GES_GRT.Authorization.Permissions/PermissionAppService/GetAllPermissions()\", \"GES_GRT.Employees/EmployeeAppService/GetAllEmployees(Int32)\", \"GES_GRT.Logging/WebLogAppService/GetLatestWebLogs()\", \"GES_GRT.LineItems/LineItemAppService/GetLineItemForEdit(NullableIdInput<Int32>)\", \"GES_GRT.Caching/CachingAppService/GetAllCaches()\", \"GES_GRT.LineItems/LineItemAppService/GetAlerts(GetAlertInput)\", \"GES_GRT.Friendships.Cache/UserFriendsCache/GetCacheItem(UserIdentifier)\", \"GES_GRT.ClientIncomeComponents/ClientIncomeComponentAppService/GetClientIncomeComponentForEdit(NullableIdInput<Int32>)\", \"GES_GRT.ClientIncomeComponentGroups/ClientIncomeComponentGroupAppService/GetClientIncomeComponentGroupForEdit(NullableIdInput<Int32>)\", \"GES_GRT.Extensions/DynamicQueryableExtensions+SimpleTypeComparer/GetHashCode(Type)\", \"GES_GRT.Timing/TimeZoneService/GetDefaultTimezoneAsync(SettingScopes,Nullable<Int32>)\", \"GES_GRT.Util/EnumJsonConverter/GetDefaultValue(Type)\", \"GES_GRT.Extensions/EnumExtension/GetDescription(Enum)\", \"GES_GRT.Extensions/EnumExtension/GetDescriptions(Enum,String)\", \"GES_GRT.Editions/EditionAppService/GetEditionComboboxItems(Nullable<Int32>)\", \"GES_GRT.Editions/EditionAppService/GetEditionForEdit(NullableIdInput)\", \"GES_GRT.Editions/EditionAppService/GetEditions()\", \"GES_GRT.Employees/EmployeeAppService/GetEmployeeForEdit(NullableIdInput<Int32>)\", \"GES_GRT.Web.MultiTenancy/TenantIdAccessor/GetCurrentTenantIdOrNull(Boolean)\", \"GES_GRT.Employees/EmployeeAppService/GetEmployeeWithCars(NullableIdInput<Int32>)\", \"GES_GRT.Employees/EmployeeAppService/GetEmployees(GetEmployeesInput)\", \"GES_GRT.Employees/EmployeeAppService/GetEmployeesToExcel(GetExportEmployeesInput)\", \"GES_GRT.ExchangeRates/ExchangeRateAppService/GetExchangeRates(GetExchangeRatesInput)\", \"GES_GRT.Util/LineItemUtilities/GetFiscalAdditionPercentage(TaxationType,Boolean)\", \"GES_GRT.Authorization.Users/UserAppService/FillRoleNames(List<UserListDto>)\", \"GES_GRT.Web.MultiTenancy/SubdomainTenancyNameFinder/GetCurrentSiteRootAddress()\", \"GES_GRT.Services/ExchangeRateService/GetCurrencyListFromWeb(DateTime&)\", \"GES_GRT.Extensions/EnumExtension/GetFlagValues<T>()\", \"GES_GRT.Extensions/EnumExtension/GetFlags<T>(T)\", \"GES_GRT.Extensions/EnumExtension/GetFlags<T>(T,T[])\", \"GES_GRT.WebApi.Helpers/ApiReflectionHelper/GetConventionalServiceName(Type)\", \"GES_GRT.Web.Controllers/ProfileController/GetFriendProfilePictureById(Int64,Nullable<Int32>,String)\", \"GES_GRT.Friendships/FriendshipManager/GetFriendshipOrNull(UserIdentifier,UserIdentifier)\", \"GES_GRT.GeneralComments/GeneralCommentAppService/GetGeneralCommentForEdit(NullableIdInput<Int32>)\", \"GES_GRT.GeneralComments/GeneralCommentAppService/GetGeneralComments(GetGeneralCommentsInput)\", \"GES_GRT.Web.Controllers/AccountController/GetActiveTenantAsync(String)\", \"GES_GRT.Web.Auth/TwitterEmailRetriever/Get(String,String,String,String)\", \"GES_GRT.Auditing/AuditLogAppService/GetAuditLogsToExcel(GetAuditLogsInput)\", \"GES_GRT.MultiTenancy.Demo/RandomUserGenerator/GenerateUsername(String)\", \"GES_GRT.Web.Bundling/ScriptPaths/GetLocalizationFileForjQueryValidationOrNull(String)\", \"GES_GRT.Web.Controllers/AccountController/GetLoginResultAsync(String,String,String)\", \"GES_GRT.WebApi.Controllers/AccountController/GetLoginResultAsync(String,String,String)\", \"GES_GRT.Web.Controllers/TenantRegistrationController/GetLoginResultAsync(String,String,String)\", \"GES_GRT.Tenants.Dashboard/TenantDashboardAppService/GetMemberActivity()\", \"GES_GRT.Web.Views/GES_GRTWebViewPageBase<TModel>/GES_GRTWebViewPageBase()\", \"GES_GRT.Extensions/DynamicQueryableExtensions/GetMethodEx(Type,String,Type[],Int32)\", \"GES_GRT/GES_GRTServiceBase/GES_GRTServiceBase()\", \"GES_GRT.Notifications.Dto/GetNotificationsOutput/GetNotificationsOutput(Int32,Int32,List<UserNotification>)\", \"GES_GRT/GES_GRTDomainServiceBase/GES_GRTDomainServiceBase()\", \"GES_GRT.Storage/DbBinaryObjectManager/GetOrNullAsync(Guid)\", \"GES_GRT.Web.Controllers/GES_GRTControllerBase/GES_GRTControllerBase()\", \"GES_GRT.GeneralComments/GeneralCommentAppService/GeneralCommentAppService(IRepository<Employee>,IRepository<Client>,IRepository<GeneralComment>)\", \"GES_GRT/GES_GRTAppServiceBase/GES_GRTAppServiceBase()\", \"GES_GRT.Web.Controllers/GALoginController/GALoginController(UserManager,IRepository<User,Int64>)\", \"GES_GRT.GRT.Employees/Employee/FullName()\", \"GES_GRT.Friendships/FriendshipManager/FriendshipManager(IRepository<Friendship,Int64>)\", \"GES_GRT.Util/LineItemUtilities/GetOverlappingDays(DateTime,DateTime,DateTime,DateTime)\", \"GES_GRT.Friendships/Friendship/Friendship(UserIdentifier,UserIdentifier,String,String,Nullable<Guid>,FriendshipState)\", \"GES_GRT.Friendships/Friendship/Friendship()\", \"GES_GRT.Authorization.Users.Profile/ProfileAppService/GetPasswordComplexitySetting()\", \"GES_GRT.Web.Controllers/AccountController/ForgotPassword()\", \"GES_GRT.Web.Bundling/BundleExtensions/ForceOrdered(Bundle)\", \"GES_GRT.Web.Areas.Mpa.Controllers/LayoutController/Footer()\", \"GES_GRT.Common/CommonLookupAppService/FindUsers(FindUsersInput)\", \"GES_GRT.Web.Controllers/AccountController/FindPossibleTenantsOfUserAsync(UserLoginInfo)\", \"GES_GRT.WebApi/GES_GRTApiControllerBase/GES_GRTApiControllerBase()\", \"GES_GRT.Web.Bundling/ScriptPaths/GetLocalizationFileForjAngularOrNull(String)\", \"GES_GRT.Common/CommonLookupAppService/GetDefaultEditionName()\", \"GES_GRT.Web.Helpers/CustomMultipartFormDataStreamProvider/GetLocalFileName(HttpContentHeaders)\", \"GES_GRT.Web.Bundling/ScriptPaths/GetLocalizationFileForJTableOrNull(String)\", \"GES_GRT.WebApi.Helpers/ApiReflectionHelper/GeneratePostData(MethodInfo)\", \"GES_GRT.Web.Bundling/ScriptPaths/GetLocalizationFileForBootstrapSelect(String)\", \"GES_GRT.LineItems/LineItemAppService/GetLineItemsByEmployeeForOverview(GetLineItemInputByEmployeeForOverview)\", \"GES_GRT.MultiTenancy.Demo/RandomUserGenerator/GenerateEmail(String)\", \"GES_GRT.Authorization.Users/UserLinkAppService/GetLinkedUsers(GetLinkedUsersInput)\", \"GES_GRT.WebApi.Helpers/ApiReflectionHelper/GenerateJsMethodParameterList(MethodInfo)\", \"GES_GRT.LineItems/LineItemAppService/GetLineItems(GetLineItemInput)\", \"GES_GRT.Util/LineItemUtilities/GetExchangeRate(LineItem,IRepository<ExchangeRate>,IRepository<ClientExchangeRate>)\", \"GES_GRT.ClientIncomeComponentGroups/ClientIncomeComponentGroupAppService/ClientIncomeComponentGroupAppService(IRepository<ClientIncomeComponent>,IRepository<IncomeComponent>,IRepository<Client>,IRepository<LineItem>,IRepository<ClientIncomeComponentGroup>)\", \"GES_GRT.GRT.ClientIncomeComponentGroups/ClientIncomeComponentGroup/ClientIncomeComponentGroup()\", \"GES_GRT.Web.MultiTenancy/TenantIdAccessor/TenantIdAccessor(ITenancyNameFinder,ITenantCache,IIocResolver)\", \"GES_GRT.ClientIncomeComponents/ClientIncomeComponentAppService/ClientIncomeComponentAppService(IRepository<ClientIncomeComponent>,IRepository<IncomeComponent>,IRepository<Client>,IRepository<LineItem>,IRepository<Country>)\", \"GES_GRT.Web.Controllers/TenantRegistrationController/TenantRegistrationController(IMultiTenancyConfig,TenantManager,EditionManager,IAppNotifier,UserManager,AbpLoginResultTypeHelper)\", \"GES_GRT.Configuration.Tenants/TenantSettingsAppService/TenantSettingsAppService(IMultiTenancyConfig,IAbpZeroLdapModuleConfig,ITimeZoneService)\", \"GES_GRT.Web.Areas.Mpa.Controllers/TenantsController/TenantsController(ITenantAppService,TenantManager,IEditionAppService,ICommonLookupAppService)\", \"GES_GRT.Timing/TimingAppService/GetTimezones(GetTimezonesInput)\", \"GES_GRT.Storage/BinaryObject/BinaryObject()\", \"GES_GRT.Localization.Dto/GetLanguageForEditOutput/GetLanguageForEditOutput()\", \"GES_GRT.Web.Controllers/ProfileController/GetProfilePictureById(String)\", \"GES_GRT.Web.Controllers/AccountController/TestNotification(String,String)\", \"GES_GRT.Caching/CachingAppService/CachingAppService(ICacheManager)\", \"GES_GRT.Common/CommonLookupAppService/GetEditionsForCombobox()\", \"GES_GRT.Web.MultiTenancy/SubdomainTenancyNameFinder/SubdomainTenancyNameFinder(ISettingManager,IMultiTenancyConfig)\", \"GES_GRT.LineItems/LineItemAppService/GetLineItemsByEmployee(GetLineItemInputByEmployee)\", \"GES_GRT.Web.Controllers/AccountController/Impersonate(ImpersonateModel)\", \"GES_GRT.Web.Controllers/ProfileController/GetProfilePicture()\", \"GES_GRT.Web.Areas.Mpa.Models.Layout/FooterViewModel/GetProductNameWithEdition()\", \"GES_GRT.Web.Areas.Mpa.Controllers/LayoutController/Sidebar(String)\", \"GES_GRT.Authorization.Permissions/PermissionManagerExtensions/GetPermissionsFromNamesByValidating(IPermissionManager,IEnumerable<String>)\", \"GES_GRT.MultiTenancy.Demo/TenantDemoDataBuilder/BuildForInternalAsync(Tenant)\", \"GES_GRT.Web.Controllers/AccountController/SwitchToLinkedAccountSignIn(String)\", \"GES_GRT.Util/LineItemUtilities/CalculateForCarLineItem(LineItem)\", \"GES_GRT.Organizations/OrganizationUnitAppService/GetOrganizationUnits()\", \"GES_GRT.Chat/ChatFeatureChecker/ChatFeatureChecker(IFeatureChecker)\", \"GES_GRT.Chat/ChatMessage/ChatMessage()\", \"GES_GRT.Web.Bundling/ScriptPaths/GetLocalizationFileForjQueryTimeagoOrNull(String)\", \"GES_GRT.Web.Areas.Mpa.Controllers/LayoutController/ChatBar()\", \"GES_GRT.Chat/ChatMessageManager/ChatMessageManager(IFriendshipManager,IChatCommunicator,IOnlineClientManager,UserManager,ITenantCache,IUserFriendsCache,IUserEmailer,IRepository<ChatMessage,Int64>,IChatFeatureChecker)\", \"GES_GRT.WebApi.Controllers/ImportEmployeesController/UpdateExistingEmployee(Employee,Employee)\", \"GES_GRT.GeneralComments/GeneralCommentAppService/getSixMonthExpirationEmployees(Int32)\", \"GES_GRT.WebApi.Controllers/ImportExchangeRatesController/UpdateExistingExchangeRate(ExchangeRate,ExchangeRate)\", \"GES_GRT.Security/PasswordComplexityChecker/Check(PasswordComplexitySetting,String)\", \"GES_GRT.Chat/ChatAppService/ChatAppService(IRepository<ChatMessage,Int64>,IUserFriendsCache,IOnlineClientManager,IChatCommunicator)\", \"GES_GRT.Util/ExcelUtilities/GetRowIndex(String)\", \"GES_GRT.Chat/ChatMessage/ChangeReadState(ChatMessageReadState)\", \"GES_GRT.Authorization.Users/SwitchToLinkedAccountCacheManagerExtensions/GetSwitchToLinkedAccountCache(ICacheManager)\", \"GES_GRT.LineItems/LineItemAppService/CopyLineItemsByPeriod(CopyLineItemPeriodInputDto)\", \"GES_GRT.WebApi.Helpers/TextResult/TextResult(Object)\", \"GES_GRT.MultiTenancy.Demo/TenantDemoDataBuilder/BuildForAsync(Tenant)\", \"GES_GRT.Extensions/EnumExtension/GetGroupName(Enum)\", \"GES_GRT.Employees/EmployeeAppService/CheckIfPayRollEmployeeIdIsUniqueWithinClient(EmployeeInputDto)\", \"GES_GRT.Notifications/NotificationAppService/GetNotificationSettings()\", \"GES_GRT.Util/LineItemUtilities/GetTaxability(LineItem,IRepository<Period>)\", \"GES_GRT.Authorization.Users/UserEmailer/GetTenancyNameOrNull(Nullable<Int32>)\", \"GES_GRT.Auditing.Exporting/AuditLogListExcelExporter/AuditLogListExcelExporter(ITimeZoneConverter,IAbpSession)\", \"GES_GRT.Extensions/EnumExtension/GetValueFromShortName<T>(String)\", \"GES_GRT.Caching/CachingAppService/ClearCache(IdInput<String>)\", \"GES_GRT.Extensions/EnumExtension/GetValues<T>(Enum)\", \"GES_GRT.Localization/LanguageAppService/GetLanguages()\", \"GES_GRT.Localization.Dto/GetLanguagesOutput/GetLanguagesOutput()\", \"GES_GRT.Authorization.Users/UserManager/GetUser(UserIdentifier)\", \"GES_GRT.Organizations/OrganizationUnitAppService/GetOrganizationUnitUsers(GetOrganizationUnitUsersInput)\", \"GES_GRT.Extensions/EnumExtension/GetGroupNames(Enum,String)\", \"GES_GRT.Friendships/FriendshipAppService/GetUserIdentifier(String,String)\", \"GES_GRT.Web.Chat.SignalR/SignalRChatCommunicator/SendUserStateChangeToClients(IReadOnlyList<IOnlineClient>,UserIdentifier,FriendshipState)\", \"GES_GRT.MultiTenancy.Demo/TenantDemoDataBuilder/SetRandomProfilePictureAsync(User)\", \"GES_GRT.Extensions/DynamicQueryableExtensions/DynamicQueryableExtensions()\", \"GES_GRT.Web.Controllers/FileController/DownloadTempFile(FileDto)\", \"GES_GRT.WebApi.Controllers/ImportClientIncomeComponentsController/ParseClientIncomeComponentFileData(Collection<MultipartFileData>,Int32)\", \"GES_GRT.WebApi.Controllers/ImportClientIncomeComponentsController/ParseClientIncomeComponentRows(Client,Range[])\", \"GES_GRT.Authorization.Users/UserAppService/DeleteUser(IdInput<Int64>)\", \"GES_GRT.MultiTenancy/TenantAppService/DeleteTenant(EntityRequestInput)\", \"GES_GRT.LineItems/LineItemAppService/DeleteManualValueForLineItem(DeleteManualValueLineItemDto)\", \"GES_GRT.Localization/LanguageAppService/DeleteLanguage(IdInput)\", \"GES_GRT.IO/AppFileHelper/DeleteFilesInFolderIfExists(String,String)\", \"GES_GRT.Web.App.Startup/AppNavigationProvider/L(String)\", \"GES_GRT.Web.Controllers/ErrorController/E404()\", \"GES_GRT/GES_GRTCoreModule/PostInitialize()\", \"GES_GRT.Authorization/AppAuthorizationProvider/L(String)\", \"GES_GRT.Employees/EmployeeAppService/IsValidEmployeeNumber(Int32,Nullable<Int32>,Int32)\", \"GES_GRT.Currencies/CurrencyAppService/CurrencyAppService(IRepository<Currency>)\", \"GES_GRT.Web/Startup/IsTrue(String)\", \"GES_GRT.Web/Startup/CreateWsFederationAuthOptions()\", \"GES_GRT.Web.Controllers/TenantRegistrationController/IsSelfRegistrationEnabled()\", \"GES_GRT.Util/LineItemUtilities/GetAllocation(LineItem)\", \"GES_GRT.WebApi.Controllers/ImportEmployeesController/CreateStatutoryDirectorComment(String,String,Employee)\", \"GES_GRT.Extensions/EnumExtension/IsHidden(Enum)\", \"GES_GRT.Web.Controllers/AccountController/Register(RegisterViewModel)\", \"GES_GRT.Features/AppFeatureProvider/L(String)\", \"GES_GRT.Validation/ValidationHelper/IsEmail(String)\", \"GES_GRT.Clients/ClientAppService/EditClientAsync(ClientInputDto)\", \"GES_GRT.ClientIncomeComponents/ClientIncomeComponentAppService/EditClientIncomeComponentAsync(ClientIncomeComponentInputDto)\", \"GES_GRT.LineItems/LineItemAppService/MarkAlertAsRead(Int32)\", \"GES_GRT.Chat/ChatAppService/MarkAllUnreadMessagesOfUserAsRead(MarkAllUnreadMessagesOfUserAsReadInput)\", \"GES_GRT.Editions/FeatureValueStore/FeatureValueStore(ICacheManager,IRepository<TenantFeatureSetting,Int64>,IRepository<Tenant>,IRepository<EditionFeatureSetting,Int64>,IFeatureManager,IUnitOfWorkManager)\", \"GES_GRT.Web.Areas.Mpa.Controllers/ProfileController/MySettingsModal()\", \"GES_GRT.LineItems/LineItemAppService/LinkRelatedEntities(LineItemInputDto,LineItem)\", \"GES_GRT.Friendships/FriendshipAppService/FriendshipAppService(IFriendshipManager,IOnlineClientManager,IChatCommunicator,ITenantCache,IChatFeatureChecker)\", \"GES_GRT.ClientIncomeComponents.Dto/GetClientIncomeComponentsInput/Normalize()\", \"GES_GRT.Clients.Dto/GetClientsInput/Normalize()\", \"GES_GRT.GeneralComments.Dto/GetGeneralCommentsInput/Normalize()\", \"GES_GRT.Localization/GetLanguageTextsInput/Normalize()\", \"GES_GRT.Dto/PagedAndSortedInputDto/PagedAndSortedInputDto()\", \"GES_GRT.LineItems.Dto/LineItemReconciliationOutputDto/LineItemReconciliationOutputDto()\", \"GES_GRT.Web.Areas.Mpa.Controllers/EditionsController/EditionsController(IEditionAppService)\", \"GES_GRT.Notifications/NotificationAppService/NotificationAppService(INotificationDefinitionManager,IUserNotificationManager,INotificationSubscriptionManager)\", \"GES_GRT.Web.Areas.Mpa.Controllers/NotificationsController/NotificationsController(INotificationAppService)\", \"GES_GRT.GRT.LineItems/LineItem/LineItem()\", \"GES_GRT.Web.Areas.Mpa.Controllers/OrganizationUnitsController/EditModal(Int64)\", \"GES_GRT.LineItems/LineItemAppService/EditLineItemAsync(LineItemInputDto)\", \"GES_GRT.Web.Controllers/LayoutController/LayoutController(ISessionAppService,IUserNavigationManager,IMultiTenancyConfig)\", \"GES_GRT.Employees/EmployeeAppService/EditEmployeeAsync(EmployeeInputDto)\", \"GES_GRT.Web.Bundling/AsIsBundleOrderer/OrderFiles(BundleContext,IEnumerable<BundleFile>)\", \"GES_GRT.Organizations/OrganizationUnitAppService/OrganizationUnitAppService(IRepository<Client>,OrganizationUnitManager,IRepository<OrganizationUnit,Int64>,IRepository<UserOrganizationUnit,Int64>)\", \"GES_GRT.GRT.Employees/Employee/Employee()\", \"GES_GRT.Util/ExcelUtilities/Create(String,Range[])\", \"GES_GRT.Util/LineItemUtilities/GetCalculatedValueForTaxationType(TaxationType,Double,Double,Double,Int32,Decimal,Decimal,Boolean)\", \"GES_GRT/GES_GRTCoreModule/Initialize()\", \"GES_GRT.IncomeComponents.Dto/IncomeComponentOutputDto/IncomeComponentOutputDto()\", \"GES_GRT.Web.Chat.SignalR/SignalRChatCommunicator/SendUserConnectionChangeToClients(IReadOnlyList<IOnlineClient>,UserIdentifier,Boolean)\", \"GES_GRT.IncomeComponents.Dto/IncomeComponentInputDto/IncomeComponentInputDto()\", \"GES_GRT.DataExporting.Excel.EpPlus/EpPlusExcelExporterBase/CreateExcelPackage(String,Action<ExcelPackage>)\", \"GES_GRT.IncomeComponents/IncomeComponentAppService/IncomeComponentAppService(IRepository<IncomeComponent>,IRepository<Country>,IRepository<GeneralComment>,IRepository<ClientIncomeComponent>)\", \"GES_GRT.Employees.Exporting/EmployeeListExcelExporter/SetCarSheet(ExcelPackage,List<EmployeeOutputDto>,Nullable<DateTime>,Nullable<DateTime>)\", \"GES_GRT.Web.MultiTenancy/SubdomainTenancyNameFinder/GetCurrentTenancyNameOrNull()\", \"GES_GRT/GES_GRTAppServiceBase/GetCurrentTenantAsync()\", \"GES_GRT.Employees.Exporting/EmployeeListExcelExporter/SetCommentsAndAlertsSheet(ExcelPackage,List<EmployeeOutputDto>,Nullable<DateTime>,Nullable<DateTime>)\", \"GES_GRT.WebApi.Controllers/ImportLineItemsController/ImportLineItemsController()\", \"GES_GRT.Friendships/FriendshipManager/CreateFriendship(Friendship)\", \"GES_GRT.Web.MultiTenancy/TenantIdAccessor/SetCurrentTenantId()\", \"GES_GRT.Clients/ClientAppService/CreateClientAsync(ClientInputDto)\", \"GES_GRT.WebApi.Controllers/ImportExchangeRatesController/ImportExchangeRatesController(IRepository<ExchangeRate>,IRepository<Currency>,IRepository<Period>,IUnitOfWorkManager)\", \"GES_GRT.Features/AppFeatureProvider/SetFeatures(IFeatureDefinitionContext)\", \"GES_GRT.Employees.Exporting/EmployeeListExcelExporter/SetLineItemSheet(ExcelPackage,List<EmployeeOutputDto>,Nullable<DateTime>,Nullable<DateTime>)\", \"GES_GRT/GES_GRTAppServiceBase/GetCurrentUserAsync()\", \"GES_GRT.ExchangeRates/ExchangeRateAppService/ImportExchangeRates(Int32)\", \"GES_GRT.WebApi.Controllers/ImportEmployeesController/ImportEmployeesController(IEmployeeRepository,IRepository<Client>,IUnitOfWorkManager,IRepository<Country>,IRepository<GeneralComment>,IRepository<Period>,IRepository<LineItem>,IRepository<ExchangeRate>,IRepository<ClientExchangeRate>)\", \"GES_GRT.Auditing/AuditLogAppService/CreateAuditLogAndUsersQuery(GetAuditLogsInput)\", \"GES_GRT.Notifications/AppNotificationProvider/SetNotifications(INotificationDefinitionContext)\", \"GES_GRT.MultiTenancy.Demo/TenantDemoDataBuilder/CreateAndSaveOrganizationUnit(List<OrganizationUnit>,Tenant,String,OrganizationUnit)\", \"GES_GRT.WebApi.Controllers/ImportIncomeComponentsController/ImportIncomeComponentsController()\", \"GES_GRT.Organizations/OrganizationUnitAppService/CreateOrganizationUnitDto(OrganizationUnit)\", \"GES_GRT.Friendships/FriendshipAppService/CreateFriendshipRequest(CreateFriendshipRequestInput)\", \"GES_GRT.GeneralComments/GeneralCommentAppService/CreateGeneralCommentAsync(GeneralCommentInputDto)\", \"GES_GRT.Friendships/ChatUserStateWatcher/Initialize()\", \"GES_GRT.Util/ImportUtilities/GetCellIntValue(Object[],Int32,Boolean)\", \"GES_GRT.Employees/EmployeeAppService/CreateOrUpdateEmployee(EmployeeInputDto)\", \"GES_GRT.Friendships.Cache/UserFriendsCache/ResetUnreadMessageCount(UserIdentifier,UserIdentifier)\", \"GES_GRT.Authorization.Roles/Role/Role()\", \"GES_GRT.Authorization.Roles/Role/Role(Nullable<Int32>,String)\", \"GES_GRT.ClientIncomeComponents/ClientIncomeComponentAppService/GetClientIncomeComponents(GetClientIncomeComponentsInput)\", \"GES_GRT.Web.Areas.Mpa.Controllers/RolesController/RolesController(IRoleAppService,IPermissionAppService)\", \"GES_GRT.Chat/ChatMessageManager/Save(ChatMessage)\", \"GES_GRT.Clients/ClientAppService/GetClients(GetClientsInput)\", \"GES_GRT.Friendships/FriendshipAppService/CreateFriendshipRequestByUserName(CreateFriendshipRequestByUserNameInput)\", \"GES_GRT.Web.Controllers/AccountController/SaveAccountSwitchTokenAndGetTargetUrl(Nullable<Int32>,Int64)\", \"GES_GRT.Web.Areas.Mpa.Controllers/LanguagesController/CreateOrEditModal(Nullable<Int32>)\", \"GES_GRT.Util/ExcelUtilities/GetColumnName(Int32)\", \"GES_GRT.Web.Areas.Mpa.Models.Languages/CreateOrEditLanguageModalViewModel/CreateOrEditLanguageModalViewModel(GetLanguageForEditOutput)\", \"GES_GRT.Web.Areas.Mpa.Models.Editions/CreateOrEditEditionModalViewModel/CreateOrEditEditionModalViewModel(GetEditionForEditOutput)\", \"GES_GRT.Util/ExcelUtilities/GetColumnName(String)\", \"GES_GRT.Util/LineItemUtilities/GetCompanyCarCorrectionClientIncomeComponent(Client)\", \"GES_GRT.Settings/CountryAppService/GetCountries()\", \"GES_GRT.Localization/LanguageAppService/GetCultureInfoByChecking(String)\", \"GES_GRT.Authorization.Users/UserEmailer/SendEmailActivationLinkAsync(User,String)\", \"GES_GRT.Web/Startup/CreateGoogleAuthOptions()\", \"GES_GRT.Util/ExcelUtilities/GetColumnIndex(String)\", \"GES_GRT.Util/ExcelUtilities/ParseCellValue(String,Nullable<CellValues>)\", \"GES_GRT.Web.Controllers/AboutController\", \"GES_GRT.Authorization/AbpLoginResultTypeHelper\", \"GES_GRT.Web.Controllers/AccountController\", \"GES_GRT.WebApi.Controllers/AccountController\", \"GES_GRT.WebApi.Helpers/ApiReflectionHelper\", \"GES_GRT.Authorization/AppAuthorizationProvider\", \"GES_GRT.Web.App.Startup/AppBundleConfig\", \"GES_GRT.Features/AppFeatureProvider\", \"GES_GRT.IO/AppFileHelper\", \"GES_GRT.Authorization.Ldap/AppLdapAuthenticationSource\", \"GES_GRT.Web.App.Startup/AppNavigationProvider\", \"GES_GRT.Notifications/AppNotificationProvider\", \"GES_GRT.Notifications/AppNotifier\", \"GES_GRT.Authorization.Roles/AppRoleConfig\", \"GES_GRT.Configuration/AppSettingProvider\", \"GES_GRT.Web.Controllers/ApplicationController\", \"GES_GRT.Web.Auth/ApplicationSignInManager\", \"GES_GRT.Web.Bundling/AsIsBundleOrderer\", \"GES_GRT.Runtime.Session/AspNetZeroAbpSession\", \"GES_GRT.Auditing/AuditLogAppService\", \"GES_GRT.Auditing.Exporting/AuditLogListExcelExporter\", \"GES_GRT.Web.Areas.Mpa.Controllers/AuditLogsController\", \"GES_GRT.Storage/BinaryObject\", \"GES_GRT.Web.Bundling/BundleExtensions\", \"GES_GRT.Caching/CachingAppService\", \"GES_GRT.Web.Controllers.Results/ChallengeResult\", \"GES_GRT.Chat/ChatAppService\", \"GES_GRT.Chat/ChatFeatureChecker\", \"GES_GRT.Web.Chat.SignalR/ChatHub\", \"GES_GRT.Chat/ChatMessage\", \"GES_GRT.Chat/ChatMessageManager\", \"GES_GRT.Friendships/ChatUserStateWatcher\", \"GES_GRT.GRT.Clients/Client\", \"GES_GRT.Clients/ClientAppService\", \"GES_GRT.ClientExchangeRates/ClientExchangeRateAppService\", \"GES_GRT.GRT.ClientIncomeComponents/ClientIncomeComponent\", \"GES_GRT.ClientIncomeComponents/ClientIncomeComponentAppService\", \"GES_GRT.ClientIncomeComponents.Dto/ClientIncomeComponentExportOutputDto\", \"GES_GRT.GRT.ClientIncomeComponentGroups/ClientIncomeComponentGroup\", \"GES_GRT.ClientIncomeComponentGroups/ClientIncomeComponentGroupAppService\", \"GES_GRT.ClientIncomeComponentGroups.Dto/ClientIncomeComponentGroupInputDto\", \"GES_GRT.ClientIncomeComponentGroups.Dto/ClientIncomeComponentGroupSimpleDto\", \"GES_GRT.ClientIncomeComponentGroups.Dto/ClientIncomeComponentGroupSuperSimpleDto\", \"GES_GRT.ClientIncomeComponents.Dto/ClientIncomeComponentInputDto\", \"GES_GRT.ClientIncomeComponents.Dto/ClientIncomeComponentOutputDto\", \"GES_GRT.Clients.Dto/ClientInputDto\", \"GES_GRT.Clients.Dto/ClientOutputDto\", \"GES_GRT.Web.Bundling/CommonBundleConfig\", \"GES_GRT.Web.Areas.Mpa.Controllers/CommonController\", \"GES_GRT.Common/CommonLookupAppService\", \"GES_GRT.Settings/CountryAppService\", \"GES_GRT.Web.Areas.Mpa.Models.Editions/CreateOrEditEditionModalViewModel\", \"GES_GRT.Web.Areas.Mpa.Models.Languages/CreateOrEditLanguageModalViewModel\", \"GES_GRT.Web.Areas.Mpa.Models.Roles/CreateOrEditRoleModalViewModel\", \"GES_GRT.Web.Areas.Mpa.Models.Users/CreateOrEditUserModalViewModel\", \"GES_GRT.Web.Areas.Mpa.Models.OrganizationUnits/CreateOrganizationUnitModalViewModel\", \"GES_GRT.Web.Areas.Mpa.Models.Tenants/CreateTenantViewModel\", \"GES_GRT.Web.Bundling/CssRewriteUrlWithVirtualDirectoryTransform\", \"GES_GRT.Currencies/CurrencyAppService\", \"GES_GRT/CustomDtoMapper\", \"GES_GRT.Web.Helpers/CustomMultipartFormDataStreamProvider\", \"GES_GRT.Web.Areas.Mpa.Controllers/DashboardController\", \"GES_GRT.Storage/DbBinaryObjectManager\", \"GES_GRT.Extensions/DecimalPrecision\", \"GES_GRT.Extensions/DynamicQueryableExtensions\", \"GES_GRT.Extensions/DynamicQueryableExtensions+SimpleTypeComparer\", \"GES_GRT.Web.Areas.Mpa.Models.Tenants/EditTenantViewModel\", \"GES_GRT.Editions/EditionAppService\", \"GES_GRT.Editions/EditionManager\", \"GES_GRT.Web.Areas.Mpa.Controllers/EditionsController\", \"GES_GRT.Emailing/EmailTemplateProvider\", \"GES_GRT.GRT.Employees/Employee\", \"GES_GRT.Employees/EmployeeAppService\", \"GES_GRT.Employees.Dto/EmployeeInputDto\", \"GES_GRT.Employees.Exporting/EmployeeListExcelExporter\", \"GES_GRT.Employees.Dto/EmployeeOutputDto\", \"GES_GRT.Extensions/Enum<T>\", \"GES_GRT.Extensions/EnumExtension\", \"GES_GRT.Util/EnumJsonConverter\", \"GES_GRT.DataExporting.Excel.EpPlus/EpPlusExcelExporterBase\", \"GES_GRT.Web.Controllers/ErrorController\", \"GES_GRT.Util/ExcelData\", \"GES_GRT.Util/ExcelUtilities\", \"GES_GRT.ExchangeRates/ExchangeRateAppService\", \"GES_GRT.Services/ExchangeRateService\", \"GES_GRT.Localization/FamFamFamFlagsHelper\", \"GES_GRT.Editions/FeatureValueStore\", \"GES_GRT.Web.Controllers/FileController\", \"GES_GRT.Dto/FileDto\", \"GES_GRT.Web.Areas.Mpa.Models.Layout/FooterViewModel\", \"GES_GRT.Friendships.Cache/FriendCacheItemExtensions\", \"GES_GRT.Friendships/Friendship\", \"GES_GRT.Friendships/FriendshipAppService\", \"GES_GRT.Friendships/FriendshipExtensions\", \"GES_GRT.Friendships/FriendshipManager\", \"GES_GRT.Web.Bundling/FrontEndBundleConfig\", \"GES_GRT.Web.Navigation/FrontEndNavigationProvider\", \"GES_GRT.Web.Controllers/GALoginController\", \"GES_GRT.WebApi/GES_GRTApiControllerBase\", \"GES_GRT/GES_GRTAppServiceBase\", \"GES_GRT/GES_GRTApplicationModule\", \"GES_GRT.Web.Controllers/GES_GRTControllerBase\", \"GES_GRT/GES_GRTCoreModule\", \"GES_GRT/GES_GRTDomainServiceBase\", \"GES_GRT/GES_GRTServiceBase\", \"GES_GRT.WebApi/GES_GRTWebApiModule\", \"GES_GRT.Web/GES_GRTWebModule\", \"GES_GRT.Web.Views/GES_GRTWebViewPageBase<TModel>\", \"GES_GRT.GeneralComments/GeneralCommentAppService\", \"GES_GRT.LineItems.Dto/GetAlertInput\", \"GES_GRT.Auditing.Dto/GetAuditLogsInput\", \"GES_GRT.ClientExchangeRates.Dto/GetClientExchangeRatesInput\", \"GES_GRT.ClientIncomeComponentGroups.Dto/GetClientIncomeComponentGroupsInput\", \"GES_GRT.ClientIncomeComponents.Dto/GetClientIncomeComponentsInput\", \"GES_GRT.Clients.Dto/GetClientsInput\", \"GES_GRT.LineItems.Dto/GetCommentInput\", \"GES_GRT.Employees.Dto/GetEmployeesInput\", \"GES_GRT.ExchangeRates.Dto/GetExchangeRatesInput\", \"GES_GRT.GeneralComments.Dto/GetGeneralCommentsInput\", \"GES_GRT.IncomeComponents.Dto/GetIncomeComponentsInput\", \"GES_GRT.Localization.Dto/GetLanguageForEditOutput\", \"GES_GRT.Localization/GetLanguageTextsInput\", \"GES_GRT.Localization.Dto/GetLanguagesOutput\", \"GES_GRT.LineItems.Dto/GetLineItemInput\", \"GES_GRT.Authorization.Users.Dto/GetLinkedUsersInput\", \"GES_GRT.Notifications.Dto/GetNotificationsOutput\", \"GES_GRT.Organizations.Dto/GetOrganizationUnitUsersInput\", \"GES_GRT.MultiTenancy.Dto/GetTenantsInput\", \"GES_GRT.Chat.Dto/GetUserChatFriendsWithSettingsOutput\", \"GES_GRT.Authorization.Users.Dto/GetUsersInput\", \"GES_GRT.Web.Areas.Mpa.Models.Layout/HeaderViewModel\", \"GES_GRT.Web.Models.Layout/HeaderViewModel\", \"GES_GRT.Web.Areas.Mpa.Controllers/HomeController\", \"GES_GRT.Web.Controllers/HomeController\", \"GES_GRT.Configuration.Host/HostSettingsAppService\", \"GES_GRT.Web.Areas.Mpa.Controllers/HostSettingsController\", \"GES_GRT.Authorization.Impersonation/ImpersonationCacheItem\", \"GES_GRT.Authorization.Impersonation/ImpersonationCacheManagerExtensions\", \"GES_GRT.WebApi.Controllers/ImportClientIncomeComponentsController\", \"GES_GRT.WebApi.Controllers/ImportEmployeesController\", \"GES_GRT.WebApi.Controllers/ImportExchangeRatesController\", \"GES_GRT.WebApi.Controllers/ImportIncomeComponentsController\", \"GES_GRT.WebApi.Controllers/ImportLineItemsController\", \"GES_GRT.Util/ImportUtilities\", \"GES_GRT.GRT.IncomeComponents/IncomeComponent\", \"GES_GRT.IncomeComponents/IncomeComponentAppService\", \"GES_GRT.IncomeComponents.Dto/IncomeComponentInputDto\", \"GES_GRT.IncomeComponents.Dto/IncomeComponentOutputDto\", \"GES_GRT.Localization/LanguageAppService\", \"GES_GRT.Web.Areas.Mpa.Controllers/LanguagesController\", \"GES_GRT.Web.Areas.Mpa.Controllers/LayoutController\", \"GES_GRT.Web.Controllers/LayoutController\", \"GES_GRT.GRT.LineItems/LineItem\", \"GES_GRT.LineItems/LineItemAppService\", \"GES_GRT.LineItems.Dto/LineItemOutputDto\", \"GES_GRT.LineItems.Dto/LineItemReconciliationOutputDto\", \"GES_GRT.Util/LineItemUtilities\", \"GES_GRT.Authorization.Users/LinkedUserDto\", \"GES_GRT.Web.Areas.Mpa.Controllers/MaintenanceController\", \"GES_GRT.Chat.Dto/MarkAllUnreadMessagesOfUserAsReadInput\", \"GES_GRT.Web.Areas.Mpa.Models.Common.Modals/ModalHeaderViewModel\", \"GES_GRT.Web.Areas.Mpa/MpaAreaRegistration\", \"GES_GRT.Web.Areas.Mpa.Startup/MpaBundleConfig\", \"GES_GRT.Web.Areas.Mpa.Startup/MpaNavigationProvider\", \"GES_GRT.Web/MvcApplication\", \"GES_GRT.Web.Areas.Mpa.Models.Profile/MySettingsViewModel\", \"GES_GRT.Auditing/NamespaceStripper\", \"GES_GRT.Notifications/NotificationAppService\", \"GES_GRT.Web.Areas.Mpa.Controllers/NotificationsController\", \"GES_GRT.Organizations/OrganizationUnitAppService\", \"GES_GRT.Web.Areas.Mpa.Controllers/OrganizationUnitsController\", \"GES_GRT.Dto/PagedAndFilteredInputDto\", \"GES_GRT.Dto/PagedAndSortedInputDto\", \"GES_GRT.Dto/PagedInputDto\", \"GES_GRT.Security/PasswordComplexityChecker\", \"GES_GRT.Periods/PeriodAppService\", \"GES_GRT.Authorization.Permissions/PermissionAppService\", \"GES_GRT.Authorization/PermissionChecker\", \"GES_GRT.Authorization.Permissions/PermissionManagerExtensions\", \"GES_GRT.Authorization.Users.Profile/ProfileAppService\", \"GES_GRT.Web.Areas.Mpa.Controllers/ProfileController\", \"GES_GRT.Web.Controllers/ProfileController\", \"GES_GRT.MultiTenancy.Demo/RandomUserGenerator\", \"GES_GRT.Util/Range\", \"GES_GRT.ReconciliationComments/ReconciliationCommentAppService\", \"GES_GRT.Web.Models.Account/RegisterViewModel\", \"GES_GRT.Authorization.Roles/Role\", \"GES_GRT.Authorization.Roles/RoleAppService\", \"GES_GRT.Authorization.Roles/RoleManager\", \"GES_GRT.Authorization.Roles/RoleStore\", \"GES_GRT.Web.Areas.Mpa.Controllers/RolesController\", \"GES_GRT.Web.Routing/RouteConfig\", \"GES_GRT.Web.Bundling/ScriptPaths\", \"GES_GRT.Sessions/SessionAppService\", \"GES_GRT.Web.Areas.Mpa.Controllers/SettingsController\", \"GES_GRT.Web.Chat.SignalR/SignalRChatCommunicator\", \"GES_GRT.Web/Startup\", \"GES_GRT.Web.MultiTenancy/SubdomainTenancyNameFinder\", \"GES_GRT.Authorization.Users/SwitchToLinkedAccountCacheItem\", \"GES_GRT.Authorization.Users/SwitchToLinkedAccountCacheManagerExtensions\", \"GES_GRT.Web.Models.Account/SwitchToLinkedAccountModel\", \"GES_GRT.Util/TableRange\", \"GES_GRT.WebApi.Controllers/TemplateFileController\", \"GES_GRT.MultiTenancy/Tenant\", \"GES_GRT.MultiTenancy/TenantAppService\", \"GES_GRT.Tenants.Dashboard/TenantDashboardAppService\", \"GES_GRT.MultiTenancy.Demo/TenantDemoDataBuilder\", \"GES_GRT.Web.Areas.Mpa.Models.Tenants/TenantFeaturesEditViewModel\", \"GES_GRT.Web.MultiTenancy/TenantIdAccessor\", \"GES_GRT.MultiTenancy/TenantManager\", \"GES_GRT.Web.Controllers/TenantRegistrationController\", \"GES_GRT.Configuration.Tenants/TenantSettingsAppService\", \"GES_GRT.Configuration.Tenants.Dto/TenantSettingsEditDto\", \"GES_GRT.Web.Areas.Mpa.Controllers/TenantsController\", \"GES_GRT.WebApi.Helpers/TextResult\", \"GES_GRT.Timing/TimeZoneService\", \"GES_GRT.Timing/TimingAppService\", \"GES_GRT.Web.Auth/TwitterEmailRetriever\", \"GES_GRT.Authorization.Users.Dto/UnlinkUserInput\", \"GES_GRT.WebApi.Controllers.Dto/UploadResultDto\", \"GES_GRT.Web.Views/UrlChecker\", \"GES_GRT.Authorization.Users/User\", \"GES_GRT.Authorization.Users/UserAppService\", \"GES_GRT.Authorization.Users/UserEmailer\", \"GES_GRT.Friendships.Cache/UserFriendCacheSyncronizer\", \"GES_GRT.Friendships.Cache/UserFriendsCache\", \"GES_GRT.Authorization.Users/UserLinkAppService\", \"GES_GRT.Authorization.Users/UserLinkManager\", \"GES_GRT.Authorization.Users.Exporting/UserListExcelExporter\", \"GES_GRT.Authorization.Users/UserLoginAppService\", \"GES_GRT.Authorization.Users/UserManager\", \"GES_GRT.Web.Areas.Mpa.Models.Users/UserPermissionsEditViewModel\", \"GES_GRT.Authorization.Users/UserStore\", \"GES_GRT.Web.Areas.Mpa.Controllers/UsersController\", \"GES_GRT.Validation/ValidationHelper\", \"GES_GRT.Logging/WebLogAppService\", \"GES_GRT.Web/WebUrlService\", \"GES_GRT.Web.Areas.Mpa.Controllers/WelcomeController\", \"GES_GRT\", \"GES_GRT.Auditing\", \"GES_GRT.Auditing.Dto\", \"GES_GRT.Auditing.Exporting\", \"GES_GRT.Authorization\", \"GES_GRT.Authorization.Impersonation\", \"GES_GRT.Authorization.Ldap\", \"GES_GRT.Authorization.Permissions\", \"GES_GRT.Authorization.Roles\", \"GES_GRT.Authorization.Users\", \"GES_GRT.Authorization.Users.Dto\", \"GES_GRT.Authorization.Users.Exporting\", \"GES_GRT.Authorization.Users.Profile\", \"GES_GRT.Caching\", \"GES_GRT.Chat\", \"GES_GRT.Chat.Dto\", \"GES_GRT.ClientExchangeRates\", \"GES_GRT.ClientExchangeRates.Dto\", \"GES_GRT.ClientIncomeComponentGroups\", \"GES_GRT.ClientIncomeComponentGroups.Dto\", \"GES_GRT.ClientIncomeComponents\", \"GES_GRT.ClientIncomeComponents.Dto\", \"GES_GRT.Clients\", \"GES_GRT.Clients.Dto\", \"GES_GRT.Common\", \"GES_GRT.Configuration\", \"GES_GRT.Configuration.Host\", \"GES_GRT.Configuration.Tenants\", \"GES_GRT.Configuration.Tenants.Dto\", \"GES_GRT.Currencies\", \"GES_GRT.DataExporting.Excel.EpPlus\", \"GES_GRT.Dto\", \"GES_GRT.Editions\", \"GES_GRT.Emailing\", \"GES_GRT.Employees\", \"GES_GRT.Employees.Dto\", \"GES_GRT.Employees.Exporting\", \"GES_GRT.ExchangeRates\", \"GES_GRT.ExchangeRates.Dto\", \"GES_GRT.Extensions\", \"GES_GRT.Features\", \"GES_GRT.Friendships\", \"GES_GRT.Friendships.Cache\", \"GES_GRT.GRT.ClientIncomeComponentGroups\", \"GES_GRT.GRT.ClientIncomeComponents\", \"GES_GRT.GRT.Clients\", \"GES_GRT.GRT.Employees\", \"GES_GRT.GRT.IncomeComponents\", \"GES_GRT.GRT.LineItems\", \"GES_GRT.GeneralComments\", \"GES_GRT.GeneralComments.Dto\", \"GES_GRT.IO\", \"GES_GRT.IncomeComponents\", \"GES_GRT.IncomeComponents.Dto\", \"GES_GRT.LineItems\", \"GES_GRT.LineItems.Dto\", \"GES_GRT.Localization\", \"GES_GRT.Localization.Dto\", \"GES_GRT.Logging\", \"GES_GRT.MultiTenancy\", \"GES_GRT.MultiTenancy.Demo\", \"GES_GRT.MultiTenancy.Dto\", \"GES_GRT.Notifications\", \"GES_GRT.Notifications.Dto\", \"GES_GRT.Organizations\", \"GES_GRT.Organizations.Dto\", \"GES_GRT.Periods\", \"GES_GRT.ReconciliationComments\", \"GES_GRT.Runtime.Session\", \"GES_GRT.Security\", \"GES_GRT.Services\", \"GES_GRT.Sessions\", \"GES_GRT.Settings\", \"GES_GRT.Storage\", \"GES_GRT.Tenants.Dashboard\", \"GES_GRT.Timing\", \"GES_GRT.Util\", \"GES_GRT.Validation\", \"GES_GRT.Web\", \"GES_GRT.Web.App.Startup\", \"GES_GRT.Web.Areas.Mpa\", \"GES_GRT.Web.Areas.Mpa.Controllers\", \"GES_GRT.Web.Areas.Mpa.Models.Common.Modals\", \"GES_GRT.Web.Areas.Mpa.Models.Editions\", \"GES_GRT.Web.Areas.Mpa.Models.Languages\", \"GES_GRT.Web.Areas.Mpa.Models.Layout\", \"GES_GRT.Web.Areas.Mpa.Models.OrganizationUnits\", \"GES_GRT.Web.Areas.Mpa.Models.Profile\", \"GES_GRT.Web.Areas.Mpa.Models.Roles\", \"GES_GRT.Web.Areas.Mpa.Models.Tenants\", \"GES_GRT.Web.Areas.Mpa.Models.Users\", \"GES_GRT.Web.Areas.Mpa.Startup\", \"GES_GRT.Web.Auth\", \"GES_GRT.Web.Bundling\", \"GES_GRT.Web.Chat.SignalR\", \"GES_GRT.Web.Controllers\", \"GES_GRT.Web.Controllers.Results\", \"GES_GRT.Web.Helpers\", \"GES_GRT.Web.Models.Account\", \"GES_GRT.Web.Models.Layout\", \"GES_GRT.Web.MultiTenancy\", \"GES_GRT.Web.Navigation\", \"GES_GRT.Web.Routing\", \"GES_GRT.Web.Views\", \"GES_GRT.WebApi\", \"GES_GRT.WebApi.Controllers\", \"GES_GRT.WebApi.Controllers.Dto\", \"GES_GRT.WebApi.Helpers\"], \"labels\": [\"EditModal(Int32)\", \"GetCurrencies()\", \"TemplateFileController(IAppFolders,IUnitOfWorkManager)\", \"RoleStore(IRepository<Role>,IRepository<UserRole,Int64>,IRepository<RolePermissionSetting,Int64>)\", \"Index()\", \"LineItemAppService(IRepository<LineItem>,IRepository<Client>,IRepository<Period>,IPermissionChecker,IUnitOfWorkManager,IRepository<Employee>,IRepository<Currency>,IRepository<ClientExchangeRate>,IRepository<ExchangeRate>,IRepository<ClientIncomeComponent>)\", \"ChangeWorkflowStep(LineItem,WorkflowStatus)\", \"CreateUserAsync(CreateOrUpdateUserInput)\", \"Index()\", \"GetCountryCode(String)\", \"ConfigureModelBuilder(DbModelBuilder)\", \"SaveExchangeRates(MultipartFormDataStreamProvider,Int32)\", \"Index()\", \"SetAllNotificationsAsRead()\", \"CustomDtoMapper()\", \"CustomMultipartFormDataStreamProvider(String)\", \"CanConvert(Type)\", \"ChangePictureModal()\", \"CalculateLineItem(LineItem,IRepository<ExchangeRate>,IRepository<ClientExchangeRate>,IRepository<Period>)\", \"CreateOrUpdateClientIncomeComponent(ClientIncomeComponentInputDto)\", \"RegisterArea(AreaRegistrationContext)\", \"GetCurrentUser()\", \"ImportExchangeRatesController()\", \"GetCurrentUserClientIds()\", \"GetCurrentUserProfileForEdit()\", \"CheckUserClientPermission(Int32)\", \"CheckTenantRegistrationIsEnabled()\", \"GetData(WorksheetPart,WorkbookPart,String,String,Dictionary<String,CellValues>,UInt32)\", \"NotifyUserConnectionStateChange(UserIdentifier,Boolean)\", \"GetCurrentTenant()\", \"GetDefaultTemplate()\", \"CheckIfPeriodHasExchangeRates(Int32)\", \"GetClientIncomeComponentGroups(GetClientIncomeComponentGroupsInput)\", \"IncreaseUnreadMessageCount(UserIdentifier,UserIdentifier,Int32)\", \"GetCurrentLoginInformations()\", \"CreateIncomeComponentAsync(IncomeComponentInputDto)\", \"HostSettingsController(IHostSettingsAppService,UserManager,IEditionAppService,ITimingAppService)\", \"GetDefaultProfilePicture()\", \"ImportIncomeComponentsController(IRepository<IncomeComponent>,IUnitOfWorkManager)\", \"Index()\", \"Normalize()\", \"AddPermission(Permission,IReadOnlyList<Permission>,List<FlatPermissionWithLevelDto>,Int32)\", \"ParseEmployeeRows(Client,Range[])\", \"ParseEmployeeFileData(Collection<MultipartFileData>,Int32)\", \"DistinctBy<TSource,TKey>(IEnumerable<TSource>,Func<TSource,TKey>)\", \"NotifyClientsOfChanges(IncomeComponent)\", \"DownloadWebLogs()\", \"Parse(String,Range[])\", \"DeleteRole(EntityRequestInput)\", \"Parse(String,Boolean)\", \"PagedAndFilteredInputDto()\", \"OrganizationUnitsController(IRepository<OrganizationUnit,Int64>)\", \"EditClientIncomeComponentGroupAsync(ClientIncomeComponentGroupInputDto)\", \"OrderBy<T>(IQueryable<T>,String,Object[])\", \"EditTenantViewModel(TenantEditDto,IReadOnlyList<ComboboxItemDto>)\", \"GetParamNames(MethodInfo)\", \"OnlineClientManager_UserConnected(Object,OnlineUserEventArgs)\", \"PagedInputDto()\", \"Index()\", \"DeleteOrganizationUnit(IdInput<Int64>)\", \"EditionAppService(EditionManager)\", \"GetImpersonationCache(ICacheManager)\", \"GetCompanyCarClientIncomeComponent(Client)\", \"GetComments(GetCommentInput)\", \"GetIndividualFlags<T>(T)\", \"GetLanguageForEdit(NullableIdInput)\", \"BanFriend(UserIdentifier,UserIdentifier)\", \"GetAllSettings()\", \"Normalize()\", \"ParseExchangeRateFileData(Collection<MultipartFileData>,Int32)\", \"Normalize()\", \"DeleteEmployee(EntityDto)\", \"Index()\", \"CreateLinkedUsersQuery(UserAccount,String)\", \"EmailActivation()\", \"Normalize()\", \"GetTenantIdOrDefault(String)\", \"EditionManager(IRepository<Edition>,IAbpZeroFeatureValueStore)\", \"DeleteEdition(EntityRequestInput)\", \"ImportLineItemsController(IRepository<LineItem>,IRepository<Client>,IUnitOfWorkManager,IRepository<Period>,IEmployeeRepository,IRepository<Currency>,IRepository<ClientIncomeComponent>,IRepository<ClientExchangeRate>,IRepository<ExchangeRate>,IRepository<SourceIndication>)\", \"LinkRelatedEntities(EmployeeInputDto,Employee)\", \"LanguagesController(ILanguageAppService,ILanguageManager,IApplicationLanguageTextManager)\", \"LinkRelatedEntities(ClientIncomeComponentInputDto,ClientIncomeComponent)\", \"LinkRelatedEntities(ClientIncomeComponentGroupInputDto,ClientIncomeComponentGroup)\", \"LinkRelatedEntities(ClientExchangeRateInputDto,ClientExchangeRate)\", \"LinkAccountModal()\", \"Link(User,User)\", \"LineItemUtilities()\", \"LineItemOutputDto()\", \"LayoutController(ISessionAppService,IUserNavigationManager,IMultiTenancyConfig)\", \"Languages()\", \"LanguageAppService(IApplicationLanguageManager,IApplicationLanguageTextManager,IRepository<ApplicationLanguage>)\", \"L(String)\", \"L(String)\", \"L(String)\", \"L(String)\", \"LinkRelatedEntities(ClientInputDto,Client)\", \"LinkRelatedEntities(GeneralCommentInputDto,GeneralComment)\", \"Login(String,String,String)\", \"LinkRelatedEntities(ReconciliationCommentInputDto,ReconciliationComment)\", \"Normalize()\", \"Normalize()\", \"Normalize()\", \"Normalize()\", \"Normalize()\", \"Normalize()\", \"Normalize()\", \"Normalize()\", \"Normalize()\", \"NewUserRegisteredAsync(User)\", \"NewTenantRegisteredAsync(Tenant)\", \"MySettingsViewModel(CurrentUserProfileEditDto)\", \"MoveOrganizationUnit(MoveOrganizationUnitInput)\", \"ModalHeaderViewModel(String)\", \"MaximizeOwnContributionCompanyCar(Int32)\", \"MarkCommentAsRead(Int32)\", \"MaintenanceController(ICachingAppService)\", \"LookupModal(LookupModalViewModel)\", \"Logout()\", \"LoginAttemptsModal()\", \"Login(LoginViewModel,String,String)\", \"LogAndThrowExchangeRateError(LineItem)\", \"LogAndThrowExchangeRateError(LineItem)\", \"LinkedAccountsModal()\", \"LinkToUser(LinkToUserInput)\", \"LinkRelatedEntities(IncomeComponentInputDto,IncomeComponent)\", \"L(String)\", \"AcceptFriendshipRequest(AcceptFriendshipRequestInput)\", \"IsUnique(ClientIncomeComponentInputDto)\", \"GetTimezoneComboboxItems(GetTimezoneComboboxItemsInput)\", \"GetTimezoneInfos(SettingScopes)\", \"GetUnreadMessageCount(UserIdentifier,UserIdentifier)\", \"GetUserAccountAsync(UserIdentifier)\", \"GetUserAsync(UserIdentifier)\", \"GetUserByChecking(String)\", \"GetUserChatFriendsWithSettings()\", \"GetUserChatFriendsWithSettingsOutput()\", \"GetUserChatMessages(GetUserChatMessagesInput)\", \"GetUserForEdit(NullableIdInput<Int64>)\", \"GetUserFriendsCacheItemInternal(UserIdentifier)\", \"GetUserNotifications(GetUserNotificationsInput)\", \"GetUserPermissionsForEdit(IdInput<Int64>)\", \"GetUsers(GetUsersInput)\", \"GetUsersToExcel()\", \"GetValue<T>(String)\", \"GetValueFromDescription<T>(String)\", \"GetTextAfterLastDot(String)\", \"GetWorksheet(WorkbookPart,String)\", \"GetTenants(GetTenantsInput)\", \"GetTenantFeaturesForEdit(EntityRequestInput)\", \"GetProfilePictureById(Guid)\", \"GetRandomProfilePictureBytes()\", \"GetRandomUsers(Int32,Int32)\", \"GetRecentUserLoginAttempts()\", \"GetRecentlyUsedLinkedUsers()\", \"GetReconciliationComments(GetReconciliationCommentsInput)\", \"GetRoleForEdit(NullableIdInput)\", \"GetRoles(GetRolesInput)\", \"GetScripts()\", \"GetSettingDefinitions(SettingDefinitionProviderContext)\", \"GetShortNames(Enum,String)\", \"GetShownLoginName()\", \"GetShownLoginName()\", \"GetShownLoginName(Boolean)\", \"GetSignalRClientOrNull(IOnlineClient)\", \"GetSiteRootAddress(String)\", \"GetSourceIndications(Int32)\", \"GetTenantForEdit(EntityRequestInput)\", \"IsUpload(MethodInfo)\", \"GiveClientRights(Int32,Int64)\", \"HandleEvent(EntityCreatedEventData<Friendship>)\", \"Index()\", \"Index()\", \"Index()\", \"Index()\", \"Index()\", \"Index(String)\", \"Initialize()\", \"Initialize()\", \"Initialize()\", \"InsertCellInWorksheet(UInt32,Int32,WorksheetPart)\", \"IsDownload(MethodInfo)\", \"IsImpersonatedLogin()\", \"IsInOrganizationUnit(UserToOrganizationUnitInput)\", \"IsNullableType(Type)\", \"IsRooted(String)\", \"IsSelfRegistrationEnabled()\", \"IsUnique(ClientIncomeComponentGroupInputDto)\", \"Index()\", \"HandleEvent(EntityCreatedEventData<ChatMessage>)\", \"Index()\", \"Index()\", \"HandleEvent(EntityDeletedEventData<Friendship>)\", \"HandleEvent(EntityUpdatedEventData<Friendship>)\", \"HandleReceiverToSender(UserIdentifier,UserIdentifier,String)\", \"HandleSenderToReceiver(UserIdentifier,UserIdentifier,String)\", \"HandleSenderUserInfoChange(UserIdentifier,UserIdentifier,String,String,Nullable<Guid>)\", \"Header()\", \"Header(String)\", \"HostSettingsAppService(IEmailSender,EditionManager,ITimeZoneService,ISettingDefinitionManager)\", \"ImpersonateSignIn(String)\", \"ImpersonationCacheItem()\", \"ImpersonationCacheItem(Nullable<Int32>,Int64,Boolean)\", \"ImportClientIncomeComponentsController()\", \"ImportClientIncomeComponentsController(IRepository<Client>,IRepository<LineItem>,IRepository<IncomeComponent>,IRepository<ClientIncomeComponent>,IRepository<ClientIncomeComponentGroup>,IRepository<Country>,IUnitOfWorkManager)\", \"ImportEmployeesController()\", \"IncomeComponent()\", \"Index()\", \"Index()\", \"Index()\", \"Index()\", \"ParseExchangeRateRows(Period,Range[])\", \"OnlineClientManager_UserDisconnected(Object,OnlineUserEventArgs)\", \"ToUserIdentifier(Friendship)\", \"TryExtractNameAndSurnameFromClaims(List<Claim>,String&,String&)\", \"TryParse(String,T&,Boolean)\", \"TryToSendChatMessageMail(User,String,String,ChatMessage)\", \"UnblockUser(UnblockUserInput)\", \"Unlink(UserIdentifier)\", \"UnlinkUser(UnlinkUserInput)\", \"UpdateAllSettings(HostSettingsEditDto)\", \"UpdateAllSettings(TenantSettingsEditDto)\", \"UpdateCarLineItem(Employee,EmployeeCar,LineItem)\", \"UpdateCurrentUserProfile(CurrentUserProfileEditDto)\", \"UpdateEditionAsync(CreateOrUpdateEditionDto)\", \"UpdateExistingClientIncomeComponent(ClientIncomeComponent,ClientIncomeComponent)\", \"UpdateExistingIncomeComponent(IncomeComponent,IncomeComponent)\", \"UpdateExistingLineItem(LineItem,LineItem)\", \"UpdateFriend(UserIdentifier,FriendCacheItem)\", \"UpdateFriendship(Friendship)\", \"ToUserIdentifier()\", \"ToUserIdentifier()\", \"ToUserIdentifier()\", \"ToJsonObject(Func<String,String>)\", \"StripNameSpace(String)\", \"SwitchToLinkedAccount(SwitchToLinkedAccountModel)\", \"SwitchToLinkedAccountCacheItem()\", \"SwitchToLinkedAccountCacheItem(Nullable<Int32>,Int64,Nullable<Int32>,Nullable<Int64>)\", \"TableRange()\", \"Tenant()\", \"Tenant(String,String)\", \"TenantAppService(TenantManager)\", \"UpdateGrantedPermissionsAsync(Role,List<String>)\", \"TenantDemoDataBuilder(OrganizationUnitManager,UserManager,RandomUserGenerator,IBinaryObjectManager,IAppFolders,IFriendshipManager,IChatMessageManager,IRepository<ChatMessage,Int64>)\", \"TenantManager(IRepository<Tenant>,IRepository<TenantFeatureSetting,Int64>,EditionManager,IUnitOfWorkManager,RoleManager,IUserEmailer,TenantDemoDataBuilder,UserManager,INotificationSubscriptionManager,IAppNotifier,IAbpZeroFeatureValueStore,IAbpZeroDbMigrator,ITenantCache)\", \"Texts(String,String,String,String,String)\", \"TimeZoneService(ISettingManager,ISettingDefinitionManager)\", \"TimingAppService(ITimeZoneService)\", \"ToFileFromUri(Uri)\", \"ToFriendIdentifier(Friendship)\", \"ToJson()\", \"ToJson(Enum,Func<String,String>)\", \"TenantFeaturesEditViewModel(Tenant,GetTenantFeaturesForEditOutput)\", \"StripGenericNamespace(String)\", \"UpdateLanguageAsync(CreateOrUpdateLanguageInput)\", \"UpdateNotificationSettings(UpdateNotificationSettingsInput)\", \"UserFriendsCache(ICacheManager,IRepository<Friendship,Int64>,IRepository<ChatMessage,Int64>,ITenantCache,UserManager,IUnitOfWorkManager)\", \"UserLinkAppService(AbpLoginResultTypeHelper,IUserLinkManager,IRepository<Tenant>,IRepository<UserAccount,Int64>)\", \"UserLinkManager(IRepository<UserAccount,Int64>)\", \"UserListExcelExporter(ITimeZoneConverter,IAbpSession)\", \"UserLoginAppService(IRepository<UserLoginAttempt,Int64>)\", \"UserManager(UserStore,RoleManager,IRepository<Tenant>,IMultiTenancyConfig,IPermissionManager,IUnitOfWorkManager,ISettingManager,IUserManagementConfig,IIocResolver,ICacheManager,IRepository<OrganizationUnit,Int64>,IRepository<UserOrganizationUnit,Int64>,IOrganizationUnitSettings,IRepository<UserLoginAttempt,Int64>)\", \"UserPermissionsEditViewModel(GetUserPermissionsForEditOutput,User)\", \"UserStore(IRepository<User,Int64>,IRepository<UserLogin,Int64>,IRepository<UserRole,Int64>,IRepository<Role>,IRepository<UserPermissionSetting,Int64>,IUnitOfWorkManager)\", \"UsersController(IUserAppService,UserManager,IUserLoginAppService,IRoleAppService,IPermissionAppService)\", \"Validate(ValidationContext)\", \"ValidateElfProef(Int32)\", \"ValidateHostSettings()\", \"WebLogAppService(IAppFolders)\", \"WebUrlService(ISettingManager)\", \"WelcomeToTheApplicationAsync(User)\", \"WriteJson(JsonWriter,Object,JsonSerializer)\", \"Yield<T>(T)\", \"UserFriendCacheSyncronizer(IUserFriendsCache)\", \"UserEmailer(IEmailTemplateProvider,IEmailSender,IWebUrlService,IRepository<Tenant>,ICurrentUnitOfWorkProvider)\", \"UserAppService(RoleManager,IUserEmailer,IUserListExcelExporter,INotificationSubscriptionManager,IAppNotifier,IRepository<RolePermissionSetting,Int64>,IRepository<UserPermissionSetting,Int64>,IRepository<Client>,IRepository<UserRole,Int64>)\", \"UseCaptchaOnRegistration()\", \"UpdateOrganizationUnit(UpdateOrganizationUnitInput)\", \"UpdateProfilePicture(UpdateProfilePictureInput)\", \"UpdateRoleAsync(CreateOrUpdateRoleInput)\", \"UpdateStatus(WorkflowStatus)\", \"UpdateTenant(TenantEditDto)\", \"UpdateTenantFeatures(UpdateTenantFeaturesInput)\", \"UpdateUserAsync(CreateOrUpdateUserInput)\", \"UpdateUserPermissions(UpdateUserPermissionsInput)\", \"UpdateLanguageText(UpdateLanguageTextInput)\", \"UploadClientIncomeComponents()\", \"UploadExchangeRates()\", \"UploadIncomeComponents()\", \"UploadLineItems()\", \"UploadProfilePicture()\", \"UploadResultDto()\", \"UploadTemplateFile()\", \"UrlChecker()\", \"UseCaptchaOnRegistration()\", \"UploadEmployees()\", \"SignalRChatCommunicator()\", \"SignInAsync(User,ClaimsIdentity,Boolean)\", \"SignInAsync(User,ClaimsIdentity,Boolean)\", \"ReadLines(String)\", \"RecalculateLineItems(RecalculateLineItemsInputDto)\", \"RecalculateLineItemsByPopup(RecalculateLineItemsByPopupInputDto)\", \"ReconciliationCommentAppService(IRepository<Employee>,IRepository<Client>,IRepository<Period>,IRepository<ReconciliationComment>)\", \"Register()\", \"Register(TenantRegistrationViewModel)\", \"RegisterBundles(BundleCollection)\", \"RegisterBundles(BundleCollection)\", \"RegisterBundles(BundleCollection)\", \"RegisterBundles(BundleCollection)\", \"RegisterRoutes(RouteCollection)\", \"RegisterView(ExternalLoginInfo,String)\", \"RegisterView(RegisterViewModel)\", \"RemoveFriend(UserIdentifier,FriendCacheItem)\", \"RemoveUserFromOrganizationUnit(UserToOrganizationUnitInput)\", \"ResetPassword(ResetPasswordFormViewModel)\", \"ResetPassword(ResetPasswordViewModel)\", \"ReadJson(JsonReader,Type,Object,JsonSerializer)\", \"Range()\", \"RandomUserGenerator()\", \"ProfileController(UserManager,IBinaryObjectManager,IAppFolders,IFriendshipManager)\", \"ParseCarRows(Client,Range[])\", \"GetPeriods(Int32)\", \"ParseIncomeComponentFileData(Collection<MultipartFileData>)\", \"ParseIncomeComponentRows(Range[])\", \"ParseLineItemFileData(Collection<MultipartFileData>,Int32)\", \"ParseLineItemRows(Client,Range[])\", \"ParseWorkdayRows(Client,Range[])\", \"PeriodAppService(IRepository<Period>,IRepository<Client>)\", \"ResetTenantSpecificFeatures(EntityRequestInput)\", \"PermissionChecker(UserManager)\", \"PostInitialize()\", \"PreInitialize()\", \"PreInitialize()\", \"PreInitialize()\", \"PreInitialize()\", \"Process(String,String)\", \"ProfileAppService(IAppFolders,IBinaryObjectManager,ITimeZoneService)\", \"ProfileController(IProfileAppService,ITimingAppService)\", \"PermissionsModal(Int64)\", \"ResetUserSpecificPermissions(IdInput<Int64>)\", \"RestoreUserLanguage()\", \"Role(Nullable<Int32>,String,String)\", \"SetClientIncomeComponentSheet(ExcelPackage,List<EmployeeOutputDto>)\", \"SetColumnType(String,CellValues)\", \"SetContractTypeAmounts(LineItem,Decimal)\", \"SetDefaultLanguage(SetDefaultLanguageInput)\", \"SetEmployeeCars(EmployeeInputDto,Employee)\", \"SetEmployeeSheet(ExcelPackage,List<EmployeeOutputDto>)\", \"SetFeatureValues(Edition,List<NameValueDto>)\", \"SetNavigation(INavigationProviderContext)\", \"SetAllStatusesTo(Int32,Int32,Int32)\", \"SetNavigation(INavigationProviderContext)\", \"SetNotificationAsRead(IdInput<Guid>)\", \"SetPermissions(IPermissionDefinitionContext)\", \"SetSingleStatusTo(Int32,Int32)\", \"SetTentantId()\", \"SetWorkdayAllocations(EmployeeInputDto,Employee)\", \"SetWorkdaysSheet(ExcelPackage,List<EmployeeOutputDto>,Nullable<DateTime>,Nullable<DateTime>)\", \"SettingsController(ITenantSettingsAppService,IMultiTenancyConfig,ITimingAppService)\", \"SettingsModal()\", \"SetNavigation(INavigationProviderContext)\", \"OnMappingChanged(ClientIncomeComponent,IRepository<LineItem>)\", \"Session_Start(Object,EventArgs)\", \"SendPasswordResetLinkAsync(User)\", \"RoleAppService(RoleManager)\", \"RoleManager(RoleStore,IPermissionManager,IRoleManagementConfig,ICacheManager,IUnitOfWorkManager)\", \"Save(ExcelPackage,FileDto)\", \"SaveAsync(BinaryObject)\", \"SaveClientIncomeComponents(MultipartFormDataStreamProvider,Int32)\", \"SaveEmployees(MultipartFormDataStreamProvider,Int32)\", \"SaveFile(MultipartFormDataStreamProvider)\", \"SaveImpersonationTokenAndGetTargetUrl(Nullable<Int32>,Int64,Boolean)\", \"SendTestEmail(SendTestEmailInput)\", \"SaveIncomeComponents(MultipartFormDataStreamProvider)\", \"SendAllUnreadMessagesOfUserReadToClients(IReadOnlyList<IOnlineClient>,UserIdentifier)\", \"SendEmailActivationLink(SendEmailActivationLinkViewModel)\", \"SendFriendshipRequestToClient(IReadOnlyList<IOnlineClient>,Friendship,Boolean,Boolean)\", \"SendMessage(SendChatMessageInput)\", \"SendMessage(UserIdentifier,UserIdentifier,String,String,String,Nullable<Guid>)\", \"SendMessageAsync(UserIdentifier,String,NotificationSeverity)\", \"SendMessageToClient(IReadOnlyList<IOnlineClient>,ChatMessage)\", \"SendPasswordResetLink(SendPasswordResetLinkViewModel)\", \"SaveLineItems(MultipartFormDataStreamProvider,Int32)\", \"GetPeriodOverview()\", \"GetShortName(Enum)\", \"GetPayCycleDenominator(LineItem)\", \"CreateOrUpdateGeneralComment(GeneralCommentInputDto)\", \"CreateOrUpdateIncomeComponent(IncomeComponentInputDto)\", \"CreateOrUpdateLanguage(CreateOrUpdateLanguageInput)\", \"CreateOrUpdateLineItem(LineItemInputDto)\", \"CreateOrUpdateRole(CreateOrUpdateRoleInput)\", \"CreateOrUpdateUser(CreateOrUpdateUserInput)\", \"CreateOrganizationUnit(CreateOrganizationUnitInput)\", \"CreateOrUpdateEdition(CreateOrUpdateEditionDto)\", \"CreateOrganizationUnitModalViewModel(Nullable<Int64>)\", \"CreateReconciliationComment(ReconciliationCommentInputDto)\", \"CreateRoleAsync(CreateOrUpdateRoleInput)\", \"CreateRow(Object[],Nullable<CellValues>[],UInt32,Int32,Int32,WorksheetPart)\", \"CreateStatutoryDirectorComment(String,String,Employee)\", \"CreateTenant(CreateTenantInput)\", \"CreateTenantAdminUser(Int32,String,String)\", \"CreateTenantViewModel(IReadOnlyList<ComboboxItemDto>)\", \"CreateRandomPassword()\", \"CreateTwitterAuthOptions()\", \"CreateOrUpdateClientIncomeComponentGroup(ClientIncomeComponentGroupInputDto)\", \"CreateOrUpdateClient(ClientInputDto)\", \"CreateEditionAsync(CreateOrUpdateEditionDto)\", \"CreateEmployeeAsync(EmployeeInputDto)\", \"CreateExceptionForFailedLoginAttempt(AbpLoginResultType,String,String)\", \"CreateFacebookAuthOptions()\", \"CreateLanguageAsync(CreateOrUpdateLanguageInput)\", \"CreateLineItemAsync(LineItemInputDto)\", \"CreateMappings(IMapperConfigurationExpression)\", \"CreateOrUpdateClientExchangeRate(ClientExchangeRateInputDto)\", \"CreateMappingsInternal(IMapperConfigurationExpression)\", \"CreateModal(Nullable<Int64>)\", \"CreateMultipleClientIncomeComponents(List<Int32>,Int32)\", \"CreateOrEditModal(Nullable<Int32>)\", \"CreateOrEditModal(Nullable<Int32>)\", \"CreateOrEditModal(Nullable<Int64>)\", \"CreateOrEditRoleModalViewModel(GetRoleForEditOutput)\", \"CreateOrEditUserModalViewModel(GetUserForEditOutput)\", \"CreateModal()\", \"CreateUser(Nullable<Int32>,String)\", \"CreateWithAdminUserAsync(String,String,String,String,String,Boolean,Nullable<Int32>,Boolean,Boolean)\", \"CreateXlsmExcelPackageFromTemplateFile(FileInfo,Action<ExcelPackage>)\", \"EmployeeListExcelExporter(IRepository<LineItem>,IRepository<ClientIncomeComponent>,IRepository<GeneralComment>,IRepository<Employee>,IAppFolders)\", \"EmployeeOutputDto()\", \"EnumJsonConverter()\", \"Equals(Type,Type)\", \"ExcelData()\", \"ExchangeRateAppService(IRepository<ExchangeRate>,IRepository<Currency>,IRepository<Period>)\", \"ExecuteAsync(CancellationToken)\", \"EmployeeInputDto()\", \"ExecuteResult(ControllerContext)\", \"ExportToFile(List<UserListDto>)\", \"ExportToXlsmFile(List<EmployeeOutputDto>,Nullable<DateTime>,Nullable<DateTime>,User)\", \"ExternalLogin(String,String)\", \"ExternalLoginCallback(String,String)\", \"FamFamFamFlagsHelper()\", \"FeaturesModal(Int32)\", \"FileController(IAppFolders)\", \"ExportToFile(List<AuditLogListDto>)\", \"EmployeeAppService(IRepository<Employee>,IRepository<Country>,IRepository<Client>,IRepository<EmployeeCar>,IRepository<Period>,IEmployeeListExcelExporter,IRepository<ExchangeRate>,IRepository<ClientExchangeRate>,IRepository<LineItem>,IRepository<IncomeComponent>,IRepository<ClientIncomeComponent>,IRepository<GeneralComment>)\", \"EmailConfirmation(EmailConfirmationViewModel)\", \"EditTextModal(String,String,String,String)\", \"CssRewriteUrlWithVirtualDirectoryTransform()\", \"DbBinaryObjectManager(IRepository<BinaryObject,Guid>)\", \"DecimalPrecision(Byte,Byte)\", \"DeleteAsync(Guid)\", \"DeleteClient(EntityDto)\", \"DeleteClientExchangeRate(EntityDto)\", \"DeleteClientIncomeComponent(EntityDto)\", \"DeleteClientIncomeComponentFromGroup(ClientIncomeComponentGroup,Int32)\", \"DeleteClientIncomeComponentGroup(EntityDto)\", \"DeleteGeneralComment(EntityDto)\", \"DeleteIncomeComponent(EntityDto)\", \"DeleteLineItem(EntityDto)\", \"DeleteLineItemsByPeriod(DeletePeriodLineItemsDto)\", \"GetPayLocations(Int32)\", \"EditClientExchangeRateAsync(ClientExchangeRateInputDto)\", \"EditGeneralComment(GeneralCommentInputDto)\", \"EditIncomeComponentAsync(IncomeComponentInputDto)\", \"CreateCompanyCarLineItems(Int32)\", \"FileDto()\", \"CreateClientIncomeComponentGroupAsync(ClientIncomeComponentGroupInputDto)\", \"CreateClientExchangeRateAsync(ClientExchangeRateInputDto)\", \"ApplicationSignInManager(UserManager,IAuthenticationManager)\", \"Application_AuthenticateRequest(Object,EventArgs)\", \"Application_Start(Object,EventArgs)\", \"AreUsersLinked(UserIdentifier,UserIdentifier)\", \"AspNetZeroAbpSession(IMultiTenancyConfig)\", \"AuditLogAppService(IRepository<AuditLog,Int64>,IRepository<User,Int64>,IAuditLogListExcelExporter,INamespaceStripper)\", \"Authenticate(LoginModel)\", \"AppNotifier(INotificationPublisher)\", \"AutoGenerateEmployeeId(EmployeeInputDto)\", \"BinaryObject(Nullable<Int32>,Byte[])\", \"BlockUser(BlockUserInput)\", \"BulkDeleteEmployees(List<Int32>)\", \"CanSaveClient(Int32,String)\", \"CanSaveIncomeComponentWithLabelAndStartDate(Int32,String,DateTime)\", \"ChallengeResult(String,String)\", \"ChallengeResult(String,String,String)\", \"BackToImpersonator()\", \"ChangePassword(ChangePasswordInput)\", \"AppLdapAuthenticationSource(ILdapSettings,IAbpZeroLdapModuleConfig)\", \"AppAuthorizationProvider(Boolean)\", \"AcceptFriendshipRequest(UserIdentifier,UserIdentifier)\", \"AccountController()\", \"AccountController(UserManager,AbpLoginResultTypeHelper)\", \"AccountController(UserManager,IMultiTenancyConfig,IUserEmailer,RoleManager,TenantManager,IUnitOfWorkManager,ITenancyNameFinder,ICacheManager,IAppNotifier,IWebUrlService,AbpLoginResultTypeHelper,IUserLinkManager,INotificationSubscriptionManager)\", \"AddAppCssLibs(BundleCollection,Boolean)\", \"AddAppMetrinicCss(BundleCollection,Boolean)\", \"AddAppMetronicCss(BundleCollection,Boolean)\", \"AppAuthorizationProvider(IMultiTenancyConfig)\", \"AddFriend(UserIdentifier,FriendCacheItem)\", \"AddFrontendCssMetronic(BundleCollection,Boolean)\", \"AddHeader(ExcelWorksheet,Int32,String)\", \"AddHeader(ExcelWorksheet,String[])\", \"AddManualValueForLineItem(AddManualValueLineItemDto)\", \"AddMpaCssLibs(BundleCollection,Boolean)\", \"AddObjects<T>(ExcelWorksheet,Int32,IList<T>,Func<T,Object>[])\", \"AddUserToOrganizationUnit(UserToOrganizationUnitInput)\", \"AddFrontendCssLibs(BundleCollection,Boolean)\", \"ChangePasswordModal()\", \"ChangeProfilePicture()\", \"ChatHub(IChatMessageManager,ILocalizationManager)\", \"ClientIncomeComponentOutputDto()\", \"ClientInputDto()\", \"ClientOutputDto()\", \"CommonLookupAppService(EditionManager,IRepository<Client>)\", \"CompareColumn(String,String)\", \"Configuration(IAppBuilder)\", \"Configure(IRoleManagementConfig)\", \"ClientIncomeComponentInputDto()\", \"ConfigureOData()\", \"ContainsFriend(List<FriendCacheItem>,FriendCacheItem)\", \"ConvertToAuditLogListDtos(List<AuditLogAndUser>)\", \"CountryAppService(IRepository<Country>)\", \"CreateCarLineItemForPeriod(Employee,ClientIncomeComponent,EmployeeCar,Period,Currency,LineItem)\", \"CreateCell(Object,Nullable<CellValues>,UInt32,Int32,WorksheetPart)\", \"CreateCellRanges(String,String)\", \"CreateClaimsIdentity(User,String)\", \"ConfigureSwaggerUi()\", \"ClientIncomeComponentGroupSuperSimpleDto()\", \"ClientIncomeComponentGroupSimpleDto()\", \"ClientIncomeComponentGroupInputDto()\", \"ChatMessage(UserIdentifier,UserIdentifier,ChatSide,String,ChatMessageReadState)\", \"ChatUserStateWatcher(IChatCommunicator,IUserFriendsCache,IOnlineClientManager)\", \"CheckChatFeatures(Nullable<Int32>,Nullable<Int32>)\", \"CheckChatFeaturesInternal(Nullable<Int32>,Nullable<Int32>,ChatSide)\", \"CheckErrors(IdentityResult)\", \"CheckErrors(IdentityResult)\", \"CheckErrors(IdentityResult)\", \"CheckLanguageIfAlreadyExists(String,Nullable<Int32>)\", \"CheckLineItemsForRecalculation(RecalculateCheckInputDto)\", \"CheckPasswordComplexity(String)\", \"CheckSelfRegistrationIsEnabled()\", \"ClearAllCaches()\", \"Client()\", \"ClientAppService(IRepository<Client>,IRepository<Country>,IRepository<PayLocation>,IRepository<SourceIndication>)\", \"ClientExchangeRateAppService(IRepository<ClientExchangeRate>,IRepository<Client>,IRepository<Currency>,IRepository<Period>)\", \"ClientIncomeComponent()\", \"ClientIncomeComponentExportOutputDto()\", \"CreateClientIncomeComponentAsync(ClientIncomeComponentInputDto)\", \"FileDto(String,String)\", \"hasPermission(User,Client)\", \"FindClients(FindClientsInput)\", \"GetHttpMethod(MethodInfo)\", \"GetClientExchangeRates(GetClientExchangeRatesInput)\", \"GetClientExchangeRateForEdit(NullableIdInput<Int32>)\", \"GetIncomeComponentForEdit(NullableIdInput<Int32>)\", \"GetCellValue(Object[],Int32,Boolean)\", \"GetCellStringValue(Object[],Int32,Boolean)\", \"GetCellName(Int32,UInt32)\", \"GetIncomeComponents(GetIncomeComponentsInput)\", \"GetCellDecimalValue(Object[],Int32,Boolean)\", \"GetCellDateTimeValue(Object[],Int32,Boolean)\", \"GetCellBooleanValue(Object[],Int32,Boolean)\", \"GetClientForEdit(NullableIdInput<Int32>)\", \"GetCacheItemOrNull(UserIdentifier)\", \"GetAuditLogs(GetAuditLogsInput)\", \"GetApiControllers()\", \"GetLanguageTexts(GetLanguageTextsInput)\", \"GetAllSettings()\", \"GetLanguagesOutput(IReadOnlyList<ApplicationLanguageListDto>,String)\", \"GetAllPermissions()\", \"GetAllEmployees(Int32)\", \"GetLatestWebLogs()\", \"GetLineItemForEdit(NullableIdInput<Int32>)\", \"GetAllCaches()\", \"GetAlerts(GetAlertInput)\", \"GetCacheItem(UserIdentifier)\", \"GetClientIncomeComponentForEdit(NullableIdInput<Int32>)\", \"GetClientIncomeComponentGroupForEdit(NullableIdInput<Int32>)\", \"GetHashCode(Type)\", \"GetDefaultTimezoneAsync(SettingScopes,Nullable<Int32>)\", \"GetDefaultValue(Type)\", \"GetDescription(Enum)\", \"GetDescriptions(Enum,String)\", \"GetEditionComboboxItems(Nullable<Int32>)\", \"GetEditionForEdit(NullableIdInput)\", \"GetEditions()\", \"GetEmployeeForEdit(NullableIdInput<Int32>)\", \"GetCurrentTenantIdOrNull(Boolean)\", \"GetEmployeeWithCars(NullableIdInput<Int32>)\", \"GetEmployees(GetEmployeesInput)\", \"GetEmployeesToExcel(GetExportEmployeesInput)\", \"GetExchangeRates(GetExchangeRatesInput)\", \"GetFiscalAdditionPercentage(TaxationType,Boolean)\", \"FillRoleNames(List<UserListDto>)\", \"GetCurrentSiteRootAddress()\", \"GetCurrencyListFromWeb(DateTime&)\", \"GetFlagValues<T>()\", \"GetFlags<T>(T)\", \"GetFlags<T>(T,T[])\", \"GetConventionalServiceName(Type)\", \"GetFriendProfilePictureById(Int64,Nullable<Int32>,String)\", \"GetFriendshipOrNull(UserIdentifier,UserIdentifier)\", \"GetGeneralCommentForEdit(NullableIdInput<Int32>)\", \"GetGeneralComments(GetGeneralCommentsInput)\", \"GetActiveTenantAsync(String)\", \"Get(String,String,String,String)\", \"GetAuditLogsToExcel(GetAuditLogsInput)\", \"GenerateUsername(String)\", \"GetLocalizationFileForjQueryValidationOrNull(String)\", \"GetLoginResultAsync(String,String,String)\", \"GetLoginResultAsync(String,String,String)\", \"GetLoginResultAsync(String,String,String)\", \"GetMemberActivity()\", \"GES_GRTWebViewPageBase()\", \"GetMethodEx(Type,String,Type[],Int32)\", \"GES_GRTServiceBase()\", \"GetNotificationsOutput(Int32,Int32,List<UserNotification>)\", \"GES_GRTDomainServiceBase()\", \"GetOrNullAsync(Guid)\", \"GES_GRTControllerBase()\", \"GeneralCommentAppService(IRepository<Employee>,IRepository<Client>,IRepository<GeneralComment>)\", \"GES_GRTAppServiceBase()\", \"GALoginController(UserManager,IRepository<User,Int64>)\", \"FullName()\", \"FriendshipManager(IRepository<Friendship,Int64>)\", \"GetOverlappingDays(DateTime,DateTime,DateTime,DateTime)\", \"Friendship(UserIdentifier,UserIdentifier,String,String,Nullable<Guid>,FriendshipState)\", \"Friendship()\", \"GetPasswordComplexitySetting()\", \"ForgotPassword()\", \"ForceOrdered(Bundle)\", \"Footer()\", \"FindUsers(FindUsersInput)\", \"FindPossibleTenantsOfUserAsync(UserLoginInfo)\", \"GES_GRTApiControllerBase()\", \"GetLocalizationFileForjAngularOrNull(String)\", \"GetDefaultEditionName()\", \"GetLocalFileName(HttpContentHeaders)\", \"GetLocalizationFileForJTableOrNull(String)\", \"GeneratePostData(MethodInfo)\", \"GetLocalizationFileForBootstrapSelect(String)\", \"GetLineItemsByEmployeeForOverview(GetLineItemInputByEmployeeForOverview)\", \"GenerateEmail(String)\", \"GetLinkedUsers(GetLinkedUsersInput)\", \"GenerateJsMethodParameterList(MethodInfo)\", \"GetLineItems(GetLineItemInput)\", \"GetExchangeRate(LineItem,IRepository<ExchangeRate>,IRepository<ClientExchangeRate>)\", \"ClientIncomeComponentGroupAppService(IRepository<ClientIncomeComponent>,IRepository<IncomeComponent>,IRepository<Client>,IRepository<LineItem>,IRepository<ClientIncomeComponentGroup>)\", \"ClientIncomeComponentGroup()\", \"TenantIdAccessor(ITenancyNameFinder,ITenantCache,IIocResolver)\", \"ClientIncomeComponentAppService(IRepository<ClientIncomeComponent>,IRepository<IncomeComponent>,IRepository<Client>,IRepository<LineItem>,IRepository<Country>)\", \"TenantRegistrationController(IMultiTenancyConfig,TenantManager,EditionManager,IAppNotifier,UserManager,AbpLoginResultTypeHelper)\", \"TenantSettingsAppService(IMultiTenancyConfig,IAbpZeroLdapModuleConfig,ITimeZoneService)\", \"TenantsController(ITenantAppService,TenantManager,IEditionAppService,ICommonLookupAppService)\", \"GetTimezones(GetTimezonesInput)\", \"BinaryObject()\", \"GetLanguageForEditOutput()\", \"GetProfilePictureById(String)\", \"TestNotification(String,String)\", \"CachingAppService(ICacheManager)\", \"GetEditionsForCombobox()\", \"SubdomainTenancyNameFinder(ISettingManager,IMultiTenancyConfig)\", \"GetLineItemsByEmployee(GetLineItemInputByEmployee)\", \"Impersonate(ImpersonateModel)\", \"GetProfilePicture()\", \"GetProductNameWithEdition()\", \"Sidebar(String)\", \"GetPermissionsFromNamesByValidating(IPermissionManager,IEnumerable<String>)\", \"BuildForInternalAsync(Tenant)\", \"SwitchToLinkedAccountSignIn(String)\", \"CalculateForCarLineItem(LineItem)\", \"GetOrganizationUnits()\", \"ChatFeatureChecker(IFeatureChecker)\", \"ChatMessage()\", \"GetLocalizationFileForjQueryTimeagoOrNull(String)\", \"ChatBar()\", \"ChatMessageManager(IFriendshipManager,IChatCommunicator,IOnlineClientManager,UserManager,ITenantCache,IUserFriendsCache,IUserEmailer,IRepository<ChatMessage,Int64>,IChatFeatureChecker)\", \"UpdateExistingEmployee(Employee,Employee)\", \"getSixMonthExpirationEmployees(Int32)\", \"UpdateExistingExchangeRate(ExchangeRate,ExchangeRate)\", \"Check(PasswordComplexitySetting,String)\", \"ChatAppService(IRepository<ChatMessage,Int64>,IUserFriendsCache,IOnlineClientManager,IChatCommunicator)\", \"GetRowIndex(String)\", \"ChangeReadState(ChatMessageReadState)\", \"GetSwitchToLinkedAccountCache(ICacheManager)\", \"CopyLineItemsByPeriod(CopyLineItemPeriodInputDto)\", \"TextResult(Object)\", \"BuildForAsync(Tenant)\", \"GetGroupName(Enum)\", \"CheckIfPayRollEmployeeIdIsUniqueWithinClient(EmployeeInputDto)\", \"GetNotificationSettings()\", \"GetTaxability(LineItem,IRepository<Period>)\", \"GetTenancyNameOrNull(Nullable<Int32>)\", \"AuditLogListExcelExporter(ITimeZoneConverter,IAbpSession)\", \"GetValueFromShortName<T>(String)\", \"ClearCache(IdInput<String>)\", \"GetValues<T>(Enum)\", \"GetLanguages()\", \"GetLanguagesOutput()\", \"GetUser(UserIdentifier)\", \"GetOrganizationUnitUsers(GetOrganizationUnitUsersInput)\", \"GetGroupNames(Enum,String)\", \"GetUserIdentifier(String,String)\", \"SendUserStateChangeToClients(IReadOnlyList<IOnlineClient>,UserIdentifier,FriendshipState)\", \"SetRandomProfilePictureAsync(User)\", \"DynamicQueryableExtensions()\", \"DownloadTempFile(FileDto)\", \"ParseClientIncomeComponentFileData(Collection<MultipartFileData>,Int32)\", \"ParseClientIncomeComponentRows(Client,Range[])\", \"DeleteUser(IdInput<Int64>)\", \"DeleteTenant(EntityRequestInput)\", \"DeleteManualValueForLineItem(DeleteManualValueLineItemDto)\", \"DeleteLanguage(IdInput)\", \"DeleteFilesInFolderIfExists(String,String)\", \"L(String)\", \"E404()\", \"PostInitialize()\", \"L(String)\", \"IsValidEmployeeNumber(Int32,Nullable<Int32>,Int32)\", \"CurrencyAppService(IRepository<Currency>)\", \"IsTrue(String)\", \"CreateWsFederationAuthOptions()\", \"IsSelfRegistrationEnabled()\", \"GetAllocation(LineItem)\", \"CreateStatutoryDirectorComment(String,String,Employee)\", \"IsHidden(Enum)\", \"Register(RegisterViewModel)\", \"L(String)\", \"IsEmail(String)\", \"EditClientAsync(ClientInputDto)\", \"EditClientIncomeComponentAsync(ClientIncomeComponentInputDto)\", \"MarkAlertAsRead(Int32)\", \"MarkAllUnreadMessagesOfUserAsRead(MarkAllUnreadMessagesOfUserAsReadInput)\", \"FeatureValueStore(ICacheManager,IRepository<TenantFeatureSetting,Int64>,IRepository<Tenant>,IRepository<EditionFeatureSetting,Int64>,IFeatureManager,IUnitOfWorkManager)\", \"MySettingsModal()\", \"LinkRelatedEntities(LineItemInputDto,LineItem)\", \"FriendshipAppService(IFriendshipManager,IOnlineClientManager,IChatCommunicator,ITenantCache,IChatFeatureChecker)\", \"Normalize()\", \"Normalize()\", \"Normalize()\", \"Normalize()\", \"PagedAndSortedInputDto()\", \"LineItemReconciliationOutputDto()\", \"EditionsController(IEditionAppService)\", \"NotificationAppService(INotificationDefinitionManager,IUserNotificationManager,INotificationSubscriptionManager)\", \"NotificationsController(INotificationAppService)\", \"LineItem()\", \"EditModal(Int64)\", \"EditLineItemAsync(LineItemInputDto)\", \"LayoutController(ISessionAppService,IUserNavigationManager,IMultiTenancyConfig)\", \"EditEmployeeAsync(EmployeeInputDto)\", \"OrderFiles(BundleContext,IEnumerable<BundleFile>)\", \"OrganizationUnitAppService(IRepository<Client>,OrganizationUnitManager,IRepository<OrganizationUnit,Int64>,IRepository<UserOrganizationUnit,Int64>)\", \"Employee()\", \"Create(String,Range[])\", \"GetCalculatedValueForTaxationType(TaxationType,Double,Double,Double,Int32,Decimal,Decimal,Boolean)\", \"Initialize()\", \"IncomeComponentOutputDto()\", \"SendUserConnectionChangeToClients(IReadOnlyList<IOnlineClient>,UserIdentifier,Boolean)\", \"IncomeComponentInputDto()\", \"CreateExcelPackage(String,Action<ExcelPackage>)\", \"IncomeComponentAppService(IRepository<IncomeComponent>,IRepository<Country>,IRepository<GeneralComment>,IRepository<ClientIncomeComponent>)\", \"SetCarSheet(ExcelPackage,List<EmployeeOutputDto>,Nullable<DateTime>,Nullable<DateTime>)\", \"GetCurrentTenancyNameOrNull()\", \"GetCurrentTenantAsync()\", \"SetCommentsAndAlertsSheet(ExcelPackage,List<EmployeeOutputDto>,Nullable<DateTime>,Nullable<DateTime>)\", \"ImportLineItemsController()\", \"CreateFriendship(Friendship)\", \"SetCurrentTenantId()\", \"CreateClientAsync(ClientInputDto)\", \"ImportExchangeRatesController(IRepository<ExchangeRate>,IRepository<Currency>,IRepository<Period>,IUnitOfWorkManager)\", \"SetFeatures(IFeatureDefinitionContext)\", \"SetLineItemSheet(ExcelPackage,List<EmployeeOutputDto>,Nullable<DateTime>,Nullable<DateTime>)\", \"GetCurrentUserAsync()\", \"ImportExchangeRates(Int32)\", \"ImportEmployeesController(IEmployeeRepository,IRepository<Client>,IUnitOfWorkManager,IRepository<Country>,IRepository<GeneralComment>,IRepository<Period>,IRepository<LineItem>,IRepository<ExchangeRate>,IRepository<ClientExchangeRate>)\", \"CreateAuditLogAndUsersQuery(GetAuditLogsInput)\", \"SetNotifications(INotificationDefinitionContext)\", \"CreateAndSaveOrganizationUnit(List<OrganizationUnit>,Tenant,String,OrganizationUnit)\", \"ImportIncomeComponentsController()\", \"CreateOrganizationUnitDto(OrganizationUnit)\", \"CreateFriendshipRequest(CreateFriendshipRequestInput)\", \"CreateGeneralCommentAsync(GeneralCommentInputDto)\", \"Initialize()\", \"GetCellIntValue(Object[],Int32,Boolean)\", \"CreateOrUpdateEmployee(EmployeeInputDto)\", \"ResetUnreadMessageCount(UserIdentifier,UserIdentifier)\", \"Role()\", \"Role(Nullable<Int32>,String)\", \"GetClientIncomeComponents(GetClientIncomeComponentsInput)\", \"RolesController(IRoleAppService,IPermissionAppService)\", \"Save(ChatMessage)\", \"GetClients(GetClientsInput)\", \"CreateFriendshipRequestByUserName(CreateFriendshipRequestByUserNameInput)\", \"SaveAccountSwitchTokenAndGetTargetUrl(Nullable<Int32>,Int64)\", \"CreateOrEditModal(Nullable<Int32>)\", \"GetColumnName(Int32)\", \"CreateOrEditLanguageModalViewModel(GetLanguageForEditOutput)\", \"CreateOrEditEditionModalViewModel(GetEditionForEditOutput)\", \"GetColumnName(String)\", \"GetCompanyCarCorrectionClientIncomeComponent(Client)\", \"GetCountries()\", \"GetCultureInfoByChecking(String)\", \"SendEmailActivationLinkAsync(User,String)\", \"CreateGoogleAuthOptions()\", \"GetColumnIndex(String)\", \"ParseCellValue(String,Nullable<CellValues>)\", \"AboutController\", \"AbpLoginResultTypeHelper\", \"AccountController\", \"AccountController\", \"ApiReflectionHelper\", \"AppAuthorizationProvider\", \"AppBundleConfig\", \"AppFeatureProvider\", \"AppFileHelper\", \"AppLdapAuthenticationSource\", \"AppNavigationProvider\", \"AppNotificationProvider\", \"AppNotifier\", \"AppRoleConfig\", \"AppSettingProvider\", \"ApplicationController\", \"ApplicationSignInManager\", \"AsIsBundleOrderer\", \"AspNetZeroAbpSession\", \"AuditLogAppService\", \"AuditLogListExcelExporter\", \"AuditLogsController\", \"BinaryObject\", \"BundleExtensions\", \"CachingAppService\", \"ChallengeResult\", \"ChatAppService\", \"ChatFeatureChecker\", \"ChatHub\", \"ChatMessage\", \"ChatMessageManager\", \"ChatUserStateWatcher\", \"Client\", \"ClientAppService\", \"ClientExchangeRateAppService\", \"ClientIncomeComponent\", \"ClientIncomeComponentAppService\", \"ClientIncomeComponentExportOutputDto\", \"ClientIncomeComponentGroup\", \"ClientIncomeComponentGroupAppService\", \"ClientIncomeComponentGroupInputDto\", \"ClientIncomeComponentGroupSimpleDto\", \"ClientIncomeComponentGroupSuperSimpleDto\", \"ClientIncomeComponentInputDto\", \"ClientIncomeComponentOutputDto\", \"ClientInputDto\", \"ClientOutputDto\", \"CommonBundleConfig\", \"CommonController\", \"CommonLookupAppService\", \"CountryAppService\", \"CreateOrEditEditionModalViewModel\", \"CreateOrEditLanguageModalViewModel\", \"CreateOrEditRoleModalViewModel\", \"CreateOrEditUserModalViewModel\", \"CreateOrganizationUnitModalViewModel\", \"CreateTenantViewModel\", \"CssRewriteUrlWithVirtualDirectoryTransform\", \"CurrencyAppService\", \"CustomDtoMapper\", \"CustomMultipartFormDataStreamProvider\", \"DashboardController\", \"DbBinaryObjectManager\", \"DecimalPrecision\", \"DynamicQueryableExtensions\", \"DynamicQueryableExtensions+SimpleTypeComparer\", \"EditTenantViewModel\", \"EditionAppService\", \"EditionManager\", \"EditionsController\", \"EmailTemplateProvider\", \"Employee\", \"EmployeeAppService\", \"EmployeeInputDto\", \"EmployeeListExcelExporter\", \"EmployeeOutputDto\", \"Enum<T>\", \"EnumExtension\", \"EnumJsonConverter\", \"EpPlusExcelExporterBase\", \"ErrorController\", \"ExcelData\", \"ExcelUtilities\", \"ExchangeRateAppService\", \"ExchangeRateService\", \"FamFamFamFlagsHelper\", \"FeatureValueStore\", \"FileController\", \"FileDto\", \"FooterViewModel\", \"FriendCacheItemExtensions\", \"Friendship\", \"FriendshipAppService\", \"FriendshipExtensions\", \"FriendshipManager\", \"FrontEndBundleConfig\", \"FrontEndNavigationProvider\", \"GALoginController\", \"GES_GRTApiControllerBase\", \"GES_GRTAppServiceBase\", \"GES_GRTApplicationModule\", \"GES_GRTControllerBase\", \"GES_GRTCoreModule\", \"GES_GRTDomainServiceBase\", \"GES_GRTServiceBase\", \"GES_GRTWebApiModule\", \"GES_GRTWebModule\", \"GES_GRTWebViewPageBase<TModel>\", \"GeneralCommentAppService\", \"GetAlertInput\", \"GetAuditLogsInput\", \"GetClientExchangeRatesInput\", \"GetClientIncomeComponentGroupsInput\", \"GetClientIncomeComponentsInput\", \"GetClientsInput\", \"GetCommentInput\", \"GetEmployeesInput\", \"GetExchangeRatesInput\", \"GetGeneralCommentsInput\", \"GetIncomeComponentsInput\", \"GetLanguageForEditOutput\", \"GetLanguageTextsInput\", \"GetLanguagesOutput\", \"GetLineItemInput\", \"GetLinkedUsersInput\", \"GetNotificationsOutput\", \"GetOrganizationUnitUsersInput\", \"GetTenantsInput\", \"GetUserChatFriendsWithSettingsOutput\", \"GetUsersInput\", \"HeaderViewModel\", \"HeaderViewModel\", \"HomeController\", \"HomeController\", \"HostSettingsAppService\", \"HostSettingsController\", \"ImpersonationCacheItem\", \"ImpersonationCacheManagerExtensions\", \"ImportClientIncomeComponentsController\", \"ImportEmployeesController\", \"ImportExchangeRatesController\", \"ImportIncomeComponentsController\", \"ImportLineItemsController\", \"ImportUtilities\", \"IncomeComponent\", \"IncomeComponentAppService\", \"IncomeComponentInputDto\", \"IncomeComponentOutputDto\", \"LanguageAppService\", \"LanguagesController\", \"LayoutController\", \"LayoutController\", \"LineItem\", \"LineItemAppService\", \"LineItemOutputDto\", \"LineItemReconciliationOutputDto\", \"LineItemUtilities\", \"LinkedUserDto\", \"MaintenanceController\", \"MarkAllUnreadMessagesOfUserAsReadInput\", \"ModalHeaderViewModel\", \"MpaAreaRegistration\", \"MpaBundleConfig\", \"MpaNavigationProvider\", \"MvcApplication\", \"MySettingsViewModel\", \"NamespaceStripper\", \"NotificationAppService\", \"NotificationsController\", \"OrganizationUnitAppService\", \"OrganizationUnitsController\", \"PagedAndFilteredInputDto\", \"PagedAndSortedInputDto\", \"PagedInputDto\", \"PasswordComplexityChecker\", \"PeriodAppService\", \"PermissionAppService\", \"PermissionChecker\", \"PermissionManagerExtensions\", \"ProfileAppService\", \"ProfileController\", \"ProfileController\", \"RandomUserGenerator\", \"Range\", \"ReconciliationCommentAppService\", \"RegisterViewModel\", \"Role\", \"RoleAppService\", \"RoleManager\", \"RoleStore\", \"RolesController\", \"RouteConfig\", \"ScriptPaths\", \"SessionAppService\", \"SettingsController\", \"SignalRChatCommunicator\", \"Startup\", \"SubdomainTenancyNameFinder\", \"SwitchToLinkedAccountCacheItem\", \"SwitchToLinkedAccountCacheManagerExtensions\", \"SwitchToLinkedAccountModel\", \"TableRange\", \"TemplateFileController\", \"Tenant\", \"TenantAppService\", \"TenantDashboardAppService\", \"TenantDemoDataBuilder\", \"TenantFeaturesEditViewModel\", \"TenantIdAccessor\", \"TenantManager\", \"TenantRegistrationController\", \"TenantSettingsAppService\", \"TenantSettingsEditDto\", \"TenantsController\", \"TextResult\", \"TimeZoneService\", \"TimingAppService\", \"TwitterEmailRetriever\", \"UnlinkUserInput\", \"UploadResultDto\", \"UrlChecker\", \"User\", \"UserAppService\", \"UserEmailer\", \"UserFriendCacheSyncronizer\", \"UserFriendsCache\", \"UserLinkAppService\", \"UserLinkManager\", \"UserListExcelExporter\", \"UserLoginAppService\", \"UserManager\", \"UserPermissionsEditViewModel\", \"UserStore\", \"UsersController\", \"ValidationHelper\", \"WebLogAppService\", \"WebUrlService\", \"WelcomeController\", \"GES_GRT\", \"GES_GRT.Auditing\", \"GES_GRT.Auditing.Dto\", \"GES_GRT.Auditing.Exporting\", \"GES_GRT.Authorization\", \"GES_GRT.Authorization.Impersonation\", \"GES_GRT.Authorization.Ldap\", \"GES_GRT.Authorization.Permissions\", \"GES_GRT.Authorization.Roles\", \"GES_GRT.Authorization.Users\", \"GES_GRT.Authorization.Users.Dto\", \"GES_GRT.Authorization.Users.Exporting\", \"GES_GRT.Authorization.Users.Profile\", \"GES_GRT.Caching\", \"GES_GRT.Chat\", \"GES_GRT.Chat.Dto\", \"GES_GRT.ClientExchangeRates\", \"GES_GRT.ClientExchangeRates.Dto\", \"GES_GRT.ClientIncomeComponentGroups\", \"GES_GRT.ClientIncomeComponentGroups.Dto\", \"GES_GRT.ClientIncomeComponents\", \"GES_GRT.ClientIncomeComponents.Dto\", \"GES_GRT.Clients\", \"GES_GRT.Clients.Dto\", \"GES_GRT.Common\", \"GES_GRT.Configuration\", \"GES_GRT.Configuration.Host\", \"GES_GRT.Configuration.Tenants\", \"GES_GRT.Configuration.Tenants.Dto\", \"GES_GRT.Currencies\", \"GES_GRT.DataExporting.Excel.EpPlus\", \"GES_GRT.Dto\", \"GES_GRT.Editions\", \"GES_GRT.Emailing\", \"GES_GRT.Employees\", \"GES_GRT.Employees.Dto\", \"GES_GRT.Employees.Exporting\", \"GES_GRT.ExchangeRates\", \"GES_GRT.ExchangeRates.Dto\", \"GES_GRT.Extensions\", \"GES_GRT.Features\", \"GES_GRT.Friendships\", \"GES_GRT.Friendships.Cache\", \"GES_GRT.GRT.ClientIncomeComponentGroups\", \"GES_GRT.GRT.ClientIncomeComponents\", \"GES_GRT.GRT.Clients\", \"GES_GRT.GRT.Employees\", \"GES_GRT.GRT.IncomeComponents\", \"GES_GRT.GRT.LineItems\", \"GES_GRT.GeneralComments\", \"GES_GRT.GeneralComments.Dto\", \"GES_GRT.IO\", \"GES_GRT.IncomeComponents\", \"GES_GRT.IncomeComponents.Dto\", \"GES_GRT.LineItems\", \"GES_GRT.LineItems.Dto\", \"GES_GRT.Localization\", \"GES_GRT.Localization.Dto\", \"GES_GRT.Logging\", \"GES_GRT.MultiTenancy\", \"GES_GRT.MultiTenancy.Demo\", \"GES_GRT.MultiTenancy.Dto\", \"GES_GRT.Notifications\", \"GES_GRT.Notifications.Dto\", \"GES_GRT.Organizations\", \"GES_GRT.Organizations.Dto\", \"GES_GRT.Periods\", \"GES_GRT.ReconciliationComments\", \"GES_GRT.Runtime.Session\", \"GES_GRT.Security\", \"GES_GRT.Services\", \"GES_GRT.Sessions\", \"GES_GRT.Settings\", \"GES_GRT.Storage\", \"GES_GRT.Tenants.Dashboard\", \"GES_GRT.Timing\", \"GES_GRT.Util\", \"GES_GRT.Validation\", \"GES_GRT.Web\", \"GES_GRT.Web.App.Startup\", \"GES_GRT.Web.Areas.Mpa\", \"GES_GRT.Web.Areas.Mpa.Controllers\", \"GES_GRT.Web.Areas.Mpa.Models.Common.Modals\", \"GES_GRT.Web.Areas.Mpa.Models.Editions\", \"GES_GRT.Web.Areas.Mpa.Models.Languages\", \"GES_GRT.Web.Areas.Mpa.Models.Layout\", \"GES_GRT.Web.Areas.Mpa.Models.OrganizationUnits\", \"GES_GRT.Web.Areas.Mpa.Models.Profile\", \"GES_GRT.Web.Areas.Mpa.Models.Roles\", \"GES_GRT.Web.Areas.Mpa.Models.Tenants\", \"GES_GRT.Web.Areas.Mpa.Models.Users\", \"GES_GRT.Web.Areas.Mpa.Startup\", \"GES_GRT.Web.Auth\", \"GES_GRT.Web.Bundling\", \"GES_GRT.Web.Chat.SignalR\", \"GES_GRT.Web.Controllers\", \"GES_GRT.Web.Controllers.Results\", \"GES_GRT.Web.Helpers\", \"GES_GRT.Web.Models.Account\", \"GES_GRT.Web.Models.Layout\", \"GES_GRT.Web.MultiTenancy\", \"GES_GRT.Web.Navigation\", \"GES_GRT.Web.Routing\", \"GES_GRT.Web.Views\", \"GES_GRT.WebApi\", \"GES_GRT.WebApi.Controllers\", \"GES_GRT.WebApi.Controllers.Dto\", \"GES_GRT.WebApi.Helpers\"], \"marker\": {\"colors\": [\"blue\", \"blue\", \"blue\", \"blue\", \"blue\", \"red\", \"red\", \"yellow\", \"blue\", \"blue\", \"blue\", \"yellow\", \"blue\", \"blue\", \"blue\", \"blue\", \"blue\", \"blue\", \"red\", \"blue\", \"blue\", \"blue\", \"blue\", \"blue\", \"blue\", \"red\", \"blue\", \"red\", \"yellow\", \"blue\", \"blue\", \"blue\", \"blue\", \"yellow\", \"blue\", \"blue\", \"blue\", \"blue\", \"blue\", \"blue\", \"blue\", \"yellow\", \"red\", \"red\", \"blue\", \"yellow\", \"yellow\", \"red\", \"blue\", \"blue\", \"blue\", \"blue\", \"red\", \"yellow\", \"blue\", \"blue\", \"blue\", \"blue\", \"blue\", \"blue\", \"blue\", \"blue\", \"blue\", \"yellow\", \"blue\", \"yellow\", \"yellow\", \"red\", \"blue\", \"red\", \"blue\", \"blue\", \"blue\", \"yellow\", \"blue\", \"blue\", \"blue\", \"blue\", \"blue\", \"red\", \"yellow\", \"blue\", \"yellow\", \"yellow\", \"blue\", \"blue\", \"blue\", \"blue\", \"blue\", \"blue\", \"blue\", \"blue\", \"blue\", \"blue\", \"blue\", \"red\", \"blue\", \"blue\", \"yellow\", \"yellow\", \"blue\", \"blue\", \"blue\", \"blue\", \"blue\", \"blue\", \"blue\", \"blue\", \"blue\", \"blue\", \"blue\", \"blue\", \"blue\", \"blue\", \"red\", \"yellow\", \"blue\", \"blue\", \"blue\", \"blue\", \"yellow\", \"blue\", \"blue\", \"blue\", \"blue\", \"blue\", \"blue\", \"blue\", \"blue\", \"blue\", \"blue\", \"yellow\", \"blue\", \"blue\", \"blue\", \"blue\", \"blue\", \"blue\", \"red\", \"red\", \"blue\", \"blue\", \"yellow\", \"blue\", \"yellow\", \"red\", \"blue\", \"yellow\", \"blue\", \"blue\", \"blue\", \"blue\", \"yellow\", \"blue\", \"blue\", \"blue\", \"blue\", \"blue\", \"red\", \"blue\", \"blue\", \"blue\", \"blue\", \"blue\", \"blue\", \"blue\", \"blue\", \"blue\", \"blue\", \"yellow\", \"blue\", \"blue\", \"blue\", \"blue\", \"blue\", \"blue\", \"yellow\", \"blue\", \"blue\", \"blue\", \"yellow\", \"blue\", \"blue\", \"blue\", \"blue\", \"blue\", \"blue\", \"blue\", \"blue\", \"blue\", \"blue\", \"blue\", \"blue\", \"blue\", \"red\", \"yellow\", \"red\", \"blue\", \"yellow\", \"blue\", \"yellow\", \"blue\", \"blue\", \"blue\", \"yellow\", \"blue\", \"blue\", \"blue\", \"blue\", \"blue\", \"blue\", \"red\", \"blue\", \"blue\", \"red\", \"blue\", \"yellow\", \"blue\", \"blue\", \"blue\", \"yellow\", \"red\", \"blue\", \"blue\", \"blue\", \"red\", \"blue\", \"red\", \"yellow\", \"blue\", \"blue\", \"blue\", \"blue\", \"blue\", \"blue\", \"blue\", \"blue\", \"blue\", \"blue\", \"blue\", \"blue\", \"blue\", \"blue\", \"yellow\", \"red\", \"yellow\", \"blue\", \"blue\", \"blue\", \"blue\", \"blue\", \"yellow\", \"blue\", \"red\", \"blue\", \"blue\", \"yellow\", \"blue\", \"blue\", \"blue\", \"blue\", \"red\", \"blue\", \"yellow\", \"blue\", \"blue\", \"yellow\", \"yellow\", \"blue\", \"blue\", \"blue\", \"yellow\", \"blue\", \"blue\", \"yellow\", \"yellow\", \"blue\", \"blue\", \"yellow\", \"blue\", \"blue\", \"blue\", \"blue\", \"yellow\", \"blue\", \"blue\", \"yellow\", \"blue\", \"blue\", \"yellow\", \"yellow\", \"blue\", \"blue\", \"blue\", \"blue\", \"yellow\", \"blue\", \"blue\", \"yellow\", \"blue\", \"red\", \"yellow\", \"blue\", \"blue\", \"yellow\", \"blue\", \"blue\", \"blue\", \"blue\", \"blue\", \"yellow\", \"blue\", \"yellow\", \"blue\", \"yellow\", \"blue\", \"red\", \"blue\", \"blue\", \"blue\", \"red\", \"blue\", \"yellow\", \"red\", \"red\", \"red\", \"red\", \"blue\", \"blue\", \"blue\", \"blue\", \"blue\", \"blue\", \"blue\", \"blue\", \"blue\", \"blue\", \"blue\", \"blue\", \"blue\", \"blue\", \"blue\", \"red\", \"blue\", \"red\", \"blue\", \"red\", \"red\", \"blue\", \"yellow\", \"red\", \"blue\", \"blue\", \"red\", \"yellow\", \"blue\", \"red\", \"red\", \"blue\", \"blue\", \"blue\", \"yellow\", \"blue\", \"blue\", \"blue\", \"yellow\", \"blue\", \"blue\", \"yellow\", \"yellow\", \"blue\", \"yellow\", \"blue\", \"yellow\", \"yellow\", \"blue\", \"yellow\", \"yellow\", \"yellow\", \"blue\", \"yellow\", \"blue\", \"yellow\", \"blue\", \"yellow\", \"blue\", \"blue\", \"blue\", \"blue\", \"yellow\", \"blue\", \"blue\", \"blue\", \"blue\", \"blue\", \"blue\", \"blue\", \"yellow\", \"yellow\", \"blue\", \"blue\", \"blue\", \"blue\", \"blue\", \"blue\", \"yellow\", \"blue\", \"yellow\", \"yellow\", \"blue\", \"blue\", \"yellow\", \"yellow\", \"blue\", \"blue\", \"blue\", \"yellow\", \"blue\", \"blue\", \"blue\", \"blue\", \"blue\", \"blue\", \"blue\", \"red\", \"yellow\", \"yellow\", \"blue\", \"blue\", \"blue\", \"blue\", \"blue\", \"blue\", \"blue\", \"blue\", \"yellow\", \"red\", \"blue\", \"yellow\", \"blue\", \"blue\", \"blue\", \"yellow\", \"red\", \"blue\", \"yellow\", \"blue\", \"blue\", \"blue\", \"blue\", \"blue\", \"blue\", \"blue\", \"blue\", \"blue\", \"blue\", \"blue\", \"blue\", \"yellow\", \"blue\", \"blue\", \"blue\", \"blue\", \"red\", \"blue\", \"yellow\", \"yellow\", \"blue\", \"blue\", \"blue\", \"blue\", \"blue\", \"blue\", \"blue\", \"blue\", \"yellow\", \"blue\", \"blue\", \"blue\", \"blue\", \"blue\", \"blue\", \"blue\", \"blue\", \"blue\", \"blue\", \"blue\", \"yellow\", \"blue\", \"blue\", \"red\", \"blue\", \"blue\", \"blue\", \"blue\", \"yellow\", \"blue\", \"blue\", \"blue\", \"red\", \"blue\", \"red\", \"blue\", \"blue\", \"blue\", \"blue\", \"blue\", \"blue\", \"blue\", \"blue\", \"blue\", \"yellow\", \"yellow\", \"blue\", \"blue\", \"blue\", \"blue\", \"blue\", \"blue\", \"red\", \"red\", \"blue\", \"yellow\", \"blue\", \"blue\", \"blue\", \"blue\", \"yellow\", \"blue\", \"blue\", \"red\", \"blue\", \"blue\", \"blue\", \"blue\", \"blue\", \"blue\", \"blue\", \"blue\", \"blue\", \"yellow\", \"blue\", \"blue\", \"blue\", \"yellow\", \"blue\", \"blue\", \"blue\", \"yellow\", \"blue\", \"blue\", \"blue\", \"yellow\", \"yellow\", \"blue\", \"blue\", \"yellow\", \"red\", \"yellow\", \"blue\", \"blue\", \"blue\", \"blue\", \"yellow\", \"yellow\", \"blue\", \"yellow\", \"blue\", \"red\", \"yellow\", \"blue\", \"yellow\", \"blue\", \"blue\", \"yellow\", \"blue\", \"blue\", \"blue\", \"yellow\", \"blue\", \"blue\", \"blue\", \"blue\", \"blue\", \"blue\", \"blue\", \"yellow\", \"yellow\", \"blue\", \"yellow\", \"yellow\", \"blue\", \"yellow\", \"blue\", \"blue\", \"red\", \"yellow\", \"blue\", \"yellow\", \"blue\", \"yellow\", \"blue\", \"red\", \"blue\", \"blue\", \"blue\", \"blue\", \"blue\", \"blue\", \"blue\", \"blue\", \"red\", \"blue\", \"blue\", \"blue\", \"blue\", \"yellow\", \"blue\", \"yellow\", \"blue\", \"blue\", \"blue\", \"yellow\", \"red\", \"blue\", \"blue\", \"blue\", \"blue\", \"blue\", \"blue\", \"blue\", \"blue\", \"yellow\", \"blue\", \"blue\", \"blue\", \"yellow\", \"yellow\", \"red\", \"blue\", \"blue\", \"blue\", \"yellow\", \"red\", \"blue\", \"blue\", \"blue\", \"yellow\", \"yellow\", \"blue\", \"blue\", \"blue\", \"blue\", \"blue\", \"blue\", \"blue\", \"blue\", \"blue\", \"blue\", \"red\", \"blue\", \"blue\", \"blue\", \"blue\", \"yellow\", \"yellow\", \"yellow\", \"red\", \"blue\", \"blue\", \"blue\", \"yellow\", \"blue\", \"yellow\", \"red\", \"yellow\", \"blue\", \"red\", \"blue\", \"blue\", \"blue\", \"blue\", \"red\", \"blue\", \"blue\", \"yellow\", \"yellow\", \"blue\", \"red\", \"blue\", \"blue\", \"yellow\", \"blue\", \"blue\", \"blue\", \"blue\", \"blue\", \"blue\", \"blue\", \"yellow\", \"yellow\", \"blue\", \"blue\", \"blue\", \"red\", \"red\", \"blue\", \"blue\", \"blue\", \"blue\", \"blue\", \"blue\", \"blue\", \"blue\", \"blue\", \"blue\", \"blue\", \"blue\", \"blue\", \"blue\", \"yellow\", \"yellow\", \"yellow\", \"red\", \"blue\", \"blue\", \"yellow\", \"yellow\", \"yellow\", \"yellow\", \"yellow\", \"blue\", \"red\", \"blue\", \"blue\", \"blue\", \"blue\", \"blue\", \"blue\", \"blue\", \"blue\", \"blue\", \"blue\", \"blue\", \"blue\", \"red\", \"blue\", \"red\", \"blue\", \"blue\", \"blue\", \"red\", \"red\", \"blue\", \"blue\", \"yellow\", \"blue\", \"yellow\", \"blue\", \"red\", \"yellow\", \"blue\", \"red\", \"blue\", \"yellow\", \"blue\", \"yellow\", \"yellow\", \"blue\", \"red\", \"blue\", \"blue\", \"red\", \"yellow\", \"blue\", \"yellow\", \"blue\", \"blue\", \"yellow\", \"blue\", \"blue\", \"yellow\", \"blue\", \"yellow\", \"blue\", \"blue\", \"yellow\", \"blue\", \"blue\", \"blue\", \"blue\", \"blue\", \"blue\", \"blue\", \"blue\", \"blue\", \"blue\", \"blue\", \"blue\", \"blue\", \"yellow\", \"blue\", \"yellow\", \"red\", \"blue\", \"yellow\", \"black\", \"blue\", \"black\", \"black\", \"blue\", \"blue\", \"blue\", \"blue\", \"black\", \"blue\", \"blue\", \"blue\", \"blue\", \"blue\", \"blue\", \"blue\", \"blue\", \"black\", \"black\", \"blue\", \"blue\", \"blue\", \"blue\", \"blue\", \"black\", \"black\", \"black\", \"black\", \"black\", \"black\", \"blue\", \"black\", \"black\", \"blue\", \"black\", \"blue\", \"blue\", \"black\", \"blue\", \"blue\", \"blue\", \"blue\", \"blue\", \"blue\", \"blue\", \"blue\", \"blue\", \"blue\", \"blue\", \"blue\", \"blue\", \"blue\", \"blue\", \"blue\", \"blue\", \"blue\", \"blue\", \"black\", \"blue\", \"blue\", \"blue\", \"blue\", \"black\", \"blue\", \"blue\", \"blue\", \"blue\", \"blue\", \"blue\", \"blue\", \"black\", \"blue\", \"black\", \"blue\", \"blue\", \"black\", \"black\", \"black\", \"blue\", \"blue\", \"black\", \"blue\", \"yellow\", \"blue\", \"yellow\", \"blue\", \"blue\", \"blue\", \"blue\", \"black\", \"black\", \"blue\", \"black\", \"blue\", \"blue\", \"black\", \"blue\", \"black\", \"blue\", \"black\", \"blue\", \"blue\", \"blue\", \"blue\", \"blue\", \"blue\", \"black\", \"blue\", \"blue\", \"blue\", \"blue\", \"blue\", \"blue\", \"blue\", \"blue\", \"blue\", \"blue\", \"blue\", \"blue\", \"blue\", \"blue\", \"blue\", \"blue\", \"blue\", \"blue\", \"blue\", \"blue\", \"blue\", \"blue\", \"blue\", \"blue\", \"blue\", \"black\", \"blue\", \"blue\", \"blue\", \"black\", \"black\", \"black\", \"black\", \"black\", \"black\", \"blue\", \"black\", \"blue\", \"blue\", \"black\", \"black\", \"blue\", \"black\", \"blue\", \"black\", \"blue\", \"blue\", \"black\", \"blue\", \"blue\", \"blue\", \"blue\", \"blue\", \"blue\", \"blue\", \"blue\", \"blue\", \"black\", \"blue\", \"blue\", \"black\", \"blue\", \"blue\", \"blue\", \"blue\", \"red\", \"blue\", \"yellow\", \"blue\", \"yellow\", \"black\", \"blue\", \"black\", \"black\", \"blue\", \"black\", \"blue\", \"blue\", \"blue\", \"yellow\", \"blue\", \"blue\", \"blue\", \"black\", \"blue\", \"blue\", \"black\", \"black\", \"black\", \"blue\", \"blue\", \"blue\", \"blue\", \"blue\", \"blue\", \"blue\", \"blue\", \"black\", \"blue\", \"blue\", \"black\", \"black\", \"black\", \"yellow\", \"blue\", \"blue\", \"blue\", \"blue\", \"red\", \"blue\", \"blue\", \"blue\", \"blue\", \"black\", \"black\", \"blue\", \"black\", \"black\", \"blue\", \"black\", \"blue\", \"black\", \"blue\", \"yellow\", \"blue\", \"blue\", \"black\", \"blue\", \"blue\", \"black\", \"black\", \"blue\", \"black\", \"black\", \"blue\", \"blue\", \"yellow\", \"black\", \"black\", \"blue\", \"black\", \"black\", \"blue\", \"black\", \"blue\", \"black\", \"blue\", \"black\", \"blue\", \"black\", \"blue\", \"black\", \"blue\", \"blue\", \"blue\", \"black\", \"black\", \"yellow\", \"blue\", \"black\", \"blue\", \"black\", \"blue\", \"black\", \"blue\", \"black\", \"blue\", \"blue\", \"black\", \"blue\", \"black\", \"black\", \"blue\", \"blue\", \"blue\", \"blue\", \"blue\", \"blue\", \"black\", \"blue\", \"blue\", \"black\", \"blue\", \"black\", \"blue\", \"black\", \"blue\", \"black\", \"black\", \"black\", \"blue\", \"blue\", \"blue\", \"black\", \"blue\", \"blue\", \"black\", \"blue\", \"red\", \"yellow\", \"blue\", \"blue\", \"blue\", \"blue\", \"blue\", \"black\", \"blue\", \"black\", \"black\", \"blue\", \"black\", \"blue\", \"blue\", \"blue\", \"blue\", \"blue\", \"blue\", \"blue\", \"blue\", \"blue\", \"blue\", \"black\", \"black\", \"black\", \"black\", \"blue\", \"blue\", \"blue\", \"blue\", \"black\", \"blue\", \"blue\", \"blue\", \"blue\", \"black\", \"blue\", \"black\"]}, \"name\": \"\", \"parents\": [\"GES_GRT.Web.Areas.Mpa.Controllers/TenantsController\", \"GES_GRT.Currencies/CurrencyAppService\", \"GES_GRT.WebApi.Controllers/TemplateFileController\", \"GES_GRT.Authorization.Roles/RoleStore\", \"GES_GRT.Web.Controllers/ApplicationController\", \"GES_GRT.LineItems/LineItemAppService\", \"GES_GRT.LineItems/LineItemAppService\", \"GES_GRT.Authorization.Users/UserAppService\", \"GES_GRT.Web.Controllers/AboutController\", \"GES_GRT.Localization/FamFamFamFlagsHelper\", \"GES_GRT.Extensions/DecimalPrecision\", \"GES_GRT.WebApi.Controllers/ImportExchangeRatesController\", \"GES_GRT.Web.Areas.Mpa.Controllers/AuditLogsController\", \"GES_GRT.Notifications/NotificationAppService\", \"GES_GRT/CustomDtoMapper\", \"GES_GRT.Web.Helpers/CustomMultipartFormDataStreamProvider\", \"GES_GRT.Util/EnumJsonConverter\", \"GES_GRT.Web.Areas.Mpa.Controllers/ProfileController\", \"GES_GRT.Util/LineItemUtilities\", \"GES_GRT.ClientIncomeComponents/ClientIncomeComponentAppService\", \"GES_GRT.Web.Areas.Mpa/MpaAreaRegistration\", \"GES_GRT/GES_GRTAppServiceBase\", \"GES_GRT.WebApi.Controllers/ImportExchangeRatesController\", \"GES_GRT/GES_GRTAppServiceBase\", \"GES_GRT.Authorization.Users.Profile/ProfileAppService\", \"GES_GRT/GES_GRTAppServiceBase\", \"GES_GRT.Web.Controllers/TenantRegistrationController\", \"GES_GRT.Util/ExcelUtilities\", \"GES_GRT.Friendships/ChatUserStateWatcher\", \"GES_GRT/GES_GRTAppServiceBase\", \"GES_GRT.Emailing/EmailTemplateProvider\", \"GES_GRT.ExchangeRates/ExchangeRateAppService\", \"GES_GRT.ClientIncomeComponentGroups/ClientIncomeComponentGroupAppService\", \"GES_GRT.Friendships.Cache/UserFriendsCache\", \"GES_GRT.Sessions/SessionAppService\", \"GES_GRT.IncomeComponents/IncomeComponentAppService\", \"GES_GRT.Web.Areas.Mpa.Controllers/HostSettingsController\", \"GES_GRT.Web.Controllers/ProfileController\", \"GES_GRT.WebApi.Controllers/ImportIncomeComponentsController\", \"GES_GRT.Web.Areas.Mpa.Controllers/DashboardController\", \"GES_GRT.LineItems.Dto/GetCommentInput\", \"GES_GRT.Authorization.Permissions/PermissionAppService\", \"GES_GRT.WebApi.Controllers/ImportEmployeesController\", \"GES_GRT.WebApi.Controllers/ImportEmployeesController\", \"GES_GRT.LineItems/LineItemAppService\", \"GES_GRT.IncomeComponents/IncomeComponentAppService\", \"GES_GRT.Logging/WebLogAppService\", \"GES_GRT.Util/ExcelUtilities\", \"GES_GRT.Authorization.Roles/RoleAppService\", \"GES_GRT.Extensions/Enum<T>\", \"GES_GRT.Dto/PagedAndFilteredInputDto\", \"GES_GRT.Web.Areas.Mpa.Controllers/OrganizationUnitsController\", \"GES_GRT.ClientIncomeComponentGroups/ClientIncomeComponentGroupAppService\", \"GES_GRT.Extensions/DynamicQueryableExtensions\", \"GES_GRT.Web.Areas.Mpa.Models.Tenants/EditTenantViewModel\", \"GES_GRT.WebApi.Helpers/ApiReflectionHelper\", \"GES_GRT.Friendships/ChatUserStateWatcher\", \"GES_GRT.Dto/PagedInputDto\", \"GES_GRT.Web.Areas.Mpa.Controllers/EditionsController\", \"GES_GRT.Organizations/OrganizationUnitAppService\", \"GES_GRT.Editions/EditionAppService\", \"GES_GRT.Authorization.Impersonation/ImpersonationCacheManagerExtensions\", \"GES_GRT.Util/LineItemUtilities\", \"GES_GRT.LineItems/LineItemAppService\", \"GES_GRT.Extensions/EnumExtension\", \"GES_GRT.Localization/LanguageAppService\", \"GES_GRT.Friendships/FriendshipManager\", \"GES_GRT.Configuration.Tenants/TenantSettingsAppService\", \"GES_GRT.LineItems.Dto/GetLineItemInput\", \"GES_GRT.WebApi.Controllers/ImportExchangeRatesController\", \"GES_GRT.Authorization.Users.Dto/GetLinkedUsersInput\", \"GES_GRT.Employees/EmployeeAppService\", \"GES_GRT.Web.Areas.Mpa.Controllers/HomeController\", \"GES_GRT.Authorization.Users/UserLinkAppService\", \"GES_GRT.Web.Controllers/AccountController\", \"GES_GRT.Authorization.Users.Dto/GetUsersInput\", \"GES_GRT.Web.Controllers/AccountController\", \"GES_GRT.Editions/EditionManager\", \"GES_GRT.Editions/EditionAppService\", \"GES_GRT.WebApi.Controllers/ImportLineItemsController\", \"GES_GRT.Employees/EmployeeAppService\", \"GES_GRT.Web.Areas.Mpa.Controllers/LanguagesController\", \"GES_GRT.ClientIncomeComponents/ClientIncomeComponentAppService\", \"GES_GRT.ClientIncomeComponentGroups/ClientIncomeComponentGroupAppService\", \"GES_GRT.ClientExchangeRates/ClientExchangeRateAppService\", \"GES_GRT.Web.Areas.Mpa.Controllers/ProfileController\", \"GES_GRT.Authorization.Users/UserLinkManager\", \"GES_GRT.Util/LineItemUtilities\", \"GES_GRT.LineItems.Dto/LineItemOutputDto\", \"GES_GRT.Web.Areas.Mpa.Controllers/LayoutController\", \"GES_GRT.Web.Controllers/AccountController\", \"GES_GRT.Localization/LanguageAppService\", \"GES_GRT.Web.Areas.Mpa.Startup/MpaNavigationProvider\", \"GES_GRT.Web.Controllers/GES_GRTControllerBase\", \"GES_GRT.Web.Navigation/FrontEndNavigationProvider\", \"GES_GRT.Util/EnumJsonConverter\", \"GES_GRT.Clients/ClientAppService\", \"GES_GRT.GeneralComments/GeneralCommentAppService\", \"GES_GRT.Web.Controllers/AccountController\", \"GES_GRT.ReconciliationComments/ReconciliationCommentAppService\", \"GES_GRT.MultiTenancy.Dto/GetTenantsInput\", \"GES_GRT.Organizations.Dto/GetOrganizationUnitUsersInput\", \"GES_GRT.IncomeComponents.Dto/GetIncomeComponentsInput\", \"GES_GRT.ExchangeRates.Dto/GetExchangeRatesInput\", \"GES_GRT.Employees.Dto/GetEmployeesInput\", \"GES_GRT.ClientIncomeComponentGroups.Dto/GetClientIncomeComponentGroupsInput\", \"GES_GRT.ClientExchangeRates.Dto/GetClientExchangeRatesInput\", \"GES_GRT.Auditing.Dto/GetAuditLogsInput\", \"GES_GRT.LineItems.Dto/GetAlertInput\", \"GES_GRT.Notifications/AppNotifier\", \"GES_GRT.Notifications/AppNotifier\", \"GES_GRT.Web.Areas.Mpa.Models.Profile/MySettingsViewModel\", \"GES_GRT.Organizations/OrganizationUnitAppService\", \"GES_GRT.Web.Areas.Mpa.Models.Common.Modals/ModalHeaderViewModel\", \"GES_GRT.LineItems/LineItemAppService\", \"GES_GRT.LineItems/LineItemAppService\", \"GES_GRT.Web.Areas.Mpa.Controllers/MaintenanceController\", \"GES_GRT.Web.Areas.Mpa.Controllers/CommonController\", \"GES_GRT.Web.Controllers/AccountController\", \"GES_GRT.Web.Areas.Mpa.Controllers/UsersController\", \"GES_GRT.Web.Controllers/AccountController\", \"GES_GRT.LineItems/LineItemAppService\", \"GES_GRT.WebApi.Controllers/ImportLineItemsController\", \"GES_GRT.Web.Areas.Mpa.Controllers/ProfileController\", \"GES_GRT.Authorization.Users/UserLinkAppService\", \"GES_GRT.IncomeComponents/IncomeComponentAppService\", \"GES_GRT.Notifications/AppNotificationProvider\", \"GES_GRT.Friendships/FriendshipAppService\", \"GES_GRT.ClientIncomeComponents/ClientIncomeComponentAppService\", \"GES_GRT.Timing/TimingAppService\", \"GES_GRT.Timing/TimingAppService\", \"GES_GRT.Chat/ChatMessageManager\", \"GES_GRT.Authorization.Users/UserLinkManager\", \"GES_GRT.Authorization.Users/UserManager\", \"GES_GRT.Web.Controllers/AccountController\", \"GES_GRT.Chat/ChatAppService\", \"GES_GRT.Chat.Dto/GetUserChatFriendsWithSettingsOutput\", \"GES_GRT.Chat/ChatAppService\", \"GES_GRT.Authorization.Users/UserAppService\", \"GES_GRT.Friendships.Cache/UserFriendsCache\", \"GES_GRT.Notifications/NotificationAppService\", \"GES_GRT.Authorization.Users/UserAppService\", \"GES_GRT.Authorization.Users/UserAppService\", \"GES_GRT.Authorization.Users/UserAppService\", \"GES_GRT.Extensions/EnumExtension\", \"GES_GRT.Extensions/EnumExtension\", \"GES_GRT.Auditing/NamespaceStripper\", \"GES_GRT.Util/ExcelUtilities\", \"GES_GRT.MultiTenancy/TenantAppService\", \"GES_GRT.MultiTenancy/TenantAppService\", \"GES_GRT.Web.Controllers/ProfileController\", \"GES_GRT.MultiTenancy.Demo/TenantDemoDataBuilder\", \"GES_GRT.MultiTenancy.Demo/RandomUserGenerator\", \"GES_GRT.Authorization.Users/UserLoginAppService\", \"GES_GRT.Authorization.Users/UserLinkAppService\", \"GES_GRT.ReconciliationComments/ReconciliationCommentAppService\", \"GES_GRT.Authorization.Roles/RoleAppService\", \"GES_GRT.Authorization.Roles/RoleAppService\", \"GES_GRT.Web.Controllers/GES_GRTControllerBase\", \"GES_GRT.Configuration/AppSettingProvider\", \"GES_GRT.Extensions/EnumExtension\", \"GES_GRT.Web.Areas.Mpa.Models.Layout/HeaderViewModel\", \"GES_GRT.Web.Models.Layout/HeaderViewModel\", \"GES_GRT.Authorization.Users/LinkedUserDto\", \"GES_GRT.Web.Chat.SignalR/SignalRChatCommunicator\", \"GES_GRT.Web/WebUrlService\", \"GES_GRT.Clients/ClientAppService\", \"GES_GRT.MultiTenancy/TenantAppService\", \"GES_GRT.WebApi.Helpers/ApiReflectionHelper\", \"GES_GRT.Organizations/OrganizationUnitAppService\", \"GES_GRT.Friendships.Cache/UserFriendCacheSyncronizer\", \"GES_GRT.Web.Areas.Mpa.Controllers/RolesController\", \"GES_GRT.Web.Controllers/TenantRegistrationController\", \"GES_GRT.Web.Areas.Mpa.Controllers/TenantsController\", \"GES_GRT.Web.Areas.Mpa.Controllers/UsersController\", \"GES_GRT.Web.Areas.Mpa.Controllers/WelcomeController\", \"GES_GRT.Web.Controllers/GALoginController\", \"GES_GRT/GES_GRTApplicationModule\", \"GES_GRT.WebApi/GES_GRTWebApiModule\", \"GES_GRT.Web/GES_GRTWebModule\", \"GES_GRT.Util/ExcelUtilities\", \"GES_GRT.WebApi.Helpers/ApiReflectionHelper\", \"GES_GRT.Web.Controllers/AccountController\", \"GES_GRT.Organizations/OrganizationUnitAppService\", \"GES_GRT.Util/EnumJsonConverter\", \"GES_GRT.Web.Views/UrlChecker\", \"GES_GRT.Web.Controllers/AccountController\", \"GES_GRT.ClientIncomeComponentGroups/ClientIncomeComponentGroupAppService\", \"GES_GRT.Web.Areas.Mpa.Controllers/OrganizationUnitsController\", \"GES_GRT.Friendships.Cache/UserFriendCacheSyncronizer\", \"GES_GRT.Web.Areas.Mpa.Controllers/NotificationsController\", \"GES_GRT.Web.Areas.Mpa.Controllers/LanguagesController\", \"GES_GRT.Friendships.Cache/UserFriendCacheSyncronizer\", \"GES_GRT.Friendships.Cache/UserFriendCacheSyncronizer\", \"GES_GRT.Chat/ChatMessageManager\", \"GES_GRT.Chat/ChatMessageManager\", \"GES_GRT.Chat/ChatMessageManager\", \"GES_GRT.Web.Areas.Mpa.Controllers/LayoutController\", \"GES_GRT.Web.Controllers/LayoutController\", \"GES_GRT.Configuration.Host/HostSettingsAppService\", \"GES_GRT.Web.Controllers/AccountController\", \"GES_GRT.Authorization.Impersonation/ImpersonationCacheItem\", \"GES_GRT.Authorization.Impersonation/ImpersonationCacheItem\", \"GES_GRT.WebApi.Controllers/ImportClientIncomeComponentsController\", \"GES_GRT.WebApi.Controllers/ImportClientIncomeComponentsController\", \"GES_GRT.WebApi.Controllers/ImportEmployeesController\", \"GES_GRT.GRT.IncomeComponents/IncomeComponent\", \"GES_GRT.Web.Controllers/HomeController\", \"GES_GRT.Web.Areas.Mpa.Controllers/HostSettingsController\", \"GES_GRT.Web.Areas.Mpa.Controllers/MaintenanceController\", \"GES_GRT.Web.Areas.Mpa.Controllers/SettingsController\", \"GES_GRT.WebApi.Controllers/ImportExchangeRatesController\", \"GES_GRT.Friendships/ChatUserStateWatcher\", \"GES_GRT.Friendships/FriendshipExtensions\", \"GES_GRT.Web.Controllers/AccountController\", \"GES_GRT.Extensions/Enum<T>\", \"GES_GRT.Authorization.Users/UserEmailer\", \"GES_GRT.Friendships/FriendshipAppService\", \"GES_GRT.Authorization.Users/UserLinkManager\", \"GES_GRT.Authorization.Users/UserLinkAppService\", \"GES_GRT.Configuration.Host/HostSettingsAppService\", \"GES_GRT.Configuration.Tenants/TenantSettingsAppService\", \"GES_GRT.LineItems/LineItemAppService\", \"GES_GRT.Authorization.Users.Profile/ProfileAppService\", \"GES_GRT.Editions/EditionAppService\", \"GES_GRT.WebApi.Controllers/ImportClientIncomeComponentsController\", \"GES_GRT.WebApi.Controllers/ImportIncomeComponentsController\", \"GES_GRT.WebApi.Controllers/ImportLineItemsController\", \"GES_GRT.Friendships.Cache/UserFriendsCache\", \"GES_GRT.Friendships/FriendshipManager\", \"GES_GRT.Authorization.Users.Dto/UnlinkUserInput\", \"GES_GRT.Web.Models.Account/SwitchToLinkedAccountModel\", \"GES_GRT.Chat.Dto/MarkAllUnreadMessagesOfUserAsReadInput\", \"GES_GRT.Extensions/Enum<T>\", \"GES_GRT.Auditing/NamespaceStripper\", \"GES_GRT.Web.Controllers/AccountController\", \"GES_GRT.Authorization.Users/SwitchToLinkedAccountCacheItem\", \"GES_GRT.Authorization.Users/SwitchToLinkedAccountCacheItem\", \"GES_GRT.Util/TableRange\", \"GES_GRT.MultiTenancy/Tenant\", \"GES_GRT.MultiTenancy/Tenant\", \"GES_GRT.MultiTenancy/TenantAppService\", \"GES_GRT.Authorization.Roles/RoleAppService\", \"GES_GRT.MultiTenancy.Demo/TenantDemoDataBuilder\", \"GES_GRT.MultiTenancy/TenantManager\", \"GES_GRT.Web.Areas.Mpa.Controllers/LanguagesController\", \"GES_GRT.Timing/TimeZoneService\", \"GES_GRT.Timing/TimingAppService\", \"GES_GRT.Employees.Exporting/EmployeeListExcelExporter\", \"GES_GRT.Friendships/FriendshipExtensions\", \"GES_GRT.Extensions/Enum<T>\", \"GES_GRT.Extensions/EnumExtension\", \"GES_GRT.Web.Areas.Mpa.Models.Tenants/TenantFeaturesEditViewModel\", \"GES_GRT.Auditing/NamespaceStripper\", \"GES_GRT.Localization/LanguageAppService\", \"GES_GRT.Notifications/NotificationAppService\", \"GES_GRT.Friendships.Cache/UserFriendsCache\", \"GES_GRT.Authorization.Users/UserLinkAppService\", \"GES_GRT.Authorization.Users/UserLinkManager\", \"GES_GRT.Authorization.Users.Exporting/UserListExcelExporter\", \"GES_GRT.Authorization.Users/UserLoginAppService\", \"GES_GRT.Authorization.Users/UserManager\", \"GES_GRT.Web.Areas.Mpa.Models.Users/UserPermissionsEditViewModel\", \"GES_GRT.Authorization.Users/UserStore\", \"GES_GRT.Web.Areas.Mpa.Controllers/UsersController\", \"GES_GRT.Web.Models.Account/RegisterViewModel\", \"GES_GRT.Employees/EmployeeAppService\", \"GES_GRT.Configuration.Tenants.Dto/TenantSettingsEditDto\", \"GES_GRT.Logging/WebLogAppService\", \"GES_GRT.Web/WebUrlService\", \"GES_GRT.Notifications/AppNotifier\", \"GES_GRT.Util/EnumJsonConverter\", \"GES_GRT.Extensions/EnumExtension\", \"GES_GRT.Friendships.Cache/UserFriendCacheSyncronizer\", \"GES_GRT.Authorization.Users/UserEmailer\", \"GES_GRT.Authorization.Users/UserAppService\", \"GES_GRT.Web.Controllers/TenantRegistrationController\", \"GES_GRT.Organizations/OrganizationUnitAppService\", \"GES_GRT.Authorization.Users.Profile/ProfileAppService\", \"GES_GRT.Authorization.Roles/RoleAppService\", \"GES_GRT.GRT.LineItems/LineItem\", \"GES_GRT.MultiTenancy/TenantAppService\", \"GES_GRT.MultiTenancy/TenantAppService\", \"GES_GRT.Authorization.Users/UserAppService\", \"GES_GRT.Authorization.Users/UserAppService\", \"GES_GRT.Localization/LanguageAppService\", \"GES_GRT.WebApi.Controllers/ImportClientIncomeComponentsController\", \"GES_GRT.WebApi.Controllers/ImportExchangeRatesController\", \"GES_GRT.WebApi.Controllers/ImportIncomeComponentsController\", \"GES_GRT.WebApi.Controllers/ImportLineItemsController\", \"GES_GRT.Web.Controllers/ProfileController\", \"GES_GRT.WebApi.Controllers.Dto/UploadResultDto\", \"GES_GRT.WebApi.Controllers/TemplateFileController\", \"GES_GRT.Web.Views/UrlChecker\", \"GES_GRT.Web.Controllers/AccountController\", \"GES_GRT.WebApi.Controllers/ImportEmployeesController\", \"GES_GRT.Web.Chat.SignalR/SignalRChatCommunicator\", \"GES_GRT.Web.Controllers/TenantRegistrationController\", \"GES_GRT.Web.Controllers/AccountController\", \"GES_GRT.IO/AppFileHelper\", \"GES_GRT.LineItems/LineItemAppService\", \"GES_GRT.LineItems/LineItemAppService\", \"GES_GRT.ReconciliationComments/ReconciliationCommentAppService\", \"GES_GRT.Web.Controllers/AccountController\", \"GES_GRT.Web.Controllers/TenantRegistrationController\", \"GES_GRT.Web.App.Startup/AppBundleConfig\", \"GES_GRT.Web.Bundling/CommonBundleConfig\", \"GES_GRT.Web.Bundling/FrontEndBundleConfig\", \"GES_GRT.Web.Areas.Mpa.Startup/MpaBundleConfig\", \"GES_GRT.Web.Routing/RouteConfig\", \"GES_GRT.Web.Controllers/AccountController\", \"GES_GRT.Web.Controllers/AccountController\", \"GES_GRT.Friendships.Cache/UserFriendsCache\", \"GES_GRT.Organizations/OrganizationUnitAppService\", \"GES_GRT.Web.Controllers/AccountController\", \"GES_GRT.Web.Controllers/AccountController\", \"GES_GRT.Util/EnumJsonConverter\", \"GES_GRT.Util/Range\", \"GES_GRT.MultiTenancy.Demo/RandomUserGenerator\", \"GES_GRT.Web.Controllers/ProfileController\", \"GES_GRT.WebApi.Controllers/ImportEmployeesController\", \"GES_GRT.Periods/PeriodAppService\", \"GES_GRT.WebApi.Controllers/ImportIncomeComponentsController\", \"GES_GRT.WebApi.Controllers/ImportIncomeComponentsController\", \"GES_GRT.WebApi.Controllers/ImportLineItemsController\", \"GES_GRT.WebApi.Controllers/ImportLineItemsController\", \"GES_GRT.WebApi.Controllers/ImportEmployeesController\", \"GES_GRT.Periods/PeriodAppService\", \"GES_GRT.MultiTenancy/TenantAppService\", \"GES_GRT.Authorization/PermissionChecker\", \"GES_GRT.Web/GES_GRTWebModule\", \"GES_GRT/GES_GRTApplicationModule\", \"GES_GRT/GES_GRTCoreModule\", \"GES_GRT.WebApi/GES_GRTWebApiModule\", \"GES_GRT.Web/GES_GRTWebModule\", \"GES_GRT.Web.Bundling/CssRewriteUrlWithVirtualDirectoryTransform\", \"GES_GRT.Authorization.Users.Profile/ProfileAppService\", \"GES_GRT.Web.Areas.Mpa.Controllers/ProfileController\", \"GES_GRT.Web.Areas.Mpa.Controllers/UsersController\", \"GES_GRT.Authorization.Users/UserAppService\", \"GES_GRT.Web/MvcApplication\", \"GES_GRT.Authorization.Roles/Role\", \"GES_GRT.Employees.Exporting/EmployeeListExcelExporter\", \"GES_GRT.Util/Range\", \"GES_GRT.Util/LineItemUtilities\", \"GES_GRT.Localization/LanguageAppService\", \"GES_GRT.Employees/EmployeeAppService\", \"GES_GRT.Employees.Exporting/EmployeeListExcelExporter\", \"GES_GRT.Editions/EditionAppService\", \"GES_GRT.Web.App.Startup/AppNavigationProvider\", \"GES_GRT.LineItems/LineItemAppService\", \"GES_GRT.Web.Navigation/FrontEndNavigationProvider\", \"GES_GRT.Notifications/NotificationAppService\", \"GES_GRT.Authorization/AppAuthorizationProvider\", \"GES_GRT.LineItems/LineItemAppService\", \"GES_GRT.Web/MvcApplication\", \"GES_GRT.Employees/EmployeeAppService\", \"GES_GRT.Employees.Exporting/EmployeeListExcelExporter\", \"GES_GRT.Web.Areas.Mpa.Controllers/SettingsController\", \"GES_GRT.Web.Areas.Mpa.Controllers/NotificationsController\", \"GES_GRT.Web.Areas.Mpa.Startup/MpaNavigationProvider\", \"GES_GRT.Util/LineItemUtilities\", \"GES_GRT.Web/MvcApplication\", \"GES_GRT.Authorization.Users/UserEmailer\", \"GES_GRT.Authorization.Roles/RoleAppService\", \"GES_GRT.Authorization.Roles/RoleManager\", \"GES_GRT.DataExporting.Excel.EpPlus/EpPlusExcelExporterBase\", \"GES_GRT.Storage/DbBinaryObjectManager\", \"GES_GRT.WebApi.Controllers/ImportClientIncomeComponentsController\", \"GES_GRT.WebApi.Controllers/ImportEmployeesController\", \"GES_GRT.WebApi.Controllers/TemplateFileController\", \"GES_GRT.Web.Controllers/AccountController\", \"GES_GRT.Configuration.Host/HostSettingsAppService\", \"GES_GRT.WebApi.Controllers/ImportIncomeComponentsController\", \"GES_GRT.Web.Chat.SignalR/SignalRChatCommunicator\", \"GES_GRT.Web.Controllers/AccountController\", \"GES_GRT.Web.Chat.SignalR/SignalRChatCommunicator\", \"GES_GRT.Web.Chat.SignalR/ChatHub\", \"GES_GRT.Chat/ChatMessageManager\", \"GES_GRT.Notifications/AppNotifier\", \"GES_GRT.Web.Chat.SignalR/SignalRChatCommunicator\", \"GES_GRT.Web.Controllers/AccountController\", \"GES_GRT.WebApi.Controllers/ImportLineItemsController\", \"GES_GRT.Periods/PeriodAppService\", \"GES_GRT.Extensions/EnumExtension\", \"GES_GRT.Util/LineItemUtilities\", \"GES_GRT.GeneralComments/GeneralCommentAppService\", \"GES_GRT.IncomeComponents/IncomeComponentAppService\", \"GES_GRT.Localization/LanguageAppService\", \"GES_GRT.LineItems/LineItemAppService\", \"GES_GRT.Authorization.Roles/RoleAppService\", \"GES_GRT.Authorization.Users/UserAppService\", \"GES_GRT.Organizations/OrganizationUnitAppService\", \"GES_GRT.Editions/EditionAppService\", \"GES_GRT.Web.Areas.Mpa.Models.OrganizationUnits/CreateOrganizationUnitModalViewModel\", \"GES_GRT.ReconciliationComments/ReconciliationCommentAppService\", \"GES_GRT.Authorization.Roles/RoleAppService\", \"GES_GRT.Util/ExcelUtilities\", \"GES_GRT.Employees/EmployeeAppService\", \"GES_GRT.MultiTenancy/TenantAppService\", \"GES_GRT.Authorization.Users/User\", \"GES_GRT.Web.Areas.Mpa.Models.Tenants/CreateTenantViewModel\", \"GES_GRT.Authorization.Users/User\", \"GES_GRT.Web/Startup\", \"GES_GRT.ClientIncomeComponentGroups/ClientIncomeComponentGroupAppService\", \"GES_GRT.Clients/ClientAppService\", \"GES_GRT.Editions/EditionAppService\", \"GES_GRT.Employees/EmployeeAppService\", \"GES_GRT.Authorization/AbpLoginResultTypeHelper\", \"GES_GRT.Web/Startup\", \"GES_GRT.Localization/LanguageAppService\", \"GES_GRT.LineItems/LineItemAppService\", \"GES_GRT/CustomDtoMapper\", \"GES_GRT.ClientExchangeRates/ClientExchangeRateAppService\", \"GES_GRT/CustomDtoMapper\", \"GES_GRT.Web.Areas.Mpa.Controllers/OrganizationUnitsController\", \"GES_GRT.ClientIncomeComponents/ClientIncomeComponentAppService\", \"GES_GRT.Web.Areas.Mpa.Controllers/EditionsController\", \"GES_GRT.Web.Areas.Mpa.Controllers/RolesController\", \"GES_GRT.Web.Areas.Mpa.Controllers/UsersController\", \"GES_GRT.Web.Areas.Mpa.Models.Roles/CreateOrEditRoleModalViewModel\", \"GES_GRT.Web.Areas.Mpa.Models.Users/CreateOrEditUserModalViewModel\", \"GES_GRT.Web.Areas.Mpa.Controllers/TenantsController\", \"GES_GRT.MultiTenancy.Demo/RandomUserGenerator\", \"GES_GRT.MultiTenancy/TenantManager\", \"GES_GRT.DataExporting.Excel.EpPlus/EpPlusExcelExporterBase\", \"GES_GRT.Employees.Exporting/EmployeeListExcelExporter\", \"GES_GRT.Employees.Dto/EmployeeOutputDto\", \"GES_GRT.Util/EnumJsonConverter\", \"GES_GRT.Extensions/DynamicQueryableExtensions+SimpleTypeComparer\", \"GES_GRT.Util/ExcelData\", \"GES_GRT.ExchangeRates/ExchangeRateAppService\", \"GES_GRT.WebApi.Helpers/TextResult\", \"GES_GRT.Employees.Dto/EmployeeInputDto\", \"GES_GRT.Web.Controllers.Results/ChallengeResult\", \"GES_GRT.Authorization.Users.Exporting/UserListExcelExporter\", \"GES_GRT.Employees.Exporting/EmployeeListExcelExporter\", \"GES_GRT.Web.Controllers/AccountController\", \"GES_GRT.Web.Controllers/AccountController\", \"GES_GRT.Localization/FamFamFamFlagsHelper\", \"GES_GRT.Web.Areas.Mpa.Controllers/TenantsController\", \"GES_GRT.Web.Controllers/FileController\", \"GES_GRT.Auditing.Exporting/AuditLogListExcelExporter\", \"GES_GRT.Employees/EmployeeAppService\", \"GES_GRT.Web.Controllers/AccountController\", \"GES_GRT.Web.Areas.Mpa.Controllers/LanguagesController\", \"GES_GRT.Web.Bundling/CssRewriteUrlWithVirtualDirectoryTransform\", \"GES_GRT.Storage/DbBinaryObjectManager\", \"GES_GRT.Extensions/DecimalPrecision\", \"GES_GRT.Storage/DbBinaryObjectManager\", \"GES_GRT.Clients/ClientAppService\", \"GES_GRT.ClientExchangeRates/ClientExchangeRateAppService\", \"GES_GRT.ClientIncomeComponents/ClientIncomeComponentAppService\", \"GES_GRT.ClientIncomeComponentGroups/ClientIncomeComponentGroupAppService\", \"GES_GRT.ClientIncomeComponentGroups/ClientIncomeComponentGroupAppService\", \"GES_GRT.GeneralComments/GeneralCommentAppService\", \"GES_GRT.IncomeComponents/IncomeComponentAppService\", \"GES_GRT.LineItems/LineItemAppService\", \"GES_GRT.LineItems/LineItemAppService\", \"GES_GRT.Clients/ClientAppService\", \"GES_GRT.ClientExchangeRates/ClientExchangeRateAppService\", \"GES_GRT.GeneralComments/GeneralCommentAppService\", \"GES_GRT.IncomeComponents/IncomeComponentAppService\", \"GES_GRT.LineItems/LineItemAppService\", \"GES_GRT.Dto/FileDto\", \"GES_GRT.ClientIncomeComponentGroups/ClientIncomeComponentGroupAppService\", \"GES_GRT.ClientExchangeRates/ClientExchangeRateAppService\", \"GES_GRT.Web.Auth/ApplicationSignInManager\", \"GES_GRT.Web/MvcApplication\", \"GES_GRT.Web/MvcApplication\", \"GES_GRT.Authorization.Users/UserLinkManager\", \"GES_GRT.Runtime.Session/AspNetZeroAbpSession\", \"GES_GRT.Auditing/AuditLogAppService\", \"GES_GRT.WebApi.Controllers/AccountController\", \"GES_GRT.Notifications/AppNotifier\", \"GES_GRT.Employees/EmployeeAppService\", \"GES_GRT.Storage/BinaryObject\", \"GES_GRT.Friendships/FriendshipAppService\", \"GES_GRT.Employees/EmployeeAppService\", \"GES_GRT.Clients/ClientAppService\", \"GES_GRT.IncomeComponents/IncomeComponentAppService\", \"GES_GRT.Web.Controllers.Results/ChallengeResult\", \"GES_GRT.Web.Controllers.Results/ChallengeResult\", \"GES_GRT.Web.Controllers/AccountController\", \"GES_GRT.Authorization.Users.Profile/ProfileAppService\", \"GES_GRT.Authorization.Ldap/AppLdapAuthenticationSource\", \"GES_GRT.Authorization/AppAuthorizationProvider\", \"GES_GRT.Friendships/FriendshipManager\", \"GES_GRT.WebApi.Controllers/AccountController\", \"GES_GRT.WebApi.Controllers/AccountController\", \"GES_GRT.Web.Controllers/AccountController\", \"GES_GRT.Web.App.Startup/AppBundleConfig\", \"GES_GRT.Web.Areas.Mpa.Startup/MpaBundleConfig\", \"GES_GRT.Web.App.Startup/AppBundleConfig\", \"GES_GRT.Authorization/AppAuthorizationProvider\", \"GES_GRT.Friendships.Cache/UserFriendsCache\", \"GES_GRT.Web.Bundling/FrontEndBundleConfig\", \"GES_GRT.DataExporting.Excel.EpPlus/EpPlusExcelExporterBase\", \"GES_GRT.DataExporting.Excel.EpPlus/EpPlusExcelExporterBase\", \"GES_GRT.LineItems/LineItemAppService\", \"GES_GRT.Web.Areas.Mpa.Startup/MpaBundleConfig\", \"GES_GRT.DataExporting.Excel.EpPlus/EpPlusExcelExporterBase\", \"GES_GRT.Organizations/OrganizationUnitAppService\", \"GES_GRT.Web.Bundling/FrontEndBundleConfig\", \"GES_GRT.Web.Areas.Mpa.Controllers/ProfileController\", \"GES_GRT.Web.Controllers/ProfileController\", \"GES_GRT.Web.Chat.SignalR/ChatHub\", \"GES_GRT.ClientIncomeComponents.Dto/ClientIncomeComponentOutputDto\", \"GES_GRT.Clients.Dto/ClientInputDto\", \"GES_GRT.Clients.Dto/ClientOutputDto\", \"GES_GRT.Common/CommonLookupAppService\", \"GES_GRT.Util/ExcelUtilities\", \"GES_GRT.Web/Startup\", \"GES_GRT.Authorization.Roles/AppRoleConfig\", \"GES_GRT.ClientIncomeComponents.Dto/ClientIncomeComponentInputDto\", \"GES_GRT.WebApi/GES_GRTWebApiModule\", \"GES_GRT.Friendships.Cache/FriendCacheItemExtensions\", \"GES_GRT.Auditing/AuditLogAppService\", \"GES_GRT.Settings/CountryAppService\", \"GES_GRT.LineItems/LineItemAppService\", \"GES_GRT.Util/ExcelUtilities\", \"GES_GRT.Util/ImportUtilities\", \"GES_GRT.Web.Controllers/GALoginController\", \"GES_GRT.WebApi/GES_GRTWebApiModule\", \"GES_GRT.ClientIncomeComponentGroups.Dto/ClientIncomeComponentGroupSuperSimpleDto\", \"GES_GRT.ClientIncomeComponentGroups.Dto/ClientIncomeComponentGroupSimpleDto\", \"GES_GRT.ClientIncomeComponentGroups.Dto/ClientIncomeComponentGroupInputDto\", \"GES_GRT.Chat/ChatMessage\", \"GES_GRT.Friendships/ChatUserStateWatcher\", \"GES_GRT.Chat/ChatFeatureChecker\", \"GES_GRT.Chat/ChatFeatureChecker\", \"GES_GRT/GES_GRTAppServiceBase\", \"GES_GRT.Web.Controllers/GES_GRTControllerBase\", \"GES_GRT.MultiTenancy/TenantManager\", \"GES_GRT.Localization/LanguageAppService\", \"GES_GRT.LineItems/LineItemAppService\", \"GES_GRT.Authorization.Users.Profile/ProfileAppService\", \"GES_GRT.Web.Controllers/AccountController\", \"GES_GRT.Caching/CachingAppService\", \"GES_GRT.GRT.Clients/Client\", \"GES_GRT.Clients/ClientAppService\", \"GES_GRT.ClientExchangeRates/ClientExchangeRateAppService\", \"GES_GRT.GRT.ClientIncomeComponents/ClientIncomeComponent\", \"GES_GRT.ClientIncomeComponents.Dto/ClientIncomeComponentExportOutputDto\", \"GES_GRT.ClientIncomeComponents/ClientIncomeComponentAppService\", \"GES_GRT.Dto/FileDto\", \"GES_GRT.Organizations/OrganizationUnitAppService\", \"GES_GRT.Common/CommonLookupAppService\", \"GES_GRT.WebApi.Helpers/ApiReflectionHelper\", \"GES_GRT.ClientExchangeRates/ClientExchangeRateAppService\", \"GES_GRT.ClientExchangeRates/ClientExchangeRateAppService\", \"GES_GRT.IncomeComponents/IncomeComponentAppService\", \"GES_GRT.Util/ImportUtilities\", \"GES_GRT.Util/ImportUtilities\", \"GES_GRT.Util/ExcelUtilities\", \"GES_GRT.IncomeComponents/IncomeComponentAppService\", \"GES_GRT.Util/ImportUtilities\", \"GES_GRT.Util/ImportUtilities\", \"GES_GRT.Util/ImportUtilities\", \"GES_GRT.Clients/ClientAppService\", \"GES_GRT.Friendships.Cache/UserFriendsCache\", \"GES_GRT.Auditing/AuditLogAppService\", \"GES_GRT.WebApi.Helpers/ApiReflectionHelper\", \"GES_GRT.Localization/LanguageAppService\", \"GES_GRT.Configuration.Host/HostSettingsAppService\", \"GES_GRT.Localization.Dto/GetLanguagesOutput\", \"GES_GRT.Authorization.Permissions/PermissionAppService\", \"GES_GRT.Employees/EmployeeAppService\", \"GES_GRT.Logging/WebLogAppService\", \"GES_GRT.LineItems/LineItemAppService\", \"GES_GRT.Caching/CachingAppService\", \"GES_GRT.LineItems/LineItemAppService\", \"GES_GRT.Friendships.Cache/UserFriendsCache\", \"GES_GRT.ClientIncomeComponents/ClientIncomeComponentAppService\", \"GES_GRT.ClientIncomeComponentGroups/ClientIncomeComponentGroupAppService\", \"GES_GRT.Extensions/DynamicQueryableExtensions+SimpleTypeComparer\", \"GES_GRT.Timing/TimeZoneService\", \"GES_GRT.Util/EnumJsonConverter\", \"GES_GRT.Extensions/EnumExtension\", \"GES_GRT.Extensions/EnumExtension\", \"GES_GRT.Editions/EditionAppService\", \"GES_GRT.Editions/EditionAppService\", \"GES_GRT.Editions/EditionAppService\", \"GES_GRT.Employees/EmployeeAppService\", \"GES_GRT.Web.MultiTenancy/TenantIdAccessor\", \"GES_GRT.Employees/EmployeeAppService\", \"GES_GRT.Employees/EmployeeAppService\", \"GES_GRT.Employees/EmployeeAppService\", \"GES_GRT.ExchangeRates/ExchangeRateAppService\", \"GES_GRT.Util/LineItemUtilities\", \"GES_GRT.Authorization.Users/UserAppService\", \"GES_GRT.Web.MultiTenancy/SubdomainTenancyNameFinder\", \"GES_GRT.Services/ExchangeRateService\", \"GES_GRT.Extensions/EnumExtension\", \"GES_GRT.Extensions/EnumExtension\", \"GES_GRT.Extensions/EnumExtension\", \"GES_GRT.WebApi.Helpers/ApiReflectionHelper\", \"GES_GRT.Web.Controllers/ProfileController\", \"GES_GRT.Friendships/FriendshipManager\", \"GES_GRT.GeneralComments/GeneralCommentAppService\", \"GES_GRT.GeneralComments/GeneralCommentAppService\", \"GES_GRT.Web.Controllers/AccountController\", \"GES_GRT.Web.Auth/TwitterEmailRetriever\", \"GES_GRT.Auditing/AuditLogAppService\", \"GES_GRT.MultiTenancy.Demo/RandomUserGenerator\", \"GES_GRT.Web.Bundling/ScriptPaths\", \"GES_GRT.Web.Controllers/AccountController\", \"GES_GRT.WebApi.Controllers/AccountController\", \"GES_GRT.Web.Controllers/TenantRegistrationController\", \"GES_GRT.Tenants.Dashboard/TenantDashboardAppService\", \"GES_GRT.Web.Views/GES_GRTWebViewPageBase<TModel>\", \"GES_GRT.Extensions/DynamicQueryableExtensions\", \"GES_GRT/GES_GRTServiceBase\", \"GES_GRT.Notifications.Dto/GetNotificationsOutput\", \"GES_GRT/GES_GRTDomainServiceBase\", \"GES_GRT.Storage/DbBinaryObjectManager\", \"GES_GRT.Web.Controllers/GES_GRTControllerBase\", \"GES_GRT.GeneralComments/GeneralCommentAppService\", \"GES_GRT/GES_GRTAppServiceBase\", \"GES_GRT.Web.Controllers/GALoginController\", \"GES_GRT.GRT.Employees/Employee\", \"GES_GRT.Friendships/FriendshipManager\", \"GES_GRT.Util/LineItemUtilities\", \"GES_GRT.Friendships/Friendship\", \"GES_GRT.Friendships/Friendship\", \"GES_GRT.Authorization.Users.Profile/ProfileAppService\", \"GES_GRT.Web.Controllers/AccountController\", \"GES_GRT.Web.Bundling/BundleExtensions\", \"GES_GRT.Web.Areas.Mpa.Controllers/LayoutController\", \"GES_GRT.Common/CommonLookupAppService\", \"GES_GRT.Web.Controllers/AccountController\", \"GES_GRT.WebApi/GES_GRTApiControllerBase\", \"GES_GRT.Web.Bundling/ScriptPaths\", \"GES_GRT.Common/CommonLookupAppService\", \"GES_GRT.Web.Helpers/CustomMultipartFormDataStreamProvider\", \"GES_GRT.Web.Bundling/ScriptPaths\", \"GES_GRT.WebApi.Helpers/ApiReflectionHelper\", \"GES_GRT.Web.Bundling/ScriptPaths\", \"GES_GRT.LineItems/LineItemAppService\", \"GES_GRT.MultiTenancy.Demo/RandomUserGenerator\", \"GES_GRT.Authorization.Users/UserLinkAppService\", \"GES_GRT.WebApi.Helpers/ApiReflectionHelper\", \"GES_GRT.LineItems/LineItemAppService\", \"GES_GRT.Util/LineItemUtilities\", \"GES_GRT.ClientIncomeComponentGroups/ClientIncomeComponentGroupAppService\", \"GES_GRT.GRT.ClientIncomeComponentGroups/ClientIncomeComponentGroup\", \"GES_GRT.Web.MultiTenancy/TenantIdAccessor\", \"GES_GRT.ClientIncomeComponents/ClientIncomeComponentAppService\", \"GES_GRT.Web.Controllers/TenantRegistrationController\", \"GES_GRT.Configuration.Tenants/TenantSettingsAppService\", \"GES_GRT.Web.Areas.Mpa.Controllers/TenantsController\", \"GES_GRT.Timing/TimingAppService\", \"GES_GRT.Storage/BinaryObject\", \"GES_GRT.Localization.Dto/GetLanguageForEditOutput\", \"GES_GRT.Web.Controllers/ProfileController\", \"GES_GRT.Web.Controllers/AccountController\", \"GES_GRT.Caching/CachingAppService\", \"GES_GRT.Common/CommonLookupAppService\", \"GES_GRT.Web.MultiTenancy/SubdomainTenancyNameFinder\", \"GES_GRT.LineItems/LineItemAppService\", \"GES_GRT.Web.Controllers/AccountController\", \"GES_GRT.Web.Controllers/ProfileController\", \"GES_GRT.Web.Areas.Mpa.Models.Layout/FooterViewModel\", \"GES_GRT.Web.Areas.Mpa.Controllers/LayoutController\", \"GES_GRT.Authorization.Permissions/PermissionManagerExtensions\", \"GES_GRT.MultiTenancy.Demo/TenantDemoDataBuilder\", \"GES_GRT.Web.Controllers/AccountController\", \"GES_GRT.Util/LineItemUtilities\", \"GES_GRT.Organizations/OrganizationUnitAppService\", \"GES_GRT.Chat/ChatFeatureChecker\", \"GES_GRT.Chat/ChatMessage\", \"GES_GRT.Web.Bundling/ScriptPaths\", \"GES_GRT.Web.Areas.Mpa.Controllers/LayoutController\", \"GES_GRT.Chat/ChatMessageManager\", \"GES_GRT.WebApi.Controllers/ImportEmployeesController\", \"GES_GRT.GeneralComments/GeneralCommentAppService\", \"GES_GRT.WebApi.Controllers/ImportExchangeRatesController\", \"GES_GRT.Security/PasswordComplexityChecker\", \"GES_GRT.Chat/ChatAppService\", \"GES_GRT.Util/ExcelUtilities\", \"GES_GRT.Chat/ChatMessage\", \"GES_GRT.Authorization.Users/SwitchToLinkedAccountCacheManagerExtensions\", \"GES_GRT.LineItems/LineItemAppService\", \"GES_GRT.WebApi.Helpers/TextResult\", \"GES_GRT.MultiTenancy.Demo/TenantDemoDataBuilder\", \"GES_GRT.Extensions/EnumExtension\", \"GES_GRT.Employees/EmployeeAppService\", \"GES_GRT.Notifications/NotificationAppService\", \"GES_GRT.Util/LineItemUtilities\", \"GES_GRT.Authorization.Users/UserEmailer\", \"GES_GRT.Auditing.Exporting/AuditLogListExcelExporter\", \"GES_GRT.Extensions/EnumExtension\", \"GES_GRT.Caching/CachingAppService\", \"GES_GRT.Extensions/EnumExtension\", \"GES_GRT.Localization/LanguageAppService\", \"GES_GRT.Localization.Dto/GetLanguagesOutput\", \"GES_GRT.Authorization.Users/UserManager\", \"GES_GRT.Organizations/OrganizationUnitAppService\", \"GES_GRT.Extensions/EnumExtension\", \"GES_GRT.Friendships/FriendshipAppService\", \"GES_GRT.Web.Chat.SignalR/SignalRChatCommunicator\", \"GES_GRT.MultiTenancy.Demo/TenantDemoDataBuilder\", \"GES_GRT.Extensions/DynamicQueryableExtensions\", \"GES_GRT.Web.Controllers/FileController\", \"GES_GRT.WebApi.Controllers/ImportClientIncomeComponentsController\", \"GES_GRT.WebApi.Controllers/ImportClientIncomeComponentsController\", \"GES_GRT.Authorization.Users/UserAppService\", \"GES_GRT.MultiTenancy/TenantAppService\", \"GES_GRT.LineItems/LineItemAppService\", \"GES_GRT.Localization/LanguageAppService\", \"GES_GRT.IO/AppFileHelper\", \"GES_GRT.Web.App.Startup/AppNavigationProvider\", \"GES_GRT.Web.Controllers/ErrorController\", \"GES_GRT/GES_GRTCoreModule\", \"GES_GRT.Authorization/AppAuthorizationProvider\", \"GES_GRT.Employees/EmployeeAppService\", \"GES_GRT.Currencies/CurrencyAppService\", \"GES_GRT.Web/Startup\", \"GES_GRT.Web/Startup\", \"GES_GRT.Web.Controllers/TenantRegistrationController\", \"GES_GRT.Util/LineItemUtilities\", \"GES_GRT.WebApi.Controllers/ImportEmployeesController\", \"GES_GRT.Extensions/EnumExtension\", \"GES_GRT.Web.Controllers/AccountController\", \"GES_GRT.Features/AppFeatureProvider\", \"GES_GRT.Validation/ValidationHelper\", \"GES_GRT.Clients/ClientAppService\", \"GES_GRT.ClientIncomeComponents/ClientIncomeComponentAppService\", \"GES_GRT.LineItems/LineItemAppService\", \"GES_GRT.Chat/ChatAppService\", \"GES_GRT.Editions/FeatureValueStore\", \"GES_GRT.Web.Areas.Mpa.Controllers/ProfileController\", \"GES_GRT.LineItems/LineItemAppService\", \"GES_GRT.Friendships/FriendshipAppService\", \"GES_GRT.ClientIncomeComponents.Dto/GetClientIncomeComponentsInput\", \"GES_GRT.Clients.Dto/GetClientsInput\", \"GES_GRT.GeneralComments.Dto/GetGeneralCommentsInput\", \"GES_GRT.Localization/GetLanguageTextsInput\", \"GES_GRT.Dto/PagedAndSortedInputDto\", \"GES_GRT.LineItems.Dto/LineItemReconciliationOutputDto\", \"GES_GRT.Web.Areas.Mpa.Controllers/EditionsController\", \"GES_GRT.Notifications/NotificationAppService\", \"GES_GRT.Web.Areas.Mpa.Controllers/NotificationsController\", \"GES_GRT.GRT.LineItems/LineItem\", \"GES_GRT.Web.Areas.Mpa.Controllers/OrganizationUnitsController\", \"GES_GRT.LineItems/LineItemAppService\", \"GES_GRT.Web.Controllers/LayoutController\", \"GES_GRT.Employees/EmployeeAppService\", \"GES_GRT.Web.Bundling/AsIsBundleOrderer\", \"GES_GRT.Organizations/OrganizationUnitAppService\", \"GES_GRT.GRT.Employees/Employee\", \"GES_GRT.Util/ExcelUtilities\", \"GES_GRT.Util/LineItemUtilities\", \"GES_GRT/GES_GRTCoreModule\", \"GES_GRT.IncomeComponents.Dto/IncomeComponentOutputDto\", \"GES_GRT.Web.Chat.SignalR/SignalRChatCommunicator\", \"GES_GRT.IncomeComponents.Dto/IncomeComponentInputDto\", \"GES_GRT.DataExporting.Excel.EpPlus/EpPlusExcelExporterBase\", \"GES_GRT.IncomeComponents/IncomeComponentAppService\", \"GES_GRT.Employees.Exporting/EmployeeListExcelExporter\", \"GES_GRT.Web.MultiTenancy/SubdomainTenancyNameFinder\", \"GES_GRT/GES_GRTAppServiceBase\", \"GES_GRT.Employees.Exporting/EmployeeListExcelExporter\", \"GES_GRT.WebApi.Controllers/ImportLineItemsController\", \"GES_GRT.Friendships/FriendshipManager\", \"GES_GRT.Web.MultiTenancy/TenantIdAccessor\", \"GES_GRT.Clients/ClientAppService\", \"GES_GRT.WebApi.Controllers/ImportExchangeRatesController\", \"GES_GRT.Features/AppFeatureProvider\", \"GES_GRT.Employees.Exporting/EmployeeListExcelExporter\", \"GES_GRT/GES_GRTAppServiceBase\", \"GES_GRT.ExchangeRates/ExchangeRateAppService\", \"GES_GRT.WebApi.Controllers/ImportEmployeesController\", \"GES_GRT.Auditing/AuditLogAppService\", \"GES_GRT.Notifications/AppNotificationProvider\", \"GES_GRT.MultiTenancy.Demo/TenantDemoDataBuilder\", \"GES_GRT.WebApi.Controllers/ImportIncomeComponentsController\", \"GES_GRT.Organizations/OrganizationUnitAppService\", \"GES_GRT.Friendships/FriendshipAppService\", \"GES_GRT.GeneralComments/GeneralCommentAppService\", \"GES_GRT.Friendships/ChatUserStateWatcher\", \"GES_GRT.Util/ImportUtilities\", \"GES_GRT.Employees/EmployeeAppService\", \"GES_GRT.Friendships.Cache/UserFriendsCache\", \"GES_GRT.Authorization.Roles/Role\", \"GES_GRT.Authorization.Roles/Role\", \"GES_GRT.ClientIncomeComponents/ClientIncomeComponentAppService\", \"GES_GRT.Web.Areas.Mpa.Controllers/RolesController\", \"GES_GRT.Chat/ChatMessageManager\", \"GES_GRT.Clients/ClientAppService\", \"GES_GRT.Friendships/FriendshipAppService\", \"GES_GRT.Web.Controllers/AccountController\", \"GES_GRT.Web.Areas.Mpa.Controllers/LanguagesController\", \"GES_GRT.Util/ExcelUtilities\", \"GES_GRT.Web.Areas.Mpa.Models.Languages/CreateOrEditLanguageModalViewModel\", \"GES_GRT.Web.Areas.Mpa.Models.Editions/CreateOrEditEditionModalViewModel\", \"GES_GRT.Util/ExcelUtilities\", \"GES_GRT.Util/LineItemUtilities\", \"GES_GRT.Settings/CountryAppService\", \"GES_GRT.Localization/LanguageAppService\", \"GES_GRT.Authorization.Users/UserEmailer\", \"GES_GRT.Web/Startup\", \"GES_GRT.Util/ExcelUtilities\", \"GES_GRT.Util/ExcelUtilities\", \"GES_GRT.Web.Controllers\", \"GES_GRT.Authorization\", \"GES_GRT.Web.Controllers\", \"GES_GRT.WebApi.Controllers\", \"GES_GRT.WebApi.Helpers\", \"GES_GRT.Authorization\", \"GES_GRT.Web.App.Startup\", \"GES_GRT.Features\", \"GES_GRT.IO\", \"GES_GRT.Authorization.Ldap\", \"GES_GRT.Web.App.Startup\", \"GES_GRT.Notifications\", \"GES_GRT.Notifications\", \"GES_GRT.Authorization.Roles\", \"GES_GRT.Configuration\", \"GES_GRT.Web.Controllers\", \"GES_GRT.Web.Auth\", \"GES_GRT.Web.Bundling\", \"GES_GRT.Runtime.Session\", \"GES_GRT.Auditing\", \"GES_GRT.Auditing.Exporting\", \"GES_GRT.Web.Areas.Mpa.Controllers\", \"GES_GRT.Storage\", \"GES_GRT.Web.Bundling\", \"GES_GRT.Caching\", \"GES_GRT.Web.Controllers.Results\", \"GES_GRT.Chat\", \"GES_GRT.Chat\", \"GES_GRT.Web.Chat.SignalR\", \"GES_GRT.Chat\", \"GES_GRT.Chat\", \"GES_GRT.Friendships\", \"GES_GRT.GRT.Clients\", \"GES_GRT.Clients\", \"GES_GRT.ClientExchangeRates\", \"GES_GRT.GRT.ClientIncomeComponents\", \"GES_GRT.ClientIncomeComponents\", \"GES_GRT.ClientIncomeComponents.Dto\", \"GES_GRT.GRT.ClientIncomeComponentGroups\", \"GES_GRT.ClientIncomeComponentGroups\", \"GES_GRT.ClientIncomeComponentGroups.Dto\", \"GES_GRT.ClientIncomeComponentGroups.Dto\", \"GES_GRT.ClientIncomeComponentGroups.Dto\", \"GES_GRT.ClientIncomeComponents.Dto\", \"GES_GRT.ClientIncomeComponents.Dto\", \"GES_GRT.Clients.Dto\", \"GES_GRT.Clients.Dto\", \"GES_GRT.Web.Bundling\", \"GES_GRT.Web.Areas.Mpa.Controllers\", \"GES_GRT.Common\", \"GES_GRT.Settings\", \"GES_GRT.Web.Areas.Mpa.Models.Editions\", \"GES_GRT.Web.Areas.Mpa.Models.Languages\", \"GES_GRT.Web.Areas.Mpa.Models.Roles\", \"GES_GRT.Web.Areas.Mpa.Models.Users\", \"GES_GRT.Web.Areas.Mpa.Models.OrganizationUnits\", \"GES_GRT.Web.Areas.Mpa.Models.Tenants\", \"GES_GRT.Web.Bundling\", \"GES_GRT.Currencies\", \"GES_GRT\", \"GES_GRT.Web.Helpers\", \"GES_GRT.Web.Areas.Mpa.Controllers\", \"GES_GRT.Storage\", \"GES_GRT.Extensions\", \"GES_GRT.Extensions\", \"GES_GRT.Extensions\", \"GES_GRT.Web.Areas.Mpa.Models.Tenants\", \"GES_GRT.Editions\", \"GES_GRT.Editions\", \"GES_GRT.Web.Areas.Mpa.Controllers\", \"GES_GRT.Emailing\", \"GES_GRT.GRT.Employees\", \"GES_GRT.Employees\", \"GES_GRT.Employees.Dto\", \"GES_GRT.Employees.Exporting\", \"GES_GRT.Employees.Dto\", \"GES_GRT.Extensions\", \"GES_GRT.Extensions\", \"GES_GRT.Util\", \"GES_GRT.DataExporting.Excel.EpPlus\", \"GES_GRT.Web.Controllers\", \"GES_GRT.Util\", \"GES_GRT.Util\", \"GES_GRT.ExchangeRates\", \"GES_GRT.Services\", \"GES_GRT.Localization\", \"GES_GRT.Editions\", \"GES_GRT.Web.Controllers\", \"GES_GRT.Dto\", \"GES_GRT.Web.Areas.Mpa.Models.Layout\", \"GES_GRT.Friendships.Cache\", \"GES_GRT.Friendships\", \"GES_GRT.Friendships\", \"GES_GRT.Friendships\", \"GES_GRT.Friendships\", \"GES_GRT.Web.Bundling\", \"GES_GRT.Web.Navigation\", \"GES_GRT.Web.Controllers\", \"GES_GRT.WebApi\", \"GES_GRT\", \"GES_GRT\", \"GES_GRT.Web.Controllers\", \"GES_GRT\", \"GES_GRT\", \"GES_GRT\", \"GES_GRT.WebApi\", \"GES_GRT.Web\", \"GES_GRT.Web.Views\", \"GES_GRT.GeneralComments\", \"GES_GRT.LineItems.Dto\", \"GES_GRT.Auditing.Dto\", \"GES_GRT.ClientExchangeRates.Dto\", \"GES_GRT.ClientIncomeComponentGroups.Dto\", \"GES_GRT.ClientIncomeComponents.Dto\", \"GES_GRT.Clients.Dto\", \"GES_GRT.LineItems.Dto\", \"GES_GRT.Employees.Dto\", \"GES_GRT.ExchangeRates.Dto\", \"GES_GRT.GeneralComments.Dto\", \"GES_GRT.IncomeComponents.Dto\", \"GES_GRT.Localization.Dto\", \"GES_GRT.Localization\", \"GES_GRT.Localization.Dto\", \"GES_GRT.LineItems.Dto\", \"GES_GRT.Authorization.Users.Dto\", \"GES_GRT.Notifications.Dto\", \"GES_GRT.Organizations.Dto\", \"GES_GRT.MultiTenancy.Dto\", \"GES_GRT.Chat.Dto\", \"GES_GRT.Authorization.Users.Dto\", \"GES_GRT.Web.Areas.Mpa.Models.Layout\", \"GES_GRT.Web.Models.Layout\", \"GES_GRT.Web.Areas.Mpa.Controllers\", \"GES_GRT.Web.Controllers\", \"GES_GRT.Configuration.Host\", \"GES_GRT.Web.Areas.Mpa.Controllers\", \"GES_GRT.Authorization.Impersonation\", \"GES_GRT.Authorization.Impersonation\", \"GES_GRT.WebApi.Controllers\", \"GES_GRT.WebApi.Controllers\", \"GES_GRT.WebApi.Controllers\", \"GES_GRT.WebApi.Controllers\", \"GES_GRT.WebApi.Controllers\", \"GES_GRT.Util\", \"GES_GRT.GRT.IncomeComponents\", \"GES_GRT.IncomeComponents\", \"GES_GRT.IncomeComponents.Dto\", \"GES_GRT.IncomeComponents.Dto\", \"GES_GRT.Localization\", \"GES_GRT.Web.Areas.Mpa.Controllers\", \"GES_GRT.Web.Areas.Mpa.Controllers\", \"GES_GRT.Web.Controllers\", \"GES_GRT.GRT.LineItems\", \"GES_GRT.LineItems\", \"GES_GRT.LineItems.Dto\", \"GES_GRT.LineItems.Dto\", \"GES_GRT.Util\", \"GES_GRT.Authorization.Users\", \"GES_GRT.Web.Areas.Mpa.Controllers\", \"GES_GRT.Chat.Dto\", \"GES_GRT.Web.Areas.Mpa.Models.Common.Modals\", \"GES_GRT.Web.Areas.Mpa\", \"GES_GRT.Web.Areas.Mpa.Startup\", \"GES_GRT.Web.Areas.Mpa.Startup\", \"GES_GRT.Web\", \"GES_GRT.Web.Areas.Mpa.Models.Profile\", \"GES_GRT.Auditing\", \"GES_GRT.Notifications\", \"GES_GRT.Web.Areas.Mpa.Controllers\", \"GES_GRT.Organizations\", \"GES_GRT.Web.Areas.Mpa.Controllers\", \"GES_GRT.Dto\", \"GES_GRT.Dto\", \"GES_GRT.Dto\", \"GES_GRT.Security\", \"GES_GRT.Periods\", \"GES_GRT.Authorization.Permissions\", \"GES_GRT.Authorization\", \"GES_GRT.Authorization.Permissions\", \"GES_GRT.Authorization.Users.Profile\", \"GES_GRT.Web.Areas.Mpa.Controllers\", \"GES_GRT.Web.Controllers\", \"GES_GRT.MultiTenancy.Demo\", \"GES_GRT.Util\", \"GES_GRT.ReconciliationComments\", \"GES_GRT.Web.Models.Account\", \"GES_GRT.Authorization.Roles\", \"GES_GRT.Authorization.Roles\", \"GES_GRT.Authorization.Roles\", \"GES_GRT.Authorization.Roles\", \"GES_GRT.Web.Areas.Mpa.Controllers\", \"GES_GRT.Web.Routing\", \"GES_GRT.Web.Bundling\", \"GES_GRT.Sessions\", \"GES_GRT.Web.Areas.Mpa.Controllers\", \"GES_GRT.Web.Chat.SignalR\", \"GES_GRT.Web\", \"GES_GRT.Web.MultiTenancy\", \"GES_GRT.Authorization.Users\", \"GES_GRT.Authorization.Users\", \"GES_GRT.Web.Models.Account\", \"GES_GRT.Util\", \"GES_GRT.WebApi.Controllers\", \"GES_GRT.MultiTenancy\", \"GES_GRT.MultiTenancy\", \"GES_GRT.Tenants.Dashboard\", \"GES_GRT.MultiTenancy.Demo\", \"GES_GRT.Web.Areas.Mpa.Models.Tenants\", \"GES_GRT.Web.MultiTenancy\", \"GES_GRT.MultiTenancy\", \"GES_GRT.Web.Controllers\", \"GES_GRT.Configuration.Tenants\", \"GES_GRT.Configuration.Tenants.Dto\", \"GES_GRT.Web.Areas.Mpa.Controllers\", \"GES_GRT.WebApi.Helpers\", \"GES_GRT.Timing\", \"GES_GRT.Timing\", \"GES_GRT.Web.Auth\", \"GES_GRT.Authorization.Users.Dto\", \"GES_GRT.WebApi.Controllers.Dto\", \"GES_GRT.Web.Views\", \"GES_GRT.Authorization.Users\", \"GES_GRT.Authorization.Users\", \"GES_GRT.Authorization.Users\", \"GES_GRT.Friendships.Cache\", \"GES_GRT.Friendships.Cache\", \"GES_GRT.Authorization.Users\", \"GES_GRT.Authorization.Users\", \"GES_GRT.Authorization.Users.Exporting\", \"GES_GRT.Authorization.Users\", \"GES_GRT.Authorization.Users\", \"GES_GRT.Web.Areas.Mpa.Models.Users\", \"GES_GRT.Authorization.Users\", \"GES_GRT.Web.Areas.Mpa.Controllers\", \"GES_GRT.Validation\", \"GES_GRT.Logging\", \"GES_GRT.Web\", \"GES_GRT.Web.Areas.Mpa.Controllers\", \"\", \"\", \"\", \"\", \"\", \"\", \"\", \"\", \"\", \"\", \"\", \"\", \"\", \"\", \"\", \"\", \"\", \"\", \"\", \"\", \"\", \"\", \"\", \"\", \"\", \"\", \"\", \"\", \"\", \"\", \"\", \"\", \"\", \"\", \"\", \"\", \"\", \"\", \"\", \"\", \"\", \"\", \"\", \"\", \"\", \"\", \"\", \"\", \"\", \"\", \"\", \"\", \"\", \"\", \"\", \"\", \"\", \"\", \"\", \"\", \"\", \"\", \"\", \"\", \"\", \"\", \"\", \"\", \"\", \"\", \"\", \"\", \"\", \"\", \"\", \"\", \"\", \"\", \"\", \"\", \"\", \"\", \"\", \"\", \"\", \"\", \"\", \"\", \"\", \"\", \"\", \"\", \"\", \"\", \"\", \"\", \"\", \"\", \"\", \"\", \"\", \"\", \"\", \"\", \"\", \"\", \"\", \"\"], \"type\": \"treemap\", \"values\": [4.0, 2.0, 3.0, 1.0, 1.0, 11.0, 10.0, 29.0, 1.0, 1.0, 3.0, 12.0, 1.0, 1.0, 1.0, 1.0, 1.0, 1.0, 14.0, 4.0, 1.0, 4.0, 1.0, 2.0, 8.0, 5.0, 4.0, 46.0, 9.0, 2.0, 3.0, 1.0, 5.0, 9.0, 4.0, 3.0, 5.0, 1.0, 6.0, 1.0, 2.0, 12.0, 52.0, 34.0, 7.0, 7.0, 18.0, 22.0, 2.0, 1.0, 2.0, 2.0, 23.0, 1.0, 3.0, 2.0, 1.0, 2.0, 1.0, 1.0, 2.0, 1.0, 3.0, 6.0, 1.0, 11.0, 5.0, 23.0, 2.0, 21.0, 2.0, 5.0, 6.0, 2.0, 3.0, 2.0, 1.0, 1.0, 2.0, 13.0, 9.0, 4.0, 7.0, 19.0, 3.0, 1.0, 8.0, 1.0, 1.0, 4.0, 1.0, 4.0, 1.0, 3.0, 1.0, 3.0, 2.0, 4.0, 5.0, 9.0, 3.0, 2.0, 2.0, 2.0, 2.0, 2.0, 2.0, 5.0, 2.0, 4.0, 3.0, 2.0, 2.0, 2.0, 16.0, 7.0, 2.0, 1.0, 2.0, 3.0, 13.0, 2.0, 2.0, 1.0, 8.0, 2.0, 1.0, 6.0, 1.0, 9.0, 7.0, 2.0, 1.0, 6.0, 4.0, 8.0, 2.0, 4.0, 28.0, 5.0, 4.0, 6.0, 9.0, 4.0, 10.0, 18.0, 2.0, 6.0, 4.0, 5.0, 4.0, 5.0, 7.0, 3.0, 6.0, 3.0, 10.0, 5.0, 56.0, 2.0, 3.0, 4.0, 3.0, 3.0, 5.0, 8.0, 5.0, 3.0, 1.0, 13.0, 1.0, 5.0, 4.0, 2.0, 11.0, 1.0, 16.0, 1.0, 4.0, 10.0, 18.0, 1.0, 1.0, 1.0, 3.0, 5.0, 6.0, 1.0, 1.0, 3.0, 1.0, 2.0, 1.0, 2.0, 15.0, 11.0, 16.0, 3.0, 12.0, 5.0, 14.0, 1.0, 4.0, 1.0, 11.0, 1.0, 2.0, 1.0, 6.0, 2.0, 5.0, 20.0, 1.0, 1.0, 26.0, 5.0, 12.0, 6.0, 3.0, 6.0, 24.0, 31.0, 1.0, 8.0, 4.0, 15.0, 4.0, 17.0, 8.0, 3.0, 1.0, 1.0, 1.0, 9.0, 5.0, 5.0, 1.0, 5.0, 2.0, 1.0, 1.0, 2.0, 2.0, 8.0, 10.0, 14.0, 3.0, 2.0, 4.0, 1.0, 6.0, 1.0, 3.0, 22.0, 8.0, 8.0, 8.0, 5.0, 2.0, 3.0, 2.0, 2.0, 3.0, 1.0, 6.0, 3.0, 9.0, 13.0, 2.0, 2.0, 1.0, 4.0, 1.0, 2.0, 6.0, 10.0, 3.0, 4.0, 19.0, 5.0, 1.0, 4.0, 2.0, 20.0, 3.0, 3.0, 14.0, 12.0, 14.0, 14.0, 18.0, 3.0, 15.0, 1.0, 8.0, 15.0, 2.0, 4.0, 4.0, 4.0, 20.0, 14.0, 5.0, 1.0, 31.0, 8.0, 2.0, 6.0, 7.0, 4.0, 7.0, 4.0, 6.0, 1.0, 14.0, 9.0, 17.0, 2.0, 2.0, 5.0, 33.0, 5.0, 17.0, 18.0, 25.0, 93.0, 53.0, 3.0, 1.0, 1.0, 9.0, 3.0, 14.0, 1.0, 4.0, 4.0, 4.0, 3.0, 4.0, 2.0, 8.0, 1.0, 26.0, 3.0, 16.0, 1.0, 57.0, 61.0, 2.0, 2.0, 13.0, 3.0, 4.0, 64.0, 4.0, 4.0, 47.0, 29.0, 4.0, 2.0, 2.0, 6.0, 2.0, 17.0, 2.0, 1.0, 2.0, 1.0, 12.0, 12.0, 3.0, 11.0, 3.0, 12.0, 8.0, 6.0, 10.0, 12.0, 7.0, 1.0, 8.0, 6.0, 12.0, 2.0, 3.0, 9.0, 3.0, 5.0, 3.0, 4.0, 3.0, 3.0, 4.0, 3.0, 2.0, 3.0, 4.0, 7.0, 5.0, 1.0, 1.0, 2.0, 1.0, 9.0, 4.0, 6.0, 4.0, 16.0, 9.0, 4.0, 3.0, 8.0, 5.0, 4.0, 3.0, 1.0, 12.0, 3.0, 3.0, 3.0, 2.0, 2.0, 8.0, 1.0, 36.0, 5.0, 6.0, 4.0, 1.0, 1.0, 1.0, 4.0, 2.0, 4.0, 4.0, 23.0, 11.0, 1.0, 20.0, 1.0, 4.0, 2.0, 23.0, 13.0, 11.0, 13.0, 2.0, 2.0, 3.0, 1.0, 2.0, 4.0, 4.0, 5.0, 10.0, 1.0, 1.0, 4.0, 8.0, 5.0, 4.0, 3.0, 4.0, 48.0, 1.0, 10.0, 6.0, 1.0, 2.0, 7.0, 5.0, 1.0, 5.0, 6.0, 2.0, 7.0, 3.0, 6.0, 5.0, 1.0, 1.0, 1.0, 4.0, 5.0, 3.0, 1.0, 2.0, 5.0, 1.0, 3.0, 14.0, 1.0, 1.0, 1.0, 2.0, 6.0, 1.0, 2.0, 6.0, 7.0, 1.0, 9.0, 1.0, 1.0, 1.0, 14.0, 5.0, 2.0, 4.0, 4.0, 3.0, 5.0, 13.0, 3.0, 2.0, 1.0, 2.0, 5.0, 2.0, 21.0, 46.0, 2.0, 18.0, 4.0, 1.0, 1.0, 1.0, 9.0, 4.0, 2.0, 12.0, 1.0, 1.0, 1.0, 7.0, 3.0, 6.0, 2.0, 6.0, 2.0, 5.0, 5.0, 2.0, 2.0, 6.0, 4.0, 1.0, 8.0, 9.0, 5.0, 5.0, 4.0, 8.0, 7.0, 1.0, 4.0, 6.0, 31.0, 6.0, 5.0, 1.0, 5.0, 3.0, 24.0, 12.0, 2.0, 11.0, 2.0, 18.0, 7.0, 3.0, 6.0, 2.0, 5.0, 12.0, 1.0, 10.0, 1.0, 8.0, 3.0, 12.0, 11.0, 2.0, 5.0, 3.0, 6.0, 6.0, 18.0, 4.0, 6.0, 20.0, 2.0, 13.0, 12.0, 1.0, 18.0, 12.0, 4.0, 2.0, 4.0, 26.0, 6.0, 28.0, 3.0, 1.0, 6.0, 4.0, 4.0, 4.0, 3.0, 3.0, 14.0, 2.0, 2.0, 2.0, 1.0, 2.0, 4.0, 2.0, 3.0, 1.0, 2.0, 5.0, 16.0, 1.0, 3.0, 3.0, 2.0, 3.0, 8.0, 6.0, 2.0, 6.0, 1.0, 2.0, 6.0, 14.0, 10.0, 29.0, 1.0, 8.0, 3.0, 7.0, 11.0, 6.0, 1.0, 6.0, 6.0, 7.0, 4.0, 5.0, 2.0, 2.0, 3.0, 3.0, 4.0, 2.0, 3.0, 3.0, 42.0, 10.0, 4.0, 4.0, 3.0, 14.0, 43.0, 15.0, 29.0, 6.0, 2.0, 1.0, 6.0, 1.0, 10.0, 41.0, 12.0, 1.0, 23.0, 5.0, 3.0, 1.0, 1.0, 14.0, 3.0, 5.0, 3.0, 4.0, 9.0, 16.0, 4.0, 3.0, 14.0, 2.0, 1.0, 4.0, 1.0, 2.0, 7.0, 3.0, 12.0, 8.0, 5.0, 2.0, 7.0, 25.0, 44.0, 4.0, 2.0, 6.0, 2.0, 7.0, 1.0, 1.0, 2.0, 1.0, 1.0, 2.0, 1.0, 12.0, 1.0, 2.0, 5.0, 6.0, 61.0, 1.0, 4.0, 16.0, 8.0, 7.0, 15.0, 1.0, 4.0, 17.0, 6.0, 2.0, 2.0, 2.0, 2.0, 2.0, 1.0, 2.0, 4.0, 2.0, 2.0, 3.0, 9.0, 4.0, 15.0, 1.0, 5.0, 4.0, 59.0, 12.0, 1.0, 2.0, 8.0, 2.0, 5.0, 5.0, 37.0, 15.0, 2.0, 73.0, 1.0, 5.0, 5.0, 4.0, 7.0, 3.0, 59.0, 4.0, 10.0, 12.0, 3.0, 2.0, 5.0, 1.0, 3.0, 25.0, 3.0, 2.0, 6.0, 6.0, 9.0, 1.0, 1.0, 5.0, 3.0, 2.0, 5.0, 2.0, 8.0, 3.0, 7.0, 2.0, 2.0, 3.0, 3.0, 3.0, 4.0, 19.0, 1.0, 11.0, 16.0, 1.0, 9.0, 321.0, 14.0, 45.0, 69.0, 10.0, 4.0, 11.0, 1.0, 3.0, 3.0, 11.0, 3.0, 2.0, 1.0, 1.0, 1.0, 1.0, 21.0, 26.0, 1.0, 5.0, 2.0, 13.0, 9.0, 32.0, 16.0, 17.0, 11.0, 63.0, 17.0, 2.0, 56.0, 36.0, 2.0, 58.0, 2.0, 1.0, 95.0, 1.0, 1.0, 1.0, 2.0, 2.0, 4.0, 4.0, 2.0, 1.0, 23.0, 5.0, 2.0, 2.0, 2.0, 2.0, 2.0, 2.0, 6.0, 4.0, 9.0, 3.0, 1.0, 5.0, 6.0, 17.0, 2.0, 3.0, 42.0, 1.0, 6.0, 3.0, 5.0, 236.0, 4.0, 306.0, 4.0, 21.0, 106.0, 30.0, 29.0, 1.0, 1.0, 250.0, 19.0, 13.0, 2.0, 1.0, 9.0, 5.0, 4.0, 2.0, 17.0, 63.0, 2.0, 22.0, 8.0, 4.0, 37.0, 2.0, 22.0, 4.0, 62.0, 17.0, 2.0, 2.0, 10.0, 23.0, 3.0, 60.0, 2.0, 5.0, 2.0, 2.0, 2.0, 2.0, 2.0, 2.0, 2.0, 2.0, 2.0, 3.0, 2.0, 3.0, 2.0, 2.0, 2.0, 2.0, 3.0, 2.0, 2.0, 4.0, 3.0, 6.0, 1.0, 44.0, 11.0, 5.0, 1.0, 122.0, 258.0, 74.0, 72.0, 177.0, 66.0, 2.0, 36.0, 2.0, 2.0, 74.0, 36.0, 14.0, 16.0, 3.0, 358.0, 1.0, 1.0, 133.0, 3.0, 4.0, 1.0, 2.0, 1.0, 9.0, 3.0, 23.0, 2.0, 29.0, 30.0, 5.0, 49.0, 7.0, 2.0, 2.0, 2.0, 23.0, 10.0, 23.0, 1.0, 14.0, 51.0, 11.0, 53.0, 12.0, 5.0, 20.0, 3.0, 3.0, 33.0, 1.0, 1.0, 11.0, 4.0, 34.0, 4.0, 9.0, 49.0, 40.0, 20.0, 6.0, 1.0, 1.0, 2.0, 21.0, 2.0, 24.0, 3.0, 71.0, 3.0, 14.0, 47.0, 58.0, 58.0, 13.0, 23.0, 5.0, 13.0, 20.0, 28.0, 1.0, 3.0, 6.0, 2.0, 138.0, 58.0, 9.0, 54.0, 35.0, 19.0, 26.0, 5.0, 10.0, 3.0, 1.0, 27.0, 4.0, 38.0, 10.0, 1.0, 56.0, 50.0, 5.0, 26.0, 79.0, 6.0, 1.0, 37.0, 41.0, 278.0, 5.0, 26.0, 51.0, 13.0, 122.0, 3.0, 36.0, 2.0, 95.0, 5.0, 58.0, 8.0, 56.0, 10.0, 23.0, 2.0, 44.0, 58.0, 13.0, 4.0, 29.0, 11.0, 44.0, 3.0, 236.0, 10.0, 306.0, 19.0, 2.0, 152.0, 4.0, 121.0, 65.0, 1.0, 2.0, 2.0, 5.0, 2.0, 3.0, 60.0, 2.0, 11.0, 36.0, 6.0, 358.0, 8.0, 78.0, 6.0, 38.0, 73.0, 83.0, 3.0, 44.0, 2.0, 49.0, 2.0, 10.0, 20.0, 1.0, 23.0, 13.0, 4.0, 5.0, 10.0, 3.0, 33.0, 487.0, 4.0, 96.0, 13.0, 1.0, 174.0, 2.0, 2.0, 2.0, 8.0, 2.0, 2.0, 2.0, 8.0, 5.0, 12.0, 29.0, 53.0, 66.0, 560.0, 9.0, 3.0, 4.0, 3.0, 34.0, 4.0, 4.0, 9.0, 12.0, 738.0, 3.0, 50.0]}],                        {\"legend\": {\"tracegroupgap\": 0}, \"margin\": {\"t\": 60}, \"template\": {\"data\": {\"bar\": [{\"error_x\": {\"color\": \"#2a3f5f\"}, \"error_y\": {\"color\": \"#2a3f5f\"}, \"marker\": {\"line\": {\"color\": \"#E5ECF6\", \"width\": 0.5}}, \"type\": \"bar\"}], \"barpolar\": [{\"marker\": {\"line\": {\"color\": \"#E5ECF6\", \"width\": 0.5}}, \"type\": \"barpolar\"}], \"carpet\": [{\"aaxis\": {\"endlinecolor\": \"#2a3f5f\", \"gridcolor\": \"white\", \"linecolor\": \"white\", \"minorgridcolor\": \"white\", \"startlinecolor\": \"#2a3f5f\"}, \"baxis\": {\"endlinecolor\": \"#2a3f5f\", \"gridcolor\": \"white\", \"linecolor\": \"white\", \"minorgridcolor\": \"white\", \"startlinecolor\": \"#2a3f5f\"}, \"type\": \"carpet\"}], \"choropleth\": [{\"colorbar\": {\"outlinewidth\": 0, \"ticks\": \"\"}, \"type\": \"choropleth\"}], \"contour\": [{\"colorbar\": {\"outlinewidth\": 0, \"ticks\": \"\"}, \"colorscale\": [[0.0, \"#0d0887\"], [0.1111111111111111, \"#46039f\"], [0.2222222222222222, \"#7201a8\"], [0.3333333333333333, \"#9c179e\"], [0.4444444444444444, \"#bd3786\"], [0.5555555555555556, \"#d8576b\"], [0.6666666666666666, \"#ed7953\"], [0.7777777777777778, \"#fb9f3a\"], [0.8888888888888888, \"#fdca26\"], [1.0, \"#f0f921\"]], \"type\": \"contour\"}], \"contourcarpet\": [{\"colorbar\": {\"outlinewidth\": 0, \"ticks\": \"\"}, \"type\": \"contourcarpet\"}], \"heatmap\": [{\"colorbar\": {\"outlinewidth\": 0, \"ticks\": \"\"}, \"colorscale\": [[0.0, \"#0d0887\"], [0.1111111111111111, \"#46039f\"], [0.2222222222222222, \"#7201a8\"], [0.3333333333333333, \"#9c179e\"], [0.4444444444444444, \"#bd3786\"], [0.5555555555555556, \"#d8576b\"], [0.6666666666666666, \"#ed7953\"], [0.7777777777777778, \"#fb9f3a\"], [0.8888888888888888, \"#fdca26\"], [1.0, \"#f0f921\"]], \"type\": \"heatmap\"}], \"heatmapgl\": [{\"colorbar\": {\"outlinewidth\": 0, \"ticks\": \"\"}, \"colorscale\": [[0.0, \"#0d0887\"], [0.1111111111111111, \"#46039f\"], [0.2222222222222222, \"#7201a8\"], [0.3333333333333333, \"#9c179e\"], [0.4444444444444444, \"#bd3786\"], [0.5555555555555556, \"#d8576b\"], [0.6666666666666666, \"#ed7953\"], [0.7777777777777778, \"#fb9f3a\"], [0.8888888888888888, \"#fdca26\"], [1.0, \"#f0f921\"]], \"type\": \"heatmapgl\"}], \"histogram\": [{\"marker\": {\"colorbar\": {\"outlinewidth\": 0, \"ticks\": \"\"}}, \"type\": \"histogram\"}], \"histogram2d\": [{\"colorbar\": {\"outlinewidth\": 0, \"ticks\": \"\"}, \"colorscale\": [[0.0, \"#0d0887\"], [0.1111111111111111, \"#46039f\"], [0.2222222222222222, \"#7201a8\"], [0.3333333333333333, \"#9c179e\"], [0.4444444444444444, \"#bd3786\"], [0.5555555555555556, \"#d8576b\"], [0.6666666666666666, \"#ed7953\"], [0.7777777777777778, \"#fb9f3a\"], [0.8888888888888888, \"#fdca26\"], [1.0, \"#f0f921\"]], \"type\": \"histogram2d\"}], \"histogram2dcontour\": [{\"colorbar\": {\"outlinewidth\": 0, \"ticks\": \"\"}, \"colorscale\": [[0.0, \"#0d0887\"], [0.1111111111111111, \"#46039f\"], [0.2222222222222222, \"#7201a8\"], [0.3333333333333333, \"#9c179e\"], [0.4444444444444444, \"#bd3786\"], [0.5555555555555556, \"#d8576b\"], [0.6666666666666666, \"#ed7953\"], [0.7777777777777778, \"#fb9f3a\"], [0.8888888888888888, \"#fdca26\"], [1.0, \"#f0f921\"]], \"type\": \"histogram2dcontour\"}], \"mesh3d\": [{\"colorbar\": {\"outlinewidth\": 0, \"ticks\": \"\"}, \"type\": \"mesh3d\"}], \"parcoords\": [{\"line\": {\"colorbar\": {\"outlinewidth\": 0, \"ticks\": \"\"}}, \"type\": \"parcoords\"}], \"pie\": [{\"automargin\": true, \"type\": \"pie\"}], \"scatter\": [{\"marker\": {\"colorbar\": {\"outlinewidth\": 0, \"ticks\": \"\"}}, \"type\": \"scatter\"}], \"scatter3d\": [{\"line\": {\"colorbar\": {\"outlinewidth\": 0, \"ticks\": \"\"}}, \"marker\": {\"colorbar\": {\"outlinewidth\": 0, \"ticks\": \"\"}}, \"type\": \"scatter3d\"}], \"scattercarpet\": [{\"marker\": {\"colorbar\": {\"outlinewidth\": 0, \"ticks\": \"\"}}, \"type\": \"scattercarpet\"}], \"scattergeo\": [{\"marker\": {\"colorbar\": {\"outlinewidth\": 0, \"ticks\": \"\"}}, \"type\": \"scattergeo\"}], \"scattergl\": [{\"marker\": {\"colorbar\": {\"outlinewidth\": 0, \"ticks\": \"\"}}, \"type\": \"scattergl\"}], \"scattermapbox\": [{\"marker\": {\"colorbar\": {\"outlinewidth\": 0, \"ticks\": \"\"}}, \"type\": \"scattermapbox\"}], \"scatterpolar\": [{\"marker\": {\"colorbar\": {\"outlinewidth\": 0, \"ticks\": \"\"}}, \"type\": \"scatterpolar\"}], \"scatterpolargl\": [{\"marker\": {\"colorbar\": {\"outlinewidth\": 0, \"ticks\": \"\"}}, \"type\": \"scatterpolargl\"}], \"scatterternary\": [{\"marker\": {\"colorbar\": {\"outlinewidth\": 0, \"ticks\": \"\"}}, \"type\": \"scatterternary\"}], \"surface\": [{\"colorbar\": {\"outlinewidth\": 0, \"ticks\": \"\"}, \"colorscale\": [[0.0, \"#0d0887\"], [0.1111111111111111, \"#46039f\"], [0.2222222222222222, \"#7201a8\"], [0.3333333333333333, \"#9c179e\"], [0.4444444444444444, \"#bd3786\"], [0.5555555555555556, \"#d8576b\"], [0.6666666666666666, \"#ed7953\"], [0.7777777777777778, \"#fb9f3a\"], [0.8888888888888888, \"#fdca26\"], [1.0, \"#f0f921\"]], \"type\": \"surface\"}], \"table\": [{\"cells\": {\"fill\": {\"color\": \"#EBF0F8\"}, \"line\": {\"color\": \"white\"}}, \"header\": {\"fill\": {\"color\": \"#C8D4E3\"}, \"line\": {\"color\": \"white\"}}, \"type\": \"table\"}]}, \"layout\": {\"annotationdefaults\": {\"arrowcolor\": \"#2a3f5f\", \"arrowhead\": 0, \"arrowwidth\": 1}, \"coloraxis\": {\"colorbar\": {\"outlinewidth\": 0, \"ticks\": \"\"}}, \"colorscale\": {\"diverging\": [[0, \"#8e0152\"], [0.1, \"#c51b7d\"], [0.2, \"#de77ae\"], [0.3, \"#f1b6da\"], [0.4, \"#fde0ef\"], [0.5, \"#f7f7f7\"], [0.6, \"#e6f5d0\"], [0.7, \"#b8e186\"], [0.8, \"#7fbc41\"], [0.9, \"#4d9221\"], [1, \"#276419\"]], \"sequential\": [[0.0, \"#0d0887\"], [0.1111111111111111, \"#46039f\"], [0.2222222222222222, \"#7201a8\"], [0.3333333333333333, \"#9c179e\"], [0.4444444444444444, \"#bd3786\"], [0.5555555555555556, \"#d8576b\"], [0.6666666666666666, \"#ed7953\"], [0.7777777777777778, \"#fb9f3a\"], [0.8888888888888888, \"#fdca26\"], [1.0, \"#f0f921\"]], \"sequentialminus\": [[0.0, \"#0d0887\"], [0.1111111111111111, \"#46039f\"], [0.2222222222222222, \"#7201a8\"], [0.3333333333333333, \"#9c179e\"], [0.4444444444444444, \"#bd3786\"], [0.5555555555555556, \"#d8576b\"], [0.6666666666666666, \"#ed7953\"], [0.7777777777777778, \"#fb9f3a\"], [0.8888888888888888, \"#fdca26\"], [1.0, \"#f0f921\"]]}, \"colorway\": [\"#636efa\", \"#EF553B\", \"#00cc96\", \"#ab63fa\", \"#FFA15A\", \"#19d3f3\", \"#FF6692\", \"#B6E880\", \"#FF97FF\", \"#FECB52\"], \"font\": {\"color\": \"#2a3f5f\"}, \"geo\": {\"bgcolor\": \"white\", \"lakecolor\": \"white\", \"landcolor\": \"#E5ECF6\", \"showlakes\": true, \"showland\": true, \"subunitcolor\": \"white\"}, \"hoverlabel\": {\"align\": \"left\"}, \"hovermode\": \"closest\", \"mapbox\": {\"style\": \"light\"}, \"paper_bgcolor\": \"white\", \"plot_bgcolor\": \"#E5ECF6\", \"polar\": {\"angularaxis\": {\"gridcolor\": \"white\", \"linecolor\": \"white\", \"ticks\": \"\"}, \"bgcolor\": \"#E5ECF6\", \"radialaxis\": {\"gridcolor\": \"white\", \"linecolor\": \"white\", \"ticks\": \"\"}}, \"scene\": {\"xaxis\": {\"backgroundcolor\": \"#E5ECF6\", \"gridcolor\": \"white\", \"gridwidth\": 2, \"linecolor\": \"white\", \"showbackground\": true, \"ticks\": \"\", \"zerolinecolor\": \"white\"}, \"yaxis\": {\"backgroundcolor\": \"#E5ECF6\", \"gridcolor\": \"white\", \"gridwidth\": 2, \"linecolor\": \"white\", \"showbackground\": true, \"ticks\": \"\", \"zerolinecolor\": \"white\"}, \"zaxis\": {\"backgroundcolor\": \"#E5ECF6\", \"gridcolor\": \"white\", \"gridwidth\": 2, \"linecolor\": \"white\", \"showbackground\": true, \"ticks\": \"\", \"zerolinecolor\": \"white\"}}, \"shapedefaults\": {\"line\": {\"color\": \"#2a3f5f\"}}, \"ternary\": {\"aaxis\": {\"gridcolor\": \"white\", \"linecolor\": \"white\", \"ticks\": \"\"}, \"baxis\": {\"gridcolor\": \"white\", \"linecolor\": \"white\", \"ticks\": \"\"}, \"bgcolor\": \"#E5ECF6\", \"caxis\": {\"gridcolor\": \"white\", \"linecolor\": \"white\", \"ticks\": \"\"}}, \"title\": {\"x\": 0.05}, \"xaxis\": {\"automargin\": true, \"gridcolor\": \"white\", \"linecolor\": \"white\", \"ticks\": \"\", \"title\": {\"standoff\": 15}, \"zerolinecolor\": \"white\", \"zerolinewidth\": 2}, \"yaxis\": {\"automargin\": true, \"gridcolor\": \"white\", \"linecolor\": \"white\", \"ticks\": \"\", \"title\": {\"standoff\": 15}, \"zerolinecolor\": \"white\", \"zerolinewidth\": 2}}}},                        {\"scrollZoom\": true, \"responsive\": true}                    ).then(function(){\n",
       "                            \n",
       "var gd = document.getElementById('5aa2d09b-fe63-4ef4-9391-2459f12fec9e');\n",
       "var x = new MutationObserver(function (mutations, observer) {{\n",
       "        var display = window.getComputedStyle(gd).display;\n",
       "        if (!display || display === 'none') {{\n",
       "            console.log([gd, 'removed!']);\n",
       "            Plotly.purge(gd);\n",
       "            observer.disconnect();\n",
       "        }}\n",
       "}});\n",
       "\n",
       "// Listen for the removal of the full notebook cells\n",
       "var notebookContainer = gd.closest('#notebook-container');\n",
       "if (notebookContainer) {{\n",
       "    x.observe(notebookContainer, {childList: true});\n",
       "}}\n",
       "\n",
       "// Listen for the clearing of the current output cell\n",
       "var outputEl = gd.closest('.output');\n",
       "if (outputEl) {{\n",
       "    x.observe(outputEl, {childList: true});\n",
       "}}\n",
       "\n",
       "                        })                };                });            </script>        </div>"
      ]
     },
     "metadata": {},
     "output_type": "display_data"
    }
   ],
   "source": [
    "import plotly.express as px\n",
    "\n",
    "config = dict({'scrollZoom': True})\n",
    "\n",
    "fig = px.treemap(data_class, path=['Parent_class', 'Class', 'Method'], values='LOC', color='CLevel',\n",
    "                  color_discrete_map={'(?)':'black', 'low':'blue', 'regular':'yellow', 'high':'red'})\n",
    "fig.show(config=config)"
   ]
  },
  {
   "cell_type": "code",
   "execution_count": 38,
   "metadata": {},
   "outputs": [
    {
     "ename": "KeyError",
     "evalue": "\"None of [Index(['CLevel'], dtype='object')] are in the [columns]\"",
     "output_type": "error",
     "traceback": [
      "\u001B[1;31m---------------------------------------------------------------------------\u001B[0m",
      "\u001B[1;31mKeyError\u001B[0m                                  Traceback (most recent call last)",
      "\u001B[1;32m<ipython-input-38-308979f31b7f>\u001B[0m in \u001B[0;36m<module>\u001B[1;34m\u001B[0m\n\u001B[1;32m----> 1\u001B[1;33m \u001B[0mordered_scaled_data\u001B[0m\u001B[1;33m.\u001B[0m\u001B[0mboxplot\u001B[0m\u001B[1;33m(\u001B[0m\u001B[0mcolumn\u001B[0m\u001B[1;33m=\u001B[0m\u001B[1;34m'CLevel'\u001B[0m\u001B[1;33m)\u001B[0m\u001B[1;33m\u001B[0m\u001B[1;33m\u001B[0m\u001B[0m\n\u001B[0m",
      "\u001B[1;32mc:\\users\\aprodea\\work\\code-analyze\\venv\\lib\\site-packages\\pandas\\plotting\\_core.py\u001B[0m in \u001B[0;36mboxplot_frame\u001B[1;34m(self, column, by, ax, fontsize, rot, grid, figsize, layout, return_type, backend, **kwargs)\u001B[0m\n\u001B[0;32m    492\u001B[0m ):\n\u001B[0;32m    493\u001B[0m     \u001B[0mplot_backend\u001B[0m \u001B[1;33m=\u001B[0m \u001B[0m_get_plot_backend\u001B[0m\u001B[1;33m(\u001B[0m\u001B[0mbackend\u001B[0m\u001B[1;33m)\u001B[0m\u001B[1;33m\u001B[0m\u001B[1;33m\u001B[0m\u001B[0m\n\u001B[1;32m--> 494\u001B[1;33m     return plot_backend.boxplot_frame(\n\u001B[0m\u001B[0;32m    495\u001B[0m         \u001B[0mself\u001B[0m\u001B[1;33m,\u001B[0m\u001B[1;33m\u001B[0m\u001B[1;33m\u001B[0m\u001B[0m\n\u001B[0;32m    496\u001B[0m         \u001B[0mcolumn\u001B[0m\u001B[1;33m=\u001B[0m\u001B[0mcolumn\u001B[0m\u001B[1;33m,\u001B[0m\u001B[1;33m\u001B[0m\u001B[1;33m\u001B[0m\u001B[0m\n",
      "\u001B[1;32mc:\\users\\aprodea\\work\\code-analyze\\venv\\lib\\site-packages\\pandas\\plotting\\_matplotlib\\boxplot.py\u001B[0m in \u001B[0;36mboxplot_frame\u001B[1;34m(self, column, by, ax, fontsize, rot, grid, figsize, layout, return_type, **kwds)\u001B[0m\n\u001B[0;32m    378\u001B[0m     \u001B[1;32mimport\u001B[0m \u001B[0mmatplotlib\u001B[0m\u001B[1;33m.\u001B[0m\u001B[0mpyplot\u001B[0m \u001B[1;32mas\u001B[0m \u001B[0mplt\u001B[0m\u001B[1;33m\u001B[0m\u001B[1;33m\u001B[0m\u001B[0m\n\u001B[0;32m    379\u001B[0m \u001B[1;33m\u001B[0m\u001B[0m\n\u001B[1;32m--> 380\u001B[1;33m     ax = boxplot(\n\u001B[0m\u001B[0;32m    381\u001B[0m         \u001B[0mself\u001B[0m\u001B[1;33m,\u001B[0m\u001B[1;33m\u001B[0m\u001B[1;33m\u001B[0m\u001B[0m\n\u001B[0;32m    382\u001B[0m         \u001B[0mcolumn\u001B[0m\u001B[1;33m=\u001B[0m\u001B[0mcolumn\u001B[0m\u001B[1;33m,\u001B[0m\u001B[1;33m\u001B[0m\u001B[1;33m\u001B[0m\u001B[0m\n",
      "\u001B[1;32mc:\\users\\aprodea\\work\\code-analyze\\venv\\lib\\site-packages\\pandas\\plotting\\_matplotlib\\boxplot.py\u001B[0m in \u001B[0;36mboxplot\u001B[1;34m(data, column, by, ax, fontsize, rot, grid, figsize, layout, return_type, **kwds)\u001B[0m\n\u001B[0;32m    355\u001B[0m             \u001B[0mcolumns\u001B[0m \u001B[1;33m=\u001B[0m \u001B[0mdata\u001B[0m\u001B[1;33m.\u001B[0m\u001B[0mcolumns\u001B[0m\u001B[1;33m\u001B[0m\u001B[1;33m\u001B[0m\u001B[0m\n\u001B[0;32m    356\u001B[0m         \u001B[1;32melse\u001B[0m\u001B[1;33m:\u001B[0m\u001B[1;33m\u001B[0m\u001B[1;33m\u001B[0m\u001B[0m\n\u001B[1;32m--> 357\u001B[1;33m             \u001B[0mdata\u001B[0m \u001B[1;33m=\u001B[0m \u001B[0mdata\u001B[0m\u001B[1;33m[\u001B[0m\u001B[0mcolumns\u001B[0m\u001B[1;33m]\u001B[0m\u001B[1;33m\u001B[0m\u001B[1;33m\u001B[0m\u001B[0m\n\u001B[0m\u001B[0;32m    358\u001B[0m \u001B[1;33m\u001B[0m\u001B[0m\n\u001B[0;32m    359\u001B[0m         \u001B[0mresult\u001B[0m \u001B[1;33m=\u001B[0m \u001B[0mplot_group\u001B[0m\u001B[1;33m(\u001B[0m\u001B[0mcolumns\u001B[0m\u001B[1;33m,\u001B[0m \u001B[0mdata\u001B[0m\u001B[1;33m.\u001B[0m\u001B[0mvalues\u001B[0m\u001B[1;33m.\u001B[0m\u001B[0mT\u001B[0m\u001B[1;33m,\u001B[0m \u001B[0max\u001B[0m\u001B[1;33m)\u001B[0m\u001B[1;33m\u001B[0m\u001B[1;33m\u001B[0m\u001B[0m\n",
      "\u001B[1;32mc:\\users\\aprodea\\work\\code-analyze\\venv\\lib\\site-packages\\pandas\\core\\frame.py\u001B[0m in \u001B[0;36m__getitem__\u001B[1;34m(self, key)\u001B[0m\n\u001B[0;32m   2906\u001B[0m             \u001B[1;32mif\u001B[0m \u001B[0mis_iterator\u001B[0m\u001B[1;33m(\u001B[0m\u001B[0mkey\u001B[0m\u001B[1;33m)\u001B[0m\u001B[1;33m:\u001B[0m\u001B[1;33m\u001B[0m\u001B[1;33m\u001B[0m\u001B[0m\n\u001B[0;32m   2907\u001B[0m                 \u001B[0mkey\u001B[0m \u001B[1;33m=\u001B[0m \u001B[0mlist\u001B[0m\u001B[1;33m(\u001B[0m\u001B[0mkey\u001B[0m\u001B[1;33m)\u001B[0m\u001B[1;33m\u001B[0m\u001B[1;33m\u001B[0m\u001B[0m\n\u001B[1;32m-> 2908\u001B[1;33m             \u001B[0mindexer\u001B[0m \u001B[1;33m=\u001B[0m \u001B[0mself\u001B[0m\u001B[1;33m.\u001B[0m\u001B[0mloc\u001B[0m\u001B[1;33m.\u001B[0m\u001B[0m_get_listlike_indexer\u001B[0m\u001B[1;33m(\u001B[0m\u001B[0mkey\u001B[0m\u001B[1;33m,\u001B[0m \u001B[0maxis\u001B[0m\u001B[1;33m=\u001B[0m\u001B[1;36m1\u001B[0m\u001B[1;33m,\u001B[0m \u001B[0mraise_missing\u001B[0m\u001B[1;33m=\u001B[0m\u001B[1;32mTrue\u001B[0m\u001B[1;33m)\u001B[0m\u001B[1;33m[\u001B[0m\u001B[1;36m1\u001B[0m\u001B[1;33m]\u001B[0m\u001B[1;33m\u001B[0m\u001B[1;33m\u001B[0m\u001B[0m\n\u001B[0m\u001B[0;32m   2909\u001B[0m \u001B[1;33m\u001B[0m\u001B[0m\n\u001B[0;32m   2910\u001B[0m         \u001B[1;31m# take() does not accept boolean indexers\u001B[0m\u001B[1;33m\u001B[0m\u001B[1;33m\u001B[0m\u001B[1;33m\u001B[0m\u001B[0m\n",
      "\u001B[1;32mc:\\users\\aprodea\\work\\code-analyze\\venv\\lib\\site-packages\\pandas\\core\\indexing.py\u001B[0m in \u001B[0;36m_get_listlike_indexer\u001B[1;34m(self, key, axis, raise_missing)\u001B[0m\n\u001B[0;32m   1252\u001B[0m             \u001B[0mkeyarr\u001B[0m\u001B[1;33m,\u001B[0m \u001B[0mindexer\u001B[0m\u001B[1;33m,\u001B[0m \u001B[0mnew_indexer\u001B[0m \u001B[1;33m=\u001B[0m \u001B[0max\u001B[0m\u001B[1;33m.\u001B[0m\u001B[0m_reindex_non_unique\u001B[0m\u001B[1;33m(\u001B[0m\u001B[0mkeyarr\u001B[0m\u001B[1;33m)\u001B[0m\u001B[1;33m\u001B[0m\u001B[1;33m\u001B[0m\u001B[0m\n\u001B[0;32m   1253\u001B[0m \u001B[1;33m\u001B[0m\u001B[0m\n\u001B[1;32m-> 1254\u001B[1;33m         \u001B[0mself\u001B[0m\u001B[1;33m.\u001B[0m\u001B[0m_validate_read_indexer\u001B[0m\u001B[1;33m(\u001B[0m\u001B[0mkeyarr\u001B[0m\u001B[1;33m,\u001B[0m \u001B[0mindexer\u001B[0m\u001B[1;33m,\u001B[0m \u001B[0maxis\u001B[0m\u001B[1;33m,\u001B[0m \u001B[0mraise_missing\u001B[0m\u001B[1;33m=\u001B[0m\u001B[0mraise_missing\u001B[0m\u001B[1;33m)\u001B[0m\u001B[1;33m\u001B[0m\u001B[1;33m\u001B[0m\u001B[0m\n\u001B[0m\u001B[0;32m   1255\u001B[0m         \u001B[1;32mreturn\u001B[0m \u001B[0mkeyarr\u001B[0m\u001B[1;33m,\u001B[0m \u001B[0mindexer\u001B[0m\u001B[1;33m\u001B[0m\u001B[1;33m\u001B[0m\u001B[0m\n\u001B[0;32m   1256\u001B[0m \u001B[1;33m\u001B[0m\u001B[0m\n",
      "\u001B[1;32mc:\\users\\aprodea\\work\\code-analyze\\venv\\lib\\site-packages\\pandas\\core\\indexing.py\u001B[0m in \u001B[0;36m_validate_read_indexer\u001B[1;34m(self, key, indexer, axis, raise_missing)\u001B[0m\n\u001B[0;32m   1296\u001B[0m             \u001B[1;32mif\u001B[0m \u001B[0mmissing\u001B[0m \u001B[1;33m==\u001B[0m \u001B[0mlen\u001B[0m\u001B[1;33m(\u001B[0m\u001B[0mindexer\u001B[0m\u001B[1;33m)\u001B[0m\u001B[1;33m:\u001B[0m\u001B[1;33m\u001B[0m\u001B[1;33m\u001B[0m\u001B[0m\n\u001B[0;32m   1297\u001B[0m                 \u001B[0maxis_name\u001B[0m \u001B[1;33m=\u001B[0m \u001B[0mself\u001B[0m\u001B[1;33m.\u001B[0m\u001B[0mobj\u001B[0m\u001B[1;33m.\u001B[0m\u001B[0m_get_axis_name\u001B[0m\u001B[1;33m(\u001B[0m\u001B[0maxis\u001B[0m\u001B[1;33m)\u001B[0m\u001B[1;33m\u001B[0m\u001B[1;33m\u001B[0m\u001B[0m\n\u001B[1;32m-> 1298\u001B[1;33m                 \u001B[1;32mraise\u001B[0m \u001B[0mKeyError\u001B[0m\u001B[1;33m(\u001B[0m\u001B[1;34mf\"None of [{key}] are in the [{axis_name}]\"\u001B[0m\u001B[1;33m)\u001B[0m\u001B[1;33m\u001B[0m\u001B[1;33m\u001B[0m\u001B[0m\n\u001B[0m\u001B[0;32m   1299\u001B[0m \u001B[1;33m\u001B[0m\u001B[0m\n\u001B[0;32m   1300\u001B[0m             \u001B[1;31m# We (temporarily) allow for some missing keys with .loc, except in\u001B[0m\u001B[1;33m\u001B[0m\u001B[1;33m\u001B[0m\u001B[1;33m\u001B[0m\u001B[0m\n",
      "\u001B[1;31mKeyError\u001B[0m: \"None of [Index(['CLevel'], dtype='object')] are in the [columns]\""
     ]
    },
    {
     "data": {
      "image/png": "[encoded data removed]",
      "text/plain": [
       "<Figure size 432x288 with 1 Axes>"
      ]
     },
     "metadata": {
      "needs_background": "light"
     },
     "output_type": "display_data"
    }
   ],
   "source": [
    "ordered_scaled_data.boxplot(column='CLevel')"
   ]
  }
 ],
 "metadata": {
  "kernelspec": {
   "display_name": "Python 3",
   "language": "python",
   "name": "python3"
  },
  "language_info": {
   "codemirror_mode": {
    "name": "ipython",
    "version": 3
   },
   "file_extension": ".py",
   "mimetype": "text/x-python",
   "name": "python",
   "nbconvert_exporter": "python",
   "pygments_lexer": "ipython3",
   "version": "3.8.5"
  }
 },
 "nbformat": 4,
 "nbformat_minor": 4
}