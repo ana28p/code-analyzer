{
 "cells": [
  {
   "cell_type": "code",
   "execution_count": null,
   "metadata": {},
   "outputs": [],
   "source": [
    "import csv\n",
    "from xml.etree import ElementTree\n",
    "import pandas as pd\n",
    "from sklearn import preprocessing\n",
    "import matplotlib.pyplot as plt\n",
    "import numpy as np\n",
    "import os\n",
    "from matplotlib.ticker import StrMethodFormatter\n",
    "import statsmodels.api as sm\n",
    "import matplotlib.pyplot as plt\n",
    "import scipy.stats as stats\n",
    "from pyclustertend import hopkins, vat, assess_tendency_by_mean_metric_score\n",
    "from sklearn.preprocessing import scale, MinMaxScaler, minmax_scale, RobustScaler,robust_scale\n",
    "from sklearn.cluster import KMeans\n",
    "from sklearn.metrics import silhouette_score\n",
    "import seaborn as sns"
   ]
  },
  {
   "cell_type": "code",
   "execution_count": null,
   "metadata": {},
   "outputs": [],
   "source": [
    "# the csv containing all the labels\n",
    "data_file = \"/classification/2_all_labels.csv\"\n",
    "\n",
    "var_list = ['LOC', 'CC', 'NP', 'NV', 'NEST', 'Ca', 'Ce', 'NChg', 'NCall']\n",
    "label_list = ['CLevel_threshold', 'CLevel_k_means', 'CLevel_em']\n",
    "\n",
    "plots_save_to_location = \"/classification/plots_1\"\n",
    "chg_lines_file = \"/changed_lines.csv\""
   ]
  },
  {
   "cell_type": "code",
   "execution_count": null,
   "metadata": {},
   "outputs": [],
   "source": [
    "data = pd.read_csv(data_file, sep=';')\n",
    "data"
   ]
  },
  {
   "cell_type": "code",
   "execution_count": null,
   "metadata": {},
   "outputs": [],
   "source": [
    "data['LOC'].sum()"
   ]
  },
  {
   "cell_type": "code",
   "execution_count": null,
   "metadata": {},
   "outputs": [],
   "source": [
    "scaled_data = data.copy()\n",
    "\n",
    "for col_name in var_list:\n",
    "    col = scaled_data[col_name]\n",
    "    min_col, max_col = col.min(), col.max()\n",
    "    scaled_data[col_name] = (col - min_col) / (max_col - min_col)\n",
    "    \n",
    "scaled_data"
   ]
  },
  {
   "cell_type": "code",
   "execution_count": null,
   "metadata": {},
   "outputs": [],
   "source": [
    "melted_data = scaled_data.copy()\n",
    "melted_data = pd.melt(melted_data, id_vars=['Method', 'CLevel_threshold', 'CLevel_k_means', 'CLevel_em'], value_vars=var_list)\n",
    "melted_data"
   ]
  },
  {
   "cell_type": "code",
   "execution_count": null,
   "metadata": {},
   "outputs": [],
   "source": [
    "fig, ax = plt.subplots(figsize=(10,5), dpi= 80)\n",
    "sns.stripplot(data=melted_data, x='variable', y='value', hue='CLevel_threshold',\n",
    "              palette={'low':'blue', 'regular':'#DCB732', 'high':'red'},\n",
    "              hue_order=[\"low\", \"regular\", \"high\"],\n",
    "              jitter=0.25, size=8, ax=ax, linewidth=.5, dodge=True)\n",
    "\n",
    "print(\"Threshold clustering\")\n",
    "# plt.show()\n",
    "plt.savefig(plots_save_to_location + '/melted_threshold', bbox_inches = 'tight', pad_inches = 0)"
   ]
  },
  {
   "cell_type": "code",
   "execution_count": null,
   "metadata": {},
   "outputs": [],
   "source": [
    "fig, ax = plt.subplots(figsize=(10,5), dpi= 80)\n",
    "sns.stripplot(data=melted_data, x='variable', y='value', hue='CLevel_k_means',\n",
    "              palette={'low':'blue', 'regular':'#DCB732', 'high':'red'},\n",
    "              hue_order=[\"low\", \"regular\", \"high\"],\n",
    "              jitter=0.25, size=8, ax=ax, linewidth=.5, dodge=True)\n",
    "\n",
    "print(\"k-means clustering\")\n",
    "# plt.show()\n",
    "plt.savefig(plots_save_to_location + '/melted_k_means', bbox_inches = 'tight', pad_inches = 0)"
   ]
  },
  {
   "cell_type": "code",
   "execution_count": null,
   "metadata": {},
   "outputs": [],
   "source": [
    "fig, ax = plt.subplots(figsize=(10,5), dpi= 80)\n",
    "sns.stripplot(data=melted_data, x='variable', y='value', hue='CLevel_em',\n",
    "              palette={'low':'blue', 'regular':'#DCB732', 'high':'red'},\n",
    "              hue_order=[\"low\", \"regular\", \"high\"],\n",
    "              jitter=0.25, size=8, ax=ax, linewidth=.5, dodge=True)\n",
    "\n",
    "print(\"EM clustering\")\n",
    "# plt.show()\n",
    "plt.savefig(plots_save_to_location + '/melted_em', bbox_inches = 'tight', pad_inches = 0)"
   ]
  },
  {
   "cell_type": "markdown",
   "metadata": {},
   "source": [
    "# Validation"
   ]
  },
  {
   "cell_type": "code",
   "execution_count": null,
   "metadata": {},
   "outputs": [],
   "source": [
    "chg_lines_data = pd.read_csv(chg_lines_file, sep=';')\n",
    "chg_lines_data"
   ]
  },
  {
   "cell_type": "code",
   "execution_count": null,
   "metadata": {},
   "outputs": [],
   "source": [
    "df = pd.merge(data, chg_lines_data[['Previous_Method_Parsed', 'ChgLines']], how='inner', left_on='Method', right_on='Previous_Method_Parsed')\n",
    "df"
   ]
  },
  {
   "cell_type": "code",
   "execution_count": null,
   "metadata": {},
   "outputs": [],
   "source": [
    "df.isna().sum()"
   ]
  },
  {
   "cell_type": "code",
   "execution_count": null,
   "metadata": {},
   "outputs": [],
   "source": [
    "custom_dict = {'low': 0, 'regular': 1, 'high': 3}"
   ]
  },
  {
   "cell_type": "code",
   "execution_count": null,
   "metadata": {},
   "outputs": [],
   "source": [
    "sub_df1 = df[['Method','CLevel_threshold', 'ChgLines']]\n",
    "sub_df1 = sub_df1.sort_values(by=['CLevel_threshold'], key=lambda x: x.map(custom_dict), ignore_index=True)\n",
    "sub_df1['method_idx'] = sub_df1.index\n",
    "\n",
    "fig, ax = plt.subplots(figsize=(10,5), dpi= 80)\n",
    "sns.scatterplot(data=sub_df1, x=\"method_idx\", y=\"ChgLines\", hue=\"CLevel_threshold\", \n",
    "                palette={'low':'blue', 'regular':'#DCB732', 'high':'red'})\n",
    "plt.legend(loc='upper left')\n",
    "plt.savefig(plots_save_to_location + '/chg-lines_threshold', bbox_inches = 'tight', pad_inches = 0)"
   ]
  },
  {
   "cell_type": "code",
   "execution_count": null,
   "metadata": {},
   "outputs": [],
   "source": [
    "sub_df2 = df[['Method', 'CLevel_k_means', 'ChgLines']]\n",
    "sub_df2 = sub_df2.sort_values(by=['CLevel_k_means'], key=lambda x: x.map(custom_dict), ignore_index=True)\n",
    "sub_df2['method_idx'] = sub_df2.index\n",
    "\n",
    "fig, ax = plt.subplots(figsize=(10,5), dpi= 80)\n",
    "sns.scatterplot(data=sub_df2, x=\"method_idx\", y=\"ChgLines\", hue=\"CLevel_k_means\", \n",
    "                palette={'low':'blue', 'regular':'#DCB732', 'high':'red'})\n",
    "plt.legend(loc='upper left')\n",
    "plt.savefig(plots_save_to_location + '/chg-lines_k_means', bbox_inches = 'tight', pad_inches = 0)"
   ]
  },
  {
   "cell_type": "code",
   "execution_count": null,
   "metadata": {},
   "outputs": [],
   "source": [
    "sub_df3 = df[['Method', 'CLevel_em', 'ChgLines']]\n",
    "sub_df3 = sub_df3.sort_values(by=['CLevel_em'], key=lambda x: x.map(custom_dict), ignore_index=True)\n",
    "sub_df3['method_idx'] = sub_df3.index\n",
    "\n",
    "fig, ax = plt.subplots(figsize=(10,5), dpi= 80)\n",
    "sns.scatterplot(data=sub_df3, x=\"method_idx\", y=\"ChgLines\", hue=\"CLevel_em\", \n",
    "                palette={'low':'blue', 'regular':'#DCB732', 'high':'red'})\n",
    "plt.legend(loc='upper left')\n",
    "plt.savefig(plots_save_to_location + '/chg-lines_em', bbox_inches = 'tight', pad_inches = 0)"
   ]
  },
  {
   "cell_type": "code",
   "execution_count": null,
   "metadata": {},
   "outputs": [],
   "source": []
  },
  {
   "cell_type": "code",
   "execution_count": null,
   "metadata": {},
   "outputs": [],
   "source": []
  }
 ],
 "metadata": {
  "kernelspec": {
   "display_name": "Python 3",
   "language": "python",
   "name": "python3"
  },
  "language_info": {
   "codemirror_mode": {
    "name": "ipython",
    "version": 3
   },
   "file_extension": ".py",
   "mimetype": "text/x-python",
   "name": "python",
   "nbconvert_exporter": "python",
   "pygments_lexer": "ipython3",
   "version": "3.7.2"
  }
 },
 "nbformat": 4,
 "nbformat_minor": 4
}
